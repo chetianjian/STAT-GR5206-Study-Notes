{
 "cells": [
  {
   "cell_type": "markdown",
   "id": "4405aa21",
   "metadata": {},
   "source": [
    "# Lecture 9: Basic Introduction to Tidyverse\n",
    "The tidyverse is an opinionated collection of R packages designed for data science. All packages share an underlying philosophy and common APIs.\n",
    "\n",
    "## Tidyverse\n",
    "* dplyr: data manipulation\n",
    "* ggplot2: creating advanced graphics\n",
    "* readr: importing data\n",
    "* tibble: A tibble, or tbl_df, is a modern reimagining of the dataframe.\n",
    "* tidyr: creating tidy data.\n",
    "* purrr: enhancing R’s functional programming (FP).\n",
    "\n",
    "### tidyverse and a few other topics\n",
    "* readr: 使import数据更快且更节省内存\n",
    "* tibble: tibble是重塑dataframe的新方法\n",
    "* data.table: 处理极大的数据集 (not assessed)\n",
    "* Review of the Split/Apply/Combine model and the plyr package\n",
    "* purrr: 提高了R的函数式编程能力(funcitonal programming, FP)\n",
    "\n",
    "* stringr: 处理字符串更统一的(cohesive)操作\n",
    "* rvest: 网络爬虫(webscraping)的替代方法(not assessed)\n",
    "* reshape2: Reshape the data(next tidy slides)\n",
    "* tidyr: 数据清洗 (next tidy slides)\n",
    "\n",
    "### Why use the tidyverse?\n",
    "tidyverse中的所有库和函数都是为了满足以下两个目的：\n",
    "1. 提供实现Base R函数的更快更高效的方法。\n",
    "2. 语法更规整简单"
   ]
  },
  {
   "cell_type": "markdown",
   "id": "fdf54f4a",
   "metadata": {},
   "source": [
    "# Section 1: Importing Data with Base R, readr, and fread\n",
    "\n",
    "## readr\n",
    "* tidyverse的一部分，比起Base R，readr拥有读取表格式(tabular)数据更快的框架。\n",
    "* readr函数使用下划线而并非句号。\n",
    "* 比起Base R，readr能够读写更多的文件类型。\n",
    "* 可以读取非表格式数据。\n",
    "\n",
    "## fread\n",
    "* fread并非是tidyverse的一部分，却是data.table package的一部分。但它的速度比Base R与readr显著更快。data.table越来越受欢迎。"
   ]
  },
  {
   "cell_type": "code",
   "execution_count": 1,
   "id": "8243a722",
   "metadata": {},
   "outputs": [],
   "source": [
    "options(warn = -1)\n",
    "library(rbenchmark)\n",
    "library(readr)\n",
    "library(data.table)\n",
    "# options(readr.num_columns=0)\n",
    "#\n",
    "# benchmark(\"base R\" = {\n",
    "#     df <- read.csv(\"diamonds.csv\")},\n",
    "#         \"readr\" = {\n",
    "#     df <- read_csv(\"diamonds.csv\")},\n",
    "#         \"fread\" = {\n",
    "#     df <- fread(\"diamonds.csv\")},\n",
    "#   columns=c(\"test\",\"elapsed\"), order=\"elapsed\")\n",
    "df <- fread(\"diamonds.csv\")"
   ]
  },
  {
   "cell_type": "markdown",
   "id": "d0cd4c4f",
   "metadata": {},
   "source": [
    "## Other readr functions\n",
    "### read_tsv `read_tsv(\"file.tsv\")`\n",
    "\n",
    "    读取不被Base R支持的数据类型，例如tab-separated values。\n",
    "\n",
    "### write_excel_csv `write_excel_csv(df,\"diamonds.csv\")`\n",
    "\n",
    "    readr的`write.csv()`函数。比Base R的`write.csv()`快一倍。\n",
    "\n",
    "\n",
    "### read_lines `read_lines(\"file.txt\")`\n",
    "\n",
    "    readr也可以支持非表格式数据(non-tabular data)，`read_lines`使文件的每一行分别被读取为其字符串形式。"
   ]
  },
  {
   "cell_type": "markdown",
   "id": "4f7d1e87",
   "metadata": {},
   "source": [
    "# Section 2: Piping with magrittr\n",
    "\n",
    "### Piping是什么？\n",
    "* magrittr package提供了R语言中最广泛使用的函数:`%>%`，也称作\"Pipe\"。\n",
    "\n",
    "\n",
    "* 在许多个函数嵌套中执行某个操作常常使代码变得难以理解，尤其是从内而外地理解代码的意思。Pipe通过使函数按照它们执行的顺序排列，使代码更具有可读性。\n",
    "\n",
    "\n",
    "* magrittr package在大多数tidyverse package中都会被自动加载。\n",
    "\n",
    "### Example: \n",
    "Suppose we wished to know the slope obtained from regressing a\n",
    "diamond's carat on its price, rounded to 3 decimal places."
   ]
  },
  {
   "cell_type": "code",
   "execution_count": 2,
   "id": "22d94c6f",
   "metadata": {},
   "outputs": [
    {
     "data": {
      "text/html": [
       "<strong>carat:</strong> 7756.426"
      ],
      "text/latex": [
       "\\textbf{carat:} 7756.426"
      ],
      "text/markdown": [
       "**carat:** 7756.426"
      ],
      "text/plain": [
       "   carat \n",
       "7756.426 "
      ]
     },
     "metadata": {},
     "output_type": "display_data"
    }
   ],
   "source": [
    "round(coefficients(lm(price~carat, data = df))[2], 3)"
   ]
  },
  {
   "cell_type": "markdown",
   "id": "0b987dd7",
   "metadata": {},
   "source": [
    "注意到最后执行的操作是round，而这却是我们最先看到的函数。lm()是率先执行的函数，却写在代码的最里面。"
   ]
  },
  {
   "cell_type": "code",
   "execution_count": 3,
   "id": "1e5ee320",
   "metadata": {},
   "outputs": [
    {
     "data": {
      "text/html": [
       "<strong>carat:</strong> 7756.426"
      ],
      "text/latex": [
       "\\textbf{carat:} 7756.426"
      ],
      "text/markdown": [
       "**carat:** 7756.426"
      ],
      "text/plain": [
       "   carat \n",
       "7756.426 "
      ]
     },
     "metadata": {},
     "output_type": "display_data"
    }
   ],
   "source": [
    "#Alternative using the pipe\n",
    "\n",
    "library(magrittr)\n",
    "df %>% lm(price~carat,.) %>% coefficients() %>% extract(2) %>%round(3)"
   ]
  },
  {
   "cell_type": "markdown",
   "id": "f90409de",
   "metadata": {},
   "source": [
    "默认地，传入的object会从左向右地被传递给函数，就像上个例子一样。如果想要object在别的地方取值，可以使用.来表示需要被取值的地方。\n",
    "\n",
    "在magrittr中有一些特殊的表达符号以表示原有的符号，例如extract(1)等价于[1]，来表示提取vector的第一个元素。"
   ]
  },
  {
   "cell_type": "markdown",
   "id": "5c09b8a6",
   "metadata": {},
   "source": [
    "# Section 3: Dataframes: tibble and data.table\n",
    "\n",
    "## tibble\n",
    "* tibble是tidyverse表达dataframe的形式，这属于dplyr package。\n",
    "* tibble和dataframe存在两个主要区别，printing和subsetting。\n",
    "* 将传统的dataframe转换为一个tibble使用as_tibble()。\n",
    "* tibble()不会改变输入的数据类型，例如，它不会将字符串转换为factors。\n",
    "* tibble()不会改变变量名称。\n",
    "* tibble()不会创建row names。\n",
    "* tibble的行名可以包含R语言中禁止使用的变量名称，例如`:)`和`  `"
   ]
  },
  {
   "cell_type": "code",
   "execution_count": 4,
   "id": "34a19ffc",
   "metadata": {},
   "outputs": [],
   "source": [
    "library(\"tibble\")"
   ]
  },
  {
   "cell_type": "code",
   "execution_count": 5,
   "id": "7909dd09",
   "metadata": {},
   "outputs": [],
   "source": [
    "# Create a tibble dataframe from scratch using tibble()\n",
    "\n",
    "df <- tibble(\n",
    "    x = 1:3,\n",
    "    y = sample(seq(1,5,by=2), 3),\n",
    "    z = rnorm(3)\n",
    ")"
   ]
  },
  {
   "cell_type": "code",
   "execution_count": 6,
   "id": "652eb9e1",
   "metadata": {},
   "outputs": [
    {
     "data": {
      "text/html": [
       "<table>\n",
       "<thead><tr><th scope=col>x</th><th scope=col>y</th><th scope=col>z</th></tr></thead>\n",
       "<tbody>\n",
       "\t<tr><td>1        </td><td>5        </td><td>0.5153199</td></tr>\n",
       "\t<tr><td>2        </td><td>3        </td><td>0.6796708</td></tr>\n",
       "\t<tr><td>3        </td><td>1        </td><td>1.7906422</td></tr>\n",
       "</tbody>\n",
       "</table>\n"
      ],
      "text/latex": [
       "\\begin{tabular}{r|lll}\n",
       " x & y & z\\\\\n",
       "\\hline\n",
       "\t 1         & 5         & 0.5153199\\\\\n",
       "\t 2         & 3         & 0.6796708\\\\\n",
       "\t 3         & 1         & 1.7906422\\\\\n",
       "\\end{tabular}\n"
      ],
      "text/markdown": [
       "\n",
       "| x | y | z |\n",
       "|---|---|---|\n",
       "| 1         | 5         | 0.5153199 |\n",
       "| 2         | 3         | 0.6796708 |\n",
       "| 3         | 1         | 1.7906422 |\n",
       "\n"
      ],
      "text/plain": [
       "  x y z        \n",
       "1 1 5 0.5153199\n",
       "2 2 3 0.6796708\n",
       "3 3 1 1.7906422"
      ]
     },
     "metadata": {},
     "output_type": "display_data"
    }
   ],
   "source": [
    "df"
   ]
  },
  {
   "cell_type": "code",
   "execution_count": 7,
   "id": "a5a1f6ad",
   "metadata": {},
   "outputs": [
    {
     "data": {
      "text/html": [
       "<table>\n",
       "<thead><tr><th scope=col>Sepal.Length</th><th scope=col>Sepal.Width</th><th scope=col>Petal.Length</th><th scope=col>Petal.Width</th><th scope=col>Species</th></tr></thead>\n",
       "<tbody>\n",
       "\t<tr><td>5.1   </td><td>3.5   </td><td>1.4   </td><td>0.2   </td><td>setosa</td></tr>\n",
       "\t<tr><td>4.9   </td><td>3.0   </td><td>1.4   </td><td>0.2   </td><td>setosa</td></tr>\n",
       "\t<tr><td>4.7   </td><td>3.2   </td><td>1.3   </td><td>0.2   </td><td>setosa</td></tr>\n",
       "\t<tr><td>4.6   </td><td>3.1   </td><td>1.5   </td><td>0.2   </td><td>setosa</td></tr>\n",
       "\t<tr><td>5.0   </td><td>3.6   </td><td>1.4   </td><td>0.2   </td><td>setosa</td></tr>\n",
       "\t<tr><td>5.4   </td><td>3.9   </td><td>1.7   </td><td>0.4   </td><td>setosa</td></tr>\n",
       "\t<tr><td>4.6   </td><td>3.4   </td><td>1.4   </td><td>0.3   </td><td>setosa</td></tr>\n",
       "\t<tr><td>5.0   </td><td>3.4   </td><td>1.5   </td><td>0.2   </td><td>setosa</td></tr>\n",
       "\t<tr><td>4.4   </td><td>2.9   </td><td>1.4   </td><td>0.2   </td><td>setosa</td></tr>\n",
       "\t<tr><td>4.9   </td><td>3.1   </td><td>1.5   </td><td>0.1   </td><td>setosa</td></tr>\n",
       "</tbody>\n",
       "</table>\n"
      ],
      "text/latex": [
       "\\begin{tabular}{r|lllll}\n",
       " Sepal.Length & Sepal.Width & Petal.Length & Petal.Width & Species\\\\\n",
       "\\hline\n",
       "\t 5.1    & 3.5    & 1.4    & 0.2    & setosa\\\\\n",
       "\t 4.9    & 3.0    & 1.4    & 0.2    & setosa\\\\\n",
       "\t 4.7    & 3.2    & 1.3    & 0.2    & setosa\\\\\n",
       "\t 4.6    & 3.1    & 1.5    & 0.2    & setosa\\\\\n",
       "\t 5.0    & 3.6    & 1.4    & 0.2    & setosa\\\\\n",
       "\t 5.4    & 3.9    & 1.7    & 0.4    & setosa\\\\\n",
       "\t 4.6    & 3.4    & 1.4    & 0.3    & setosa\\\\\n",
       "\t 5.0    & 3.4    & 1.5    & 0.2    & setosa\\\\\n",
       "\t 4.4    & 2.9    & 1.4    & 0.2    & setosa\\\\\n",
       "\t 4.9    & 3.1    & 1.5    & 0.1    & setosa\\\\\n",
       "\\end{tabular}\n"
      ],
      "text/markdown": [
       "\n",
       "| Sepal.Length | Sepal.Width | Petal.Length | Petal.Width | Species |\n",
       "|---|---|---|---|---|\n",
       "| 5.1    | 3.5    | 1.4    | 0.2    | setosa |\n",
       "| 4.9    | 3.0    | 1.4    | 0.2    | setosa |\n",
       "| 4.7    | 3.2    | 1.3    | 0.2    | setosa |\n",
       "| 4.6    | 3.1    | 1.5    | 0.2    | setosa |\n",
       "| 5.0    | 3.6    | 1.4    | 0.2    | setosa |\n",
       "| 5.4    | 3.9    | 1.7    | 0.4    | setosa |\n",
       "| 4.6    | 3.4    | 1.4    | 0.3    | setosa |\n",
       "| 5.0    | 3.4    | 1.5    | 0.2    | setosa |\n",
       "| 4.4    | 2.9    | 1.4    | 0.2    | setosa |\n",
       "| 4.9    | 3.1    | 1.5    | 0.1    | setosa |\n",
       "\n"
      ],
      "text/plain": [
       "   Sepal.Length Sepal.Width Petal.Length Petal.Width Species\n",
       "1  5.1          3.5         1.4          0.2         setosa \n",
       "2  4.9          3.0         1.4          0.2         setosa \n",
       "3  4.7          3.2         1.3          0.2         setosa \n",
       "4  4.6          3.1         1.5          0.2         setosa \n",
       "5  5.0          3.6         1.4          0.2         setosa \n",
       "6  5.4          3.9         1.7          0.4         setosa \n",
       "7  4.6          3.4         1.4          0.3         setosa \n",
       "8  5.0          3.4         1.5          0.2         setosa \n",
       "9  4.4          2.9         1.4          0.2         setosa \n",
       "10 4.9          3.1         1.5          0.1         setosa "
      ]
     },
     "metadata": {},
     "output_type": "display_data"
    },
    {
     "name": "stdout",
     "output_type": "stream",
     "text": [
      "# A tibble: 150 x 5\n",
      "   Sepal.Length Sepal.Width Petal.Length Petal.Width Species\n",
      "          <dbl>       <dbl>        <dbl>       <dbl> <fct>  \n",
      " 1          5.1         3.5          1.4         0.2 setosa \n",
      " 2          4.9         3            1.4         0.2 setosa \n",
      " 3          4.7         3.2          1.3         0.2 setosa \n",
      " 4          4.6         3.1          1.5         0.2 setosa \n",
      " 5          5           3.6          1.4         0.2 setosa \n",
      " 6          5.4         3.9          1.7         0.4 setosa \n",
      " 7          4.6         3.4          1.4         0.3 setosa \n",
      " 8          5           3.4          1.5         0.2 setosa \n",
      " 9          4.4         2.9          1.4         0.2 setosa \n",
      "10          4.9         3.1          1.5         0.1 setosa \n",
      "# ... with 140 more rows\n"
     ]
    }
   ],
   "source": [
    "# 为了防止控制台崩溃，print一个tibble等价于执行head()，打印出dataframe的前10项。\n",
    "head(iris, 10)\n",
    "print(as_tibble(iris))"
   ]
  },
  {
   "cell_type": "markdown",
   "id": "173ef2c2",
   "metadata": {},
   "source": [
    "# Subsetting a tibble"
   ]
  },
  {
   "cell_type": "code",
   "execution_count": 8,
   "id": "f6dec3ad",
   "metadata": {},
   "outputs": [
    {
     "data": {
      "text/html": [
       "<ol class=list-inline>\n",
       "\t<li>1</li>\n",
       "\t<li>2</li>\n",
       "\t<li>3</li>\n",
       "</ol>\n"
      ],
      "text/latex": [
       "\\begin{enumerate*}\n",
       "\\item 1\n",
       "\\item 2\n",
       "\\item 3\n",
       "\\end{enumerate*}\n"
      ],
      "text/markdown": [
       "1. 1\n",
       "2. 2\n",
       "3. 3\n",
       "\n",
       "\n"
      ],
      "text/plain": [
       "[1] 1 2 3"
      ]
     },
     "metadata": {},
     "output_type": "display_data"
    },
    {
     "data": {
      "text/html": [
       "<ol class=list-inline>\n",
       "\t<li>1</li>\n",
       "\t<li>2</li>\n",
       "\t<li>3</li>\n",
       "</ol>\n"
      ],
      "text/latex": [
       "\\begin{enumerate*}\n",
       "\\item 1\n",
       "\\item 2\n",
       "\\item 3\n",
       "\\end{enumerate*}\n"
      ],
      "text/markdown": [
       "1. 1\n",
       "2. 2\n",
       "3. 3\n",
       "\n",
       "\n"
      ],
      "text/plain": [
       "[1] 1 2 3"
      ]
     },
     "metadata": {},
     "output_type": "display_data"
    },
    {
     "data": {
      "text/html": [
       "<table>\n",
       "<thead><tr><th scope=col>x</th></tr></thead>\n",
       "<tbody>\n",
       "\t<tr><td>1</td></tr>\n",
       "\t<tr><td>2</td></tr>\n",
       "\t<tr><td>3</td></tr>\n",
       "</tbody>\n",
       "</table>\n"
      ],
      "text/latex": [
       "\\begin{tabular}{r|l}\n",
       " x\\\\\n",
       "\\hline\n",
       "\t 1\\\\\n",
       "\t 2\\\\\n",
       "\t 3\\\\\n",
       "\\end{tabular}\n"
      ],
      "text/markdown": [
       "\n",
       "| x |\n",
       "|---|\n",
       "| 1 |\n",
       "| 2 |\n",
       "| 3 |\n",
       "\n"
      ],
      "text/plain": [
       "  x\n",
       "1 1\n",
       "2 2\n",
       "3 3"
      ]
     },
     "metadata": {},
     "output_type": "display_data"
    },
    {
     "data": {
      "text/html": [
       "'integer'"
      ],
      "text/latex": [
       "'integer'"
      ],
      "text/markdown": [
       "'integer'"
      ],
      "text/plain": [
       "[1] \"integer\""
      ]
     },
     "metadata": {},
     "output_type": "display_data"
    },
    {
     "data": {
      "text/html": [
       "'list'"
      ],
      "text/latex": [
       "'list'"
      ],
      "text/markdown": [
       "'list'"
      ],
      "text/plain": [
       "[1] \"list\""
      ]
     },
     "metadata": {},
     "output_type": "display_data"
    }
   ],
   "source": [
    "df$x\n",
    "df[[\"x\"]]\n",
    "df[\"x\"]\n",
    "typeof(df[[\"x\"]])\n",
    "typeof(df[\"x\"])"
   ]
  },
  {
   "cell_type": "code",
   "execution_count": 9,
   "id": "991b0417",
   "metadata": {},
   "outputs": [
    {
     "data": {
      "text/html": [
       "<table>\n",
       "<thead><tr><th scope=col>x</th></tr></thead>\n",
       "<tbody>\n",
       "\t<tr><td>1</td></tr>\n",
       "\t<tr><td>2</td></tr>\n",
       "\t<tr><td>3</td></tr>\n",
       "</tbody>\n",
       "</table>\n"
      ],
      "text/latex": [
       "\\begin{tabular}{r|l}\n",
       " x\\\\\n",
       "\\hline\n",
       "\t 1\\\\\n",
       "\t 2\\\\\n",
       "\t 3\\\\\n",
       "\\end{tabular}\n"
      ],
      "text/markdown": [
       "\n",
       "| x |\n",
       "|---|\n",
       "| 1 |\n",
       "| 2 |\n",
       "| 3 |\n",
       "\n"
      ],
      "text/plain": [
       "  x\n",
       "1 1\n",
       "2 2\n",
       "3 3"
      ]
     },
     "metadata": {},
     "output_type": "display_data"
    }
   ],
   "source": [
    "df[,1]"
   ]
  },
  {
   "cell_type": "markdown",
   "id": "5acf27d0",
   "metadata": {},
   "source": [
    "可以发现tibble的索引：\n",
    "\n",
    "* 列索引：\n",
    "    * 使用df$x或者df[[\"x\"]]获得具体某列的值，数据类型为integer或double。\n",
    "    * 使用df[\"x\"]获得这一整列（包括列名），数据类型为list。\n",
    "\n",
    "* 行索引：\n",
    "    * 使用df[1,]获得第一行整行（包括列名），数据类型为list。"
   ]
  },
  {
   "cell_type": "code",
   "execution_count": 10,
   "id": "2d5bb6a6",
   "metadata": {},
   "outputs": [
    {
     "data": {
      "text/html": [
       "<table>\n",
       "<thead><tr><th scope=col>x</th><th scope=col>y</th><th scope=col>z</th></tr></thead>\n",
       "<tbody>\n",
       "\t<tr><td>2        </td><td>3        </td><td>0.6796708</td></tr>\n",
       "\t<tr><td>3        </td><td>1        </td><td>1.7906422</td></tr>\n",
       "</tbody>\n",
       "</table>\n"
      ],
      "text/latex": [
       "\\begin{tabular}{r|lll}\n",
       " x & y & z\\\\\n",
       "\\hline\n",
       "\t 2         & 3         & 0.6796708\\\\\n",
       "\t 3         & 1         & 1.7906422\\\\\n",
       "\\end{tabular}\n"
      ],
      "text/markdown": [
       "\n",
       "| x | y | z |\n",
       "|---|---|---|\n",
       "| 2         | 3         | 0.6796708 |\n",
       "| 3         | 1         | 1.7906422 |\n",
       "\n"
      ],
      "text/plain": [
       "  x y z        \n",
       "1 2 3 0.6796708\n",
       "2 3 1 1.7906422"
      ]
     },
     "metadata": {},
     "output_type": "display_data"
    }
   ],
   "source": [
    "# df$x得到1 2 3，比1大的是第2、3元素，故输出为df的第二行、第三行\n",
    "\n",
    "df[df$x>1,] "
   ]
  },
  {
   "cell_type": "code",
   "execution_count": 11,
   "id": "a5a1a3e4",
   "metadata": {},
   "outputs": [
    {
     "data": {
      "text/html": [
       "<ol class=list-inline>\n",
       "\t<li>1</li>\n",
       "\t<li>2</li>\n",
       "\t<li>3</li>\n",
       "</ol>\n"
      ],
      "text/latex": [
       "\\begin{enumerate*}\n",
       "\\item 1\n",
       "\\item 2\n",
       "\\item 3\n",
       "\\end{enumerate*}\n"
      ],
      "text/markdown": [
       "1. 1\n",
       "2. 2\n",
       "3. 3\n",
       "\n",
       "\n"
      ],
      "text/plain": [
       "[1] 1 2 3"
      ]
     },
     "metadata": {},
     "output_type": "display_data"
    }
   ],
   "source": [
    "# 如果要使用pipe，在这里需要使用占位符\".\"\n",
    "\n",
    "df %>% .$x"
   ]
  },
  {
   "cell_type": "markdown",
   "id": "d3e175e6",
   "metadata": {},
   "source": [
    "### dplyr package and the tibble\n",
    "\n",
    "• dplyr package允许我们执行数据转换的操作。大多数数据转换的任务可以通过以下六个函数配合完成：`filter`, `arrange`, `select`,`mutate`, `summarize`, and `group_by`\n",
    "\n",
    "• 这几个来自dplyr的函数是为了在tibble上运用而设计，但也可以在传统dataframe上应用。\n",
    "\n",
    "### Main dplyr functions\n",
    "\n",
    "|function name|used to...|\n",
    "|---|---|\n",
    "|filter|通过值来选择元素|\n",
    "|arrange|对行进行重新排序|\n",
    "|select|通过名称来选择元素|\n",
    "|mutate|通过已有的函数创建新的变量|\n",
    "|summarise|将许多列进行总结|\n",
    "|group_by|改变上述函数应用的范围|"
   ]
  },
  {
   "cell_type": "markdown",
   "id": "c56dd0dc",
   "metadata": {},
   "source": [
    "## Example\n",
    "• To get a feel for how these functions work in conjunction with each other, we will take a look at the nycflights13 dataset, which contains over 300,000 flight records.\n",
    "\n",
    "• Suppose we had the research question, \"Which flight path was most common for American Airlines flights to take?\"\n",
    "\n",
    "• Let's start by loading in the data."
   ]
  },
  {
   "cell_type": "code",
   "execution_count": 12,
   "id": "9d185702",
   "metadata": {},
   "outputs": [
    {
     "name": "stderr",
     "output_type": "stream",
     "text": [
      "\n",
      "Attaching package: 'dplyr'\n",
      "\n",
      "The following objects are masked from 'package:data.table':\n",
      "\n",
      "    between, first, last\n",
      "\n",
      "The following objects are masked from 'package:stats':\n",
      "\n",
      "    filter, lag\n",
      "\n",
      "The following objects are masked from 'package:base':\n",
      "\n",
      "    intersect, setdiff, setequal, union\n",
      "\n"
     ]
    },
    {
     "data": {
      "text/html": [
       "<ol class=list-inline>\n",
       "\t<li>336776</li>\n",
       "\t<li>19</li>\n",
       "</ol>\n"
      ],
      "text/latex": [
       "\\begin{enumerate*}\n",
       "\\item 336776\n",
       "\\item 19\n",
       "\\end{enumerate*}\n"
      ],
      "text/markdown": [
       "1. 336776\n",
       "2. 19\n",
       "\n",
       "\n"
      ],
      "text/plain": [
       "[1] 336776     19"
      ]
     },
     "metadata": {},
     "output_type": "display_data"
    },
    {
     "data": {
      "text/html": [
       "<table>\n",
       "<thead><tr><th scope=col>year</th><th scope=col>month</th><th scope=col>day</th><th scope=col>dep_time</th><th scope=col>sched_dep_time</th><th scope=col>dep_delay</th><th scope=col>arr_time</th><th scope=col>sched_arr_time</th><th scope=col>arr_delay</th><th scope=col>carrier</th><th scope=col>flight</th><th scope=col>tailnum</th><th scope=col>origin</th><th scope=col>dest</th><th scope=col>air_time</th><th scope=col>distance</th><th scope=col>hour</th><th scope=col>minute</th><th scope=col>time_hour</th></tr></thead>\n",
       "<tbody>\n",
       "\t<tr><td>2013               </td><td>1                  </td><td>1                  </td><td>517                </td><td>515                </td><td>2                  </td><td>830                </td><td>819                </td><td>11                 </td><td>UA                 </td><td>1545               </td><td>N14228             </td><td>EWR                </td><td>IAH                </td><td>227                </td><td>1400               </td><td>5                  </td><td>15                 </td><td>2013-01-01 05:00:00</td></tr>\n",
       "\t<tr><td>2013               </td><td>1                  </td><td>1                  </td><td>533                </td><td>529                </td><td>4                  </td><td>850                </td><td>830                </td><td>20                 </td><td>UA                 </td><td>1714               </td><td>N24211             </td><td>LGA                </td><td>IAH                </td><td>227                </td><td>1416               </td><td>5                  </td><td>29                 </td><td>2013-01-01 05:00:00</td></tr>\n",
       "\t<tr><td>2013               </td><td>1                  </td><td>1                  </td><td>542                </td><td>540                </td><td>2                  </td><td>923                </td><td>850                </td><td>33                 </td><td>AA                 </td><td>1141               </td><td>N619AA             </td><td>JFK                </td><td>MIA                </td><td>160                </td><td>1089               </td><td>5                  </td><td>40                 </td><td>2013-01-01 05:00:00</td></tr>\n",
       "</tbody>\n",
       "</table>\n"
      ],
      "text/latex": [
       "\\begin{tabular}{r|lllllllllllllllllll}\n",
       " year & month & day & dep\\_time & sched\\_dep\\_time & dep\\_delay & arr\\_time & sched\\_arr\\_time & arr\\_delay & carrier & flight & tailnum & origin & dest & air\\_time & distance & hour & minute & time\\_hour\\\\\n",
       "\\hline\n",
       "\t 2013                & 1                   & 1                   & 517                 & 515                 & 2                   & 830                 & 819                 & 11                  & UA                  & 1545                & N14228              & EWR                 & IAH                 & 227                 & 1400                & 5                   & 15                  & 2013-01-01 05:00:00\\\\\n",
       "\t 2013                & 1                   & 1                   & 533                 & 529                 & 4                   & 850                 & 830                 & 20                  & UA                  & 1714                & N24211              & LGA                 & IAH                 & 227                 & 1416                & 5                   & 29                  & 2013-01-01 05:00:00\\\\\n",
       "\t 2013                & 1                   & 1                   & 542                 & 540                 & 2                   & 923                 & 850                 & 33                  & AA                  & 1141                & N619AA              & JFK                 & MIA                 & 160                 & 1089                & 5                   & 40                  & 2013-01-01 05:00:00\\\\\n",
       "\\end{tabular}\n"
      ],
      "text/markdown": [
       "\n",
       "| year | month | day | dep_time | sched_dep_time | dep_delay | arr_time | sched_arr_time | arr_delay | carrier | flight | tailnum | origin | dest | air_time | distance | hour | minute | time_hour |\n",
       "|---|---|---|---|---|---|---|---|---|---|---|---|---|---|---|---|---|---|---|\n",
       "| 2013                | 1                   | 1                   | 517                 | 515                 | 2                   | 830                 | 819                 | 11                  | UA                  | 1545                | N14228              | EWR                 | IAH                 | 227                 | 1400                | 5                   | 15                  | 2013-01-01 05:00:00 |\n",
       "| 2013                | 1                   | 1                   | 533                 | 529                 | 4                   | 850                 | 830                 | 20                  | UA                  | 1714                | N24211              | LGA                 | IAH                 | 227                 | 1416                | 5                   | 29                  | 2013-01-01 05:00:00 |\n",
       "| 2013                | 1                   | 1                   | 542                 | 540                 | 2                   | 923                 | 850                 | 33                  | AA                  | 1141                | N619AA              | JFK                 | MIA                 | 160                 | 1089                | 5                   | 40                  | 2013-01-01 05:00:00 |\n",
       "\n"
      ],
      "text/plain": [
       "  year month day dep_time sched_dep_time dep_delay arr_time sched_arr_time\n",
       "1 2013 1     1   517      515            2         830      819           \n",
       "2 2013 1     1   533      529            4         850      830           \n",
       "3 2013 1     1   542      540            2         923      850           \n",
       "  arr_delay carrier flight tailnum origin dest air_time distance hour minute\n",
       "1 11        UA      1545   N14228  EWR    IAH  227      1400     5    15    \n",
       "2 20        UA      1714   N24211  LGA    IAH  227      1416     5    29    \n",
       "3 33        AA      1141   N619AA  JFK    MIA  160      1089     5    40    \n",
       "  time_hour          \n",
       "1 2013-01-01 05:00:00\n",
       "2 2013-01-01 05:00:00\n",
       "3 2013-01-01 05:00:00"
      ]
     },
     "metadata": {},
     "output_type": "display_data"
    }
   ],
   "source": [
    "library(\"nycflights13\")\n",
    "library(\"dplyr\")\n",
    "df <- as_tibble(flights)\n",
    "dim(df)\n",
    "head(df, 3)"
   ]
  },
  {
   "cell_type": "code",
   "execution_count": 13,
   "id": "62496347",
   "metadata": {},
   "outputs": [
    {
     "data": {
      "text/html": [
       "<table>\n",
       "<thead><tr><th scope=col>year</th><th scope=col>month</th><th scope=col>day</th><th scope=col>dep_time</th><th scope=col>sched_dep_time</th><th scope=col>dep_delay</th><th scope=col>arr_time</th><th scope=col>sched_arr_time</th><th scope=col>arr_delay</th><th scope=col>carrier</th><th scope=col>flight</th><th scope=col>tailnum</th><th scope=col>origin</th><th scope=col>dest</th><th scope=col>air_time</th><th scope=col>distance</th><th scope=col>hour</th><th scope=col>minute</th><th scope=col>time_hour</th></tr></thead>\n",
       "<tbody>\n",
       "\t<tr><td>2013               </td><td>1                  </td><td>1                  </td><td>542                </td><td>540                </td><td> 2                 </td><td> 923               </td><td> 850               </td><td> 33                </td><td>AA                 </td><td>1141               </td><td>N619AA             </td><td>JFK                </td><td>MIA                </td><td>160                </td><td>1089               </td><td>5                  </td><td>40                 </td><td>2013-01-01 05:00:00</td></tr>\n",
       "\t<tr><td>2013               </td><td>1                  </td><td>1                  </td><td>558                </td><td>600                </td><td>-2                 </td><td> 753               </td><td> 745               </td><td>  8                </td><td>AA                 </td><td> 301               </td><td>N3ALAA             </td><td>LGA                </td><td>ORD                </td><td>138                </td><td> 733               </td><td>6                  </td><td> 0                 </td><td>2013-01-01 06:00:00</td></tr>\n",
       "\t<tr><td>2013               </td><td>1                  </td><td>1                  </td><td>559                </td><td>600                </td><td>-1                 </td><td> 941               </td><td> 910               </td><td> 31                </td><td>AA                 </td><td> 707               </td><td>N3DUAA             </td><td>LGA                </td><td>DFW                </td><td>257                </td><td>1389               </td><td>6                  </td><td> 0                 </td><td>2013-01-01 06:00:00</td></tr>\n",
       "\t<tr><td>2013               </td><td>1                  </td><td>1                  </td><td>606                </td><td>610                </td><td>-4                 </td><td> 858               </td><td> 910               </td><td>-12                </td><td>AA                 </td><td>1895               </td><td>N633AA             </td><td>EWR                </td><td>MIA                </td><td>152                </td><td>1085               </td><td>6                  </td><td>10                 </td><td>2013-01-01 06:00:00</td></tr>\n",
       "\t<tr><td>2013               </td><td>1                  </td><td>1                  </td><td>623                </td><td>610                </td><td>13                 </td><td> 920               </td><td> 915               </td><td>  5                </td><td>AA                 </td><td>1837               </td><td>N3EMAA             </td><td>LGA                </td><td>MIA                </td><td>153                </td><td>1096               </td><td>6                  </td><td>10                 </td><td>2013-01-01 06:00:00</td></tr>\n",
       "\t<tr><td>2013               </td><td>1                  </td><td>1                  </td><td>628                </td><td>630                </td><td>-2                 </td><td>1137               </td><td>1140               </td><td> -3                </td><td>AA                 </td><td> 413               </td><td>N3BAAA             </td><td>JFK                </td><td>SJU                </td><td>192                </td><td>1598               </td><td>6                  </td><td>30                 </td><td>2013-01-01 06:00:00</td></tr>\n",
       "</tbody>\n",
       "</table>\n"
      ],
      "text/latex": [
       "\\begin{tabular}{r|lllllllllllllllllll}\n",
       " year & month & day & dep\\_time & sched\\_dep\\_time & dep\\_delay & arr\\_time & sched\\_arr\\_time & arr\\_delay & carrier & flight & tailnum & origin & dest & air\\_time & distance & hour & minute & time\\_hour\\\\\n",
       "\\hline\n",
       "\t 2013                & 1                   & 1                   & 542                 & 540                 &  2                  &  923                &  850                &  33                 & AA                  & 1141                & N619AA              & JFK                 & MIA                 & 160                 & 1089                & 5                   & 40                  & 2013-01-01 05:00:00\\\\\n",
       "\t 2013                & 1                   & 1                   & 558                 & 600                 & -2                  &  753                &  745                &   8                 & AA                  &  301                & N3ALAA              & LGA                 & ORD                 & 138                 &  733                & 6                   &  0                  & 2013-01-01 06:00:00\\\\\n",
       "\t 2013                & 1                   & 1                   & 559                 & 600                 & -1                  &  941                &  910                &  31                 & AA                  &  707                & N3DUAA              & LGA                 & DFW                 & 257                 & 1389                & 6                   &  0                  & 2013-01-01 06:00:00\\\\\n",
       "\t 2013                & 1                   & 1                   & 606                 & 610                 & -4                  &  858                &  910                & -12                 & AA                  & 1895                & N633AA              & EWR                 & MIA                 & 152                 & 1085                & 6                   & 10                  & 2013-01-01 06:00:00\\\\\n",
       "\t 2013                & 1                   & 1                   & 623                 & 610                 & 13                  &  920                &  915                &   5                 & AA                  & 1837                & N3EMAA              & LGA                 & MIA                 & 153                 & 1096                & 6                   & 10                  & 2013-01-01 06:00:00\\\\\n",
       "\t 2013                & 1                   & 1                   & 628                 & 630                 & -2                  & 1137                & 1140                &  -3                 & AA                  &  413                & N3BAAA              & JFK                 & SJU                 & 192                 & 1598                & 6                   & 30                  & 2013-01-01 06:00:00\\\\\n",
       "\\end{tabular}\n"
      ],
      "text/markdown": [
       "\n",
       "| year | month | day | dep_time | sched_dep_time | dep_delay | arr_time | sched_arr_time | arr_delay | carrier | flight | tailnum | origin | dest | air_time | distance | hour | minute | time_hour |\n",
       "|---|---|---|---|---|---|---|---|---|---|---|---|---|---|---|---|---|---|---|\n",
       "| 2013                | 1                   | 1                   | 542                 | 540                 |  2                  |  923                |  850                |  33                 | AA                  | 1141                | N619AA              | JFK                 | MIA                 | 160                 | 1089                | 5                   | 40                  | 2013-01-01 05:00:00 |\n",
       "| 2013                | 1                   | 1                   | 558                 | 600                 | -2                  |  753                |  745                |   8                 | AA                  |  301                | N3ALAA              | LGA                 | ORD                 | 138                 |  733                | 6                   |  0                  | 2013-01-01 06:00:00 |\n",
       "| 2013                | 1                   | 1                   | 559                 | 600                 | -1                  |  941                |  910                |  31                 | AA                  |  707                | N3DUAA              | LGA                 | DFW                 | 257                 | 1389                | 6                   |  0                  | 2013-01-01 06:00:00 |\n",
       "| 2013                | 1                   | 1                   | 606                 | 610                 | -4                  |  858                |  910                | -12                 | AA                  | 1895                | N633AA              | EWR                 | MIA                 | 152                 | 1085                | 6                   | 10                  | 2013-01-01 06:00:00 |\n",
       "| 2013                | 1                   | 1                   | 623                 | 610                 | 13                  |  920                |  915                |   5                 | AA                  | 1837                | N3EMAA              | LGA                 | MIA                 | 153                 | 1096                | 6                   | 10                  | 2013-01-01 06:00:00 |\n",
       "| 2013                | 1                   | 1                   | 628                 | 630                 | -2                  | 1137                | 1140                |  -3                 | AA                  |  413                | N3BAAA              | JFK                 | SJU                 | 192                 | 1598                | 6                   | 30                  | 2013-01-01 06:00:00 |\n",
       "\n"
      ],
      "text/plain": [
       "  year month day dep_time sched_dep_time dep_delay arr_time sched_arr_time\n",
       "1 2013 1     1   542      540             2         923      850          \n",
       "2 2013 1     1   558      600            -2         753      745          \n",
       "3 2013 1     1   559      600            -1         941      910          \n",
       "4 2013 1     1   606      610            -4         858      910          \n",
       "5 2013 1     1   623      610            13         920      915          \n",
       "6 2013 1     1   628      630            -2        1137     1140          \n",
       "  arr_delay carrier flight tailnum origin dest air_time distance hour minute\n",
       "1  33       AA      1141   N619AA  JFK    MIA  160      1089     5    40    \n",
       "2   8       AA       301   N3ALAA  LGA    ORD  138       733     6     0    \n",
       "3  31       AA       707   N3DUAA  LGA    DFW  257      1389     6     0    \n",
       "4 -12       AA      1895   N633AA  EWR    MIA  152      1085     6    10    \n",
       "5   5       AA      1837   N3EMAA  LGA    MIA  153      1096     6    10    \n",
       "6  -3       AA       413   N3BAAA  JFK    SJU  192      1598     6    30    \n",
       "  time_hour          \n",
       "1 2013-01-01 05:00:00\n",
       "2 2013-01-01 06:00:00\n",
       "3 2013-01-01 06:00:00\n",
       "4 2013-01-01 06:00:00\n",
       "5 2013-01-01 06:00:00\n",
       "6 2013-01-01 06:00:00"
      ]
     },
     "metadata": {},
     "output_type": "display_data"
    },
    {
     "data": {
      "text/html": [
       "<ol class=list-inline>\n",
       "\t<li>32729</li>\n",
       "\t<li>19</li>\n",
       "</ol>\n"
      ],
      "text/latex": [
       "\\begin{enumerate*}\n",
       "\\item 32729\n",
       "\\item 19\n",
       "\\end{enumerate*}\n"
      ],
      "text/markdown": [
       "1. 32729\n",
       "2. 19\n",
       "\n",
       "\n"
      ],
      "text/plain": [
       "[1] 32729    19"
      ]
     },
     "metadata": {},
     "output_type": "display_data"
    },
    {
     "data": {
      "text/html": [
       "<ol class=list-inline>\n",
       "\t<li>32729</li>\n",
       "\t<li>19</li>\n",
       "</ol>\n"
      ],
      "text/latex": [
       "\\begin{enumerate*}\n",
       "\\item 32729\n",
       "\\item 19\n",
       "\\end{enumerate*}\n"
      ],
      "text/markdown": [
       "1. 32729\n",
       "2. 19\n",
       "\n",
       "\n"
      ],
      "text/plain": [
       "[1] 32729    19"
      ]
     },
     "metadata": {},
     "output_type": "display_data"
    }
   ],
   "source": [
    "# First, we'll use filter to grab only the AA flights.\n",
    "# filter()通过值来选择元素\n",
    "# filter(.data, ..., .preserve = FALSE)\n",
    "\n",
    "df %>% filter(carrier == \"AA\") %>% head()\n",
    "df %>% filter(carrier == \"AA\") %>% dim\n",
    "dim(filter(df, carrier == \"AA\"))"
   ]
  },
  {
   "cell_type": "code",
   "execution_count": 14,
   "id": "e8720635",
   "metadata": {},
   "outputs": [
    {
     "data": {
      "text/html": [
       "<table>\n",
       "<thead><tr><th scope=col>origin</th><th scope=col>dest</th></tr></thead>\n",
       "<tbody>\n",
       "\t<tr><td>JFK</td><td>MIA</td></tr>\n",
       "\t<tr><td>LGA</td><td>ORD</td></tr>\n",
       "\t<tr><td>LGA</td><td>DFW</td></tr>\n",
       "\t<tr><td>EWR</td><td>MIA</td></tr>\n",
       "\t<tr><td>LGA</td><td>MIA</td></tr>\n",
       "</tbody>\n",
       "</table>\n"
      ],
      "text/latex": [
       "\\begin{tabular}{r|ll}\n",
       " origin & dest\\\\\n",
       "\\hline\n",
       "\t JFK & MIA\\\\\n",
       "\t LGA & ORD\\\\\n",
       "\t LGA & DFW\\\\\n",
       "\t EWR & MIA\\\\\n",
       "\t LGA & MIA\\\\\n",
       "\\end{tabular}\n"
      ],
      "text/markdown": [
       "\n",
       "| origin | dest |\n",
       "|---|---|\n",
       "| JFK | MIA |\n",
       "| LGA | ORD |\n",
       "| LGA | DFW |\n",
       "| EWR | MIA |\n",
       "| LGA | MIA |\n",
       "\n"
      ],
      "text/plain": [
       "  origin dest\n",
       "1 JFK    MIA \n",
       "2 LGA    ORD \n",
       "3 LGA    DFW \n",
       "4 EWR    MIA \n",
       "5 LGA    MIA "
      ]
     },
     "metadata": {},
     "output_type": "display_data"
    }
   ],
   "source": [
    "# Next, select the variables of interest. In this case, origin and dest tell\n",
    "# us where a flight started and ended.\n",
    "# select()通过名称来选择元素\n",
    "# select(.data, ...)\n",
    "\n",
    "df %>% filter(carrier == \"AA\") %>% select(origin, dest) %>% head(5)"
   ]
  },
  {
   "cell_type": "markdown",
   "id": "dffe408a",
   "metadata": {},
   "source": [
    "The goal is to count the number of occurrences of each (origin, dest) pair. To do this, we group the pairs together with group_by and then sum each of those groups with summarise.\n",
    "\n",
    "summarise()创建一个新的dataframe，它将拥有一行或多行，每一行都是grouping vairables的组合。如果没有grouping variables，将产生单行输出以统计输入的所有元素。这个新的dataframe中有一列由所有grouping variables组成，还有一列储存了每个grouping variable对应所指定的统计量。\n",
    "\n",
    "\n",
    "It will contain one column for each grouping variable and one column for each of the summary statistics that you have specified."
   ]
  },
  {
   "cell_type": "code",
   "execution_count": 15,
   "id": "0e9d87e7",
   "metadata": {
    "scrolled": true
   },
   "outputs": [
    {
     "data": {
      "text/html": [
       "<table>\n",
       "<thead><tr><th scope=col>origin</th><th scope=col>dest</th><th scope=col>count</th></tr></thead>\n",
       "<tbody>\n",
       "\t<tr><td>EWR </td><td>DFW </td><td>2054</td></tr>\n",
       "\t<tr><td>EWR </td><td>LAX </td><td> 365</td></tr>\n",
       "\t<tr><td>EWR </td><td>MIA </td><td>1068</td></tr>\n",
       "\t<tr><td>JFK </td><td>AUS </td><td> 365</td></tr>\n",
       "\t<tr><td>JFK </td><td>BOS </td><td>1455</td></tr>\n",
       "\t<tr><td>JFK </td><td>DFW </td><td> 367</td></tr>\n",
       "</tbody>\n",
       "</table>\n"
      ],
      "text/latex": [
       "\\begin{tabular}{r|lll}\n",
       " origin & dest & count\\\\\n",
       "\\hline\n",
       "\t EWR  & DFW  & 2054\\\\\n",
       "\t EWR  & LAX  &  365\\\\\n",
       "\t EWR  & MIA  & 1068\\\\\n",
       "\t JFK  & AUS  &  365\\\\\n",
       "\t JFK  & BOS  & 1455\\\\\n",
       "\t JFK  & DFW  &  367\\\\\n",
       "\\end{tabular}\n"
      ],
      "text/markdown": [
       "\n",
       "| origin | dest | count |\n",
       "|---|---|---|\n",
       "| EWR  | DFW  | 2054 |\n",
       "| EWR  | LAX  |  365 |\n",
       "| EWR  | MIA  | 1068 |\n",
       "| JFK  | AUS  |  365 |\n",
       "| JFK  | BOS  | 1455 |\n",
       "| JFK  | DFW  |  367 |\n",
       "\n"
      ],
      "text/plain": [
       "  origin dest count\n",
       "1 EWR    DFW  2054 \n",
       "2 EWR    LAX   365 \n",
       "3 EWR    MIA  1068 \n",
       "4 JFK    AUS   365 \n",
       "5 JFK    BOS  1455 \n",
       "6 JFK    DFW   367 "
      ]
     },
     "metadata": {},
     "output_type": "display_data"
    }
   ],
   "source": [
    "# 可以发现select()中要选择的列名似乎无所谓加不加引号，但group_by()绝对不能加。\n",
    "# group_by(.data, ..., .add = FALSE, .drop = group_by_drop_default(.data))\n",
    "# summarise(.data, ..., .groups = NULL)\n",
    "# n() gives the current group size.\n",
    "\n",
    "df %>% filter(carrier == \"AA\") %>% select(\"origin\", \"dest\") %>% \n",
    "    group_by(origin, dest) %>% summarise(count = n(), .groups = \"keep\") %>% head()"
   ]
  },
  {
   "cell_type": "code",
   "execution_count": 16,
   "id": "9f97a1a9",
   "metadata": {},
   "outputs": [
    {
     "data": {
      "text/html": [
       "<table>\n",
       "<thead><tr><th scope=col>origin</th><th scope=col>dest</th><th scope=col>count</th></tr></thead>\n",
       "<tbody>\n",
       "\t<tr><td>LGA </td><td>ORD </td><td>5694</td></tr>\n",
       "\t<tr><td>LGA </td><td>DFW </td><td>4836</td></tr>\n",
       "\t<tr><td>LGA </td><td>MIA </td><td>3945</td></tr>\n",
       "\t<tr><td>JFK </td><td>LAX </td><td>3217</td></tr>\n",
       "\t<tr><td>JFK </td><td>MIA </td><td>2221</td></tr>\n",
       "\t<tr><td>EWR </td><td>DFW </td><td>2054</td></tr>\n",
       "</tbody>\n",
       "</table>\n"
      ],
      "text/latex": [
       "\\begin{tabular}{r|lll}\n",
       " origin & dest & count\\\\\n",
       "\\hline\n",
       "\t LGA  & ORD  & 5694\\\\\n",
       "\t LGA  & DFW  & 4836\\\\\n",
       "\t LGA  & MIA  & 3945\\\\\n",
       "\t JFK  & LAX  & 3217\\\\\n",
       "\t JFK  & MIA  & 2221\\\\\n",
       "\t EWR  & DFW  & 2054\\\\\n",
       "\\end{tabular}\n"
      ],
      "text/markdown": [
       "\n",
       "| origin | dest | count |\n",
       "|---|---|---|\n",
       "| LGA  | ORD  | 5694 |\n",
       "| LGA  | DFW  | 4836 |\n",
       "| LGA  | MIA  | 3945 |\n",
       "| JFK  | LAX  | 3217 |\n",
       "| JFK  | MIA  | 2221 |\n",
       "| EWR  | DFW  | 2054 |\n",
       "\n"
      ],
      "text/plain": [
       "  origin dest count\n",
       "1 LGA    ORD  5694 \n",
       "2 LGA    DFW  4836 \n",
       "3 LGA    MIA  3945 \n",
       "4 JFK    LAX  3217 \n",
       "5 JFK    MIA  2221 \n",
       "6 EWR    DFW  2054 "
      ]
     },
     "metadata": {},
     "output_type": "display_data"
    }
   ],
   "source": [
    "# Finally, order the rows using arrange\n",
    "# arrange(.data, ..., .by_group = FALSE)\n",
    "\n",
    "df %>% filter(carrier == \"AA\") %>% select(\"origin\", \"dest\") %>%\n",
    "    group_by(origin, dest) %>% summarize(count = n(), .groups = \"keep\") %>% \n",
    "    arrange(desc(count)) %>% head()"
   ]
  },
  {
   "cell_type": "markdown",
   "id": "351f9c6d",
   "metadata": {},
   "source": [
    "# data.table package (not assessed)\n",
    "\n",
    "## data.table\n",
    "* 不属于tidyverse，但由于其在处理大数据集时卓越的性能，data.table逐渐成为应用最广泛的R dataframes。\n",
    "* data.table的语法受益于relational database languages，例如SQL。它的语法比dplyr的语法晦涩，但是它可以在一行代码里完成更多的任务。\n",
    "* Benchmark证明了在处理一百万条以上的数据时data.table的速度是tibble的六倍。"
   ]
  },
  {
   "cell_type": "code",
   "execution_count": 17,
   "id": "8c4ff21a",
   "metadata": {},
   "outputs": [
    {
     "data": {
      "text/html": [
       "<table>\n",
       "<thead><tr><th scope=col>origin</th><th scope=col>dest</th><th scope=col>N</th></tr></thead>\n",
       "<tbody>\n",
       "\t<tr><td>LGA </td><td>ORD </td><td>5694</td></tr>\n",
       "\t<tr><td>LGA </td><td>DFW </td><td>4836</td></tr>\n",
       "\t<tr><td>LGA </td><td>MIA </td><td>3945</td></tr>\n",
       "\t<tr><td>JFK </td><td>LAX </td><td>3217</td></tr>\n",
       "\t<tr><td>JFK </td><td>MIA </td><td>2221</td></tr>\n",
       "\t<tr><td>EWR </td><td>DFW </td><td>2054</td></tr>\n",
       "</tbody>\n",
       "</table>\n"
      ],
      "text/latex": [
       "\\begin{tabular}{r|lll}\n",
       " origin & dest & N\\\\\n",
       "\\hline\n",
       "\t LGA  & ORD  & 5694\\\\\n",
       "\t LGA  & DFW  & 4836\\\\\n",
       "\t LGA  & MIA  & 3945\\\\\n",
       "\t JFK  & LAX  & 3217\\\\\n",
       "\t JFK  & MIA  & 2221\\\\\n",
       "\t EWR  & DFW  & 2054\\\\\n",
       "\\end{tabular}\n"
      ],
      "text/markdown": [
       "\n",
       "| origin | dest | N |\n",
       "|---|---|---|\n",
       "| LGA  | ORD  | 5694 |\n",
       "| LGA  | DFW  | 4836 |\n",
       "| LGA  | MIA  | 3945 |\n",
       "| JFK  | LAX  | 3217 |\n",
       "| JFK  | MIA  | 2221 |\n",
       "| EWR  | DFW  | 2054 |\n",
       "\n"
      ],
      "text/plain": [
       "  origin dest N   \n",
       "1 LGA    ORD  5694\n",
       "2 LGA    DFW  4836\n",
       "3 LGA    MIA  3945\n",
       "4 JFK    LAX  3217\n",
       "5 JFK    MIA  2221\n",
       "6 EWR    DFW  2054"
      ]
     },
     "metadata": {},
     "output_type": "display_data"
    }
   ],
   "source": [
    "library(nycflights13)\n",
    "library(data.table)\n",
    "\n",
    "# .N is an integer, length 1, containing the number of rows in the group. \n",
    "# This may be useful when the column names are not known in advance and for \n",
    "# convenience generally. When grouping by i, .N is the number of rows in \n",
    "# x matched to, for each row of i, regardless of whether nomatch is NA or \n",
    "# NULL. It is renamed to N (no dot) in the result (otherwise a column \n",
    "# called \".N\" could conflict with the .N variable), unless it is explicitly\n",
    "# named; e.g., DT[,list(total=.N),by=a].\n",
    "\n",
    "df <- data.table(flights)\n",
    "df[carrier == \"AA\", .N, by=.(origin,dest)][order(-N)] %>% head"
   ]
  },
  {
   "cell_type": "markdown",
   "id": "9fdf4752",
   "metadata": {},
   "source": [
    "`.N`是integer，长度为1，包含了group里面的行数，它非常便利，并且当列的名称未知时十分有用。当通过i来grouping的时候，`.N`代表了所匹配的group的行数，无论`nomatch`是NA或者NULL。在结果里，除非它被人为命名（例如：DT[,list(total=.N),by=a]），否则它将被命名为N（如果命名为\".N\"则会导致和.N变量的冲突）。"
   ]
  },
  {
   "cell_type": "code",
   "execution_count": 18,
   "id": "cd9c4c25",
   "metadata": {},
   "outputs": [
    {
     "data": {
      "text/html": [
       "<table>\n",
       "<thead><tr><th scope=col>test</th><th scope=col>elapsed</th></tr></thead>\n",
       "<tbody>\n",
       "\t<tr><td>data.table</td><td>0.67      </td></tr>\n",
       "\t<tr><td>tibble    </td><td>2.08      </td></tr>\n",
       "</tbody>\n",
       "</table>\n"
      ],
      "text/latex": [
       "\\begin{tabular}{r|ll}\n",
       " test & elapsed\\\\\n",
       "\\hline\n",
       "\t data.table & 0.67      \\\\\n",
       "\t tibble     & 2.08      \\\\\n",
       "\\end{tabular}\n"
      ],
      "text/markdown": [
       "\n",
       "| test | elapsed |\n",
       "|---|---|\n",
       "| data.table | 0.67       |\n",
       "| tibble     | 2.08       |\n",
       "\n"
      ],
      "text/plain": [
       "  test       elapsed\n",
       "1 data.table 0.67   \n",
       "2 tibble     2.08   "
      ]
     },
     "metadata": {},
     "output_type": "display_data"
    }
   ],
   "source": [
    "# data.table vs tibble\n",
    "df1 <- data.table(flights)\n",
    "df2 <- as_tibble(flights)\n",
    "benchmark(\"data.table\" = {df1[carrier == \"AA\", .N, by=.(origin,dest)][order(-N)]},\n",
    "          \"tibble\" = {df2 %>% filter(carrier == \"AA\") %>% count(origin, dest,sort=T)},\n",
    "          columns=c(\"test\",\"elapsed\"),order=\"test\")"
   ]
  },
  {
   "cell_type": "markdown",
   "id": "f0a03353",
   "metadata": {},
   "source": [
    "## Alternative Dataframes\n",
    "\n",
    "### 应该选择哪种dataframe？\n",
    "\n",
    "• Base R dataframe适用于大多数情况。它不需要额外的支持，在处理小数据集且不需要太多操作时很有效。\n",
    "\n",
    "• tibble提供了简单的语法，并且令数据筛选和转换更便利。在处理稍大型、混乱、且不熟悉的数据集时使用。\n",
    "\n",
    "• data.table的语法最难，但在处理极大数据集时速度非常快。"
   ]
  },
  {
   "cell_type": "markdown",
   "id": "7c4e8229",
   "metadata": {},
   "source": [
    "# Section 4: Review of Split/Apply/Combine\n",
    "\n",
    "## Example: Strikes dataset\n",
    "Dataset on 18 countries over 35 years (compiled by Bruce Western, in the Sociology Department at Harvard University). The measured variables:\n",
    "* country, year: country and year of data collection\n",
    "* strike.volume: days on strike per 1000 workers\n",
    "* unemployment: unemployment rate\n",
    "* inflation: inflation rate\n",
    "* left.parliament: leftwing share of the government\n",
    "* centralization: centralization of unions\n",
    "* density: density of unions\n",
    "\n",
    "### Research Question\n",
    "Is there a relationship between a country’s ruling party alignment (left versus right) and the volume of strikes? How could we approach this?\n",
    "* Worst way: by hand, write 18 separate code blocks\n",
    "* Bad way: explicit for() loop, where we loop over countries\n",
    "* Best way: split appropriately, then use an apply-type function."
   ]
  },
  {
   "cell_type": "code",
   "execution_count": 19,
   "id": "522b9598",
   "metadata": {},
   "outputs": [
    {
     "data": {
      "text/html": [
       "<ol class=list-inline>\n",
       "\t<li>625</li>\n",
       "\t<li>8</li>\n",
       "</ol>\n"
      ],
      "text/latex": [
       "\\begin{enumerate*}\n",
       "\\item 625\n",
       "\\item 8\n",
       "\\end{enumerate*}\n"
      ],
      "text/markdown": [
       "1. 625\n",
       "2. 8\n",
       "\n",
       "\n"
      ],
      "text/plain": [
       "[1] 625   8"
      ]
     },
     "metadata": {},
     "output_type": "display_data"
    },
    {
     "data": {
      "text/html": [
       "<table>\n",
       "<thead><tr><th scope=col>country</th><th scope=col>year</th><th scope=col>strike.volume</th><th scope=col>unemployment</th><th scope=col>inflation</th><th scope=col>left.parliament</th><th scope=col>centralization</th><th scope=col>density</th></tr></thead>\n",
       "<tbody>\n",
       "\t<tr><td>Australia</td><td>1951     </td><td>296      </td><td>1.3      </td><td>19.8     </td><td>43       </td><td>0.3748588</td><td>NA       </td></tr>\n",
       "\t<tr><td>Australia</td><td>1952     </td><td>397      </td><td>2.2      </td><td>17.2     </td><td>43       </td><td>0.3751829</td><td>NA       </td></tr>\n",
       "\t<tr><td>Australia</td><td>1953     </td><td>360      </td><td>2.5      </td><td> 4.3     </td><td>43       </td><td>0.3745076</td><td>NA       </td></tr>\n",
       "</tbody>\n",
       "</table>\n"
      ],
      "text/latex": [
       "\\begin{tabular}{r|llllllll}\n",
       " country & year & strike.volume & unemployment & inflation & left.parliament & centralization & density\\\\\n",
       "\\hline\n",
       "\t Australia & 1951      & 296       & 1.3       & 19.8      & 43        & 0.3748588 & NA       \\\\\n",
       "\t Australia & 1952      & 397       & 2.2       & 17.2      & 43        & 0.3751829 & NA       \\\\\n",
       "\t Australia & 1953      & 360       & 2.5       &  4.3      & 43        & 0.3745076 & NA       \\\\\n",
       "\\end{tabular}\n"
      ],
      "text/markdown": [
       "\n",
       "| country | year | strike.volume | unemployment | inflation | left.parliament | centralization | density |\n",
       "|---|---|---|---|---|---|---|---|\n",
       "| Australia | 1951      | 296       | 1.3       | 19.8      | 43        | 0.3748588 | NA        |\n",
       "| Australia | 1952      | 397       | 2.2       | 17.2      | 43        | 0.3751829 | NA        |\n",
       "| Australia | 1953      | 360       | 2.5       |  4.3      | 43        | 0.3745076 | NA        |\n",
       "\n"
      ],
      "text/plain": [
       "  country   year strike.volume unemployment inflation left.parliament\n",
       "1 Australia 1951 296           1.3          19.8      43             \n",
       "2 Australia 1952 397           2.2          17.2      43             \n",
       "3 Australia 1953 360           2.5           4.3      43             \n",
       "  centralization density\n",
       "1 0.3748588      NA     \n",
       "2 0.3751829      NA     \n",
       "3 0.3745076      NA     "
      ]
     },
     "metadata": {},
     "output_type": "display_data"
    }
   ],
   "source": [
    "strikes <- read.csv(\"strikes.csv\", as.is = TRUE)\n",
    "dim(strikes)\n",
    "head(strikes, 3)"
   ]
  },
  {
   "cell_type": "code",
   "execution_count": 20,
   "id": "407d53ba",
   "metadata": {},
   "outputs": [],
   "source": [
    "# Function to compute coefficients from regressing number of \n",
    "# strikes (per 1000 workers) on leftwing share of the government.\n",
    "\n",
    "my.strike.lm <- function(country.df){\n",
    "    return(coef(lm(strike.volume~left.parliament, data=country.df)))\n",
    "}"
   ]
  },
  {
   "cell_type": "code",
   "execution_count": 21,
   "id": "e867e856",
   "metadata": {},
   "outputs": [
    {
     "data": {
      "text/html": [
       "<table>\n",
       "<thead><tr><th></th><th scope=col>Australia</th><th scope=col>Austria</th><th scope=col>Belgium</th><th scope=col>Canada</th><th scope=col>Denmark</th><th scope=col>Finland</th><th scope=col>France</th><th scope=col>Germany</th><th scope=col>Ireland</th><th scope=col>Italy</th><th scope=col>Japan</th><th scope=col>Netherlands</th><th scope=col>New.Zealand</th><th scope=col>Norway</th><th scope=col>Sweden</th><th scope=col>Switzerland</th><th scope=col>UK</th><th scope=col>USA</th></tr></thead>\n",
       "<tbody>\n",
       "\t<tr><th scope=row>(Intercept)</th><td>414.7712254</td><td>423.077279 </td><td>-56.926780 </td><td>-227.8218  </td><td>-1399.35735</td><td>108.2245   </td><td>202.4261408</td><td>95.657134  </td><td>-94.78661  </td><td>-738.74531 </td><td>964.73750  </td><td>-32.627678 </td><td>721.3464   </td><td>-458.22397 </td><td>513.16704  </td><td>-5.1988836 </td><td>936.10154  </td><td>111.440651 </td></tr>\n",
       "\t<tr><th scope=row>left.parliament</th><td> -0.8638052</td><td> -8.210886 </td><td>  8.447463 </td><td>  17.6766  </td><td>   34.34477</td><td> 12.8422   </td><td> -0.4255319</td><td>-1.312305  </td><td> 55.46721  </td><td>  40.29109 </td><td>-24.07595  </td><td>  1.694387 </td><td>-10.0106   </td><td>  10.46523 </td><td> -8.62072  </td><td> 0.3203399 </td><td>-13.42792  </td><td>  5.918647 </td></tr>\n",
       "</tbody>\n",
       "</table>\n"
      ],
      "text/latex": [
       "\\begin{tabular}{r|llllllllllllllllll}\n",
       "  & Australia & Austria & Belgium & Canada & Denmark & Finland & France & Germany & Ireland & Italy & Japan & Netherlands & New.Zealand & Norway & Sweden & Switzerland & UK & USA\\\\\n",
       "\\hline\n",
       "\t(Intercept) & 414.7712254 & 423.077279  & -56.926780  & -227.8218   & -1399.35735 & 108.2245    & 202.4261408 & 95.657134   & -94.78661   & -738.74531  & 964.73750   & -32.627678  & 721.3464    & -458.22397  & 513.16704   & -5.1988836  & 936.10154   & 111.440651 \\\\\n",
       "\tleft.parliament &  -0.8638052 &  -8.210886  &   8.447463  &   17.6766   &    34.34477 &  12.8422    &  -0.4255319 & -1.312305   &  55.46721   &   40.29109  & -24.07595   &   1.694387  & -10.0106    &   10.46523  &  -8.62072   &  0.3203399  & -13.42792   &   5.918647 \\\\\n",
       "\\end{tabular}\n"
      ],
      "text/markdown": [
       "\n",
       "| <!--/--> | Australia | Austria | Belgium | Canada | Denmark | Finland | France | Germany | Ireland | Italy | Japan | Netherlands | New.Zealand | Norway | Sweden | Switzerland | UK | USA |\n",
       "|---|---|---|---|---|---|---|---|---|---|---|---|---|---|---|---|---|---|---|\n",
       "| (Intercept) | 414.7712254 | 423.077279  | -56.926780  | -227.8218   | -1399.35735 | 108.2245    | 202.4261408 | 95.657134   | -94.78661   | -738.74531  | 964.73750   | -32.627678  | 721.3464    | -458.22397  | 513.16704   | -5.1988836  | 936.10154   | 111.440651  |\n",
       "| left.parliament |  -0.8638052 |  -8.210886  |   8.447463  |   17.6766   |    34.34477 |  12.8422    |  -0.4255319 | -1.312305   |  55.46721   |   40.29109  | -24.07595   |   1.694387  | -10.0106    |   10.46523  |  -8.62072   |  0.3203399  | -13.42792   |   5.918647  |\n",
       "\n"
      ],
      "text/plain": [
       "                Australia   Austria    Belgium    Canada    Denmark    \n",
       "(Intercept)     414.7712254 423.077279 -56.926780 -227.8218 -1399.35735\n",
       "left.parliament  -0.8638052  -8.210886   8.447463   17.6766    34.34477\n",
       "                Finland  France      Germany   Ireland   Italy      Japan    \n",
       "(Intercept)     108.2245 202.4261408 95.657134 -94.78661 -738.74531 964.73750\n",
       "left.parliament  12.8422  -0.4255319 -1.312305  55.46721   40.29109 -24.07595\n",
       "                Netherlands New.Zealand Norway     Sweden    Switzerland\n",
       "(Intercept)     -32.627678  721.3464    -458.22397 513.16704 -5.1988836 \n",
       "left.parliament   1.694387  -10.0106      10.46523  -8.62072  0.3203399 \n",
       "                UK        USA       \n",
       "(Intercept)     936.10154 111.440651\n",
       "left.parliament -13.42792   5.918647"
      ]
     },
     "metadata": {},
     "output_type": "display_data"
    }
   ],
   "source": [
    "# Getting regression coefficients separately\n",
    "\n",
    "# For each country, old way:\n",
    "strike.list <- split(strikes, strikes$country)\n",
    "strikes.coefs <- sapply(strike.list, my.strike.lm)\n",
    "strikes.coefs"
   ]
  },
  {
   "cell_type": "code",
   "execution_count": 22,
   "id": "e70b61f7",
   "metadata": {},
   "outputs": [
    {
     "name": "stderr",
     "output_type": "stream",
     "text": [
      "------------------------------------------------------------------------------\n",
      "You have loaded plyr after dplyr - this is likely to cause problems.\n",
      "If you need functions from both plyr and dplyr, please load plyr first, then dplyr:\n",
      "library(plyr); library(dplyr)\n",
      "------------------------------------------------------------------------------\n",
      "\n",
      "Attaching package: 'plyr'\n",
      "\n",
      "The following objects are masked from 'package:dplyr':\n",
      "\n",
      "    arrange, count, desc, failwith, id, mutate, rename, summarise,\n",
      "    summarize\n",
      "\n"
     ]
    },
    {
     "name": "stdout",
     "output_type": "stream",
     "text": [
      "           \n",
      "country     (Intercept) left.parliament\n",
      "  Australia   414.77123      -0.8638052\n",
      "  Austria     423.07728      -8.2108864\n",
      "  Belgium     -56.92678       8.4474627\n"
     ]
    },
    {
     "data": {
      "text/html": [
       "'_____________________________________________'"
      ],
      "text/latex": [
       "'\\_\\_\\_\\_\\_\\_\\_\\_\\_\\_\\_\\_\\_\\_\\_\\_\\_\\_\\_\\_\\_\\_\\_\\_\\_\\_\\_\\_\\_\\_\\_\\_\\_\\_\\_\\_\\_\\_\\_\\_\\_\\_\\_\\_\\_'"
      ],
      "text/markdown": [
       "'_____________________________________________'"
      ],
      "text/plain": [
       "[1] \"_____________________________________________\""
      ]
     },
     "metadata": {},
     "output_type": "display_data"
    },
    {
     "name": "stdout",
     "output_type": "stream",
     "text": [
      "    country (Intercept) left.parliament\n",
      "1 Australia   414.77123      -0.8638052\n",
      "2   Austria   423.07728      -8.2108864\n",
      "3   Belgium   -56.92678       8.4474627\n"
     ]
    },
    {
     "data": {
      "text/html": [
       "'_____________________________________________'"
      ],
      "text/latex": [
       "'\\_\\_\\_\\_\\_\\_\\_\\_\\_\\_\\_\\_\\_\\_\\_\\_\\_\\_\\_\\_\\_\\_\\_\\_\\_\\_\\_\\_\\_\\_\\_\\_\\_\\_\\_\\_\\_\\_\\_\\_\\_\\_\\_\\_\\_'"
      ],
      "text/markdown": [
       "'_____________________________________________'"
      ],
      "text/plain": [
       "[1] \"_____________________________________________\""
      ]
     },
     "metadata": {},
     "output_type": "display_data"
    },
    {
     "name": "stdout",
     "output_type": "stream",
     "text": [
      "$Australia\n",
      "    (Intercept) left.parliament \n",
      "    414.7712254      -0.8638052 \n",
      "\n",
      "$Austria\n",
      "    (Intercept) left.parliament \n",
      "     423.077279       -8.210886 \n",
      "\n",
      "$Belgium\n",
      "    (Intercept) left.parliament \n",
      "     -56.926780        8.447463 \n",
      "\n"
     ]
    }
   ],
   "source": [
    "# New way, in three formats:\n",
    "library(plyr)\n",
    "library(dplyr)\n",
    "\n",
    "# Get back an array, note the difference to sapply()\n",
    "strike.coef.a <- daply(strikes, .(country), my.strike.lm)\n",
    "strike.coef.a %>% head(3) %>% print\n",
    "\"_____________________________________________\"\n",
    "\n",
    "# Get back a data frame\n",
    "strike.coef.d <- ddply(strikes, .(country), my.strike.lm)\n",
    "strike.coef.d %>% head(3) %>% print\n",
    "\"_____________________________________________\"\n",
    "\n",
    "# Get back a list\n",
    "strike.coef.l <- dlply(strikes, .(country), my.strike.lm)\n",
    "strike.coef.l %>% head(3) %>% print"
   ]
  },
  {
   "cell_type": "markdown",
   "id": "3147c27f",
   "metadata": {},
   "source": [
    "# Section 5: purrr\n",
    "\n",
    "### pipeline\n",
    "\n",
    "• purrr因为其各种各样的map函数而广泛使用\n",
    "\n",
    "• map函数与Base R的那些apply函数们相似，但map函数允许pipe的使用。除此之外，有一些map函数提供了apply函数们不具有的新功能。\n",
    "\n",
    "• 所有的purrr函数都具有**数据结构稳定性(type-stable)**。它们始终返回各函数所固定的数据类型，例如：map()返回list，map_dbl()返回double vectors。若无法返回这种数据类型则报错。\n",
    "\n",
    "• 所有的map()函数可以接受函数、公式、character vector或numeric vector。\n",
    "\n",
    "### map函数将输入转换为与其长度相同的vector（需要安装dplyr）：\n",
    "• map()返回list或dataframe。\n",
    "\n",
    "• map_lgl(), map_int(), map_dbl(), map_chr()返回对应类型的vector，即logical，integer，double integer，character。\n",
    "\n",
    "• map_dfr()和map_dfc()分别返回row-binding dataframe和column-binding dataframe。"
   ]
  },
  {
   "cell_type": "markdown",
   "id": "33e6cab2",
   "metadata": {},
   "source": [
    "## Basic Example"
   ]
  },
  {
   "cell_type": "code",
   "execution_count": 23,
   "id": "75860f30",
   "metadata": {},
   "outputs": [
    {
     "name": "stderr",
     "output_type": "stream",
     "text": [
      "\n",
      "Attaching package: 'purrr'\n",
      "\n",
      "The following object is masked from 'package:plyr':\n",
      "\n",
      "    compact\n",
      "\n",
      "The following object is masked from 'package:magrittr':\n",
      "\n",
      "    set_names\n",
      "\n",
      "The following object is masked from 'package:data.table':\n",
      "\n",
      "    transpose\n",
      "\n"
     ]
    },
    {
     "data": {
      "text/html": [
       "<ol>\n",
       "\t<li>0</li>\n",
       "\t<li>1</li>\n",
       "\t<li>6.90775527898214</li>\n",
       "</ol>\n"
      ],
      "text/latex": [
       "\\begin{enumerate}\n",
       "\\item 0\n",
       "\\item 1\n",
       "\\item 6.90775527898214\n",
       "\\end{enumerate}\n"
      ],
      "text/markdown": [
       "1. 0\n",
       "2. 1\n",
       "3. 6.90775527898214\n",
       "\n",
       "\n"
      ],
      "text/plain": [
       "[[1]]\n",
       "[1] 0\n",
       "\n",
       "[[2]]\n",
       "[1] 1\n",
       "\n",
       "[[3]]\n",
       "[1] 6.907755\n"
      ]
     },
     "metadata": {},
     "output_type": "display_data"
    }
   ],
   "source": [
    "library(\"purrr\")\n",
    "\n",
    "# map() will output a list.\n",
    "map(c(1,exp(1),1000),log)"
   ]
  },
  {
   "cell_type": "code",
   "execution_count": 24,
   "id": "030c40e4",
   "metadata": {},
   "outputs": [
    {
     "data": {
      "text/html": [
       "<ol class=list-inline>\n",
       "\t<li>0</li>\n",
       "\t<li>0.693147180559945</li>\n",
       "\t<li>1.09861228866811</li>\n",
       "</ol>\n"
      ],
      "text/latex": [
       "\\begin{enumerate*}\n",
       "\\item 0\n",
       "\\item 0.693147180559945\n",
       "\\item 1.09861228866811\n",
       "\\end{enumerate*}\n"
      ],
      "text/markdown": [
       "1. 0\n",
       "2. 0.693147180559945\n",
       "3. 1.09861228866811\n",
       "\n",
       "\n"
      ],
      "text/plain": [
       "[1] 0.0000000 0.6931472 1.0986123"
      ]
     },
     "metadata": {},
     "output_type": "display_data"
    },
    {
     "data": {
      "text/html": [
       "<ol class=list-inline>\n",
       "\t<li>0</li>\n",
       "\t<li>0.693147180559945</li>\n",
       "\t<li>1.09861228866811</li>\n",
       "</ol>\n"
      ],
      "text/latex": [
       "\\begin{enumerate*}\n",
       "\\item 0\n",
       "\\item 0.693147180559945\n",
       "\\item 1.09861228866811\n",
       "\\end{enumerate*}\n"
      ],
      "text/markdown": [
       "1. 0\n",
       "2. 0.693147180559945\n",
       "3. 1.09861228866811\n",
       "\n",
       "\n"
      ],
      "text/plain": [
       "[1] 0.0000000 0.6931472 1.0986123"
      ]
     },
     "metadata": {},
     "output_type": "display_data"
    }
   ],
   "source": [
    "# map_dbl() outputs a double precision vector.\n",
    "map_dbl(1:3,log)\n",
    "\n",
    "# It will return error if we force to use map_int().\n",
    "# map_int(1:3, log)\n",
    "\n",
    "# map() is often used in a pipeline.\n",
    "1:3 %>% map_dbl(log)"
   ]
  },
  {
   "cell_type": "code",
   "execution_count": 50,
   "id": "29958b91",
   "metadata": {},
   "outputs": [
    {
     "data": {
      "text/html": [
       "<ol class=list-inline>\n",
       "\t<li>0.841470984807897</li>\n",
       "\t<li>1.41078129050291</li>\n",
       "\t<li>7.73463481951414</li>\n",
       "</ol>\n"
      ],
      "text/latex": [
       "\\begin{enumerate*}\n",
       "\\item 0.841470984807897\n",
       "\\item 1.41078129050291\n",
       "\\item 7.73463481951414\n",
       "\\end{enumerate*}\n"
      ],
      "text/markdown": [
       "1. 0.841470984807897\n",
       "2. 1.41078129050291\n",
       "3. 7.73463481951414\n",
       "\n",
       "\n"
      ],
      "text/plain": [
       "[1] 0.841471 1.410781 7.734635"
      ]
     },
     "metadata": {},
     "output_type": "display_data"
    },
    {
     "data": {
      "text/html": [
       "<ol class=list-inline>\n",
       "\t<li>0.841470984807897</li>\n",
       "\t<li>1.41078129050291</li>\n",
       "\t<li>7.73463481951414</li>\n",
       "</ol>\n"
      ],
      "text/latex": [
       "\\begin{enumerate*}\n",
       "\\item 0.841470984807897\n",
       "\\item 1.41078129050291\n",
       "\\item 7.73463481951414\n",
       "\\end{enumerate*}\n"
      ],
      "text/markdown": [
       "1. 0.841470984807897\n",
       "2. 1.41078129050291\n",
       "3. 7.73463481951414\n",
       "\n",
       "\n"
      ],
      "text/plain": [
       "[1] 0.841471 1.410781 7.734635"
      ]
     },
     "metadata": {},
     "output_type": "display_data"
    }
   ],
   "source": [
    "# Write a R function\n",
    "f <- function(x){\n",
    "    return(log(x)+sin(x))\n",
    "}\n",
    "\n",
    "f(c(1, exp(1), 1000))\n",
    "\n",
    "# Or use vectorized R operations\n",
    "c(1, exp(1), 1000) %>% map_dbl(~log(.)+sin(.)) # 这类似于python中的lambda"
   ]
  },
  {
   "cell_type": "markdown",
   "id": "eb2e4eb9",
   "metadata": {},
   "source": [
    "### Research Question\n",
    "• Is there a relationship between a country’s ruling party alignment (left versus right) and the volume of strikes?\n",
    "\n",
    "• Use a pipeline to accomplish this task."
   ]
  },
  {
   "cell_type": "code",
   "execution_count": 26,
   "id": "cefec56c",
   "metadata": {},
   "outputs": [
    {
     "data": {
      "text/html": [
       "<dl>\n",
       "\t<dt>$Australia</dt>\n",
       "\t\t<dd><dl class=dl-horizontal>\n",
       "\t<dt>(Intercept)</dt>\n",
       "\t\t<dd>414.771225376031</dd>\n",
       "\t<dt>left.parliament</dt>\n",
       "\t\t<dd>-0.86380519115795</dd>\n",
       "</dl>\n",
       "</dd>\n",
       "\t<dt>$Austria</dt>\n",
       "\t\t<dd><dl class=dl-horizontal>\n",
       "\t<dt>(Intercept)</dt>\n",
       "\t\t<dd>423.077279226955</dd>\n",
       "\t<dt>left.parliament</dt>\n",
       "\t\t<dd>-8.21088636778813</dd>\n",
       "</dl>\n",
       "</dd>\n",
       "\t<dt>$Belgium</dt>\n",
       "\t\t<dd><dl class=dl-horizontal>\n",
       "\t<dt>(Intercept)</dt>\n",
       "\t\t<dd>-56.926779661773</dd>\n",
       "\t<dt>left.parliament</dt>\n",
       "\t\t<dd>8.44746270221127</dd>\n",
       "</dl>\n",
       "</dd>\n",
       "</dl>\n"
      ],
      "text/latex": [
       "\\begin{description}\n",
       "\\item[\\$Australia] \\begin{description*}\n",
       "\\item[(Intercept)] 414.771225376031\n",
       "\\item[left.parliament] -0.86380519115795\n",
       "\\end{description*}\n",
       "\n",
       "\\item[\\$Austria] \\begin{description*}\n",
       "\\item[(Intercept)] 423.077279226955\n",
       "\\item[left.parliament] -8.21088636778813\n",
       "\\end{description*}\n",
       "\n",
       "\\item[\\$Belgium] \\begin{description*}\n",
       "\\item[(Intercept)] -56.926779661773\n",
       "\\item[left.parliament] 8.44746270221127\n",
       "\\end{description*}\n",
       "\n",
       "\\end{description}\n"
      ],
      "text/markdown": [
       "$Australia\n",
       ":   (Intercept)\n",
       ":   414.771225376031left.parliament\n",
       ":   -0.86380519115795\n",
       "\n",
       "\n",
       "$Austria\n",
       ":   (Intercept)\n",
       ":   423.077279226955left.parliament\n",
       ":   -8.21088636778813\n",
       "\n",
       "\n",
       "$Belgium\n",
       ":   (Intercept)\n",
       ":   -56.926779661773left.parliament\n",
       ":   8.44746270221127\n",
       "\n",
       "\n",
       "\n",
       "\n"
      ],
      "text/plain": [
       "$Australia\n",
       "    (Intercept) left.parliament \n",
       "    414.7712254      -0.8638052 \n",
       "\n",
       "$Austria\n",
       "    (Intercept) left.parliament \n",
       "     423.077279       -8.210886 \n",
       "\n",
       "$Belgium\n",
       "    (Intercept) left.parliament \n",
       "     -56.926780        8.447463 \n"
      ]
     },
     "metadata": {},
     "output_type": "display_data"
    }
   ],
   "source": [
    "strike.coef <- strikes %>% split(.$country) %>% \n",
    "    map(~lm(strike.volume~left.parliament, data =.)) %>% \n",
    "    map(coef) # 最后一个map的作用是从上一个map函数得到的lm()模型中提取参数，函数为coef()\n",
    "head(strike.coef, 3)"
   ]
  },
  {
   "cell_type": "markdown",
   "id": "2936e240",
   "metadata": {},
   "source": [
    "### Research Question\n",
    "• Is there a relationship between a country’s ruling party alignment (left versus right) and the volume of strikes?\n",
    "\n",
    "• Let's use map and the pipeline to reformulate a more \"tidyverse\" solution:"
   ]
  },
  {
   "cell_type": "code",
   "execution_count": 27,
   "id": "b53252b7",
   "metadata": {},
   "outputs": [
    {
     "name": "stderr",
     "output_type": "stream",
     "text": [
      "Registered S3 methods overwritten by 'ggplot2':\n",
      "  method         from \n",
      "  [.quosures     rlang\n",
      "  c.quosures     rlang\n",
      "  print.quosures rlang\n",
      "Registered S3 method overwritten by 'rvest':\n",
      "  method            from\n",
      "  read_xml.response xml2\n",
      "-- Attaching packages --------------------------------------- tidyverse 1.2.1 --\n",
      "v ggplot2 3.1.1     v stringr 1.4.0\n",
      "v tidyr   0.8.3     v forcats 0.4.0\n",
      "-- Conflicts ------------------------------------------ tidyverse_conflicts() --\n",
      "x plyr::arrange()    masks dplyr::arrange()\n",
      "x dplyr::between()   masks data.table::between()\n",
      "x purrr::compact()   masks plyr::compact()\n",
      "x plyr::count()      masks dplyr::count()\n",
      "x tidyr::extract()   masks magrittr::extract()\n",
      "x plyr::failwith()   masks dplyr::failwith()\n",
      "x dplyr::filter()    masks stats::filter()\n",
      "x dplyr::first()     masks data.table::first()\n",
      "x plyr::id()         masks dplyr::id()\n",
      "x dplyr::lag()       masks stats::lag()\n",
      "x dplyr::last()      masks data.table::last()\n",
      "x plyr::mutate()     masks dplyr::mutate()\n",
      "x plyr::rename()     masks dplyr::rename()\n",
      "x purrr::set_names() masks magrittr::set_names()\n",
      "x plyr::summarise()  masks dplyr::summarise()\n",
      "x plyr::summarize()  masks dplyr::summarize()\n",
      "x purrr::transpose() masks data.table::transpose()\n"
     ]
    },
    {
     "data": {
      "text/html": [
       "<table>\n",
       "<thead><tr><th scope=col>Australia</th><th scope=col>Austria</th><th scope=col>Belgium</th><th scope=col>Canada</th><th scope=col>Denmark</th><th scope=col>Finland</th><th scope=col>France</th><th scope=col>Germany</th><th scope=col>Ireland</th><th scope=col>Italy</th><th scope=col>Japan</th><th scope=col>Netherlands</th><th scope=col>New.Zealand</th><th scope=col>Norway</th><th scope=col>Sweden</th><th scope=col>Switzerland</th><th scope=col>UK</th><th scope=col>USA</th></tr></thead>\n",
       "<tbody>\n",
       "\t<tr><td>414.7712254</td><td>423.077279 </td><td>-56.926780 </td><td>-227.8218  </td><td>-1399.35735</td><td>108.2245   </td><td>202.4261408</td><td>95.657134  </td><td>-94.78661  </td><td>-738.74531 </td><td>964.73750  </td><td>-32.627678 </td><td>721.3464   </td><td>-458.22397 </td><td>513.16704  </td><td>-5.1988836 </td><td>936.10154  </td><td>111.440651 </td></tr>\n",
       "\t<tr><td> -0.8638052</td><td> -8.210886 </td><td>  8.447463 </td><td>  17.6766  </td><td>   34.34477</td><td> 12.8422   </td><td> -0.4255319</td><td>-1.312305  </td><td> 55.46721  </td><td>  40.29109 </td><td>-24.07595  </td><td>  1.694387 </td><td>-10.0106   </td><td>  10.46523 </td><td> -8.62072  </td><td> 0.3203399 </td><td>-13.42792  </td><td>  5.918647 </td></tr>\n",
       "</tbody>\n",
       "</table>\n"
      ],
      "text/latex": [
       "\\begin{tabular}{r|llllllllllllllllll}\n",
       " Australia & Austria & Belgium & Canada & Denmark & Finland & France & Germany & Ireland & Italy & Japan & Netherlands & New.Zealand & Norway & Sweden & Switzerland & UK & USA\\\\\n",
       "\\hline\n",
       "\t 414.7712254 & 423.077279  & -56.926780  & -227.8218   & -1399.35735 & 108.2245    & 202.4261408 & 95.657134   & -94.78661   & -738.74531  & 964.73750   & -32.627678  & 721.3464    & -458.22397  & 513.16704   & -5.1988836  & 936.10154   & 111.440651 \\\\\n",
       "\t  -0.8638052 &  -8.210886  &   8.447463  &   17.6766   &    34.34477 &  12.8422    &  -0.4255319 & -1.312305   &  55.46721   &   40.29109  & -24.07595   &   1.694387  & -10.0106    &   10.46523  &  -8.62072   &  0.3203399  & -13.42792   &   5.918647 \\\\\n",
       "\\end{tabular}\n"
      ],
      "text/markdown": [
       "\n",
       "| Australia | Austria | Belgium | Canada | Denmark | Finland | France | Germany | Ireland | Italy | Japan | Netherlands | New.Zealand | Norway | Sweden | Switzerland | UK | USA |\n",
       "|---|---|---|---|---|---|---|---|---|---|---|---|---|---|---|---|---|---|\n",
       "| 414.7712254 | 423.077279  | -56.926780  | -227.8218   | -1399.35735 | 108.2245    | 202.4261408 | 95.657134   | -94.78661   | -738.74531  | 964.73750   | -32.627678  | 721.3464    | -458.22397  | 513.16704   | -5.1988836  | 936.10154   | 111.440651  |\n",
       "|  -0.8638052 |  -8.210886  |   8.447463  |   17.6766   |    34.34477 |  12.8422    |  -0.4255319 | -1.312305   |  55.46721   |   40.29109  | -24.07595   |   1.694387  | -10.0106    |   10.46523  |  -8.62072   |  0.3203399  | -13.42792   |   5.918647  |\n",
       "\n"
      ],
      "text/plain": [
       "  Australia   Austria    Belgium    Canada    Denmark     Finland  France     \n",
       "1 414.7712254 423.077279 -56.926780 -227.8218 -1399.35735 108.2245 202.4261408\n",
       "2  -0.8638052  -8.210886   8.447463   17.6766    34.34477  12.8422  -0.4255319\n",
       "  Germany   Ireland   Italy      Japan     Netherlands New.Zealand Norway    \n",
       "1 95.657134 -94.78661 -738.74531 964.73750 -32.627678  721.3464    -458.22397\n",
       "2 -1.312305  55.46721   40.29109 -24.07595   1.694387  -10.0106      10.46523\n",
       "  Sweden    Switzerland UK        USA       \n",
       "1 513.16704 -5.1988836  936.10154 111.440651\n",
       "2  -8.62072  0.3203399  -13.42792   5.918647"
      ]
     },
     "metadata": {},
     "output_type": "display_data"
    }
   ],
   "source": [
    "library(\"tidyverse\")\n",
    "strike.coef <- strikes %>% split(.$country) %>% \n",
    "    map(~lm(strike.volume~left.parliament, data=.)) %>% \n",
    "    map_dfc(coef)\n",
    "\n",
    "strike.coef"
   ]
  },
  {
   "cell_type": "markdown",
   "id": "20660f0b",
   "metadata": {},
   "source": [
    "### Research Question\n",
    "• Consider the following example taken directly from the tidyverse website: https://www.tidyverse.org\n",
    "\n",
    "• The following example uses purrr to solve a fairly realistic problem:\n",
    "split a data frame into pieces, fit a model to each piece, compute the\n",
    "summary, then extract the $\\mathit{R}^{2}$."
   ]
  },
  {
   "cell_type": "code",
   "execution_count": 28,
   "id": "dbc83cc4",
   "metadata": {},
   "outputs": [
    {
     "data": {
      "text/html": [
       "<dl class=dl-horizontal>\n",
       "\t<dt>4</dt>\n",
       "\t\t<dd>0.50863259632314</dd>\n",
       "\t<dt>6</dt>\n",
       "\t\t<dd>0.464510150550548</dd>\n",
       "\t<dt>8</dt>\n",
       "\t\t<dd>0.422965536496112</dd>\n",
       "</dl>\n"
      ],
      "text/latex": [
       "\\begin{description*}\n",
       "\\item[4] 0.50863259632314\n",
       "\\item[6] 0.464510150550548\n",
       "\\item[8] 0.422965536496112\n",
       "\\end{description*}\n"
      ],
      "text/markdown": [
       "4\n",
       ":   0.508632596323146\n",
       ":   0.4645101505505488\n",
       ":   0.422965536496112\n",
       "\n"
      ],
      "text/plain": [
       "        4         6         8 \n",
       "0.5086326 0.4645102 0.4229655 "
      ]
     },
     "metadata": {},
     "output_type": "display_data"
    }
   ],
   "source": [
    "mtcars %>% split(.$cyl) %>% \n",
    "    map(~lm(mpg~wt, data=.)) %>% \n",
    "    map(summary) %>% \n",
    "    map_dbl(\"r.squared\")"
   ]
  },
  {
   "cell_type": "markdown",
   "id": "a1fe5aff",
   "metadata": {},
   "source": [
    "## Miscellaneous purrr functions\n",
    "• purrr同时也提供一些map()函数，它们具有apply函数们所不具有的功能。\n",
    "\n",
    "• 例如: invoke_map()，它可以将一系列函数组成的list遍历应用在一系列input组成的list上。\n",
    "\n",
    "### Motivation\n",
    "• Suppose you want to explore the relationship unemployment has on inflation given the strikes dataset. You decide that you wish to use a robust estimation procedure, but are unsure of whether to use absolute value loss or Huber loss. You also include squared loss as a baseline.\n",
    "\n",
    "• invoke_map() allows you to estimate the parameters of both loss functions simultaneously so that you can quickly compare their results.\n",
    "\n",
    "• We will use gradient descent (nlm() function) to optimize the parameters for all three loss functions simultaneously.\n"
   ]
  },
  {
   "cell_type": "code",
   "execution_count": 29,
   "id": "2f245b7a",
   "metadata": {},
   "outputs": [
    {
     "name": "stderr",
     "output_type": "stream",
     "text": [
      "\n",
      "\u001b[36m--\u001b[39m \u001b[1m\u001b[1mColumn specification\u001b[1m\u001b[22m \u001b[36m--------------------------------------------------------\u001b[39m\n",
      "cols(\n",
      "  country = col_character(),\n",
      "  year = col_double(),\n",
      "  strike.volume = col_double(),\n",
      "  unemployment = col_double(),\n",
      "  inflation = col_double(),\n",
      "  left.parliament = col_double(),\n",
      "  centralization = col_double(),\n",
      "  density = col_double()\n",
      ")\n",
      "\n"
     ]
    }
   ],
   "source": [
    "# First, load in the data\n",
    "df <- read_csv(\"strikes.csv\")\n",
    "x <- df %>% select(unemployment)\n",
    "y <- df %>% select(inflation)\n",
    "\n",
    "# 定义梯度下降法的初始点\n",
    "beta <- rep(0,2)"
   ]
  },
  {
   "cell_type": "code",
   "execution_count": 30,
   "id": "21a0040a",
   "metadata": {},
   "outputs": [],
   "source": [
    "# Next, set up our loss functions\n",
    "\n",
    "# Squared loss - Baseline (why not just use OLR?)\n",
    "# 实际上在squared loss function下，直接使用OLR得到sum of squared errors，\n",
    "# 与定义一个squared loss function，然后使用nlm()求其最小值的结果是一样的。\n",
    "# 但为了与后面的absolute value loss function和Huber loss function相统一，\n",
    "# 故这里也选择定义一个squared loss function.\n",
    "\n",
    "square.loss <- function(beta){\n",
    "    lin.diff <- y-(beta[1]+beta[2]*x)\n",
    "    (lin.diff^2) %>%\n",
    "    sum() %>%\n",
    "    return()\n",
    "}\n",
    "\n",
    "# Absolute value loss function\n",
    "abs.loss <- function(beta){\n",
    "    lin.diff <- y-(beta[1]+beta[2]*x)\n",
    "    abs(lin.diff) %>%\n",
    "    sum() %>%\n",
    "    return()\n",
    "}\n",
    "\n",
    "# Huber loss function\n",
    "huber.loss <- function(beta){\n",
    "    u <- y-(beta[1]+beta[2]*x)\n",
    "    for (i in 1:nrow(u)){\n",
    "        if(u[i,] >= -1 & u[i,] <= 1){\n",
    "            u[i,] <- u[i,]^2\n",
    "        }\n",
    "        else{u[i,] <- 2*abs(u[i,])-1}\n",
    "    }\n",
    "    return (sum(u))\n",
    "}"
   ]
  },
  {
   "cell_type": "code",
   "execution_count": 31,
   "id": "68e918a7",
   "metadata": {},
   "outputs": [
    {
     "data": {
      "text/html": [
       "<ol class=list-inline>\n",
       "\t<li>5.00704160010164</li>\n",
       "\t<li>0.267350346537501</li>\n",
       "</ol>\n"
      ],
      "text/latex": [
       "\\begin{enumerate*}\n",
       "\\item 5.00704160010164\n",
       "\\item 0.267350346537501\n",
       "\\end{enumerate*}\n"
      ],
      "text/markdown": [
       "1. 5.00704160010164\n",
       "2. 0.267350346537501\n",
       "\n",
       "\n"
      ],
      "text/plain": [
       "[1] 5.0070416 0.2673503"
      ]
     },
     "metadata": {},
     "output_type": "display_data"
    },
    {
     "data": {
      "text/html": [
       "<dl class=dl-horizontal>\n",
       "\t<dt>(Intercept)</dt>\n",
       "\t\t<dd>5.00704160010086</dd>\n",
       "\t<dt>unemployment</dt>\n",
       "\t\t<dd>0.267350346537474</dd>\n",
       "</dl>\n"
      ],
      "text/latex": [
       "\\begin{description*}\n",
       "\\item[(Intercept)] 5.00704160010086\n",
       "\\item[unemployment] 0.267350346537474\n",
       "\\end{description*}\n"
      ],
      "text/markdown": [
       "(Intercept)\n",
       ":   5.00704160010086unemployment\n",
       ":   0.267350346537474\n",
       "\n"
      ],
      "text/plain": [
       " (Intercept) unemployment \n",
       "   5.0070416    0.2673503 "
      ]
     },
     "metadata": {},
     "output_type": "display_data"
    },
    {
     "data": {
      "text/html": [
       "<ol class=list-inline>\n",
       "\t<li>3.9192251422115</li>\n",
       "\t<li>0.261472066085069</li>\n",
       "</ol>\n"
      ],
      "text/latex": [
       "\\begin{enumerate*}\n",
       "\\item 3.9192251422115\n",
       "\\item 0.261472066085069\n",
       "\\end{enumerate*}\n"
      ],
      "text/markdown": [
       "1. 3.9192251422115\n",
       "2. 0.261472066085069\n",
       "\n",
       "\n"
      ],
      "text/plain": [
       "[1] 3.9192251 0.2614721"
      ]
     },
     "metadata": {},
     "output_type": "display_data"
    },
    {
     "data": {
      "text/html": [
       "<ol class=list-inline>\n",
       "\t<li>4.01286633426656</li>\n",
       "\t<li>0.263968886512152</li>\n",
       "</ol>\n"
      ],
      "text/latex": [
       "\\begin{enumerate*}\n",
       "\\item 4.01286633426656\n",
       "\\item 0.263968886512152\n",
       "\\end{enumerate*}\n"
      ],
      "text/markdown": [
       "1. 4.01286633426656\n",
       "2. 0.263968886512152\n",
       "\n",
       "\n"
      ],
      "text/plain": [
       "[1] 4.0128663 0.2639689"
      ]
     },
     "metadata": {},
     "output_type": "display_data"
    }
   ],
   "source": [
    "# And finally our optimization algorithm nlm() is a gradient descent based function.\n",
    "# nlm(f, p, ..., hessian = FALSE, typsize = rep(1, length(p)),\n",
    "    # fscale = 1, print.level = 0, ndigit = 12, gradtol = 1e-6,\n",
    "    # stepmax = max(1000 * sqrt(sum((p/typsize)^2)), 1000),\n",
    "    # steptol = 1e-6, iterlim = 100, check.analyticals = TRUE)\n",
    "\n",
    "nlm(square.loss,p=beta)$estimate # Regular squared loss\n",
    "\n",
    "coef(lm(inflation~unemployment,data=cbind(x,y))) # Check!\n",
    "\n",
    "nlm(abs.loss,p=beta)$estimate # Absolute value loss\n",
    "\n",
    "nlm(huber.loss,p=beta)$estimate # Huber loss"
   ]
  },
  {
   "cell_type": "code",
   "execution_count": 32,
   "id": "de4792f8",
   "metadata": {},
   "outputs": [
    {
     "data": {
      "text/html": [
       "<ol>\n",
       "\t<li><dl>\n",
       "\t<dt>$minimum</dt>\n",
       "\t\t<dd>12936.7823973408</dd>\n",
       "\t<dt>$estimate</dt>\n",
       "\t\t<dd><ol class=list-inline>\n",
       "\t<li>5.00704160010164</li>\n",
       "\t<li>0.267350346537501</li>\n",
       "</ol>\n",
       "</dd>\n",
       "\t<dt>$gradient</dt>\n",
       "\t\t<dd><ol class=list-inline>\n",
       "\t<li>0</li>\n",
       "\t<li>9.09494701772927e-09</li>\n",
       "</ol>\n",
       "</dd>\n",
       "\t<dt>$code</dt>\n",
       "\t\t<dd>1</dd>\n",
       "\t<dt>$iterations</dt>\n",
       "\t\t<dd>4</dd>\n",
       "</dl>\n",
       "</li>\n",
       "\t<li><dl>\n",
       "\t<dt>$minimum</dt>\n",
       "\t\t<dd>2133.08995251066</dd>\n",
       "\t<dt>$estimate</dt>\n",
       "\t\t<dd><ol class=list-inline>\n",
       "\t<li>3.9192251422115</li>\n",
       "\t<li>0.261472066085069</li>\n",
       "</ol>\n",
       "</dd>\n",
       "\t<dt>$gradient</dt>\n",
       "\t\t<dd><ol class=list-inline>\n",
       "\t<li>-0.999999973142883</li>\n",
       "\t<li>0.800000179879134</li>\n",
       "</ol>\n",
       "</dd>\n",
       "\t<dt>$code</dt>\n",
       "\t\t<dd>2</dd>\n",
       "\t<dt>$iterations</dt>\n",
       "\t\t<dd>18</dd>\n",
       "</dl>\n",
       "</li>\n",
       "\t<li><dl>\n",
       "\t<dt>$minimum</dt>\n",
       "\t\t<dd>3678.84192731462</dd>\n",
       "\t<dt>$estimate</dt>\n",
       "\t\t<dd><ol class=list-inline>\n",
       "\t<li>4.01286633426656</li>\n",
       "\t<li>0.263968886512152</li>\n",
       "</ol>\n",
       "</dd>\n",
       "\t<dt>$gradient</dt>\n",
       "\t\t<dd><ol class=list-inline>\n",
       "\t<li>0.000622026252831075</li>\n",
       "\t<li>0.000303316483041271</li>\n",
       "</ol>\n",
       "</dd>\n",
       "\t<dt>$code</dt>\n",
       "\t\t<dd>1</dd>\n",
       "\t<dt>$iterations</dt>\n",
       "\t\t<dd>10</dd>\n",
       "</dl>\n",
       "</li>\n",
       "</ol>\n"
      ],
      "text/latex": [
       "\\begin{enumerate}\n",
       "\\item \\begin{description}\n",
       "\\item[\\$minimum] 12936.7823973408\n",
       "\\item[\\$estimate] \\begin{enumerate*}\n",
       "\\item 5.00704160010164\n",
       "\\item 0.267350346537501\n",
       "\\end{enumerate*}\n",
       "\n",
       "\\item[\\$gradient] \\begin{enumerate*}\n",
       "\\item 0\n",
       "\\item 9.09494701772927e-09\n",
       "\\end{enumerate*}\n",
       "\n",
       "\\item[\\$code] 1\n",
       "\\item[\\$iterations] 4\n",
       "\\end{description}\n",
       "\n",
       "\\item \\begin{description}\n",
       "\\item[\\$minimum] 2133.08995251066\n",
       "\\item[\\$estimate] \\begin{enumerate*}\n",
       "\\item 3.9192251422115\n",
       "\\item 0.261472066085069\n",
       "\\end{enumerate*}\n",
       "\n",
       "\\item[\\$gradient] \\begin{enumerate*}\n",
       "\\item -0.999999973142883\n",
       "\\item 0.800000179879134\n",
       "\\end{enumerate*}\n",
       "\n",
       "\\item[\\$code] 2\n",
       "\\item[\\$iterations] 18\n",
       "\\end{description}\n",
       "\n",
       "\\item \\begin{description}\n",
       "\\item[\\$minimum] 3678.84192731462\n",
       "\\item[\\$estimate] \\begin{enumerate*}\n",
       "\\item 4.01286633426656\n",
       "\\item 0.263968886512152\n",
       "\\end{enumerate*}\n",
       "\n",
       "\\item[\\$gradient] \\begin{enumerate*}\n",
       "\\item 0.000622026252831075\n",
       "\\item 0.000303316483041271\n",
       "\\end{enumerate*}\n",
       "\n",
       "\\item[\\$code] 1\n",
       "\\item[\\$iterations] 10\n",
       "\\end{description}\n",
       "\n",
       "\\end{enumerate}\n"
      ],
      "text/markdown": [
       "1. $minimum\n",
       ":   12936.7823973408\n",
       "$estimate\n",
       ":   1. 5.00704160010164\n",
       "2. 0.267350346537501\n",
       "\n",
       "\n",
       "\n",
       "$gradient\n",
       ":   1. 0\n",
       "2. 9.09494701772927e-09\n",
       "\n",
       "\n",
       "\n",
       "$code\n",
       ":   1\n",
       "$iterations\n",
       ":   4\n",
       "\n",
       "\n",
       "\n",
       "2. $minimum\n",
       ":   2133.08995251066\n",
       "$estimate\n",
       ":   1. 3.9192251422115\n",
       "2. 0.261472066085069\n",
       "\n",
       "\n",
       "\n",
       "$gradient\n",
       ":   1. -0.999999973142883\n",
       "2. 0.800000179879134\n",
       "\n",
       "\n",
       "\n",
       "$code\n",
       ":   2\n",
       "$iterations\n",
       ":   18\n",
       "\n",
       "\n",
       "\n",
       "3. $minimum\n",
       ":   3678.84192731462\n",
       "$estimate\n",
       ":   1. 4.01286633426656\n",
       "2. 0.263968886512152\n",
       "\n",
       "\n",
       "\n",
       "$gradient\n",
       ":   1. 0.000622026252831075\n",
       "2. 0.000303316483041271\n",
       "\n",
       "\n",
       "\n",
       "$code\n",
       ":   1\n",
       "$iterations\n",
       ":   10\n",
       "\n",
       "\n",
       "\n",
       "\n",
       "\n"
      ],
      "text/plain": [
       "[[1]]\n",
       "[[1]]$minimum\n",
       "[1] 12936.78\n",
       "\n",
       "[[1]]$estimate\n",
       "[1] 5.0070416 0.2673503\n",
       "\n",
       "[[1]]$gradient\n",
       "[1] 0.000000e+00 9.094947e-09\n",
       "\n",
       "[[1]]$code\n",
       "[1] 1\n",
       "\n",
       "[[1]]$iterations\n",
       "[1] 4\n",
       "\n",
       "\n",
       "[[2]]\n",
       "[[2]]$minimum\n",
       "[1] 2133.09\n",
       "\n",
       "[[2]]$estimate\n",
       "[1] 3.9192251 0.2614721\n",
       "\n",
       "[[2]]$gradient\n",
       "[1] -1.0000000  0.8000002\n",
       "\n",
       "[[2]]$code\n",
       "[1] 2\n",
       "\n",
       "[[2]]$iterations\n",
       "[1] 18\n",
       "\n",
       "\n",
       "[[3]]\n",
       "[[3]]$minimum\n",
       "[1] 3678.842\n",
       "\n",
       "[[3]]$estimate\n",
       "[1] 4.0128663 0.2639689\n",
       "\n",
       "[[3]]$gradient\n",
       "[1] 0.0006220263 0.0003033165\n",
       "\n",
       "[[3]]$code\n",
       "[1] 1\n",
       "\n",
       "[[3]]$iterations\n",
       "[1] 10\n",
       "\n"
      ]
     },
     "metadata": {},
     "output_type": "display_data"
    }
   ],
   "source": [
    "# Finally, we can run all three simultaneously.\n",
    "\n",
    "fun.list <- list(nlm,nlm,nlm)\n",
    "\n",
    "# Which is the same as:\n",
    "# input.list <- list(list(square.loss,beta),\n",
    "                   # list(abs.loss,beta),\n",
    "                   # list(huber.loss,beta))\n",
    "input.list <- list(square.loss, abs.loss, huber.loss) %>% map(~list(., beta))\n",
    "\n",
    "run.invoke <- invoke_map(fun.list,input.list)\n",
    "run.invoke"
   ]
  },
  {
   "cell_type": "code",
   "execution_count": 33,
   "id": "86f26443",
   "metadata": {
    "scrolled": true
   },
   "outputs": [
    {
     "data": {
      "text/html": [
       "<table>\n",
       "<tbody>\n",
       "\t<tr><td>12936.782    </td><td>5.007042     </td><td>0.2673503    </td><td> 0.0000000000</td><td>9.094947e-09 </td><td>1            </td><td> 4           </td></tr>\n",
       "\t<tr><td> 2133.090    </td><td>3.919225     </td><td>0.2614721    </td><td>-0.9999999731</td><td>8.000002e-01 </td><td>2            </td><td>18           </td></tr>\n",
       "\t<tr><td> 3678.842    </td><td>4.012866     </td><td>0.2639689    </td><td> 0.0006220263</td><td>3.033165e-04 </td><td>1            </td><td>10           </td></tr>\n",
       "</tbody>\n",
       "</table>\n"
      ],
      "text/latex": [
       "\\begin{tabular}{lllllll}\n",
       "\t 12936.782     & 5.007042      & 0.2673503     &  0.0000000000 & 9.094947e-09  & 1             &  4           \\\\\n",
       "\t  2133.090     & 3.919225      & 0.2614721     & -0.9999999731 & 8.000002e-01  & 2             & 18           \\\\\n",
       "\t  3678.842     & 4.012866      & 0.2639689     &  0.0006220263 & 3.033165e-04  & 1             & 10           \\\\\n",
       "\\end{tabular}\n"
      ],
      "text/markdown": [
       "\n",
       "| 12936.782     | 5.007042      | 0.2673503     |  0.0000000000 | 9.094947e-09  | 1             |  4            |\n",
       "|  2133.090     | 3.919225      | 0.2614721     | -0.9999999731 | 8.000002e-01  | 2             | 18            |\n",
       "|  3678.842     | 4.012866      | 0.2639689     |  0.0006220263 | 3.033165e-04  | 1             | 10            |\n",
       "\n"
      ],
      "text/plain": [
       "     [,1]      [,2]     [,3]      [,4]          [,5]         [,6] [,7]\n",
       "[1,] 12936.782 5.007042 0.2673503  0.0000000000 9.094947e-09 1     4  \n",
       "[2,]  2133.090 3.919225 0.2614721 -0.9999999731 8.000002e-01 2    18  \n",
       "[3,]  3678.842 4.012866 0.2639689  0.0006220263 3.033165e-04 1    10  "
      ]
     },
     "metadata": {},
     "output_type": "display_data"
    },
    {
     "data": {
      "text/html": [
       "<table>\n",
       "<thead><tr><th></th><th scope=col>minimum</th><th scope=col>estimate1</th><th scope=col>estimate2</th><th scope=col>gradient1</th><th scope=col>gradient2</th><th scope=col>code</th><th scope=col>iterations</th></tr></thead>\n",
       "<tbody>\n",
       "\t<tr><th scope=row>square.loss</th><td>12936.782    </td><td>5.007042     </td><td>0.2673503    </td><td> 0.0000000000</td><td>9.094947e-09 </td><td>1            </td><td> 4           </td></tr>\n",
       "\t<tr><th scope=row>abs.loss</th><td> 2133.090    </td><td>3.919225     </td><td>0.2614721    </td><td>-0.9999999731</td><td>8.000002e-01 </td><td>2            </td><td>18           </td></tr>\n",
       "\t<tr><th scope=row>huber.loss</th><td> 3678.842    </td><td>4.012866     </td><td>0.2639689    </td><td> 0.0006220263</td><td>3.033165e-04 </td><td>1            </td><td>10           </td></tr>\n",
       "</tbody>\n",
       "</table>\n"
      ],
      "text/latex": [
       "\\begin{tabular}{r|lllllll}\n",
       "  & minimum & estimate1 & estimate2 & gradient1 & gradient2 & code & iterations\\\\\n",
       "\\hline\n",
       "\tsquare.loss & 12936.782     & 5.007042      & 0.2673503     &  0.0000000000 & 9.094947e-09  & 1             &  4           \\\\\n",
       "\tabs.loss &  2133.090     & 3.919225      & 0.2614721     & -0.9999999731 & 8.000002e-01  & 2             & 18           \\\\\n",
       "\thuber.loss &  3678.842     & 4.012866      & 0.2639689     &  0.0006220263 & 3.033165e-04  & 1             & 10           \\\\\n",
       "\\end{tabular}\n"
      ],
      "text/markdown": [
       "\n",
       "| <!--/--> | minimum | estimate1 | estimate2 | gradient1 | gradient2 | code | iterations |\n",
       "|---|---|---|---|---|---|---|---|\n",
       "| square.loss | 12936.782     | 5.007042      | 0.2673503     |  0.0000000000 | 9.094947e-09  | 1             |  4            |\n",
       "| abs.loss |  2133.090     | 3.919225      | 0.2614721     | -0.9999999731 | 8.000002e-01  | 2             | 18            |\n",
       "| huber.loss |  3678.842     | 4.012866      | 0.2639689     |  0.0006220263 | 3.033165e-04  | 1             | 10            |\n",
       "\n"
      ],
      "text/plain": [
       "            minimum   estimate1 estimate2 gradient1     gradient2    code\n",
       "square.loss 12936.782 5.007042  0.2673503  0.0000000000 9.094947e-09 1   \n",
       "abs.loss     2133.090 3.919225  0.2614721 -0.9999999731 8.000002e-01 2   \n",
       "huber.loss   3678.842 4.012866  0.2639689  0.0006220263 3.033165e-04 1   \n",
       "            iterations\n",
       "square.loss  4        \n",
       "abs.loss    18        \n",
       "huber.loss  10        "
      ]
     },
     "metadata": {},
     "output_type": "display_data"
    }
   ],
   "source": [
    "# Organize output invoke_map()\n",
    "\n",
    "summary.invoke <- run.invoke %>%\n",
    "    unlist() %>%\n",
    "    matrix(nrow=3,ncol=7,byrow = TRUE)\n",
    "summary.invoke\n",
    "\n",
    "colnames(summary.invoke) <- names(unlist(run.invoke))[1:7]\n",
    "rownames(summary.invoke) <- c(\"square.loss\", \"abs.loss\", \"huber.loss\")\n",
    "summary.invoke"
   ]
  },
  {
   "cell_type": "code",
   "execution_count": 34,
   "id": "b8d23cd7",
   "metadata": {},
   "outputs": [
    {
     "name": "stderr",
     "output_type": "stream",
     "text": [
      "\n",
      "\u001b[36m--\u001b[39m \u001b[1m\u001b[1mColumn specification\u001b[1m\u001b[22m \u001b[36m--------------------------------------------------------\u001b[39m\n",
      "cols(\n",
      "  country = col_character(),\n",
      "  year = col_double(),\n",
      "  strike.volume = col_double(),\n",
      "  unemployment = col_double(),\n",
      "  inflation = col_double(),\n",
      "  left.parliament = col_double(),\n",
      "  centralization = col_double(),\n",
      "  density = col_double()\n",
      ")\n",
      "\n"
     ]
    },
    {
     "data": {
      "text/html": [
       "<ol class=list-inline>\n",
       "\t<li>5.00704160010101</li>\n",
       "\t<li>0.267350346537271</li>\n",
       "</ol>\n"
      ],
      "text/latex": [
       "\\begin{enumerate*}\n",
       "\\item 5.00704160010101\n",
       "\\item 0.267350346537271\n",
       "\\end{enumerate*}\n"
      ],
      "text/markdown": [
       "1. 5.00704160010101\n",
       "2. 0.267350346537271\n",
       "\n",
       "\n"
      ],
      "text/plain": [
       "[1] 5.0070416 0.2673503"
      ]
     },
     "metadata": {},
     "output_type": "display_data"
    },
    {
     "data": {
      "text/html": [
       "<ol class=list-inline>\n",
       "\t<li>3.91739957518098</li>\n",
       "\t<li>0.261632132232328</li>\n",
       "</ol>\n"
      ],
      "text/latex": [
       "\\begin{enumerate*}\n",
       "\\item 3.91739957518098\n",
       "\\item 0.261632132232328\n",
       "\\end{enumerate*}\n"
      ],
      "text/markdown": [
       "1. 3.91739957518098\n",
       "2. 0.261632132232328\n",
       "\n",
       "\n"
      ],
      "text/plain": [
       "[1] 3.9173996 0.2616321"
      ]
     },
     "metadata": {},
     "output_type": "display_data"
    },
    {
     "data": {
      "text/html": [
       "<table>\n",
       "<thead><tr><th></th><th scope=col>mininum</th><th scope=col>estimate1</th><th scope=col>estimate2</th><th scope=col>gradient1</th><th scope=col>gradient2</th><th scope=col>code</th><th scope=col>iterations</th></tr></thead>\n",
       "<tbody>\n",
       "\t<tr><th scope=row>square loss</th><td>12936.782    </td><td>5.007042     </td><td>0.2673503    </td><td>-1.816431e-09</td><td>0.0000000    </td><td>1            </td><td> 4           </td></tr>\n",
       "\t<tr><th scope=row>absolute values loss</th><td> 2133.092    </td><td>3.917400     </td><td>0.2616321    </td><td>-1.000000e+00</td><td>0.8000002    </td><td>2            </td><td>20           </td></tr>\n",
       "</tbody>\n",
       "</table>\n"
      ],
      "text/latex": [
       "\\begin{tabular}{r|lllllll}\n",
       "  & mininum & estimate1 & estimate2 & gradient1 & gradient2 & code & iterations\\\\\n",
       "\\hline\n",
       "\tsquare loss & 12936.782     & 5.007042      & 0.2673503     & -1.816431e-09 & 0.0000000     & 1             &  4           \\\\\n",
       "\tabsolute values loss &  2133.092     & 3.917400      & 0.2616321     & -1.000000e+00 & 0.8000002     & 2             & 20           \\\\\n",
       "\\end{tabular}\n"
      ],
      "text/markdown": [
       "\n",
       "| <!--/--> | mininum | estimate1 | estimate2 | gradient1 | gradient2 | code | iterations |\n",
       "|---|---|---|---|---|---|---|---|\n",
       "| square loss | 12936.782     | 5.007042      | 0.2673503     | -1.816431e-09 | 0.0000000     | 1             |  4            |\n",
       "| absolute values loss |  2133.092     | 3.917400      | 0.2616321     | -1.000000e+00 | 0.8000002     | 2             | 20            |\n",
       "\n"
      ],
      "text/plain": [
       "                     mininum   estimate1 estimate2 gradient1     gradient2 code\n",
       "square loss          12936.782 5.007042  0.2673503 -1.816431e-09 0.0000000 1   \n",
       "absolute values loss  2133.092 3.917400  0.2616321 -1.000000e+00 0.8000002 2   \n",
       "                     iterations\n",
       "square loss           4        \n",
       "absolute values loss 20        "
      ]
     },
     "metadata": {},
     "output_type": "display_data"
    }
   ],
   "source": [
    "# 自己尝试写一遍（只写两个函数）\n",
    "\n",
    "# load the data\n",
    "df1 <- read_csv(\"strikes.csv\")\n",
    "inflation <- df1 %>% select(inflation)\n",
    "unemploy <- df1 %>% select(unemployment)\n",
    "\n",
    "# square loss function\n",
    "square_loss_fun <- function(beta){\n",
    "    diff <- inflation - beta[1] - beta[2]*unemploy\n",
    "    diff^2 %>% \n",
    "    sum() %>% \n",
    "    return()\n",
    "}\n",
    "\n",
    "# absolute value loss function\n",
    "absolute_loss_fun <- function(beta){\n",
    "    diff <- inflation - beta[1] - beta[2]*unemploy\n",
    "    diff %>% \n",
    "    abs() %>% \n",
    "    sum() %>% \n",
    "    return()\n",
    "}\n",
    "\n",
    "# define the initial point\n",
    "beta <- c(0, 0)\n",
    "\n",
    "# check the estimates of coefficients of these two functions manually\n",
    "nlm(square_loss_fun, p = beta)$estimate\n",
    "nlm(absolute_loss_fun, p = beta)$estimate\n",
    "\n",
    "# put all returned values into a matrix automatically with invoke_map()\n",
    "inputlst <- list(square_loss_fun, absolute_loss_fun) %>% \n",
    "            map(~list(.,beta))\n",
    "funlst <- list(nlm, nlm)\n",
    "result_lst <- invoke_map(funlst, inputlst)\n",
    "\n",
    "# get the matrix which contains all returned values\n",
    "result_matrix <- result_lst %>% \n",
    "                    unlist() %>% \n",
    "                    matrix(nrow=2, ncol=7, byrow = TRUE)\n",
    "rownames(result_matrix) <- c(\"square loss\", \"absolute values loss\")\n",
    "colnames(result_matrix) <- c(\"mininum\", \"estimate1\", \"estimate2\", \"gradient1\", \n",
    "                             \"gradient2\", \"code\", \"iterations\")\n",
    "\n",
    "result_matrix"
   ]
  },
  {
   "cell_type": "code",
   "execution_count": 35,
   "id": "c9105c3d",
   "metadata": {},
   "outputs": [
    {
     "data": {
      "text/html": [
       "<table>\n",
       "<thead><tr><th></th><th scope=col>minimum</th><th scope=col>estimate1</th><th scope=col>estimate2</th><th scope=col>iterations</th></tr></thead>\n",
       "<tbody>\n",
       "\t<tr><th scope=row>square.loss</th><td>12936.782</td><td>5.007042 </td><td>0.2673503</td><td> 4       </td></tr>\n",
       "\t<tr><th scope=row>abs.loss</th><td> 2133.090</td><td>3.919225 </td><td>0.2614721</td><td>18       </td></tr>\n",
       "\t<tr><th scope=row>huber.loss</th><td> 3678.842</td><td>4.012866 </td><td>0.2639689</td><td>10       </td></tr>\n",
       "</tbody>\n",
       "</table>\n"
      ],
      "text/latex": [
       "\\begin{tabular}{r|llll}\n",
       "  & minimum & estimate1 & estimate2 & iterations\\\\\n",
       "\\hline\n",
       "\tsquare.loss & 12936.782 & 5.007042  & 0.2673503 &  4       \\\\\n",
       "\tabs.loss &  2133.090 & 3.919225  & 0.2614721 & 18       \\\\\n",
       "\thuber.loss &  3678.842 & 4.012866  & 0.2639689 & 10       \\\\\n",
       "\\end{tabular}\n"
      ],
      "text/markdown": [
       "\n",
       "| <!--/--> | minimum | estimate1 | estimate2 | iterations |\n",
       "|---|---|---|---|---|\n",
       "| square.loss | 12936.782 | 5.007042  | 0.2673503 |  4        |\n",
       "| abs.loss |  2133.090 | 3.919225  | 0.2614721 | 18        |\n",
       "| huber.loss |  3678.842 | 4.012866  | 0.2639689 | 10        |\n",
       "\n"
      ],
      "text/plain": [
       "            minimum   estimate1 estimate2 iterations\n",
       "square.loss 12936.782 5.007042  0.2673503  4        \n",
       "abs.loss     2133.090 3.919225  0.2614721 18        \n",
       "huber.loss   3678.842 4.012866  0.2639689 10        "
      ]
     },
     "metadata": {},
     "output_type": "display_data"
    }
   ],
   "source": [
    "# Continued: Display the output\n",
    "summary.invoke[, c(\"minimum\", \"estimate1\", \"estimate2\", \"iterations\")]"
   ]
  },
  {
   "cell_type": "markdown",
   "id": "63c0a153",
   "metadata": {},
   "source": [
    "### Is there an easier way to organize the output?\n",
    "• Write a nml() wrapper function nml.wrapper that outputs a tibble with only one row.\n",
    "\n",
    "• Then plug this new function into invoke_map_df()."
   ]
  },
  {
   "cell_type": "code",
   "execution_count": 36,
   "id": "8215d0a6",
   "metadata": {},
   "outputs": [
    {
     "data": {
      "text/html": [
       "<table>\n",
       "<thead><tr><th></th><th scope=col>minimum</th><th scope=col>estimate1</th><th scope=col>estimate2</th><th scope=col>iterations</th></tr></thead>\n",
       "<tbody>\n",
       "\t<tr><th scope=row>square</th><td>12936.782</td><td>5.007042 </td><td>0.2673503</td><td> 4       </td></tr>\n",
       "\t<tr><th scope=row>abs</th><td> 2133.090</td><td>3.919225 </td><td>0.2614721</td><td>18       </td></tr>\n",
       "\t<tr><th scope=row>huber</th><td> 3678.842</td><td>4.012866 </td><td>0.2639689</td><td>10       </td></tr>\n",
       "</tbody>\n",
       "</table>\n"
      ],
      "text/latex": [
       "\\begin{tabular}{r|llll}\n",
       "  & minimum & estimate1 & estimate2 & iterations\\\\\n",
       "\\hline\n",
       "\tsquare & 12936.782 & 5.007042  & 0.2673503 &  4       \\\\\n",
       "\tabs &  2133.090 & 3.919225  & 0.2614721 & 18       \\\\\n",
       "\thuber &  3678.842 & 4.012866  & 0.2639689 & 10       \\\\\n",
       "\\end{tabular}\n"
      ],
      "text/markdown": [
       "\n",
       "| <!--/--> | minimum | estimate1 | estimate2 | iterations |\n",
       "|---|---|---|---|---|\n",
       "| square | 12936.782 | 5.007042  | 0.2673503 |  4        |\n",
       "| abs |  2133.090 | 3.919225  | 0.2614721 | 18        |\n",
       "| huber |  3678.842 | 4.012866  | 0.2639689 | 10        |\n",
       "\n"
      ],
      "text/plain": [
       "       minimum   estimate1 estimate2 iterations\n",
       "square 12936.782 5.007042  0.2673503  4        \n",
       "abs     2133.090 3.919225  0.2614721 18        \n",
       "huber   3678.842 4.012866  0.2639689 10        "
      ]
     },
     "metadata": {},
     "output_type": "display_data"
    }
   ],
   "source": [
    "# invoke_map_df()\n",
    "# Wrapper function\n",
    "\n",
    "nml.wrapper <- function(my.fun,beta){\n",
    "    output.nlm <- nlm(my.fun,beta)\n",
    "    extract.col <- unlist(output.nlm)[c(\"minimum\",\"estimate1\",\n",
    "                                        \"estimate2\",\"iterations\")]\n",
    "    return(as_tibble(t(extract.col)))\n",
    "}\n",
    "\n",
    "# New function list\n",
    "fun.list.new <- list(nml.wrapper,nml.wrapper,nml.wrapper)\n",
    "\n",
    "summary.invoke.new <- invoke_map_df(fun.list.new,input.list)\n",
    "rownames(summary.invoke.new) <- c(\"square\",\"abs\",\"huber\")\n",
    "summary.invoke.new"
   ]
  },
  {
   "cell_type": "markdown",
   "id": "f5c4d279",
   "metadata": {},
   "source": [
    "# Section 6: String Manipulation with stringr\n",
    "# （复习Base R的字符串操作见Lecture 6）\n",
    "\n",
    "## stringr\n",
    "• stringr是Tidyverse进行字符串操作的库\n",
    "\n",
    "• 它的核心功能是合并或者拆分字符串、辨别pattern、字符串切片(subset)以及排序。\n",
    "\n",
    "• stringr中的所有函数都以str_开头，这是为了提供一个一致且便于查找的语法。\n"
   ]
  },
  {
   "cell_type": "code",
   "execution_count": 37,
   "id": "9518efb1",
   "metadata": {},
   "outputs": [
    {
     "data": {
      "text/html": [
       "'$2000'"
      ],
      "text/latex": [
       "'\\$2000'"
      ],
      "text/markdown": [
       "'$2000'"
      ],
      "text/plain": [
       "[1] \"$2000\""
      ]
     },
     "metadata": {},
     "output_type": "display_data"
    },
    {
     "data": {
      "text/html": [
       "'$2000'"
      ],
      "text/latex": [
       "'\\$2000'"
      ],
      "text/markdown": [
       "'$2000'"
      ],
      "text/plain": [
       "[1] \"$2000\""
      ]
     },
     "metadata": {},
     "output_type": "display_data"
    },
    {
     "data": {
      "text/html": [
       "'$2000'"
      ],
      "text/latex": [
       "'\\$2000'"
      ],
      "text/markdown": [
       "'$2000'"
      ],
      "text/plain": [
       "[1] \"$2000\""
      ]
     },
     "metadata": {},
     "output_type": "display_data"
    }
   ],
   "source": [
    "phrase <- \"Christmas Bonus: $2000\"\n",
    "\n",
    "# 在Base R中：\n",
    "substr(phrase, 18, 22)\n",
    "\n",
    "# 然而，在stringr中不必包含stop argument\n",
    "# 在Base R中如果不包括stop argument会报错，但可以用nchar()来表示字符串的长度\n",
    "# 注意，与Python不同，R语言的字符串is not iterable\n",
    "str_sub(phrase, 18)\n",
    "\n",
    "# 如果不想包括从左往右数字符串的话，可以使用负数表示从右往左的位置。\n",
    "str_sub(phrase,-5)"
   ]
  },
  {
   "cell_type": "markdown",
   "id": "f30a7192",
   "metadata": {},
   "source": [
    "### stringr vs Base R\n",
    "* Base R中有一些文本操作函数的名称难以记忆，例如paste(), paster0(), grep()和grepl()。\n",
    "    * paste (..., sep = \" \", collapse = NULL)，默认sep的方法是\" \"。\n",
    "    * paste0(..., collapse = NULL)，默认sep的方法是\"\"，这是它与paste唯一的区别。\n",
    "    * grep()返回查找到的位置。\n",
    "    * grepl()是vectorized函数，返回一系列布尔值(logical)，即每个位置是否存在此pattern。\n",
    "    \n",
    "\n",
    "* 在stingr中，这些函数被重命名为str_c(), str_which()和str_detect()。"
   ]
  },
  {
   "cell_type": "markdown",
   "id": "10c5a0e0",
   "metadata": {},
   "source": [
    "### str_c\n",
    "* stringr使用str_c()代替Base R的paste()和paste0()函数，它们的语法是相似的。\n",
    "* 但是，str_c()在处理NA values时的表现更好。"
   ]
  },
  {
   "cell_type": "code",
   "execution_count": 38,
   "id": "13b7bfc4",
   "metadata": {},
   "outputs": [
    {
     "data": {
      "text/html": [
       "<ol class=list-inline>\n",
       "\t<li>'cat (1)'</li>\n",
       "\t<li>'squirrel (2)'</li>\n",
       "\t<li>'hedgehog (3)'</li>\n",
       "</ol>\n"
      ],
      "text/latex": [
       "\\begin{enumerate*}\n",
       "\\item 'cat (1)'\n",
       "\\item 'squirrel (2)'\n",
       "\\item 'hedgehog (3)'\n",
       "\\end{enumerate*}\n"
      ],
      "text/markdown": [
       "1. 'cat (1)'\n",
       "2. 'squirrel (2)'\n",
       "3. 'hedgehog (3)'\n",
       "\n",
       "\n"
      ],
      "text/plain": [
       "[1] \"cat (1)\"      \"squirrel (2)\" \"hedgehog (3)\""
      ]
     },
     "metadata": {},
     "output_type": "display_data"
    },
    {
     "data": {
      "text/html": [
       "<ol class=list-inline>\n",
       "\t<li>'cat (1)'</li>\n",
       "\t<li>'squirrel (2)'</li>\n",
       "\t<li>'hedgehog (3)'</li>\n",
       "</ol>\n"
      ],
      "text/latex": [
       "\\begin{enumerate*}\n",
       "\\item 'cat (1)'\n",
       "\\item 'squirrel (2)'\n",
       "\\item 'hedgehog (3)'\n",
       "\\end{enumerate*}\n"
      ],
      "text/markdown": [
       "1. 'cat (1)'\n",
       "2. 'squirrel (2)'\n",
       "3. 'hedgehog (3)'\n",
       "\n",
       "\n"
      ],
      "text/plain": [
       "[1] \"cat (1)\"      \"squirrel (2)\" \"hedgehog (3)\""
      ]
     },
     "metadata": {},
     "output_type": "display_data"
    },
    {
     "data": {
      "text/html": [
       "<ol class=list-inline>\n",
       "\t<li>'cat (1)'</li>\n",
       "\t<li>'squirrel (2)'</li>\n",
       "\t<li>'hedgehog (3)'</li>\n",
       "</ol>\n"
      ],
      "text/latex": [
       "\\begin{enumerate*}\n",
       "\\item 'cat (1)'\n",
       "\\item 'squirrel (2)'\n",
       "\\item 'hedgehog (3)'\n",
       "\\end{enumerate*}\n"
      ],
      "text/markdown": [
       "1. 'cat (1)'\n",
       "2. 'squirrel (2)'\n",
       "3. 'hedgehog (3)'\n",
       "\n",
       "\n"
      ],
      "text/plain": [
       "[1] \"cat (1)\"      \"squirrel (2)\" \"hedgehog (3)\""
      ]
     },
     "metadata": {},
     "output_type": "display_data"
    }
   ],
   "source": [
    "paste(c(\"cat\",\"squirrel\",\"hedgehog\"), \" (\",1:3, \")\", sep=\"\")\n",
    "\n",
    "c(\"cat\",\"squirrel\",\"hedgehog\") %>% str_c(\" (\",1:3, \")\", sep=\"\")\n",
    "\n",
    "# or equivalently:\n",
    "str_c(c(\"cat\",\"squirrel\",\"hedgehog\"), \" (\",1:3,\")\", sep=\"\")"
   ]
  },
  {
   "cell_type": "code",
   "execution_count": 39,
   "id": "5bdc8e13",
   "metadata": {},
   "outputs": [
    {
     "data": {
      "text/html": [
       "<ol class=list-inline>\n",
       "\t<li>'catdog'</li>\n",
       "\t<li>NA</li>\n",
       "\t<li>NA</li>\n",
       "</ol>\n"
      ],
      "text/latex": [
       "\\begin{enumerate*}\n",
       "\\item 'catdog'\n",
       "\\item NA\n",
       "\\item NA\n",
       "\\end{enumerate*}\n"
      ],
      "text/markdown": [
       "1. 'catdog'\n",
       "2. NA\n",
       "3. NA\n",
       "\n",
       "\n"
      ],
      "text/plain": [
       "[1] \"catdog\" NA       NA      "
      ]
     },
     "metadata": {},
     "output_type": "display_data"
    },
    {
     "data": {
      "text/html": [
       "<ol class=list-inline>\n",
       "\t<li>'catdog'</li>\n",
       "\t<li>'squirrelNA'</li>\n",
       "\t<li>'hedgehogNA'</li>\n",
       "</ol>\n"
      ],
      "text/latex": [
       "\\begin{enumerate*}\n",
       "\\item 'catdog'\n",
       "\\item 'squirrelNA'\n",
       "\\item 'hedgehogNA'\n",
       "\\end{enumerate*}\n"
      ],
      "text/markdown": [
       "1. 'catdog'\n",
       "2. 'squirrelNA'\n",
       "3. 'hedgehogNA'\n",
       "\n",
       "\n"
      ],
      "text/plain": [
       "[1] \"catdog\"     \"squirrelNA\" \"hedgehogNA\""
      ]
     },
     "metadata": {},
     "output_type": "display_data"
    }
   ],
   "source": [
    "# 可以发现，因为y的后两项是NA，所以str_c()将x、y逐项合并时，使后两项结果为NA。\n",
    "# 但是paste()函数将NA当成了字符串，直接与x的后两项拼接。\n",
    "\n",
    "x <- c(\"cat\",\"squirrel\",\"hedgehog\")\n",
    "y <- c(\"dog\", NA,NA)\n",
    "str_c(x,y,sep=\"\")\n",
    "\n",
    "paste(x,y,sep=\"\")"
   ]
  },
  {
   "cell_type": "markdown",
   "id": "9a728f3b",
   "metadata": {},
   "source": [
    "### str_which()和str_detect()分别作为grep()和grepl()的替代\n",
    "* 注意到这些函数和Base R中对应的函数效果一样，只是名称和parameter顺序的区别。"
   ]
  },
  {
   "cell_type": "code",
   "execution_count": 40,
   "id": "3339bddd",
   "metadata": {},
   "outputs": [
    {
     "data": {
      "text/html": [
       "<ol class=list-inline>\n",
       "\t<li>1</li>\n",
       "\t<li>19</li>\n",
       "\t<li>33</li>\n",
       "</ol>\n"
      ],
      "text/latex": [
       "\\begin{enumerate*}\n",
       "\\item 1\n",
       "\\item 19\n",
       "\\item 33\n",
       "\\end{enumerate*}\n"
      ],
      "text/markdown": [
       "1. 1\n",
       "2. 19\n",
       "3. 33\n",
       "\n",
       "\n"
      ],
      "text/plain": [
       "[1]  1 19 33"
      ]
     },
     "metadata": {},
     "output_type": "display_data"
    },
    {
     "data": {
      "text/html": [
       "<ol class=list-inline>\n",
       "\t<li>1</li>\n",
       "\t<li>19</li>\n",
       "\t<li>33</li>\n",
       "</ol>\n"
      ],
      "text/latex": [
       "\\begin{enumerate*}\n",
       "\\item 1\n",
       "\\item 19\n",
       "\\item 33\n",
       "\\end{enumerate*}\n"
      ],
      "text/markdown": [
       "1. 1\n",
       "2. 19\n",
       "3. 33\n",
       "\n",
       "\n"
      ],
      "text/plain": [
       "[1]  1 19 33"
      ]
     },
     "metadata": {},
     "output_type": "display_data"
    },
    {
     "data": {
      "text/html": [
       "<ol class=list-inline>\n",
       "\t<li>1</li>\n",
       "\t<li>19</li>\n",
       "\t<li>33</li>\n",
       "</ol>\n"
      ],
      "text/latex": [
       "\\begin{enumerate*}\n",
       "\\item 1\n",
       "\\item 19\n",
       "\\item 33\n",
       "\\end{enumerate*}\n"
      ],
      "text/markdown": [
       "1. 1\n",
       "2. 19\n",
       "3. 33\n",
       "\n",
       "\n"
      ],
      "text/plain": [
       "[1]  1 19 33"
      ]
     },
     "metadata": {},
     "output_type": "display_data"
    }
   ],
   "source": [
    "# grep example\n",
    "HC <- read_lines(\"HonorCode2.txt\")\n",
    "grep(\"Students\", HC)\n",
    "\n",
    "HC %>% str_which(\"Students\")\n",
    "\n",
    "# or equivalently:\n",
    "str_which(HC, \"Students\") # 与grep()输入参数的顺序不同"
   ]
  },
  {
   "cell_type": "code",
   "execution_count": 41,
   "id": "a0aad08a",
   "metadata": {},
   "outputs": [
    {
     "data": {
      "text/html": [
       "<ol class=list-inline>\n",
       "\t<li>TRUE</li>\n",
       "\t<li>FALSE</li>\n",
       "\t<li>FALSE</li>\n",
       "\t<li>FALSE</li>\n",
       "\t<li>FALSE</li>\n",
       "\t<li>FALSE</li>\n",
       "\t<li>FALSE</li>\n",
       "\t<li>FALSE</li>\n",
       "\t<li>FALSE</li>\n",
       "\t<li>FALSE</li>\n",
       "\t<li>FALSE</li>\n",
       "\t<li>FALSE</li>\n",
       "\t<li>FALSE</li>\n",
       "\t<li>FALSE</li>\n",
       "\t<li>FALSE</li>\n",
       "</ol>\n"
      ],
      "text/latex": [
       "\\begin{enumerate*}\n",
       "\\item TRUE\n",
       "\\item FALSE\n",
       "\\item FALSE\n",
       "\\item FALSE\n",
       "\\item FALSE\n",
       "\\item FALSE\n",
       "\\item FALSE\n",
       "\\item FALSE\n",
       "\\item FALSE\n",
       "\\item FALSE\n",
       "\\item FALSE\n",
       "\\item FALSE\n",
       "\\item FALSE\n",
       "\\item FALSE\n",
       "\\item FALSE\n",
       "\\end{enumerate*}\n"
      ],
      "text/markdown": [
       "1. TRUE\n",
       "2. FALSE\n",
       "3. FALSE\n",
       "4. FALSE\n",
       "5. FALSE\n",
       "6. FALSE\n",
       "7. FALSE\n",
       "8. FALSE\n",
       "9. FALSE\n",
       "10. FALSE\n",
       "11. FALSE\n",
       "12. FALSE\n",
       "13. FALSE\n",
       "14. FALSE\n",
       "15. FALSE\n",
       "\n",
       "\n"
      ],
      "text/plain": [
       " [1]  TRUE FALSE FALSE FALSE FALSE FALSE FALSE FALSE FALSE FALSE FALSE FALSE\n",
       "[13] FALSE FALSE FALSE"
      ]
     },
     "metadata": {},
     "output_type": "display_data"
    },
    {
     "data": {
      "text/html": [
       "<ol class=list-inline>\n",
       "\t<li>TRUE</li>\n",
       "\t<li>FALSE</li>\n",
       "\t<li>FALSE</li>\n",
       "\t<li>FALSE</li>\n",
       "\t<li>FALSE</li>\n",
       "\t<li>FALSE</li>\n",
       "\t<li>FALSE</li>\n",
       "\t<li>FALSE</li>\n",
       "\t<li>FALSE</li>\n",
       "\t<li>FALSE</li>\n",
       "\t<li>FALSE</li>\n",
       "\t<li>FALSE</li>\n",
       "\t<li>FALSE</li>\n",
       "\t<li>FALSE</li>\n",
       "\t<li>FALSE</li>\n",
       "</ol>\n"
      ],
      "text/latex": [
       "\\begin{enumerate*}\n",
       "\\item TRUE\n",
       "\\item FALSE\n",
       "\\item FALSE\n",
       "\\item FALSE\n",
       "\\item FALSE\n",
       "\\item FALSE\n",
       "\\item FALSE\n",
       "\\item FALSE\n",
       "\\item FALSE\n",
       "\\item FALSE\n",
       "\\item FALSE\n",
       "\\item FALSE\n",
       "\\item FALSE\n",
       "\\item FALSE\n",
       "\\item FALSE\n",
       "\\end{enumerate*}\n"
      ],
      "text/markdown": [
       "1. TRUE\n",
       "2. FALSE\n",
       "3. FALSE\n",
       "4. FALSE\n",
       "5. FALSE\n",
       "6. FALSE\n",
       "7. FALSE\n",
       "8. FALSE\n",
       "9. FALSE\n",
       "10. FALSE\n",
       "11. FALSE\n",
       "12. FALSE\n",
       "13. FALSE\n",
       "14. FALSE\n",
       "15. FALSE\n",
       "\n",
       "\n"
      ],
      "text/plain": [
       " [1]  TRUE FALSE FALSE FALSE FALSE FALSE FALSE FALSE FALSE FALSE FALSE FALSE\n",
       "[13] FALSE FALSE FALSE"
      ]
     },
     "metadata": {},
     "output_type": "display_data"
    },
    {
     "data": {
      "text/html": [
       "<ol class=list-inline>\n",
       "\t<li>TRUE</li>\n",
       "\t<li>FALSE</li>\n",
       "\t<li>FALSE</li>\n",
       "\t<li>FALSE</li>\n",
       "\t<li>FALSE</li>\n",
       "\t<li>FALSE</li>\n",
       "\t<li>FALSE</li>\n",
       "\t<li>FALSE</li>\n",
       "\t<li>FALSE</li>\n",
       "\t<li>FALSE</li>\n",
       "\t<li>FALSE</li>\n",
       "\t<li>FALSE</li>\n",
       "\t<li>FALSE</li>\n",
       "\t<li>FALSE</li>\n",
       "\t<li>FALSE</li>\n",
       "</ol>\n"
      ],
      "text/latex": [
       "\\begin{enumerate*}\n",
       "\\item TRUE\n",
       "\\item FALSE\n",
       "\\item FALSE\n",
       "\\item FALSE\n",
       "\\item FALSE\n",
       "\\item FALSE\n",
       "\\item FALSE\n",
       "\\item FALSE\n",
       "\\item FALSE\n",
       "\\item FALSE\n",
       "\\item FALSE\n",
       "\\item FALSE\n",
       "\\item FALSE\n",
       "\\item FALSE\n",
       "\\item FALSE\n",
       "\\end{enumerate*}\n"
      ],
      "text/markdown": [
       "1. TRUE\n",
       "2. FALSE\n",
       "3. FALSE\n",
       "4. FALSE\n",
       "5. FALSE\n",
       "6. FALSE\n",
       "7. FALSE\n",
       "8. FALSE\n",
       "9. FALSE\n",
       "10. FALSE\n",
       "11. FALSE\n",
       "12. FALSE\n",
       "13. FALSE\n",
       "14. FALSE\n",
       "15. FALSE\n",
       "\n",
       "\n"
      ],
      "text/plain": [
       " [1]  TRUE FALSE FALSE FALSE FALSE FALSE FALSE FALSE FALSE FALSE FALSE FALSE\n",
       "[13] FALSE FALSE FALSE"
      ]
     },
     "metadata": {},
     "output_type": "display_data"
    }
   ],
   "source": [
    "# grepl example\n",
    "head(grepl(\"Students\",HC),15)\n",
    "\n",
    "HC %>% str_detect(\"Students\") %>% head(15)\n",
    "\n",
    "# or equivalently:\n",
    "head(str_detect(HC, \"Students\"), 15) # 依旧与grepl()输入参数的顺序不同"
   ]
  },
  {
   "cell_type": "markdown",
   "id": "d68d1982",
   "metadata": {},
   "source": [
    "### 其它有用的函数\n",
    "* 在书写正则表达式时，有时难以判断是否正确捕捉到正确的信息。\n",
    "* str_view()函数可以解决这个问题，它会返回你输入的正则表达式的html格式。\n",
    "\n",
    "\n",
    "**假设你想抓取所有包含符号的单词，无论符号是在里面还是在外面。于是你写了第一个正则表达式，根据提取的结果，它看上去工作得很好。**"
   ]
  },
  {
   "cell_type": "markdown",
   "id": "553de71f",
   "metadata": {},
   "source": [
    "**str_extract(string, pattern)**\n",
    "\n",
    "**str_extract_all(string, pattern, simplify = FALSE)**\n",
    "\n",
    "在Base R中，同样的方法要结合：grep()/grepl(), regexpr()/gregexpr()，regmatches()完成。例如HC是一个vector，每一项代表一行字符串。grep()/grepl()匹配含有pattern的行，regexpr()/gregexpr()匹配每一行被匹配到的信息，regmatches()返回具体被匹配到的值。\n",
    "\n",
    "然而，根据str_extract()和str_extract_all()的函数描述，输入的string为一个character vector，或者某些可以被压缩成一个vector的对象。因此简化了Base R中逐行搜索匹配的过程。"
   ]
  },
  {
   "cell_type": "code",
   "execution_count": 42,
   "id": "e7107c2d",
   "metadata": {},
   "outputs": [
    {
     "data": {
      "text/html": [
       "<ol class=list-inline>\n",
       "\t<li>'example,'</li>\n",
       "\t<li>'plagiarism,'</li>\n",
       "\t<li>'examination,'</li>\n",
       "\t<li>'official)'</li>\n",
       "\t<li>'Dean\\''</li>\n",
       "\t<li>'Discipline.'</li>\n",
       "\t<li>'research.'</li>\n",
       "\t<li>'scholars;'</li>\n",
       "\t<li>'others\\''</li>\n",
       "\t<li>'work;'</li>\n",
       "</ol>\n"
      ],
      "text/latex": [
       "\\begin{enumerate*}\n",
       "\\item 'example,'\n",
       "\\item 'plagiarism,'\n",
       "\\item 'examination,'\n",
       "\\item 'official)'\n",
       "\\item 'Dean\\textbackslash{}''\n",
       "\\item 'Discipline.'\n",
       "\\item 'research.'\n",
       "\\item 'scholars;'\n",
       "\\item 'others\\textbackslash{}''\n",
       "\\item 'work;'\n",
       "\\end{enumerate*}\n"
      ],
      "text/markdown": [
       "1. 'example,'\n",
       "2. 'plagiarism,'\n",
       "3. 'examination,'\n",
       "4. 'official)'\n",
       "5. 'Dean\\''\n",
       "6. 'Discipline.'\n",
       "7. 'research.'\n",
       "8. 'scholars;'\n",
       "9. 'others\\''\n",
       "10. 'work;'\n",
       "\n",
       "\n"
      ],
      "text/plain": [
       " [1] \"example,\"     \"plagiarism,\"  \"examination,\" \"official)\"    \"Dean'\"       \n",
       " [6] \"Discipline.\"  \"research.\"    \"scholars;\"    \"others'\"      \"work;\"       "
      ]
     },
     "metadata": {},
     "output_type": "display_data"
    },
    {
     "data": {
      "text/html": [
       "<ol class=list-inline>\n",
       "\t<li>'example,'</li>\n",
       "\t<li>'plagiarism,'</li>\n",
       "\t<li>'examination,'</li>\n",
       "\t<li>'official)'</li>\n",
       "\t<li>'Dean\\''</li>\n",
       "\t<li>'Discipline.'</li>\n",
       "\t<li>'research.'</li>\n",
       "\t<li>'scholars;'</li>\n",
       "\t<li>'others\\''</li>\n",
       "\t<li>'work;'</li>\n",
       "</ol>\n"
      ],
      "text/latex": [
       "\\begin{enumerate*}\n",
       "\\item 'example,'\n",
       "\\item 'plagiarism,'\n",
       "\\item 'examination,'\n",
       "\\item 'official)'\n",
       "\\item 'Dean\\textbackslash{}''\n",
       "\\item 'Discipline.'\n",
       "\\item 'research.'\n",
       "\\item 'scholars;'\n",
       "\\item 'others\\textbackslash{}''\n",
       "\\item 'work;'\n",
       "\\end{enumerate*}\n"
      ],
      "text/markdown": [
       "1. 'example,'\n",
       "2. 'plagiarism,'\n",
       "3. 'examination,'\n",
       "4. 'official)'\n",
       "5. 'Dean\\''\n",
       "6. 'Discipline.'\n",
       "7. 'research.'\n",
       "8. 'scholars;'\n",
       "9. 'others\\''\n",
       "10. 'work;'\n",
       "\n",
       "\n"
      ],
      "text/plain": [
       " [1] \"example,\"     \"plagiarism,\"  \"examination,\" \"official)\"    \"Dean'\"       \n",
       " [6] \"Discipline.\"  \"research.\"    \"scholars;\"    \"others'\"      \"work;\"       "
      ]
     },
     "metadata": {},
     "output_type": "display_data"
    },
    {
     "data": {
      "text/html": [
       "<ol class=list-inline>\n",
       "\t<li>'example,'</li>\n",
       "\t<li>'plagiarism,'</li>\n",
       "\t<li>'examination,'</li>\n",
       "\t<li>'official)'</li>\n",
       "\t<li>'Dean\\''</li>\n",
       "\t<li>'Discipline.'</li>\n",
       "\t<li>'research.'</li>\n",
       "\t<li>'scholars;'</li>\n",
       "\t<li>'others\\''</li>\n",
       "\t<li>'work;'</li>\n",
       "\t<li>'works.'</li>\n",
       "\t<li>'activities,'</li>\n",
       "\t<li>'evidence.'</li>\n",
       "\t<li>'one\\''</li>\n",
       "\t<li>'responsibility.'</li>\n",
       "\t<li>'terms,'</li>\n",
       "\t<li>'examinations,'</li>\n",
       "\t<li>'prohibited.'</li>\n",
       "\t<li>'buying,'</li>\n",
       "\t<li>'stealing,'</li>\n",
       "\t<li>'borrowing,'</li>\n",
       "\t<li>'online)'</li>\n",
       "\t<li>'paper;'</li>\n",
       "\t<li>'citations;'</li>\n",
       "\t<li>'citation.'</li>\n",
       "\t<li>'class.'</li>\n",
       "\t<li>'University\\''</li>\n",
       "\t<li>'Lab.'</li>\n",
       "\t<li>'paraphrasing,'</li>\n",
       "\t<li>'plagiarism.'</li>\n",
       "\t<li>'passages:'</li>\n",
       "\t<li>'one\\''</li>\n",
       "\t<li>'own.'</li>\n",
       "\t<li>'doubt,'</li>\n",
       "\t<li>'professor.'</li>\n",
       "\t<li>'consequences,'</li>\n",
       "\t<li>'university.'</li>\n",
       "\t<li>'master\\''</li>\n",
       "\t<li>'campus.'</li>\n",
       "\t<li>'interest,'</li>\n",
       "\t<li>'management,'</li>\n",
       "\t<li>'ownership,'</li>\n",
       "\t<li>'animals.'</li>\n",
       "\t<li>'plagiarism.'</li>\n",
       "\t<li>'categories:'</li>\n",
       "\t<li>'plagiarism,'</li>\n",
       "\t<li>'falsification,'</li>\n",
       "\t<li>'fabrication.'</li>\n",
       "\t<li>'manipulation,'</li>\n",
       "\t<li>'modification,'</li>\n",
       "\t<li>'results.'</li>\n",
       "\t<li>'thereof.'</li>\n",
       "\t<li>'sanctions,'</li>\n",
       "\t<li>'termination.'</li>\n",
       "</ol>\n"
      ],
      "text/latex": [
       "\\begin{enumerate*}\n",
       "\\item 'example,'\n",
       "\\item 'plagiarism,'\n",
       "\\item 'examination,'\n",
       "\\item 'official)'\n",
       "\\item 'Dean\\textbackslash{}''\n",
       "\\item 'Discipline.'\n",
       "\\item 'research.'\n",
       "\\item 'scholars;'\n",
       "\\item 'others\\textbackslash{}''\n",
       "\\item 'work;'\n",
       "\\item 'works.'\n",
       "\\item 'activities,'\n",
       "\\item 'evidence.'\n",
       "\\item 'one\\textbackslash{}''\n",
       "\\item 'responsibility.'\n",
       "\\item 'terms,'\n",
       "\\item 'examinations,'\n",
       "\\item 'prohibited.'\n",
       "\\item 'buying,'\n",
       "\\item 'stealing,'\n",
       "\\item 'borrowing,'\n",
       "\\item 'online)'\n",
       "\\item 'paper;'\n",
       "\\item 'citations;'\n",
       "\\item 'citation.'\n",
       "\\item 'class.'\n",
       "\\item 'University\\textbackslash{}''\n",
       "\\item 'Lab.'\n",
       "\\item 'paraphrasing,'\n",
       "\\item 'plagiarism.'\n",
       "\\item 'passages:'\n",
       "\\item 'one\\textbackslash{}''\n",
       "\\item 'own.'\n",
       "\\item 'doubt,'\n",
       "\\item 'professor.'\n",
       "\\item 'consequences,'\n",
       "\\item 'university.'\n",
       "\\item 'master\\textbackslash{}''\n",
       "\\item 'campus.'\n",
       "\\item 'interest,'\n",
       "\\item 'management,'\n",
       "\\item 'ownership,'\n",
       "\\item 'animals.'\n",
       "\\item 'plagiarism.'\n",
       "\\item 'categories:'\n",
       "\\item 'plagiarism,'\n",
       "\\item 'falsification,'\n",
       "\\item 'fabrication.'\n",
       "\\item 'manipulation,'\n",
       "\\item 'modification,'\n",
       "\\item 'results.'\n",
       "\\item 'thereof.'\n",
       "\\item 'sanctions,'\n",
       "\\item 'termination.'\n",
       "\\end{enumerate*}\n"
      ],
      "text/markdown": [
       "1. 'example,'\n",
       "2. 'plagiarism,'\n",
       "3. 'examination,'\n",
       "4. 'official)'\n",
       "5. 'Dean\\''\n",
       "6. 'Discipline.'\n",
       "7. 'research.'\n",
       "8. 'scholars;'\n",
       "9. 'others\\''\n",
       "10. 'work;'\n",
       "11. 'works.'\n",
       "12. 'activities,'\n",
       "13. 'evidence.'\n",
       "14. 'one\\''\n",
       "15. 'responsibility.'\n",
       "16. 'terms,'\n",
       "17. 'examinations,'\n",
       "18. 'prohibited.'\n",
       "19. 'buying,'\n",
       "20. 'stealing,'\n",
       "21. 'borrowing,'\n",
       "22. 'online)'\n",
       "23. 'paper;'\n",
       "24. 'citations;'\n",
       "25. 'citation.'\n",
       "26. 'class.'\n",
       "27. 'University\\''\n",
       "28. 'Lab.'\n",
       "29. 'paraphrasing,'\n",
       "30. 'plagiarism.'\n",
       "31. 'passages:'\n",
       "32. 'one\\''\n",
       "33. 'own.'\n",
       "34. 'doubt,'\n",
       "35. 'professor.'\n",
       "36. 'consequences,'\n",
       "37. 'university.'\n",
       "38. 'master\\''\n",
       "39. 'campus.'\n",
       "40. 'interest,'\n",
       "41. 'management,'\n",
       "42. 'ownership,'\n",
       "43. 'animals.'\n",
       "44. 'plagiarism.'\n",
       "45. 'categories:'\n",
       "46. 'plagiarism,'\n",
       "47. 'falsification,'\n",
       "48. 'fabrication.'\n",
       "49. 'manipulation,'\n",
       "50. 'modification,'\n",
       "51. 'results.'\n",
       "52. 'thereof.'\n",
       "53. 'sanctions,'\n",
       "54. 'termination.'\n",
       "\n",
       "\n"
      ],
      "text/plain": [
       " [1] \"example,\"        \"plagiarism,\"     \"examination,\"    \"official)\"      \n",
       " [5] \"Dean'\"           \"Discipline.\"     \"research.\"       \"scholars;\"      \n",
       " [9] \"others'\"         \"work;\"           \"works.\"          \"activities,\"    \n",
       "[13] \"evidence.\"       \"one'\"            \"responsibility.\" \"terms,\"         \n",
       "[17] \"examinations,\"   \"prohibited.\"     \"buying,\"         \"stealing,\"      \n",
       "[21] \"borrowing,\"      \"online)\"         \"paper;\"          \"citations;\"     \n",
       "[25] \"citation.\"       \"class.\"          \"University'\"     \"Lab.\"           \n",
       "[29] \"paraphrasing,\"   \"plagiarism.\"     \"passages:\"       \"one'\"           \n",
       "[33] \"own.\"            \"doubt,\"          \"professor.\"      \"consequences,\"  \n",
       "[37] \"university.\"     \"master'\"         \"campus.\"         \"interest,\"      \n",
       "[41] \"management,\"     \"ownership,\"      \"animals.\"        \"plagiarism.\"    \n",
       "[45] \"categories:\"     \"plagiarism,\"     \"falsification,\"  \"fabrication.\"   \n",
       "[49] \"manipulation,\"   \"modification,\"   \"results.\"        \"thereof.\"       \n",
       "[53] \"sanctions,\"      \"termination.\"   "
      ]
     },
     "metadata": {},
     "output_type": "display_data"
    },
    {
     "data": {
      "text/html": [
       "TRUE"
      ],
      "text/latex": [
       "TRUE"
      ],
      "text/markdown": [
       "TRUE"
      ],
      "text/plain": [
       "[1] TRUE"
      ]
     },
     "metadata": {},
     "output_type": "display_data"
    }
   ],
   "source": [
    "# str_view example\n",
    "str_extract_all(HC,\"[:alpha:]+[:punct:]\") %>% # [:alpha:]表示字母，[:punct:]表示标点\n",
    "    unlist %>% \n",
    "    head(10)\n",
    "\n",
    "# or equivalently:\n",
    "matches1 <- unlist(str_extract_all(HC, \"[:alpha:]+[:punct:]\"))\n",
    "head(matches1, 10)\n",
    "\n",
    "# 用Base R的等价：\n",
    "# 注意到，在Base R下，[:alpha:]没有含义，而[:punct:]必须要被代替为[[:punct:]]\n",
    "full_exp <- \"[a-zA-Z]+[[:punct:]]\"\n",
    "right_place <- grepl(pattern = full_exp, HC)\n",
    "matches2 <- unlist(regmatches(HC[right_place], gregexpr(full_exp, HC[right_place])))\n",
    "matches2\n",
    "\n",
    "length(matches1) == length(matches2)"
   ]
  },
  {
   "cell_type": "markdown",
   "id": "55649505",
   "metadata": {},
   "source": [
    "**虽然根据返回的结果，输入的regex pattern看上去工作得很好，但如果我们漏掉了某些项呢？因此使用str_view_all()查看是否有遗漏。**\n",
    "\n",
    "**str_view(string, pattern, match = NA)**\n",
    "\n",
    "**str_view_all(string, pattern, match = NA)**\n",
    "\n",
    "区别在于，str_view()展示被匹配的第一项。\n",
    "\n",
    "match: 当它为TRUE时，只展示匹配pattern的string。当它为FALSE时，只展示不匹配pattern的string。除此之外则为默认值NA，同时展示匹配与不匹配pattern的string。"
   ]
  },
  {
   "cell_type": "code",
   "execution_count": 43,
   "id": "35f6f4b1",
   "metadata": {},
   "outputs": [
    {
     "data": {
      "text/html": [
       "<!doctype html>\n",
       "<html>\n",
       "\t<head>\n",
       "\t\t<meta charset=\"utf-8\">\n",
       "\t\t<script title=\"htmlwidgets\" src=\"data:application/javascript;base64,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\"></script>\n",
       "<link href=\"data:text/css;charset-utf-8;base64,LnN0cl92aWV3IHVsLCAuc3RyX3ZpZXcgbGkgewogIGxpc3Qtc3R5bGU6IG5vbmU7CiAgcGFkZGluZzogMDsKICBtYXJnaW46IDAuNWVtIDA7CiAgZm9udC1mYW1pbHk6IG1vbm9zcGFjZTsKfQoKLnN0cl92aWV3IC5tYXRjaCB7CiAgYm9yZGVyOiAxcHggc29saWQgI2NjYzsKICBiYWNrZ3JvdW5kLWNvbG9yOiAjZWVlOwp9Cg==\" rel=\"stylesheet\" />\n",
       "<script title=\"str_view-binding\" src=\"data:application/javascript;base64,SFRNTFdpZGdldHMud2lkZ2V0KHsKCiAgbmFtZTogJ3N0cl92aWV3JywKCiAgdHlwZTogJ291dHB1dCcsCgogIGluaXRpYWxpemU6IGZ1bmN0aW9uKGVsLCB3aWR0aCwgaGVpZ2h0KSB7CiAgfSwKCiAgcmVuZGVyVmFsdWU6IGZ1bmN0aW9uKGVsLCB4LCBpbnN0YW5jZSkgewogICAgZWwuaW5uZXJIVE1MID0geC5odG1sOwogIH0sCgogIHJlc2l6ZTogZnVuY3Rpb24oZWwsIHdpZHRoLCBoZWlnaHQsIGluc3RhbmNlKSB7CiAgfQoKfSk7Cg==\"></script>\n",
       "\t</head>\n",
       "\t<body>\n",
       "\t\t<div id=\"htmlwidget-97afaf2523bc3e2c13ae\" style=\"width:960px;height:300px;\" class=\"str_view html-widget\"></div>\n",
       "<script type=\"application/json\" data-for=\"htmlwidget-97afaf2523bc3e2c13ae\">{\"x\":{\"html\":\"<ul>\\n  <li>Students should be aware that academic dishonesty (for <span class='match'>example,<\\/span> <span class='match'>plagiarism,<\\/span> cheating on an<\\/li>\\n  <li><span class='match'>examination,<\\/span> or dishonesty in dealing with a faculty member or other University <span class='match'>official)<\\/span> or<\\/li>\\n  <li>with severely under <span class='match'>Dean'<\\/span>s <span class='match'>Discipline.<\\/span><\\/li>\\n  <li>discourse and <span class='match'>research.<\\/span><\\/li>\\n  <li>Scholars draw inspiration from the work done by other <span class='match'>scholars;<\\/span> they argue their claims with<\\/li>\\n  <li>reference to <span class='match'>others'<\\/span><span class='match'>work;<\\/span> they extract evidence from the world or from earlier scholarly<\\/li>\\n  <li><span class='match'>works.<\\/span> When a student engages in these <span class='match'>activities,<\\/span> it is vital to credit properly the source<\\/li>\\n  <li>of his or her claims or <span class='match'>evidence.<\\/span> Failing to do so violates <span class='match'>one'<\\/span>s scholarly <span class='match'>responsibility.<\\/span><\\/li>\\n  <li>In practical <span class='match'>terms,<\\/span> students must not cheat on <span class='match'>examinations,<\\/span> and deliberate plagiarism is of<\\/li>\\n  <li>course <span class='match'>prohibited.<\\/span> Plagiarism includes <span class='match'>buying,<\\/span> <span class='match'>stealing,<\\/span> <span class='match'>borrowing,<\\/span> or otherwise obtaining<\\/li>\\n  <li>all or part of a paper (including obtaining or posting a paper <span class='match'>online)<\\/span>; hiring someone to<\\/li>\\n  <li>write a <span class='match'>paper;<\\/span> copying from or paraphrasing another source without proper citation or<\\/li>\\n  <li>falsification of <span class='match'>citations;<\\/span> and building on the ideas of another without <span class='match'>citation.<\\/span> Students<\\/li>\\n  <li>also should not submit the same paper to more than one <span class='match'>class.<\\/span> This information is adapted<\\/li>\\n  <li>from the material published by Purdue <span class='match'>University'<\\/span>s Online Writing <span class='match'>Lab.<\\/span><\\/li>\\n  <li>Graduate students are responsible for proper citation and <span class='match'>paraphrasing,<\\/span> and must also take<\\/li>\\n  <li>special care to avoid even accidental <span class='match'>plagiarism.<\\/span> The best strategy is to use great caution<\\/li>\\n  <li>in the handling of ideas and prose <span class='match'>passages:<\\/span> take notes carefully and clearly mark words and<\\/li>\\n  <li>ideas not <span class='match'>one'<\\/span>s <span class='match'>own.<\\/span> When in <span class='match'>doubt,<\\/span> consult your <span class='match'>professor.<\\/span> Failure to observe these rules<\\/li>\\n  <li>of conduct will result in serious academic <span class='match'>consequences,<\\/span> which can include dismissal from<\\/li>\\n  <li>the <span class='match'>university.<\\/span><\\/li>\\n  <li>All incoming doctoral and <span class='match'>master'<\\/span>s students in the Arts and Sciences at Columbia are<\\/li>\\n  <li>required to complete an Academic Integrity Tutorial prior to arrival on <span class='match'>campus.<\\/span> <\\/li>\\n  <li>intellectual and financial conflicts of <span class='match'>interest,<\\/span> integrity and security in data collection<\\/li>\\n  <li>and <span class='match'>management,<\\/span> intellectual property rights and data <span class='match'>ownership,<\\/span> and necessary institutional<\\/li>\\n  <li>approval for research with human subjects and <span class='match'>animals.<\\/span><\\/li>\\n  <li>Academic integrity concerns honest research practices as much as avoiding <span class='match'>plagiarism.<\\/span><\\/li>\\n  <li>Research misconduct falls into three <span class='match'>categories:<\\/span> <span class='match'>plagiarism,<\\/span> <span class='match'>falsification,<\\/span> and <span class='match'>fabrication.<\\/span><\\/li>\\n  <li>Falsification includes purposeful <span class='match'>manipulation,<\\/span> <span class='match'>modification,<\\/span> or omission of data or <span class='match'>results.<\\/span><\\/li>\\n  <li>Fabrication is the making up of data or results and the recording or reporting <span class='match'>thereof.<\\/span><\\/li>\\n  <li>policy may result in serious <span class='match'>sanctions,<\\/span> including <span class='match'>termination.<\\/span><\\/li>\\n<\\/ul>\"},\"evals\":[],\"jsHooks\":[]}</script>\n",
       "\t</body>\n",
       "</html>\n"
      ],
      "text/plain": [
       "HTML widgets cannot be represented in plain text (need html)"
      ]
     },
     "metadata": {
      "text/html": {
       "isolated": true
      }
     },
     "output_type": "display_data"
    }
   ],
   "source": [
    "str_view_all(HC,\"[:alpha:]+[:punct:]\",match=TRUE)"
   ]
  },
  {
   "cell_type": "markdown",
   "id": "7b54277e",
   "metadata": {},
   "source": [
    "* 根据观察，显然之前的正则表达式不能捕获所有我们希望捕获的格式。\n",
    "* 例如第一行的\"(for\"，第三行的\"Dean'\"应该是\"Dean's\"。因此需要修改我们的正则表达式。"
   ]
  },
  {
   "cell_type": "code",
   "execution_count": 44,
   "id": "bbeb6d24",
   "metadata": {},
   "outputs": [
    {
     "data": {
      "text/html": [
       "<!doctype html>\n",
       "<html>\n",
       "\t<head>\n",
       "\t\t<meta charset=\"utf-8\">\n",
       "\t\t<script title=\"htmlwidgets\" src=\"data:application/javascript;base64,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\"></script>\n",
       "<link href=\"data:text/css;charset-utf-8;base64,LnN0cl92aWV3IHVsLCAuc3RyX3ZpZXcgbGkgewogIGxpc3Qtc3R5bGU6IG5vbmU7CiAgcGFkZGluZzogMDsKICBtYXJnaW46IDAuNWVtIDA7CiAgZm9udC1mYW1pbHk6IG1vbm9zcGFjZTsKfQoKLnN0cl92aWV3IC5tYXRjaCB7CiAgYm9yZGVyOiAxcHggc29saWQgI2NjYzsKICBiYWNrZ3JvdW5kLWNvbG9yOiAjZWVlOwp9Cg==\" rel=\"stylesheet\" />\n",
       "<script title=\"str_view-binding\" src=\"data:application/javascript;base64,SFRNTFdpZGdldHMud2lkZ2V0KHsKCiAgbmFtZTogJ3N0cl92aWV3JywKCiAgdHlwZTogJ291dHB1dCcsCgogIGluaXRpYWxpemU6IGZ1bmN0aW9uKGVsLCB3aWR0aCwgaGVpZ2h0KSB7CiAgfSwKCiAgcmVuZGVyVmFsdWU6IGZ1bmN0aW9uKGVsLCB4LCBpbnN0YW5jZSkgewogICAgZWwuaW5uZXJIVE1MID0geC5odG1sOwogIH0sCgogIHJlc2l6ZTogZnVuY3Rpb24oZWwsIHdpZHRoLCBoZWlnaHQsIGluc3RhbmNlKSB7CiAgfQoKfSk7Cg==\"></script>\n",
       "\t</head>\n",
       "\t<body>\n",
       "\t\t<div id=\"htmlwidget-c3dd6661d33745cd975e\" style=\"width:960px;height:300px;\" class=\"str_view html-widget\"></div>\n",
       "<script type=\"application/json\" data-for=\"htmlwidget-c3dd6661d33745cd975e\">{\"x\":{\"html\":\"<ul>\\n  <li>Students should be aware that academic dishonesty <span class='match'>(for<\\/span> <span class='match'>example,<\\/span> <span class='match'>plagiarism,<\\/span> cheating on an<\\/li>\\n  <li><span class='match'>examination,<\\/span> or dishonesty in dealing with a faculty member or other University <span class='match'>official)<\\/span> or<\\/li>\\n  <li>with severely under <span class='match'>Dean's<\\/span> <span class='match'>Discipline.<\\/span><\\/li>\\n  <li>discourse and <span class='match'>research.<\\/span><\\/li>\\n  <li>Scholars draw inspiration from the work done by other <span class='match'>scholars;<\\/span> they argue their claims with<\\/li>\\n  <li>reference to <span class='match'>others'work<\\/span><span class='match'>;<\\/span> they extract evidence from the world or from earlier scholarly<\\/li>\\n  <li><span class='match'>works.<\\/span> When a student engages in these <span class='match'>activities,<\\/span> it is vital to credit properly the source<\\/li>\\n  <li>of his or her claims or <span class='match'>evidence.<\\/span> Failing to do so violates <span class='match'>one's<\\/span> scholarly <span class='match'>responsibility.<\\/span><\\/li>\\n  <li>In practical <span class='match'>terms,<\\/span> students must not cheat on <span class='match'>examinations,<\\/span> and deliberate plagiarism is of<\\/li>\\n  <li>course <span class='match'>prohibited.<\\/span> Plagiarism includes <span class='match'>buying,<\\/span> <span class='match'>stealing,<\\/span> <span class='match'>borrowing,<\\/span> or otherwise obtaining<\\/li>\\n  <li>all or part of a paper <span class='match'>(including<\\/span> obtaining or posting a paper <span class='match'>online)<\\/span><span class='match'>;<\\/span> hiring someone to<\\/li>\\n  <li>write a <span class='match'>paper;<\\/span> copying from or paraphrasing another source without proper citation or<\\/li>\\n  <li>falsification of <span class='match'>citations;<\\/span> and building on the ideas of another without <span class='match'>citation.<\\/span> Students<\\/li>\\n  <li>also should not submit the same paper to more than one <span class='match'>class.<\\/span> This information is adapted<\\/li>\\n  <li>from the material published by Purdue <span class='match'>University's<\\/span> Online Writing <span class='match'>Lab.<\\/span><\\/li>\\n  <li>Graduate students are responsible for proper citation and <span class='match'>paraphrasing,<\\/span> and must also take<\\/li>\\n  <li>special care to avoid even accidental <span class='match'>plagiarism.<\\/span> The best strategy is to use great caution<\\/li>\\n  <li>in the handling of ideas and prose <span class='match'>passages:<\\/span> take notes carefully and clearly mark words and<\\/li>\\n  <li>ideas not <span class='match'>one's<\\/span> <span class='match'>own.<\\/span> When in <span class='match'>doubt,<\\/span> consult your <span class='match'>professor.<\\/span> Failure to observe these rules<\\/li>\\n  <li>of conduct will result in serious academic <span class='match'>consequences,<\\/span> which can include dismissal from<\\/li>\\n  <li>the <span class='match'>university.<\\/span><\\/li>\\n  <li>All incoming doctoral and <span class='match'>master's<\\/span> students in the Arts and Sciences at Columbia are<\\/li>\\n  <li>required to complete an Academic Integrity Tutorial prior to arrival on <span class='match'>campus.<\\/span> <\\/li>\\n  <li>intellectual and financial conflicts of <span class='match'>interest,<\\/span> integrity and security in data collection<\\/li>\\n  <li>and <span class='match'>management,<\\/span> intellectual property rights and data <span class='match'>ownership,<\\/span> and necessary institutional<\\/li>\\n  <li>approval for research with human subjects and <span class='match'>animals.<\\/span><\\/li>\\n  <li>Academic integrity concerns honest research practices as much as avoiding <span class='match'>plagiarism.<\\/span><\\/li>\\n  <li>Research misconduct falls into three <span class='match'>categories:<\\/span> <span class='match'>plagiarism,<\\/span> <span class='match'>falsification,<\\/span> and <span class='match'>fabrication.<\\/span><\\/li>\\n  <li>Falsification includes purposeful <span class='match'>manipulation,<\\/span> <span class='match'>modification,<\\/span> or omission of data or <span class='match'>results.<\\/span><\\/li>\\n  <li>Fabrication is the making up of data or results and the recording or reporting <span class='match'>thereof.<\\/span><\\/li>\\n  <li>policy may result in serious <span class='match'>sanctions,<\\/span> including <span class='match'>termination.<\\/span><\\/li>\\n<\\/ul>\"},\"evals\":[],\"jsHooks\":[]}</script>\n",
       "\t</body>\n",
       "</html>\n"
      ],
      "text/plain": [
       "HTML widgets cannot be represented in plain text (need html)"
      ]
     },
     "metadata": {
      "text/html": {
       "isolated": true
      }
     },
     "output_type": "display_data"
    }
   ],
   "source": [
    "str_view_all(HC, \"[:alpha:]*[:punct:][:alpha:]*\", match=T)"
   ]
  },
  {
   "cell_type": "markdown",
   "id": "6d765f29",
   "metadata": {},
   "source": [
    "# Section 7: Webscraping with rvest\n",
    "\n",
    "## rvest\n",
    "* 虽然不是同一作者所开发，rvest仍被视作Tidyverse的姊妹库，被包含在Tidyverse的安装包内。\n",
    "* 虽然不使用正则表达式，rvest允许直接从源代码(page_source)抓取HTML nodes。\n",
    "\n",
    "### Motivation\n",
    "* 假设你正在学习股票知识，并且对科技板块产生兴趣。你想要抓取该板块中每一个股票的相关信息，包括其缩写、公司名称、现价、较前一日差价。\n",
    "* 你在https://money.cnn.com/data/sectors/tech/electronic/ 发现了此信息，几乎已经被整齐排版了。如果你想使用正则表达式，那么需要对dataframe的每一列各自创建正则表达式，效率较低。\n"
   ]
  },
  {
   "cell_type": "code",
   "execution_count": 45,
   "id": "11c8082e",
   "metadata": {},
   "outputs": [
    {
     "name": "stderr",
     "output_type": "stream",
     "text": [
      "Loading required package: xml2\n",
      "\n",
      "Attaching package: 'rvest'\n",
      "\n",
      "The following object is masked from 'package:purrr':\n",
      "\n",
      "    pluck\n",
      "\n",
      "The following object is masked from 'package:readr':\n",
      "\n",
      "    guess_encoding\n",
      "\n"
     ]
    }
   ],
   "source": [
    "library(\"rvest\")\n",
    "url <- \"https://money.cnn.com/data/sectors/tech/electronic/\"\n",
    "tech <- read_html(url) %>% \n",
    "    html_nodes(xpath='//*[(@id = \"wsod_companiesInIndustry\")]') %>% \n",
    "    html_table(header=T) %>% \n",
    "    extract2(1) %>% # extract代表索引[]，而extract2代表索引[[]]\n",
    "    select(Company, Price, Change)\n",
    "\n",
    "# or equivalently:\n",
    "nodes <- html_nodes(read_html(url), xpath='//*[(@id = \"wsod_companiesInIndustry\")]')\n",
    "table <- html_table(nodes, header = TRUE)\n",
    "tech1 <- table[[1]][c(\"Company\", \"Price\", \"Change\")]"
   ]
  },
  {
   "cell_type": "code",
   "execution_count": 46,
   "id": "8ea854ed",
   "metadata": {},
   "outputs": [
    {
     "data": {
      "text/html": [
       "<table>\n",
       "<thead><tr><th scope=col>Company</th><th scope=col>Price</th><th scope=col>Change</th></tr></thead>\n",
       "<tbody>\n",
       "\t<tr><td><span style=white-space:pre-wrap>AIR&lt;U+00A0&gt;AAR Corp                         </span></td><td>33.3600                                                                                   </td><td>-0.1900                                                                                   </td></tr>\n",
       "\t<tr><td>AJRD&lt;U+00A0&gt;Aerojet Rocketdyne Holdings Inc </td><td>43.1600                                           </td><td>-0.1400                                           </td></tr>\n",
       "\t<tr><td><span style=white-space:pre-wrap>AVAV&lt;U+00A0&gt;AeroVironment Inc               </span></td><td>77.8800                                                                                   </td><td>-1.4500                                                                                   </td></tr>\n",
       "\t<tr><td><span style=white-space:pre-wrap>UAVS&lt;U+00A0&gt;Ageagle Aerial Systems Inc      </span></td><td> 1.9100                                                                                   </td><td>-0.1900                                                                                   </td></tr>\n",
       "\t<tr><td><span style=white-space:pre-wrap>AIRI&lt;U+00A0&gt;Air Industries Group            </span></td><td> 0.9204                                                                                   </td><td>-0.0496                                                                                   </td></tr>\n",
       "\t<tr><td>AAIIQ&lt;U+00A0&gt;Alabama Aircraft Industries Inc</td><td> 0.0200                                           </td><td> 0.0000                                           </td></tr>\n",
       "</tbody>\n",
       "</table>\n"
      ],
      "text/latex": [
       "\\begin{tabular}{r|lll}\n",
       " Company & Price & Change\\\\\n",
       "\\hline\n",
       "\t AIR<U+00A0>AAR Corp                          & 33.3600                                      & -0.1900                                     \\\\\n",
       "\t AJRD<U+00A0>Aerojet Rocketdyne Holdings Inc  & 43.1600                                      & -0.1400                                     \\\\\n",
       "\t AVAV<U+00A0>AeroVironment Inc                & 77.8800                                      & -1.4500                                     \\\\\n",
       "\t UAVS<U+00A0>Ageagle Aerial Systems Inc       &  1.9100                                      & -0.1900                                     \\\\\n",
       "\t AIRI<U+00A0>Air Industries Group             &  0.9204                                      & -0.0496                                     \\\\\n",
       "\t AAIIQ<U+00A0>Alabama Aircraft Industries Inc &  0.0200                                      &  0.0000                                     \\\\\n",
       "\\end{tabular}\n"
      ],
      "text/markdown": [
       "\n",
       "| Company | Price | Change |\n",
       "|---|---|---|\n",
       "| AIR<U+00A0>AAR Corp                          | 33.3600                                      | -0.1900                                      |\n",
       "| AJRD<U+00A0>Aerojet Rocketdyne Holdings Inc  | 43.1600                                      | -0.1400                                      |\n",
       "| AVAV<U+00A0>AeroVironment Inc                | 77.8800                                      | -1.4500                                      |\n",
       "| UAVS<U+00A0>Ageagle Aerial Systems Inc       |  1.9100                                      | -0.1900                                      |\n",
       "| AIRI<U+00A0>Air Industries Group             |  0.9204                                      | -0.0496                                      |\n",
       "| AAIIQ<U+00A0>Alabama Aircraft Industries Inc |  0.0200                                      |  0.0000                                      |\n",
       "\n"
      ],
      "text/plain": [
       "  Company                                      Price   Change \n",
       "1 AIR<U+00A0>AAR Corp                          33.3600 -0.1900\n",
       "2 AJRD<U+00A0>Aerojet Rocketdyne Holdings Inc  43.1600 -0.1400\n",
       "3 AVAV<U+00A0>AeroVironment Inc                77.8800 -1.4500\n",
       "4 UAVS<U+00A0>Ageagle Aerial Systems Inc        1.9100 -0.1900\n",
       "5 AIRI<U+00A0>Air Industries Group              0.9204 -0.0496\n",
       "6 AAIIQ<U+00A0>Alabama Aircraft Industries Inc  0.0200  0.0000"
      ]
     },
     "metadata": {},
     "output_type": "display_data"
    },
    {
     "data": {
      "text/html": [
       "<table>\n",
       "<thead><tr><th scope=col>Company</th><th scope=col>Price</th><th scope=col>Change</th></tr></thead>\n",
       "<tbody>\n",
       "\t<tr><td><span style=white-space:pre-wrap>AIR&lt;U+00A0&gt;AAR Corp                         </span></td><td>33.3600                                                                                   </td><td>-0.1900                                                                                   </td></tr>\n",
       "\t<tr><td>AJRD&lt;U+00A0&gt;Aerojet Rocketdyne Holdings Inc </td><td>43.1600                                           </td><td>-0.1400                                           </td></tr>\n",
       "\t<tr><td><span style=white-space:pre-wrap>AVAV&lt;U+00A0&gt;AeroVironment Inc               </span></td><td>77.8800                                                                                   </td><td>-1.4500                                                                                   </td></tr>\n",
       "\t<tr><td><span style=white-space:pre-wrap>UAVS&lt;U+00A0&gt;Ageagle Aerial Systems Inc      </span></td><td> 1.9100                                                                                   </td><td>-0.1900                                                                                   </td></tr>\n",
       "\t<tr><td><span style=white-space:pre-wrap>AIRI&lt;U+00A0&gt;Air Industries Group            </span></td><td> 0.9204                                                                                   </td><td>-0.0496                                                                                   </td></tr>\n",
       "\t<tr><td>AAIIQ&lt;U+00A0&gt;Alabama Aircraft Industries Inc</td><td> 0.0200                                           </td><td> 0.0000                                           </td></tr>\n",
       "</tbody>\n",
       "</table>\n"
      ],
      "text/latex": [
       "\\begin{tabular}{r|lll}\n",
       " Company & Price & Change\\\\\n",
       "\\hline\n",
       "\t AIR<U+00A0>AAR Corp                          & 33.3600                                      & -0.1900                                     \\\\\n",
       "\t AJRD<U+00A0>Aerojet Rocketdyne Holdings Inc  & 43.1600                                      & -0.1400                                     \\\\\n",
       "\t AVAV<U+00A0>AeroVironment Inc                & 77.8800                                      & -1.4500                                     \\\\\n",
       "\t UAVS<U+00A0>Ageagle Aerial Systems Inc       &  1.9100                                      & -0.1900                                     \\\\\n",
       "\t AIRI<U+00A0>Air Industries Group             &  0.9204                                      & -0.0496                                     \\\\\n",
       "\t AAIIQ<U+00A0>Alabama Aircraft Industries Inc &  0.0200                                      &  0.0000                                     \\\\\n",
       "\\end{tabular}\n"
      ],
      "text/markdown": [
       "\n",
       "| Company | Price | Change |\n",
       "|---|---|---|\n",
       "| AIR<U+00A0>AAR Corp                          | 33.3600                                      | -0.1900                                      |\n",
       "| AJRD<U+00A0>Aerojet Rocketdyne Holdings Inc  | 43.1600                                      | -0.1400                                      |\n",
       "| AVAV<U+00A0>AeroVironment Inc                | 77.8800                                      | -1.4500                                      |\n",
       "| UAVS<U+00A0>Ageagle Aerial Systems Inc       |  1.9100                                      | -0.1900                                      |\n",
       "| AIRI<U+00A0>Air Industries Group             |  0.9204                                      | -0.0496                                      |\n",
       "| AAIIQ<U+00A0>Alabama Aircraft Industries Inc |  0.0200                                      |  0.0000                                      |\n",
       "\n"
      ],
      "text/plain": [
       "  Company                                      Price   Change \n",
       "1 AIR<U+00A0>AAR Corp                          33.3600 -0.1900\n",
       "2 AJRD<U+00A0>Aerojet Rocketdyne Holdings Inc  43.1600 -0.1400\n",
       "3 AVAV<U+00A0>AeroVironment Inc                77.8800 -1.4500\n",
       "4 UAVS<U+00A0>Ageagle Aerial Systems Inc        1.9100 -0.1900\n",
       "5 AIRI<U+00A0>Air Industries Group              0.9204 -0.0496\n",
       "6 AAIIQ<U+00A0>Alabama Aircraft Industries Inc  0.0200  0.0000"
      ]
     },
     "metadata": {},
     "output_type": "display_data"
    }
   ],
   "source": [
    "head(tech); head(tech1)"
   ]
  },
  {
   "cell_type": "markdown",
   "id": "c844bd5a",
   "metadata": {},
   "source": [
    "HTML爬虫并非正则表达式的替换，实际上，如果我们想把缩写和公司名称分开为两列，我们还是需要regex。\n",
    "\n",
    "**str_split(string, pattern, n = Inf, simplify = FALSE)**\n",
    "* simplify = FALSE: 默认返回character vectors; simplify = TRUE: 返回character matrix\n",
    "* n = Inf: 默认进行无限可能的分割; 否则只返回n个片段。如果n > 片段数量，剩下的将被填充以空字符串。\n",
    "\n",
    "**str_split_fixed(string, pattern, n)**\n",
    "* 返回n列的character matrix"
   ]
  },
  {
   "cell_type": "code",
   "execution_count": 47,
   "id": "839b9f5a",
   "metadata": {},
   "outputs": [
    {
     "data": {
      "text/html": [
       "<table>\n",
       "<thead><tr><th scope=col>stock symbol</th><th scope=col>company name</th><th scope=col>Company</th><th scope=col>Price</th><th scope=col>Change</th></tr></thead>\n",
       "<tbody>\n",
       "\t<tr><td><span style=white-space:pre-wrap>AIR  </span>                                            </td><td><span style=white-space:pre-wrap>AAR Corp                       </span>                  </td><td><span style=white-space:pre-wrap>AIR&lt;U+00A0&gt;AAR Corp                        </span></td><td>33.36                                                                                    </td><td>-0.19                                                                                    </td></tr>\n",
       "\t<tr><td>AJRD                                                                                     </td><td>Aerojet Rocketdyne Holdings Inc                                                          </td><td><span style=white-space:pre-wrap>AIR&lt;U+00A0&gt;AAR Corp                        </span></td><td>33.36                                                                                    </td><td>-0.19                                                                                    </td></tr>\n",
       "\t<tr><td>AVAV                                                                                     </td><td><span style=white-space:pre-wrap>AeroVironment Inc              </span>                  </td><td><span style=white-space:pre-wrap>AIR&lt;U+00A0&gt;AAR Corp                        </span></td><td>33.36                                                                                    </td><td>-0.19                                                                                    </td></tr>\n",
       "\t<tr><td>UAVS                                                                                     </td><td><span style=white-space:pre-wrap>Ageagle Aerial Systems Inc     </span>                  </td><td><span style=white-space:pre-wrap>AIR&lt;U+00A0&gt;AAR Corp                        </span></td><td>33.36                                                                                    </td><td>-0.19                                                                                    </td></tr>\n",
       "\t<tr><td>AIRI                                                                                     </td><td><span style=white-space:pre-wrap>Air Industries Group           </span>                  </td><td><span style=white-space:pre-wrap>AIR&lt;U+00A0&gt;AAR Corp                        </span></td><td>33.36                                                                                    </td><td>-0.19                                                                                    </td></tr>\n",
       "\t<tr><td>AAIIQ                                                                                    </td><td>Alabama Aircraft Industries Inc                                                          </td><td><span style=white-space:pre-wrap>AIR&lt;U+00A0&gt;AAR Corp                        </span></td><td>33.36                                                                                    </td><td>-0.19                                                                                    </td></tr>\n",
       "\t<tr><td>ADFS                                                                                     </td><td><span style=white-space:pre-wrap>American Defense Systems Inc   </span>                  </td><td><span style=white-space:pre-wrap>AIR&lt;U+00A0&gt;AAR Corp                        </span></td><td>33.36                                                                                    </td><td>-0.19                                                                                    </td></tr>\n",
       "\t<tr><td>POWWP                                                                                    </td><td><span style=white-space:pre-wrap>Ammo Inc                       </span>                  </td><td><span style=white-space:pre-wrap>AIR&lt;U+00A0&gt;AAR Corp                        </span></td><td>33.36                                                                                    </td><td>-0.19                                                                                    </td></tr>\n",
       "\t<tr><td>POWW                                                                                     </td><td><span style=white-space:pre-wrap>Ammo Inc                       </span>                  </td><td><span style=white-space:pre-wrap>AIR&lt;U+00A0&gt;AAR Corp                        </span></td><td>33.36                                                                                    </td><td>-0.19                                                                                    </td></tr>\n",
       "\t<tr><td>AERGP                                                                                    </td><td><span style=white-space:pre-wrap>Applied Energetics Inc         </span>                  </td><td><span style=white-space:pre-wrap>AIR&lt;U+00A0&gt;AAR Corp                        </span></td><td>33.36                                                                                    </td><td>-0.19                                                                                    </td></tr>\n",
       "\t<tr><td>AERG                                                                                     </td><td><span style=white-space:pre-wrap>Applied Energetics Inc         </span>                  </td><td><span style=white-space:pre-wrap>AIR&lt;U+00A0&gt;AAR Corp                        </span></td><td>33.36                                                                                    </td><td>-0.19                                                                                    </td></tr>\n",
       "\t<tr><td>ASTR                                                                                     </td><td><span style=white-space:pre-wrap>Astra Space Inc                </span>                  </td><td><span style=white-space:pre-wrap>AIR&lt;U+00A0&gt;AAR Corp                        </span></td><td>33.36                                                                                    </td><td>-0.19                                                                                    </td></tr>\n",
       "\t<tr><td>ASDN                                                                                     </td><td><span style=white-space:pre-wrap>Astro Aerospace Ltd            </span>                  </td><td><span style=white-space:pre-wrap>AIR&lt;U+00A0&gt;AAR Corp                        </span></td><td>33.36                                                                                    </td><td>-0.19                                                                                    </td></tr>\n",
       "\t<tr><td>ATRO                                                                                     </td><td><span style=white-space:pre-wrap>Astronics Corp                 </span>                  </td><td><span style=white-space:pre-wrap>AIR&lt;U+00A0&gt;AAR Corp                        </span></td><td>33.36                                                                                    </td><td>-0.19                                                                                    </td></tr>\n",
       "\t<tr><td>ATROB                                                                                    </td><td><span style=white-space:pre-wrap>Astronics Corp                 </span>                  </td><td><span style=white-space:pre-wrap>AIR&lt;U+00A0&gt;AAR Corp                        </span></td><td>33.36                                                                                    </td><td>-0.19                                                                                    </td></tr>\n",
       "\t<tr><td>ASTC                                                                                     </td><td><span style=white-space:pre-wrap>Astrotech Corp                 </span>                  </td><td><span style=white-space:pre-wrap>AIR&lt;U+00A0&gt;AAR Corp                        </span></td><td>33.36                                                                                    </td><td>-0.19                                                                                    </td></tr>\n",
       "\t<tr><td>AXON                                                                                     </td><td><span style=white-space:pre-wrap>Axon Enterprise Inc            </span>                  </td><td><span style=white-space:pre-wrap>AIR&lt;U+00A0&gt;AAR Corp                        </span></td><td>33.36                                                                                    </td><td>-0.19                                                                                    </td></tr>\n",
       "\t<tr><td>BRSI                                                                                     </td><td>Ballistic Recovery Systems Inc                                                           </td><td><span style=white-space:pre-wrap>AIR&lt;U+00A0&gt;AAR Corp                        </span></td><td>33.36                                                                                    </td><td>-0.19                                                                                    </td></tr>\n",
       "\t<tr><td>BANT                                                                                     </td><td><span style=white-space:pre-wrap>Bantec Inc                     </span>                  </td><td><span style=white-space:pre-wrap>AIR&lt;U+00A0&gt;AAR Corp                        </span></td><td>33.36                                                                                    </td><td>-0.19                                                                                    </td></tr>\n",
       "\t<tr><td>BICB                                                                                     </td><td><span style=white-space:pre-wrap>Biocube Inc                    </span>                  </td><td><span style=white-space:pre-wrap>AIR&lt;U+00A0&gt;AAR Corp                        </span></td><td>33.36                                                                                    </td><td>-0.19                                                                                    </td></tr>\n",
       "\t<tr><td><span style=white-space:pre-wrap>AIR  </span>                          </td><td><span style=white-space:pre-wrap>AAR Corp                       </span></td><td>AJRD&lt;U+00A0&gt;Aerojet Rocketdyne Holdings Inc                      </td><td>43.16                                                                  </td><td>-0.14                                                                  </td></tr>\n",
       "\t<tr><td>AJRD                                             </td><td>Aerojet Rocketdyne Holdings Inc                  </td><td>AJRD&lt;U+00A0&gt;Aerojet Rocketdyne Holdings Inc</td><td>43.16                                            </td><td>-0.14                                            </td></tr>\n",
       "\t<tr><td>AVAV                                                                   </td><td><span style=white-space:pre-wrap>AeroVironment Inc              </span></td><td>AJRD&lt;U+00A0&gt;Aerojet Rocketdyne Holdings Inc                      </td><td>43.16                                                                  </td><td>-0.14                                                                  </td></tr>\n",
       "\t<tr><td>UAVS                                                                   </td><td><span style=white-space:pre-wrap>Ageagle Aerial Systems Inc     </span></td><td>AJRD&lt;U+00A0&gt;Aerojet Rocketdyne Holdings Inc                      </td><td>43.16                                                                  </td><td>-0.14                                                                  </td></tr>\n",
       "\t<tr><td>AIRI                                                                   </td><td><span style=white-space:pre-wrap>Air Industries Group           </span></td><td>AJRD&lt;U+00A0&gt;Aerojet Rocketdyne Holdings Inc                      </td><td>43.16                                                                  </td><td>-0.14                                                                  </td></tr>\n",
       "\t<tr><td>AAIIQ                                            </td><td>Alabama Aircraft Industries Inc                  </td><td>AJRD&lt;U+00A0&gt;Aerojet Rocketdyne Holdings Inc</td><td>43.16                                            </td><td>-0.14                                            </td></tr>\n",
       "\t<tr><td>ADFS                                                                   </td><td><span style=white-space:pre-wrap>American Defense Systems Inc   </span></td><td>AJRD&lt;U+00A0&gt;Aerojet Rocketdyne Holdings Inc                      </td><td>43.16                                                                  </td><td>-0.14                                                                  </td></tr>\n",
       "\t<tr><td>POWWP                                                                  </td><td><span style=white-space:pre-wrap>Ammo Inc                       </span></td><td>AJRD&lt;U+00A0&gt;Aerojet Rocketdyne Holdings Inc                      </td><td>43.16                                                                  </td><td>-0.14                                                                  </td></tr>\n",
       "\t<tr><td>POWW                                                                   </td><td><span style=white-space:pre-wrap>Ammo Inc                       </span></td><td>AJRD&lt;U+00A0&gt;Aerojet Rocketdyne Holdings Inc                      </td><td>43.16                                                                  </td><td>-0.14                                                                  </td></tr>\n",
       "\t<tr><td>AERGP                                                                  </td><td><span style=white-space:pre-wrap>Applied Energetics Inc         </span></td><td>AJRD&lt;U+00A0&gt;Aerojet Rocketdyne Holdings Inc                      </td><td>43.16                                                                  </td><td>-0.14                                                                  </td></tr>\n",
       "\t<tr><td>...</td><td>...</td><td>...</td><td>...</td><td>...</td></tr>\n",
       "\t<tr><td>AERG                                                                   </td><td><span style=white-space:pre-wrap>Applied Energetics Inc         </span></td><td>BANT&lt;U+00A0&gt;Bantec Inc                                           </td><td>0.0011                                                                 </td><td>-1e-04                                                                 </td></tr>\n",
       "\t<tr><td>ASTR                                                                   </td><td><span style=white-space:pre-wrap>Astra Space Inc                </span></td><td>BANT&lt;U+00A0&gt;Bantec Inc                                           </td><td>0.0011                                                                 </td><td>-1e-04                                                                 </td></tr>\n",
       "\t<tr><td>ASDN                                                                   </td><td><span style=white-space:pre-wrap>Astro Aerospace Ltd            </span></td><td>BANT&lt;U+00A0&gt;Bantec Inc                                           </td><td>0.0011                                                                 </td><td>-1e-04                                                                 </td></tr>\n",
       "\t<tr><td>ATRO                                                                   </td><td><span style=white-space:pre-wrap>Astronics Corp                 </span></td><td>BANT&lt;U+00A0&gt;Bantec Inc                                           </td><td>0.0011                                                                 </td><td>-1e-04                                                                 </td></tr>\n",
       "\t<tr><td>ATROB                                                                  </td><td><span style=white-space:pre-wrap>Astronics Corp                 </span></td><td>BANT&lt;U+00A0&gt;Bantec Inc                                           </td><td>0.0011                                                                 </td><td>-1e-04                                                                 </td></tr>\n",
       "\t<tr><td>ASTC                                                                   </td><td><span style=white-space:pre-wrap>Astrotech Corp                 </span></td><td>BANT&lt;U+00A0&gt;Bantec Inc                                           </td><td>0.0011                                                                 </td><td>-1e-04                                                                 </td></tr>\n",
       "\t<tr><td>AXON                                                                   </td><td><span style=white-space:pre-wrap>Axon Enterprise Inc            </span></td><td>BANT&lt;U+00A0&gt;Bantec Inc                                           </td><td>0.0011                                                                 </td><td>-1e-04                                                                 </td></tr>\n",
       "\t<tr><td>BRSI                           </td><td>Ballistic Recovery Systems Inc </td><td>BANT&lt;U+00A0&gt;Bantec Inc   </td><td>0.0011                         </td><td>-1e-04                         </td></tr>\n",
       "\t<tr><td>BANT                                                                   </td><td><span style=white-space:pre-wrap>Bantec Inc                     </span></td><td>BANT&lt;U+00A0&gt;Bantec Inc                                           </td><td>0.0011                                                                 </td><td>-1e-04                                                                 </td></tr>\n",
       "\t<tr><td>BICB                                                                   </td><td><span style=white-space:pre-wrap>Biocube Inc                    </span></td><td>BANT&lt;U+00A0&gt;Bantec Inc                                           </td><td>0.0011                                                                 </td><td>-1e-04                                                                 </td></tr>\n",
       "\t<tr><td><span style=white-space:pre-wrap>AIR  </span>                          </td><td><span style=white-space:pre-wrap>AAR Corp                       </span></td><td>BICB&lt;U+00A0&gt;Biocube Inc                                          </td><td>0.0270                                                                 </td><td>-5e-04                                                                 </td></tr>\n",
       "\t<tr><td>AJRD                           </td><td>Aerojet Rocketdyne Holdings Inc</td><td>BICB&lt;U+00A0&gt;Biocube Inc  </td><td>0.0270                         </td><td>-5e-04                         </td></tr>\n",
       "\t<tr><td>AVAV                                                                   </td><td><span style=white-space:pre-wrap>AeroVironment Inc              </span></td><td>BICB&lt;U+00A0&gt;Biocube Inc                                          </td><td>0.0270                                                                 </td><td>-5e-04                                                                 </td></tr>\n",
       "\t<tr><td>UAVS                                                                   </td><td><span style=white-space:pre-wrap>Ageagle Aerial Systems Inc     </span></td><td>BICB&lt;U+00A0&gt;Biocube Inc                                          </td><td>0.0270                                                                 </td><td>-5e-04                                                                 </td></tr>\n",
       "\t<tr><td>AIRI                                                                   </td><td><span style=white-space:pre-wrap>Air Industries Group           </span></td><td>BICB&lt;U+00A0&gt;Biocube Inc                                          </td><td>0.0270                                                                 </td><td>-5e-04                                                                 </td></tr>\n",
       "\t<tr><td>AAIIQ                          </td><td>Alabama Aircraft Industries Inc</td><td>BICB&lt;U+00A0&gt;Biocube Inc  </td><td>0.0270                         </td><td>-5e-04                         </td></tr>\n",
       "\t<tr><td>ADFS                                                                   </td><td><span style=white-space:pre-wrap>American Defense Systems Inc   </span></td><td>BICB&lt;U+00A0&gt;Biocube Inc                                          </td><td>0.0270                                                                 </td><td>-5e-04                                                                 </td></tr>\n",
       "\t<tr><td>POWWP                                                                  </td><td><span style=white-space:pre-wrap>Ammo Inc                       </span></td><td>BICB&lt;U+00A0&gt;Biocube Inc                                          </td><td>0.0270                                                                 </td><td>-5e-04                                                                 </td></tr>\n",
       "\t<tr><td>POWW                                                                   </td><td><span style=white-space:pre-wrap>Ammo Inc                       </span></td><td>BICB&lt;U+00A0&gt;Biocube Inc                                          </td><td>0.0270                                                                 </td><td>-5e-04                                                                 </td></tr>\n",
       "\t<tr><td>AERGP                                                                  </td><td><span style=white-space:pre-wrap>Applied Energetics Inc         </span></td><td>BICB&lt;U+00A0&gt;Biocube Inc                                          </td><td>0.0270                                                                 </td><td>-5e-04                                                                 </td></tr>\n",
       "\t<tr><td>AERG                                                                   </td><td><span style=white-space:pre-wrap>Applied Energetics Inc         </span></td><td>BICB&lt;U+00A0&gt;Biocube Inc                                          </td><td>0.0270                                                                 </td><td>-5e-04                                                                 </td></tr>\n",
       "\t<tr><td>ASTR                                                                   </td><td><span style=white-space:pre-wrap>Astra Space Inc                </span></td><td>BICB&lt;U+00A0&gt;Biocube Inc                                          </td><td>0.0270                                                                 </td><td>-5e-04                                                                 </td></tr>\n",
       "\t<tr><td>ASDN                                                                   </td><td><span style=white-space:pre-wrap>Astro Aerospace Ltd            </span></td><td>BICB&lt;U+00A0&gt;Biocube Inc                                          </td><td>0.0270                                                                 </td><td>-5e-04                                                                 </td></tr>\n",
       "\t<tr><td>ATRO                                                                   </td><td><span style=white-space:pre-wrap>Astronics Corp                 </span></td><td>BICB&lt;U+00A0&gt;Biocube Inc                                          </td><td>0.0270                                                                 </td><td>-5e-04                                                                 </td></tr>\n",
       "\t<tr><td>ATROB                                                                  </td><td><span style=white-space:pre-wrap>Astronics Corp                 </span></td><td>BICB&lt;U+00A0&gt;Biocube Inc                                          </td><td>0.0270                                                                 </td><td>-5e-04                                                                 </td></tr>\n",
       "\t<tr><td>ASTC                                                                   </td><td><span style=white-space:pre-wrap>Astrotech Corp                 </span></td><td>BICB&lt;U+00A0&gt;Biocube Inc                                          </td><td>0.0270                                                                 </td><td>-5e-04                                                                 </td></tr>\n",
       "\t<tr><td>AXON                                                                   </td><td><span style=white-space:pre-wrap>Axon Enterprise Inc            </span></td><td>BICB&lt;U+00A0&gt;Biocube Inc                                          </td><td>0.0270                                                                 </td><td>-5e-04                                                                 </td></tr>\n",
       "\t<tr><td>BRSI                           </td><td>Ballistic Recovery Systems Inc </td><td>BICB&lt;U+00A0&gt;Biocube Inc  </td><td>0.0270                         </td><td>-5e-04                         </td></tr>\n",
       "\t<tr><td>BANT                                                                   </td><td><span style=white-space:pre-wrap>Bantec Inc                     </span></td><td>BICB&lt;U+00A0&gt;Biocube Inc                                          </td><td>0.0270                                                                 </td><td>-5e-04                                                                 </td></tr>\n",
       "\t<tr><td>BICB                                                                   </td><td><span style=white-space:pre-wrap>Biocube Inc                    </span></td><td>BICB&lt;U+00A0&gt;Biocube Inc                                          </td><td>0.0270                                                                 </td><td>-5e-04                                                                 </td></tr>\n",
       "</tbody>\n",
       "</table>\n"
      ],
      "text/latex": [
       "\\begin{tabular}{r|lllll}\n",
       " stock symbol & company name & Company & Price & Change\\\\\n",
       "\\hline\n",
       "\t AIR                                         & AAR Corp                                    & AIR<U+00A0>AAR Corp                         & 33.36                                       & -0.19                                      \\\\\n",
       "\t AJRD                                        & Aerojet Rocketdyne Holdings Inc             & AIR<U+00A0>AAR Corp                         & 33.36                                       & -0.19                                      \\\\\n",
       "\t AVAV                                        & AeroVironment Inc                           & AIR<U+00A0>AAR Corp                         & 33.36                                       & -0.19                                      \\\\\n",
       "\t UAVS                                        & Ageagle Aerial Systems Inc                  & AIR<U+00A0>AAR Corp                         & 33.36                                       & -0.19                                      \\\\\n",
       "\t AIRI                                        & Air Industries Group                        & AIR<U+00A0>AAR Corp                         & 33.36                                       & -0.19                                      \\\\\n",
       "\t AAIIQ                                       & Alabama Aircraft Industries Inc             & AIR<U+00A0>AAR Corp                         & 33.36                                       & -0.19                                      \\\\\n",
       "\t ADFS                                        & American Defense Systems Inc                & AIR<U+00A0>AAR Corp                         & 33.36                                       & -0.19                                      \\\\\n",
       "\t POWWP                                       & Ammo Inc                                    & AIR<U+00A0>AAR Corp                         & 33.36                                       & -0.19                                      \\\\\n",
       "\t POWW                                        & Ammo Inc                                    & AIR<U+00A0>AAR Corp                         & 33.36                                       & -0.19                                      \\\\\n",
       "\t AERGP                                       & Applied Energetics Inc                      & AIR<U+00A0>AAR Corp                         & 33.36                                       & -0.19                                      \\\\\n",
       "\t AERG                                        & Applied Energetics Inc                      & AIR<U+00A0>AAR Corp                         & 33.36                                       & -0.19                                      \\\\\n",
       "\t ASTR                                        & Astra Space Inc                             & AIR<U+00A0>AAR Corp                         & 33.36                                       & -0.19                                      \\\\\n",
       "\t ASDN                                        & Astro Aerospace Ltd                         & AIR<U+00A0>AAR Corp                         & 33.36                                       & -0.19                                      \\\\\n",
       "\t ATRO                                        & Astronics Corp                              & AIR<U+00A0>AAR Corp                         & 33.36                                       & -0.19                                      \\\\\n",
       "\t ATROB                                       & Astronics Corp                              & AIR<U+00A0>AAR Corp                         & 33.36                                       & -0.19                                      \\\\\n",
       "\t ASTC                                        & Astrotech Corp                              & AIR<U+00A0>AAR Corp                         & 33.36                                       & -0.19                                      \\\\\n",
       "\t AXON                                        & Axon Enterprise Inc                         & AIR<U+00A0>AAR Corp                         & 33.36                                       & -0.19                                      \\\\\n",
       "\t BRSI                                        & Ballistic Recovery Systems Inc              & AIR<U+00A0>AAR Corp                         & 33.36                                       & -0.19                                      \\\\\n",
       "\t BANT                                        & Bantec Inc                                  & AIR<U+00A0>AAR Corp                         & 33.36                                       & -0.19                                      \\\\\n",
       "\t BICB                                        & Biocube Inc                                 & AIR<U+00A0>AAR Corp                         & 33.36                                       & -0.19                                      \\\\\n",
       "\t AIR                                         & AAR Corp                                    & AJRD<U+00A0>Aerojet Rocketdyne Holdings Inc & 43.16                                       & -0.14                                      \\\\\n",
       "\t AJRD                                        & Aerojet Rocketdyne Holdings Inc             & AJRD<U+00A0>Aerojet Rocketdyne Holdings Inc & 43.16                                       & -0.14                                      \\\\\n",
       "\t AVAV                                        & AeroVironment Inc                           & AJRD<U+00A0>Aerojet Rocketdyne Holdings Inc & 43.16                                       & -0.14                                      \\\\\n",
       "\t UAVS                                        & Ageagle Aerial Systems Inc                  & AJRD<U+00A0>Aerojet Rocketdyne Holdings Inc & 43.16                                       & -0.14                                      \\\\\n",
       "\t AIRI                                        & Air Industries Group                        & AJRD<U+00A0>Aerojet Rocketdyne Holdings Inc & 43.16                                       & -0.14                                      \\\\\n",
       "\t AAIIQ                                       & Alabama Aircraft Industries Inc             & AJRD<U+00A0>Aerojet Rocketdyne Holdings Inc & 43.16                                       & -0.14                                      \\\\\n",
       "\t ADFS                                        & American Defense Systems Inc                & AJRD<U+00A0>Aerojet Rocketdyne Holdings Inc & 43.16                                       & -0.14                                      \\\\\n",
       "\t POWWP                                       & Ammo Inc                                    & AJRD<U+00A0>Aerojet Rocketdyne Holdings Inc & 43.16                                       & -0.14                                      \\\\\n",
       "\t POWW                                        & Ammo Inc                                    & AJRD<U+00A0>Aerojet Rocketdyne Holdings Inc & 43.16                                       & -0.14                                      \\\\\n",
       "\t AERGP                                       & Applied Energetics Inc                      & AJRD<U+00A0>Aerojet Rocketdyne Holdings Inc & 43.16                                       & -0.14                                      \\\\\n",
       "\t ... & ... & ... & ... & ...\\\\\n",
       "\t AERG                            & Applied Energetics Inc          & BANT<U+00A0>Bantec Inc          & 0.0011                          & -1e-04                         \\\\\n",
       "\t ASTR                            & Astra Space Inc                 & BANT<U+00A0>Bantec Inc          & 0.0011                          & -1e-04                         \\\\\n",
       "\t ASDN                            & Astro Aerospace Ltd             & BANT<U+00A0>Bantec Inc          & 0.0011                          & -1e-04                         \\\\\n",
       "\t ATRO                            & Astronics Corp                  & BANT<U+00A0>Bantec Inc          & 0.0011                          & -1e-04                         \\\\\n",
       "\t ATROB                           & Astronics Corp                  & BANT<U+00A0>Bantec Inc          & 0.0011                          & -1e-04                         \\\\\n",
       "\t ASTC                            & Astrotech Corp                  & BANT<U+00A0>Bantec Inc          & 0.0011                          & -1e-04                         \\\\\n",
       "\t AXON                            & Axon Enterprise Inc             & BANT<U+00A0>Bantec Inc          & 0.0011                          & -1e-04                         \\\\\n",
       "\t BRSI                            & Ballistic Recovery Systems Inc  & BANT<U+00A0>Bantec Inc          & 0.0011                          & -1e-04                         \\\\\n",
       "\t BANT                            & Bantec Inc                      & BANT<U+00A0>Bantec Inc          & 0.0011                          & -1e-04                         \\\\\n",
       "\t BICB                            & Biocube Inc                     & BANT<U+00A0>Bantec Inc          & 0.0011                          & -1e-04                         \\\\\n",
       "\t AIR                             & AAR Corp                        & BICB<U+00A0>Biocube Inc         & 0.0270                          & -5e-04                         \\\\\n",
       "\t AJRD                            & Aerojet Rocketdyne Holdings Inc & BICB<U+00A0>Biocube Inc         & 0.0270                          & -5e-04                         \\\\\n",
       "\t AVAV                            & AeroVironment Inc               & BICB<U+00A0>Biocube Inc         & 0.0270                          & -5e-04                         \\\\\n",
       "\t UAVS                            & Ageagle Aerial Systems Inc      & BICB<U+00A0>Biocube Inc         & 0.0270                          & -5e-04                         \\\\\n",
       "\t AIRI                            & Air Industries Group            & BICB<U+00A0>Biocube Inc         & 0.0270                          & -5e-04                         \\\\\n",
       "\t AAIIQ                           & Alabama Aircraft Industries Inc & BICB<U+00A0>Biocube Inc         & 0.0270                          & -5e-04                         \\\\\n",
       "\t ADFS                            & American Defense Systems Inc    & BICB<U+00A0>Biocube Inc         & 0.0270                          & -5e-04                         \\\\\n",
       "\t POWWP                           & Ammo Inc                        & BICB<U+00A0>Biocube Inc         & 0.0270                          & -5e-04                         \\\\\n",
       "\t POWW                            & Ammo Inc                        & BICB<U+00A0>Biocube Inc         & 0.0270                          & -5e-04                         \\\\\n",
       "\t AERGP                           & Applied Energetics Inc          & BICB<U+00A0>Biocube Inc         & 0.0270                          & -5e-04                         \\\\\n",
       "\t AERG                            & Applied Energetics Inc          & BICB<U+00A0>Biocube Inc         & 0.0270                          & -5e-04                         \\\\\n",
       "\t ASTR                            & Astra Space Inc                 & BICB<U+00A0>Biocube Inc         & 0.0270                          & -5e-04                         \\\\\n",
       "\t ASDN                            & Astro Aerospace Ltd             & BICB<U+00A0>Biocube Inc         & 0.0270                          & -5e-04                         \\\\\n",
       "\t ATRO                            & Astronics Corp                  & BICB<U+00A0>Biocube Inc         & 0.0270                          & -5e-04                         \\\\\n",
       "\t ATROB                           & Astronics Corp                  & BICB<U+00A0>Biocube Inc         & 0.0270                          & -5e-04                         \\\\\n",
       "\t ASTC                            & Astrotech Corp                  & BICB<U+00A0>Biocube Inc         & 0.0270                          & -5e-04                         \\\\\n",
       "\t AXON                            & Axon Enterprise Inc             & BICB<U+00A0>Biocube Inc         & 0.0270                          & -5e-04                         \\\\\n",
       "\t BRSI                            & Ballistic Recovery Systems Inc  & BICB<U+00A0>Biocube Inc         & 0.0270                          & -5e-04                         \\\\\n",
       "\t BANT                            & Bantec Inc                      & BICB<U+00A0>Biocube Inc         & 0.0270                          & -5e-04                         \\\\\n",
       "\t BICB                            & Biocube Inc                     & BICB<U+00A0>Biocube Inc         & 0.0270                          & -5e-04                         \\\\\n",
       "\\end{tabular}\n"
      ],
      "text/markdown": [
       "\n",
       "| stock symbol | company name | Company | Price | Change |\n",
       "|---|---|---|---|---|\n",
       "| AIR                                         | AAR Corp                                    | AIR<U+00A0>AAR Corp                         | 33.36                                       | -0.19                                       |\n",
       "| AJRD                                        | Aerojet Rocketdyne Holdings Inc             | AIR<U+00A0>AAR Corp                         | 33.36                                       | -0.19                                       |\n",
       "| AVAV                                        | AeroVironment Inc                           | AIR<U+00A0>AAR Corp                         | 33.36                                       | -0.19                                       |\n",
       "| UAVS                                        | Ageagle Aerial Systems Inc                  | AIR<U+00A0>AAR Corp                         | 33.36                                       | -0.19                                       |\n",
       "| AIRI                                        | Air Industries Group                        | AIR<U+00A0>AAR Corp                         | 33.36                                       | -0.19                                       |\n",
       "| AAIIQ                                       | Alabama Aircraft Industries Inc             | AIR<U+00A0>AAR Corp                         | 33.36                                       | -0.19                                       |\n",
       "| ADFS                                        | American Defense Systems Inc                | AIR<U+00A0>AAR Corp                         | 33.36                                       | -0.19                                       |\n",
       "| POWWP                                       | Ammo Inc                                    | AIR<U+00A0>AAR Corp                         | 33.36                                       | -0.19                                       |\n",
       "| POWW                                        | Ammo Inc                                    | AIR<U+00A0>AAR Corp                         | 33.36                                       | -0.19                                       |\n",
       "| AERGP                                       | Applied Energetics Inc                      | AIR<U+00A0>AAR Corp                         | 33.36                                       | -0.19                                       |\n",
       "| AERG                                        | Applied Energetics Inc                      | AIR<U+00A0>AAR Corp                         | 33.36                                       | -0.19                                       |\n",
       "| ASTR                                        | Astra Space Inc                             | AIR<U+00A0>AAR Corp                         | 33.36                                       | -0.19                                       |\n",
       "| ASDN                                        | Astro Aerospace Ltd                         | AIR<U+00A0>AAR Corp                         | 33.36                                       | -0.19                                       |\n",
       "| ATRO                                        | Astronics Corp                              | AIR<U+00A0>AAR Corp                         | 33.36                                       | -0.19                                       |\n",
       "| ATROB                                       | Astronics Corp                              | AIR<U+00A0>AAR Corp                         | 33.36                                       | -0.19                                       |\n",
       "| ASTC                                        | Astrotech Corp                              | AIR<U+00A0>AAR Corp                         | 33.36                                       | -0.19                                       |\n",
       "| AXON                                        | Axon Enterprise Inc                         | AIR<U+00A0>AAR Corp                         | 33.36                                       | -0.19                                       |\n",
       "| BRSI                                        | Ballistic Recovery Systems Inc              | AIR<U+00A0>AAR Corp                         | 33.36                                       | -0.19                                       |\n",
       "| BANT                                        | Bantec Inc                                  | AIR<U+00A0>AAR Corp                         | 33.36                                       | -0.19                                       |\n",
       "| BICB                                        | Biocube Inc                                 | AIR<U+00A0>AAR Corp                         | 33.36                                       | -0.19                                       |\n",
       "| AIR                                         | AAR Corp                                    | AJRD<U+00A0>Aerojet Rocketdyne Holdings Inc | 43.16                                       | -0.14                                       |\n",
       "| AJRD                                        | Aerojet Rocketdyne Holdings Inc             | AJRD<U+00A0>Aerojet Rocketdyne Holdings Inc | 43.16                                       | -0.14                                       |\n",
       "| AVAV                                        | AeroVironment Inc                           | AJRD<U+00A0>Aerojet Rocketdyne Holdings Inc | 43.16                                       | -0.14                                       |\n",
       "| UAVS                                        | Ageagle Aerial Systems Inc                  | AJRD<U+00A0>Aerojet Rocketdyne Holdings Inc | 43.16                                       | -0.14                                       |\n",
       "| AIRI                                        | Air Industries Group                        | AJRD<U+00A0>Aerojet Rocketdyne Holdings Inc | 43.16                                       | -0.14                                       |\n",
       "| AAIIQ                                       | Alabama Aircraft Industries Inc             | AJRD<U+00A0>Aerojet Rocketdyne Holdings Inc | 43.16                                       | -0.14                                       |\n",
       "| ADFS                                        | American Defense Systems Inc                | AJRD<U+00A0>Aerojet Rocketdyne Holdings Inc | 43.16                                       | -0.14                                       |\n",
       "| POWWP                                       | Ammo Inc                                    | AJRD<U+00A0>Aerojet Rocketdyne Holdings Inc | 43.16                                       | -0.14                                       |\n",
       "| POWW                                        | Ammo Inc                                    | AJRD<U+00A0>Aerojet Rocketdyne Holdings Inc | 43.16                                       | -0.14                                       |\n",
       "| AERGP                                       | Applied Energetics Inc                      | AJRD<U+00A0>Aerojet Rocketdyne Holdings Inc | 43.16                                       | -0.14                                       |\n",
       "| ... | ... | ... | ... | ... |\n",
       "| AERG                            | Applied Energetics Inc          | BANT<U+00A0>Bantec Inc          | 0.0011                          | -1e-04                          |\n",
       "| ASTR                            | Astra Space Inc                 | BANT<U+00A0>Bantec Inc          | 0.0011                          | -1e-04                          |\n",
       "| ASDN                            | Astro Aerospace Ltd             | BANT<U+00A0>Bantec Inc          | 0.0011                          | -1e-04                          |\n",
       "| ATRO                            | Astronics Corp                  | BANT<U+00A0>Bantec Inc          | 0.0011                          | -1e-04                          |\n",
       "| ATROB                           | Astronics Corp                  | BANT<U+00A0>Bantec Inc          | 0.0011                          | -1e-04                          |\n",
       "| ASTC                            | Astrotech Corp                  | BANT<U+00A0>Bantec Inc          | 0.0011                          | -1e-04                          |\n",
       "| AXON                            | Axon Enterprise Inc             | BANT<U+00A0>Bantec Inc          | 0.0011                          | -1e-04                          |\n",
       "| BRSI                            | Ballistic Recovery Systems Inc  | BANT<U+00A0>Bantec Inc          | 0.0011                          | -1e-04                          |\n",
       "| BANT                            | Bantec Inc                      | BANT<U+00A0>Bantec Inc          | 0.0011                          | -1e-04                          |\n",
       "| BICB                            | Biocube Inc                     | BANT<U+00A0>Bantec Inc          | 0.0011                          | -1e-04                          |\n",
       "| AIR                             | AAR Corp                        | BICB<U+00A0>Biocube Inc         | 0.0270                          | -5e-04                          |\n",
       "| AJRD                            | Aerojet Rocketdyne Holdings Inc | BICB<U+00A0>Biocube Inc         | 0.0270                          | -5e-04                          |\n",
       "| AVAV                            | AeroVironment Inc               | BICB<U+00A0>Biocube Inc         | 0.0270                          | -5e-04                          |\n",
       "| UAVS                            | Ageagle Aerial Systems Inc      | BICB<U+00A0>Biocube Inc         | 0.0270                          | -5e-04                          |\n",
       "| AIRI                            | Air Industries Group            | BICB<U+00A0>Biocube Inc         | 0.0270                          | -5e-04                          |\n",
       "| AAIIQ                           | Alabama Aircraft Industries Inc | BICB<U+00A0>Biocube Inc         | 0.0270                          | -5e-04                          |\n",
       "| ADFS                            | American Defense Systems Inc    | BICB<U+00A0>Biocube Inc         | 0.0270                          | -5e-04                          |\n",
       "| POWWP                           | Ammo Inc                        | BICB<U+00A0>Biocube Inc         | 0.0270                          | -5e-04                          |\n",
       "| POWW                            | Ammo Inc                        | BICB<U+00A0>Biocube Inc         | 0.0270                          | -5e-04                          |\n",
       "| AERGP                           | Applied Energetics Inc          | BICB<U+00A0>Biocube Inc         | 0.0270                          | -5e-04                          |\n",
       "| AERG                            | Applied Energetics Inc          | BICB<U+00A0>Biocube Inc         | 0.0270                          | -5e-04                          |\n",
       "| ASTR                            | Astra Space Inc                 | BICB<U+00A0>Biocube Inc         | 0.0270                          | -5e-04                          |\n",
       "| ASDN                            | Astro Aerospace Ltd             | BICB<U+00A0>Biocube Inc         | 0.0270                          | -5e-04                          |\n",
       "| ATRO                            | Astronics Corp                  | BICB<U+00A0>Biocube Inc         | 0.0270                          | -5e-04                          |\n",
       "| ATROB                           | Astronics Corp                  | BICB<U+00A0>Biocube Inc         | 0.0270                          | -5e-04                          |\n",
       "| ASTC                            | Astrotech Corp                  | BICB<U+00A0>Biocube Inc         | 0.0270                          | -5e-04                          |\n",
       "| AXON                            | Axon Enterprise Inc             | BICB<U+00A0>Biocube Inc         | 0.0270                          | -5e-04                          |\n",
       "| BRSI                            | Ballistic Recovery Systems Inc  | BICB<U+00A0>Biocube Inc         | 0.0270                          | -5e-04                          |\n",
       "| BANT                            | Bantec Inc                      | BICB<U+00A0>Biocube Inc         | 0.0270                          | -5e-04                          |\n",
       "| BICB                            | Biocube Inc                     | BICB<U+00A0>Biocube Inc         | 0.0270                          | -5e-04                          |\n",
       "\n"
      ],
      "text/plain": [
       "    stock symbol company name                   \n",
       "1   AIR          AAR Corp                       \n",
       "2   AJRD         Aerojet Rocketdyne Holdings Inc\n",
       "3   AVAV         AeroVironment Inc              \n",
       "4   UAVS         Ageagle Aerial Systems Inc     \n",
       "5   AIRI         Air Industries Group           \n",
       "6   AAIIQ        Alabama Aircraft Industries Inc\n",
       "7   ADFS         American Defense Systems Inc   \n",
       "8   POWWP        Ammo Inc                       \n",
       "9   POWW         Ammo Inc                       \n",
       "10  AERGP        Applied Energetics Inc         \n",
       "11  AERG         Applied Energetics Inc         \n",
       "12  ASTR         Astra Space Inc                \n",
       "13  ASDN         Astro Aerospace Ltd            \n",
       "14  ATRO         Astronics Corp                 \n",
       "15  ATROB        Astronics Corp                 \n",
       "16  ASTC         Astrotech Corp                 \n",
       "17  AXON         Axon Enterprise Inc            \n",
       "18  BRSI         Ballistic Recovery Systems Inc \n",
       "19  BANT         Bantec Inc                     \n",
       "20  BICB         Biocube Inc                    \n",
       "21  AIR          AAR Corp                       \n",
       "22  AJRD         Aerojet Rocketdyne Holdings Inc\n",
       "23  AVAV         AeroVironment Inc              \n",
       "24  UAVS         Ageagle Aerial Systems Inc     \n",
       "25  AIRI         Air Industries Group           \n",
       "26  AAIIQ        Alabama Aircraft Industries Inc\n",
       "27  ADFS         American Defense Systems Inc   \n",
       "28  POWWP        Ammo Inc                       \n",
       "29  POWW         Ammo Inc                       \n",
       "30  AERGP        Applied Energetics Inc         \n",
       "... ...          ...                            \n",
       "371 AERG         Applied Energetics Inc         \n",
       "372 ASTR         Astra Space Inc                \n",
       "373 ASDN         Astro Aerospace Ltd            \n",
       "374 ATRO         Astronics Corp                 \n",
       "375 ATROB        Astronics Corp                 \n",
       "376 ASTC         Astrotech Corp                 \n",
       "377 AXON         Axon Enterprise Inc            \n",
       "378 BRSI         Ballistic Recovery Systems Inc \n",
       "379 BANT         Bantec Inc                     \n",
       "380 BICB         Biocube Inc                    \n",
       "381 AIR          AAR Corp                       \n",
       "382 AJRD         Aerojet Rocketdyne Holdings Inc\n",
       "383 AVAV         AeroVironment Inc              \n",
       "384 UAVS         Ageagle Aerial Systems Inc     \n",
       "385 AIRI         Air Industries Group           \n",
       "386 AAIIQ        Alabama Aircraft Industries Inc\n",
       "387 ADFS         American Defense Systems Inc   \n",
       "388 POWWP        Ammo Inc                       \n",
       "389 POWW         Ammo Inc                       \n",
       "390 AERGP        Applied Energetics Inc         \n",
       "391 AERG         Applied Energetics Inc         \n",
       "392 ASTR         Astra Space Inc                \n",
       "393 ASDN         Astro Aerospace Ltd            \n",
       "394 ATRO         Astronics Corp                 \n",
       "395 ATROB        Astronics Corp                 \n",
       "396 ASTC         Astrotech Corp                 \n",
       "397 AXON         Axon Enterprise Inc            \n",
       "398 BRSI         Ballistic Recovery Systems Inc \n",
       "399 BANT         Bantec Inc                     \n",
       "400 BICB         Biocube Inc                    \n",
       "    Company                                     Price  Change\n",
       "1   AIR<U+00A0>AAR Corp                         33.36  -0.19 \n",
       "2   AIR<U+00A0>AAR Corp                         33.36  -0.19 \n",
       "3   AIR<U+00A0>AAR Corp                         33.36  -0.19 \n",
       "4   AIR<U+00A0>AAR Corp                         33.36  -0.19 \n",
       "5   AIR<U+00A0>AAR Corp                         33.36  -0.19 \n",
       "6   AIR<U+00A0>AAR Corp                         33.36  -0.19 \n",
       "7   AIR<U+00A0>AAR Corp                         33.36  -0.19 \n",
       "8   AIR<U+00A0>AAR Corp                         33.36  -0.19 \n",
       "9   AIR<U+00A0>AAR Corp                         33.36  -0.19 \n",
       "10  AIR<U+00A0>AAR Corp                         33.36  -0.19 \n",
       "11  AIR<U+00A0>AAR Corp                         33.36  -0.19 \n",
       "12  AIR<U+00A0>AAR Corp                         33.36  -0.19 \n",
       "13  AIR<U+00A0>AAR Corp                         33.36  -0.19 \n",
       "14  AIR<U+00A0>AAR Corp                         33.36  -0.19 \n",
       "15  AIR<U+00A0>AAR Corp                         33.36  -0.19 \n",
       "16  AIR<U+00A0>AAR Corp                         33.36  -0.19 \n",
       "17  AIR<U+00A0>AAR Corp                         33.36  -0.19 \n",
       "18  AIR<U+00A0>AAR Corp                         33.36  -0.19 \n",
       "19  AIR<U+00A0>AAR Corp                         33.36  -0.19 \n",
       "20  AIR<U+00A0>AAR Corp                         33.36  -0.19 \n",
       "21  AJRD<U+00A0>Aerojet Rocketdyne Holdings Inc 43.16  -0.14 \n",
       "22  AJRD<U+00A0>Aerojet Rocketdyne Holdings Inc 43.16  -0.14 \n",
       "23  AJRD<U+00A0>Aerojet Rocketdyne Holdings Inc 43.16  -0.14 \n",
       "24  AJRD<U+00A0>Aerojet Rocketdyne Holdings Inc 43.16  -0.14 \n",
       "25  AJRD<U+00A0>Aerojet Rocketdyne Holdings Inc 43.16  -0.14 \n",
       "26  AJRD<U+00A0>Aerojet Rocketdyne Holdings Inc 43.16  -0.14 \n",
       "27  AJRD<U+00A0>Aerojet Rocketdyne Holdings Inc 43.16  -0.14 \n",
       "28  AJRD<U+00A0>Aerojet Rocketdyne Holdings Inc 43.16  -0.14 \n",
       "29  AJRD<U+00A0>Aerojet Rocketdyne Holdings Inc 43.16  -0.14 \n",
       "30  AJRD<U+00A0>Aerojet Rocketdyne Holdings Inc 43.16  -0.14 \n",
       "... ...                                         ...    ...   \n",
       "371 BANT<U+00A0>Bantec Inc                      0.0011 -1e-04\n",
       "372 BANT<U+00A0>Bantec Inc                      0.0011 -1e-04\n",
       "373 BANT<U+00A0>Bantec Inc                      0.0011 -1e-04\n",
       "374 BANT<U+00A0>Bantec Inc                      0.0011 -1e-04\n",
       "375 BANT<U+00A0>Bantec Inc                      0.0011 -1e-04\n",
       "376 BANT<U+00A0>Bantec Inc                      0.0011 -1e-04\n",
       "377 BANT<U+00A0>Bantec Inc                      0.0011 -1e-04\n",
       "378 BANT<U+00A0>Bantec Inc                      0.0011 -1e-04\n",
       "379 BANT<U+00A0>Bantec Inc                      0.0011 -1e-04\n",
       "380 BANT<U+00A0>Bantec Inc                      0.0011 -1e-04\n",
       "381 BICB<U+00A0>Biocube Inc                     0.0270 -5e-04\n",
       "382 BICB<U+00A0>Biocube Inc                     0.0270 -5e-04\n",
       "383 BICB<U+00A0>Biocube Inc                     0.0270 -5e-04\n",
       "384 BICB<U+00A0>Biocube Inc                     0.0270 -5e-04\n",
       "385 BICB<U+00A0>Biocube Inc                     0.0270 -5e-04\n",
       "386 BICB<U+00A0>Biocube Inc                     0.0270 -5e-04\n",
       "387 BICB<U+00A0>Biocube Inc                     0.0270 -5e-04\n",
       "388 BICB<U+00A0>Biocube Inc                     0.0270 -5e-04\n",
       "389 BICB<U+00A0>Biocube Inc                     0.0270 -5e-04\n",
       "390 BICB<U+00A0>Biocube Inc                     0.0270 -5e-04\n",
       "391 BICB<U+00A0>Biocube Inc                     0.0270 -5e-04\n",
       "392 BICB<U+00A0>Biocube Inc                     0.0270 -5e-04\n",
       "393 BICB<U+00A0>Biocube Inc                     0.0270 -5e-04\n",
       "394 BICB<U+00A0>Biocube Inc                     0.0270 -5e-04\n",
       "395 BICB<U+00A0>Biocube Inc                     0.0270 -5e-04\n",
       "396 BICB<U+00A0>Biocube Inc                     0.0270 -5e-04\n",
       "397 BICB<U+00A0>Biocube Inc                     0.0270 -5e-04\n",
       "398 BICB<U+00A0>Biocube Inc                     0.0270 -5e-04\n",
       "399 BICB<U+00A0>Biocube Inc                     0.0270 -5e-04\n",
       "400 BICB<U+00A0>Biocube Inc                     0.0270 -5e-04"
      ]
     },
     "metadata": {},
     "output_type": "display_data"
    }
   ],
   "source": [
    "company <- str_split_fixed(tech$Company, pattern = \"\\\\u00A0\", n = 2)\n",
    "company <- data.frame(company)\n",
    "colnames(company) <- c(\"stock symbol\", \"company name\")\n",
    "merge(company, tech)"
   ]
  },
  {
   "cell_type": "markdown",
   "id": "d6fbaf31",
   "metadata": {},
   "source": [
    "### Summary\n",
    "• Typically, rvest is first used to narrow down the scope of the HTML you which to parse and regular expressions are then used to extract the desired info from that field.\n",
    "\n",
    "• Narrowing the scope both speeds up computation time since you iterate through less of the page, while also lowering the chance of grabbing unwanted information from an unrelated field.\n",
    "\n",
    "• One of your recommended texts for this course, R for Data Science by Garrett Grolemund and Hadley Wickham covers all aspects of the Tidyverse in depth. It was written by the creator of the Tidyverse and is available online for free.\n",
    "\n",
    "• https://www.rstudio.com/resources/cheatsheets/ provides a quick reference and visualize guide for all Tidyverse packages (as well as many other of the most popular R packages.)\n",
    "\n",
    "• Alternatively, you can access ggplot and dplyr cheatsheets directly from RStudio by going to Help->Cheatsheets"
   ]
  },
  {
   "cell_type": "code",
   "execution_count": null,
   "id": "d07f9c04",
   "metadata": {},
   "outputs": [],
   "source": []
  }
 ],
 "metadata": {
  "kernelspec": {
   "display_name": "R",
   "language": "R",
   "name": "ir"
  },
  "language_info": {
   "codemirror_mode": "r",
   "file_extension": ".r",
   "mimetype": "text/x-r-source",
   "name": "R",
   "pygments_lexer": "r",
   "version": "4.2.1"
  },
  "toc": {
   "base_numbering": 1,
   "nav_menu": {},
   "number_sections": false,
   "sideBar": true,
   "skip_h1_title": true,
   "title_cell": "Table of Contents",
   "title_sidebar": "Contents",
   "toc_cell": false,
   "toc_position": {},
   "toc_section_display": true,
   "toc_window_display": false
  },
  "varInspector": {
   "cols": {
    "lenName": 16,
    "lenType": 16,
    "lenVar": 40
   },
   "kernels_config": {
    "python": {
     "delete_cmd_postfix": "",
     "delete_cmd_prefix": "del ",
     "library": "var_list.py",
     "varRefreshCmd": "print(var_dic_list())"
    },
    "r": {
     "delete_cmd_postfix": ") ",
     "delete_cmd_prefix": "rm(",
     "library": "var_list.r",
     "varRefreshCmd": "cat(var_dic_list()) "
    }
   },
   "types_to_exclude": [
    "module",
    "function",
    "builtin_function_or_method",
    "instance",
    "_Feature"
   ],
   "window_display": false
  }
 },
 "nbformat": 4,
 "nbformat_minor": 5
}
