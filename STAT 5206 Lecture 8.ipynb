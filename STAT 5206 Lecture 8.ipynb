{
 "cells": [
  {
   "cell_type": "markdown",
   "id": "eaa341ee",
   "metadata": {},
   "source": [
    "# Lecture 8: Split/Apply/Combine"
   ]
  },
  {
   "cell_type": "markdown",
   "id": "d5b87f56",
   "metadata": {},
   "source": [
    "# The Split/Apply/Combine Model\n",
    "\n",
    "### Summary: Iterating in R without for()\n",
    "\n",
    "* Subsetting by indexing with conditionals\n",
    "\n",
    "* apply(): apply a function to rows or columns of a matrix or dataframe\n",
    "\n",
    "* lapply(), sapply(): apply a function to elements of a list or vector\n",
    "\n",
    "* cbind(), rbind(): concatenate these objects in a known pattern"
   ]
  },
  {
   "cell_type": "markdown",
   "id": "d901fa99",
   "metadata": {},
   "source": [
    "## General Strategy: Split/Apply/Combine\n",
    "### Key：Split-Apply-Combine\n",
    "\n",
    "• Split whatever data object we have into meaningful chunks\n",
    "\n",
    "• Apply the function of interest to each element in this division\n",
    "\n",
    "• Combine the results into a new object of the desired structure\n",
    "\n",
    "These are conceptual steps, often the apply and combine steps can be performed for us by a single call to the appropriate function from the apply() family.\n",
    "\n",
    "Split-Apply-Combine听上去简单，但它在处理某些数据结构上非常有用。首先，比起for循环，它所需的代码量少；其次，比起“需求是什么”，我们现在思考“如何实现需求”；最后，并且在处理极大的数据集时，使我们正确地使用MapReduce/Hadoop。"
   ]
  },
  {
   "cell_type": "markdown",
   "id": "20af4a79",
   "metadata": {},
   "source": [
    "# Example: Strikes dataset\n",
    "\n",
    "Data set on 18 countries over 35 years compiled by Bruce Western, in the Sociology Department at Harvard University (now at Columbia University).\n",
    "\n",
    "The measured variables:\n",
    "* country, year: country and year of data collection\n",
    "* strike.volume: days on strike per 1000 workers\n",
    "* unemployment: unemployment rate\n",
    "* inflation: inflation rate\n",
    "* left.parliament: leftwing share of the goverment\n",
    "* centralization: centralization of unions\n",
    "* density: density of unions"
   ]
  },
  {
   "cell_type": "code",
   "execution_count": 1,
   "id": "fdfc5f56",
   "metadata": {},
   "outputs": [
    {
     "data": {
      "text/html": [
       "<ol class=list-inline>\n",
       "\t<li>625</li>\n",
       "\t<li>8</li>\n",
       "</ol>\n"
      ],
      "text/latex": [
       "\\begin{enumerate*}\n",
       "\\item 625\n",
       "\\item 8\n",
       "\\end{enumerate*}\n"
      ],
      "text/markdown": [
       "1. 625\n",
       "2. 8\n",
       "\n",
       "\n"
      ],
      "text/plain": [
       "[1] 625   8"
      ]
     },
     "metadata": {},
     "output_type": "display_data"
    }
   ],
   "source": [
    "# as.is控制character变量到factor的转换（目前它还没有被转换为logical，numeric或者complex）。as.is的取值为\n",
    "# 由logicals组成的vector（必要时可以对值重复使用），或者一个由numeric或character indices组成的vector来确定\n",
    "# 哪些列不需要被转换为factors。默认值为as.is = !stringsAsFactors。\n",
    "\n",
    "# 简言之，as.is为FALSE时，自动把character转换为其它的数据类型（例如logical，numeric或complex），为TRUE时，\n",
    "# 保留其数据结构。\n",
    "\n",
    "strikes <- read.csv(\"strikes.csv\", as.is = TRUE)\n",
    "dim(strikes)"
   ]
  },
  {
   "cell_type": "code",
   "execution_count": 2,
   "id": "96b4901a",
   "metadata": {
    "scrolled": false
   },
   "outputs": [
    {
     "data": {
      "text/html": [
       "<table>\n",
       "<thead><tr><th scope=col>country</th><th scope=col>year</th><th scope=col>strike.volume</th><th scope=col>unemployment</th><th scope=col>inflation</th><th scope=col>left.parliament</th><th scope=col>centralization</th><th scope=col>density</th></tr></thead>\n",
       "<tbody>\n",
       "\t<tr><td>Australia</td><td>1951     </td><td>296      </td><td>1.3      </td><td>19.8     </td><td>43.0     </td><td>0.3748588</td><td>NA       </td></tr>\n",
       "\t<tr><td>Australia</td><td>1952     </td><td>397      </td><td>2.2      </td><td>17.2     </td><td>43.0     </td><td>0.3751829</td><td>NA       </td></tr>\n",
       "\t<tr><td>Australia</td><td>1953     </td><td>360      </td><td>2.5      </td><td> 4.3     </td><td>43.0     </td><td>0.3745076</td><td>NA       </td></tr>\n",
       "\t<tr><td>Australia</td><td>1954     </td><td>  3      </td><td>1.7      </td><td> 0.7     </td><td>47.0     </td><td>0.3710170</td><td>NA       </td></tr>\n",
       "\t<tr><td>Australia</td><td>1955     </td><td>326      </td><td>1.4      </td><td> 2.0     </td><td>38.5     </td><td>0.3752675</td><td>NA       </td></tr>\n",
       "\t<tr><td>Australia</td><td>1956     </td><td>352      </td><td>1.8      </td><td> 6.3     </td><td>38.5     </td><td>0.3716072</td><td>NA       </td></tr>\n",
       "</tbody>\n",
       "</table>\n"
      ],
      "text/latex": [
       "\\begin{tabular}{r|llllllll}\n",
       " country & year & strike.volume & unemployment & inflation & left.parliament & centralization & density\\\\\n",
       "\\hline\n",
       "\t Australia & 1951      & 296       & 1.3       & 19.8      & 43.0      & 0.3748588 & NA       \\\\\n",
       "\t Australia & 1952      & 397       & 2.2       & 17.2      & 43.0      & 0.3751829 & NA       \\\\\n",
       "\t Australia & 1953      & 360       & 2.5       &  4.3      & 43.0      & 0.3745076 & NA       \\\\\n",
       "\t Australia & 1954      &   3       & 1.7       &  0.7      & 47.0      & 0.3710170 & NA       \\\\\n",
       "\t Australia & 1955      & 326       & 1.4       &  2.0      & 38.5      & 0.3752675 & NA       \\\\\n",
       "\t Australia & 1956      & 352       & 1.8       &  6.3      & 38.5      & 0.3716072 & NA       \\\\\n",
       "\\end{tabular}\n"
      ],
      "text/markdown": [
       "\n",
       "| country | year | strike.volume | unemployment | inflation | left.parliament | centralization | density |\n",
       "|---|---|---|---|---|---|---|---|\n",
       "| Australia | 1951      | 296       | 1.3       | 19.8      | 43.0      | 0.3748588 | NA        |\n",
       "| Australia | 1952      | 397       | 2.2       | 17.2      | 43.0      | 0.3751829 | NA        |\n",
       "| Australia | 1953      | 360       | 2.5       |  4.3      | 43.0      | 0.3745076 | NA        |\n",
       "| Australia | 1954      |   3       | 1.7       |  0.7      | 47.0      | 0.3710170 | NA        |\n",
       "| Australia | 1955      | 326       | 1.4       |  2.0      | 38.5      | 0.3752675 | NA        |\n",
       "| Australia | 1956      | 352       | 1.8       |  6.3      | 38.5      | 0.3716072 | NA        |\n",
       "\n"
      ],
      "text/plain": [
       "  country   year strike.volume unemployment inflation left.parliament\n",
       "1 Australia 1951 296           1.3          19.8      43.0           \n",
       "2 Australia 1952 397           2.2          17.2      43.0           \n",
       "3 Australia 1953 360           2.5           4.3      43.0           \n",
       "4 Australia 1954   3           1.7           0.7      47.0           \n",
       "5 Australia 1955 326           1.4           2.0      38.5           \n",
       "6 Australia 1956 352           1.8           6.3      38.5           \n",
       "  centralization density\n",
       "1 0.3748588      NA     \n",
       "2 0.3751829      NA     \n",
       "3 0.3745076      NA     \n",
       "4 0.3710170      NA     \n",
       "5 0.3752675      NA     \n",
       "6 0.3716072      NA     "
      ]
     },
     "metadata": {},
     "output_type": "display_data"
    }
   ],
   "source": [
    "head(strikes)"
   ]
  },
  {
   "cell_type": "markdown",
   "id": "c147392a",
   "metadata": {},
   "source": [
    "## Research Question\n",
    "\n",
    "国家执政党（左翼 vs 右翼）和游行规模之间是否存在关系?\n",
    "\n",
    "方法：\n",
    "* 下策：分别手写18个代码块。\n",
    "* 中策：使用for循环遍历country。\n",
    "* 上策：分而治之，使用sapply()。"
   ]
  },
  {
   "cell_type": "code",
   "execution_count": 3,
   "id": "0e299ea8",
   "metadata": {},
   "outputs": [
    {
     "data": {
      "text/html": [
       "<ol class=list-inline>\n",
       "\t<li>35</li>\n",
       "\t<li>8</li>\n",
       "</ol>\n"
      ],
      "text/latex": [
       "\\begin{enumerate*}\n",
       "\\item 35\n",
       "\\item 8\n",
       "\\end{enumerate*}\n"
      ],
      "text/markdown": [
       "1. 35\n",
       "2. 8\n",
       "\n",
       "\n"
      ],
      "text/plain": [
       "[1] 35  8"
      ]
     },
     "metadata": {},
     "output_type": "display_data"
    }
   ],
   "source": [
    "# Let's Study Just a Single Country\n",
    "# subset(x, subset, select, drop = FALSE, ...)\n",
    "italy.strikes <- subset(strikes, country == \"Italy\")\n",
    "\n",
    "# Equivalently\n",
    "italy.strikes <- strikes[strikes$country == \"Italy\", ]\n",
    "dim(italy.strikes)"
   ]
  },
  {
   "cell_type": "code",
   "execution_count": 4,
   "id": "636f0571",
   "metadata": {},
   "outputs": [
    {
     "data": {
      "text/html": [
       "<table>\n",
       "<thead><tr><th></th><th scope=col>country</th><th scope=col>year</th><th scope=col>strike.volume</th><th scope=col>unemployment</th><th scope=col>inflation</th><th scope=col>left.parliament</th><th scope=col>centralization</th><th scope=col>density</th></tr></thead>\n",
       "<tbody>\n",
       "\t<tr><th scope=row>311</th><td>Italy    </td><td>1951     </td><td>437      </td><td> 8.8     </td><td>14.3     </td><td>37.5     </td><td>0.2513799</td><td>NA       </td></tr>\n",
       "\t<tr><th scope=row>312</th><td>Italy    </td><td>1952     </td><td>337      </td><td> 9.5     </td><td> 1.9     </td><td>37.5     </td><td>0.2489860</td><td>NA       </td></tr>\n",
       "\t<tr><th scope=row>313</th><td>Italy    </td><td>1953     </td><td>545      </td><td>10.0     </td><td> 1.4     </td><td>40.2     </td><td>0.2482739</td><td>NA       </td></tr>\n",
       "\t<tr><th scope=row>314</th><td>Italy    </td><td>1954     </td><td>493      </td><td> 8.7     </td><td> 2.4     </td><td>40.2     </td><td>0.2466577</td><td>NA       </td></tr>\n",
       "\t<tr><th scope=row>315</th><td>Italy    </td><td>1955     </td><td>511      </td><td> 7.5     </td><td> 2.3     </td><td>40.2     </td><td>0.2540366</td><td>NA       </td></tr>\n",
       "\t<tr><th scope=row>316</th><td>Italy    </td><td>1956     </td><td>372      </td><td> 9.3     </td><td> 3.4     </td><td>40.2     </td><td>0.2457069</td><td>NA       </td></tr>\n",
       "</tbody>\n",
       "</table>\n"
      ],
      "text/latex": [
       "\\begin{tabular}{r|llllllll}\n",
       "  & country & year & strike.volume & unemployment & inflation & left.parliament & centralization & density\\\\\n",
       "\\hline\n",
       "\t311 & Italy     & 1951      & 437       &  8.8      & 14.3      & 37.5      & 0.2513799 & NA       \\\\\n",
       "\t312 & Italy     & 1952      & 337       &  9.5      &  1.9      & 37.5      & 0.2489860 & NA       \\\\\n",
       "\t313 & Italy     & 1953      & 545       & 10.0      &  1.4      & 40.2      & 0.2482739 & NA       \\\\\n",
       "\t314 & Italy     & 1954      & 493       &  8.7      &  2.4      & 40.2      & 0.2466577 & NA       \\\\\n",
       "\t315 & Italy     & 1955      & 511       &  7.5      &  2.3      & 40.2      & 0.2540366 & NA       \\\\\n",
       "\t316 & Italy     & 1956      & 372       &  9.3      &  3.4      & 40.2      & 0.2457069 & NA       \\\\\n",
       "\\end{tabular}\n"
      ],
      "text/markdown": [
       "\n",
       "| <!--/--> | country | year | strike.volume | unemployment | inflation | left.parliament | centralization | density |\n",
       "|---|---|---|---|---|---|---|---|---|\n",
       "| 311 | Italy     | 1951      | 437       |  8.8      | 14.3      | 37.5      | 0.2513799 | NA        |\n",
       "| 312 | Italy     | 1952      | 337       |  9.5      |  1.9      | 37.5      | 0.2489860 | NA        |\n",
       "| 313 | Italy     | 1953      | 545       | 10.0      |  1.4      | 40.2      | 0.2482739 | NA        |\n",
       "| 314 | Italy     | 1954      | 493       |  8.7      |  2.4      | 40.2      | 0.2466577 | NA        |\n",
       "| 315 | Italy     | 1955      | 511       |  7.5      |  2.3      | 40.2      | 0.2540366 | NA        |\n",
       "| 316 | Italy     | 1956      | 372       |  9.3      |  3.4      | 40.2      | 0.2457069 | NA        |\n",
       "\n"
      ],
      "text/plain": [
       "    country year strike.volume unemployment inflation left.parliament\n",
       "311 Italy   1951 437            8.8         14.3      37.5           \n",
       "312 Italy   1952 337            9.5          1.9      37.5           \n",
       "313 Italy   1953 545           10.0          1.4      40.2           \n",
       "314 Italy   1954 493            8.7          2.4      40.2           \n",
       "315 Italy   1955 511            7.5          2.3      40.2           \n",
       "316 Italy   1956 372            9.3          3.4      40.2           \n",
       "    centralization density\n",
       "311 0.2513799      NA     \n",
       "312 0.2489860      NA     \n",
       "313 0.2482739      NA     \n",
       "314 0.2466577      NA     \n",
       "315 0.2540366      NA     \n",
       "316 0.2457069      NA     "
      ]
     },
     "metadata": {},
     "output_type": "display_data"
    }
   ],
   "source": [
    "head(italy.strikes)"
   ]
  },
  {
   "cell_type": "code",
   "execution_count": 5,
   "id": "c84584df",
   "metadata": {},
   "outputs": [
    {
     "data": {
      "image/png": "[encoded data removed]",
      "text/plain": [
       "Plot with title \"Italy Strike Volume Versus Leftwing Alignment\""
      ]
     },
     "metadata": {},
     "output_type": "display_data"
    }
   ],
   "source": [
    "italy.fit <- lm(strike.volume ~ left.parliament, data = italy.strikes)\n",
    "plot(strike.volume~left.parliament, data = italy.strikes, \n",
    "     main=\"Italy Strike Volume Versus Leftwing Alignment\",ylab = \"Strike volume\",\n",
    "     xlab = \"Leftwing Alignment\")\n",
    "abline(italy.fit, col = 2)"
   ]
  },
  {
   "cell_type": "markdown",
   "id": "40ba469c",
   "metadata": {},
   "source": [
    "### One Down, Seventeen To Go\n",
    "重复进行如此操作枯燥且容易出错，如果使用更简单的方法？"
   ]
  },
  {
   "cell_type": "code",
   "execution_count": 6,
   "id": "57a2e5ef",
   "metadata": {},
   "outputs": [
    {
     "data": {
      "text/html": [
       "<dl class=dl-horizontal>\n",
       "\t<dt>(Intercept)</dt>\n",
       "\t\t<dd>-738.745312319961</dd>\n",
       "\t<dt>left.parliament</dt>\n",
       "\t\t<dd>40.2910938286918</dd>\n",
       "</dl>\n"
      ],
      "text/latex": [
       "\\begin{description*}\n",
       "\\item[(Intercept)] -738.745312319961\n",
       "\\item[left.parliament] 40.2910938286918\n",
       "\\end{description*}\n"
      ],
      "text/markdown": [
       "(Intercept)\n",
       ":   -738.745312319961left.parliament\n",
       ":   40.2910938286918\n",
       "\n"
      ],
      "text/plain": [
       "    (Intercept) left.parliament \n",
       "     -738.74531        40.29109 "
      ]
     },
     "metadata": {},
     "output_type": "display_data"
    }
   ],
   "source": [
    "# Now let’s generalize our functions. We want the linear model coefficients:\n",
    "my.strike.lm <- function(country.df){\n",
    "    return(lm(strike.volume~left.parliament, data = country.df)$coeff)\n",
    "}\n",
    "my.strike.lm(subset(strikes, country == \"Italy\"))"
   ]
  },
  {
   "cell_type": "code",
   "execution_count": 7,
   "id": "e62cb9bc",
   "metadata": {},
   "outputs": [
    {
     "data": {
      "text/html": [
       "<table>\n",
       "<thead><tr><th></th><th scope=col>France</th><th scope=col>Italy</th><th scope=col>USA</th></tr></thead>\n",
       "<tbody>\n",
       "\t<tr><th scope=row>(Intercept)</th><td>202.4261408</td><td>-738.74531 </td><td>111.440651 </td></tr>\n",
       "\t<tr><th scope=row>left.parliament</th><td> -0.4255319</td><td>  40.29109 </td><td>  5.918647 </td></tr>\n",
       "</tbody>\n",
       "</table>\n"
      ],
      "text/latex": [
       "\\begin{tabular}{r|lll}\n",
       "  & France & Italy & USA\\\\\n",
       "\\hline\n",
       "\t(Intercept) & 202.4261408 & -738.74531  & 111.440651 \\\\\n",
       "\tleft.parliament &  -0.4255319 &   40.29109  &   5.918647 \\\\\n",
       "\\end{tabular}\n"
      ],
      "text/markdown": [
       "\n",
       "| <!--/--> | France | Italy | USA |\n",
       "|---|---|---|---|\n",
       "| (Intercept) | 202.4261408 | -738.74531  | 111.440651  |\n",
       "| left.parliament |  -0.4255319 |   40.29109  |   5.918647  |\n",
       "\n"
      ],
      "text/plain": [
       "                France      Italy      USA       \n",
       "(Intercept)     202.4261408 -738.74531 111.440651\n",
       "left.parliament  -0.4255319   40.29109   5.918647"
      ]
     },
     "metadata": {},
     "output_type": "display_data"
    }
   ],
   "source": [
    "# We could for() loop it...\n",
    "strike.coef <- NULL\n",
    "my.countries <- c(\"France\", \"Italy\", \"USA\")\n",
    "\n",
    "for(this.country in my.countries){\n",
    "    country.dat <- subset(strikes, country == this.country)\n",
    "    new.coefs <- my.strike.lm(country.dat)\n",
    "    strike.coef <- cbind(strike.coef, new.coefs)\n",
    "}\n",
    "colnames(strike.coef) <- my.countries\n",
    "strike.coef"
   ]
  },
  {
   "cell_type": "markdown",
   "id": "b780bbb2",
   "metadata": {},
   "source": [
    "## The Best Way\n",
    "\n",
    "Steps:\n",
    "1. 对数据进行分割，每一个数据子集都能适用于我们的函数。split(df, f = my.factor)函数将一个dataframe df根据factor my.factor定义的constant levels进行分割。\n",
    "\n",
    "2. 对每一个数据子集进行apply我们的函数，经常使用lapply()函数或sapply()函数。\n",
    "\n",
    "3. 把结果连接起来"
   ]
  },
  {
   "cell_type": "code",
   "execution_count": 8,
   "id": "109a58e2",
   "metadata": {},
   "outputs": [
    {
     "data": {
      "text/html": [
       "<ol class=list-inline>\n",
       "\t<li>'Australia'</li>\n",
       "\t<li>'Austria'</li>\n",
       "\t<li>'Belgium'</li>\n",
       "\t<li>'Canada'</li>\n",
       "\t<li>'Denmark'</li>\n",
       "\t<li>'Finland'</li>\n",
       "\t<li>'France'</li>\n",
       "\t<li>'Germany'</li>\n",
       "\t<li>'Ireland'</li>\n",
       "\t<li>'Italy'</li>\n",
       "\t<li>'Japan'</li>\n",
       "\t<li>'Netherlands'</li>\n",
       "\t<li>'New.Zealand'</li>\n",
       "\t<li>'Norway'</li>\n",
       "\t<li>'Sweden'</li>\n",
       "\t<li>'Switzerland'</li>\n",
       "\t<li>'UK'</li>\n",
       "\t<li>'USA'</li>\n",
       "</ol>\n"
      ],
      "text/latex": [
       "\\begin{enumerate*}\n",
       "\\item 'Australia'\n",
       "\\item 'Austria'\n",
       "\\item 'Belgium'\n",
       "\\item 'Canada'\n",
       "\\item 'Denmark'\n",
       "\\item 'Finland'\n",
       "\\item 'France'\n",
       "\\item 'Germany'\n",
       "\\item 'Ireland'\n",
       "\\item 'Italy'\n",
       "\\item 'Japan'\n",
       "\\item 'Netherlands'\n",
       "\\item 'New.Zealand'\n",
       "\\item 'Norway'\n",
       "\\item 'Sweden'\n",
       "\\item 'Switzerland'\n",
       "\\item 'UK'\n",
       "\\item 'USA'\n",
       "\\end{enumerate*}\n"
      ],
      "text/markdown": [
       "1. 'Australia'\n",
       "2. 'Austria'\n",
       "3. 'Belgium'\n",
       "4. 'Canada'\n",
       "5. 'Denmark'\n",
       "6. 'Finland'\n",
       "7. 'France'\n",
       "8. 'Germany'\n",
       "9. 'Ireland'\n",
       "10. 'Italy'\n",
       "11. 'Japan'\n",
       "12. 'Netherlands'\n",
       "13. 'New.Zealand'\n",
       "14. 'Norway'\n",
       "15. 'Sweden'\n",
       "16. 'Switzerland'\n",
       "17. 'UK'\n",
       "18. 'USA'\n",
       "\n",
       "\n"
      ],
      "text/plain": [
       " [1] \"Australia\"   \"Austria\"     \"Belgium\"     \"Canada\"      \"Denmark\"    \n",
       " [6] \"Finland\"     \"France\"      \"Germany\"     \"Ireland\"     \"Italy\"      \n",
       "[11] \"Japan\"       \"Netherlands\" \"New.Zealand\" \"Norway\"      \"Sweden\"     \n",
       "[16] \"Switzerland\" \"UK\"          \"USA\"        "
      ]
     },
     "metadata": {},
     "output_type": "display_data"
    },
    {
     "data": {
      "text/html": [
       "<strong>$Australia</strong> = <table>\n",
       "<thead><tr><th scope=col>country</th><th scope=col>year</th><th scope=col>strike.volume</th><th scope=col>unemployment</th><th scope=col>inflation</th><th scope=col>left.parliament</th><th scope=col>centralization</th><th scope=col>density</th></tr></thead>\n",
       "<tbody>\n",
       "\t<tr><td>Australia</td><td>1951     </td><td> 296     </td><td>1.3      </td><td>19.8     </td><td>43.0     </td><td>0.3748588</td><td>  NA     </td></tr>\n",
       "\t<tr><td>Australia</td><td>1952     </td><td> 397     </td><td>2.2      </td><td>17.2     </td><td>43.0     </td><td>0.3751829</td><td>  NA     </td></tr>\n",
       "\t<tr><td>Australia</td><td>1953     </td><td> 360     </td><td>2.5      </td><td> 4.3     </td><td>43.0     </td><td>0.3745076</td><td>  NA     </td></tr>\n",
       "\t<tr><td>Australia</td><td>1954     </td><td>   3     </td><td>1.7      </td><td> 0.7     </td><td>47.0     </td><td>0.3710170</td><td>  NA     </td></tr>\n",
       "\t<tr><td>Australia</td><td>1955     </td><td> 326     </td><td>1.4      </td><td> 2.0     </td><td>38.5     </td><td>0.3752675</td><td>  NA     </td></tr>\n",
       "\t<tr><td>Australia</td><td>1956     </td><td> 352     </td><td>1.8      </td><td> 6.3     </td><td>38.5     </td><td>0.3716072</td><td>  NA     </td></tr>\n",
       "\t<tr><td>Australia</td><td>1957     </td><td> 195     </td><td>2.3      </td><td> 2.5     </td><td>38.5     </td><td>0.3718757</td><td>  NA     </td></tr>\n",
       "\t<tr><td>Australia</td><td>1958     </td><td> 133     </td><td>2.7      </td><td> 1.3     </td><td>36.9     </td><td>0.3755677</td><td>  NA     </td></tr>\n",
       "\t<tr><td>Australia</td><td>1959     </td><td> 109     </td><td>2.6      </td><td> 1.8     </td><td>36.9     </td><td>0.3741668</td><td>  NA     </td></tr>\n",
       "\t<tr><td>Australia</td><td>1960     </td><td> 208     </td><td>2.5      </td><td> 3.8     </td><td>36.9     </td><td>0.3751240</td><td>50.2     </td></tr>\n",
       "\t<tr><td>Australia</td><td>1961     </td><td> 173     </td><td>2.5      </td><td> 2.5     </td><td>49.2     </td><td>0.3724288</td><td>49.5     </td></tr>\n",
       "\t<tr><td>Australia</td><td>1962     </td><td> 142     </td><td>2.6      </td><td>-0.3     </td><td>49.2     </td><td>0.3769922</td><td>49.5     </td></tr>\n",
       "\t<tr><td>Australia</td><td>1963     </td><td> 158     </td><td>2.1      </td><td> 0.5     </td><td>41.0     </td><td>0.3740382</td><td>49.2     </td></tr>\n",
       "\t<tr><td>Australia</td><td>1964     </td><td> 243     </td><td>1.6      </td><td> 2.4     </td><td>41.0     </td><td>0.3762869</td><td>48.2     </td></tr>\n",
       "\t<tr><td>Australia</td><td>1965     </td><td> 211     </td><td>1.5      </td><td> 4.0     </td><td>41.0     </td><td>0.3704280</td><td>47.9     </td></tr>\n",
       "\t<tr><td>Australia</td><td>1966     </td><td> 183     </td><td>1.7      </td><td> 3.0     </td><td>33.1     </td><td>0.3785092</td><td>45.8     </td></tr>\n",
       "\t<tr><td>Australia</td><td>1967     </td><td> 168     </td><td>1.9      </td><td> 3.2     </td><td>33.1     </td><td>0.3732352</td><td>45.0     </td></tr>\n",
       "\t<tr><td>Australia</td><td>1968     </td><td> 249     </td><td>1.8      </td><td> 2.7     </td><td>33.1     </td><td>0.3798597</td><td>44.8     </td></tr>\n",
       "\t<tr><td>Australia</td><td>1969     </td><td> 439     </td><td>1.8      </td><td> 2.9     </td><td>47.2     </td><td>0.3790123</td><td>44.4     </td></tr>\n",
       "\t<tr><td>Australia</td><td>1970     </td><td> 515     </td><td>1.6      </td><td> 3.9     </td><td>47.2     </td><td>0.3711375</td><td>44.2     </td></tr>\n",
       "\t<tr><td>Australia</td><td>1971     </td><td> 645     </td><td>1.9      </td><td> 6.1     </td><td>47.2     </td><td>0.3746270</td><td>45.4     </td></tr>\n",
       "\t<tr><td>Australia</td><td>1972     </td><td> 416     </td><td>2.6      </td><td> 5.9     </td><td>53.6     </td><td>0.3763476</td><td>46.3     </td></tr>\n",
       "\t<tr><td>Australia</td><td>1973     </td><td> 527     </td><td>2.3      </td><td> 9.5     </td><td>53.6     </td><td>0.3788666</td><td>47.2     </td></tr>\n",
       "\t<tr><td>Australia</td><td>1974     </td><td>1252     </td><td>2.6      </td><td>15.1     </td><td>52.0     </td><td>0.3796290</td><td>48.8     </td></tr>\n",
       "\t<tr><td>Australia</td><td>1975     </td><td> 702     </td><td>4.8      </td><td>15.1     </td><td>28.3     </td><td>0.3734879</td><td>50.1     </td></tr>\n",
       "\t<tr><td>Australia</td><td>1976     </td><td> 760     </td><td>4.7      </td><td>13.5     </td><td>28.3     </td><td>0.3732003</td><td>50.2     </td></tr>\n",
       "\t<tr><td>Australia</td><td>1977     </td><td> 328     </td><td>5.6      </td><td>12.3     </td><td>30.7     </td><td>0.3718648</td><td>49.8     </td></tr>\n",
       "\t<tr><td>Australia</td><td>1978     </td><td> 421     </td><td>6.4      </td><td> 7.9     </td><td>30.7     </td><td>0.3745071</td><td>49.8     </td></tr>\n",
       "\t<tr><td>Australia</td><td>1979     </td><td> 778     </td><td>6.1      </td><td> 9.1     </td><td>30.7     </td><td>0.3718839</td><td>49.8     </td></tr>\n",
       "\t<tr><td>Australia</td><td>1980     </td><td> 633     </td><td>6.0      </td><td>10.1     </td><td>40.8     </td><td>0.3724260</td><td>48.7     </td></tr>\n",
       "\t<tr><td>Australia</td><td>1981     </td><td> 779     </td><td>5.7      </td><td> 9.7     </td><td>40.8     </td><td>0.3722967</td><td>47.6     </td></tr>\n",
       "\t<tr><td>Australia</td><td>1982     </td><td> 370     </td><td>7.0      </td><td>11.2     </td><td>40.8     </td><td>0.3701921</td><td>48.0     </td></tr>\n",
       "\t<tr><td>Australia</td><td>1983     </td><td> 313     </td><td>9.8      </td><td>10.1     </td><td>60.0     </td><td>0.3784385</td><td>48.5     </td></tr>\n",
       "\t<tr><td>Australia</td><td>1984     </td><td> 241     </td><td>8.9      </td><td> 4.0     </td><td>55.4     </td><td>0.3759268</td><td>47.6     </td></tr>\n",
       "\t<tr><td>Australia</td><td>1985     </td><td> 226     </td><td>8.2      </td><td> 6.7     </td><td>55.4     </td><td>0.3777435</td><td>45.9     </td></tr>\n",
       "</tbody>\n",
       "</table>\n"
      ],
      "text/latex": [
       "\\textbf{\\$Australia} = \\begin{tabular}{r|llllllll}\n",
       " country & year & strike.volume & unemployment & inflation & left.parliament & centralization & density\\\\\n",
       "\\hline\n",
       "\t Australia & 1951      &  296      & 1.3       & 19.8      & 43.0      & 0.3748588 &   NA     \\\\\n",
       "\t Australia & 1952      &  397      & 2.2       & 17.2      & 43.0      & 0.3751829 &   NA     \\\\\n",
       "\t Australia & 1953      &  360      & 2.5       &  4.3      & 43.0      & 0.3745076 &   NA     \\\\\n",
       "\t Australia & 1954      &    3      & 1.7       &  0.7      & 47.0      & 0.3710170 &   NA     \\\\\n",
       "\t Australia & 1955      &  326      & 1.4       &  2.0      & 38.5      & 0.3752675 &   NA     \\\\\n",
       "\t Australia & 1956      &  352      & 1.8       &  6.3      & 38.5      & 0.3716072 &   NA     \\\\\n",
       "\t Australia & 1957      &  195      & 2.3       &  2.5      & 38.5      & 0.3718757 &   NA     \\\\\n",
       "\t Australia & 1958      &  133      & 2.7       &  1.3      & 36.9      & 0.3755677 &   NA     \\\\\n",
       "\t Australia & 1959      &  109      & 2.6       &  1.8      & 36.9      & 0.3741668 &   NA     \\\\\n",
       "\t Australia & 1960      &  208      & 2.5       &  3.8      & 36.9      & 0.3751240 & 50.2     \\\\\n",
       "\t Australia & 1961      &  173      & 2.5       &  2.5      & 49.2      & 0.3724288 & 49.5     \\\\\n",
       "\t Australia & 1962      &  142      & 2.6       & -0.3      & 49.2      & 0.3769922 & 49.5     \\\\\n",
       "\t Australia & 1963      &  158      & 2.1       &  0.5      & 41.0      & 0.3740382 & 49.2     \\\\\n",
       "\t Australia & 1964      &  243      & 1.6       &  2.4      & 41.0      & 0.3762869 & 48.2     \\\\\n",
       "\t Australia & 1965      &  211      & 1.5       &  4.0      & 41.0      & 0.3704280 & 47.9     \\\\\n",
       "\t Australia & 1966      &  183      & 1.7       &  3.0      & 33.1      & 0.3785092 & 45.8     \\\\\n",
       "\t Australia & 1967      &  168      & 1.9       &  3.2      & 33.1      & 0.3732352 & 45.0     \\\\\n",
       "\t Australia & 1968      &  249      & 1.8       &  2.7      & 33.1      & 0.3798597 & 44.8     \\\\\n",
       "\t Australia & 1969      &  439      & 1.8       &  2.9      & 47.2      & 0.3790123 & 44.4     \\\\\n",
       "\t Australia & 1970      &  515      & 1.6       &  3.9      & 47.2      & 0.3711375 & 44.2     \\\\\n",
       "\t Australia & 1971      &  645      & 1.9       &  6.1      & 47.2      & 0.3746270 & 45.4     \\\\\n",
       "\t Australia & 1972      &  416      & 2.6       &  5.9      & 53.6      & 0.3763476 & 46.3     \\\\\n",
       "\t Australia & 1973      &  527      & 2.3       &  9.5      & 53.6      & 0.3788666 & 47.2     \\\\\n",
       "\t Australia & 1974      & 1252      & 2.6       & 15.1      & 52.0      & 0.3796290 & 48.8     \\\\\n",
       "\t Australia & 1975      &  702      & 4.8       & 15.1      & 28.3      & 0.3734879 & 50.1     \\\\\n",
       "\t Australia & 1976      &  760      & 4.7       & 13.5      & 28.3      & 0.3732003 & 50.2     \\\\\n",
       "\t Australia & 1977      &  328      & 5.6       & 12.3      & 30.7      & 0.3718648 & 49.8     \\\\\n",
       "\t Australia & 1978      &  421      & 6.4       &  7.9      & 30.7      & 0.3745071 & 49.8     \\\\\n",
       "\t Australia & 1979      &  778      & 6.1       &  9.1      & 30.7      & 0.3718839 & 49.8     \\\\\n",
       "\t Australia & 1980      &  633      & 6.0       & 10.1      & 40.8      & 0.3724260 & 48.7     \\\\\n",
       "\t Australia & 1981      &  779      & 5.7       &  9.7      & 40.8      & 0.3722967 & 47.6     \\\\\n",
       "\t Australia & 1982      &  370      & 7.0       & 11.2      & 40.8      & 0.3701921 & 48.0     \\\\\n",
       "\t Australia & 1983      &  313      & 9.8       & 10.1      & 60.0      & 0.3784385 & 48.5     \\\\\n",
       "\t Australia & 1984      &  241      & 8.9       &  4.0      & 55.4      & 0.3759268 & 47.6     \\\\\n",
       "\t Australia & 1985      &  226      & 8.2       &  6.7      & 55.4      & 0.3777435 & 45.9     \\\\\n",
       "\\end{tabular}\n"
      ],
      "text/markdown": [
       "**$Australia** = \n",
       "| country | year | strike.volume | unemployment | inflation | left.parliament | centralization | density |\n",
       "|---|---|---|---|---|---|---|---|\n",
       "| Australia | 1951      |  296      | 1.3       | 19.8      | 43.0      | 0.3748588 |   NA      |\n",
       "| Australia | 1952      |  397      | 2.2       | 17.2      | 43.0      | 0.3751829 |   NA      |\n",
       "| Australia | 1953      |  360      | 2.5       |  4.3      | 43.0      | 0.3745076 |   NA      |\n",
       "| Australia | 1954      |    3      | 1.7       |  0.7      | 47.0      | 0.3710170 |   NA      |\n",
       "| Australia | 1955      |  326      | 1.4       |  2.0      | 38.5      | 0.3752675 |   NA      |\n",
       "| Australia | 1956      |  352      | 1.8       |  6.3      | 38.5      | 0.3716072 |   NA      |\n",
       "| Australia | 1957      |  195      | 2.3       |  2.5      | 38.5      | 0.3718757 |   NA      |\n",
       "| Australia | 1958      |  133      | 2.7       |  1.3      | 36.9      | 0.3755677 |   NA      |\n",
       "| Australia | 1959      |  109      | 2.6       |  1.8      | 36.9      | 0.3741668 |   NA      |\n",
       "| Australia | 1960      |  208      | 2.5       |  3.8      | 36.9      | 0.3751240 | 50.2      |\n",
       "| Australia | 1961      |  173      | 2.5       |  2.5      | 49.2      | 0.3724288 | 49.5      |\n",
       "| Australia | 1962      |  142      | 2.6       | -0.3      | 49.2      | 0.3769922 | 49.5      |\n",
       "| Australia | 1963      |  158      | 2.1       |  0.5      | 41.0      | 0.3740382 | 49.2      |\n",
       "| Australia | 1964      |  243      | 1.6       |  2.4      | 41.0      | 0.3762869 | 48.2      |\n",
       "| Australia | 1965      |  211      | 1.5       |  4.0      | 41.0      | 0.3704280 | 47.9      |\n",
       "| Australia | 1966      |  183      | 1.7       |  3.0      | 33.1      | 0.3785092 | 45.8      |\n",
       "| Australia | 1967      |  168      | 1.9       |  3.2      | 33.1      | 0.3732352 | 45.0      |\n",
       "| Australia | 1968      |  249      | 1.8       |  2.7      | 33.1      | 0.3798597 | 44.8      |\n",
       "| Australia | 1969      |  439      | 1.8       |  2.9      | 47.2      | 0.3790123 | 44.4      |\n",
       "| Australia | 1970      |  515      | 1.6       |  3.9      | 47.2      | 0.3711375 | 44.2      |\n",
       "| Australia | 1971      |  645      | 1.9       |  6.1      | 47.2      | 0.3746270 | 45.4      |\n",
       "| Australia | 1972      |  416      | 2.6       |  5.9      | 53.6      | 0.3763476 | 46.3      |\n",
       "| Australia | 1973      |  527      | 2.3       |  9.5      | 53.6      | 0.3788666 | 47.2      |\n",
       "| Australia | 1974      | 1252      | 2.6       | 15.1      | 52.0      | 0.3796290 | 48.8      |\n",
       "| Australia | 1975      |  702      | 4.8       | 15.1      | 28.3      | 0.3734879 | 50.1      |\n",
       "| Australia | 1976      |  760      | 4.7       | 13.5      | 28.3      | 0.3732003 | 50.2      |\n",
       "| Australia | 1977      |  328      | 5.6       | 12.3      | 30.7      | 0.3718648 | 49.8      |\n",
       "| Australia | 1978      |  421      | 6.4       |  7.9      | 30.7      | 0.3745071 | 49.8      |\n",
       "| Australia | 1979      |  778      | 6.1       |  9.1      | 30.7      | 0.3718839 | 49.8      |\n",
       "| Australia | 1980      |  633      | 6.0       | 10.1      | 40.8      | 0.3724260 | 48.7      |\n",
       "| Australia | 1981      |  779      | 5.7       |  9.7      | 40.8      | 0.3722967 | 47.6      |\n",
       "| Australia | 1982      |  370      | 7.0       | 11.2      | 40.8      | 0.3701921 | 48.0      |\n",
       "| Australia | 1983      |  313      | 9.8       | 10.1      | 60.0      | 0.3784385 | 48.5      |\n",
       "| Australia | 1984      |  241      | 8.9       |  4.0      | 55.4      | 0.3759268 | 47.6      |\n",
       "| Australia | 1985      |  226      | 8.2       |  6.7      | 55.4      | 0.3777435 | 45.9      |\n",
       "\n"
      ],
      "text/plain": [
       "$Australia\n",
       "     country year strike.volume unemployment inflation left.parliament\n",
       "1  Australia 1951           296          1.3      19.8            43.0\n",
       "2  Australia 1952           397          2.2      17.2            43.0\n",
       "3  Australia 1953           360          2.5       4.3            43.0\n",
       "4  Australia 1954             3          1.7       0.7            47.0\n",
       "5  Australia 1955           326          1.4       2.0            38.5\n",
       "6  Australia 1956           352          1.8       6.3            38.5\n",
       "7  Australia 1957           195          2.3       2.5            38.5\n",
       "8  Australia 1958           133          2.7       1.3            36.9\n",
       "9  Australia 1959           109          2.6       1.8            36.9\n",
       "10 Australia 1960           208          2.5       3.8            36.9\n",
       "11 Australia 1961           173          2.5       2.5            49.2\n",
       "12 Australia 1962           142          2.6      -0.3            49.2\n",
       "13 Australia 1963           158          2.1       0.5            41.0\n",
       "14 Australia 1964           243          1.6       2.4            41.0\n",
       "15 Australia 1965           211          1.5       4.0            41.0\n",
       "16 Australia 1966           183          1.7       3.0            33.1\n",
       "17 Australia 1967           168          1.9       3.2            33.1\n",
       "18 Australia 1968           249          1.8       2.7            33.1\n",
       "19 Australia 1969           439          1.8       2.9            47.2\n",
       "20 Australia 1970           515          1.6       3.9            47.2\n",
       "21 Australia 1971           645          1.9       6.1            47.2\n",
       "22 Australia 1972           416          2.6       5.9            53.6\n",
       "23 Australia 1973           527          2.3       9.5            53.6\n",
       "24 Australia 1974          1252          2.6      15.1            52.0\n",
       "25 Australia 1975           702          4.8      15.1            28.3\n",
       "26 Australia 1976           760          4.7      13.5            28.3\n",
       "27 Australia 1977           328          5.6      12.3            30.7\n",
       "28 Australia 1978           421          6.4       7.9            30.7\n",
       "29 Australia 1979           778          6.1       9.1            30.7\n",
       "30 Australia 1980           633          6.0      10.1            40.8\n",
       "31 Australia 1981           779          5.7       9.7            40.8\n",
       "32 Australia 1982           370          7.0      11.2            40.8\n",
       "33 Australia 1983           313          9.8      10.1            60.0\n",
       "34 Australia 1984           241          8.9       4.0            55.4\n",
       "35 Australia 1985           226          8.2       6.7            55.4\n",
       "   centralization density\n",
       "1       0.3748588      NA\n",
       "2       0.3751829      NA\n",
       "3       0.3745076      NA\n",
       "4       0.3710170      NA\n",
       "5       0.3752675      NA\n",
       "6       0.3716072      NA\n",
       "7       0.3718757      NA\n",
       "8       0.3755677      NA\n",
       "9       0.3741668      NA\n",
       "10      0.3751240    50.2\n",
       "11      0.3724288    49.5\n",
       "12      0.3769922    49.5\n",
       "13      0.3740382    49.2\n",
       "14      0.3762869    48.2\n",
       "15      0.3704280    47.9\n",
       "16      0.3785092    45.8\n",
       "17      0.3732352    45.0\n",
       "18      0.3798597    44.8\n",
       "19      0.3790123    44.4\n",
       "20      0.3711375    44.2\n",
       "21      0.3746270    45.4\n",
       "22      0.3763476    46.3\n",
       "23      0.3788666    47.2\n",
       "24      0.3796290    48.8\n",
       "25      0.3734879    50.1\n",
       "26      0.3732003    50.2\n",
       "27      0.3718648    49.8\n",
       "28      0.3745071    49.8\n",
       "29      0.3718839    49.8\n",
       "30      0.3724260    48.7\n",
       "31      0.3722967    47.6\n",
       "32      0.3701921    48.0\n",
       "33      0.3784385    48.5\n",
       "34      0.3759268    47.6\n",
       "35      0.3777435    45.9\n"
      ]
     },
     "metadata": {},
     "output_type": "display_data"
    }
   ],
   "source": [
    "# First we subset for every country using split().\n",
    "strikes.split <- split(strikes, strikes$country)\n",
    "names(strikes.split)\n",
    "strikes.split[1]"
   ]
  },
  {
   "cell_type": "markdown",
   "id": "29597c24",
   "metadata": {},
   "source": [
    "现在我们希望将my.strikes.lm()函数apply在strike.split中每一个dataframe上。由于我们的函数返回一个长度为2的vector（截距和斜率），因此使用sapply()从而返回vector。"
   ]
  },
  {
   "cell_type": "code",
   "execution_count": 9,
   "id": "7947cf8e",
   "metadata": {},
   "outputs": [
    {
     "data": {
      "text/html": [
       "<table>\n",
       "<thead><tr><th></th><th scope=col>Australia</th><th scope=col>Austria</th><th scope=col>Belgium</th><th scope=col>Canada</th><th scope=col>Denmark</th><th scope=col>Finland</th><th scope=col>France</th><th scope=col>Germany</th><th scope=col>Ireland</th><th scope=col>Italy</th><th scope=col>Japan</th><th scope=col>Netherlands</th></tr></thead>\n",
       "<tbody>\n",
       "\t<tr><th scope=row>(Intercept)</th><td>414.7712254</td><td>423.077279 </td><td>-56.926780 </td><td>-227.8218  </td><td>-1399.35735</td><td>108.2245   </td><td>202.4261408</td><td>95.657134  </td><td>-94.78661  </td><td>-738.74531 </td><td>964.73750  </td><td>-32.627678 </td></tr>\n",
       "\t<tr><th scope=row>left.parliament</th><td> -0.8638052</td><td> -8.210886 </td><td>  8.447463 </td><td>  17.6766  </td><td>   34.34477</td><td> 12.8422   </td><td> -0.4255319</td><td>-1.312305  </td><td> 55.46721  </td><td>  40.29109 </td><td>-24.07595  </td><td>  1.694387 </td></tr>\n",
       "</tbody>\n",
       "</table>\n"
      ],
      "text/latex": [
       "\\begin{tabular}{r|llllllllllll}\n",
       "  & Australia & Austria & Belgium & Canada & Denmark & Finland & France & Germany & Ireland & Italy & Japan & Netherlands\\\\\n",
       "\\hline\n",
       "\t(Intercept) & 414.7712254 & 423.077279  & -56.926780  & -227.8218   & -1399.35735 & 108.2245    & 202.4261408 & 95.657134   & -94.78661   & -738.74531  & 964.73750   & -32.627678 \\\\\n",
       "\tleft.parliament &  -0.8638052 &  -8.210886  &   8.447463  &   17.6766   &    34.34477 &  12.8422    &  -0.4255319 & -1.312305   &  55.46721   &   40.29109  & -24.07595   &   1.694387 \\\\\n",
       "\\end{tabular}\n"
      ],
      "text/markdown": [
       "\n",
       "| <!--/--> | Australia | Austria | Belgium | Canada | Denmark | Finland | France | Germany | Ireland | Italy | Japan | Netherlands |\n",
       "|---|---|---|---|---|---|---|---|---|---|---|---|---|\n",
       "| (Intercept) | 414.7712254 | 423.077279  | -56.926780  | -227.8218   | -1399.35735 | 108.2245    | 202.4261408 | 95.657134   | -94.78661   | -738.74531  | 964.73750   | -32.627678  |\n",
       "| left.parliament |  -0.8638052 |  -8.210886  |   8.447463  |   17.6766   |    34.34477 |  12.8422    |  -0.4255319 | -1.312305   |  55.46721   |   40.29109  | -24.07595   |   1.694387  |\n",
       "\n"
      ],
      "text/plain": [
       "                Australia   Austria    Belgium    Canada    Denmark    \n",
       "(Intercept)     414.7712254 423.077279 -56.926780 -227.8218 -1399.35735\n",
       "left.parliament  -0.8638052  -8.210886   8.447463   17.6766    34.34477\n",
       "                Finland  France      Germany   Ireland   Italy      Japan    \n",
       "(Intercept)     108.2245 202.4261408 95.657134 -94.78661 -738.74531 964.73750\n",
       "left.parliament  12.8422  -0.4255319 -1.312305  55.46721   40.29109 -24.07595\n",
       "                Netherlands\n",
       "(Intercept)     -32.627678 \n",
       "left.parliament   1.694387 "
      ]
     },
     "metadata": {},
     "output_type": "display_data"
    }
   ],
   "source": [
    "strike.coef <- sapply(strikes.split[1:12], my.strike.lm)\n",
    "strike.coef"
   ]
  },
  {
   "cell_type": "markdown",
   "id": "ef41eb67",
   "metadata": {},
   "source": [
    "We don’t care about the intercepts, only the slopes (2nd row), let’s plot them:"
   ]
  },
  {
   "cell_type": "code",
   "execution_count": 10,
   "id": "3bdbed51",
   "metadata": {},
   "outputs": [
    {
     "data": {
      "image/png": "[encoded data removed]",
      "text/plain": [
       "Plot with title \"Countrywise labor activity by leftwing score\""
      ]
     },
     "metadata": {},
     "output_type": "display_data"
    }
   ],
   "source": [
    "plot(1:ncol(strike.coef), strike.coef[2, ], xaxt=\"n\", xlab=\"\",\n",
    "     ylab=\"Regression coefficient\", main=\"Countrywise labor activity by leftwing score\")\n",
    "axis(side = 1, at = 1:ncol(strike.coef), labels = colnames(strike.coef),\n",
    "     las = 2, cex.axis = 0.5)\n",
    "abline(h = 0, col = \"grey\")"
   ]
  },
  {
   "cell_type": "markdown",
   "id": "eef5fa32",
   "metadata": {},
   "source": [
    "## Tasks\n",
    "• Using split() and sapply(), compute the average unemployment rate, inflation rates, and strike volume for each year in the strikes data set. The output should be a matrix of dimension 3 $\\times$ 35.\n",
    "\n",
    "• Display the average unemployment rate by year and the average inflation rate by year, in the same plot. Label the axes and title the plot appropriately. Include an informative legend."
   ]
  },
  {
   "cell_type": "code",
   "execution_count": 11,
   "id": "2820ef36",
   "metadata": {},
   "outputs": [
    {
     "data": {
      "text/html": [
       "<table>\n",
       "<thead><tr><th></th><th scope=col>1951</th><th scope=col>1952</th><th scope=col>1953</th><th scope=col>1954</th><th scope=col>1955</th><th scope=col>1956</th><th scope=col>1957</th><th scope=col>1958</th><th scope=col>1959</th><th scope=col>1960</th><th scope=col>...</th><th scope=col>1976</th><th scope=col>1977</th><th scope=col>1978</th><th scope=col>1979</th><th scope=col>1980</th><th scope=col>1981</th><th scope=col>1982</th><th scope=col>1983</th><th scope=col>1984</th><th scope=col>1985</th></tr></thead>\n",
       "<tbody>\n",
       "\t<tr><th scope=row>unemployment</th><td>  3.088889</td><td>  3.683333</td><td>  3.594444</td><td>  3.505556</td><td>  3.044444</td><td>  3.033333</td><td>  3.055556</td><td>  3.422222</td><td>  3.094444</td><td>  2.555556</td><td>...       </td><td>  4.322222</td><td>  4.605556</td><td>  4.883333</td><td>  4.577778</td><td>  4.716667</td><td>  5.647059</td><td>  6.805882</td><td>  7.823529</td><td>  7.582353</td><td>  7.323529</td></tr>\n",
       "\t<tr><th scope=row>inflation</th><td> 13.088889</td><td>  5.794444</td><td>  1.333333</td><td>  1.833333</td><td>  1.294444</td><td>  3.705556</td><td>  3.255556</td><td>  3.472222</td><td>  1.377778</td><td>  1.955556</td><td>...       </td><td> 10.466667</td><td>  9.733333</td><td>  7.194444</td><td>  8.250000</td><td> 11.494444</td><td> 11.405882</td><td>  9.594118</td><td>  6.629412</td><td>  5.582353</td><td>  5.464706</td></tr>\n",
       "\t<tr><th scope=row>volume</th><td>359.222222</td><td>588.666667</td><td>211.944444</td><td>139.333333</td><td>215.277778</td><td>561.944444</td><td>216.111111</td><td>145.611111</td><td>239.444444</td><td>123.111111</td><td>...       </td><td>411.555556</td><td>304.888889</td><td>257.833333</td><td>435.055556</td><td>367.277778</td><td>261.647059</td><td>227.882353</td><td>195.470588</td><td>274.176471</td><td>217.764706</td></tr>\n",
       "</tbody>\n",
       "</table>\n"
      ],
      "text/latex": [
       "\\begin{tabular}{r|lllllllllllllllllllllllllllllllllll}\n",
       "  & 1951 & 1952 & 1953 & 1954 & 1955 & 1956 & 1957 & 1958 & 1959 & 1960 & ... & 1976 & 1977 & 1978 & 1979 & 1980 & 1981 & 1982 & 1983 & 1984 & 1985\\\\\n",
       "\\hline\n",
       "\tunemployment &   3.088889 &   3.683333 &   3.594444 &   3.505556 &   3.044444 &   3.033333 &   3.055556 &   3.422222 &   3.094444 &   2.555556 & ...        &   4.322222 &   4.605556 &   4.883333 &   4.577778 &   4.716667 &   5.647059 &   6.805882 &   7.823529 &   7.582353 &   7.323529\\\\\n",
       "\tinflation &  13.088889 &   5.794444 &   1.333333 &   1.833333 &   1.294444 &   3.705556 &   3.255556 &   3.472222 &   1.377778 &   1.955556 & ...        &  10.466667 &   9.733333 &   7.194444 &   8.250000 &  11.494444 &  11.405882 &   9.594118 &   6.629412 &   5.582353 &   5.464706\\\\\n",
       "\tvolume & 359.222222 & 588.666667 & 211.944444 & 139.333333 & 215.277778 & 561.944444 & 216.111111 & 145.611111 & 239.444444 & 123.111111 & ...        & 411.555556 & 304.888889 & 257.833333 & 435.055556 & 367.277778 & 261.647059 & 227.882353 & 195.470588 & 274.176471 & 217.764706\\\\\n",
       "\\end{tabular}\n"
      ],
      "text/markdown": [
       "\n",
       "| <!--/--> | 1951 | 1952 | 1953 | 1954 | 1955 | 1956 | 1957 | 1958 | 1959 | 1960 | ... | 1976 | 1977 | 1978 | 1979 | 1980 | 1981 | 1982 | 1983 | 1984 | 1985 |\n",
       "|---|---|---|---|---|---|---|---|---|---|---|---|---|---|---|---|---|---|---|---|---|---|\n",
       "| unemployment |   3.088889 |   3.683333 |   3.594444 |   3.505556 |   3.044444 |   3.033333 |   3.055556 |   3.422222 |   3.094444 |   2.555556 | ...        |   4.322222 |   4.605556 |   4.883333 |   4.577778 |   4.716667 |   5.647059 |   6.805882 |   7.823529 |   7.582353 |   7.323529 |\n",
       "| inflation |  13.088889 |   5.794444 |   1.333333 |   1.833333 |   1.294444 |   3.705556 |   3.255556 |   3.472222 |   1.377778 |   1.955556 | ...        |  10.466667 |   9.733333 |   7.194444 |   8.250000 |  11.494444 |  11.405882 |   9.594118 |   6.629412 |   5.582353 |   5.464706 |\n",
       "| volume | 359.222222 | 588.666667 | 211.944444 | 139.333333 | 215.277778 | 561.944444 | 216.111111 | 145.611111 | 239.444444 | 123.111111 | ...        | 411.555556 | 304.888889 | 257.833333 | 435.055556 | 367.277778 | 261.647059 | 227.882353 | 195.470588 | 274.176471 | 217.764706 |\n",
       "\n"
      ],
      "text/plain": [
       "             1951       1952       1953       1954       1955       1956      \n",
       "unemployment   3.088889   3.683333   3.594444   3.505556   3.044444   3.033333\n",
       "inflation     13.088889   5.794444   1.333333   1.833333   1.294444   3.705556\n",
       "volume       359.222222 588.666667 211.944444 139.333333 215.277778 561.944444\n",
       "             1957       1958       1959       1960       ... 1976      \n",
       "unemployment   3.055556   3.422222   3.094444   2.555556 ...   4.322222\n",
       "inflation      3.255556   3.472222   1.377778   1.955556 ...  10.466667\n",
       "volume       216.111111 145.611111 239.444444 123.111111 ... 411.555556\n",
       "             1977       1978       1979       1980       1981       1982      \n",
       "unemployment   4.605556   4.883333   4.577778   4.716667   5.647059   6.805882\n",
       "inflation      9.733333   7.194444   8.250000  11.494444  11.405882   9.594118\n",
       "volume       304.888889 257.833333 435.055556 367.277778 261.647059 227.882353\n",
       "             1983       1984       1985      \n",
       "unemployment   7.823529   7.582353   7.323529\n",
       "inflation      6.629412   5.582353   5.464706\n",
       "volume       195.470588 274.176471 217.764706"
      ]
     },
     "metadata": {},
     "output_type": "display_data"
    }
   ],
   "source": [
    "year_split <- split(strikes, strikes$year)\n",
    "averages <- function(df){\n",
    "    return(c(mean(df$unemployment), mean(df$inflation),\n",
    "                  mean(df$strike.volume)))\n",
    "}\n",
    "\n",
    "year_data <- sapply(year_split, averages)\n",
    "rownames(year_data) <- c(\"unemployment\", \"inflation\", \"volume\")\n",
    "year_data"
   ]
  },
  {
   "cell_type": "code",
   "execution_count": 12,
   "id": "4b4c619c",
   "metadata": {},
   "outputs": [
    {
     "data": {
      "image/png": "[encoded data removed]",
      "text/plain": [
       "plot without title"
      ]
     },
     "metadata": {},
     "output_type": "display_data"
    }
   ],
   "source": [
    "plot(1:ncol(year_data), year_data[1,], col = 1, type = \"l\", xlab = \"Years\", \n",
    "     xaxt=\"n\", ylab = \"Rates\", ylim = c(0,14))\n",
    "points(1:ncol(year_data), year_data[2,], col = 2, type = \"l\")\n",
    "axis(side = 1, at = 1:ncol(year_data), labels = colnames(year_data),\n",
    "     las = 2, cex.axis = 0.5)\n",
    "legend(\"topleft\", c(\"Unemployment\", \"Inflation\"), fill = c(\"black\", \"red\"), cex = .5)"
   ]
  },
  {
   "cell_type": "markdown",
   "id": "36588956",
   "metadata": {},
   "source": [
    "# Using plyr\n",
    "\n",
    "**Reminder: iterating in R without for()**\n",
    "\n",
    "We've learned some tools in R for iteration without explicit for() loops:\n",
    "* Indexing with conditionals + vectorization\n",
    "* apply(): apply a function to rows or columns of a matrix or dataframe\n",
    "* lapply(): apply a function to elements of a list or vector\n",
    "* sapply(): same as the above, but simplify the output (if possible)\n",
    "* tapply(): apply a function to levels of a factor vector\n",
    "\n",
    "## The plyr package\n",
    "\n",
    "The apply() family is often useful, but it has some issues: **primarily**, **inconsistent output**.\n",
    "\n",
    "**plyr** Provides us with an extremely useful family of apply-like functions. Advantage over the built-in apply() family is its consistency.\n",
    "\n",
    "All plyr functions are of the form `**ply()`. Replace ** with characters denoting types:\n",
    "\n",
    "* First character: input type, one of a, d, l\n",
    "* Second character: output type, one of a, d, l, or _ (drop)\n",
    "\n",
    "\\* a, d, l分别表示array, dataframe, list\n",
    "\n",
    "\n",
    "## The signature for all a*ply() functions is: \n",
    "`a*ply(.data, .margins, .fun, ...)`\n",
    "* .data : an array\n",
    "* .margins : index (or indices) to split the array by\n",
    "* .fun : the function to be applied to each piece\n",
    "* ... : additional arguments to be passed to the function\n",
    "\n",
    "\\* 注意到这很像apply(x, margin, fun, ...)"
   ]
  },
  {
   "cell_type": "markdown",
   "id": "05c9c2f9",
   "metadata": {},
   "source": [
    "## a*ply() Examples"
   ]
  },
  {
   "cell_type": "code",
   "execution_count": 13,
   "id": "83e49df4",
   "metadata": {},
   "outputs": [],
   "source": [
    "my.array <- array(1:27, c(3,3,3))\n",
    "rownames(my.array) <- c(\"R1\", \"R2\", \"R3\")\n",
    "colnames(my.array) <- c(\"C1\", \"C2\", \"C3\")\n",
    "dimnames(my.array)[[3]] <- c(\"Bart\", \"Lisa\", \"Maggie\")"
   ]
  },
  {
   "cell_type": "code",
   "execution_count": 14,
   "id": "3ea65c95",
   "metadata": {
    "scrolled": true
   },
   "outputs": [
    {
     "name": "stdout",
     "output_type": "stream",
     "text": [
      ", , Bart\n",
      "\n",
      "   C1 C2 C3\n",
      "R1  1  4  7\n",
      "R2  2  5  8\n",
      "R3  3  6  9\n",
      "\n",
      ", , Lisa\n",
      "\n",
      "   C1 C2 C3\n",
      "R1 10 13 16\n",
      "R2 11 14 17\n",
      "R3 12 15 18\n",
      "\n",
      ", , Maggie\n",
      "\n",
      "   C1 C2 C3\n",
      "R1 19 22 25\n",
      "R2 20 23 26\n",
      "R3 21 24 27\n",
      "\n"
     ]
    }
   ],
   "source": [
    "print(my.array)"
   ]
  },
  {
   "cell_type": "code",
   "execution_count": 15,
   "id": "01d72abb",
   "metadata": {},
   "outputs": [
    {
     "name": "stderr",
     "output_type": "stream",
     "text": [
      "Warning message:\n",
      "\"package 'plyr' was built under R version 3.6.3\""
     ]
    },
    {
     "name": "stdout",
     "output_type": "stream",
     "text": [
      " R1  R2  R3 \n",
      "117 126 135 \n"
     ]
    },
    {
     "data": {
      "text/html": [
       "'_____________________________________________________'"
      ],
      "text/latex": [
       "'\\_\\_\\_\\_\\_\\_\\_\\_\\_\\_\\_\\_\\_\\_\\_\\_\\_\\_\\_\\_\\_\\_\\_\\_\\_\\_\\_\\_\\_\\_\\_\\_\\_\\_\\_\\_\\_\\_\\_\\_\\_\\_\\_\\_\\_\\_\\_\\_\\_\\_\\_\\_\\_'"
      ],
      "text/markdown": [
       "'_____________________________________________________'"
      ],
      "text/plain": [
       "[1] \"_____________________________________________________\""
      ]
     },
     "metadata": {},
     "output_type": "display_data"
    },
    {
     "name": "stdout",
     "output_type": "stream",
     "text": [
      "  X1  V1\n",
      "1 R1 117\n",
      "2 R2 126\n",
      "3 R3 135\n"
     ]
    },
    {
     "data": {
      "text/html": [
       "'_____________________________________________________'"
      ],
      "text/latex": [
       "'\\_\\_\\_\\_\\_\\_\\_\\_\\_\\_\\_\\_\\_\\_\\_\\_\\_\\_\\_\\_\\_\\_\\_\\_\\_\\_\\_\\_\\_\\_\\_\\_\\_\\_\\_\\_\\_\\_\\_\\_\\_\\_\\_\\_\\_\\_\\_\\_\\_\\_\\_\\_\\_'"
      ],
      "text/markdown": [
       "'_____________________________________________________'"
      ],
      "text/plain": [
       "[1] \"_____________________________________________________\""
      ]
     },
     "metadata": {},
     "output_type": "display_data"
    },
    {
     "name": "stdout",
     "output_type": "stream",
     "text": [
      "$`1`\n",
      "[1] 117\n",
      "\n",
      "$`2`\n",
      "[1] 126\n",
      "\n",
      "$`3`\n",
      "[1] 135\n",
      "\n",
      "attr(,\"split_type\")\n",
      "[1] \"array\"\n",
      "attr(,\"split_labels\")\n",
      "  X1\n",
      "1 R1\n",
      "2 R2\n",
      "3 R3\n"
     ]
    }
   ],
   "source": [
    "library(\"plyr\")\n",
    "# 分别在行(R)上求和\n",
    "print(aaply(my.array, 1, sum)) # Get back an array\n",
    "\"_____________________________________________________\"\n",
    "print(adply(my.array, 1, sum)) # Get back a data frame\n",
    "\"_____________________________________________________\"\n",
    "print(alply(my.array, 1, sum)) # Get back a list"
   ]
  },
  {
   "cell_type": "code",
   "execution_count": 16,
   "id": "71a3b2e1",
   "metadata": {},
   "outputs": [
    {
     "data": {
      "text/html": [
       "<table>\n",
       "<thead><tr><th></th><th scope=col>Bart</th><th scope=col>Lisa</th><th scope=col>Maggie</th></tr></thead>\n",
       "<tbody>\n",
       "\t<tr><th scope=row>C1</th><td> 6</td><td>33</td><td>60</td></tr>\n",
       "\t<tr><th scope=row>C2</th><td>15</td><td>42</td><td>69</td></tr>\n",
       "\t<tr><th scope=row>C3</th><td>24</td><td>51</td><td>78</td></tr>\n",
       "</tbody>\n",
       "</table>\n"
      ],
      "text/latex": [
       "\\begin{tabular}{r|lll}\n",
       "  & Bart & Lisa & Maggie\\\\\n",
       "\\hline\n",
       "\tC1 &  6 & 33 & 60\\\\\n",
       "\tC2 & 15 & 42 & 69\\\\\n",
       "\tC3 & 24 & 51 & 78\\\\\n",
       "\\end{tabular}\n"
      ],
      "text/markdown": [
       "\n",
       "| <!--/--> | Bart | Lisa | Maggie |\n",
       "|---|---|---|---|\n",
       "| C1 |  6 | 33 | 60 |\n",
       "| C2 | 15 | 42 | 69 |\n",
       "| C3 | 24 | 51 | 78 |\n",
       "\n"
      ],
      "text/plain": [
       "    X2\n",
       "X1   Bart Lisa Maggie\n",
       "  C1  6   33   60    \n",
       "  C2 15   42   69    \n",
       "  C3 24   51   78    "
      ]
     },
     "metadata": {},
     "output_type": "display_data"
    }
   ],
   "source": [
    "# 分别在列与人名上求和\n",
    "aaply(my.array, 2:3, sum) # Get back a 3 x 3 array"
   ]
  },
  {
   "cell_type": "markdown",
   "id": "b273abf8",
   "metadata": {},
   "source": [
    "注意，在这个例子中，margin的1，2，3分别指R、C、人名，即行、列、表。这很容易记混，尤其是遇到更高维的数据时。因此遇到高维（>= 3维）数据时，应该记第几维，而不是行、列、...。在上一个例子中，2：3代表对第二与第三维度求和，则结果以这两个维度表出，所以结果是一个二维array。"
   ]
  },
  {
   "cell_type": "code",
   "execution_count": 17,
   "id": "2d54cc54",
   "metadata": {},
   "outputs": [
    {
     "data": {
      "text/html": [
       "<table>\n",
       "<thead><tr><th scope=col>X1</th><th scope=col>X2</th><th scope=col>V1</th></tr></thead>\n",
       "<tbody>\n",
       "\t<tr><td>C1    </td><td>Bart  </td><td> 6    </td></tr>\n",
       "\t<tr><td>C2    </td><td>Bart  </td><td>15    </td></tr>\n",
       "\t<tr><td>C3    </td><td>Bart  </td><td>24    </td></tr>\n",
       "\t<tr><td>C1    </td><td>Lisa  </td><td>33    </td></tr>\n",
       "\t<tr><td>C2    </td><td>Lisa  </td><td>42    </td></tr>\n",
       "\t<tr><td>C3    </td><td>Lisa  </td><td>51    </td></tr>\n",
       "\t<tr><td>C1    </td><td>Maggie</td><td>60    </td></tr>\n",
       "\t<tr><td>C2    </td><td>Maggie</td><td>69    </td></tr>\n",
       "\t<tr><td>C3    </td><td>Maggie</td><td>78    </td></tr>\n",
       "</tbody>\n",
       "</table>\n"
      ],
      "text/latex": [
       "\\begin{tabular}{r|lll}\n",
       " X1 & X2 & V1\\\\\n",
       "\\hline\n",
       "\t C1     & Bart   &  6    \\\\\n",
       "\t C2     & Bart   & 15    \\\\\n",
       "\t C3     & Bart   & 24    \\\\\n",
       "\t C1     & Lisa   & 33    \\\\\n",
       "\t C2     & Lisa   & 42    \\\\\n",
       "\t C3     & Lisa   & 51    \\\\\n",
       "\t C1     & Maggie & 60    \\\\\n",
       "\t C2     & Maggie & 69    \\\\\n",
       "\t C3     & Maggie & 78    \\\\\n",
       "\\end{tabular}\n"
      ],
      "text/markdown": [
       "\n",
       "| X1 | X2 | V1 |\n",
       "|---|---|---|\n",
       "| C1     | Bart   |  6     |\n",
       "| C2     | Bart   | 15     |\n",
       "| C3     | Bart   | 24     |\n",
       "| C1     | Lisa   | 33     |\n",
       "| C2     | Lisa   | 42     |\n",
       "| C3     | Lisa   | 51     |\n",
       "| C1     | Maggie | 60     |\n",
       "| C2     | Maggie | 69     |\n",
       "| C3     | Maggie | 78     |\n",
       "\n"
      ],
      "text/plain": [
       "  X1 X2     V1\n",
       "1 C1 Bart    6\n",
       "2 C2 Bart   15\n",
       "3 C3 Bart   24\n",
       "4 C1 Lisa   33\n",
       "5 C2 Lisa   42\n",
       "6 C3 Lisa   51\n",
       "7 C1 Maggie 60\n",
       "8 C2 Maggie 69\n",
       "9 C3 Maggie 78"
      ]
     },
     "metadata": {},
     "output_type": "display_data"
    }
   ],
   "source": [
    "adply(my.array, 2:3, sum) # Get back a data frame"
   ]
  },
  {
   "cell_type": "code",
   "execution_count": 18,
   "id": "2b2f7bd7",
   "metadata": {},
   "outputs": [
    {
     "data": {
      "text/html": [
       "<dl>\n",
       "\t<dt>$`1`</dt>\n",
       "\t\t<dd>6</dd>\n",
       "\t<dt>$`2`</dt>\n",
       "\t\t<dd>15</dd>\n",
       "\t<dt>$`3`</dt>\n",
       "\t\t<dd>24</dd>\n",
       "\t<dt>$`4`</dt>\n",
       "\t\t<dd>33</dd>\n",
       "\t<dt>$`5`</dt>\n",
       "\t\t<dd>42</dd>\n",
       "\t<dt>$`6`</dt>\n",
       "\t\t<dd>51</dd>\n",
       "\t<dt>$`7`</dt>\n",
       "\t\t<dd>60</dd>\n",
       "\t<dt>$`8`</dt>\n",
       "\t\t<dd>69</dd>\n",
       "\t<dt>$`9`</dt>\n",
       "\t\t<dd>78</dd>\n",
       "</dl>\n"
      ],
      "text/latex": [
       "\\begin{description}\n",
       "\\item[\\$`1`] 6\n",
       "\\item[\\$`2`] 15\n",
       "\\item[\\$`3`] 24\n",
       "\\item[\\$`4`] 33\n",
       "\\item[\\$`5`] 42\n",
       "\\item[\\$`6`] 51\n",
       "\\item[\\$`7`] 60\n",
       "\\item[\\$`8`] 69\n",
       "\\item[\\$`9`] 78\n",
       "\\end{description}\n"
      ],
      "text/markdown": [
       "$`1`\n",
       ":   6\n",
       "$`2`\n",
       ":   15\n",
       "$`3`\n",
       ":   24\n",
       "$`4`\n",
       ":   33\n",
       "$`5`\n",
       ":   42\n",
       "$`6`\n",
       ":   51\n",
       "$`7`\n",
       ":   60\n",
       "$`8`\n",
       ":   69\n",
       "$`9`\n",
       ":   78\n",
       "\n",
       "\n"
      ],
      "text/plain": [
       "$`1`\n",
       "[1] 6\n",
       "\n",
       "$`2`\n",
       "[1] 15\n",
       "\n",
       "$`3`\n",
       "[1] 24\n",
       "\n",
       "$`4`\n",
       "[1] 33\n",
       "\n",
       "$`5`\n",
       "[1] 42\n",
       "\n",
       "$`6`\n",
       "[1] 51\n",
       "\n",
       "$`7`\n",
       "[1] 60\n",
       "\n",
       "$`8`\n",
       "[1] 69\n",
       "\n",
       "$`9`\n",
       "[1] 78\n",
       "\n",
       "attr(,\"split_type\")\n",
       "[1] \"array\"\n",
       "attr(,\"split_labels\")\n",
       "  X1     X2\n",
       "1 C1   Bart\n",
       "2 C2   Bart\n",
       "3 C3   Bart\n",
       "4 C1   Lisa\n",
       "5 C2   Lisa\n",
       "6 C3   Lisa\n",
       "7 C1 Maggie\n",
       "8 C2 Maggie\n",
       "9 C3 Maggie"
      ]
     },
     "metadata": {},
     "output_type": "display_data"
    }
   ],
   "source": [
    "alply(my.array, 2:3, sum) # Get back a list"
   ]
  },
  {
   "cell_type": "markdown",
   "id": "074ccdd6",
   "metadata": {},
   "source": [
    "# l*ply() : The Input is a List\n",
    "\n",
    "## The signature for all l*ply() functions is:\n",
    "`l*ply(.data, .fun, ...)`\n",
    "\n",
    "* .data : a list\n",
    "* .fun : the function to be applied to each element\n",
    "* ... : additional arguments to be passed to the function\n",
    "\n",
    "\\* 注意到这很像lapply(x, fun, ...)"
   ]
  },
  {
   "cell_type": "markdown",
   "id": "e1c45e27",
   "metadata": {},
   "source": [
    "## l*aply() Examples"
   ]
  },
  {
   "cell_type": "code",
   "execution_count": 19,
   "id": "d2264c66",
   "metadata": {},
   "outputs": [
    {
     "data": {
      "text/html": [
       "<ol class=list-inline>\n",
       "\t<li>-0.848540392648212</li>\n",
       "\t<li>0.487847788231828</li>\n",
       "\t<li>-1.49721435981892</li>\n",
       "\t<li>-0.707935523115335</li>\n",
       "\t<li>-0.705474871902431</li>\n",
       "</ol>\n"
      ],
      "text/latex": [
       "\\begin{enumerate*}\n",
       "\\item -0.848540392648212\n",
       "\\item 0.487847788231828\n",
       "\\item -1.49721435981892\n",
       "\\item -0.707935523115335\n",
       "\\item -0.705474871902431\n",
       "\\end{enumerate*}\n"
      ],
      "text/markdown": [
       "1. -0.848540392648212\n",
       "2. 0.487847788231828\n",
       "3. -1.49721435981892\n",
       "4. -0.707935523115335\n",
       "5. -0.705474871902431\n",
       "\n",
       "\n"
      ],
      "text/plain": [
       "[1] -0.8485404  0.4878478 -1.4972144 -0.7079355 -0.7054749"
      ]
     },
     "metadata": {},
     "output_type": "display_data"
    },
    {
     "data": {
      "text/html": [
       "<dl class=dl-horizontal>\n",
       "\t<dt>Alabama</dt>\n",
       "\t\t<dd>3615</dd>\n",
       "\t<dt>Alaska</dt>\n",
       "\t\t<dd>365</dd>\n",
       "\t<dt>Arizona</dt>\n",
       "\t\t<dd>2212</dd>\n",
       "\t<dt>Arkansas</dt>\n",
       "\t\t<dd>2110</dd>\n",
       "\t<dt>California</dt>\n",
       "\t\t<dd>21198</dd>\n",
       "</dl>\n"
      ],
      "text/latex": [
       "\\begin{description*}\n",
       "\\item[Alabama] 3615\n",
       "\\item[Alaska] 365\n",
       "\\item[Arizona] 2212\n",
       "\\item[Arkansas] 2110\n",
       "\\item[California] 21198\n",
       "\\end{description*}\n"
      ],
      "text/markdown": [
       "Alabama\n",
       ":   3615Alaska\n",
       ":   365Arizona\n",
       ":   2212Arkansas\n",
       ":   2110California\n",
       ":   21198\n",
       "\n"
      ],
      "text/plain": [
       "   Alabama     Alaska    Arizona   Arkansas California \n",
       "      3615        365       2212       2110      21198 "
      ]
     },
     "metadata": {},
     "output_type": "display_data"
    }
   ],
   "source": [
    "my.list <- list(nums = rnorm(1000), lets = letters, pops = state.x77[ ,\"Population\"])\n",
    "head(my.list[[1]], 5)\n",
    "head(my.list[[3]], 5)"
   ]
  },
  {
   "cell_type": "code",
   "execution_count": 20,
   "id": "36e7eb34",
   "metadata": {
    "scrolled": true
   },
   "outputs": [
    {
     "data": {
      "text/html": [
       "<table>\n",
       "<thead><tr><th scope=col>1</th><th scope=col>2</th></tr></thead>\n",
       "<tbody>\n",
       "\t<tr><td>-3.16484153261028</td><td>2.99983391838582 </td></tr>\n",
       "\t<tr><td>a                </td><td>z                </td></tr>\n",
       "\t<tr><td>365              </td><td>21198            </td></tr>\n",
       "</tbody>\n",
       "</table>\n"
      ],
      "text/latex": [
       "\\begin{tabular}{ll}\n",
       " 1 & 2\\\\\n",
       "\\hline\n",
       "\t -3.16484153261028 & 2.99983391838582 \\\\\n",
       "\t a                 & z                \\\\\n",
       "\t 365               & 21198            \\\\\n",
       "\\end{tabular}\n"
      ],
      "text/markdown": [
       "\n",
       "| 1 | 2 |\n",
       "|---|---|\n",
       "| -3.16484153261028 | 2.99983391838582  |\n",
       "| a                 | z                 |\n",
       "| 365               | 21198             |\n",
       "\n"
      ],
      "text/plain": [
       "     1                 2               \n",
       "[1,] -3.16484153261028 2.99983391838582\n",
       "[2,] a                 z               \n",
       "[3,] 365               21198           "
      ]
     },
     "metadata": {},
     "output_type": "display_data"
    }
   ],
   "source": [
    "laply(my.list, range) # Get back an array"
   ]
  },
  {
   "cell_type": "code",
   "execution_count": 21,
   "id": "9ea2740f",
   "metadata": {},
   "outputs": [
    {
     "data": {
      "text/html": [
       "<table>\n",
       "<thead><tr><th scope=col>.id</th><th scope=col>V1</th><th scope=col>V2</th></tr></thead>\n",
       "<tbody>\n",
       "\t<tr><td>nums             </td><td>-3.16484153261028</td><td>2.99983391838582 </td></tr>\n",
       "\t<tr><td>lets             </td><td>a                </td><td>z                </td></tr>\n",
       "\t<tr><td>pops             </td><td>365              </td><td>21198            </td></tr>\n",
       "</tbody>\n",
       "</table>\n"
      ],
      "text/latex": [
       "\\begin{tabular}{r|lll}\n",
       " .id & V1 & V2\\\\\n",
       "\\hline\n",
       "\t nums              & -3.16484153261028 & 2.99983391838582 \\\\\n",
       "\t lets              & a                 & z                \\\\\n",
       "\t pops              & 365               & 21198            \\\\\n",
       "\\end{tabular}\n"
      ],
      "text/markdown": [
       "\n",
       "| .id | V1 | V2 |\n",
       "|---|---|---|\n",
       "| nums              | -3.16484153261028 | 2.99983391838582  |\n",
       "| lets              | a                 | z                 |\n",
       "| pops              | 365               | 21198             |\n",
       "\n"
      ],
      "text/plain": [
       "  .id  V1                V2              \n",
       "1 nums -3.16484153261028 2.99983391838582\n",
       "2 lets a                 z               \n",
       "3 pops 365               21198           "
      ]
     },
     "metadata": {},
     "output_type": "display_data"
    }
   ],
   "source": [
    "ldply(my.list, range) # Get back a dataframe"
   ]
  },
  {
   "cell_type": "code",
   "execution_count": 22,
   "id": "50aec562",
   "metadata": {},
   "outputs": [
    {
     "data": {
      "text/html": [
       "<dl>\n",
       "\t<dt>$nums</dt>\n",
       "\t\t<dd><ol class=list-inline>\n",
       "\t<li>-3.16484153261028</li>\n",
       "\t<li>2.99983391838582</li>\n",
       "</ol>\n",
       "</dd>\n",
       "\t<dt>$lets</dt>\n",
       "\t\t<dd><ol class=list-inline>\n",
       "\t<li>'a'</li>\n",
       "\t<li>'z'</li>\n",
       "</ol>\n",
       "</dd>\n",
       "\t<dt>$pops</dt>\n",
       "\t\t<dd><ol class=list-inline>\n",
       "\t<li>365</li>\n",
       "\t<li>21198</li>\n",
       "</ol>\n",
       "</dd>\n",
       "</dl>\n"
      ],
      "text/latex": [
       "\\begin{description}\n",
       "\\item[\\$nums] \\begin{enumerate*}\n",
       "\\item -3.16484153261028\n",
       "\\item 2.99983391838582\n",
       "\\end{enumerate*}\n",
       "\n",
       "\\item[\\$lets] \\begin{enumerate*}\n",
       "\\item 'a'\n",
       "\\item 'z'\n",
       "\\end{enumerate*}\n",
       "\n",
       "\\item[\\$pops] \\begin{enumerate*}\n",
       "\\item 365\n",
       "\\item 21198\n",
       "\\end{enumerate*}\n",
       "\n",
       "\\end{description}\n"
      ],
      "text/markdown": [
       "$nums\n",
       ":   1. -3.16484153261028\n",
       "2. 2.99983391838582\n",
       "\n",
       "\n",
       "\n",
       "$lets\n",
       ":   1. 'a'\n",
       "2. 'z'\n",
       "\n",
       "\n",
       "\n",
       "$pops\n",
       ":   1. 365\n",
       "2. 21198\n",
       "\n",
       "\n",
       "\n",
       "\n",
       "\n"
      ],
      "text/plain": [
       "$nums\n",
       "[1] -3.164842  2.999834\n",
       "\n",
       "$lets\n",
       "[1] \"a\" \"z\"\n",
       "\n",
       "$pops\n",
       "[1]   365 21198\n"
      ]
     },
     "metadata": {},
     "output_type": "display_data"
    }
   ],
   "source": [
    "llply(my.list, range) # Get back a list"
   ]
  },
  {
   "cell_type": "code",
   "execution_count": 23,
   "id": "a75f823c",
   "metadata": {},
   "outputs": [
    {
     "data": {
      "text/plain": [
       "$nums\n",
       "    Min.  1st Qu.   Median     Mean  3rd Qu.     Max. \n",
       "-3.16484 -0.70379 -0.06255 -0.02616  0.67762  2.99983 \n",
       "\n",
       "$lets\n",
       "   Length     Class      Mode \n",
       "       26 character character \n",
       "\n",
       "$pops\n",
       "   Min. 1st Qu.  Median    Mean 3rd Qu.    Max. \n",
       "    365    1080    2838    4246    4968   21198 \n"
      ]
     },
     "metadata": {},
     "output_type": "display_data"
    }
   ],
   "source": [
    "# Doesn't work! Outputs have different types/lengths\n",
    "# laply(my.list, summary)\n",
    "# ldply(my.list, summary)\n",
    "llply(my.list, summary) # Works just fine"
   ]
  },
  {
   "cell_type": "markdown",
   "id": "ccdd4988",
   "metadata": {},
   "source": [
    "## The Fourth Option for *\n",
    "如果将输出选项*设置为_，即函数a_ply()或l_ply()，不会返回明确的object，但还是会在给定的array或list上遍历函数，可能会造成其它影响。"
   ]
  },
  {
   "cell_type": "code",
   "execution_count": 24,
   "id": "8803cecb",
   "metadata": {},
   "outputs": [
    {
     "data": {
      "image/png": "[encoded data removed]",
      "text/plain": [
       "plot without title"
      ]
     },
     "metadata": {},
     "output_type": "display_data"
    }
   ],
   "source": [
    "par(mfrow = c(3, 3), mar = c(4, 4, 1, 1))\n",
    "a_ply(my.array, 2:3, plot, ylim = range(my.array), pch = 19, col = 6)"
   ]
  },
  {
   "cell_type": "markdown",
   "id": "203f2ba7",
   "metadata": {},
   "source": [
    "# d*ply() : The Input is a Data Frame\n",
    "## The signature for all d*ply() functions is:\n",
    "`d*ply(.data, .variables, .fun, ...)`\n",
    "* .data : a data frame\n",
    "* .variables : variable (or variables) to split the data frame by\n",
    "* .\"fun : the function to be applied to each piece\n",
    "* ... : additional arguments to be passed to the function\n",
    "\n",
    "\\* 注意到这很像tapply(x, index, fun, ...), which applys a function to levels of a factor vector."
   ]
  },
  {
   "cell_type": "code",
   "execution_count": 25,
   "id": "a28e42d3",
   "metadata": {},
   "outputs": [],
   "source": [
    "# Recall, data set on political economy of strikes and the function to \n",
    "# compute coefficients from regressing number of strikes (per 1000 workers)\n",
    "# on leftwing share of the government:\n",
    "\n",
    "my.strike.lm <- function(country.df){\n",
    "    return(coef(lm(strike.volume~left.parliament, data=country.df)))\n",
    "}"
   ]
  },
  {
   "cell_type": "code",
   "execution_count": 26,
   "id": "5dedde2e",
   "metadata": {},
   "outputs": [
    {
     "data": {
      "text/html": [
       "<table>\n",
       "<thead><tr><th></th><th scope=col>Australia</th><th scope=col>Austria</th><th scope=col>Belgium</th><th scope=col>Canada</th><th scope=col>Denmark</th><th scope=col>Finland</th><th scope=col>France</th><th scope=col>Germany</th><th scope=col>Ireland</th><th scope=col>Italy</th><th scope=col>Japan</th><th scope=col>Netherlands</th></tr></thead>\n",
       "<tbody>\n",
       "\t<tr><th scope=row>(Intercept)</th><td>414.7712254</td><td>423.077279 </td><td>-56.926780 </td><td>-227.8218  </td><td>-1399.35735</td><td>108.2245   </td><td>202.4261408</td><td>95.657134  </td><td>-94.78661  </td><td>-738.74531 </td><td>964.73750  </td><td>-32.627678 </td></tr>\n",
       "\t<tr><th scope=row>left.parliament</th><td> -0.8638052</td><td> -8.210886 </td><td>  8.447463 </td><td>  17.6766  </td><td>   34.34477</td><td> 12.8422   </td><td> -0.4255319</td><td>-1.312305  </td><td> 55.46721  </td><td>  40.29109 </td><td>-24.07595  </td><td>  1.694387 </td></tr>\n",
       "</tbody>\n",
       "</table>\n"
      ],
      "text/latex": [
       "\\begin{tabular}{r|llllllllllll}\n",
       "  & Australia & Austria & Belgium & Canada & Denmark & Finland & France & Germany & Ireland & Italy & Japan & Netherlands\\\\\n",
       "\\hline\n",
       "\t(Intercept) & 414.7712254 & 423.077279  & -56.926780  & -227.8218   & -1399.35735 & 108.2245    & 202.4261408 & 95.657134   & -94.78661   & -738.74531  & 964.73750   & -32.627678 \\\\\n",
       "\tleft.parliament &  -0.8638052 &  -8.210886  &   8.447463  &   17.6766   &    34.34477 &  12.8422    &  -0.4255319 & -1.312305   &  55.46721   &   40.29109  & -24.07595   &   1.694387 \\\\\n",
       "\\end{tabular}\n"
      ],
      "text/markdown": [
       "\n",
       "| <!--/--> | Australia | Austria | Belgium | Canada | Denmark | Finland | France | Germany | Ireland | Italy | Japan | Netherlands |\n",
       "|---|---|---|---|---|---|---|---|---|---|---|---|---|\n",
       "| (Intercept) | 414.7712254 | 423.077279  | -56.926780  | -227.8218   | -1399.35735 | 108.2245    | 202.4261408 | 95.657134   | -94.78661   | -738.74531  | 964.73750   | -32.627678  |\n",
       "| left.parliament |  -0.8638052 |  -8.210886  |   8.447463  |   17.6766   |    34.34477 |  12.8422    |  -0.4255319 | -1.312305   |  55.46721   |   40.29109  | -24.07595   |   1.694387  |\n",
       "\n"
      ],
      "text/plain": [
       "                Australia   Austria    Belgium    Canada    Denmark    \n",
       "(Intercept)     414.7712254 423.077279 -56.926780 -227.8218 -1399.35735\n",
       "left.parliament  -0.8638052  -8.210886   8.447463   17.6766    34.34477\n",
       "                Finland  France      Germany   Ireland   Italy      Japan    \n",
       "(Intercept)     108.2245 202.4261408 95.657134 -94.78661 -738.74531 964.73750\n",
       "left.parliament  12.8422  -0.4255319 -1.312305  55.46721   40.29109 -24.07595\n",
       "                Netherlands\n",
       "(Intercept)     -32.627678 \n",
       "left.parliament   1.694387 "
      ]
     },
     "metadata": {},
     "output_type": "display_data"
    }
   ],
   "source": [
    "# 对于每个国家分别计算回归参数（老方法）：\n",
    "\n",
    "strikes.list <- split(strikes, f = strikes$country)\n",
    "strikes.coefs <- sapply(strikes.list, my.strike.lm)\n",
    "strikes.coefs[, 1:12]"
   ]
  },
  {
   "cell_type": "code",
   "execution_count": 27,
   "id": "f8fdb5da",
   "metadata": {
    "scrolled": true
   },
   "outputs": [
    {
     "data": {
      "text/html": [
       "<table>\n",
       "<thead><tr><th></th><th scope=col>(Intercept)</th><th scope=col>left.parliament</th></tr></thead>\n",
       "<tbody>\n",
       "\t<tr><th scope=row>Australia</th><td>  414.77123</td><td>-0.8638052 </td></tr>\n",
       "\t<tr><th scope=row>Austria</th><td>  423.07728</td><td>-8.2108864 </td></tr>\n",
       "\t<tr><th scope=row>Belgium</th><td>  -56.92678</td><td> 8.4474627 </td></tr>\n",
       "\t<tr><th scope=row>Canada</th><td> -227.82177</td><td>17.6766029 </td></tr>\n",
       "\t<tr><th scope=row>Denmark</th><td>-1399.35735</td><td>34.3447662 </td></tr>\n",
       "\t<tr><th scope=row>Finland</th><td>  108.22451</td><td>12.8422018 </td></tr>\n",
       "</tbody>\n",
       "</table>\n"
      ],
      "text/latex": [
       "\\begin{tabular}{r|ll}\n",
       "  & (Intercept) & left.parliament\\\\\n",
       "\\hline\n",
       "\tAustralia &   414.77123 & -0.8638052 \\\\\n",
       "\tAustria &   423.07728 & -8.2108864 \\\\\n",
       "\tBelgium &   -56.92678 &  8.4474627 \\\\\n",
       "\tCanada &  -227.82177 & 17.6766029 \\\\\n",
       "\tDenmark & -1399.35735 & 34.3447662 \\\\\n",
       "\tFinland &   108.22451 & 12.8422018 \\\\\n",
       "\\end{tabular}\n"
      ],
      "text/markdown": [
       "\n",
       "| <!--/--> | (Intercept) | left.parliament |\n",
       "|---|---|---|\n",
       "| Australia |   414.77123 | -0.8638052  |\n",
       "| Austria |   423.07728 | -8.2108864  |\n",
       "| Belgium |   -56.92678 |  8.4474627  |\n",
       "| Canada |  -227.82177 | 17.6766029  |\n",
       "| Denmark | -1399.35735 | 34.3447662  |\n",
       "| Finland |   108.22451 | 12.8422018  |\n",
       "\n"
      ],
      "text/plain": [
       "           \n",
       "country     (Intercept) left.parliament\n",
       "  Australia   414.77123 -0.8638052     \n",
       "  Austria     423.07728 -8.2108864     \n",
       "  Belgium     -56.92678  8.4474627     \n",
       "  Canada     -227.82177 17.6766029     \n",
       "  Denmark   -1399.35735 34.3447662     \n",
       "  Finland     108.22451 12.8422018     "
      ]
     },
     "metadata": {},
     "output_type": "display_data"
    },
    {
     "data": {
      "text/html": [
       "<table>\n",
       "<thead><tr><th scope=col>country</th><th scope=col>(Intercept)</th><th scope=col>left.parliament</th></tr></thead>\n",
       "<tbody>\n",
       "\t<tr><td>Australia  </td><td>  414.77123</td><td>-0.8638052 </td></tr>\n",
       "\t<tr><td>Austria    </td><td>  423.07728</td><td>-8.2108864 </td></tr>\n",
       "\t<tr><td>Belgium    </td><td>  -56.92678</td><td> 8.4474627 </td></tr>\n",
       "\t<tr><td>Canada     </td><td> -227.82177</td><td>17.6766029 </td></tr>\n",
       "\t<tr><td>Denmark    </td><td>-1399.35735</td><td>34.3447662 </td></tr>\n",
       "\t<tr><td>Finland    </td><td>  108.22451</td><td>12.8422018 </td></tr>\n",
       "</tbody>\n",
       "</table>\n"
      ],
      "text/latex": [
       "\\begin{tabular}{r|lll}\n",
       " country & (Intercept) & left.parliament\\\\\n",
       "\\hline\n",
       "\t Australia   &   414.77123 & -0.8638052 \\\\\n",
       "\t Austria     &   423.07728 & -8.2108864 \\\\\n",
       "\t Belgium     &   -56.92678 &  8.4474627 \\\\\n",
       "\t Canada      &  -227.82177 & 17.6766029 \\\\\n",
       "\t Denmark     & -1399.35735 & 34.3447662 \\\\\n",
       "\t Finland     &   108.22451 & 12.8422018 \\\\\n",
       "\\end{tabular}\n"
      ],
      "text/markdown": [
       "\n",
       "| country | (Intercept) | left.parliament |\n",
       "|---|---|---|\n",
       "| Australia   |   414.77123 | -0.8638052  |\n",
       "| Austria     |   423.07728 | -8.2108864  |\n",
       "| Belgium     |   -56.92678 |  8.4474627  |\n",
       "| Canada      |  -227.82177 | 17.6766029  |\n",
       "| Denmark     | -1399.35735 | 34.3447662  |\n",
       "| Finland     |   108.22451 | 12.8422018  |\n",
       "\n"
      ],
      "text/plain": [
       "  country   (Intercept) left.parliament\n",
       "1 Australia   414.77123 -0.8638052     \n",
       "2 Austria     423.07728 -8.2108864     \n",
       "3 Belgium     -56.92678  8.4474627     \n",
       "4 Canada     -227.82177 17.6766029     \n",
       "5 Denmark   -1399.35735 34.3447662     \n",
       "6 Finland     108.22451 12.8422018     "
      ]
     },
     "metadata": {},
     "output_type": "display_data"
    },
    {
     "data": {
      "text/html": [
       "<dl>\n",
       "\t<dt>$Australia</dt>\n",
       "\t\t<dd><dl class=dl-horizontal>\n",
       "\t<dt>(Intercept)</dt>\n",
       "\t\t<dd>414.771225376031</dd>\n",
       "\t<dt>left.parliament</dt>\n",
       "\t\t<dd>-0.863805191157949</dd>\n",
       "</dl>\n",
       "</dd>\n",
       "\t<dt>$Austria</dt>\n",
       "\t\t<dd><dl class=dl-horizontal>\n",
       "\t<dt>(Intercept)</dt>\n",
       "\t\t<dd>423.077279226955</dd>\n",
       "\t<dt>left.parliament</dt>\n",
       "\t\t<dd>-8.21088636778813</dd>\n",
       "</dl>\n",
       "</dd>\n",
       "\t<dt>$Belgium</dt>\n",
       "\t\t<dd><dl class=dl-horizontal>\n",
       "\t<dt>(Intercept)</dt>\n",
       "\t\t<dd>-56.9267796617729</dd>\n",
       "\t<dt>left.parliament</dt>\n",
       "\t\t<dd>8.44746270221127</dd>\n",
       "</dl>\n",
       "</dd>\n",
       "\t<dt>$Canada</dt>\n",
       "\t\t<dd><dl class=dl-horizontal>\n",
       "\t<dt>(Intercept)</dt>\n",
       "\t\t<dd>-227.821771687421</dd>\n",
       "\t<dt>left.parliament</dt>\n",
       "\t\t<dd>17.6766029397787</dd>\n",
       "</dl>\n",
       "</dd>\n",
       "\t<dt>$Denmark</dt>\n",
       "\t\t<dd><dl class=dl-horizontal>\n",
       "\t<dt>(Intercept)</dt>\n",
       "\t\t<dd>-1399.35734777169</dd>\n",
       "\t<dt>left.parliament</dt>\n",
       "\t\t<dd>34.3447662021478</dd>\n",
       "</dl>\n",
       "</dd>\n",
       "\t<dt>$Finland</dt>\n",
       "\t\t<dd><dl class=dl-horizontal>\n",
       "\t<dt>(Intercept)</dt>\n",
       "\t\t<dd>108.224508519003</dd>\n",
       "\t<dt>left.parliament</dt>\n",
       "\t\t<dd>12.8422018348624</dd>\n",
       "</dl>\n",
       "</dd>\n",
       "</dl>\n"
      ],
      "text/latex": [
       "\\begin{description}\n",
       "\\item[\\$Australia] \\begin{description*}\n",
       "\\item[(Intercept)] 414.771225376031\n",
       "\\item[left.parliament] -0.863805191157949\n",
       "\\end{description*}\n",
       "\n",
       "\\item[\\$Austria] \\begin{description*}\n",
       "\\item[(Intercept)] 423.077279226955\n",
       "\\item[left.parliament] -8.21088636778813\n",
       "\\end{description*}\n",
       "\n",
       "\\item[\\$Belgium] \\begin{description*}\n",
       "\\item[(Intercept)] -56.9267796617729\n",
       "\\item[left.parliament] 8.44746270221127\n",
       "\\end{description*}\n",
       "\n",
       "\\item[\\$Canada] \\begin{description*}\n",
       "\\item[(Intercept)] -227.821771687421\n",
       "\\item[left.parliament] 17.6766029397787\n",
       "\\end{description*}\n",
       "\n",
       "\\item[\\$Denmark] \\begin{description*}\n",
       "\\item[(Intercept)] -1399.35734777169\n",
       "\\item[left.parliament] 34.3447662021478\n",
       "\\end{description*}\n",
       "\n",
       "\\item[\\$Finland] \\begin{description*}\n",
       "\\item[(Intercept)] 108.224508519003\n",
       "\\item[left.parliament] 12.8422018348624\n",
       "\\end{description*}\n",
       "\n",
       "\\end{description}\n"
      ],
      "text/markdown": [
       "$Australia\n",
       ":   (Intercept)\n",
       ":   414.771225376031left.parliament\n",
       ":   -0.863805191157949\n",
       "\n",
       "\n",
       "$Austria\n",
       ":   (Intercept)\n",
       ":   423.077279226955left.parliament\n",
       ":   -8.21088636778813\n",
       "\n",
       "\n",
       "$Belgium\n",
       ":   (Intercept)\n",
       ":   -56.9267796617729left.parliament\n",
       ":   8.44746270221127\n",
       "\n",
       "\n",
       "$Canada\n",
       ":   (Intercept)\n",
       ":   -227.821771687421left.parliament\n",
       ":   17.6766029397787\n",
       "\n",
       "\n",
       "$Denmark\n",
       ":   (Intercept)\n",
       ":   -1399.35734777169left.parliament\n",
       ":   34.3447662021478\n",
       "\n",
       "\n",
       "$Finland\n",
       ":   (Intercept)\n",
       ":   108.224508519003left.parliament\n",
       ":   12.8422018348624\n",
       "\n",
       "\n",
       "\n",
       "\n"
      ],
      "text/plain": [
       "$Australia\n",
       "    (Intercept) left.parliament \n",
       "    414.7712254      -0.8638052 \n",
       "\n",
       "$Austria\n",
       "    (Intercept) left.parliament \n",
       "     423.077279       -8.210886 \n",
       "\n",
       "$Belgium\n",
       "    (Intercept) left.parliament \n",
       "     -56.926780        8.447463 \n",
       "\n",
       "$Canada\n",
       "    (Intercept) left.parliament \n",
       "      -227.8218         17.6766 \n",
       "\n",
       "$Denmark\n",
       "    (Intercept) left.parliament \n",
       "    -1399.35735        34.34477 \n",
       "\n",
       "$Finland\n",
       "    (Intercept) left.parliament \n",
       "       108.2245         12.8422 \n"
      ]
     },
     "metadata": {},
     "output_type": "display_data"
    }
   ],
   "source": [
    "# 对于每个国家分别计算回归参数（新方法，且返回三个不同数据结构的结果）：\n",
    "strike.coef.a <- daply(strikes, .(country), my.strike.lm) # returns an array\n",
    "head(strike.coef.a)\n",
    "\n",
    "strike.coef.d <- ddply(strikes, .(country), my.strike.lm) # returns a dataframe\n",
    "head(strike.coef.d)\n",
    "\n",
    "strike.coef.l <- dlply(strikes, .(country), my.strike.lm) # returns a list\n",
    "head(strike.coef.l)"
   ]
  },
  {
   "cell_type": "markdown",
   "id": "34b19b86",
   "metadata": {},
   "source": [
    "## Splitting on Two or More Variables\n",
    "The function d*ply() makes it very easy to split on two (or more) variables: we just specify them, separated by a “,” in the .variables argument."
   ]
  },
  {
   "cell_type": "code",
   "execution_count": 28,
   "id": "f41a720a",
   "metadata": {},
   "outputs": [
    {
     "data": {
      "text/html": [
       "<table>\n",
       "<thead><tr><th scope=col>country</th><th scope=col>year</th><th scope=col>strike.volume</th><th scope=col>unemployment</th><th scope=col>inflation</th><th scope=col>left.parliament</th><th scope=col>centralization</th><th scope=col>density</th><th scope=col>yearPre1975</th></tr></thead>\n",
       "<tbody>\n",
       "\t<tr><td>Australia</td><td>1951     </td><td>296      </td><td>1.3      </td><td>19.8     </td><td>43.0     </td><td>0.3748588</td><td>NA       </td><td>TRUE     </td></tr>\n",
       "\t<tr><td>Australia</td><td>1952     </td><td>397      </td><td>2.2      </td><td>17.2     </td><td>43.0     </td><td>0.3751829</td><td>NA       </td><td>TRUE     </td></tr>\n",
       "\t<tr><td>Australia</td><td>1953     </td><td>360      </td><td>2.5      </td><td> 4.3     </td><td>43.0     </td><td>0.3745076</td><td>NA       </td><td>TRUE     </td></tr>\n",
       "\t<tr><td>Australia</td><td>1954     </td><td>  3      </td><td>1.7      </td><td> 0.7     </td><td>47.0     </td><td>0.3710170</td><td>NA       </td><td>TRUE     </td></tr>\n",
       "\t<tr><td>Australia</td><td>1955     </td><td>326      </td><td>1.4      </td><td> 2.0     </td><td>38.5     </td><td>0.3752675</td><td>NA       </td><td>TRUE     </td></tr>\n",
       "\t<tr><td>Australia</td><td>1956     </td><td>352      </td><td>1.8      </td><td> 6.3     </td><td>38.5     </td><td>0.3716072</td><td>NA       </td><td>TRUE     </td></tr>\n",
       "</tbody>\n",
       "</table>\n"
      ],
      "text/latex": [
       "\\begin{tabular}{r|lllllllll}\n",
       " country & year & strike.volume & unemployment & inflation & left.parliament & centralization & density & yearPre1975\\\\\n",
       "\\hline\n",
       "\t Australia & 1951      & 296       & 1.3       & 19.8      & 43.0      & 0.3748588 & NA        & TRUE     \\\\\n",
       "\t Australia & 1952      & 397       & 2.2       & 17.2      & 43.0      & 0.3751829 & NA        & TRUE     \\\\\n",
       "\t Australia & 1953      & 360       & 2.5       &  4.3      & 43.0      & 0.3745076 & NA        & TRUE     \\\\\n",
       "\t Australia & 1954      &   3       & 1.7       &  0.7      & 47.0      & 0.3710170 & NA        & TRUE     \\\\\n",
       "\t Australia & 1955      & 326       & 1.4       &  2.0      & 38.5      & 0.3752675 & NA        & TRUE     \\\\\n",
       "\t Australia & 1956      & 352       & 1.8       &  6.3      & 38.5      & 0.3716072 & NA        & TRUE     \\\\\n",
       "\\end{tabular}\n"
      ],
      "text/markdown": [
       "\n",
       "| country | year | strike.volume | unemployment | inflation | left.parliament | centralization | density | yearPre1975 |\n",
       "|---|---|---|---|---|---|---|---|---|\n",
       "| Australia | 1951      | 296       | 1.3       | 19.8      | 43.0      | 0.3748588 | NA        | TRUE      |\n",
       "| Australia | 1952      | 397       | 2.2       | 17.2      | 43.0      | 0.3751829 | NA        | TRUE      |\n",
       "| Australia | 1953      | 360       | 2.5       |  4.3      | 43.0      | 0.3745076 | NA        | TRUE      |\n",
       "| Australia | 1954      |   3       | 1.7       |  0.7      | 47.0      | 0.3710170 | NA        | TRUE      |\n",
       "| Australia | 1955      | 326       | 1.4       |  2.0      | 38.5      | 0.3752675 | NA        | TRUE      |\n",
       "| Australia | 1956      | 352       | 1.8       |  6.3      | 38.5      | 0.3716072 | NA        | TRUE      |\n",
       "\n"
      ],
      "text/plain": [
       "  country   year strike.volume unemployment inflation left.parliament\n",
       "1 Australia 1951 296           1.3          19.8      43.0           \n",
       "2 Australia 1952 397           2.2          17.2      43.0           \n",
       "3 Australia 1953 360           2.5           4.3      43.0           \n",
       "4 Australia 1954   3           1.7           0.7      47.0           \n",
       "5 Australia 1955 326           1.4           2.0      38.5           \n",
       "6 Australia 1956 352           1.8           6.3      38.5           \n",
       "  centralization density yearPre1975\n",
       "1 0.3748588      NA      TRUE       \n",
       "2 0.3751829      NA      TRUE       \n",
       "3 0.3745076      NA      TRUE       \n",
       "4 0.3710170      NA      TRUE       \n",
       "5 0.3752675      NA      TRUE       \n",
       "6 0.3716072      NA      TRUE       "
      ]
     },
     "metadata": {},
     "output_type": "display_data"
    }
   ],
   "source": [
    "# First create a variable that indicates whether the year is pre 1975,\n",
    "# and add it to the data frame.\n",
    "\n",
    "strikes$yearPre1975 <- strikes$year <= 1975\n",
    "head(strikes)"
   ]
  },
  {
   "cell_type": "code",
   "execution_count": 29,
   "id": "bde8c5e6",
   "metadata": {},
   "outputs": [
    {
     "data": {
      "text/html": [
       "<table>\n",
       "<thead><tr><th scope=col>country</th><th scope=col>yearPre1975</th><th scope=col>(Intercept)</th><th scope=col>left.parliament</th></tr></thead>\n",
       "<tbody>\n",
       "\t<tr><td>Australia  </td><td>FALSE      </td><td>  973.34088</td><td>-11.8094991</td></tr>\n",
       "\t<tr><td>Australia  </td><td> TRUE      </td><td> -169.59900</td><td> 12.0170866</td></tr>\n",
       "\t<tr><td>Austria    </td><td>FALSE      </td><td>   19.51823</td><td> -0.3470889</td></tr>\n",
       "\t<tr><td>Austria    </td><td> TRUE      </td><td>  400.83004</td><td> -7.7051918</td></tr>\n",
       "\t<tr><td>Belgium    </td><td>FALSE      </td><td>-4182.06650</td><td>148.0049261</td></tr>\n",
       "\t<tr><td>Belgium    </td><td> TRUE      </td><td> -103.67439</td><td>  9.5802824</td></tr>\n",
       "</tbody>\n",
       "</table>\n"
      ],
      "text/latex": [
       "\\begin{tabular}{r|llll}\n",
       " country & yearPre1975 & (Intercept) & left.parliament\\\\\n",
       "\\hline\n",
       "\t Australia   & FALSE       &   973.34088 & -11.8094991\\\\\n",
       "\t Australia   &  TRUE       &  -169.59900 &  12.0170866\\\\\n",
       "\t Austria     & FALSE       &    19.51823 &  -0.3470889\\\\\n",
       "\t Austria     &  TRUE       &   400.83004 &  -7.7051918\\\\\n",
       "\t Belgium     & FALSE       & -4182.06650 & 148.0049261\\\\\n",
       "\t Belgium     &  TRUE       &  -103.67439 &   9.5802824\\\\\n",
       "\\end{tabular}\n"
      ],
      "text/markdown": [
       "\n",
       "| country | yearPre1975 | (Intercept) | left.parliament |\n",
       "|---|---|---|---|\n",
       "| Australia   | FALSE       |   973.34088 | -11.8094991 |\n",
       "| Australia   |  TRUE       |  -169.59900 |  12.0170866 |\n",
       "| Austria     | FALSE       |    19.51823 |  -0.3470889 |\n",
       "| Austria     |  TRUE       |   400.83004 |  -7.7051918 |\n",
       "| Belgium     | FALSE       | -4182.06650 | 148.0049261 |\n",
       "| Belgium     |  TRUE       |  -103.67439 |   9.5802824 |\n",
       "\n"
      ],
      "text/plain": [
       "  country   yearPre1975 (Intercept) left.parliament\n",
       "1 Australia FALSE         973.34088 -11.8094991    \n",
       "2 Australia  TRUE        -169.59900  12.0170866    \n",
       "3 Austria   FALSE          19.51823  -0.3470889    \n",
       "4 Austria    TRUE         400.83004  -7.7051918    \n",
       "5 Belgium   FALSE       -4182.06650 148.0049261    \n",
       "6 Belgium    TRUE        -103.67439   9.5802824    "
      ]
     },
     "metadata": {},
     "output_type": "display_data"
    },
    {
     "data": {
      "text/html": [
       "<ol class=list-inline>\n",
       "\t<li>36</li>\n",
       "\t<li>4</li>\n",
       "</ol>\n"
      ],
      "text/latex": [
       "\\begin{enumerate*}\n",
       "\\item 36\n",
       "\\item 4\n",
       "\\end{enumerate*}\n"
      ],
      "text/markdown": [
       "1. 36\n",
       "2. 4\n",
       "\n",
       "\n"
      ],
      "text/plain": [
       "[1] 36  4"
      ]
     },
     "metadata": {},
     "output_type": "display_data"
    }
   ],
   "source": [
    "# Then use (say) ddply() to compute regression coefficients \n",
    "# for each country pre & post 1975\n",
    "\n",
    "strike.coef.75 <- ddply(strikes, .(country, yearPre1975), my.strike.lm)\n",
    "head(strike.coef.75)\n",
    "dim(strike.coef.75) # Note there are 18 x 2 = 36 rows"
   ]
  },
  {
   "cell_type": "code",
   "execution_count": 30,
   "id": "f107e182",
   "metadata": {},
   "outputs": [
    {
     "data": {
      "text/html": [
       "<table>\n",
       "<thead><tr><th scope=col>country</th><th scope=col>I(year &lt;= 1975)</th><th scope=col>(Intercept)</th><th scope=col>left.parliament</th></tr></thead>\n",
       "<tbody>\n",
       "\t<tr><td>Australia  </td><td>FALSE      </td><td>  973.34088</td><td>-11.8094991</td></tr>\n",
       "\t<tr><td>Australia  </td><td> TRUE      </td><td> -169.59900</td><td> 12.0170866</td></tr>\n",
       "\t<tr><td>Austria    </td><td>FALSE      </td><td>   19.51823</td><td> -0.3470889</td></tr>\n",
       "\t<tr><td>Austria    </td><td> TRUE      </td><td>  400.83004</td><td> -7.7051918</td></tr>\n",
       "\t<tr><td>Belgium    </td><td>FALSE      </td><td>-4182.06650</td><td>148.0049261</td></tr>\n",
       "\t<tr><td>Belgium    </td><td> TRUE      </td><td> -103.67439</td><td>  9.5802824</td></tr>\n",
       "</tbody>\n",
       "</table>\n"
      ],
      "text/latex": [
       "\\begin{tabular}{r|llll}\n",
       " country & I(year <= 1975) & (Intercept) & left.parliament\\\\\n",
       "\\hline\n",
       "\t Australia   & FALSE       &   973.34088 & -11.8094991\\\\\n",
       "\t Australia   &  TRUE       &  -169.59900 &  12.0170866\\\\\n",
       "\t Austria     & FALSE       &    19.51823 &  -0.3470889\\\\\n",
       "\t Austria     &  TRUE       &   400.83004 &  -7.7051918\\\\\n",
       "\t Belgium     & FALSE       & -4182.06650 & 148.0049261\\\\\n",
       "\t Belgium     &  TRUE       &  -103.67439 &   9.5802824\\\\\n",
       "\\end{tabular}\n"
      ],
      "text/markdown": [
       "\n",
       "| country | I(year <= 1975) | (Intercept) | left.parliament |\n",
       "|---|---|---|---|\n",
       "| Australia   | FALSE       |   973.34088 | -11.8094991 |\n",
       "| Australia   |  TRUE       |  -169.59900 |  12.0170866 |\n",
       "| Austria     | FALSE       |    19.51823 |  -0.3470889 |\n",
       "| Austria     |  TRUE       |   400.83004 |  -7.7051918 |\n",
       "| Belgium     | FALSE       | -4182.06650 | 148.0049261 |\n",
       "| Belgium     |  TRUE       |  -103.67439 |   9.5802824 |\n",
       "\n"
      ],
      "text/plain": [
       "  country   I(year <= 1975) (Intercept) left.parliament\n",
       "1 Australia FALSE             973.34088 -11.8094991    \n",
       "2 Australia  TRUE            -169.59900  12.0170866    \n",
       "3 Austria   FALSE              19.51823  -0.3470889    \n",
       "4 Austria    TRUE             400.83004  -7.7051918    \n",
       "5 Belgium   FALSE           -4182.06650 148.0049261    \n",
       "6 Belgium    TRUE            -103.67439   9.5802824    "
      ]
     },
     "metadata": {},
     "output_type": "display_data"
    },
    {
     "data": {
      "text/html": [
       "<ol class=list-inline>\n",
       "\t<li>36</li>\n",
       "\t<li>4</li>\n",
       "</ol>\n"
      ],
      "text/latex": [
       "\\begin{enumerate*}\n",
       "\\item 36\n",
       "\\item 4\n",
       "\\end{enumerate*}\n"
      ],
      "text/markdown": [
       "1. 36\n",
       "2. 4\n",
       "\n",
       "\n"
      ],
      "text/plain": [
       "[1] 36  4"
      ]
     },
     "metadata": {},
     "output_type": "display_data"
    }
   ],
   "source": [
    "# 可以通过I()函数创建即时的factor variables.\n",
    "\n",
    "strike.coef.75 <- ddply(strikes, .(country, I(year<=1975)), my.strike.lm)\n",
    "head(strike.coef.75)\n",
    "dim(strike.coef.75) # Again, 18 x 2 = 36 rows"
   ]
  },
  {
   "cell_type": "markdown",
   "id": "9dee3ca3",
   "metadata": {},
   "source": [
    "# Parallelization\n",
    "\n",
    "* 假设我们有一个极大的数据集，如何使用Split-Apply-Combine方法？\n",
    "\n",
    "\n",
    "* 如果单个任务之间不相关，那么可以通过并行运算(perform in parallel)来加快计算速度。\n",
    "\n",
    "\n",
    "* plyr函数使并行运算变得简单：观察daply()的结构：\n",
    "\n",
    "`daply(.data, .variables, .fun = NULL, ..., .progress = \"none\", .inform = FALSE, .drop_i = TRUE, .drop_o = TRUE, .parallel = FALSE, .paropts = NULL)`\n",
    "* 倒数第二项.parallel(默认为FALSE)是为了并行运算而设置。如果将它设置为TRUE，那么程序将会使用foreach package进行独立的任务的并行运算。\n",
    "\n",
    "    * 区别：\n",
    "    \n",
    "    `daply(strikes.df, .(country), my.strike.lm)`\n",
    "    \n",
    "    `daply(strikes.df, .(country), my.strike.lm, .parallel = TRUE)`\n",
    "\n",
    "\n",
    "* 最后一项.paropts是为了更高级的并行运算而设置，需要向foreach中传递更多的参数。想了解更多内容需要参考foreach package，需要时间来设置并行后端(backend)。而一旦设置完毕，用\\**ply执行并行运算将变得简单且优雅。"
   ]
  },
  {
   "cell_type": "markdown",
   "id": "235b9b4e",
   "metadata": {},
   "source": [
    "## Tasks\n",
    "* Compute the average inflation rate for each country pre and post 1975, from strikes, using a single call to daply(), i.e., without using any auxiliary columns in strikes, like the ones created in yearPre1975, countryPre1975. (Hint: Recall the function I(). You'll also have to write a quick function to get the inflation mean.)\n",
    "\n",
    "\n",
    "* Do the same thing with split() and sapply() to check your results."
   ]
  },
  {
   "cell_type": "code",
   "execution_count": 31,
   "id": "ce9d908f",
   "metadata": {},
   "outputs": [
    {
     "data": {
      "text/html": [
       "<table>\n",
       "<thead><tr><th></th><th scope=col>FALSE</th><th scope=col>TRUE</th></tr></thead>\n",
       "<tbody>\n",
       "\t<tr><th scope=row>Australia</th><td> 9.46</td><td>5.448</td></tr>\n",
       "\t<tr><th scope=row>Austria</th><td> 5.08</td><td>5.112</td></tr>\n",
       "\t<tr><th scope=row>Belgium</th><td> 6.40</td><td>3.700</td></tr>\n",
       "\t<tr><th scope=row>Canada</th><td> 8.11</td><td>3.472</td></tr>\n",
       "\t<tr><th scope=row>Denmark</th><td> 9.17</td><td>5.548</td></tr>\n",
       "\t<tr><th scope=row>Finland</th><td> 9.70</td><td>6.364</td></tr>\n",
       "\t<tr><th scope=row>France</th><td>10.02</td><td>5.720</td></tr>\n",
       "\t<tr><th scope=row>Germany</th><td> 3.97</td><td>3.024</td></tr>\n",
       "\t<tr><th scope=row>Ireland</th><td>13.26</td><td>6.108</td></tr>\n",
       "\t<tr><th scope=row>Italy</th><td>15.39</td><td>5.052</td></tr>\n",
       "\t<tr><th scope=row>Japan</th><td> 4.71</td><td>6.264</td></tr>\n",
       "\t<tr><th scope=row>Netherlands</th><td> 5.14</td><td>4.684</td></tr>\n",
       "\t<tr><th scope=row>New.Zealand</th><td>13.49</td><td>5.372</td></tr>\n",
       "\t<tr><th scope=row>Norway</th><td> 8.75</td><td>5.348</td></tr>\n",
       "\t<tr><th scope=row>Sweden</th><td> 9.76</td><td>5.104</td></tr>\n",
       "\t<tr><th scope=row>Switzerland</th><td> 3.33</td><td>3.452</td></tr>\n",
       "\t<tr><th scope=row>UK</th><td>10.83</td><td>5.616</td></tr>\n",
       "\t<tr><th scope=row>USA</th><td> 7.23</td><td>3.308</td></tr>\n",
       "</tbody>\n",
       "</table>\n"
      ],
      "text/latex": [
       "\\begin{tabular}{r|ll}\n",
       "  & FALSE & TRUE\\\\\n",
       "\\hline\n",
       "\tAustralia &  9.46 & 5.448\\\\\n",
       "\tAustria &  5.08 & 5.112\\\\\n",
       "\tBelgium &  6.40 & 3.700\\\\\n",
       "\tCanada &  8.11 & 3.472\\\\\n",
       "\tDenmark &  9.17 & 5.548\\\\\n",
       "\tFinland &  9.70 & 6.364\\\\\n",
       "\tFrance & 10.02 & 5.720\\\\\n",
       "\tGermany &  3.97 & 3.024\\\\\n",
       "\tIreland & 13.26 & 6.108\\\\\n",
       "\tItaly & 15.39 & 5.052\\\\\n",
       "\tJapan &  4.71 & 6.264\\\\\n",
       "\tNetherlands &  5.14 & 4.684\\\\\n",
       "\tNew.Zealand & 13.49 & 5.372\\\\\n",
       "\tNorway &  8.75 & 5.348\\\\\n",
       "\tSweden &  9.76 & 5.104\\\\\n",
       "\tSwitzerland &  3.33 & 3.452\\\\\n",
       "\tUK & 10.83 & 5.616\\\\\n",
       "\tUSA &  7.23 & 3.308\\\\\n",
       "\\end{tabular}\n"
      ],
      "text/markdown": [
       "\n",
       "| <!--/--> | FALSE | TRUE |\n",
       "|---|---|---|\n",
       "| Australia |  9.46 | 5.448 |\n",
       "| Austria |  5.08 | 5.112 |\n",
       "| Belgium |  6.40 | 3.700 |\n",
       "| Canada |  8.11 | 3.472 |\n",
       "| Denmark |  9.17 | 5.548 |\n",
       "| Finland |  9.70 | 6.364 |\n",
       "| France | 10.02 | 5.720 |\n",
       "| Germany |  3.97 | 3.024 |\n",
       "| Ireland | 13.26 | 6.108 |\n",
       "| Italy | 15.39 | 5.052 |\n",
       "| Japan |  4.71 | 6.264 |\n",
       "| Netherlands |  5.14 | 4.684 |\n",
       "| New.Zealand | 13.49 | 5.372 |\n",
       "| Norway |  8.75 | 5.348 |\n",
       "| Sweden |  9.76 | 5.104 |\n",
       "| Switzerland |  3.33 | 3.452 |\n",
       "| UK | 10.83 | 5.616 |\n",
       "| USA |  7.23 | 3.308 |\n",
       "\n"
      ],
      "text/plain": [
       "             year <= 1975\n",
       "country       FALSE TRUE \n",
       "  Australia    9.46 5.448\n",
       "  Austria      5.08 5.112\n",
       "  Belgium      6.40 3.700\n",
       "  Canada       8.11 3.472\n",
       "  Denmark      9.17 5.548\n",
       "  Finland      9.70 6.364\n",
       "  France      10.02 5.720\n",
       "  Germany      3.97 3.024\n",
       "  Ireland     13.26 6.108\n",
       "  Italy       15.39 5.052\n",
       "  Japan        4.71 6.264\n",
       "  Netherlands  5.14 4.684\n",
       "  New.Zealand 13.49 5.372\n",
       "  Norway       8.75 5.348\n",
       "  Sweden       9.76 5.104\n",
       "  Switzerland  3.33 3.452\n",
       "  UK          10.83 5.616\n",
       "  USA          7.23 3.308"
      ]
     },
     "metadata": {},
     "output_type": "display_data"
    },
    {
     "data": {
      "text/html": [
       "<dl class=dl-horizontal>\n",
       "\t<dt>Australia.FALSE</dt>\n",
       "\t\t<dd>9.46</dd>\n",
       "\t<dt>Austria.FALSE</dt>\n",
       "\t\t<dd>5.08</dd>\n",
       "\t<dt>Belgium.FALSE</dt>\n",
       "\t\t<dd>6.4</dd>\n",
       "\t<dt>Canada.FALSE</dt>\n",
       "\t\t<dd>8.11</dd>\n",
       "\t<dt>Denmark.FALSE</dt>\n",
       "\t\t<dd>9.17</dd>\n",
       "\t<dt>Finland.FALSE</dt>\n",
       "\t\t<dd>9.7</dd>\n",
       "\t<dt>France.FALSE</dt>\n",
       "\t\t<dd>10.02</dd>\n",
       "\t<dt>Germany.FALSE</dt>\n",
       "\t\t<dd>3.97</dd>\n",
       "\t<dt>Ireland.FALSE</dt>\n",
       "\t\t<dd>13.26</dd>\n",
       "\t<dt>Italy.FALSE</dt>\n",
       "\t\t<dd>15.39</dd>\n",
       "\t<dt>Japan.FALSE</dt>\n",
       "\t\t<dd>4.71</dd>\n",
       "\t<dt>Netherlands.FALSE</dt>\n",
       "\t\t<dd>5.14</dd>\n",
       "\t<dt>New.Zealand.FALSE</dt>\n",
       "\t\t<dd>13.49</dd>\n",
       "\t<dt>Norway.FALSE</dt>\n",
       "\t\t<dd>8.75</dd>\n",
       "\t<dt>Sweden.FALSE</dt>\n",
       "\t\t<dd>9.76</dd>\n",
       "\t<dt>Switzerland.FALSE</dt>\n",
       "\t\t<dd>3.33</dd>\n",
       "\t<dt>UK.FALSE</dt>\n",
       "\t\t<dd>10.83</dd>\n",
       "\t<dt>USA.FALSE</dt>\n",
       "\t\t<dd>7.23</dd>\n",
       "\t<dt>Australia.TRUE</dt>\n",
       "\t\t<dd>5.448</dd>\n",
       "\t<dt>Austria.TRUE</dt>\n",
       "\t\t<dd>5.112</dd>\n",
       "\t<dt>Belgium.TRUE</dt>\n",
       "\t\t<dd>3.7</dd>\n",
       "\t<dt>Canada.TRUE</dt>\n",
       "\t\t<dd>3.472</dd>\n",
       "\t<dt>Denmark.TRUE</dt>\n",
       "\t\t<dd>5.548</dd>\n",
       "\t<dt>Finland.TRUE</dt>\n",
       "\t\t<dd>6.364</dd>\n",
       "\t<dt>France.TRUE</dt>\n",
       "\t\t<dd>5.72</dd>\n",
       "\t<dt>Germany.TRUE</dt>\n",
       "\t\t<dd>3.024</dd>\n",
       "\t<dt>Ireland.TRUE</dt>\n",
       "\t\t<dd>6.108</dd>\n",
       "\t<dt>Italy.TRUE</dt>\n",
       "\t\t<dd>5.052</dd>\n",
       "\t<dt>Japan.TRUE</dt>\n",
       "\t\t<dd>6.264</dd>\n",
       "\t<dt>Netherlands.TRUE</dt>\n",
       "\t\t<dd>4.684</dd>\n",
       "\t<dt>New.Zealand.TRUE</dt>\n",
       "\t\t<dd>5.372</dd>\n",
       "\t<dt>Norway.TRUE</dt>\n",
       "\t\t<dd>5.348</dd>\n",
       "\t<dt>Sweden.TRUE</dt>\n",
       "\t\t<dd>5.104</dd>\n",
       "\t<dt>Switzerland.TRUE</dt>\n",
       "\t\t<dd>3.452</dd>\n",
       "\t<dt>UK.TRUE</dt>\n",
       "\t\t<dd>5.616</dd>\n",
       "\t<dt>USA.TRUE</dt>\n",
       "\t\t<dd>3.308</dd>\n",
       "</dl>\n"
      ],
      "text/latex": [
       "\\begin{description*}\n",
       "\\item[Australia.FALSE] 9.46\n",
       "\\item[Austria.FALSE] 5.08\n",
       "\\item[Belgium.FALSE] 6.4\n",
       "\\item[Canada.FALSE] 8.11\n",
       "\\item[Denmark.FALSE] 9.17\n",
       "\\item[Finland.FALSE] 9.7\n",
       "\\item[France.FALSE] 10.02\n",
       "\\item[Germany.FALSE] 3.97\n",
       "\\item[Ireland.FALSE] 13.26\n",
       "\\item[Italy.FALSE] 15.39\n",
       "\\item[Japan.FALSE] 4.71\n",
       "\\item[Netherlands.FALSE] 5.14\n",
       "\\item[New.Zealand.FALSE] 13.49\n",
       "\\item[Norway.FALSE] 8.75\n",
       "\\item[Sweden.FALSE] 9.76\n",
       "\\item[Switzerland.FALSE] 3.33\n",
       "\\item[UK.FALSE] 10.83\n",
       "\\item[USA.FALSE] 7.23\n",
       "\\item[Australia.TRUE] 5.448\n",
       "\\item[Austria.TRUE] 5.112\n",
       "\\item[Belgium.TRUE] 3.7\n",
       "\\item[Canada.TRUE] 3.472\n",
       "\\item[Denmark.TRUE] 5.548\n",
       "\\item[Finland.TRUE] 6.364\n",
       "\\item[France.TRUE] 5.72\n",
       "\\item[Germany.TRUE] 3.024\n",
       "\\item[Ireland.TRUE] 6.108\n",
       "\\item[Italy.TRUE] 5.052\n",
       "\\item[Japan.TRUE] 6.264\n",
       "\\item[Netherlands.TRUE] 4.684\n",
       "\\item[New.Zealand.TRUE] 5.372\n",
       "\\item[Norway.TRUE] 5.348\n",
       "\\item[Sweden.TRUE] 5.104\n",
       "\\item[Switzerland.TRUE] 3.452\n",
       "\\item[UK.TRUE] 5.616\n",
       "\\item[USA.TRUE] 3.308\n",
       "\\end{description*}\n"
      ],
      "text/markdown": [
       "Australia.FALSE\n",
       ":   9.46Austria.FALSE\n",
       ":   5.08Belgium.FALSE\n",
       ":   6.4Canada.FALSE\n",
       ":   8.11Denmark.FALSE\n",
       ":   9.17Finland.FALSE\n",
       ":   9.7France.FALSE\n",
       ":   10.02Germany.FALSE\n",
       ":   3.97Ireland.FALSE\n",
       ":   13.26Italy.FALSE\n",
       ":   15.39Japan.FALSE\n",
       ":   4.71Netherlands.FALSE\n",
       ":   5.14New.Zealand.FALSE\n",
       ":   13.49Norway.FALSE\n",
       ":   8.75Sweden.FALSE\n",
       ":   9.76Switzerland.FALSE\n",
       ":   3.33UK.FALSE\n",
       ":   10.83USA.FALSE\n",
       ":   7.23Australia.TRUE\n",
       ":   5.448Austria.TRUE\n",
       ":   5.112Belgium.TRUE\n",
       ":   3.7Canada.TRUE\n",
       ":   3.472Denmark.TRUE\n",
       ":   5.548Finland.TRUE\n",
       ":   6.364France.TRUE\n",
       ":   5.72Germany.TRUE\n",
       ":   3.024Ireland.TRUE\n",
       ":   6.108Italy.TRUE\n",
       ":   5.052Japan.TRUE\n",
       ":   6.264Netherlands.TRUE\n",
       ":   4.684New.Zealand.TRUE\n",
       ":   5.372Norway.TRUE\n",
       ":   5.348Sweden.TRUE\n",
       ":   5.104Switzerland.TRUE\n",
       ":   3.452UK.TRUE\n",
       ":   5.616USA.TRUE\n",
       ":   3.308\n",
       "\n"
      ],
      "text/plain": [
       "  Australia.FALSE     Austria.FALSE     Belgium.FALSE      Canada.FALSE \n",
       "            9.460             5.080             6.400             8.110 \n",
       "    Denmark.FALSE     Finland.FALSE      France.FALSE     Germany.FALSE \n",
       "            9.170             9.700            10.020             3.970 \n",
       "    Ireland.FALSE       Italy.FALSE       Japan.FALSE Netherlands.FALSE \n",
       "           13.260            15.390             4.710             5.140 \n",
       "New.Zealand.FALSE      Norway.FALSE      Sweden.FALSE Switzerland.FALSE \n",
       "           13.490             8.750             9.760             3.330 \n",
       "         UK.FALSE         USA.FALSE    Australia.TRUE      Austria.TRUE \n",
       "           10.830             7.230             5.448             5.112 \n",
       "     Belgium.TRUE       Canada.TRUE      Denmark.TRUE      Finland.TRUE \n",
       "            3.700             3.472             5.548             6.364 \n",
       "      France.TRUE      Germany.TRUE      Ireland.TRUE        Italy.TRUE \n",
       "            5.720             3.024             6.108             5.052 \n",
       "       Japan.TRUE  Netherlands.TRUE  New.Zealand.TRUE       Norway.TRUE \n",
       "            6.264             4.684             5.372             5.348 \n",
       "      Sweden.TRUE  Switzerland.TRUE           UK.TRUE          USA.TRUE \n",
       "            5.104             3.452             5.616             3.308 "
      ]
     },
     "metadata": {},
     "output_type": "display_data"
    }
   ],
   "source": [
    "get_inflation_mean <- function(df){\n",
    "    return(mean(df$inflation))\n",
    "}\n",
    "average_inflation <- daply(strikes, .(country, year <= 1975), get_inflation_mean)\n",
    "average_inflation\n",
    "\n",
    "\n",
    "# split() and sapply() approach:\n",
    "strikes$isbefore1975 <- factor(strikes$year <= 1975)\n",
    "strikes_split1 <- split(strikes, list(strikes$country, strikes$isbefore1975))\n",
    "average_inflation1 <- sapply(strikes_split1, get_inflation_mean)\n",
    "average_inflation1"
   ]
  },
  {
   "cell_type": "code",
   "execution_count": null,
   "id": "2f4948ac",
   "metadata": {},
   "outputs": [],
   "source": []
  }
 ],
 "metadata": {
  "kernelspec": {
   "display_name": "R",
   "language": "R",
   "name": "ir"
  },
  "language_info": {
   "codemirror_mode": "r",
   "file_extension": ".r",
   "mimetype": "text/x-r-source",
   "name": "R",
   "pygments_lexer": "r",
   "version": "3.6.1"
  }
 },
 "nbformat": 4,
 "nbformat_minor": 5
}
