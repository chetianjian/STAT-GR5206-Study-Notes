{
 "cells": [
  {
   "cell_type": "markdown",
   "id": "97cb724a",
   "metadata": {},
   "source": [
    "# Factors and Tables"
   ]
  },
  {
   "cell_type": "markdown",
   "id": "d30f9b9c",
   "metadata": {},
   "source": [
    "## Factor Definition"
   ]
  },
  {
   "cell_type": "markdown",
   "id": "e527e606",
   "metadata": {},
   "source": [
    "• Qualitative data that can assume only a discrete number of values (i.e. categorical data) can be represented as a factor in R.\n",
    "\n",
    "• For example, Democrat, Republican, or Independent, Male or Female, Control or Treatment, etc.\n",
    "\n",
    "• In R, think of factors as vectors with additional information which is a record of the distinct elements of the factor, called the levels.\n",
    "\n",
    "• R automatically treats factors specially in many functions"
   ]
  },
  {
   "cell_type": "code",
   "execution_count": 1,
   "id": "008837be",
   "metadata": {},
   "outputs": [
    {
     "data": {
      "text/html": [
       "<ol class=list-inline>\n",
       "\t<li>'Control'</li>\n",
       "\t<li>'Control'</li>\n",
       "\t<li>'Control'</li>\n",
       "\t<li>'Treatment'</li>\n",
       "\t<li>'Treatment'</li>\n",
       "\t<li>'Treatment'</li>\n",
       "\t<li>'Treatment'</li>\n",
       "</ol>\n"
      ],
      "text/latex": [
       "\\begin{enumerate*}\n",
       "\\item 'Control'\n",
       "\\item 'Control'\n",
       "\\item 'Control'\n",
       "\\item 'Treatment'\n",
       "\\item 'Treatment'\n",
       "\\item 'Treatment'\n",
       "\\item 'Treatment'\n",
       "\\end{enumerate*}\n"
      ],
      "text/markdown": [
       "1. 'Control'\n",
       "2. 'Control'\n",
       "3. 'Control'\n",
       "4. 'Treatment'\n",
       "5. 'Treatment'\n",
       "6. 'Treatment'\n",
       "7. 'Treatment'\n",
       "\n",
       "\n"
      ],
      "text/plain": [
       "[1] \"Control\"   \"Control\"   \"Control\"   \"Treatment\" \"Treatment\" \"Treatment\"\n",
       "[7] \"Treatment\""
      ]
     },
     "metadata": {},
     "output_type": "display_data"
    }
   ],
   "source": [
    "data <- rep(c(\"Control\",\"Treatment\"),c(3,4))\n",
    "data # A character vector"
   ]
  },
  {
   "cell_type": "code",
   "execution_count": 2,
   "id": "ede933c7",
   "metadata": {},
   "outputs": [
    {
     "data": {
      "text/html": [
       "<ol class=list-inline>\n",
       "\t<li>Control</li>\n",
       "\t<li>Control</li>\n",
       "\t<li>Control</li>\n",
       "\t<li>Treatment</li>\n",
       "\t<li>Treatment</li>\n",
       "\t<li>Treatment</li>\n",
       "\t<li>Treatment</li>\n",
       "</ol>\n",
       "\n",
       "<details>\n",
       "\t<summary style=display:list-item;cursor:pointer>\n",
       "\t\t<strong>Levels</strong>:\n",
       "\t</summary>\n",
       "\t<ol class=list-inline>\n",
       "\t\t<li>'Control'</li>\n",
       "\t\t<li>'Treatment'</li>\n",
       "\t</ol>\n",
       "</details>"
      ],
      "text/latex": [
       "\\begin{enumerate*}\n",
       "\\item Control\n",
       "\\item Control\n",
       "\\item Control\n",
       "\\item Treatment\n",
       "\\item Treatment\n",
       "\\item Treatment\n",
       "\\item Treatment\n",
       "\\end{enumerate*}\n",
       "\n",
       "\\emph{Levels}: \\begin{enumerate*}\n",
       "\\item 'Control'\n",
       "\\item 'Treatment'\n",
       "\\end{enumerate*}\n"
      ],
      "text/markdown": [
       "1. Control\n",
       "2. Control\n",
       "3. Control\n",
       "4. Treatment\n",
       "5. Treatment\n",
       "6. Treatment\n",
       "7. Treatment\n",
       "\n",
       "\n",
       "\n",
       "**Levels**: 1. 'Control'\n",
       "2. 'Treatment'\n",
       "\n",
       "\n"
      ],
      "text/plain": [
       "[1] Control   Control   Control   Treatment Treatment Treatment Treatment\n",
       "Levels: Control Treatment"
      ]
     },
     "metadata": {},
     "output_type": "display_data"
    }
   ],
   "source": [
    "group <- factor(data)\n",
    "group"
   ]
  },
  {
   "cell_type": "code",
   "execution_count": 3,
   "id": "14b3d926",
   "metadata": {},
   "outputs": [
    {
     "name": "stdout",
     "output_type": "stream",
     "text": [
      " Factor w/ 2 levels \"Control\",\"Treatment\": 1 1 1 2 2 2 2\n"
     ]
    }
   ],
   "source": [
    "str(group)"
   ]
  },
  {
   "cell_type": "code",
   "execution_count": 4,
   "id": "31b5eff0",
   "metadata": {},
   "outputs": [
    {
     "data": {
      "text/html": [
       "'numeric'"
      ],
      "text/latex": [
       "'numeric'"
      ],
      "text/markdown": [
       "'numeric'"
      ],
      "text/plain": [
       "[1] \"numeric\""
      ]
     },
     "metadata": {},
     "output_type": "display_data"
    }
   ],
   "source": [
    "mode(group)"
   ]
  },
  {
   "cell_type": "code",
   "execution_count": 5,
   "id": "b3ae8ee7",
   "metadata": {},
   "outputs": [
    {
     "data": {
      "text/html": [
       "<dl class=dl-horizontal>\n",
       "\t<dt>Control</dt>\n",
       "\t\t<dd>3</dd>\n",
       "\t<dt>Treatment</dt>\n",
       "\t\t<dd>4</dd>\n",
       "</dl>\n"
      ],
      "text/latex": [
       "\\begin{description*}\n",
       "\\item[Control] 3\n",
       "\\item[Treatment] 4\n",
       "\\end{description*}\n"
      ],
      "text/markdown": [
       "Control\n",
       ":   3Treatment\n",
       ":   4\n",
       "\n"
      ],
      "text/plain": [
       "  Control Treatment \n",
       "        3         4 "
      ]
     },
     "metadata": {},
     "output_type": "display_data"
    }
   ],
   "source": [
    "summary(group)"
   ]
  },
  {
   "cell_type": "markdown",
   "id": "b4aa478c",
   "metadata": {},
   "source": [
    "## Functions on Factors\n",
    "The split() function takes as input a vector and a factor (or list of factors), splitting the input according to the groups of the factor. The output is a list."
   ]
  },
  {
   "cell_type": "markdown",
   "id": "9c2e07a3",
   "metadata": {},
   "source": [
    "Example\n",
    "\n",
    "Suppose that we knew the ages and sex of the members of the Control and Treatment groups"
   ]
  },
  {
   "cell_type": "code",
   "execution_count": 6,
   "id": "174a28b9",
   "metadata": {},
   "outputs": [
    {
     "data": {
      "text/html": [
       "<ol class=list-inline>\n",
       "\t<li>Control</li>\n",
       "\t<li>Control</li>\n",
       "\t<li>Control</li>\n",
       "\t<li>Treatment</li>\n",
       "\t<li>Treatment</li>\n",
       "\t<li>Treatment</li>\n",
       "\t<li>Treatment</li>\n",
       "</ol>\n",
       "\n",
       "<details>\n",
       "\t<summary style=display:list-item;cursor:pointer>\n",
       "\t\t<strong>Levels</strong>:\n",
       "\t</summary>\n",
       "\t<ol class=list-inline>\n",
       "\t\t<li>'Control'</li>\n",
       "\t\t<li>'Treatment'</li>\n",
       "\t</ol>\n",
       "</details>"
      ],
      "text/latex": [
       "\\begin{enumerate*}\n",
       "\\item Control\n",
       "\\item Control\n",
       "\\item Control\n",
       "\\item Treatment\n",
       "\\item Treatment\n",
       "\\item Treatment\n",
       "\\item Treatment\n",
       "\\end{enumerate*}\n",
       "\n",
       "\\emph{Levels}: \\begin{enumerate*}\n",
       "\\item 'Control'\n",
       "\\item 'Treatment'\n",
       "\\end{enumerate*}\n"
      ],
      "text/markdown": [
       "1. Control\n",
       "2. Control\n",
       "3. Control\n",
       "4. Treatment\n",
       "5. Treatment\n",
       "6. Treatment\n",
       "7. Treatment\n",
       "\n",
       "\n",
       "\n",
       "**Levels**: 1. 'Control'\n",
       "2. 'Treatment'\n",
       "\n",
       "\n"
      ],
      "text/plain": [
       "[1] Control   Control   Control   Treatment Treatment Treatment Treatment\n",
       "Levels: Control Treatment"
      ]
     },
     "metadata": {},
     "output_type": "display_data"
    }
   ],
   "source": [
    "group"
   ]
  },
  {
   "cell_type": "code",
   "execution_count": 7,
   "id": "53620389",
   "metadata": {},
   "outputs": [],
   "source": [
    "ages <- c(20, 30, 40, 35, 35, 35, 35)\n",
    "sex <- c(\"M\", \"M\", \"F\", \"M\", \"F\", \"F\", \"F\")"
   ]
  },
  {
   "cell_type": "code",
   "execution_count": 8,
   "id": "c8d0b64e",
   "metadata": {},
   "outputs": [
    {
     "data": {
      "text/html": [
       "<dl>\n",
       "\t<dt>$Control.F</dt>\n",
       "\t\t<dd>40</dd>\n",
       "\t<dt>$Treatment.F</dt>\n",
       "\t\t<dd><ol class=list-inline>\n",
       "\t<li>35</li>\n",
       "\t<li>35</li>\n",
       "\t<li>35</li>\n",
       "</ol>\n",
       "</dd>\n",
       "\t<dt>$Control.M</dt>\n",
       "\t\t<dd><ol class=list-inline>\n",
       "\t<li>20</li>\n",
       "\t<li>30</li>\n",
       "</ol>\n",
       "</dd>\n",
       "\t<dt>$Treatment.M</dt>\n",
       "\t\t<dd>35</dd>\n",
       "</dl>\n"
      ],
      "text/latex": [
       "\\begin{description}\n",
       "\\item[\\$Control.F] 40\n",
       "\\item[\\$Treatment.F] \\begin{enumerate*}\n",
       "\\item 35\n",
       "\\item 35\n",
       "\\item 35\n",
       "\\end{enumerate*}\n",
       "\n",
       "\\item[\\$Control.M] \\begin{enumerate*}\n",
       "\\item 20\n",
       "\\item 30\n",
       "\\end{enumerate*}\n",
       "\n",
       "\\item[\\$Treatment.M] 35\n",
       "\\end{description}\n"
      ],
      "text/markdown": [
       "$Control.F\n",
       ":   40\n",
       "$Treatment.F\n",
       ":   1. 35\n",
       "2. 35\n",
       "3. 35\n",
       "\n",
       "\n",
       "\n",
       "$Control.M\n",
       ":   1. 20\n",
       "2. 30\n",
       "\n",
       "\n",
       "\n",
       "$Treatment.M\n",
       ":   35\n",
       "\n",
       "\n"
      ],
      "text/plain": [
       "$Control.F\n",
       "[1] 40\n",
       "\n",
       "$Treatment.F\n",
       "[1] 35 35 35\n",
       "\n",
       "$Control.M\n",
       "[1] 20 30\n",
       "\n",
       "$Treatment.M\n",
       "[1] 35\n"
      ]
     },
     "metadata": {},
     "output_type": "display_data"
    }
   ],
   "source": [
    "split(ages, list(group, sex))"
   ]
  },
  {
   "cell_type": "markdown",
   "id": "a75c0dd2",
   "metadata": {},
   "source": [
    "## Tables\n",
    "The table() function can be used to produce contingency tables in R.\n"
   ]
  },
  {
   "cell_type": "code",
   "execution_count": 9,
   "id": "9c1ff722",
   "metadata": {},
   "outputs": [
    {
     "data": {
      "text/html": [
       "<ol class=list-inline>\n",
       "\t<li>Control</li>\n",
       "\t<li>Control</li>\n",
       "\t<li>Control</li>\n",
       "\t<li>Treatment</li>\n",
       "\t<li>Treatment</li>\n",
       "\t<li>Treatment</li>\n",
       "\t<li>Treatment</li>\n",
       "</ol>\n",
       "\n",
       "<details>\n",
       "\t<summary style=display:list-item;cursor:pointer>\n",
       "\t\t<strong>Levels</strong>:\n",
       "\t</summary>\n",
       "\t<ol class=list-inline>\n",
       "\t\t<li>'Control'</li>\n",
       "\t\t<li>'Treatment'</li>\n",
       "\t</ol>\n",
       "</details>"
      ],
      "text/latex": [
       "\\begin{enumerate*}\n",
       "\\item Control\n",
       "\\item Control\n",
       "\\item Control\n",
       "\\item Treatment\n",
       "\\item Treatment\n",
       "\\item Treatment\n",
       "\\item Treatment\n",
       "\\end{enumerate*}\n",
       "\n",
       "\\emph{Levels}: \\begin{enumerate*}\n",
       "\\item 'Control'\n",
       "\\item 'Treatment'\n",
       "\\end{enumerate*}\n"
      ],
      "text/markdown": [
       "1. Control\n",
       "2. Control\n",
       "3. Control\n",
       "4. Treatment\n",
       "5. Treatment\n",
       "6. Treatment\n",
       "7. Treatment\n",
       "\n",
       "\n",
       "\n",
       "**Levels**: 1. 'Control'\n",
       "2. 'Treatment'\n",
       "\n",
       "\n"
      ],
      "text/plain": [
       "[1] Control   Control   Control   Treatment Treatment Treatment Treatment\n",
       "Levels: Control Treatment"
      ]
     },
     "metadata": {},
     "output_type": "display_data"
    }
   ],
   "source": [
    "group"
   ]
  },
  {
   "cell_type": "code",
   "execution_count": 10,
   "id": "262a50a7",
   "metadata": {},
   "outputs": [
    {
     "data": {
      "text/plain": [
       "group\n",
       "  Control Treatment \n",
       "        3         4 "
      ]
     },
     "metadata": {},
     "output_type": "display_data"
    }
   ],
   "source": [
    "table(group)"
   ]
  },
  {
   "cell_type": "code",
   "execution_count": 11,
   "id": "f48f2b7b",
   "metadata": {},
   "outputs": [
    {
     "data": {
      "text/plain": [
       "   group\n",
       "sex Control Treatment\n",
       "  F       1         3\n",
       "  M       2         1"
      ]
     },
     "metadata": {},
     "output_type": "display_data"
    }
   ],
   "source": [
    "table(sex, group)"
   ]
  },
  {
   "cell_type": "code",
   "execution_count": 12,
   "id": "7e1758d3",
   "metadata": {},
   "outputs": [
    {
     "data": {
      "text/html": [
       "<dl class=dl-horizontal>\n",
       "\t<dt>F</dt>\n",
       "\t\t<dd>1</dd>\n",
       "\t<dt>M</dt>\n",
       "\t\t<dd>2</dd>\n",
       "</dl>\n"
      ],
      "text/latex": [
       "\\begin{description*}\n",
       "\\item[F] 1\n",
       "\\item[M] 2\n",
       "\\end{description*}\n"
      ],
      "text/markdown": [
       "F\n",
       ":   1M\n",
       ":   2\n",
       "\n"
      ],
      "text/plain": [
       "F M \n",
       "1 2 "
      ]
     },
     "metadata": {},
     "output_type": "display_data"
    }
   ],
   "source": [
    "new_table <- table(sex, group)\n",
    "new_table[, \"Control\"]"
   ]
  },
  {
   "cell_type": "code",
   "execution_count": 13,
   "id": "d862af87",
   "metadata": {},
   "outputs": [
    {
     "data": {
      "text/html": [
       "<dl class=dl-horizontal>\n",
       "\t<dt>Control</dt>\n",
       "\t\t<dd>2</dd>\n",
       "\t<dt>Treatment</dt>\n",
       "\t\t<dd>1</dd>\n",
       "</dl>\n"
      ],
      "text/latex": [
       "\\begin{description*}\n",
       "\\item[Control] 2\n",
       "\\item[Treatment] 1\n",
       "\\end{description*}\n"
      ],
      "text/markdown": [
       "Control\n",
       ":   2Treatment\n",
       ":   1\n",
       "\n"
      ],
      "text/plain": [
       "  Control Treatment \n",
       "        2         1 "
      ]
     },
     "metadata": {},
     "output_type": "display_data"
    }
   ],
   "source": [
    "new_table['M',]"
   ]
  },
  {
   "cell_type": "code",
   "execution_count": 14,
   "id": "2ffe2635",
   "metadata": {},
   "outputs": [
    {
     "data": {
      "text/html": [
       "7"
      ],
      "text/latex": [
       "7"
      ],
      "text/markdown": [
       "7"
      ],
      "text/plain": [
       "[1] 7"
      ]
     },
     "metadata": {},
     "output_type": "display_data"
    }
   ],
   "source": [
    "length(group)"
   ]
  },
  {
   "cell_type": "code",
   "execution_count": 15,
   "id": "57f49d65",
   "metadata": {},
   "outputs": [
    {
     "data": {
      "text/plain": [
       "   group\n",
       "sex   Control Treatment\n",
       "  F 0.1428571 0.4285714\n",
       "  M 0.2857143 0.1428571"
      ]
     },
     "metadata": {},
     "output_type": "display_data"
    }
   ],
   "source": [
    "# Gives proportions\n",
    "new_table/length(group)"
   ]
  },
  {
   "cell_type": "code",
   "execution_count": 16,
   "id": "7aa4fac1",
   "metadata": {
    "scrolled": true
   },
   "outputs": [
    {
     "data": {
      "text/plain": [
       "   group\n",
       "sex   Control Treatment\n",
       "  F 0.1428571 0.4285714\n",
       "  M 0.2857143 0.1428571"
      ]
     },
     "metadata": {},
     "output_type": "display_data"
    }
   ],
   "source": [
    "# Another way to generate proportions\n",
    "new_table1 <- prop.table(new_table)\n",
    "new_table1"
   ]
  },
  {
   "cell_type": "markdown",
   "id": "370e5f5b",
   "metadata": {},
   "source": [
    "# Dataframes\n",
    "\n",
    "• Use for two-dimensional tables of data.\n",
    "\n",
    "• Like matrices (rows and columns structure) but each column can have a different mode (character, logical, numeric, ...).\n",
    "\n",
    "• Use for data that can be represented as observations or cases (rows) on variables (columns).\n",
    "\n",
    "• Can have row and column names.\n",
    "\n",
    "• Use data.frame() to create dataframes in R.\n",
    "\n",
    "• stringsAsFactors = TRUE, the default, turns character vectors into a factor variable.\n",
    "\n",
    "• Usually set stringsAsFactors = FALSE and set factors manually."
   ]
  },
  {
   "cell_type": "code",
   "execution_count": 17,
   "id": "b01a4268",
   "metadata": {
    "scrolled": true
   },
   "outputs": [
    {
     "data": {
      "text/html": [
       "<table>\n",
       "<thead><tr><th scope=col>Name</th><th scope=col>Year</th><th scope=col>Grade</th></tr></thead>\n",
       "<tbody>\n",
       "\t<tr><td>John </td><td>1    </td><td>B    </td></tr>\n",
       "\t<tr><td>Jill </td><td>1    </td><td>A+   </td></tr>\n",
       "\t<tr><td>Jacob</td><td>2    </td><td>B-   </td></tr>\n",
       "\t<tr><td>Jenny</td><td>4    </td><td>A    </td></tr>\n",
       "</tbody>\n",
       "</table>\n"
      ],
      "text/latex": [
       "\\begin{tabular}{r|lll}\n",
       " Name & Year & Grade\\\\\n",
       "\\hline\n",
       "\t John  & 1     & B    \\\\\n",
       "\t Jill  & 1     & A+   \\\\\n",
       "\t Jacob & 2     & B-   \\\\\n",
       "\t Jenny & 4     & A    \\\\\n",
       "\\end{tabular}\n"
      ],
      "text/markdown": [
       "\n",
       "| Name | Year | Grade |\n",
       "|---|---|---|\n",
       "| John  | 1     | B     |\n",
       "| Jill  | 1     | A+    |\n",
       "| Jacob | 2     | B-    |\n",
       "| Jenny | 4     | A     |\n",
       "\n"
      ],
      "text/plain": [
       "  Name  Year Grade\n",
       "1 John  1    B    \n",
       "2 Jill  1    A+   \n",
       "3 Jacob 2    B-   \n",
       "4 Jenny 4    A    "
      ]
     },
     "metadata": {},
     "output_type": "display_data"
    }
   ],
   "source": [
    "Name <- c(\"John\", \"Jill\", \"Jacob\", \"Jenny\")\n",
    "Year <- c(1,1,2,4)\n",
    "Grade <- c(\"B\", \"A+\", \"B-\", \"A\")\n",
    "student_data <- data.frame(Name, Year, Grade, stringsAsFactors = FALSE)\n",
    "\n",
    "student_data"
   ]
  },
  {
   "cell_type": "code",
   "execution_count": 18,
   "id": "ac37bf4d",
   "metadata": {},
   "outputs": [
    {
     "name": "stdout",
     "output_type": "stream",
     "text": [
      "'data.frame':\t4 obs. of  3 variables:\n",
      " $ Name : chr  \"John\" \"Jill\" \"Jacob\" \"Jenny\"\n",
      " $ Year : num  1 1 2 4\n",
      " $ Grade: chr  \"B\" \"A+\" \"B-\" \"A\"\n"
     ]
    }
   ],
   "source": [
    "str(student_data)"
   ]
  },
  {
   "cell_type": "code",
   "execution_count": 19,
   "id": "9a37ca8c",
   "metadata": {},
   "outputs": [
    {
     "data": {
      "text/plain": [
       "     Name                Year        Grade          \n",
       " Length:4           Min.   :1.0   Length:4          \n",
       " Class :character   1st Qu.:1.0   Class :character  \n",
       " Mode  :character   Median :1.5   Mode  :character  \n",
       "                    Mean   :2.0                     \n",
       "                    3rd Qu.:2.5                     \n",
       "                    Max.   :4.0                     "
      ]
     },
     "metadata": {},
     "output_type": "display_data"
    }
   ],
   "source": [
    "summary(student_data)"
   ]
  },
  {
   "cell_type": "code",
   "execution_count": 20,
   "id": "1cffdb0b",
   "metadata": {},
   "outputs": [
    {
     "data": {
      "text/html": [
       "<table>\n",
       "<thead><tr><th></th><th scope=col>Population</th><th scope=col>Income</th><th scope=col>Illiteracy</th><th scope=col>Life.Exp</th><th scope=col>Murder</th><th scope=col>HS.Grad</th><th scope=col>Frost</th><th scope=col>Area</th><th scope=col>Region</th><th scope=col>Abbr</th></tr></thead>\n",
       "<tbody>\n",
       "\t<tr><th scope=row>Alabama</th><td>3615  </td><td>3624  </td><td>2.1   </td><td>69.05 </td><td>15.1  </td><td>41.3  </td><td> 20   </td><td> 50708</td><td>South </td><td>AL    </td></tr>\n",
       "\t<tr><th scope=row>Alaska</th><td> 365  </td><td>6315  </td><td>1.5   </td><td>69.31 </td><td>11.3  </td><td>66.7  </td><td>152   </td><td>566432</td><td>West  </td><td>AK    </td></tr>\n",
       "</tbody>\n",
       "</table>\n"
      ],
      "text/latex": [
       "\\begin{tabular}{r|llllllllll}\n",
       "  & Population & Income & Illiteracy & Life.Exp & Murder & HS.Grad & Frost & Area & Region & Abbr\\\\\n",
       "\\hline\n",
       "\tAlabama & 3615   & 3624   & 2.1    & 69.05  & 15.1   & 41.3   &  20    &  50708 & South  & AL    \\\\\n",
       "\tAlaska &  365   & 6315   & 1.5    & 69.31  & 11.3   & 66.7   & 152    & 566432 & West   & AK    \\\\\n",
       "\\end{tabular}\n"
      ],
      "text/markdown": [
       "\n",
       "| <!--/--> | Population | Income | Illiteracy | Life.Exp | Murder | HS.Grad | Frost | Area | Region | Abbr |\n",
       "|---|---|---|---|---|---|---|---|---|---|---|\n",
       "| Alabama | 3615   | 3624   | 2.1    | 69.05  | 15.1   | 41.3   |  20    |  50708 | South  | AL     |\n",
       "| Alaska |  365   | 6315   | 1.5    | 69.31  | 11.3   | 66.7   | 152    | 566432 | West   | AK     |\n",
       "\n"
      ],
      "text/plain": [
       "        Population Income Illiteracy Life.Exp Murder HS.Grad Frost Area  \n",
       "Alabama 3615       3624   2.1        69.05    15.1   41.3     20    50708\n",
       "Alaska   365       6315   1.5        69.31    11.3   66.7    152   566432\n",
       "        Region Abbr\n",
       "Alabama South  AL  \n",
       "Alaska  West   AK  "
      ]
     },
     "metadata": {},
     "output_type": "display_data"
    }
   ],
   "source": [
    "library(datasets)\n",
    "states <- data.frame(state.x77, Region = state.region, Abbr = state.abb)\n",
    "head(states, 2)"
   ]
  },
  {
   "cell_type": "markdown",
   "id": "74ccb42e",
   "metadata": {},
   "source": [
    "## Accessing Dataframes"
   ]
  },
  {
   "cell_type": "code",
   "execution_count": 21,
   "id": "e608b2bb",
   "metadata": {},
   "outputs": [
    {
     "data": {
      "text/html": [
       "<table>\n",
       "<thead><tr><th scope=col>Name</th><th scope=col>Year</th><th scope=col>Grade</th></tr></thead>\n",
       "<tbody>\n",
       "\t<tr><td>John </td><td>1    </td><td>B    </td></tr>\n",
       "\t<tr><td>Jill </td><td>1    </td><td>A+   </td></tr>\n",
       "\t<tr><td>Jacob</td><td>2    </td><td>B-   </td></tr>\n",
       "\t<tr><td>Jenny</td><td>4    </td><td>A    </td></tr>\n",
       "</tbody>\n",
       "</table>\n"
      ],
      "text/latex": [
       "\\begin{tabular}{r|lll}\n",
       " Name & Year & Grade\\\\\n",
       "\\hline\n",
       "\t John  & 1     & B    \\\\\n",
       "\t Jill  & 1     & A+   \\\\\n",
       "\t Jacob & 2     & B-   \\\\\n",
       "\t Jenny & 4     & A    \\\\\n",
       "\\end{tabular}\n"
      ],
      "text/markdown": [
       "\n",
       "| Name | Year | Grade |\n",
       "|---|---|---|\n",
       "| John  | 1     | B     |\n",
       "| Jill  | 1     | A+    |\n",
       "| Jacob | 2     | B-    |\n",
       "| Jenny | 4     | A     |\n",
       "\n"
      ],
      "text/plain": [
       "  Name  Year Grade\n",
       "1 John  1    B    \n",
       "2 Jill  1    A+   \n",
       "3 Jacob 2    B-   \n",
       "4 Jenny 4    A    "
      ]
     },
     "metadata": {},
     "output_type": "display_data"
    }
   ],
   "source": [
    "student_data"
   ]
  },
  {
   "cell_type": "code",
   "execution_count": 22,
   "id": "81a26abd",
   "metadata": {},
   "outputs": [
    {
     "data": {
      "text/html": [
       "<table>\n",
       "<thead><tr><th></th><th scope=col>Name</th><th scope=col>Year</th><th scope=col>Grade</th></tr></thead>\n",
       "<tbody>\n",
       "\t<tr><th scope=row>3</th><td>Jacob</td><td>2    </td><td>B-   </td></tr>\n",
       "\t<tr><th scope=row>4</th><td>Jenny</td><td>4    </td><td>A    </td></tr>\n",
       "</tbody>\n",
       "</table>\n"
      ],
      "text/latex": [
       "\\begin{tabular}{r|lll}\n",
       "  & Name & Year & Grade\\\\\n",
       "\\hline\n",
       "\t3 & Jacob & 2     & B-   \\\\\n",
       "\t4 & Jenny & 4     & A    \\\\\n",
       "\\end{tabular}\n"
      ],
      "text/markdown": [
       "\n",
       "| <!--/--> | Name | Year | Grade |\n",
       "|---|---|---|---|\n",
       "| 3 | Jacob | 2     | B-    |\n",
       "| 4 | Jenny | 4     | A     |\n",
       "\n"
      ],
      "text/plain": [
       "  Name  Year Grade\n",
       "3 Jacob 2    B-   \n",
       "4 Jenny 4    A    "
      ]
     },
     "metadata": {},
     "output_type": "display_data"
    }
   ],
   "source": [
    "student_data[3:4,]"
   ]
  },
  {
   "cell_type": "code",
   "execution_count": 23,
   "id": "cb8ab392",
   "metadata": {},
   "outputs": [
    {
     "data": {
      "text/html": [
       "<ol class=list-inline>\n",
       "\t<li>'B'</li>\n",
       "\t<li>'A+'</li>\n",
       "\t<li>'B-'</li>\n",
       "\t<li>'A'</li>\n",
       "</ol>\n"
      ],
      "text/latex": [
       "\\begin{enumerate*}\n",
       "\\item 'B'\n",
       "\\item 'A+'\n",
       "\\item 'B-'\n",
       "\\item 'A'\n",
       "\\end{enumerate*}\n"
      ],
      "text/markdown": [
       "1. 'B'\n",
       "2. 'A+'\n",
       "3. 'B-'\n",
       "4. 'A'\n",
       "\n",
       "\n"
      ],
      "text/plain": [
       "[1] \"B\"  \"A+\" \"B-\" \"A\" "
      ]
     },
     "metadata": {},
     "output_type": "display_data"
    },
    {
     "name": "stdout",
     "output_type": "stream",
     "text": [
      "[1] \"character\"\n"
     ]
    }
   ],
   "source": [
    "student_data$Grade\n",
    "print(typeof(student_data$Grade))"
   ]
  },
  {
   "cell_type": "code",
   "execution_count": 24,
   "id": "d1cf4d2a",
   "metadata": {},
   "outputs": [
    {
     "data": {
      "text/html": [
       "<table>\n",
       "<thead><tr><th scope=col>Grade</th></tr></thead>\n",
       "<tbody>\n",
       "\t<tr><td>B </td></tr>\n",
       "\t<tr><td>A+</td></tr>\n",
       "\t<tr><td>B-</td></tr>\n",
       "\t<tr><td>A </td></tr>\n",
       "</tbody>\n",
       "</table>\n"
      ],
      "text/latex": [
       "\\begin{tabular}{r|l}\n",
       " Grade\\\\\n",
       "\\hline\n",
       "\t B \\\\\n",
       "\t A+\\\\\n",
       "\t B-\\\\\n",
       "\t A \\\\\n",
       "\\end{tabular}\n"
      ],
      "text/markdown": [
       "\n",
       "| Grade |\n",
       "|---|\n",
       "| B  |\n",
       "| A+ |\n",
       "| B- |\n",
       "| A  |\n",
       "\n"
      ],
      "text/plain": [
       "  Grade\n",
       "1 B    \n",
       "2 A+   \n",
       "3 B-   \n",
       "4 A    "
      ]
     },
     "metadata": {},
     "output_type": "display_data"
    },
    {
     "name": "stdout",
     "output_type": "stream",
     "text": [
      "[1] \"list\"\n"
     ]
    }
   ],
   "source": [
    "# The column data can also be accessed by using the same method in Python, however, \n",
    "# this will return a list\n",
    "\n",
    "student_data['Grade']\n",
    "print(typeof(student_data['Grade']))"
   ]
  },
  {
   "cell_type": "code",
   "execution_count": 25,
   "id": "3337251a",
   "metadata": {},
   "outputs": [
    {
     "data": {
      "text/html": [
       "<table>\n",
       "<thead><tr><th></th><th scope=col>Population</th><th scope=col>Income</th><th scope=col>Illiteracy</th><th scope=col>Life.Exp</th><th scope=col>Murder</th><th scope=col>HS.Grad</th><th scope=col>Frost</th><th scope=col>Area</th><th scope=col>Region</th><th scope=col>Abbr</th></tr></thead>\n",
       "<tbody>\n",
       "\t<tr><th scope=row>New York</th><td>18076    </td><td>4903     </td><td>1.4      </td><td>70.55    </td><td>10.9     </td><td>52.7     </td><td>82       </td><td>47831    </td><td>Northeast</td><td>NY       </td></tr>\n",
       "</tbody>\n",
       "</table>\n"
      ],
      "text/latex": [
       "\\begin{tabular}{r|llllllllll}\n",
       "  & Population & Income & Illiteracy & Life.Exp & Murder & HS.Grad & Frost & Area & Region & Abbr\\\\\n",
       "\\hline\n",
       "\tNew York & 18076     & 4903      & 1.4       & 70.55     & 10.9      & 52.7      & 82        & 47831     & Northeast & NY       \\\\\n",
       "\\end{tabular}\n"
      ],
      "text/markdown": [
       "\n",
       "| <!--/--> | Population | Income | Illiteracy | Life.Exp | Murder | HS.Grad | Frost | Area | Region | Abbr |\n",
       "|---|---|---|---|---|---|---|---|---|---|---|\n",
       "| New York | 18076     | 4903      | 1.4       | 70.55     | 10.9      | 52.7      | 82        | 47831     | Northeast | NY        |\n",
       "\n"
      ],
      "text/plain": [
       "         Population Income Illiteracy Life.Exp Murder HS.Grad Frost Area \n",
       "New York 18076      4903   1.4        70.55    10.9   52.7    82    47831\n",
       "         Region    Abbr\n",
       "New York Northeast NY  "
      ]
     },
     "metadata": {},
     "output_type": "display_data"
    }
   ],
   "source": [
    "# Can also use rownames\n",
    "states[\"New York\", ]"
   ]
  },
  {
   "cell_type": "markdown",
   "id": "05a01dbe",
   "metadata": {},
   "source": [
    "## Filtering Dataframes"
   ]
  },
  {
   "cell_type": "code",
   "execution_count": 26,
   "id": "de474c20",
   "metadata": {},
   "outputs": [
    {
     "data": {
      "text/html": [
       "<table>\n",
       "<thead><tr><th scope=col>Name</th><th scope=col>Year</th><th scope=col>Grade</th></tr></thead>\n",
       "<tbody>\n",
       "\t<tr><td>John </td><td>1    </td><td>B    </td></tr>\n",
       "\t<tr><td>Jill </td><td>1    </td><td>A+   </td></tr>\n",
       "\t<tr><td>Jacob</td><td>2    </td><td>B-   </td></tr>\n",
       "\t<tr><td>Jenny</td><td>4    </td><td>A    </td></tr>\n",
       "</tbody>\n",
       "</table>\n"
      ],
      "text/latex": [
       "\\begin{tabular}{r|lll}\n",
       " Name & Year & Grade\\\\\n",
       "\\hline\n",
       "\t John  & 1     & B    \\\\\n",
       "\t Jill  & 1     & A+   \\\\\n",
       "\t Jacob & 2     & B-   \\\\\n",
       "\t Jenny & 4     & A    \\\\\n",
       "\\end{tabular}\n"
      ],
      "text/markdown": [
       "\n",
       "| Name | Year | Grade |\n",
       "|---|---|---|\n",
       "| John  | 1     | B     |\n",
       "| Jill  | 1     | A+    |\n",
       "| Jacob | 2     | B-    |\n",
       "| Jenny | 4     | A     |\n",
       "\n"
      ],
      "text/plain": [
       "  Name  Year Grade\n",
       "1 John  1    B    \n",
       "2 Jill  1    A+   \n",
       "3 Jacob 2    B-   \n",
       "4 Jenny 4    A    "
      ]
     },
     "metadata": {},
     "output_type": "display_data"
    }
   ],
   "source": [
    "student_data"
   ]
  },
  {
   "cell_type": "code",
   "execution_count": 27,
   "id": "b9793205",
   "metadata": {},
   "outputs": [
    {
     "data": {
      "text/html": [
       "<table>\n",
       "<thead><tr><th></th><th scope=col>Name</th><th scope=col>Year</th><th scope=col>Grade</th></tr></thead>\n",
       "<tbody>\n",
       "\t<tr><th scope=row>2</th><td>Jill</td><td>1   </td><td>A+  </td></tr>\n",
       "</tbody>\n",
       "</table>\n"
      ],
      "text/latex": [
       "\\begin{tabular}{r|lll}\n",
       "  & Name & Year & Grade\\\\\n",
       "\\hline\n",
       "\t2 & Jill & 1    & A+  \\\\\n",
       "\\end{tabular}\n"
      ],
      "text/markdown": [
       "\n",
       "| <!--/--> | Name | Year | Grade |\n",
       "|---|---|---|---|\n",
       "| 2 | Jill | 1    | A+   |\n",
       "\n"
      ],
      "text/plain": [
       "  Name Year Grade\n",
       "2 Jill 1    A+   "
      ]
     },
     "metadata": {},
     "output_type": "display_data"
    }
   ],
   "source": [
    "student_data[student_data$Grade == \"A+\", ]"
   ]
  },
  {
   "cell_type": "code",
   "execution_count": 28,
   "id": "8721222a",
   "metadata": {
    "scrolled": true
   },
   "outputs": [
    {
     "data": {
      "text/html": [
       "<table>\n",
       "<thead><tr><th></th><th scope=col>Name</th><th scope=col>Year</th><th scope=col>Grade</th></tr></thead>\n",
       "<tbody>\n",
       "\t<tr><th scope=row>2</th><td>Jill</td><td>1   </td><td>A+  </td></tr>\n",
       "</tbody>\n",
       "</table>\n"
      ],
      "text/latex": [
       "\\begin{tabular}{r|lll}\n",
       "  & Name & Year & Grade\\\\\n",
       "\\hline\n",
       "\t2 & Jill & 1    & A+  \\\\\n",
       "\\end{tabular}\n"
      ],
      "text/markdown": [
       "\n",
       "| <!--/--> | Name | Year | Grade |\n",
       "|---|---|---|---|\n",
       "| 2 | Jill | 1    | A+   |\n",
       "\n"
      ],
      "text/plain": [
       "  Name Year Grade\n",
       "2 Jill 1    A+   "
      ]
     },
     "metadata": {},
     "output_type": "display_data"
    }
   ],
   "source": [
    "# Using the which() function can also achieve the same goal.\n",
    "student_data[which(student_data$Grade == 'A+'),]"
   ]
  },
  {
   "cell_type": "code",
   "execution_count": 29,
   "id": "5077f130",
   "metadata": {},
   "outputs": [
    {
     "data": {
      "text/html": [
       "<table>\n",
       "<thead><tr><th scope=col>Name</th><th scope=col>Year</th><th scope=col>Grade</th></tr></thead>\n",
       "<tbody>\n",
       "\t<tr><td>John </td><td>1    </td><td>B    </td></tr>\n",
       "\t<tr><td>Jill </td><td>1    </td><td>A+   </td></tr>\n",
       "\t<tr><td>Jacob</td><td>2    </td><td>B-   </td></tr>\n",
       "</tbody>\n",
       "</table>\n"
      ],
      "text/latex": [
       "\\begin{tabular}{r|lll}\n",
       " Name & Year & Grade\\\\\n",
       "\\hline\n",
       "\t John  & 1     & B    \\\\\n",
       "\t Jill  & 1     & A+   \\\\\n",
       "\t Jacob & 2     & B-   \\\\\n",
       "\\end{tabular}\n"
      ],
      "text/markdown": [
       "\n",
       "| Name | Year | Grade |\n",
       "|---|---|---|\n",
       "| John  | 1     | B     |\n",
       "| Jill  | 1     | A+    |\n",
       "| Jacob | 2     | B-    |\n",
       "\n"
      ],
      "text/plain": [
       "  Name  Year Grade\n",
       "1 John  1    B    \n",
       "2 Jill  1    A+   \n",
       "3 Jacob 2    B-   "
      ]
     },
     "metadata": {},
     "output_type": "display_data"
    }
   ],
   "source": [
    "student_data[student_data$Year <= 2, ]"
   ]
  },
  {
   "cell_type": "code",
   "execution_count": 30,
   "id": "da879b6c",
   "metadata": {},
   "outputs": [
    {
     "data": {
      "text/html": [
       "<ol class=list-inline>\n",
       "\t<li>3100</li>\n",
       "\t<li>1058</li>\n",
       "\t<li>5814</li>\n",
       "\t<li>812</li>\n",
       "\t<li>7333</li>\n",
       "\t<li>18076</li>\n",
       "\t<li>11860</li>\n",
       "\t<li>931</li>\n",
       "\t<li>472</li>\n",
       "</ol>\n"
      ],
      "text/latex": [
       "\\begin{enumerate*}\n",
       "\\item 3100\n",
       "\\item 1058\n",
       "\\item 5814\n",
       "\\item 812\n",
       "\\item 7333\n",
       "\\item 18076\n",
       "\\item 11860\n",
       "\\item 931\n",
       "\\item 472\n",
       "\\end{enumerate*}\n"
      ],
      "text/markdown": [
       "1. 3100\n",
       "2. 1058\n",
       "3. 5814\n",
       "4. 812\n",
       "5. 7333\n",
       "6. 18076\n",
       "7. 11860\n",
       "8. 931\n",
       "9. 472\n",
       "\n",
       "\n"
      ],
      "text/plain": [
       "[1]  3100  1058  5814   812  7333 18076 11860   931   472"
      ]
     },
     "metadata": {},
     "output_type": "display_data"
    }
   ],
   "source": [
    "states[states$Region == \"Northeast\", \"Population\"]"
   ]
  },
  {
   "cell_type": "markdown",
   "id": "d9df6ca9",
   "metadata": {},
   "source": [
    "## Adding Rows and Columns to Dataframes"
   ]
  },
  {
   "cell_type": "code",
   "execution_count": 31,
   "id": "9a6a00dc",
   "metadata": {},
   "outputs": [
    {
     "data": {
      "text/html": [
       "<table>\n",
       "<thead><tr><th scope=col>Name</th><th scope=col>Year</th><th scope=col>Grade</th></tr></thead>\n",
       "<tbody>\n",
       "\t<tr><td>John </td><td>1    </td><td>B    </td></tr>\n",
       "\t<tr><td>Jill </td><td>1    </td><td>A+   </td></tr>\n",
       "\t<tr><td>Jacob</td><td>2    </td><td>B-   </td></tr>\n",
       "\t<tr><td>Jenny</td><td>4    </td><td>A    </td></tr>\n",
       "\t<tr><td>Bobby</td><td>3    </td><td>A    </td></tr>\n",
       "</tbody>\n",
       "</table>\n"
      ],
      "text/latex": [
       "\\begin{tabular}{r|lll}\n",
       " Name & Year & Grade\\\\\n",
       "\\hline\n",
       "\t John  & 1     & B    \\\\\n",
       "\t Jill  & 1     & A+   \\\\\n",
       "\t Jacob & 2     & B-   \\\\\n",
       "\t Jenny & 4     & A    \\\\\n",
       "\t Bobby & 3     & A    \\\\\n",
       "\\end{tabular}\n"
      ],
      "text/markdown": [
       "\n",
       "| Name | Year | Grade |\n",
       "|---|---|---|\n",
       "| John  | 1     | B     |\n",
       "| Jill  | 1     | A+    |\n",
       "| Jacob | 2     | B-    |\n",
       "| Jenny | 4     | A     |\n",
       "| Bobby | 3     | A     |\n",
       "\n"
      ],
      "text/plain": [
       "  Name  Year Grade\n",
       "1 John  1    B    \n",
       "2 Jill  1    A+   \n",
       "3 Jacob 2    B-   \n",
       "4 Jenny 4    A    \n",
       "5 Bobby 3    A    "
      ]
     },
     "metadata": {},
     "output_type": "display_data"
    }
   ],
   "source": [
    "new_stu <- data.frame(Name=\"Bobby\", Year=3, Grade=\"A\")\n",
    "student_data <- rbind(student_data, new_stu)\n",
    "student_data"
   ]
  },
  {
   "cell_type": "code",
   "execution_count": 32,
   "id": "a77de161",
   "metadata": {},
   "outputs": [
    {
     "data": {
      "text/html": [
       "<table>\n",
       "<thead><tr><th scope=col>Name</th><th scope=col>Year</th><th scope=col>Grade</th><th scope=col>School</th></tr></thead>\n",
       "<tbody>\n",
       "\t<tr><td>John    </td><td>1       </td><td>B       </td><td>Columbia</td></tr>\n",
       "\t<tr><td>Jill    </td><td>1       </td><td>A+      </td><td>Columbia</td></tr>\n",
       "\t<tr><td>Jacob   </td><td>2       </td><td>B-      </td><td>Columbia</td></tr>\n",
       "\t<tr><td>Jenny   </td><td>4       </td><td>A       </td><td>Columbia</td></tr>\n",
       "\t<tr><td>Bobby   </td><td>3       </td><td>A       </td><td>Columbia</td></tr>\n",
       "</tbody>\n",
       "</table>\n"
      ],
      "text/latex": [
       "\\begin{tabular}{r|llll}\n",
       " Name & Year & Grade & School\\\\\n",
       "\\hline\n",
       "\t John     & 1        & B        & Columbia\\\\\n",
       "\t Jill     & 1        & A+       & Columbia\\\\\n",
       "\t Jacob    & 2        & B-       & Columbia\\\\\n",
       "\t Jenny    & 4        & A        & Columbia\\\\\n",
       "\t Bobby    & 3        & A        & Columbia\\\\\n",
       "\\end{tabular}\n"
      ],
      "text/markdown": [
       "\n",
       "| Name | Year | Grade | School |\n",
       "|---|---|---|---|\n",
       "| John     | 1        | B        | Columbia |\n",
       "| Jill     | 1        | A+       | Columbia |\n",
       "| Jacob    | 2        | B-       | Columbia |\n",
       "| Jenny    | 4        | A        | Columbia |\n",
       "| Bobby    | 3        | A        | Columbia |\n",
       "\n"
      ],
      "text/plain": [
       "  Name  Year Grade School  \n",
       "1 John  1    B     Columbia\n",
       "2 Jill  1    A+    Columbia\n",
       "3 Jacob 2    B-    Columbia\n",
       "4 Jenny 4    A     Columbia\n",
       "5 Bobby 3    A     Columbia"
      ]
     },
     "metadata": {},
     "output_type": "display_data"
    }
   ],
   "source": [
    "student_data$School <- \"Columbia\"\n",
    "student_data"
   ]
  },
  {
   "cell_type": "code",
   "execution_count": 33,
   "id": "d56ffefd",
   "metadata": {},
   "outputs": [
    {
     "data": {
      "text/html": [
       "<table>\n",
       "<thead><tr><th scope=col>Name</th><th scope=col>Year</th><th scope=col>Grade</th><th scope=col>School</th><th scope=col>Program</th></tr></thead>\n",
       "<tbody>\n",
       "\t<tr><td>John      </td><td>1         </td><td>B         </td><td>Columbia  </td><td>Statistics</td></tr>\n",
       "\t<tr><td>Jill      </td><td>1         </td><td>A+        </td><td>Columbia  </td><td>Statistics</td></tr>\n",
       "\t<tr><td>Jacob     </td><td>2         </td><td>B-        </td><td>Columbia  </td><td>Statistics</td></tr>\n",
       "\t<tr><td>Jenny     </td><td>4         </td><td>A         </td><td>Columbia  </td><td>Statistics</td></tr>\n",
       "\t<tr><td>Bobby     </td><td>3         </td><td>A         </td><td>Columbia  </td><td>Statistics</td></tr>\n",
       "</tbody>\n",
       "</table>\n"
      ],
      "text/latex": [
       "\\begin{tabular}{r|lllll}\n",
       " Name & Year & Grade & School & Program\\\\\n",
       "\\hline\n",
       "\t John       & 1          & B          & Columbia   & Statistics\\\\\n",
       "\t Jill       & 1          & A+         & Columbia   & Statistics\\\\\n",
       "\t Jacob      & 2          & B-         & Columbia   & Statistics\\\\\n",
       "\t Jenny      & 4          & A          & Columbia   & Statistics\\\\\n",
       "\t Bobby      & 3          & A          & Columbia   & Statistics\\\\\n",
       "\\end{tabular}\n"
      ],
      "text/markdown": [
       "\n",
       "| Name | Year | Grade | School | Program |\n",
       "|---|---|---|---|---|\n",
       "| John       | 1          | B          | Columbia   | Statistics |\n",
       "| Jill       | 1          | A+         | Columbia   | Statistics |\n",
       "| Jacob      | 2          | B-         | Columbia   | Statistics |\n",
       "| Jenny      | 4          | A          | Columbia   | Statistics |\n",
       "| Bobby      | 3          | A          | Columbia   | Statistics |\n",
       "\n"
      ],
      "text/plain": [
       "  Name  Year Grade School   Program   \n",
       "1 John  1    B     Columbia Statistics\n",
       "2 Jill  1    A+    Columbia Statistics\n",
       "3 Jacob 2    B-    Columbia Statistics\n",
       "4 Jenny 4    A     Columbia Statistics\n",
       "5 Bobby 3    A     Columbia Statistics"
      ]
     },
     "metadata": {},
     "output_type": "display_data"
    }
   ],
   "source": [
    "# We can add columns to Dataframes by using the same  method as in Python.\n",
    "student_data['Program'] <- 'Statistics'\n",
    "student_data"
   ]
  }
 ],
 "metadata": {
  "kernelspec": {
   "display_name": "R",
   "language": "R",
   "name": "ir"
  },
  "language_info": {
   "codemirror_mode": "r",
   "file_extension": ".r",
   "mimetype": "text/x-r-source",
   "name": "R",
   "pygments_lexer": "r",
   "version": "3.6.1"
  }
 },
 "nbformat": 4,
 "nbformat_minor": 5
}
