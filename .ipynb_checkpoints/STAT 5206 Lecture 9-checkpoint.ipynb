{
 "cells": [
  {
   "cell_type": "markdown",
   "id": "4405aa21",
   "metadata": {},
   "source": [
    "# Lecture 9: Basic Introduction to Tidyverse\n",
    "The tidyverse is an opinionated collection of R packages designed for data science. All packages share an underlying philosophy and common APIs.\n",
    "\n",
    "## Tidyverse\n",
    "* dplyr: data manipulation\n",
    "* ggplot2: creating advanced graphics\n",
    "* readr: importing data\n",
    "* tibble: A tibble, or tbl_df, is a modern reimagining of the dataframe.\n",
    "* tidyr: creating tidy data.\n",
    "* purrr: enhancing R’s functional programming (FP).\n",
    "\n",
    "### tidyverse and a few other topics\n",
    "* readr: 使import数据更快且更节省内存\n",
    "* tibble: tibble是重塑dataframe的新方法\n",
    "* data.table: 处理极大的数据集 (not assessed)\n",
    "* Review of the Split/Apply/Combine model and the plyr package\n",
    "* purrr: 提高了R的函数式编程能力(funcitonal programming, FP)\n",
    "\n",
    "* stringr: 处理字符串更统一的(cohesive)操作\n",
    "* rvest: 网络爬虫(webscraping)的替代方法(not assessed)\n",
    "* reshape2: Reshape the data(next tidy slides)\n",
    "* tidyr: 数据清洗 (next tidy slides)\n",
    "\n",
    "### Why use the tidyverse?\n",
    "tidyverse中的所有库和函数都是为了满足以下两个目的：\n",
    "1. 提供实现Base R函数的更快更高效的方法。\n",
    "2. 语法更规整简单"
   ]
  },
  {
   "cell_type": "markdown",
   "id": "fdf54f4a",
   "metadata": {},
   "source": [
    "# Section 1: Importing Data with Base R, readr, and fread\n",
    "\n",
    "## readr\n",
    "* tidyverse的一部分，比起Base R，readr拥有读取表格式(tabular)数据更快的框架。\n",
    "* readr函数使用下划线而并非句号。\n",
    "* 比起Base R，readr能够读写更多的文件类型。\n",
    "* 可以读取非表格式数据。\n",
    "\n",
    "## fread\n",
    "* fread并非是tidyverse的一部分，却是data.table package的一部分。但它的速度比Base R与readr显著更快。data.table越来越受欢迎。"
   ]
  },
  {
   "cell_type": "code",
   "execution_count": 1,
   "id": "8243a722",
   "metadata": {},
   "outputs": [],
   "source": [
    "options(warn = -1)\n",
    "library(rbenchmark)\n",
    "library(readr)\n",
    "library(data.table)\n",
    "# options(readr.num_columns=0)\n",
    "#\n",
    "# benchmark(\"base R\" = {\n",
    "#     df <- read.csv(\"diamonds.csv\")},\n",
    "#         \"readr\" = {\n",
    "#     df <- read_csv(\"diamonds.csv\")},\n",
    "#         \"fread\" = {\n",
    "#     df <- fread(\"diamonds.csv\")},\n",
    "#   columns=c(\"test\",\"elapsed\"), order=\"elapsed\")\n",
    "df <- fread(\"diamonds.csv\")"
   ]
  },
  {
   "cell_type": "markdown",
   "id": "d0cd4c4f",
   "metadata": {},
   "source": [
    "## Other readr functions\n",
    "### read_tsv `read_tsv(\"file.tsv\")`\n",
    "\n",
    "    读取不被Base R支持的数据类型，例如tab-separated values。\n",
    "\n",
    "### write_excel_csv `write_excel_csv(df,\"diamonds.csv\")`\n",
    "\n",
    "    readr的`write.csv()`函数。比Base R的`write.csv()`快一倍。\n",
    "\n",
    "\n",
    "### read_lines `read_lines(\"file.txt\")`\n",
    "\n",
    "    readr也可以支持非表格式数据(non-tabular data)，`read_lines`使文件的每一行分别被读取为其字符串形式。"
   ]
  },
  {
   "cell_type": "markdown",
   "id": "4f7d1e87",
   "metadata": {},
   "source": [
    "# Section 2: Piping with magrittr\n",
    "\n",
    "### Piping是什么？\n",
    "* magrittr package提供了R语言中最广泛使用的函数:`%>%`，也称作\"Pipe\"。\n",
    "\n",
    "\n",
    "* 在许多个函数嵌套中执行某个操作常常使代码变得难以理解，尤其是从内而外地理解代码的意思。Pipe通过使函数按照它们执行的顺序排列，使代码更具有可读性。\n",
    "\n",
    "\n",
    "* magrittr package在大多数tidyverse package中都会被自动加载。\n",
    "\n",
    "### Example: \n",
    "Suppose we wished to know the slope obtained from regressing a\n",
    "diamond's carat on its price, rounded to 3 decimal places."
   ]
  },
  {
   "cell_type": "code",
   "execution_count": 2,
   "id": "22d94c6f",
   "metadata": {},
   "outputs": [
    {
     "data": {
      "text/html": [
       "<strong>carat:</strong> 7756.426"
      ],
      "text/latex": [
       "\\textbf{carat:} 7756.426"
      ],
      "text/markdown": [
       "**carat:** 7756.426"
      ],
      "text/plain": [
       "   carat \n",
       "7756.426 "
      ]
     },
     "metadata": {},
     "output_type": "display_data"
    }
   ],
   "source": [
    "round(coefficients(lm(price~carat, data = df))[2], 3)"
   ]
  },
  {
   "cell_type": "markdown",
   "id": "0b987dd7",
   "metadata": {},
   "source": [
    "注意到最后执行的操作是round，而这却是我们最先看到的函数。lm()是率先执行的函数，却写在代码的最里面。"
   ]
  },
  {
   "cell_type": "code",
   "execution_count": 3,
   "id": "1e5ee320",
   "metadata": {},
   "outputs": [
    {
     "data": {
      "text/html": [
       "<strong>carat:</strong> 7756.426"
      ],
      "text/latex": [
       "\\textbf{carat:} 7756.426"
      ],
      "text/markdown": [
       "**carat:** 7756.426"
      ],
      "text/plain": [
       "   carat \n",
       "7756.426 "
      ]
     },
     "metadata": {},
     "output_type": "display_data"
    }
   ],
   "source": [
    "#Alternative using the pipe\n",
    "\n",
    "library(magrittr)\n",
    "df %>% lm(price~carat,.) %>% coefficients() %>% extract(2) %>%round(3)"
   ]
  },
  {
   "cell_type": "markdown",
   "id": "f90409de",
   "metadata": {},
   "source": [
    "默认地，传入的object会从左向右地被传递给函数，就像上个例子一样。如果想要object在别的地方取值，可以使用.来表示需要被取值的地方。\n",
    "\n",
    "在magrittr中有一些特殊的表达符号以表示原有的符号，例如extract(1)等价于[1]，来表示提取vector的第一个元素。"
   ]
  },
  {
   "cell_type": "markdown",
   "id": "5c09b8a6",
   "metadata": {},
   "source": [
    "# Section 3: Dataframes: tibble and data.table\n",
    "\n",
    "## tibble\n",
    "* tibble是tidyverse表达dataframe的形式，这属于dplyr package。\n",
    "* tibble和dataframe存在两个主要区别，printing和subsetting。\n",
    "* 将传统的dataframe转换为一个tibble使用as_tibble()。\n",
    "* tibble()不会改变输入的数据类型，例如，它不会将字符串转换为factors。\n",
    "* tibble()不会改变变量名称。\n",
    "* tibble()不会创建row names。\n",
    "* tibble的行名可以包含R语言中禁止使用的变量名称，例如`:)`和`  `"
   ]
  },
  {
   "cell_type": "code",
   "execution_count": 4,
   "id": "34a19ffc",
   "metadata": {},
   "outputs": [],
   "source": [
    "library(\"tibble\")"
   ]
  },
  {
   "cell_type": "code",
   "execution_count": 5,
   "id": "7909dd09",
   "metadata": {},
   "outputs": [],
   "source": [
    "# Create a tibble dataframe from scratch using tibble()\n",
    "\n",
    "df <- tibble(\n",
    "    x = 1:3,\n",
    "    y = sample(seq(1,5,by=2), 3),\n",
    "    z = rnorm(3)\n",
    ")"
   ]
  },
  {
   "cell_type": "code",
   "execution_count": 6,
   "id": "652eb9e1",
   "metadata": {},
   "outputs": [
    {
     "data": {
      "text/html": [
       "<table>\n",
       "<thead><tr><th scope=col>x</th><th scope=col>y</th><th scope=col>z</th></tr></thead>\n",
       "<tbody>\n",
       "\t<tr><td>1         </td><td>3         </td><td>-2.4825905</td></tr>\n",
       "\t<tr><td>2         </td><td>5         </td><td>-1.2503879</td></tr>\n",
       "\t<tr><td>3         </td><td>1         </td><td>-0.8823656</td></tr>\n",
       "</tbody>\n",
       "</table>\n"
      ],
      "text/latex": [
       "\\begin{tabular}{r|lll}\n",
       " x & y & z\\\\\n",
       "\\hline\n",
       "\t 1          & 3          & -2.4825905\\\\\n",
       "\t 2          & 5          & -1.2503879\\\\\n",
       "\t 3          & 1          & -0.8823656\\\\\n",
       "\\end{tabular}\n"
      ],
      "text/markdown": [
       "\n",
       "| x | y | z |\n",
       "|---|---|---|\n",
       "| 1          | 3          | -2.4825905 |\n",
       "| 2          | 5          | -1.2503879 |\n",
       "| 3          | 1          | -0.8823656 |\n",
       "\n"
      ],
      "text/plain": [
       "  x y z         \n",
       "1 1 3 -2.4825905\n",
       "2 2 5 -1.2503879\n",
       "3 3 1 -0.8823656"
      ]
     },
     "metadata": {},
     "output_type": "display_data"
    }
   ],
   "source": [
    "df"
   ]
  },
  {
   "cell_type": "code",
   "execution_count": 7,
   "id": "a5a1f6ad",
   "metadata": {},
   "outputs": [
    {
     "data": {
      "text/html": [
       "<table>\n",
       "<thead><tr><th scope=col>Sepal.Length</th><th scope=col>Sepal.Width</th><th scope=col>Petal.Length</th><th scope=col>Petal.Width</th><th scope=col>Species</th></tr></thead>\n",
       "<tbody>\n",
       "\t<tr><td>5.1   </td><td>3.5   </td><td>1.4   </td><td>0.2   </td><td>setosa</td></tr>\n",
       "\t<tr><td>4.9   </td><td>3.0   </td><td>1.4   </td><td>0.2   </td><td>setosa</td></tr>\n",
       "\t<tr><td>4.7   </td><td>3.2   </td><td>1.3   </td><td>0.2   </td><td>setosa</td></tr>\n",
       "\t<tr><td>4.6   </td><td>3.1   </td><td>1.5   </td><td>0.2   </td><td>setosa</td></tr>\n",
       "\t<tr><td>5.0   </td><td>3.6   </td><td>1.4   </td><td>0.2   </td><td>setosa</td></tr>\n",
       "\t<tr><td>5.4   </td><td>3.9   </td><td>1.7   </td><td>0.4   </td><td>setosa</td></tr>\n",
       "\t<tr><td>4.6   </td><td>3.4   </td><td>1.4   </td><td>0.3   </td><td>setosa</td></tr>\n",
       "\t<tr><td>5.0   </td><td>3.4   </td><td>1.5   </td><td>0.2   </td><td>setosa</td></tr>\n",
       "\t<tr><td>4.4   </td><td>2.9   </td><td>1.4   </td><td>0.2   </td><td>setosa</td></tr>\n",
       "\t<tr><td>4.9   </td><td>3.1   </td><td>1.5   </td><td>0.1   </td><td>setosa</td></tr>\n",
       "</tbody>\n",
       "</table>\n"
      ],
      "text/latex": [
       "\\begin{tabular}{r|lllll}\n",
       " Sepal.Length & Sepal.Width & Petal.Length & Petal.Width & Species\\\\\n",
       "\\hline\n",
       "\t 5.1    & 3.5    & 1.4    & 0.2    & setosa\\\\\n",
       "\t 4.9    & 3.0    & 1.4    & 0.2    & setosa\\\\\n",
       "\t 4.7    & 3.2    & 1.3    & 0.2    & setosa\\\\\n",
       "\t 4.6    & 3.1    & 1.5    & 0.2    & setosa\\\\\n",
       "\t 5.0    & 3.6    & 1.4    & 0.2    & setosa\\\\\n",
       "\t 5.4    & 3.9    & 1.7    & 0.4    & setosa\\\\\n",
       "\t 4.6    & 3.4    & 1.4    & 0.3    & setosa\\\\\n",
       "\t 5.0    & 3.4    & 1.5    & 0.2    & setosa\\\\\n",
       "\t 4.4    & 2.9    & 1.4    & 0.2    & setosa\\\\\n",
       "\t 4.9    & 3.1    & 1.5    & 0.1    & setosa\\\\\n",
       "\\end{tabular}\n"
      ],
      "text/markdown": [
       "\n",
       "| Sepal.Length | Sepal.Width | Petal.Length | Petal.Width | Species |\n",
       "|---|---|---|---|---|\n",
       "| 5.1    | 3.5    | 1.4    | 0.2    | setosa |\n",
       "| 4.9    | 3.0    | 1.4    | 0.2    | setosa |\n",
       "| 4.7    | 3.2    | 1.3    | 0.2    | setosa |\n",
       "| 4.6    | 3.1    | 1.5    | 0.2    | setosa |\n",
       "| 5.0    | 3.6    | 1.4    | 0.2    | setosa |\n",
       "| 5.4    | 3.9    | 1.7    | 0.4    | setosa |\n",
       "| 4.6    | 3.4    | 1.4    | 0.3    | setosa |\n",
       "| 5.0    | 3.4    | 1.5    | 0.2    | setosa |\n",
       "| 4.4    | 2.9    | 1.4    | 0.2    | setosa |\n",
       "| 4.9    | 3.1    | 1.5    | 0.1    | setosa |\n",
       "\n"
      ],
      "text/plain": [
       "   Sepal.Length Sepal.Width Petal.Length Petal.Width Species\n",
       "1  5.1          3.5         1.4          0.2         setosa \n",
       "2  4.9          3.0         1.4          0.2         setosa \n",
       "3  4.7          3.2         1.3          0.2         setosa \n",
       "4  4.6          3.1         1.5          0.2         setosa \n",
       "5  5.0          3.6         1.4          0.2         setosa \n",
       "6  5.4          3.9         1.7          0.4         setosa \n",
       "7  4.6          3.4         1.4          0.3         setosa \n",
       "8  5.0          3.4         1.5          0.2         setosa \n",
       "9  4.4          2.9         1.4          0.2         setosa \n",
       "10 4.9          3.1         1.5          0.1         setosa "
      ]
     },
     "metadata": {},
     "output_type": "display_data"
    },
    {
     "name": "stdout",
     "output_type": "stream",
     "text": [
      "# A tibble: 150 x 5\n",
      "   Sepal.Length Sepal.Width Petal.Length Petal.Width Species\n",
      "          <dbl>       <dbl>        <dbl>       <dbl> <fct>  \n",
      " 1          5.1         3.5          1.4         0.2 setosa \n",
      " 2          4.9         3            1.4         0.2 setosa \n",
      " 3          4.7         3.2          1.3         0.2 setosa \n",
      " 4          4.6         3.1          1.5         0.2 setosa \n",
      " 5          5           3.6          1.4         0.2 setosa \n",
      " 6          5.4         3.9          1.7         0.4 setosa \n",
      " 7          4.6         3.4          1.4         0.3 setosa \n",
      " 8          5           3.4          1.5         0.2 setosa \n",
      " 9          4.4         2.9          1.4         0.2 setosa \n",
      "10          4.9         3.1          1.5         0.1 setosa \n",
      "# ... with 140 more rows\n"
     ]
    }
   ],
   "source": [
    "# 为了防止控制台崩溃，print一个tibble等价于执行head()，打印出dataframe的前10项。\n",
    "head(iris, 10)\n",
    "print(as_tibble(iris))"
   ]
  },
  {
   "cell_type": "markdown",
   "id": "173ef2c2",
   "metadata": {},
   "source": [
    "# Subsetting a tibble"
   ]
  },
  {
   "cell_type": "code",
   "execution_count": 8,
   "id": "f6dec3ad",
   "metadata": {},
   "outputs": [
    {
     "data": {
      "text/html": [
       "<ol class=list-inline>\n",
       "\t<li>1</li>\n",
       "\t<li>2</li>\n",
       "\t<li>3</li>\n",
       "</ol>\n"
      ],
      "text/latex": [
       "\\begin{enumerate*}\n",
       "\\item 1\n",
       "\\item 2\n",
       "\\item 3\n",
       "\\end{enumerate*}\n"
      ],
      "text/markdown": [
       "1. 1\n",
       "2. 2\n",
       "3. 3\n",
       "\n",
       "\n"
      ],
      "text/plain": [
       "[1] 1 2 3"
      ]
     },
     "metadata": {},
     "output_type": "display_data"
    },
    {
     "data": {
      "text/html": [
       "<ol class=list-inline>\n",
       "\t<li>1</li>\n",
       "\t<li>2</li>\n",
       "\t<li>3</li>\n",
       "</ol>\n"
      ],
      "text/latex": [
       "\\begin{enumerate*}\n",
       "\\item 1\n",
       "\\item 2\n",
       "\\item 3\n",
       "\\end{enumerate*}\n"
      ],
      "text/markdown": [
       "1. 1\n",
       "2. 2\n",
       "3. 3\n",
       "\n",
       "\n"
      ],
      "text/plain": [
       "[1] 1 2 3"
      ]
     },
     "metadata": {},
     "output_type": "display_data"
    },
    {
     "data": {
      "text/html": [
       "<table>\n",
       "<thead><tr><th scope=col>x</th></tr></thead>\n",
       "<tbody>\n",
       "\t<tr><td>1</td></tr>\n",
       "\t<tr><td>2</td></tr>\n",
       "\t<tr><td>3</td></tr>\n",
       "</tbody>\n",
       "</table>\n"
      ],
      "text/latex": [
       "\\begin{tabular}{r|l}\n",
       " x\\\\\n",
       "\\hline\n",
       "\t 1\\\\\n",
       "\t 2\\\\\n",
       "\t 3\\\\\n",
       "\\end{tabular}\n"
      ],
      "text/markdown": [
       "\n",
       "| x |\n",
       "|---|\n",
       "| 1 |\n",
       "| 2 |\n",
       "| 3 |\n",
       "\n"
      ],
      "text/plain": [
       "  x\n",
       "1 1\n",
       "2 2\n",
       "3 3"
      ]
     },
     "metadata": {},
     "output_type": "display_data"
    },
    {
     "data": {
      "text/html": [
       "'integer'"
      ],
      "text/latex": [
       "'integer'"
      ],
      "text/markdown": [
       "'integer'"
      ],
      "text/plain": [
       "[1] \"integer\""
      ]
     },
     "metadata": {},
     "output_type": "display_data"
    },
    {
     "data": {
      "text/html": [
       "'list'"
      ],
      "text/latex": [
       "'list'"
      ],
      "text/markdown": [
       "'list'"
      ],
      "text/plain": [
       "[1] \"list\""
      ]
     },
     "metadata": {},
     "output_type": "display_data"
    }
   ],
   "source": [
    "df$x\n",
    "df[[\"x\"]]\n",
    "df[\"x\"]\n",
    "typeof(df[[\"x\"]])\n",
    "typeof(df[\"x\"])"
   ]
  },
  {
   "cell_type": "code",
   "execution_count": 9,
   "id": "991b0417",
   "metadata": {},
   "outputs": [
    {
     "data": {
      "text/html": [
       "<table>\n",
       "<thead><tr><th scope=col>x</th></tr></thead>\n",
       "<tbody>\n",
       "\t<tr><td>1</td></tr>\n",
       "\t<tr><td>2</td></tr>\n",
       "\t<tr><td>3</td></tr>\n",
       "</tbody>\n",
       "</table>\n"
      ],
      "text/latex": [
       "\\begin{tabular}{r|l}\n",
       " x\\\\\n",
       "\\hline\n",
       "\t 1\\\\\n",
       "\t 2\\\\\n",
       "\t 3\\\\\n",
       "\\end{tabular}\n"
      ],
      "text/markdown": [
       "\n",
       "| x |\n",
       "|---|\n",
       "| 1 |\n",
       "| 2 |\n",
       "| 3 |\n",
       "\n"
      ],
      "text/plain": [
       "  x\n",
       "1 1\n",
       "2 2\n",
       "3 3"
      ]
     },
     "metadata": {},
     "output_type": "display_data"
    }
   ],
   "source": [
    "df[,1]"
   ]
  },
  {
   "cell_type": "markdown",
   "id": "5acf27d0",
   "metadata": {},
   "source": [
    "可以发现tibble的索引：\n",
    "\n",
    "* 列索引：\n",
    "    * 使用df$x或者df[[\"x\"]]获得具体某列的值，数据类型为integer或double。\n",
    "    * 使用df[\"x\"]获得这一整列（包括列名），数据类型为list。\n",
    "\n",
    "* 行索引：\n",
    "    * 使用df[1,]获得第一行整行（包括列名），数据类型为list。"
   ]
  },
  {
   "cell_type": "code",
   "execution_count": 10,
   "id": "2d5bb6a6",
   "metadata": {},
   "outputs": [
    {
     "data": {
      "text/html": [
       "<table>\n",
       "<thead><tr><th scope=col>x</th><th scope=col>y</th><th scope=col>z</th></tr></thead>\n",
       "<tbody>\n",
       "\t<tr><td>2         </td><td>5         </td><td>-1.2503879</td></tr>\n",
       "\t<tr><td>3         </td><td>1         </td><td>-0.8823656</td></tr>\n",
       "</tbody>\n",
       "</table>\n"
      ],
      "text/latex": [
       "\\begin{tabular}{r|lll}\n",
       " x & y & z\\\\\n",
       "\\hline\n",
       "\t 2          & 5          & -1.2503879\\\\\n",
       "\t 3          & 1          & -0.8823656\\\\\n",
       "\\end{tabular}\n"
      ],
      "text/markdown": [
       "\n",
       "| x | y | z |\n",
       "|---|---|---|\n",
       "| 2          | 5          | -1.2503879 |\n",
       "| 3          | 1          | -0.8823656 |\n",
       "\n"
      ],
      "text/plain": [
       "  x y z         \n",
       "1 2 5 -1.2503879\n",
       "2 3 1 -0.8823656"
      ]
     },
     "metadata": {},
     "output_type": "display_data"
    }
   ],
   "source": [
    "# df$x得到1 2 3，比1大的是第2、3元素，故输出为df的第二行、第三行\n",
    "\n",
    "df[df$x>1,] "
   ]
  },
  {
   "cell_type": "code",
   "execution_count": 11,
   "id": "a5a1a3e4",
   "metadata": {},
   "outputs": [
    {
     "data": {
      "text/html": [
       "<ol class=list-inline>\n",
       "\t<li>1</li>\n",
       "\t<li>2</li>\n",
       "\t<li>3</li>\n",
       "</ol>\n"
      ],
      "text/latex": [
       "\\begin{enumerate*}\n",
       "\\item 1\n",
       "\\item 2\n",
       "\\item 3\n",
       "\\end{enumerate*}\n"
      ],
      "text/markdown": [
       "1. 1\n",
       "2. 2\n",
       "3. 3\n",
       "\n",
       "\n"
      ],
      "text/plain": [
       "[1] 1 2 3"
      ]
     },
     "metadata": {},
     "output_type": "display_data"
    }
   ],
   "source": [
    "# 如果要使用pipe，在这里需要使用占位符\".\"\n",
    "\n",
    "df %>% .$x"
   ]
  },
  {
   "cell_type": "markdown",
   "id": "d3e175e6",
   "metadata": {},
   "source": [
    "### dplyr package and the tibble\n",
    "\n",
    "• dplyr package允许我们执行数据转换的操作。大多数数据转换的任务可以通过以下六个函数配合完成：`filter`, `arrange`, `select`,`mutate`, `summarize`, and `group_by`\n",
    "\n",
    "• 这几个来自dplyr的函数是为了在tibble上运用而设计，但也可以在传统dataframe上应用。\n",
    "\n",
    "### Main dplyr functions\n",
    "\n",
    "|function name|used to...|\n",
    "|---|---|\n",
    "|filter|通过值来选择元素|\n",
    "|arrange|对行进行重新排序|\n",
    "|select|通过名称来选择元素|\n",
    "|mutate|通过已有的函数创建新的变量|\n",
    "|summarise|将许多列进行总结|\n",
    "|group_by|改变上述函数应用的范围|"
   ]
  },
  {
   "cell_type": "markdown",
   "id": "c56dd0dc",
   "metadata": {},
   "source": [
    "## Example\n",
    "• To get a feel for how these functions work in conjunction with each other, we will take a look at the nycflights13 dataset, which contains over 300,000 flight records.\n",
    "\n",
    "• Suppose we had the research question, \"Which flight path was most common for American Airlines flights to take?\"\n",
    "\n",
    "• Let's start by loading in the data."
   ]
  },
  {
   "cell_type": "code",
   "execution_count": 12,
   "id": "9d185702",
   "metadata": {},
   "outputs": [
    {
     "name": "stderr",
     "output_type": "stream",
     "text": [
      "\n",
      "Attaching package: 'dplyr'\n",
      "\n",
      "The following objects are masked from 'package:data.table':\n",
      "\n",
      "    between, first, last\n",
      "\n",
      "The following objects are masked from 'package:stats':\n",
      "\n",
      "    filter, lag\n",
      "\n",
      "The following objects are masked from 'package:base':\n",
      "\n",
      "    intersect, setdiff, setequal, union\n",
      "\n"
     ]
    },
    {
     "data": {
      "text/html": [
       "<ol class=list-inline>\n",
       "\t<li>336776</li>\n",
       "\t<li>19</li>\n",
       "</ol>\n"
      ],
      "text/latex": [
       "\\begin{enumerate*}\n",
       "\\item 336776\n",
       "\\item 19\n",
       "\\end{enumerate*}\n"
      ],
      "text/markdown": [
       "1. 336776\n",
       "2. 19\n",
       "\n",
       "\n"
      ],
      "text/plain": [
       "[1] 336776     19"
      ]
     },
     "metadata": {},
     "output_type": "display_data"
    },
    {
     "data": {
      "text/html": [
       "<table>\n",
       "<thead><tr><th scope=col>year</th><th scope=col>month</th><th scope=col>day</th><th scope=col>dep_time</th><th scope=col>sched_dep_time</th><th scope=col>dep_delay</th><th scope=col>arr_time</th><th scope=col>sched_arr_time</th><th scope=col>arr_delay</th><th scope=col>carrier</th><th scope=col>flight</th><th scope=col>tailnum</th><th scope=col>origin</th><th scope=col>dest</th><th scope=col>air_time</th><th scope=col>distance</th><th scope=col>hour</th><th scope=col>minute</th><th scope=col>time_hour</th></tr></thead>\n",
       "<tbody>\n",
       "\t<tr><td>2013               </td><td>1                  </td><td>1                  </td><td>517                </td><td>515                </td><td>2                  </td><td>830                </td><td>819                </td><td>11                 </td><td>UA                 </td><td>1545               </td><td>N14228             </td><td>EWR                </td><td>IAH                </td><td>227                </td><td>1400               </td><td>5                  </td><td>15                 </td><td>2013-01-01 05:00:00</td></tr>\n",
       "\t<tr><td>2013               </td><td>1                  </td><td>1                  </td><td>533                </td><td>529                </td><td>4                  </td><td>850                </td><td>830                </td><td>20                 </td><td>UA                 </td><td>1714               </td><td>N24211             </td><td>LGA                </td><td>IAH                </td><td>227                </td><td>1416               </td><td>5                  </td><td>29                 </td><td>2013-01-01 05:00:00</td></tr>\n",
       "\t<tr><td>2013               </td><td>1                  </td><td>1                  </td><td>542                </td><td>540                </td><td>2                  </td><td>923                </td><td>850                </td><td>33                 </td><td>AA                 </td><td>1141               </td><td>N619AA             </td><td>JFK                </td><td>MIA                </td><td>160                </td><td>1089               </td><td>5                  </td><td>40                 </td><td>2013-01-01 05:00:00</td></tr>\n",
       "</tbody>\n",
       "</table>\n"
      ],
      "text/latex": [
       "\\begin{tabular}{r|lllllllllllllllllll}\n",
       " year & month & day & dep\\_time & sched\\_dep\\_time & dep\\_delay & arr\\_time & sched\\_arr\\_time & arr\\_delay & carrier & flight & tailnum & origin & dest & air\\_time & distance & hour & minute & time\\_hour\\\\\n",
       "\\hline\n",
       "\t 2013                & 1                   & 1                   & 517                 & 515                 & 2                   & 830                 & 819                 & 11                  & UA                  & 1545                & N14228              & EWR                 & IAH                 & 227                 & 1400                & 5                   & 15                  & 2013-01-01 05:00:00\\\\\n",
       "\t 2013                & 1                   & 1                   & 533                 & 529                 & 4                   & 850                 & 830                 & 20                  & UA                  & 1714                & N24211              & LGA                 & IAH                 & 227                 & 1416                & 5                   & 29                  & 2013-01-01 05:00:00\\\\\n",
       "\t 2013                & 1                   & 1                   & 542                 & 540                 & 2                   & 923                 & 850                 & 33                  & AA                  & 1141                & N619AA              & JFK                 & MIA                 & 160                 & 1089                & 5                   & 40                  & 2013-01-01 05:00:00\\\\\n",
       "\\end{tabular}\n"
      ],
      "text/markdown": [
       "\n",
       "| year | month | day | dep_time | sched_dep_time | dep_delay | arr_time | sched_arr_time | arr_delay | carrier | flight | tailnum | origin | dest | air_time | distance | hour | minute | time_hour |\n",
       "|---|---|---|---|---|---|---|---|---|---|---|---|---|---|---|---|---|---|---|\n",
       "| 2013                | 1                   | 1                   | 517                 | 515                 | 2                   | 830                 | 819                 | 11                  | UA                  | 1545                | N14228              | EWR                 | IAH                 | 227                 | 1400                | 5                   | 15                  | 2013-01-01 05:00:00 |\n",
       "| 2013                | 1                   | 1                   | 533                 | 529                 | 4                   | 850                 | 830                 | 20                  | UA                  | 1714                | N24211              | LGA                 | IAH                 | 227                 | 1416                | 5                   | 29                  | 2013-01-01 05:00:00 |\n",
       "| 2013                | 1                   | 1                   | 542                 | 540                 | 2                   | 923                 | 850                 | 33                  | AA                  | 1141                | N619AA              | JFK                 | MIA                 | 160                 | 1089                | 5                   | 40                  | 2013-01-01 05:00:00 |\n",
       "\n"
      ],
      "text/plain": [
       "  year month day dep_time sched_dep_time dep_delay arr_time sched_arr_time\n",
       "1 2013 1     1   517      515            2         830      819           \n",
       "2 2013 1     1   533      529            4         850      830           \n",
       "3 2013 1     1   542      540            2         923      850           \n",
       "  arr_delay carrier flight tailnum origin dest air_time distance hour minute\n",
       "1 11        UA      1545   N14228  EWR    IAH  227      1400     5    15    \n",
       "2 20        UA      1714   N24211  LGA    IAH  227      1416     5    29    \n",
       "3 33        AA      1141   N619AA  JFK    MIA  160      1089     5    40    \n",
       "  time_hour          \n",
       "1 2013-01-01 05:00:00\n",
       "2 2013-01-01 05:00:00\n",
       "3 2013-01-01 05:00:00"
      ]
     },
     "metadata": {},
     "output_type": "display_data"
    }
   ],
   "source": [
    "library(\"nycflights13\")\n",
    "library(\"dplyr\")\n",
    "df <- as_tibble(flights)\n",
    "dim(df)\n",
    "head(df, 3)"
   ]
  },
  {
   "cell_type": "code",
   "execution_count": 13,
   "id": "62496347",
   "metadata": {},
   "outputs": [
    {
     "data": {
      "text/html": [
       "<table>\n",
       "<thead><tr><th scope=col>year</th><th scope=col>month</th><th scope=col>day</th><th scope=col>dep_time</th><th scope=col>sched_dep_time</th><th scope=col>dep_delay</th><th scope=col>arr_time</th><th scope=col>sched_arr_time</th><th scope=col>arr_delay</th><th scope=col>carrier</th><th scope=col>flight</th><th scope=col>tailnum</th><th scope=col>origin</th><th scope=col>dest</th><th scope=col>air_time</th><th scope=col>distance</th><th scope=col>hour</th><th scope=col>minute</th><th scope=col>time_hour</th></tr></thead>\n",
       "<tbody>\n",
       "\t<tr><td>2013               </td><td>1                  </td><td>1                  </td><td>542                </td><td>540                </td><td> 2                 </td><td> 923               </td><td> 850               </td><td> 33                </td><td>AA                 </td><td>1141               </td><td>N619AA             </td><td>JFK                </td><td>MIA                </td><td>160                </td><td>1089               </td><td>5                  </td><td>40                 </td><td>2013-01-01 05:00:00</td></tr>\n",
       "\t<tr><td>2013               </td><td>1                  </td><td>1                  </td><td>558                </td><td>600                </td><td>-2                 </td><td> 753               </td><td> 745               </td><td>  8                </td><td>AA                 </td><td> 301               </td><td>N3ALAA             </td><td>LGA                </td><td>ORD                </td><td>138                </td><td> 733               </td><td>6                  </td><td> 0                 </td><td>2013-01-01 06:00:00</td></tr>\n",
       "\t<tr><td>2013               </td><td>1                  </td><td>1                  </td><td>559                </td><td>600                </td><td>-1                 </td><td> 941               </td><td> 910               </td><td> 31                </td><td>AA                 </td><td> 707               </td><td>N3DUAA             </td><td>LGA                </td><td>DFW                </td><td>257                </td><td>1389               </td><td>6                  </td><td> 0                 </td><td>2013-01-01 06:00:00</td></tr>\n",
       "\t<tr><td>2013               </td><td>1                  </td><td>1                  </td><td>606                </td><td>610                </td><td>-4                 </td><td> 858               </td><td> 910               </td><td>-12                </td><td>AA                 </td><td>1895               </td><td>N633AA             </td><td>EWR                </td><td>MIA                </td><td>152                </td><td>1085               </td><td>6                  </td><td>10                 </td><td>2013-01-01 06:00:00</td></tr>\n",
       "\t<tr><td>2013               </td><td>1                  </td><td>1                  </td><td>623                </td><td>610                </td><td>13                 </td><td> 920               </td><td> 915               </td><td>  5                </td><td>AA                 </td><td>1837               </td><td>N3EMAA             </td><td>LGA                </td><td>MIA                </td><td>153                </td><td>1096               </td><td>6                  </td><td>10                 </td><td>2013-01-01 06:00:00</td></tr>\n",
       "\t<tr><td>2013               </td><td>1                  </td><td>1                  </td><td>628                </td><td>630                </td><td>-2                 </td><td>1137               </td><td>1140               </td><td> -3                </td><td>AA                 </td><td> 413               </td><td>N3BAAA             </td><td>JFK                </td><td>SJU                </td><td>192                </td><td>1598               </td><td>6                  </td><td>30                 </td><td>2013-01-01 06:00:00</td></tr>\n",
       "</tbody>\n",
       "</table>\n"
      ],
      "text/latex": [
       "\\begin{tabular}{r|lllllllllllllllllll}\n",
       " year & month & day & dep\\_time & sched\\_dep\\_time & dep\\_delay & arr\\_time & sched\\_arr\\_time & arr\\_delay & carrier & flight & tailnum & origin & dest & air\\_time & distance & hour & minute & time\\_hour\\\\\n",
       "\\hline\n",
       "\t 2013                & 1                   & 1                   & 542                 & 540                 &  2                  &  923                &  850                &  33                 & AA                  & 1141                & N619AA              & JFK                 & MIA                 & 160                 & 1089                & 5                   & 40                  & 2013-01-01 05:00:00\\\\\n",
       "\t 2013                & 1                   & 1                   & 558                 & 600                 & -2                  &  753                &  745                &   8                 & AA                  &  301                & N3ALAA              & LGA                 & ORD                 & 138                 &  733                & 6                   &  0                  & 2013-01-01 06:00:00\\\\\n",
       "\t 2013                & 1                   & 1                   & 559                 & 600                 & -1                  &  941                &  910                &  31                 & AA                  &  707                & N3DUAA              & LGA                 & DFW                 & 257                 & 1389                & 6                   &  0                  & 2013-01-01 06:00:00\\\\\n",
       "\t 2013                & 1                   & 1                   & 606                 & 610                 & -4                  &  858                &  910                & -12                 & AA                  & 1895                & N633AA              & EWR                 & MIA                 & 152                 & 1085                & 6                   & 10                  & 2013-01-01 06:00:00\\\\\n",
       "\t 2013                & 1                   & 1                   & 623                 & 610                 & 13                  &  920                &  915                &   5                 & AA                  & 1837                & N3EMAA              & LGA                 & MIA                 & 153                 & 1096                & 6                   & 10                  & 2013-01-01 06:00:00\\\\\n",
       "\t 2013                & 1                   & 1                   & 628                 & 630                 & -2                  & 1137                & 1140                &  -3                 & AA                  &  413                & N3BAAA              & JFK                 & SJU                 & 192                 & 1598                & 6                   & 30                  & 2013-01-01 06:00:00\\\\\n",
       "\\end{tabular}\n"
      ],
      "text/markdown": [
       "\n",
       "| year | month | day | dep_time | sched_dep_time | dep_delay | arr_time | sched_arr_time | arr_delay | carrier | flight | tailnum | origin | dest | air_time | distance | hour | minute | time_hour |\n",
       "|---|---|---|---|---|---|---|---|---|---|---|---|---|---|---|---|---|---|---|\n",
       "| 2013                | 1                   | 1                   | 542                 | 540                 |  2                  |  923                |  850                |  33                 | AA                  | 1141                | N619AA              | JFK                 | MIA                 | 160                 | 1089                | 5                   | 40                  | 2013-01-01 05:00:00 |\n",
       "| 2013                | 1                   | 1                   | 558                 | 600                 | -2                  |  753                |  745                |   8                 | AA                  |  301                | N3ALAA              | LGA                 | ORD                 | 138                 |  733                | 6                   |  0                  | 2013-01-01 06:00:00 |\n",
       "| 2013                | 1                   | 1                   | 559                 | 600                 | -1                  |  941                |  910                |  31                 | AA                  |  707                | N3DUAA              | LGA                 | DFW                 | 257                 | 1389                | 6                   |  0                  | 2013-01-01 06:00:00 |\n",
       "| 2013                | 1                   | 1                   | 606                 | 610                 | -4                  |  858                |  910                | -12                 | AA                  | 1895                | N633AA              | EWR                 | MIA                 | 152                 | 1085                | 6                   | 10                  | 2013-01-01 06:00:00 |\n",
       "| 2013                | 1                   | 1                   | 623                 | 610                 | 13                  |  920                |  915                |   5                 | AA                  | 1837                | N3EMAA              | LGA                 | MIA                 | 153                 | 1096                | 6                   | 10                  | 2013-01-01 06:00:00 |\n",
       "| 2013                | 1                   | 1                   | 628                 | 630                 | -2                  | 1137                | 1140                |  -3                 | AA                  |  413                | N3BAAA              | JFK                 | SJU                 | 192                 | 1598                | 6                   | 30                  | 2013-01-01 06:00:00 |\n",
       "\n"
      ],
      "text/plain": [
       "  year month day dep_time sched_dep_time dep_delay arr_time sched_arr_time\n",
       "1 2013 1     1   542      540             2         923      850          \n",
       "2 2013 1     1   558      600            -2         753      745          \n",
       "3 2013 1     1   559      600            -1         941      910          \n",
       "4 2013 1     1   606      610            -4         858      910          \n",
       "5 2013 1     1   623      610            13         920      915          \n",
       "6 2013 1     1   628      630            -2        1137     1140          \n",
       "  arr_delay carrier flight tailnum origin dest air_time distance hour minute\n",
       "1  33       AA      1141   N619AA  JFK    MIA  160      1089     5    40    \n",
       "2   8       AA       301   N3ALAA  LGA    ORD  138       733     6     0    \n",
       "3  31       AA       707   N3DUAA  LGA    DFW  257      1389     6     0    \n",
       "4 -12       AA      1895   N633AA  EWR    MIA  152      1085     6    10    \n",
       "5   5       AA      1837   N3EMAA  LGA    MIA  153      1096     6    10    \n",
       "6  -3       AA       413   N3BAAA  JFK    SJU  192      1598     6    30    \n",
       "  time_hour          \n",
       "1 2013-01-01 05:00:00\n",
       "2 2013-01-01 06:00:00\n",
       "3 2013-01-01 06:00:00\n",
       "4 2013-01-01 06:00:00\n",
       "5 2013-01-01 06:00:00\n",
       "6 2013-01-01 06:00:00"
      ]
     },
     "metadata": {},
     "output_type": "display_data"
    },
    {
     "data": {
      "text/html": [
       "<ol class=list-inline>\n",
       "\t<li>32729</li>\n",
       "\t<li>19</li>\n",
       "</ol>\n"
      ],
      "text/latex": [
       "\\begin{enumerate*}\n",
       "\\item 32729\n",
       "\\item 19\n",
       "\\end{enumerate*}\n"
      ],
      "text/markdown": [
       "1. 32729\n",
       "2. 19\n",
       "\n",
       "\n"
      ],
      "text/plain": [
       "[1] 32729    19"
      ]
     },
     "metadata": {},
     "output_type": "display_data"
    },
    {
     "data": {
      "text/html": [
       "<ol class=list-inline>\n",
       "\t<li>32729</li>\n",
       "\t<li>19</li>\n",
       "</ol>\n"
      ],
      "text/latex": [
       "\\begin{enumerate*}\n",
       "\\item 32729\n",
       "\\item 19\n",
       "\\end{enumerate*}\n"
      ],
      "text/markdown": [
       "1. 32729\n",
       "2. 19\n",
       "\n",
       "\n"
      ],
      "text/plain": [
       "[1] 32729    19"
      ]
     },
     "metadata": {},
     "output_type": "display_data"
    }
   ],
   "source": [
    "# First, we'll use filter to grab only the AA flights.\n",
    "# filter()通过值来选择元素\n",
    "# filter(.data, ..., .preserve = FALSE)\n",
    "\n",
    "df %>% filter(carrier == \"AA\") %>% head()\n",
    "df %>% filter(carrier == \"AA\") %>% dim\n",
    "dim(filter(df, carrier == \"AA\"))"
   ]
  },
  {
   "cell_type": "code",
   "execution_count": 14,
   "id": "e8720635",
   "metadata": {},
   "outputs": [
    {
     "data": {
      "text/html": [
       "<table>\n",
       "<thead><tr><th scope=col>origin</th><th scope=col>dest</th></tr></thead>\n",
       "<tbody>\n",
       "\t<tr><td>JFK</td><td>MIA</td></tr>\n",
       "\t<tr><td>LGA</td><td>ORD</td></tr>\n",
       "\t<tr><td>LGA</td><td>DFW</td></tr>\n",
       "\t<tr><td>EWR</td><td>MIA</td></tr>\n",
       "\t<tr><td>LGA</td><td>MIA</td></tr>\n",
       "</tbody>\n",
       "</table>\n"
      ],
      "text/latex": [
       "\\begin{tabular}{r|ll}\n",
       " origin & dest\\\\\n",
       "\\hline\n",
       "\t JFK & MIA\\\\\n",
       "\t LGA & ORD\\\\\n",
       "\t LGA & DFW\\\\\n",
       "\t EWR & MIA\\\\\n",
       "\t LGA & MIA\\\\\n",
       "\\end{tabular}\n"
      ],
      "text/markdown": [
       "\n",
       "| origin | dest |\n",
       "|---|---|\n",
       "| JFK | MIA |\n",
       "| LGA | ORD |\n",
       "| LGA | DFW |\n",
       "| EWR | MIA |\n",
       "| LGA | MIA |\n",
       "\n"
      ],
      "text/plain": [
       "  origin dest\n",
       "1 JFK    MIA \n",
       "2 LGA    ORD \n",
       "3 LGA    DFW \n",
       "4 EWR    MIA \n",
       "5 LGA    MIA "
      ]
     },
     "metadata": {},
     "output_type": "display_data"
    }
   ],
   "source": [
    "# Next, select the variables of interest. In this case, origin and dest tell\n",
    "# us where a flight started and ended.\n",
    "# select()通过名称来选择元素\n",
    "# select(.data, ...)\n",
    "\n",
    "df %>% filter(carrier == \"AA\") %>% select(origin, dest) %>% head(5)"
   ]
  },
  {
   "cell_type": "markdown",
   "id": "dffe408a",
   "metadata": {},
   "source": [
    "The goal is to count the number of occurrences of each (origin, dest) pair. To do this, we group the pairs together with group_by and then sum each of those groups with summarise.\n",
    "\n",
    "summarise()创建一个新的dataframe，它将拥有一行或多行，每一行都是grouping vairables的组合。如果没有grouping variables，将产生单行输出以统计输入的所有元素。这个新的dataframe中有一列由所有grouping variables组成，还有一列储存了每个grouping variable对应所指定的统计量。\n",
    "\n",
    "\n",
    "It will contain one column for each grouping variable and one column for each of the summary statistics that you have specified."
   ]
  },
  {
   "cell_type": "code",
   "execution_count": 15,
   "id": "0e9d87e7",
   "metadata": {
    "scrolled": true
   },
   "outputs": [
    {
     "data": {
      "text/html": [
       "<table>\n",
       "<thead><tr><th scope=col>origin</th><th scope=col>dest</th><th scope=col>count</th></tr></thead>\n",
       "<tbody>\n",
       "\t<tr><td>EWR </td><td>DFW </td><td>2054</td></tr>\n",
       "\t<tr><td>EWR </td><td>LAX </td><td> 365</td></tr>\n",
       "\t<tr><td>EWR </td><td>MIA </td><td>1068</td></tr>\n",
       "\t<tr><td>JFK </td><td>AUS </td><td> 365</td></tr>\n",
       "\t<tr><td>JFK </td><td>BOS </td><td>1455</td></tr>\n",
       "\t<tr><td>JFK </td><td>DFW </td><td> 367</td></tr>\n",
       "</tbody>\n",
       "</table>\n"
      ],
      "text/latex": [
       "\\begin{tabular}{r|lll}\n",
       " origin & dest & count\\\\\n",
       "\\hline\n",
       "\t EWR  & DFW  & 2054\\\\\n",
       "\t EWR  & LAX  &  365\\\\\n",
       "\t EWR  & MIA  & 1068\\\\\n",
       "\t JFK  & AUS  &  365\\\\\n",
       "\t JFK  & BOS  & 1455\\\\\n",
       "\t JFK  & DFW  &  367\\\\\n",
       "\\end{tabular}\n"
      ],
      "text/markdown": [
       "\n",
       "| origin | dest | count |\n",
       "|---|---|---|\n",
       "| EWR  | DFW  | 2054 |\n",
       "| EWR  | LAX  |  365 |\n",
       "| EWR  | MIA  | 1068 |\n",
       "| JFK  | AUS  |  365 |\n",
       "| JFK  | BOS  | 1455 |\n",
       "| JFK  | DFW  |  367 |\n",
       "\n"
      ],
      "text/plain": [
       "  origin dest count\n",
       "1 EWR    DFW  2054 \n",
       "2 EWR    LAX   365 \n",
       "3 EWR    MIA  1068 \n",
       "4 JFK    AUS   365 \n",
       "5 JFK    BOS  1455 \n",
       "6 JFK    DFW   367 "
      ]
     },
     "metadata": {},
     "output_type": "display_data"
    }
   ],
   "source": [
    "# 可以发现select()中要选择的列名似乎无所谓加不加引号，但group_by()绝对不能加。\n",
    "# group_by(.data, ..., .add = FALSE, .drop = group_by_drop_default(.data))\n",
    "# summarise(.data, ..., .groups = NULL)\n",
    "# n() gives the current group size.\n",
    "\n",
    "df %>% filter(carrier == \"AA\") %>% select(\"origin\", \"dest\") %>% \n",
    "    group_by(origin, dest) %>% summarise(count = n(), .groups = \"keep\") %>% head()"
   ]
  },
  {
   "cell_type": "code",
   "execution_count": 16,
   "id": "9f97a1a9",
   "metadata": {},
   "outputs": [
    {
     "data": {
      "text/html": [
       "<table>\n",
       "<thead><tr><th scope=col>origin</th><th scope=col>dest</th><th scope=col>count</th></tr></thead>\n",
       "<tbody>\n",
       "\t<tr><td>LGA </td><td>ORD </td><td>5694</td></tr>\n",
       "\t<tr><td>LGA </td><td>DFW </td><td>4836</td></tr>\n",
       "\t<tr><td>LGA </td><td>MIA </td><td>3945</td></tr>\n",
       "\t<tr><td>JFK </td><td>LAX </td><td>3217</td></tr>\n",
       "\t<tr><td>JFK </td><td>MIA </td><td>2221</td></tr>\n",
       "\t<tr><td>EWR </td><td>DFW </td><td>2054</td></tr>\n",
       "</tbody>\n",
       "</table>\n"
      ],
      "text/latex": [
       "\\begin{tabular}{r|lll}\n",
       " origin & dest & count\\\\\n",
       "\\hline\n",
       "\t LGA  & ORD  & 5694\\\\\n",
       "\t LGA  & DFW  & 4836\\\\\n",
       "\t LGA  & MIA  & 3945\\\\\n",
       "\t JFK  & LAX  & 3217\\\\\n",
       "\t JFK  & MIA  & 2221\\\\\n",
       "\t EWR  & DFW  & 2054\\\\\n",
       "\\end{tabular}\n"
      ],
      "text/markdown": [
       "\n",
       "| origin | dest | count |\n",
       "|---|---|---|\n",
       "| LGA  | ORD  | 5694 |\n",
       "| LGA  | DFW  | 4836 |\n",
       "| LGA  | MIA  | 3945 |\n",
       "| JFK  | LAX  | 3217 |\n",
       "| JFK  | MIA  | 2221 |\n",
       "| EWR  | DFW  | 2054 |\n",
       "\n"
      ],
      "text/plain": [
       "  origin dest count\n",
       "1 LGA    ORD  5694 \n",
       "2 LGA    DFW  4836 \n",
       "3 LGA    MIA  3945 \n",
       "4 JFK    LAX  3217 \n",
       "5 JFK    MIA  2221 \n",
       "6 EWR    DFW  2054 "
      ]
     },
     "metadata": {},
     "output_type": "display_data"
    }
   ],
   "source": [
    "# Finally, order the rows using arrange\n",
    "# arrange(.data, ..., .by_group = FALSE)\n",
    "\n",
    "df %>% filter(carrier == \"AA\") %>% select(\"origin\", \"dest\") %>%\n",
    "    group_by(origin, dest) %>% summarize(count = n(), .groups = \"keep\") %>% \n",
    "    arrange(desc(count)) %>% head()"
   ]
  },
  {
   "cell_type": "markdown",
   "id": "351f9c6d",
   "metadata": {},
   "source": [
    "# data.table package (not assessed)\n",
    "\n",
    "## data.table\n",
    "* 不属于tidyverse，但由于其在处理大数据集时卓越的性能，data.table逐渐成为应用最广泛的R dataframes。\n",
    "* data.table的语法受益于relational database languages，例如SQL。它的语法比dplyr的语法晦涩，但是它可以在一行代码里完成更多的任务。\n",
    "* Benchmark证明了在处理一百万条以上的数据时data.table的速度是tibble的六倍。"
   ]
  },
  {
   "cell_type": "code",
   "execution_count": 17,
   "id": "8c4ff21a",
   "metadata": {},
   "outputs": [
    {
     "data": {
      "text/html": [
       "<table>\n",
       "<thead><tr><th scope=col>origin</th><th scope=col>dest</th><th scope=col>N</th></tr></thead>\n",
       "<tbody>\n",
       "\t<tr><td>LGA </td><td>ORD </td><td>5694</td></tr>\n",
       "\t<tr><td>LGA </td><td>DFW </td><td>4836</td></tr>\n",
       "\t<tr><td>LGA </td><td>MIA </td><td>3945</td></tr>\n",
       "\t<tr><td>JFK </td><td>LAX </td><td>3217</td></tr>\n",
       "\t<tr><td>JFK </td><td>MIA </td><td>2221</td></tr>\n",
       "\t<tr><td>EWR </td><td>DFW </td><td>2054</td></tr>\n",
       "</tbody>\n",
       "</table>\n"
      ],
      "text/latex": [
       "\\begin{tabular}{r|lll}\n",
       " origin & dest & N\\\\\n",
       "\\hline\n",
       "\t LGA  & ORD  & 5694\\\\\n",
       "\t LGA  & DFW  & 4836\\\\\n",
       "\t LGA  & MIA  & 3945\\\\\n",
       "\t JFK  & LAX  & 3217\\\\\n",
       "\t JFK  & MIA  & 2221\\\\\n",
       "\t EWR  & DFW  & 2054\\\\\n",
       "\\end{tabular}\n"
      ],
      "text/markdown": [
       "\n",
       "| origin | dest | N |\n",
       "|---|---|---|\n",
       "| LGA  | ORD  | 5694 |\n",
       "| LGA  | DFW  | 4836 |\n",
       "| LGA  | MIA  | 3945 |\n",
       "| JFK  | LAX  | 3217 |\n",
       "| JFK  | MIA  | 2221 |\n",
       "| EWR  | DFW  | 2054 |\n",
       "\n"
      ],
      "text/plain": [
       "  origin dest N   \n",
       "1 LGA    ORD  5694\n",
       "2 LGA    DFW  4836\n",
       "3 LGA    MIA  3945\n",
       "4 JFK    LAX  3217\n",
       "5 JFK    MIA  2221\n",
       "6 EWR    DFW  2054"
      ]
     },
     "metadata": {},
     "output_type": "display_data"
    }
   ],
   "source": [
    "library(nycflights13)\n",
    "library(data.table)\n",
    "\n",
    "# .N is an integer, length 1, containing the number of rows in the group. \n",
    "# This may be useful when the column names are not known in advance and for \n",
    "# convenience generally. When grouping by i, .N is the number of rows in \n",
    "# x matched to, for each row of i, regardless of whether nomatch is NA or \n",
    "# NULL. It is renamed to N (no dot) in the result (otherwise a column \n",
    "# called \".N\" could conflict with the .N variable), unless it is explicitly\n",
    "# named; e.g., DT[,list(total=.N),by=a].\n",
    "\n",
    "df <- data.table(flights)\n",
    "df[carrier == \"AA\", .N, by=.(origin,dest)][order(-N)] %>% head"
   ]
  },
  {
   "cell_type": "markdown",
   "id": "9fdf4752",
   "metadata": {},
   "source": [
    "`.N`是integer，长度为1，包含了group里面的行数，它非常便利，并且当列的名称未知时十分有用。当通过i来grouping的时候，`.N`代表了所匹配的group的行数，无论`nomatch`是NA或者NULL。在结果里，除非它被人为命名（例如：DT[,list(total=.N),by=a]），否则它将被命名为N（如果命名为\".N\"则会导致和.N变量的冲突）。"
   ]
  },
  {
   "cell_type": "code",
   "execution_count": 18,
   "id": "cd9c4c25",
   "metadata": {},
   "outputs": [
    {
     "data": {
      "text/html": [
       "<table>\n",
       "<thead><tr><th scope=col>test</th><th scope=col>elapsed</th></tr></thead>\n",
       "<tbody>\n",
       "\t<tr><td>data.table</td><td>0.52      </td></tr>\n",
       "\t<tr><td>tibble    </td><td>1.51      </td></tr>\n",
       "</tbody>\n",
       "</table>\n"
      ],
      "text/latex": [
       "\\begin{tabular}{r|ll}\n",
       " test & elapsed\\\\\n",
       "\\hline\n",
       "\t data.table & 0.52      \\\\\n",
       "\t tibble     & 1.51      \\\\\n",
       "\\end{tabular}\n"
      ],
      "text/markdown": [
       "\n",
       "| test | elapsed |\n",
       "|---|---|\n",
       "| data.table | 0.52       |\n",
       "| tibble     | 1.51       |\n",
       "\n"
      ],
      "text/plain": [
       "  test       elapsed\n",
       "1 data.table 0.52   \n",
       "2 tibble     1.51   "
      ]
     },
     "metadata": {},
     "output_type": "display_data"
    }
   ],
   "source": [
    "# data.table vs tibble\n",
    "df1 <- data.table(flights)\n",
    "df2 <- as_tibble(flights)\n",
    "benchmark(\"data.table\" = {df1[carrier == \"AA\", .N, by=.(origin,dest)][order(-N)]},\n",
    "          \"tibble\" = {df2 %>% filter(carrier == \"AA\") %>% count(origin, dest,sort=T)},\n",
    "          columns=c(\"test\",\"elapsed\"),order=\"test\")"
   ]
  },
  {
   "cell_type": "markdown",
   "id": "f0a03353",
   "metadata": {},
   "source": [
    "## Alternative Dataframes\n",
    "\n",
    "### 应该选择哪种dataframe？\n",
    "\n",
    "• Base R dataframe适用于大多数情况。它不需要额外的支持，在处理小数据集且不需要太多操作时很有效。\n",
    "\n",
    "• tibble提供了简单的语法，并且令数据筛选和转换更便利。在处理稍大型、混乱、且不熟悉的数据集时使用。\n",
    "\n",
    "• data.table的语法最难，但在处理极大数据集时速度非常快。"
   ]
  },
  {
   "cell_type": "markdown",
   "id": "7c4e8229",
   "metadata": {},
   "source": [
    "# Section 4: Review of Split/Apply/Combine\n",
    "\n",
    "## Example: Strikes dataset\n",
    "Dataset on 18 countries over 35 years (compiled by Bruce Western, in the Sociology Department at Harvard University). The measured variables:\n",
    "* country, year: country and year of data collection\n",
    "* strike.volume: days on strike per 1000 workers\n",
    "* unemployment: unemployment rate\n",
    "* inflation: inflation rate\n",
    "* left.parliament: leftwing share of the government\n",
    "* centralization: centralization of unions\n",
    "* density: density of unions\n",
    "\n",
    "### Research Question\n",
    "Is there a relationship between a country’s ruling party alignment (left versus right) and the volume of strikes? How could we approach this?\n",
    "* Worst way: by hand, write 18 separate code blocks\n",
    "* Bad way: explicit for() loop, where we loop over countries\n",
    "* Best way: split appropriately, then use an apply-type function."
   ]
  },
  {
   "cell_type": "code",
   "execution_count": 19,
   "id": "522b9598",
   "metadata": {},
   "outputs": [
    {
     "data": {
      "text/html": [
       "<ol class=list-inline>\n",
       "\t<li>625</li>\n",
       "\t<li>8</li>\n",
       "</ol>\n"
      ],
      "text/latex": [
       "\\begin{enumerate*}\n",
       "\\item 625\n",
       "\\item 8\n",
       "\\end{enumerate*}\n"
      ],
      "text/markdown": [
       "1. 625\n",
       "2. 8\n",
       "\n",
       "\n"
      ],
      "text/plain": [
       "[1] 625   8"
      ]
     },
     "metadata": {},
     "output_type": "display_data"
    },
    {
     "data": {
      "text/html": [
       "<table>\n",
       "<thead><tr><th scope=col>country</th><th scope=col>year</th><th scope=col>strike.volume</th><th scope=col>unemployment</th><th scope=col>inflation</th><th scope=col>left.parliament</th><th scope=col>centralization</th><th scope=col>density</th></tr></thead>\n",
       "<tbody>\n",
       "\t<tr><td>Australia</td><td>1951     </td><td>296      </td><td>1.3      </td><td>19.8     </td><td>43       </td><td>0.3748588</td><td>NA       </td></tr>\n",
       "\t<tr><td>Australia</td><td>1952     </td><td>397      </td><td>2.2      </td><td>17.2     </td><td>43       </td><td>0.3751829</td><td>NA       </td></tr>\n",
       "\t<tr><td>Australia</td><td>1953     </td><td>360      </td><td>2.5      </td><td> 4.3     </td><td>43       </td><td>0.3745076</td><td>NA       </td></tr>\n",
       "</tbody>\n",
       "</table>\n"
      ],
      "text/latex": [
       "\\begin{tabular}{r|llllllll}\n",
       " country & year & strike.volume & unemployment & inflation & left.parliament & centralization & density\\\\\n",
       "\\hline\n",
       "\t Australia & 1951      & 296       & 1.3       & 19.8      & 43        & 0.3748588 & NA       \\\\\n",
       "\t Australia & 1952      & 397       & 2.2       & 17.2      & 43        & 0.3751829 & NA       \\\\\n",
       "\t Australia & 1953      & 360       & 2.5       &  4.3      & 43        & 0.3745076 & NA       \\\\\n",
       "\\end{tabular}\n"
      ],
      "text/markdown": [
       "\n",
       "| country | year | strike.volume | unemployment | inflation | left.parliament | centralization | density |\n",
       "|---|---|---|---|---|---|---|---|\n",
       "| Australia | 1951      | 296       | 1.3       | 19.8      | 43        | 0.3748588 | NA        |\n",
       "| Australia | 1952      | 397       | 2.2       | 17.2      | 43        | 0.3751829 | NA        |\n",
       "| Australia | 1953      | 360       | 2.5       |  4.3      | 43        | 0.3745076 | NA        |\n",
       "\n"
      ],
      "text/plain": [
       "  country   year strike.volume unemployment inflation left.parliament\n",
       "1 Australia 1951 296           1.3          19.8      43             \n",
       "2 Australia 1952 397           2.2          17.2      43             \n",
       "3 Australia 1953 360           2.5           4.3      43             \n",
       "  centralization density\n",
       "1 0.3748588      NA     \n",
       "2 0.3751829      NA     \n",
       "3 0.3745076      NA     "
      ]
     },
     "metadata": {},
     "output_type": "display_data"
    }
   ],
   "source": [
    "strikes <- read.csv(\"strikes.csv\", as.is = TRUE)\n",
    "dim(strikes)\n",
    "head(strikes, 3)"
   ]
  },
  {
   "cell_type": "code",
   "execution_count": 20,
   "id": "407d53ba",
   "metadata": {},
   "outputs": [],
   "source": [
    "# Function to compute coefficients from regressing number of \n",
    "# strikes (per 1000 workers) on leftwing share of the government.\n",
    "\n",
    "my.strike.lm <- function(country.df){\n",
    "    return(coef(lm(strike.volume~left.parliament, data=country.df)))\n",
    "}"
   ]
  },
  {
   "cell_type": "code",
   "execution_count": 21,
   "id": "e867e856",
   "metadata": {},
   "outputs": [
    {
     "data": {
      "text/html": [
       "<table>\n",
       "<thead><tr><th></th><th scope=col>Australia</th><th scope=col>Austria</th><th scope=col>Belgium</th><th scope=col>Canada</th><th scope=col>Denmark</th><th scope=col>Finland</th><th scope=col>France</th><th scope=col>Germany</th><th scope=col>Ireland</th><th scope=col>Italy</th><th scope=col>Japan</th><th scope=col>Netherlands</th><th scope=col>New.Zealand</th><th scope=col>Norway</th><th scope=col>Sweden</th><th scope=col>Switzerland</th><th scope=col>UK</th><th scope=col>USA</th></tr></thead>\n",
       "<tbody>\n",
       "\t<tr><th scope=row>(Intercept)</th><td>414.7712254</td><td>423.077279 </td><td>-56.926780 </td><td>-227.8218  </td><td>-1399.35735</td><td>108.2245   </td><td>202.4261408</td><td>95.657134  </td><td>-94.78661  </td><td>-738.74531 </td><td>964.73750  </td><td>-32.627678 </td><td>721.3464   </td><td>-458.22397 </td><td>513.16704  </td><td>-5.1988836 </td><td>936.10154  </td><td>111.440651 </td></tr>\n",
       "\t<tr><th scope=row>left.parliament</th><td> -0.8638052</td><td> -8.210886 </td><td>  8.447463 </td><td>  17.6766  </td><td>   34.34477</td><td> 12.8422   </td><td> -0.4255319</td><td>-1.312305  </td><td> 55.46721  </td><td>  40.29109 </td><td>-24.07595  </td><td>  1.694387 </td><td>-10.0106   </td><td>  10.46523 </td><td> -8.62072  </td><td> 0.3203399 </td><td>-13.42792  </td><td>  5.918647 </td></tr>\n",
       "</tbody>\n",
       "</table>\n"
      ],
      "text/latex": [
       "\\begin{tabular}{r|llllllllllllllllll}\n",
       "  & Australia & Austria & Belgium & Canada & Denmark & Finland & France & Germany & Ireland & Italy & Japan & Netherlands & New.Zealand & Norway & Sweden & Switzerland & UK & USA\\\\\n",
       "\\hline\n",
       "\t(Intercept) & 414.7712254 & 423.077279  & -56.926780  & -227.8218   & -1399.35735 & 108.2245    & 202.4261408 & 95.657134   & -94.78661   & -738.74531  & 964.73750   & -32.627678  & 721.3464    & -458.22397  & 513.16704   & -5.1988836  & 936.10154   & 111.440651 \\\\\n",
       "\tleft.parliament &  -0.8638052 &  -8.210886  &   8.447463  &   17.6766   &    34.34477 &  12.8422    &  -0.4255319 & -1.312305   &  55.46721   &   40.29109  & -24.07595   &   1.694387  & -10.0106    &   10.46523  &  -8.62072   &  0.3203399  & -13.42792   &   5.918647 \\\\\n",
       "\\end{tabular}\n"
      ],
      "text/markdown": [
       "\n",
       "| <!--/--> | Australia | Austria | Belgium | Canada | Denmark | Finland | France | Germany | Ireland | Italy | Japan | Netherlands | New.Zealand | Norway | Sweden | Switzerland | UK | USA |\n",
       "|---|---|---|---|---|---|---|---|---|---|---|---|---|---|---|---|---|---|---|\n",
       "| (Intercept) | 414.7712254 | 423.077279  | -56.926780  | -227.8218   | -1399.35735 | 108.2245    | 202.4261408 | 95.657134   | -94.78661   | -738.74531  | 964.73750   | -32.627678  | 721.3464    | -458.22397  | 513.16704   | -5.1988836  | 936.10154   | 111.440651  |\n",
       "| left.parliament |  -0.8638052 |  -8.210886  |   8.447463  |   17.6766   |    34.34477 |  12.8422    |  -0.4255319 | -1.312305   |  55.46721   |   40.29109  | -24.07595   |   1.694387  | -10.0106    |   10.46523  |  -8.62072   |  0.3203399  | -13.42792   |   5.918647  |\n",
       "\n"
      ],
      "text/plain": [
       "                Australia   Austria    Belgium    Canada    Denmark    \n",
       "(Intercept)     414.7712254 423.077279 -56.926780 -227.8218 -1399.35735\n",
       "left.parliament  -0.8638052  -8.210886   8.447463   17.6766    34.34477\n",
       "                Finland  France      Germany   Ireland   Italy      Japan    \n",
       "(Intercept)     108.2245 202.4261408 95.657134 -94.78661 -738.74531 964.73750\n",
       "left.parliament  12.8422  -0.4255319 -1.312305  55.46721   40.29109 -24.07595\n",
       "                Netherlands New.Zealand Norway     Sweden    Switzerland\n",
       "(Intercept)     -32.627678  721.3464    -458.22397 513.16704 -5.1988836 \n",
       "left.parliament   1.694387  -10.0106      10.46523  -8.62072  0.3203399 \n",
       "                UK        USA       \n",
       "(Intercept)     936.10154 111.440651\n",
       "left.parliament -13.42792   5.918647"
      ]
     },
     "metadata": {},
     "output_type": "display_data"
    }
   ],
   "source": [
    "# Getting regression coefficients separately\n",
    "\n",
    "# For each country, old way:\n",
    "strike.list <- split(strikes, strikes$country)\n",
    "strikes.coefs <- sapply(strike.list, my.strike.lm)\n",
    "strikes.coefs"
   ]
  },
  {
   "cell_type": "code",
   "execution_count": 22,
   "id": "e70b61f7",
   "metadata": {},
   "outputs": [
    {
     "name": "stderr",
     "output_type": "stream",
     "text": [
      "------------------------------------------------------------------------------\n",
      "You have loaded plyr after dplyr - this is likely to cause problems.\n",
      "If you need functions from both plyr and dplyr, please load plyr first, then dplyr:\n",
      "library(plyr); library(dplyr)\n",
      "------------------------------------------------------------------------------\n",
      "\n",
      "Attaching package: 'plyr'\n",
      "\n",
      "The following objects are masked from 'package:dplyr':\n",
      "\n",
      "    arrange, count, desc, failwith, id, mutate, rename, summarise,\n",
      "    summarize\n",
      "\n"
     ]
    },
    {
     "name": "stdout",
     "output_type": "stream",
     "text": [
      "           \n",
      "country     (Intercept) left.parliament\n",
      "  Australia   414.77123      -0.8638052\n",
      "  Austria     423.07728      -8.2108864\n",
      "  Belgium     -56.92678       8.4474627\n"
     ]
    },
    {
     "data": {
      "text/html": [
       "'_____________________________________________'"
      ],
      "text/latex": [
       "'\\_\\_\\_\\_\\_\\_\\_\\_\\_\\_\\_\\_\\_\\_\\_\\_\\_\\_\\_\\_\\_\\_\\_\\_\\_\\_\\_\\_\\_\\_\\_\\_\\_\\_\\_\\_\\_\\_\\_\\_\\_\\_\\_\\_\\_'"
      ],
      "text/markdown": [
       "'_____________________________________________'"
      ],
      "text/plain": [
       "[1] \"_____________________________________________\""
      ]
     },
     "metadata": {},
     "output_type": "display_data"
    },
    {
     "name": "stdout",
     "output_type": "stream",
     "text": [
      "    country (Intercept) left.parliament\n",
      "1 Australia   414.77123      -0.8638052\n",
      "2   Austria   423.07728      -8.2108864\n",
      "3   Belgium   -56.92678       8.4474627\n"
     ]
    },
    {
     "data": {
      "text/html": [
       "'_____________________________________________'"
      ],
      "text/latex": [
       "'\\_\\_\\_\\_\\_\\_\\_\\_\\_\\_\\_\\_\\_\\_\\_\\_\\_\\_\\_\\_\\_\\_\\_\\_\\_\\_\\_\\_\\_\\_\\_\\_\\_\\_\\_\\_\\_\\_\\_\\_\\_\\_\\_\\_\\_'"
      ],
      "text/markdown": [
       "'_____________________________________________'"
      ],
      "text/plain": [
       "[1] \"_____________________________________________\""
      ]
     },
     "metadata": {},
     "output_type": "display_data"
    },
    {
     "name": "stdout",
     "output_type": "stream",
     "text": [
      "$Australia\n",
      "    (Intercept) left.parliament \n",
      "    414.7712254      -0.8638052 \n",
      "\n",
      "$Austria\n",
      "    (Intercept) left.parliament \n",
      "     423.077279       -8.210886 \n",
      "\n",
      "$Belgium\n",
      "    (Intercept) left.parliament \n",
      "     -56.926780        8.447463 \n",
      "\n"
     ]
    }
   ],
   "source": [
    "# New way, in three formats:\n",
    "library(plyr)\n",
    "library(dplyr)\n",
    "\n",
    "# Get back an array, note the difference to sapply()\n",
    "strike.coef.a <- daply(strikes, .(country), my.strike.lm)\n",
    "strike.coef.a %>% head(3) %>% print\n",
    "\"_____________________________________________\"\n",
    "\n",
    "# Get back a data frame\n",
    "strike.coef.d <- ddply(strikes, .(country), my.strike.lm)\n",
    "strike.coef.d %>% head(3) %>% print\n",
    "\"_____________________________________________\"\n",
    "\n",
    "# Get back a list\n",
    "strike.coef.l <- dlply(strikes, .(country), my.strike.lm)\n",
    "strike.coef.l %>% head(3) %>% print"
   ]
  },
  {
   "cell_type": "markdown",
   "id": "3147c27f",
   "metadata": {},
   "source": [
    "# Section 5: purrr\n",
    "\n",
    "### pipeline\n",
    "\n",
    "• purrr因为其各种各样的map函数而广泛使用\n",
    "\n",
    "• map函数与Base R的那些apply函数们相似，但map函数允许pipe的使用。除此之外，有一些map函数提供了apply函数们不具有的新功能。\n",
    "\n",
    "• 所有的purrr函数都具有**数据结构稳定性(type-stable)**。它们始终返回各函数所固定的数据类型，例如：map()返回list，map_dbl()返回double vectors。若无法返回这种数据类型则报错。\n",
    "\n",
    "• 所有的map()函数可以接受函数、公式、character vector或numeric vector。\n",
    "\n",
    "### map函数将输入转换为与其长度相同的vector（需要安装dplyr）：\n",
    "• map()返回list或dataframe。\n",
    "\n",
    "• map_lgl(), map_int(), map_dbl(), map_chr()返回对应类型的vector，即logical，integer，double integer，character。\n",
    "\n",
    "• map_dfr()和map_dfc()分别返回row-binding dataframe和column-binding dataframe。"
   ]
  },
  {
   "cell_type": "markdown",
   "id": "33e6cab2",
   "metadata": {},
   "source": [
    "## Basic Example"
   ]
  },
  {
   "cell_type": "code",
   "execution_count": 23,
   "id": "75860f30",
   "metadata": {},
   "outputs": [
    {
     "name": "stderr",
     "output_type": "stream",
     "text": [
      "\n",
      "Attaching package: 'purrr'\n",
      "\n",
      "The following object is masked from 'package:plyr':\n",
      "\n",
      "    compact\n",
      "\n",
      "The following object is masked from 'package:magrittr':\n",
      "\n",
      "    set_names\n",
      "\n",
      "The following object is masked from 'package:data.table':\n",
      "\n",
      "    transpose\n",
      "\n"
     ]
    },
    {
     "data": {
      "text/html": [
       "<ol>\n",
       "\t<li>0</li>\n",
       "\t<li>1</li>\n",
       "\t<li>6.90775527898214</li>\n",
       "</ol>\n"
      ],
      "text/latex": [
       "\\begin{enumerate}\n",
       "\\item 0\n",
       "\\item 1\n",
       "\\item 6.90775527898214\n",
       "\\end{enumerate}\n"
      ],
      "text/markdown": [
       "1. 0\n",
       "2. 1\n",
       "3. 6.90775527898214\n",
       "\n",
       "\n"
      ],
      "text/plain": [
       "[[1]]\n",
       "[1] 0\n",
       "\n",
       "[[2]]\n",
       "[1] 1\n",
       "\n",
       "[[3]]\n",
       "[1] 6.907755\n"
      ]
     },
     "metadata": {},
     "output_type": "display_data"
    }
   ],
   "source": [
    "library(\"purrr\")\n",
    "\n",
    "# map() will output a list.\n",
    "map(c(1,exp(1),1000),log)"
   ]
  },
  {
   "cell_type": "code",
   "execution_count": 24,
   "id": "030c40e4",
   "metadata": {},
   "outputs": [
    {
     "data": {
      "text/html": [
       "<ol class=list-inline>\n",
       "\t<li>0</li>\n",
       "\t<li>0.693147180559945</li>\n",
       "\t<li>1.09861228866811</li>\n",
       "</ol>\n"
      ],
      "text/latex": [
       "\\begin{enumerate*}\n",
       "\\item 0\n",
       "\\item 0.693147180559945\n",
       "\\item 1.09861228866811\n",
       "\\end{enumerate*}\n"
      ],
      "text/markdown": [
       "1. 0\n",
       "2. 0.693147180559945\n",
       "3. 1.09861228866811\n",
       "\n",
       "\n"
      ],
      "text/plain": [
       "[1] 0.0000000 0.6931472 1.0986123"
      ]
     },
     "metadata": {},
     "output_type": "display_data"
    },
    {
     "data": {
      "text/html": [
       "<ol class=list-inline>\n",
       "\t<li>0</li>\n",
       "\t<li>0.693147180559945</li>\n",
       "\t<li>1.09861228866811</li>\n",
       "</ol>\n"
      ],
      "text/latex": [
       "\\begin{enumerate*}\n",
       "\\item 0\n",
       "\\item 0.693147180559945\n",
       "\\item 1.09861228866811\n",
       "\\end{enumerate*}\n"
      ],
      "text/markdown": [
       "1. 0\n",
       "2. 0.693147180559945\n",
       "3. 1.09861228866811\n",
       "\n",
       "\n"
      ],
      "text/plain": [
       "[1] 0.0000000 0.6931472 1.0986123"
      ]
     },
     "metadata": {},
     "output_type": "display_data"
    }
   ],
   "source": [
    "# map_dbl() outputs a double precision vector.\n",
    "map_dbl(1:3,log)\n",
    "\n",
    "# It will return error if we force to use map_int().\n",
    "# map_int(1:3, log)\n",
    "\n",
    "# map() is often used in a pipeline.\n",
    "1:3 %>% map_dbl(log)"
   ]
  },
  {
   "cell_type": "code",
   "execution_count": 25,
   "id": "29958b91",
   "metadata": {},
   "outputs": [
    {
     "data": {
      "text/html": [
       "<ol class=list-inline>\n",
       "\t<li>0.841470984807897</li>\n",
       "\t<li>1.41078129050291</li>\n",
       "\t<li>7.73463481951414</li>\n",
       "</ol>\n"
      ],
      "text/latex": [
       "\\begin{enumerate*}\n",
       "\\item 0.841470984807897\n",
       "\\item 1.41078129050291\n",
       "\\item 7.73463481951414\n",
       "\\end{enumerate*}\n"
      ],
      "text/markdown": [
       "1. 0.841470984807897\n",
       "2. 1.41078129050291\n",
       "3. 7.73463481951414\n",
       "\n",
       "\n"
      ],
      "text/plain": [
       "[1] 0.841471 1.410781 7.734635"
      ]
     },
     "metadata": {},
     "output_type": "display_data"
    },
    {
     "data": {
      "text/html": [
       "<ol class=list-inline>\n",
       "\t<li>0.841470984807897</li>\n",
       "\t<li>1.41078129050291</li>\n",
       "\t<li>7.73463481951414</li>\n",
       "</ol>\n"
      ],
      "text/latex": [
       "\\begin{enumerate*}\n",
       "\\item 0.841470984807897\n",
       "\\item 1.41078129050291\n",
       "\\item 7.73463481951414\n",
       "\\end{enumerate*}\n"
      ],
      "text/markdown": [
       "1. 0.841470984807897\n",
       "2. 1.41078129050291\n",
       "3. 7.73463481951414\n",
       "\n",
       "\n"
      ],
      "text/plain": [
       "[1] 0.841471 1.410781 7.734635"
      ]
     },
     "metadata": {},
     "output_type": "display_data"
    }
   ],
   "source": [
    "# Write a R function\n",
    "f <- function(x){\n",
    "    return(log(x)+sin(x))\n",
    "}\n",
    "\n",
    "f(c(1, exp(1), 1000))\n",
    "\n",
    "# Or use vectorized R operations\n",
    "c(1, exp(1), 1000) %>% map_dbl(~log(.)+sin(.)) # 这类似于python中的lambda"
   ]
  },
  {
   "cell_type": "markdown",
   "id": "eb2e4eb9",
   "metadata": {},
   "source": [
    "### Research Question\n",
    "• Is there a relationship between a country’s ruling party alignment (left versus right) and the volume of strikes?\n",
    "\n",
    "• Use a pipeline to accomplish this task."
   ]
  },
  {
   "cell_type": "code",
   "execution_count": 26,
   "id": "cefec56c",
   "metadata": {},
   "outputs": [
    {
     "data": {
      "text/html": [
       "<dl>\n",
       "\t<dt>$Australia</dt>\n",
       "\t\t<dd><dl class=dl-horizontal>\n",
       "\t<dt>(Intercept)</dt>\n",
       "\t\t<dd>414.771225376031</dd>\n",
       "\t<dt>left.parliament</dt>\n",
       "\t\t<dd>-0.86380519115795</dd>\n",
       "</dl>\n",
       "</dd>\n",
       "\t<dt>$Austria</dt>\n",
       "\t\t<dd><dl class=dl-horizontal>\n",
       "\t<dt>(Intercept)</dt>\n",
       "\t\t<dd>423.077279226955</dd>\n",
       "\t<dt>left.parliament</dt>\n",
       "\t\t<dd>-8.21088636778813</dd>\n",
       "</dl>\n",
       "</dd>\n",
       "\t<dt>$Belgium</dt>\n",
       "\t\t<dd><dl class=dl-horizontal>\n",
       "\t<dt>(Intercept)</dt>\n",
       "\t\t<dd>-56.926779661773</dd>\n",
       "\t<dt>left.parliament</dt>\n",
       "\t\t<dd>8.44746270221127</dd>\n",
       "</dl>\n",
       "</dd>\n",
       "</dl>\n"
      ],
      "text/latex": [
       "\\begin{description}\n",
       "\\item[\\$Australia] \\begin{description*}\n",
       "\\item[(Intercept)] 414.771225376031\n",
       "\\item[left.parliament] -0.86380519115795\n",
       "\\end{description*}\n",
       "\n",
       "\\item[\\$Austria] \\begin{description*}\n",
       "\\item[(Intercept)] 423.077279226955\n",
       "\\item[left.parliament] -8.21088636778813\n",
       "\\end{description*}\n",
       "\n",
       "\\item[\\$Belgium] \\begin{description*}\n",
       "\\item[(Intercept)] -56.926779661773\n",
       "\\item[left.parliament] 8.44746270221127\n",
       "\\end{description*}\n",
       "\n",
       "\\end{description}\n"
      ],
      "text/markdown": [
       "$Australia\n",
       ":   (Intercept)\n",
       ":   414.771225376031left.parliament\n",
       ":   -0.86380519115795\n",
       "\n",
       "\n",
       "$Austria\n",
       ":   (Intercept)\n",
       ":   423.077279226955left.parliament\n",
       ":   -8.21088636778813\n",
       "\n",
       "\n",
       "$Belgium\n",
       ":   (Intercept)\n",
       ":   -56.926779661773left.parliament\n",
       ":   8.44746270221127\n",
       "\n",
       "\n",
       "\n",
       "\n"
      ],
      "text/plain": [
       "$Australia\n",
       "    (Intercept) left.parliament \n",
       "    414.7712254      -0.8638052 \n",
       "\n",
       "$Austria\n",
       "    (Intercept) left.parliament \n",
       "     423.077279       -8.210886 \n",
       "\n",
       "$Belgium\n",
       "    (Intercept) left.parliament \n",
       "     -56.926780        8.447463 \n"
      ]
     },
     "metadata": {},
     "output_type": "display_data"
    }
   ],
   "source": [
    "strike.coef <- strikes %>% split(.$country) %>% \n",
    "    map(~lm(strike.volume~left.parliament, data =.)) %>% \n",
    "    map(coef) # 最后一个map的作用是从上一个map函数得到的lm()模型中提取参数，函数为coef()\n",
    "head(strike.coef, 3)"
   ]
  },
  {
   "cell_type": "markdown",
   "id": "2936e240",
   "metadata": {},
   "source": [
    "### Research Question\n",
    "• Is there a relationship between a country’s ruling party alignment (left versus right) and the volume of strikes?\n",
    "\n",
    "• Let's use map and the pipeline to reformulate a more \"tidyverse\" solution:"
   ]
  },
  {
   "cell_type": "code",
   "execution_count": 27,
   "id": "b53252b7",
   "metadata": {},
   "outputs": [
    {
     "name": "stderr",
     "output_type": "stream",
     "text": [
      "Registered S3 methods overwritten by 'ggplot2':\n",
      "  method         from \n",
      "  [.quosures     rlang\n",
      "  c.quosures     rlang\n",
      "  print.quosures rlang\n",
      "Registered S3 method overwritten by 'rvest':\n",
      "  method            from\n",
      "  read_xml.response xml2\n",
      "-- Attaching packages --------------------------------------- tidyverse 1.2.1 --\n",
      "√ ggplot2 3.1.1     √ stringr 1.4.0\n",
      "√ tidyr   0.8.3     √ forcats 0.4.0\n",
      "-- Conflicts ------------------------------------------ tidyverse_conflicts() --\n",
      "x plyr::arrange()    masks dplyr::arrange()\n",
      "x dplyr::between()   masks data.table::between()\n",
      "x purrr::compact()   masks plyr::compact()\n",
      "x plyr::count()      masks dplyr::count()\n",
      "x tidyr::extract()   masks magrittr::extract()\n",
      "x plyr::failwith()   masks dplyr::failwith()\n",
      "x dplyr::filter()    masks stats::filter()\n",
      "x dplyr::first()     masks data.table::first()\n",
      "x plyr::id()         masks dplyr::id()\n",
      "x dplyr::lag()       masks stats::lag()\n",
      "x dplyr::last()      masks data.table::last()\n",
      "x plyr::mutate()     masks dplyr::mutate()\n",
      "x plyr::rename()     masks dplyr::rename()\n",
      "x purrr::set_names() masks magrittr::set_names()\n",
      "x plyr::summarise()  masks dplyr::summarise()\n",
      "x plyr::summarize()  masks dplyr::summarize()\n",
      "x purrr::transpose() masks data.table::transpose()\n"
     ]
    },
    {
     "data": {
      "text/html": [
       "<table>\n",
       "<thead><tr><th scope=col>Australia</th><th scope=col>Austria</th><th scope=col>Belgium</th><th scope=col>Canada</th><th scope=col>Denmark</th><th scope=col>Finland</th><th scope=col>France</th><th scope=col>Germany</th><th scope=col>Ireland</th><th scope=col>Italy</th><th scope=col>Japan</th><th scope=col>Netherlands</th><th scope=col>New.Zealand</th><th scope=col>Norway</th><th scope=col>Sweden</th><th scope=col>Switzerland</th><th scope=col>UK</th><th scope=col>USA</th></tr></thead>\n",
       "<tbody>\n",
       "\t<tr><td>414.7712254</td><td>423.077279 </td><td>-56.926780 </td><td>-227.8218  </td><td>-1399.35735</td><td>108.2245   </td><td>202.4261408</td><td>95.657134  </td><td>-94.78661  </td><td>-738.74531 </td><td>964.73750  </td><td>-32.627678 </td><td>721.3464   </td><td>-458.22397 </td><td>513.16704  </td><td>-5.1988836 </td><td>936.10154  </td><td>111.440651 </td></tr>\n",
       "\t<tr><td> -0.8638052</td><td> -8.210886 </td><td>  8.447463 </td><td>  17.6766  </td><td>   34.34477</td><td> 12.8422   </td><td> -0.4255319</td><td>-1.312305  </td><td> 55.46721  </td><td>  40.29109 </td><td>-24.07595  </td><td>  1.694387 </td><td>-10.0106   </td><td>  10.46523 </td><td> -8.62072  </td><td> 0.3203399 </td><td>-13.42792  </td><td>  5.918647 </td></tr>\n",
       "</tbody>\n",
       "</table>\n"
      ],
      "text/latex": [
       "\\begin{tabular}{r|llllllllllllllllll}\n",
       " Australia & Austria & Belgium & Canada & Denmark & Finland & France & Germany & Ireland & Italy & Japan & Netherlands & New.Zealand & Norway & Sweden & Switzerland & UK & USA\\\\\n",
       "\\hline\n",
       "\t 414.7712254 & 423.077279  & -56.926780  & -227.8218   & -1399.35735 & 108.2245    & 202.4261408 & 95.657134   & -94.78661   & -738.74531  & 964.73750   & -32.627678  & 721.3464    & -458.22397  & 513.16704   & -5.1988836  & 936.10154   & 111.440651 \\\\\n",
       "\t  -0.8638052 &  -8.210886  &   8.447463  &   17.6766   &    34.34477 &  12.8422    &  -0.4255319 & -1.312305   &  55.46721   &   40.29109  & -24.07595   &   1.694387  & -10.0106    &   10.46523  &  -8.62072   &  0.3203399  & -13.42792   &   5.918647 \\\\\n",
       "\\end{tabular}\n"
      ],
      "text/markdown": [
       "\n",
       "| Australia | Austria | Belgium | Canada | Denmark | Finland | France | Germany | Ireland | Italy | Japan | Netherlands | New.Zealand | Norway | Sweden | Switzerland | UK | USA |\n",
       "|---|---|---|---|---|---|---|---|---|---|---|---|---|---|---|---|---|---|\n",
       "| 414.7712254 | 423.077279  | -56.926780  | -227.8218   | -1399.35735 | 108.2245    | 202.4261408 | 95.657134   | -94.78661   | -738.74531  | 964.73750   | -32.627678  | 721.3464    | -458.22397  | 513.16704   | -5.1988836  | 936.10154   | 111.440651  |\n",
       "|  -0.8638052 |  -8.210886  |   8.447463  |   17.6766   |    34.34477 |  12.8422    |  -0.4255319 | -1.312305   |  55.46721   |   40.29109  | -24.07595   |   1.694387  | -10.0106    |   10.46523  |  -8.62072   |  0.3203399  | -13.42792   |   5.918647  |\n",
       "\n"
      ],
      "text/plain": [
       "  Australia   Austria    Belgium    Canada    Denmark     Finland  France     \n",
       "1 414.7712254 423.077279 -56.926780 -227.8218 -1399.35735 108.2245 202.4261408\n",
       "2  -0.8638052  -8.210886   8.447463   17.6766    34.34477  12.8422  -0.4255319\n",
       "  Germany   Ireland   Italy      Japan     Netherlands New.Zealand Norway    \n",
       "1 95.657134 -94.78661 -738.74531 964.73750 -32.627678  721.3464    -458.22397\n",
       "2 -1.312305  55.46721   40.29109 -24.07595   1.694387  -10.0106      10.46523\n",
       "  Sweden    Switzerland UK        USA       \n",
       "1 513.16704 -5.1988836  936.10154 111.440651\n",
       "2  -8.62072  0.3203399  -13.42792   5.918647"
      ]
     },
     "metadata": {},
     "output_type": "display_data"
    }
   ],
   "source": [
    "library(\"tidyverse\")\n",
    "strike.coef <- strikes %>% split(.$country) %>% \n",
    "    map(~lm(strike.volume~left.parliament, data=.)) %>% \n",
    "    map_dfc(coef)\n",
    "\n",
    "strike.coef"
   ]
  },
  {
   "cell_type": "markdown",
   "id": "20660f0b",
   "metadata": {},
   "source": [
    "### Research Question\n",
    "• Consider the following example taken directly from the tidyverse website: https://www.tidyverse.org\n",
    "\n",
    "• The following example uses purrr to solve a fairly realistic problem:\n",
    "split a data frame into pieces, fit a model to each piece, compute the\n",
    "summary, then extract the $\\mathit{R}^{2}$."
   ]
  },
  {
   "cell_type": "code",
   "execution_count": 28,
   "id": "dbc83cc4",
   "metadata": {},
   "outputs": [
    {
     "data": {
      "text/html": [
       "<dl class=dl-horizontal>\n",
       "\t<dt>4</dt>\n",
       "\t\t<dd>0.50863259632314</dd>\n",
       "\t<dt>6</dt>\n",
       "\t\t<dd>0.464510150550548</dd>\n",
       "\t<dt>8</dt>\n",
       "\t\t<dd>0.422965536496111</dd>\n",
       "</dl>\n"
      ],
      "text/latex": [
       "\\begin{description*}\n",
       "\\item[4] 0.50863259632314\n",
       "\\item[6] 0.464510150550548\n",
       "\\item[8] 0.422965536496111\n",
       "\\end{description*}\n"
      ],
      "text/markdown": [
       "4\n",
       ":   0.508632596323146\n",
       ":   0.4645101505505488\n",
       ":   0.422965536496111\n",
       "\n"
      ],
      "text/plain": [
       "        4         6         8 \n",
       "0.5086326 0.4645102 0.4229655 "
      ]
     },
     "metadata": {},
     "output_type": "display_data"
    }
   ],
   "source": [
    "mtcars %>% split(.$cyl) %>% \n",
    "    map(~lm(mpg~wt, data=.)) %>% \n",
    "    map(summary) %>% \n",
    "    map_dbl(\"r.squared\")"
   ]
  },
  {
   "cell_type": "markdown",
   "id": "a1fe5aff",
   "metadata": {},
   "source": [
    "## Miscellaneous purrr functions\n",
    "• purrr同时也提供一些map()函数，它们具有apply函数们所不具有的功能。\n",
    "\n",
    "• 例如: invoke_map()，它可以将一系列函数组成的list遍历应用在一系列input组成的list上。\n",
    "\n",
    "### Motivation\n",
    "• Suppose you want to explore the relationship unemployment has on inflation given the strikes dataset. You decide that you wish to use a robust estimation procedure, but are unsure of whether to use absolute value loss or Huber loss. You also include squared loss as a baseline.\n",
    "\n",
    "• invoke_map() allows you to estimate the parameters of both loss functions simultaneously so that you can quickly compare their results.\n",
    "\n",
    "• We will use gradient descent (nlm() function) to optimize the parameters for all three loss functions simultaneously.\n"
   ]
  },
  {
   "cell_type": "code",
   "execution_count": 29,
   "id": "2f245b7a",
   "metadata": {},
   "outputs": [
    {
     "ename": "ERROR",
     "evalue": "Error: 'cli_h1' is not an exported object from 'namespace:cli'\n",
     "output_type": "error",
     "traceback": [
      "Error: 'cli_h1' is not an exported object from 'namespace:cli'\nTraceback:\n",
      "1. read_csv(\"strikes.csv\")",
      "2. read_delimited(file, tokenizer, col_names = col_names, col_types = col_types, \n .     locale = locale, skip = skip, skip_empty_rows = skip_empty_rows, \n .     comment = comment, n_max = n_max, guess_max = guess_max, \n .     progress = progress)",
      "3. show_cols_spec(spec)",
      "4. cli_block(class = \"readr_spec_message\", {\n .     cli::cli_h1(\"Column specification\")\n .     txt <- strsplit(format(spec, n = n, condense = NULL), \"\\n\")[[1]]\n .     cli::cli_verbatim(txt)\n .     if (length(spec$cols) >= n) {\n .         cli::cli_alert_info(\"Use {.fn spec} for the full column specifications.\")\n .     }\n . })",
      "5. withCallingHandlers(expr, message = function(x) {\n .     msg <<- paste0(msg, x$message)\n .     invokeRestart(\"muffleMessage\")\n . })",
      "6. cli::cli_h1",
      "7. getExportedValue(pkg, name)",
      "8. stop(gettextf(\"'%s' is not an exported object from 'namespace:%s'\", \n .     name, getNamespaceName(ns)), call. = FALSE, domain = NA)"
     ]
    }
   ],
   "source": [
    "# First, load in the data\n",
    "\n",
    "\n",
    "\n",
    "df <- read_csv(\"strikes.csv\")\n",
    "x <- df %>% select(unemployment)\n",
    "y <- df %>% select(inflation)\n",
    "\n",
    "# A starting point for our betas when we run our optimization procedure.\n",
    "beta <- rep(0,2)\n",
    "\n",
    "head(df)"
   ]
  },
  {
   "cell_type": "code",
   "execution_count": 31,
   "id": "47c5b723",
   "metadata": {},
   "outputs": [],
   "source": [
    "?read_csv"
   ]
  },
  {
   "cell_type": "code",
   "execution_count": 41,
   "id": "055fb2ea",
   "metadata": {},
   "outputs": [
    {
     "ename": "ERROR",
     "evalue": "Error in get(method, envir = home): lazy-load database 'C:/Users/asus/anaconda3/Lib/R/library/cli/R/cli.rdb' is corrupt\n",
     "output_type": "error",
     "traceback": [
      "Error in get(method, envir = home): lazy-load database 'C:/Users/asus/anaconda3/Lib/R/library/cli/R/cli.rdb' is corrupt\nTraceback:\n",
      "1. read_csv(\"diamonds.csv\")",
      "2. read_delimited(file, tokenizer, col_names = col_names, col_types = col_types, \n .     locale = locale, skip = skip, skip_empty_rows = skip_empty_rows, \n .     comment = comment, n_max = n_max, guess_max = guess_max, \n .     progress = progress)",
      "3. show_cols_spec(spec)",
      "4. cli_block(class = \"readr_spec_message\", {\n .     cli::cli_h1(\"Column specification\")\n .     txt <- strsplit(format(spec, n = n, condense = NULL), \"\\n\")[[1]]\n .     cli::cli_verbatim(txt)\n .     if (length(spec$cols) >= n) {\n .         cli::cli_alert_info(\"Use {.fn spec} for the full column specifications.\")\n .     }\n . })",
      "5. withCallingHandlers(expr, message = function(x) {\n .     msg <<- paste0(msg, x$message)\n .     invokeRestart(\"muffleMessage\")\n . })",
      "6. cli::cli_h1",
      "7. getExportedValue(pkg, name)",
      "8. asNamespace(ns)",
      "9. getNamespace(ns)",
      "10. loadNamespace(name)",
      "11. registerS3methods(nsInfo$S3methods, package, env)",
      "12. .registerS3method(fin[i, 1], fin[i, 2], fin[i, 3], fin[i, 4], \n  .     env)",
      "13. get(method, envir = home)"
     ]
    }
   ],
   "source": [
    "df <- read_csv(\"diamonds.csv\")"
   ]
  },
  {
   "cell_type": "code",
   "execution_count": 43,
   "id": "21a0040a",
   "metadata": {},
   "outputs": [
    {
     "ename": "ERROR",
     "evalue": "Error: package or namespace load failed for 'cli' in get(method, envir = home):\n lazy-load database 'C:/Users/asus/anaconda3/Lib/R/library/cli/R/cli.rdb' is corrupt\n",
     "output_type": "error",
     "traceback": [
      "Error: package or namespace load failed for 'cli' in get(method, envir = home):\n lazy-load database 'C:/Users/asus/anaconda3/Lib/R/library/cli/R/cli.rdb' is corrupt\nTraceback:\n",
      "1. library(\"cli\")",
      "2. tryCatch({\n .     attr(package, \"LibPath\") <- which.lib.loc\n .     ns <- loadNamespace(package, lib.loc)\n .     env <- attachNamespace(ns, pos = pos, deps, exclude, include.only)\n . }, error = function(e) {\n .     P <- if (!is.null(cc <- conditionCall(e))) \n .         paste(\" in\", deparse(cc)[1L])\n .     else \"\"\n .     msg <- gettextf(\"package or namespace load failed for %s%s:\\n %s\", \n .         sQuote(package), P, conditionMessage(e))\n .     if (logical.return) \n .         message(paste(\"Error:\", msg), domain = NA)\n .     else stop(msg, call. = FALSE, domain = NA)\n . })",
      "3. tryCatchList(expr, classes, parentenv, handlers)",
      "4. tryCatchOne(expr, names, parentenv, handlers[[1L]])",
      "5. value[[3L]](cond)",
      "6. stop(msg, call. = FALSE, domain = NA)"
     ]
    }
   ],
   "source": [
    "library(\"cli\")"
   ]
  },
  {
   "cell_type": "code",
   "execution_count": null,
   "id": "f280376b",
   "metadata": {},
   "outputs": [],
   "source": []
  }
 ],
 "metadata": {
  "kernelspec": {
   "display_name": "R",
   "language": "R",
   "name": "ir"
  },
  "language_info": {
   "codemirror_mode": "r",
   "file_extension": ".r",
   "mimetype": "text/x-r-source",
   "name": "R",
   "pygments_lexer": "r",
   "version": "3.6.1"
  }
 },
 "nbformat": 4,
 "nbformat_minor": 5
}
