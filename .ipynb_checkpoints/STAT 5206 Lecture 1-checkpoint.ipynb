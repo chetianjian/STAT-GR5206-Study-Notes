{
 "cells": [
  {
   "cell_type": "markdown",
   "id": "60da4f4a",
   "metadata": {},
   "source": [
    "### “A data scientist is a better computer scientist than a statistician and is a better statistician than a computer scientist.”"
   ]
  },
  {
   "cell_type": "code",
   "execution_count": 1,
   "id": "3697290e",
   "metadata": {},
   "outputs": [
    {
     "name": "stdout",
     "output_type": "stream",
     "text": [
      "[1]  5 29 13 87\n"
     ]
    }
   ],
   "source": [
    "# Create a vector named x in R, where c() represents 'concatenate'\n",
    "\n",
    "x <- c(5, 29, 13, 87)\n",
    "print(x)"
   ]
  },
  {
   "cell_type": "code",
   "execution_count": 2,
   "id": "6bc05cb1",
   "metadata": {},
   "outputs": [
    {
     "name": "stdout",
     "output_type": "stream",
     "text": [
      "  [1] -1.35040002  0.69512530  1.49989426 -0.54485110  3.05551767  0.76234469\n",
      "  [7] -0.27107843 -0.40701202  0.33736233  0.36840344 -0.10705811  0.89020463\n",
      " [13]  0.86271366  1.13687491  0.73598169 -0.96484084  0.01841770 -0.65153384\n",
      " [19]  0.52978584  1.48666188  0.44977760 -0.56397778  0.31282684 -0.93198711\n",
      " [25]  0.64839326  0.02206723  0.72086824 -0.18816071 -0.97246231 -0.10209445\n",
      " [31]  0.77970957  1.27144536  0.70584026 -0.78206294 -0.78748078  0.23107149\n",
      " [37]  0.55872319 -0.19451342  0.98944862  0.51321404  0.10448850 -0.59780917\n",
      " [43] -4.18364527 -1.39881746 -0.54746850 -0.19958458 -1.04349787 -3.37630910\n",
      " [49] -1.76934025  0.16505733 -1.89524992 -1.92201743  0.27644289 -0.02346451\n",
      " [55]  0.02412220  0.90969485  1.24509051 -1.93958751 -0.62812811 -0.79558033\n",
      " [61]  0.22045111  1.78256707 -1.01541614 -0.52367780 -1.10860565  0.62167284\n",
      " [67] -1.66284148  0.34696357  1.65513660 -0.61249292  0.25031363  0.54665670\n",
      " [73] -1.71639637  0.96486796  1.17704649 -0.44761313  0.57341314 -1.46511673\n",
      " [79] -0.86617473 -1.52765209  1.90527102  0.63249044  1.55453382 -0.15758504\n",
      " [85] -0.18832601  0.26083571 -0.68983423 -0.43754569 -2.74231194  1.43903293\n",
      " [91] -0.36820108 -0.05942359  1.57285152 -0.51951923  0.35869841  0.06691631\n",
      " [97]  0.27008127  0.96952573 -2.53388654  1.56865654\n"
     ]
    },
    {
     "data": {
      "image/png": "[encoded data removed]",
      "text/plain": [
       "Plot with title \"Histogram of x\""
      ]
     },
     "metadata": {},
     "output_type": "display_data"
    }
   ],
   "source": [
    "# Create simulations of standard normal distribution and plot them\n",
    "\n",
    "x <- rnorm(100)\n",
    "print(x)\n",
    "hist(x)"
   ]
  },
  {
   "cell_type": "code",
   "execution_count": 3,
   "id": "771d0bbe",
   "metadata": {},
   "outputs": [
    {
     "name": "stdout",
     "output_type": "stream",
     "text": [
      " [1]  1  2  3  4  5  6  7  8  9 10 11 12 13 14 15 16 17 18 19 20 21 22 23 24 25\n",
      "[26] 26 27 28 29 30 31 32 33 34 35 36 37 38 39 40 41 42 43 44 45 46 47 48 49 50\n"
     ]
    }
   ],
   "source": [
    "# Create a vector in R nmaed x\n",
    "\n",
    "x <- 1:50\n",
    "print(x)"
   ]
  },
  {
   "cell_type": "markdown",
   "id": "aea4d234",
   "metadata": {},
   "source": [
    "## Base R versus Tidyverse"
   ]
  },
  {
   "cell_type": "markdown",
   "id": "40019665",
   "metadata": {},
   "source": [
    "### What is Base R?\n",
    "It is the core of R and contains the basic functions of language, particularly, for reading and manipulating data."
   ]
  },
  {
   "cell_type": "markdown",
   "id": "10870b16",
   "metadata": {},
   "source": [
    "### Base R utility\n",
    "Base R includes all default code for performing common data manipulation and statistical tasks."
   ]
  },
  {
   "cell_type": "markdown",
   "id": "1ad78e52",
   "metadata": {},
   "source": [
    "### Tidyverse\n",
    "The tidyverse collection of packages often perform the same tasks as Base R.\n",
    "\n",
    "It has more descriptive function names and consistent inputs.\n",
    "\n",
    "It is type-stable.\n",
    "\n",
    "It is often faster than common Base R functions."
   ]
  },
  {
   "cell_type": "markdown",
   "id": "6b7e6750",
   "metadata": {},
   "source": [
    "### Primary tidyverse packages\n",
    "dplyr: data manipulation\n",
    "\n",
    "ggplot2: creating advanced graphics\n",
    "\n",
    "readdr: reading in rectangular data.\n",
    "\n",
    "tibble: A tibble, or tbl_df, is a modern reimagining of the data.frame.\n",
    "\n",
    "tidyr: creating tidy data.\n",
    "\n",
    "purrr: enhancing R’s functional programming (FP)."
   ]
  },
  {
   "cell_type": "markdown",
   "id": "0fc360ec",
   "metadata": {},
   "source": [
    "# Base R"
   ]
  },
  {
   "cell_type": "code",
   "execution_count": 4,
   "id": "15a20b85",
   "metadata": {},
   "outputs": [
    {
     "name": "stdout",
     "output_type": "stream",
     "text": [
      "  [1] 12.648174  9.024529 10.982968 12.760021  4.523741 10.161115 12.716049\n",
      "  [8] 11.720205 14.173528  9.774181  8.132970  4.418935 11.520782 11.191565\n",
      " [15] 10.766579  8.707274 13.505538 15.001872 11.036954 14.514364 12.769804\n",
      " [22]  4.409483 12.752847  8.828061 12.052304 10.086388  4.719321 11.596255\n",
      " [29] 10.019821  8.577572  8.912085 13.830605  9.688644  5.406856  7.736355\n",
      " [36]  5.361508 13.858413 13.408483 12.831322 12.797294 10.717728 10.887263\n",
      " [43] 13.743367 10.144128  2.914182  7.850320 10.533092  8.980168  4.528733\n",
      " [50] 16.842872  2.978291 10.344453 11.393638  8.947009  4.758816  9.587038\n",
      " [57] 15.486688 17.706556  8.874096 12.116574 10.405921 11.719947 19.522894\n",
      " [64] 10.202638 10.684791 10.588247 12.580942 11.719855  8.890426  7.105212\n",
      " [71] 11.337168  8.783189 14.843514 11.206157  6.285054  7.196444  5.749614\n",
      " [78] 10.020930  5.827326 10.852164 15.544743 11.755755  9.476505 10.760925\n",
      " [85]  9.254910 11.350684 12.764875  8.348946  4.193384  7.771128 15.196068\n",
      " [92] 11.503638 11.234523  9.098886  8.951235  8.600338  9.542753  8.044545\n",
      " [99]  9.042393  7.433665\n",
      "[1] 100\n"
     ]
    }
   ],
   "source": [
    "# Create 100 simulations to non-standard normal distribution with mean of 10 and standard deviation of 3\n",
    "\n",
    "x <- rnorm(100, mean = 10, sd = 3)\n",
    "print(x)\n",
    "print(length(x))"
   ]
  },
  {
   "cell_type": "code",
   "execution_count": 5,
   "id": "e37eabac",
   "metadata": {},
   "outputs": [
    {
     "name": "stdout",
     "output_type": "stream",
     "text": [
      " [1] 12.648174  9.024529 10.982968 12.760021  4.523741 10.161115 12.716049\n",
      " [8] 11.720205 14.173528  9.774181  8.132970  4.418935 11.520782 11.191565\n",
      "[15] 10.766579  8.707274 13.505538 15.001872 11.036954 14.514364\n"
     ]
    },
    {
     "data": {
      "image/png": "[encoded data removed]",
      "text/plain": [
       "Plot with title \"Histogram of x\""
      ]
     },
     "metadata": {},
     "output_type": "display_data"
    }
   ],
   "source": [
    "print(head(x,20))\n",
    "hist(x)"
   ]
  },
  {
   "cell_type": "code",
   "execution_count": 6,
   "id": "ab1930e3",
   "metadata": {},
   "outputs": [
    {
     "name": "stdout",
     "output_type": "stream",
     "text": [
      "[1] \"x\"\n"
     ]
    },
    {
     "ename": "ERROR",
     "evalue": "Error in eval(expr, envir, enclos): 找不到对象'z'\n",
     "output_type": "error",
     "traceback": [
      "Error in eval(expr, envir, enclos): 找不到对象'z'\nTraceback:\n"
     ]
    }
   ],
   "source": [
    "# Remove a varible from the environment\n",
    "\n",
    "z <- 1:10\n",
    "rm(z)\n",
    "print(ls())\n",
    "\n",
    "# Check if z exist\n",
    "z"
   ]
  },
  {
   "cell_type": "code",
   "execution_count": 7,
   "id": "644d5d0b",
   "metadata": {
    "scrolled": true
   },
   "outputs": [
    {
     "name": "stdout",
     "output_type": "stream",
     "text": [
      "[1] \"x\" \"z\"\n",
      "character(0)\n"
     ]
    }
   ],
   "source": [
    "# A way to remove all the variables in the environment\n",
    "\n",
    "z <- 1:10\n",
    "print(ls())\n",
    "\n",
    "rm(list = ls())\n",
    "print(ls())"
   ]
  },
  {
   "cell_type": "markdown",
   "id": "b6fb95a2",
   "metadata": {},
   "source": [
    "# Base R: Variable Types, Vectors & Matrices"
   ]
  },
  {
   "cell_type": "markdown",
   "id": "5e64ecde",
   "metadata": {},
   "source": [
    "## Variable Types"
   ]
  },
  {
   "cell_type": "code",
   "execution_count": 8,
   "id": "a5911633",
   "metadata": {},
   "outputs": [
    {
     "name": "stdout",
     "output_type": "stream",
     "text": [
      "[1] \"numeric\"\n",
      "[1] \"numeric\"\n",
      "[1] \"double\"\n",
      "[1] \"integer\"\n"
     ]
    }
   ],
   "source": [
    "# 'Numeric' or 'double' variable type (3.7, 15907, 80.333)\n",
    "\n",
    "x <- 2\n",
    "print(mode(x))\n",
    "print(class(x))\n",
    "print(typeof(x))\n",
    "\n",
    "y <- as.integer(3)\n",
    "print(typeof(y))"
   ]
  },
  {
   "cell_type": "code",
   "execution_count": 9,
   "id": "18f96d03",
   "metadata": {},
   "outputs": [
    {
     "name": "stdout",
     "output_type": "stream",
     "text": [
      "[1] \"double\"\n",
      "[1] \"integer\"\n"
     ]
    }
   ],
   "source": [
    "# 'Integer' variable type (1L, 2L, 3L)\n",
    "\n",
    "x <- 2\n",
    "print(typeof(x))\n",
    "x <- as.integer(x)\n",
    "print(typeof(x))"
   ]
  },
  {
   "cell_type": "code",
   "execution_count": 10,
   "id": "2f312511",
   "metadata": {},
   "outputs": [
    {
     "name": "stdout",
     "output_type": "stream",
     "text": [
      "[1] \"complex\"\n"
     ]
    }
   ],
   "source": [
    "# 'Complex' variable type\n",
    "\n",
    "x <- 1 - 2i\n",
    "print(typeof(x))"
   ]
  },
  {
   "cell_type": "code",
   "execution_count": 11,
   "id": "6f177ac0",
   "metadata": {},
   "outputs": [
    {
     "name": "stdout",
     "output_type": "stream",
     "text": [
      "[1] TRUE\n"
     ]
    }
   ],
   "source": [
    "# 'Character' varibale type\n",
    "\n",
    "name <- 'Columbia University'\n",
    "print(is.character(name))"
   ]
  },
  {
   "cell_type": "code",
   "execution_count": 12,
   "id": "0732a765",
   "metadata": {},
   "outputs": [
    {
     "data": {
      "text/html": [
       "TRUE"
      ],
      "text/latex": [
       "TRUE"
      ],
      "text/markdown": [
       "TRUE"
      ],
      "text/plain": [
       "[1] TRUE"
      ]
     },
     "metadata": {},
     "output_type": "display_data"
    },
    {
     "data": {
      "text/html": [
       "'logical'"
      ],
      "text/latex": [
       "'logical'"
      ],
      "text/markdown": [
       "'logical'"
      ],
      "text/plain": [
       "[1] \"logical\""
      ]
     },
     "metadata": {},
     "output_type": "display_data"
    }
   ],
   "source": [
    "# 'Logical' variable type\n",
    "\n",
    "a <- TRUE\n",
    "b <- F\n",
    "\n",
    "is.logical(b)\n",
    "typeof(a)"
   ]
  },
  {
   "cell_type": "code",
   "execution_count": 13,
   "id": "84351ab9",
   "metadata": {},
   "outputs": [
    {
     "name": "stdout",
     "output_type": "stream",
     "text": [
      "[1] 3\n"
     ]
    },
    {
     "data": {
      "text/html": [
       "TRUE"
      ],
      "text/latex": [
       "TRUE"
      ],
      "text/markdown": [
       "TRUE"
      ],
      "text/plain": [
       "[1] TRUE"
      ]
     },
     "metadata": {},
     "output_type": "display_data"
    },
    {
     "data": {
      "text/html": [
       "TRUE"
      ],
      "text/latex": [
       "TRUE"
      ],
      "text/markdown": [
       "TRUE"
      ],
      "text/plain": [
       "[1] TRUE"
      ]
     },
     "metadata": {},
     "output_type": "display_data"
    }
   ],
   "source": [
    "print(3*TRUE)\n",
    "is.double(3*TRUE)\n",
    "is.character('147')"
   ]
  },
  {
   "cell_type": "code",
   "execution_count": 14,
   "id": "94eb3d69",
   "metadata": {},
   "outputs": [
    {
     "data": {
      "text/html": [
       "<ol class=list-inline>\n",
       "\t<li>2</li>\n",
       "\t<li>3.14159265358979</li>\n",
       "\t<li>0.5</li>\n",
       "\t<li>9</li>\n",
       "</ol>\n"
      ],
      "text/latex": [
       "\\begin{enumerate*}\n",
       "\\item 2\n",
       "\\item 3.14159265358979\n",
       "\\item 0.5\n",
       "\\item 9\n",
       "\\end{enumerate*}\n"
      ],
      "text/markdown": [
       "1. 2\n",
       "2. 3.14159265358979\n",
       "3. 0.5\n",
       "4. 9\n",
       "\n",
       "\n"
      ],
      "text/plain": [
       "[1] 2.000000 3.141593 0.500000 9.000000"
      ]
     },
     "metadata": {},
     "output_type": "display_data"
    }
   ],
   "source": [
    "# Building a numeric vectors in R\n",
    "\n",
    "x <- c(2, pi, 1/2, 3^2)\n",
    "x"
   ]
  },
  {
   "cell_type": "code",
   "execution_count": 15,
   "id": "8b809629",
   "metadata": {},
   "outputs": [
    {
     "data": {
      "text/html": [
       "<ol class=list-inline>\n",
       "\t<li>'NYC'</li>\n",
       "\t<li>'Boston'</li>\n",
       "\t<li>'Philadelphia'</li>\n",
       "</ol>\n"
      ],
      "text/latex": [
       "\\begin{enumerate*}\n",
       "\\item 'NYC'\n",
       "\\item 'Boston'\n",
       "\\item 'Philadelphia'\n",
       "\\end{enumerate*}\n"
      ],
      "text/markdown": [
       "1. 'NYC'\n",
       "2. 'Boston'\n",
       "3. 'Philadelphia'\n",
       "\n",
       "\n"
      ],
      "text/plain": [
       "[1] \"NYC\"          \"Boston\"       \"Philadelphia\""
      ]
     },
     "metadata": {},
     "output_type": "display_data"
    }
   ],
   "source": [
    "# A character vector\n",
    "\n",
    "y <- c(\"NYC\", \"Boston\", \"Philadelphia\")\n",
    "y"
   ]
  },
  {
   "cell_type": "code",
   "execution_count": 16,
   "id": "64b5acb5",
   "metadata": {},
   "outputs": [
    {
     "data": {
      "text/html": [
       "<ol class=list-inline>\n",
       "\t<li>5</li>\n",
       "\t<li>6</li>\n",
       "\t<li>7</li>\n",
       "\t<li>8</li>\n",
       "\t<li>9</li>\n",
       "\t<li>10</li>\n",
       "</ol>\n"
      ],
      "text/latex": [
       "\\begin{enumerate*}\n",
       "\\item 5\n",
       "\\item 6\n",
       "\\item 7\n",
       "\\item 8\n",
       "\\item 9\n",
       "\\item 10\n",
       "\\end{enumerate*}\n"
      ],
      "text/markdown": [
       "1. 5\n",
       "2. 6\n",
       "3. 7\n",
       "4. 8\n",
       "5. 9\n",
       "6. 10\n",
       "\n",
       "\n"
      ],
      "text/plain": [
       "[1]  5  6  7  8  9 10"
      ]
     },
     "metadata": {},
     "output_type": "display_data"
    }
   ],
   "source": [
    "# a:b produces a sequence of integers ranging from a to b.\n",
    "# 注意，依然是包含首尾。而python中的range(5,10)是不包含尾的，可以用for与print验证。\n",
    "\n",
    "z <- 5:10\n",
    "z"
   ]
  },
  {
   "cell_type": "code",
   "execution_count": 17,
   "id": "4c8a891b",
   "metadata": {},
   "outputs": [
    {
     "data": {
      "text/html": [
       "<ol class=list-inline>\n",
       "\t<li>1</li>\n",
       "\t<li>1</li>\n",
       "\t<li>1</li>\n",
       "\t<li>1</li>\n",
       "\t<li>1</li>\n",
       "\t<li>1</li>\n",
       "\t<li>1</li>\n",
       "\t<li>1</li>\n",
       "\t<li>1</li>\n",
       "\t<li>1</li>\n",
       "\t<li>1</li>\n",
       "\t<li>1</li>\n",
       "\t<li>1</li>\n",
       "\t<li>1</li>\n",
       "\t<li>1</li>\n",
       "\t<li>1</li>\n",
       "\t<li>1</li>\n",
       "\t<li>1</li>\n",
       "</ol>\n"
      ],
      "text/latex": [
       "\\begin{enumerate*}\n",
       "\\item 1\n",
       "\\item 1\n",
       "\\item 1\n",
       "\\item 1\n",
       "\\item 1\n",
       "\\item 1\n",
       "\\item 1\n",
       "\\item 1\n",
       "\\item 1\n",
       "\\item 1\n",
       "\\item 1\n",
       "\\item 1\n",
       "\\item 1\n",
       "\\item 1\n",
       "\\item 1\n",
       "\\item 1\n",
       "\\item 1\n",
       "\\item 1\n",
       "\\end{enumerate*}\n"
      ],
      "text/markdown": [
       "1. 1\n",
       "2. 1\n",
       "3. 1\n",
       "4. 1\n",
       "5. 1\n",
       "6. 1\n",
       "7. 1\n",
       "8. 1\n",
       "9. 1\n",
       "10. 1\n",
       "11. 1\n",
       "12. 1\n",
       "13. 1\n",
       "14. 1\n",
       "15. 1\n",
       "16. 1\n",
       "17. 1\n",
       "18. 1\n",
       "\n",
       "\n"
      ],
      "text/plain": [
       " [1] 1 1 1 1 1 1 1 1 1 1 1 1 1 1 1 1 1 1"
      ]
     },
     "metadata": {},
     "output_type": "display_data"
    }
   ],
   "source": [
    "# The repetition function rep(a, b) repeats the a for b times.\n",
    "\n",
    "u <- rep(1, 18)\n",
    "u"
   ]
  },
  {
   "cell_type": "code",
   "execution_count": 18,
   "id": "b60242e0",
   "metadata": {},
   "outputs": [
    {
     "data": {
      "text/html": [
       "<ol class=list-inline>\n",
       "\t<li>TRUE</li>\n",
       "\t<li>TRUE</li>\n",
       "\t<li>FALSE</li>\n",
       "</ol>\n"
      ],
      "text/latex": [
       "\\begin{enumerate*}\n",
       "\\item TRUE\n",
       "\\item TRUE\n",
       "\\item FALSE\n",
       "\\end{enumerate*}\n"
      ],
      "text/markdown": [
       "1. TRUE\n",
       "2. TRUE\n",
       "3. FALSE\n",
       "\n",
       "\n"
      ],
      "text/plain": [
       "[1]  TRUE  TRUE FALSE"
      ]
     },
     "metadata": {},
     "output_type": "display_data"
    }
   ],
   "source": [
    "# We can create an empty vector and then fill in element-wise.\n",
    "# 注意，在Python中，不能通过创造一个空list然后索引赋值。\n",
    "\n",
    "v <- c()\n",
    "v[1] <- TRUE\n",
    "v[2] <- TRUE\n",
    "v[3] <- FALSE\n",
    "v"
   ]
  },
  {
   "cell_type": "code",
   "execution_count": 19,
   "id": "44fa33f8",
   "metadata": {},
   "outputs": [
    {
     "data": {
      "text/html": [
       "<ol class=list-inline>\n",
       "\t<li>-27</li>\n",
       "\t<li>-27</li>\n",
       "\t<li>-27</li>\n",
       "</ol>\n"
      ],
      "text/latex": [
       "\\begin{enumerate*}\n",
       "\\item -27\n",
       "\\item -27\n",
       "\\item -27\n",
       "\\end{enumerate*}\n"
      ],
      "text/markdown": [
       "1. -27\n",
       "2. -27\n",
       "3. -27\n",
       "\n",
       "\n"
      ],
      "text/plain": [
       "[1] -27 -27 -27"
      ]
     },
     "metadata": {},
     "output_type": "display_data"
    }
   ],
   "source": [
    "# The concatenate function c() can be nested（嵌套）.\n",
    "\n",
    "vec1 <- rep(-27, 3)\n",
    "vec1"
   ]
  },
  {
   "cell_type": "code",
   "execution_count": 20,
   "id": "515c1132",
   "metadata": {},
   "outputs": [
    {
     "data": {
      "text/html": [
       "<ol class=list-inline>\n",
       "\t<li>-27</li>\n",
       "\t<li>-27</li>\n",
       "\t<li>-27</li>\n",
       "\t<li>-26</li>\n",
       "\t<li>-25</li>\n",
       "\t<li>-24</li>\n",
       "</ol>\n"
      ],
      "text/latex": [
       "\\begin{enumerate*}\n",
       "\\item -27\n",
       "\\item -27\n",
       "\\item -27\n",
       "\\item -26\n",
       "\\item -25\n",
       "\\item -24\n",
       "\\end{enumerate*}\n"
      ],
      "text/markdown": [
       "1. -27\n",
       "2. -27\n",
       "3. -27\n",
       "4. -26\n",
       "5. -25\n",
       "6. -24\n",
       "\n",
       "\n"
      ],
      "text/plain": [
       "[1] -27 -27 -27 -26 -25 -24"
      ]
     },
     "metadata": {},
     "output_type": "display_data"
    }
   ],
   "source": [
    "vec2 <- c(vec1, c(-26, -25, -24))\n",
    "vec2"
   ]
  },
  {
   "cell_type": "markdown",
   "id": "c603c402",
   "metadata": {},
   "source": [
    "# Building matrices in R"
   ]
  },
  {
   "cell_type": "markdown",
   "id": "7154f8bd",
   "metadata": {},
   "source": [
    "Use the function matrix(values, nrow, ncol) to define your matrix.\n",
    "\n",
    "In R, matrices are stored in column-major order (determines where the number go as in the following example)."
   ]
  },
  {
   "cell_type": "code",
   "execution_count": 21,
   "id": "cbb79334",
   "metadata": {},
   "outputs": [
    {
     "data": {
      "text/html": [
       "<table>\n",
       "<tbody>\n",
       "\t<tr><td>1</td><td>4</td><td>7</td></tr>\n",
       "\t<tr><td>2</td><td>5</td><td>8</td></tr>\n",
       "\t<tr><td>3</td><td>6</td><td>9</td></tr>\n",
       "</tbody>\n",
       "</table>\n"
      ],
      "text/latex": [
       "\\begin{tabular}{lll}\n",
       "\t 1 & 4 & 7\\\\\n",
       "\t 2 & 5 & 8\\\\\n",
       "\t 3 & 6 & 9\\\\\n",
       "\\end{tabular}\n"
      ],
      "text/markdown": [
       "\n",
       "| 1 | 4 | 7 |\n",
       "| 2 | 5 | 8 |\n",
       "| 3 | 6 | 9 |\n",
       "\n"
      ],
      "text/plain": [
       "     [,1] [,2] [,3]\n",
       "[1,] 1    4    7   \n",
       "[2,] 2    5    8   \n",
       "[3,] 3    6    9   "
      ]
     },
     "metadata": {},
     "output_type": "display_data"
    }
   ],
   "source": [
    "mat <- matrix(1:9, nrow = 3, ncol = 3)\n",
    "mat"
   ]
  },
  {
   "cell_type": "code",
   "execution_count": 22,
   "id": "4b54b44b",
   "metadata": {},
   "outputs": [
    {
     "data": {
      "text/html": [
       "<table>\n",
       "<tbody>\n",
       "\t<tr><td>1</td><td>2</td><td>3</td></tr>\n",
       "\t<tr><td>4</td><td>5</td><td>6</td></tr>\n",
       "\t<tr><td>7</td><td>8</td><td>9</td></tr>\n",
       "</tbody>\n",
       "</table>\n"
      ],
      "text/latex": [
       "\\begin{tabular}{lll}\n",
       "\t 1 & 2 & 3\\\\\n",
       "\t 4 & 5 & 6\\\\\n",
       "\t 7 & 8 & 9\\\\\n",
       "\\end{tabular}\n"
      ],
      "text/markdown": [
       "\n",
       "| 1 | 2 | 3 |\n",
       "| 4 | 5 | 6 |\n",
       "| 7 | 8 | 9 |\n",
       "\n"
      ],
      "text/plain": [
       "     [,1] [,2] [,3]\n",
       "[1,] 1    2    3   \n",
       "[2,] 4    5    6   \n",
       "[3,] 7    8    9   "
      ]
     },
     "metadata": {},
     "output_type": "display_data"
    }
   ],
   "source": [
    "# By using the parameter byrow, we can build a matrix that filles in by row.\n",
    "\n",
    "new_mat <- matrix(1:9, nrow = 3, ncol = 3, byrow = TRUE)\n",
    "new_mat"
   ]
  },
  {
   "cell_type": "code",
   "execution_count": 23,
   "id": "c6afb1e6",
   "metadata": {},
   "outputs": [
    {
     "data": {
      "text/html": [
       "<table>\n",
       "<tbody>\n",
       "\t<tr><td>5.196152</td><td>5.196   </td></tr>\n",
       "\t<tr><td>2.718282</td><td>0.000   </td></tr>\n",
       "</tbody>\n",
       "</table>\n"
      ],
      "text/latex": [
       "\\begin{tabular}{ll}\n",
       "\t 5.196152 & 5.196   \\\\\n",
       "\t 2.718282 & 0.000   \\\\\n",
       "\\end{tabular}\n"
      ],
      "text/markdown": [
       "\n",
       "| 5.196152 | 5.196    |\n",
       "| 2.718282 | 0.000    |\n",
       "\n"
      ],
      "text/plain": [
       "     [,1]     [,2] \n",
       "[1,] 5.196152 5.196\n",
       "[2,] 2.718282 0.000"
      ]
     },
     "metadata": {},
     "output_type": "display_data"
    }
   ],
   "source": [
    "# Alternatively, we can create an empty matrix and fill in element-wise, we still need to pass in the size of the matrix.\n",
    "\n",
    "this_mat <- matrix(nrow = 2, ncol = 2)\n",
    "this_mat[1,1] <- sqrt(27)\n",
    "this_mat[1,2] <- round(sqrt(27), 3) #保留27的平方根的3位小数\n",
    "this_mat[2,1] <- exp(1)\n",
    "this_mat[2,2] <- log(1)\n",
    "\n",
    "this_mat"
   ]
  },
  {
   "cell_type": "code",
   "execution_count": 24,
   "id": "22e5217c",
   "metadata": {},
   "outputs": [
    {
     "data": {
      "text/html": [
       "<table>\n",
       "<tbody>\n",
       "\t<tr><th scope=row>vec1</th><td>0       </td><td>0       </td><td>0       </td><td>0       </td></tr>\n",
       "\t<tr><th scope=row>vec2</th><td>We're   </td><td>making  </td><td>matrices</td><td>!       </td></tr>\n",
       "</tbody>\n",
       "</table>\n"
      ],
      "text/latex": [
       "\\begin{tabular}{r|llll}\n",
       "\tvec1 & 0        & 0        & 0        & 0       \\\\\n",
       "\tvec2 & We're    & making   & matrices & !       \\\\\n",
       "\\end{tabular}\n"
      ],
      "text/markdown": [
       "\n",
       "| vec1 | 0        | 0        | 0        | 0        |\n",
       "| vec2 | We're    | making   | matrices | !        |\n",
       "\n"
      ],
      "text/plain": [
       "     [,1]  [,2]   [,3]     [,4]\n",
       "vec1 0     0      0        0   \n",
       "vec2 We're making matrices !   "
      ]
     },
     "metadata": {},
     "output_type": "display_data"
    }
   ],
   "source": [
    "# The row bind function rbind() and the column bind function cbind()\n",
    "\n",
    "vec1 <- rep(0, 4)\n",
    "vec2 <- c(\"We're\", \"making\", \"matrices\", \"!\")\n",
    "final_mat <- rbind(vec1, vec2)\n",
    "\n",
    "final_mat"
   ]
  },
  {
   "cell_type": "code",
   "execution_count": 25,
   "id": "604aa71a",
   "metadata": {},
   "outputs": [
    {
     "data": {
      "text/html": [
       "<table>\n",
       "<thead><tr><th scope=col>vec1</th><th scope=col>vec2</th></tr></thead>\n",
       "<tbody>\n",
       "\t<tr><td>0       </td><td>We're   </td></tr>\n",
       "\t<tr><td>0       </td><td>making  </td></tr>\n",
       "\t<tr><td>0       </td><td>matrices</td></tr>\n",
       "\t<tr><td>0       </td><td>!       </td></tr>\n",
       "</tbody>\n",
       "</table>\n"
      ],
      "text/latex": [
       "\\begin{tabular}{ll}\n",
       " vec1 & vec2\\\\\n",
       "\\hline\n",
       "\t 0        & We're   \\\\\n",
       "\t 0        & making  \\\\\n",
       "\t 0        & matrices\\\\\n",
       "\t 0        & !       \\\\\n",
       "\\end{tabular}\n"
      ],
      "text/markdown": [
       "\n",
       "| vec1 | vec2 |\n",
       "|---|---|\n",
       "| 0        | We're    |\n",
       "| 0        | making   |\n",
       "| 0        | matrices |\n",
       "| 0        | !        |\n",
       "\n"
      ],
      "text/plain": [
       "     vec1 vec2    \n",
       "[1,] 0    We're   \n",
       "[2,] 0    making  \n",
       "[3,] 0    matrices\n",
       "[4,] 0    !       "
      ]
     },
     "metadata": {},
     "output_type": "display_data"
    }
   ],
   "source": [
    "final_mat1 <- cbind(vec1, vec2)\n",
    "final_mat1"
   ]
  },
  {
   "cell_type": "code",
   "execution_count": 26,
   "id": "c1909fa7",
   "metadata": {},
   "outputs": [
    {
     "data": {
      "text/html": [
       "<table>\n",
       "<tbody>\n",
       "\t<tr><td>5.196152</td><td>5.196   </td></tr>\n",
       "\t<tr><td>2.718282</td><td>0.000   </td></tr>\n",
       "</tbody>\n",
       "</table>\n"
      ],
      "text/latex": [
       "\\begin{tabular}{ll}\n",
       "\t 5.196152 & 5.196   \\\\\n",
       "\t 2.718282 & 0.000   \\\\\n",
       "\\end{tabular}\n"
      ],
      "text/markdown": [
       "\n",
       "| 5.196152 | 5.196    |\n",
       "| 2.718282 | 0.000    |\n",
       "\n"
      ],
      "text/plain": [
       "     [,1]     [,2] \n",
       "[1,] 5.196152 5.196\n",
       "[2,] 2.718282 0.000"
      ]
     },
     "metadata": {},
     "output_type": "display_data"
    }
   ],
   "source": [
    "# Name columns and rows of a matrix using colnames() and rownames() respectively.\n",
    "\n",
    "this_mat # which is defined previously"
   ]
  },
  {
   "cell_type": "code",
   "execution_count": 27,
   "id": "a23a8638",
   "metadata": {},
   "outputs": [
    {
     "data": {
      "text/plain": [
       "NULL"
      ]
     },
     "metadata": {},
     "output_type": "display_data"
    }
   ],
   "source": [
    "colnames(this_mat) # Nothing there yet"
   ]
  },
  {
   "cell_type": "code",
   "execution_count": 28,
   "id": "8ebeede8",
   "metadata": {},
   "outputs": [
    {
     "data": {
      "text/html": [
       "<table>\n",
       "<thead><tr><th scope=col>Column1</th><th scope=col>Column2</th></tr></thead>\n",
       "<tbody>\n",
       "\t<tr><td>5.196152</td><td>5.196   </td></tr>\n",
       "\t<tr><td>2.718282</td><td>0.000   </td></tr>\n",
       "</tbody>\n",
       "</table>\n"
      ],
      "text/latex": [
       "\\begin{tabular}{ll}\n",
       " Column1 & Column2\\\\\n",
       "\\hline\n",
       "\t 5.196152 & 5.196   \\\\\n",
       "\t 2.718282 & 0.000   \\\\\n",
       "\\end{tabular}\n"
      ],
      "text/markdown": [
       "\n",
       "| Column1 | Column2 |\n",
       "|---|---|\n",
       "| 5.196152 | 5.196    |\n",
       "| 2.718282 | 0.000    |\n",
       "\n"
      ],
      "text/plain": [
       "     Column1  Column2\n",
       "[1,] 5.196152 5.196  \n",
       "[2,] 2.718282 0.000  "
      ]
     },
     "metadata": {},
     "output_type": "display_data"
    }
   ],
   "source": [
    "colnames(this_mat) <- c('Column1', 'Column2')\n",
    "this_mat"
   ]
  },
  {
   "cell_type": "code",
   "execution_count": 29,
   "id": "db9db51e",
   "metadata": {},
   "outputs": [
    {
     "data": {
      "text/html": [
       "<ol class=list-inline>\n",
       "\t<li>'Column1'</li>\n",
       "\t<li>'Column2'</li>\n",
       "</ol>\n"
      ],
      "text/latex": [
       "\\begin{enumerate*}\n",
       "\\item 'Column1'\n",
       "\\item 'Column2'\n",
       "\\end{enumerate*}\n"
      ],
      "text/markdown": [
       "1. 'Column1'\n",
       "2. 'Column2'\n",
       "\n",
       "\n"
      ],
      "text/plain": [
       "[1] \"Column1\" \"Column2\""
      ]
     },
     "metadata": {},
     "output_type": "display_data"
    }
   ],
   "source": [
    "colnames(this_mat)"
   ]
  },
  {
   "cell_type": "code",
   "execution_count": 30,
   "id": "1466b495",
   "metadata": {
    "scrolled": true
   },
   "outputs": [
    {
     "data": {
      "text/html": [
       "<table>\n",
       "<thead><tr><th></th><th scope=col>Column1</th><th scope=col>Column2</th></tr></thead>\n",
       "<tbody>\n",
       "\t<tr><th scope=row>Row 1</th><td>5.196152</td><td>5.196   </td></tr>\n",
       "\t<tr><th scope=row>Row 2</th><td>2.718282</td><td>0.000   </td></tr>\n",
       "</tbody>\n",
       "</table>\n"
      ],
      "text/latex": [
       "\\begin{tabular}{r|ll}\n",
       "  & Column1 & Column2\\\\\n",
       "\\hline\n",
       "\tRow 1 & 5.196152 & 5.196   \\\\\n",
       "\tRow 2 & 2.718282 & 0.000   \\\\\n",
       "\\end{tabular}\n"
      ],
      "text/markdown": [
       "\n",
       "| <!--/--> | Column1 | Column2 |\n",
       "|---|---|---|\n",
       "| Row 1 | 5.196152 | 5.196    |\n",
       "| Row 2 | 2.718282 | 0.000    |\n",
       "\n"
      ],
      "text/plain": [
       "      Column1  Column2\n",
       "Row 1 5.196152 5.196  \n",
       "Row 2 2.718282 0.000  "
      ]
     },
     "metadata": {},
     "output_type": "display_data"
    }
   ],
   "source": [
    "rownames(this_mat) <- c('Row 1', 'Row 2')\n",
    "this_mat"
   ]
  },
  {
   "cell_type": "markdown",
   "id": "4a4172ae",
   "metadata": {},
   "source": [
    "# Mixing variable modes\n",
    "\n",
    "When variable modes are mixed in vectors or matrices, R picks the 'least common denominator'.\n",
    "\n",
    "Use the structure function str() to display the internal structure of an R object."
   ]
  },
  {
   "cell_type": "code",
   "execution_count": 31,
   "id": "d110f86a",
   "metadata": {},
   "outputs": [
    {
     "data": {
      "text/html": [
       "<ol class=list-inline>\n",
       "\t<li>'1.75'</li>\n",
       "\t<li>'TRUE'</li>\n",
       "\t<li>'abc'</li>\n",
       "</ol>\n"
      ],
      "text/latex": [
       "\\begin{enumerate*}\n",
       "\\item '1.75'\n",
       "\\item 'TRUE'\n",
       "\\item 'abc'\n",
       "\\end{enumerate*}\n"
      ],
      "text/markdown": [
       "1. '1.75'\n",
       "2. 'TRUE'\n",
       "3. 'abc'\n",
       "\n",
       "\n"
      ],
      "text/plain": [
       "[1] \"1.75\" \"TRUE\" \"abc\" "
      ]
     },
     "metadata": {},
     "output_type": "display_data"
    }
   ],
   "source": [
    "# vec中的数据类型本来包含numeric，logical和character，但插入vec后，所有的数据都变为了character。\n",
    "\n",
    "vec <- c(1.75, TRUE, 'abc')\n",
    "vec"
   ]
  },
  {
   "cell_type": "markdown",
   "id": "fd2bcaa4",
   "metadata": {},
   "source": [
    "# Help in R\n",
    "\n",
    "Use a single question mark ?function to get help about a specific function. It will provide a description, list the arguments, give an example and etc.\n",
    "\n",
    "Use the double question mark ??topic to get help with a topic.\n",
    "\n",
    "For exmaple, if we want to know what does the str() function do, we can use:\n",
    "\n",
    "?str\n",
    "\n",
    "## Fuzzy matching:\n",
    "\n",
    "??'Structure'"
   ]
  },
  {
   "cell_type": "markdown",
   "id": "4e733e95",
   "metadata": {},
   "source": [
    "# Subsetting vectors"
   ]
  },
  {
   "cell_type": "code",
   "execution_count": 32,
   "id": "a0b11a31",
   "metadata": {},
   "outputs": [
    {
     "data": {
      "text/html": [
       "-34"
      ],
      "text/latex": [
       "-34"
      ],
      "text/markdown": [
       "-34"
      ],
      "text/plain": [
       "[1] -34"
      ]
     },
     "metadata": {},
     "output_type": "display_data"
    }
   ],
   "source": [
    "# Use square brackets [] to extract elements or subsets of elements.\n",
    "# 注意，R中的索引从1开始，而不是像Python那样从0开始。\n",
    "\n",
    "y <- c(27, -34, 19, 7, 61)\n",
    "y[2]"
   ]
  },
  {
   "cell_type": "code",
   "execution_count": 33,
   "id": "9f26b6ad",
   "metadata": {},
   "outputs": [
    {
     "data": {
      "text/html": [
       "<ol class=list-inline>\n",
       "\t<li>19</li>\n",
       "\t<li>7</li>\n",
       "\t<li>61</li>\n",
       "</ol>\n"
      ],
      "text/latex": [
       "\\begin{enumerate*}\n",
       "\\item 19\n",
       "\\item 7\n",
       "\\item 61\n",
       "\\end{enumerate*}\n"
      ],
      "text/markdown": [
       "1. 19\n",
       "2. 7\n",
       "3. 61\n",
       "\n",
       "\n"
      ],
      "text/plain": [
       "[1] 19  7 61"
      ]
     },
     "metadata": {},
     "output_type": "display_data"
    }
   ],
   "source": [
    "# 从第三个元素开始，提取到第五个元素\n",
    "\n",
    "y[3:5]"
   ]
  },
  {
   "cell_type": "code",
   "execution_count": 34,
   "id": "9843b3b6",
   "metadata": {},
   "outputs": [
    {
     "data": {
      "text/html": [
       "<ol class=list-inline>\n",
       "\t<li>27</li>\n",
       "\t<li>7</li>\n",
       "</ol>\n"
      ],
      "text/latex": [
       "\\begin{enumerate*}\n",
       "\\item 27\n",
       "\\item 7\n",
       "\\end{enumerate*}\n"
      ],
      "text/markdown": [
       "1. 27\n",
       "2. 7\n",
       "\n",
       "\n"
      ],
      "text/plain": [
       "[1] 27  7"
      ]
     },
     "metadata": {},
     "output_type": "display_data"
    }
   ],
   "source": [
    "# 提取第一个和第四个元素\n",
    "\n",
    "y[c(1,4)]"
   ]
  },
  {
   "cell_type": "code",
   "execution_count": 35,
   "id": "ab79cdc2",
   "metadata": {},
   "outputs": [
    {
     "data": {
      "text/html": [
       "<ol class=list-inline>\n",
       "\t<li>27</li>\n",
       "\t<li>-34</li>\n",
       "\t<li>19</li>\n",
       "\t<li>7</li>\n",
       "\t<li>61</li>\n",
       "</ol>\n"
      ],
      "text/latex": [
       "\\begin{enumerate*}\n",
       "\\item 27\n",
       "\\item -34\n",
       "\\item 19\n",
       "\\item 7\n",
       "\\item 61\n",
       "\\end{enumerate*}\n"
      ],
      "text/markdown": [
       "1. 27\n",
       "2. -34\n",
       "3. 19\n",
       "4. 7\n",
       "5. 61\n",
       "\n",
       "\n"
      ],
      "text/plain": [
       "[1]  27 -34  19   7  61"
      ]
     },
     "metadata": {},
     "output_type": "display_data"
    }
   ],
   "source": [
    "# Use the same strategy to reassign elements of a vector.\n",
    "\n",
    "y <- c(27, -34, 19, 7, 61)\n",
    "y"
   ]
  },
  {
   "cell_type": "code",
   "execution_count": 36,
   "id": "8a81aee3",
   "metadata": {},
   "outputs": [
    {
     "data": {
      "text/html": [
       "<ol class=list-inline>\n",
       "\t<li>0</li>\n",
       "\t<li>-34</li>\n",
       "\t<li>19</li>\n",
       "\t<li>0</li>\n",
       "\t<li>61</li>\n",
       "</ol>\n"
      ],
      "text/latex": [
       "\\begin{enumerate*}\n",
       "\\item 0\n",
       "\\item -34\n",
       "\\item 19\n",
       "\\item 0\n",
       "\\item 61\n",
       "\\end{enumerate*}\n"
      ],
      "text/markdown": [
       "1. 0\n",
       "2. -34\n",
       "3. 19\n",
       "4. 0\n",
       "5. 61\n",
       "\n",
       "\n"
      ],
      "text/plain": [
       "[1]   0 -34  19   0  61"
      ]
     },
     "metadata": {},
     "output_type": "display_data"
    }
   ],
   "source": [
    "# 把向量y中的第一项和第四项替换为0\n",
    "\n",
    "y[c(1,4)] <- 0\n",
    "y"
   ]
  },
  {
   "cell_type": "code",
   "execution_count": 37,
   "id": "170e8af8",
   "metadata": {},
   "outputs": [
    {
     "data": {
      "text/html": [
       "<ol class=list-inline>\n",
       "\t<li>27</li>\n",
       "\t<li>-34</li>\n",
       "\t<li>19</li>\n",
       "\t<li>7</li>\n",
       "\t<li>61</li>\n",
       "</ol>\n"
      ],
      "text/latex": [
       "\\begin{enumerate*}\n",
       "\\item 27\n",
       "\\item -34\n",
       "\\item 19\n",
       "\\item 7\n",
       "\\item 61\n",
       "\\end{enumerate*}\n"
      ],
      "text/markdown": [
       "1. 27\n",
       "2. -34\n",
       "3. 19\n",
       "4. 7\n",
       "5. 61\n",
       "\n",
       "\n"
      ],
      "text/plain": [
       "[1]  27 -34  19   7  61"
      ]
     },
     "metadata": {},
     "output_type": "display_data"
    }
   ],
   "source": [
    "# Negative values can be used to exclude elements.\n",
    "\n",
    "y <- c(27, -34, 19, 7, 61)\n",
    "y"
   ]
  },
  {
   "cell_type": "code",
   "execution_count": 38,
   "id": "e061a40d",
   "metadata": {},
   "outputs": [
    {
     "data": {
      "text/html": [
       "<ol class=list-inline>\n",
       "\t<li>-34</li>\n",
       "\t<li>19</li>\n",
       "\t<li>61</li>\n",
       "</ol>\n"
      ],
      "text/latex": [
       "\\begin{enumerate*}\n",
       "\\item -34\n",
       "\\item 19\n",
       "\\item 61\n",
       "\\end{enumerate*}\n"
      ],
      "text/markdown": [
       "1. -34\n",
       "2. 19\n",
       "3. 61\n",
       "\n",
       "\n"
      ],
      "text/plain": [
       "[1] -34  19  61"
      ]
     },
     "metadata": {},
     "output_type": "display_data"
    }
   ],
   "source": [
    "# 把向量y中的第一项和第四项剔除\n",
    "\n",
    "y[-c(1,4)]"
   ]
  },
  {
   "cell_type": "markdown",
   "id": "dd4d631b",
   "metadata": {},
   "source": [
    "• mat[i,j] returns the (i, j)th element of mat.\n",
    "\n",
    "• mat[i, ] returns the i th row of mat.\n",
    "\n",
    "• mat[ ,j] returns the j th column of mat."
   ]
  },
  {
   "cell_type": "code",
   "execution_count": 39,
   "id": "c20731e4",
   "metadata": {},
   "outputs": [
    {
     "data": {
      "text/html": [
       "<table>\n",
       "<tbody>\n",
       "\t<tr><td>1</td><td>3</td><td>5</td><td>7</td></tr>\n",
       "\t<tr><td>2</td><td>4</td><td>6</td><td>8</td></tr>\n",
       "</tbody>\n",
       "</table>\n"
      ],
      "text/latex": [
       "\\begin{tabular}{llll}\n",
       "\t 1 & 3 & 5 & 7\\\\\n",
       "\t 2 & 4 & 6 & 8\\\\\n",
       "\\end{tabular}\n"
      ],
      "text/markdown": [
       "\n",
       "| 1 | 3 | 5 | 7 |\n",
       "| 2 | 4 | 6 | 8 |\n",
       "\n"
      ],
      "text/plain": [
       "     [,1] [,2] [,3] [,4]\n",
       "[1,] 1    3    5    7   \n",
       "[2,] 2    4    6    8   "
      ]
     },
     "metadata": {},
     "output_type": "display_data"
    }
   ],
   "source": [
    "mat <- matrix(1:8, ncol = 4)\n",
    "mat"
   ]
  },
  {
   "cell_type": "code",
   "execution_count": 40,
   "id": "7b528cdb",
   "metadata": {},
   "outputs": [
    {
     "data": {
      "text/html": [
       "<table>\n",
       "<tbody>\n",
       "\t<tr><td>3</td><td>5</td></tr>\n",
       "\t<tr><td>4</td><td>6</td></tr>\n",
       "</tbody>\n",
       "</table>\n"
      ],
      "text/latex": [
       "\\begin{tabular}{ll}\n",
       "\t 3 & 5\\\\\n",
       "\t 4 & 6\\\\\n",
       "\\end{tabular}\n"
      ],
      "text/markdown": [
       "\n",
       "| 3 | 5 |\n",
       "| 4 | 6 |\n",
       "\n"
      ],
      "text/plain": [
       "     [,1] [,2]\n",
       "[1,] 3    5   \n",
       "[2,] 4    6   "
      ]
     },
     "metadata": {},
     "output_type": "display_data"
    }
   ],
   "source": [
    "# 提取mat中第二列和第三列\n",
    "\n",
    "mat[, 2:3]"
   ]
  },
  {
   "cell_type": "markdown",
   "id": "f9389dd3",
   "metadata": {},
   "source": [
    "• Can use column names or row names to subset as well.\n",
    "\n",
    "• Negative values are used to exclude elements."
   ]
  },
  {
   "cell_type": "code",
   "execution_count": 41,
   "id": "d80ca8ff",
   "metadata": {},
   "outputs": [
    {
     "data": {
      "text/html": [
       "<table>\n",
       "<thead><tr><th></th><th scope=col>Column1</th><th scope=col>Column2</th></tr></thead>\n",
       "<tbody>\n",
       "\t<tr><th scope=row>Row 1</th><td>5.196152</td><td>5.196   </td></tr>\n",
       "\t<tr><th scope=row>Row 2</th><td>2.718282</td><td>0.000   </td></tr>\n",
       "</tbody>\n",
       "</table>\n"
      ],
      "text/latex": [
       "\\begin{tabular}{r|ll}\n",
       "  & Column1 & Column2\\\\\n",
       "\\hline\n",
       "\tRow 1 & 5.196152 & 5.196   \\\\\n",
       "\tRow 2 & 2.718282 & 0.000   \\\\\n",
       "\\end{tabular}\n"
      ],
      "text/markdown": [
       "\n",
       "| <!--/--> | Column1 | Column2 |\n",
       "|---|---|---|\n",
       "| Row 1 | 5.196152 | 5.196    |\n",
       "| Row 2 | 2.718282 | 0.000    |\n",
       "\n"
      ],
      "text/plain": [
       "      Column1  Column2\n",
       "Row 1 5.196152 5.196  \n",
       "Row 2 2.718282 0.000  "
      ]
     },
     "metadata": {},
     "output_type": "display_data"
    }
   ],
   "source": [
    "this_mat"
   ]
  },
  {
   "cell_type": "code",
   "execution_count": 42,
   "id": "830c6d40",
   "metadata": {},
   "outputs": [
    {
     "data": {
      "text/html": [
       "<dl class=dl-horizontal>\n",
       "\t<dt>Row 1</dt>\n",
       "\t\t<dd>5.196</dd>\n",
       "\t<dt>Row 2</dt>\n",
       "\t\t<dd>0</dd>\n",
       "</dl>\n"
      ],
      "text/latex": [
       "\\begin{description*}\n",
       "\\item[Row 1] 5.196\n",
       "\\item[Row 2] 0\n",
       "\\end{description*}\n"
      ],
      "text/markdown": [
       "Row 1\n",
       ":   5.196Row 2\n",
       ":   0\n",
       "\n"
      ],
      "text/plain": [
       "Row 1 Row 2 \n",
       "5.196 0.000 "
      ]
     },
     "metadata": {},
     "output_type": "display_data"
    }
   ],
   "source": [
    "this_mat[,'Column2']"
   ]
  },
  {
   "cell_type": "code",
   "execution_count": 43,
   "id": "4cedfd27",
   "metadata": {},
   "outputs": [
    {
     "data": {
      "text/html": [
       "<dl class=dl-horizontal>\n",
       "\t<dt>Row 1</dt>\n",
       "\t\t<dd>5.196</dd>\n",
       "\t<dt>Row 2</dt>\n",
       "\t\t<dd>0</dd>\n",
       "</dl>\n"
      ],
      "text/latex": [
       "\\begin{description*}\n",
       "\\item[Row 1] 5.196\n",
       "\\item[Row 2] 0\n",
       "\\end{description*}\n"
      ],
      "text/markdown": [
       "Row 1\n",
       ":   5.196Row 2\n",
       ":   0\n",
       "\n"
      ],
      "text/plain": [
       "Row 1 Row 2 \n",
       "5.196 0.000 "
      ]
     },
     "metadata": {},
     "output_type": "display_data"
    }
   ],
   "source": [
    "# 提取this_mat被剔除第一列后的sub-matrix\n",
    "\n",
    "this_mat[, -1]"
   ]
  },
  {
   "cell_type": "markdown",
   "id": "494e5ced",
   "metadata": {},
   "source": [
    "# An Extended Example: Image Data"
   ]
  },
  {
   "cell_type": "code",
   "execution_count": 44,
   "id": "f09155cb",
   "metadata": {
    "scrolled": true
   },
   "outputs": [
    {
     "name": "stdout",
     "output_type": "stream",
     "text": [
      "package 'pixmap' successfully unpacked and MD5 sums checked\n",
      "\n",
      "The downloaded binary packages are in\n",
      "\tC:\\Users\\asus\\AppData\\Local\\Temp\\Rtmp2JSfsb\\downloaded_packages\n"
     ]
    },
    {
     "name": "stderr",
     "output_type": "stream",
     "text": [
      "Warning message:\n",
      "\"package 'pixmap' was built under R version 3.6.3\""
     ]
    }
   ],
   "source": [
    "install.packages('pixmap')\n",
    "library('pixmap')"
   ]
  },
  {
   "cell_type": "markdown",
   "id": "609c32c1",
   "metadata": {},
   "source": [
    "• Images are made up of pixels which are arranged in rows and columns (like a matrix).\n",
    "\n",
    "• Image data are matrices where each element is a number representing the intensity or brightness of the corresponding pixel.\n",
    "\n",
    "• We will work with a greyscale image with numbers ranging from 0 (black) to 1 (white)."
   ]
  },
  {
   "cell_type": "code",
   "execution_count": 46,
   "id": "fadc7fbd",
   "metadata": {},
   "outputs": [
    {
     "data": {
      "text/html": [
       "'C:/Users/asus/STATGR 5206_STAT COMP &amp; INTRO DATA SCIENCE'"
      ],
      "text/latex": [
       "'C:/Users/asus/STATGR 5206\\_STAT COMP \\& INTRO DATA SCIENCE'"
      ],
      "text/markdown": [
       "'C:/Users/asus/STATGR 5206_STAT COMP &amp; INTRO DATA SCIENCE'"
      ],
      "text/plain": [
       "[1] \"C:/Users/asus/STATGR 5206_STAT COMP & INTRO DATA SCIENCE\""
      ]
     },
     "metadata": {},
     "output_type": "display_data"
    }
   ],
   "source": [
    "getwd()"
   ]
  },
  {
   "cell_type": "code",
   "execution_count": 47,
   "id": "0b36d8cf",
   "metadata": {},
   "outputs": [
    {
     "name": "stderr",
     "output_type": "stream",
     "text": [
      "Warning message in readChar(con, nchars = 1):\n",
      "\"在non-UTF-8 MBCS语言环境里只能读取字节\"Warning message in readChar(con, nchars = 1):\n",
      "\"在non-UTF-8 MBCS语言环境里只能读取字节\"Warning message in readChar(con, nchars = 1):\n",
      "\"在non-UTF-8 MBCS语言环境里只能读取字节\"Warning message in readChar(con, nchars = 1):\n",
      "\"在non-UTF-8 MBCS语言环境里只能读取字节\"Warning message in readChar(con, nchars = 1):\n",
      "\"在non-UTF-8 MBCS语言环境里只能读取字节\"Warning message in readChar(con, nchars = 1):\n",
      "\"在non-UTF-8 MBCS语言环境里只能读取字节\"Warning message in readChar(con, nchars = 1):\n",
      "\"在non-UTF-8 MBCS语言环境里只能读取字节\"Warning message in readChar(con, nchars = 1):\n",
      "\"在non-UTF-8 MBCS语言环境里只能读取字节\"Warning message in readChar(con, nchars = 1):\n",
      "\"在non-UTF-8 MBCS语言环境里只能读取字节\"Warning message in readChar(con, nchars = 1):\n",
      "\"在non-UTF-8 MBCS语言环境里只能读取字节\"Warning message in readChar(con, nchars = 1):\n",
      "\"在non-UTF-8 MBCS语言环境里只能读取字节\"Warning message in readChar(con, nchars = 1):\n",
      "\"在non-UTF-8 MBCS语言环境里只能读取字节\"Warning message in readChar(con, nchars = 1):\n",
      "\"在non-UTF-8 MBCS语言环境里只能读取字节\"Warning message in readChar(con, nchars = 1):\n",
      "\"在non-UTF-8 MBCS语言环境里只能读取字节\"Warning message in readChar(con, nchars = 1):\n",
      "\"在non-UTF-8 MBCS语言环境里只能读取字节\"Warning message in rep(cellres, length = 2):\n",
      "\"'x' is NULL so the result will be NULL\""
     ]
    }
   ],
   "source": [
    "casablanca_pic <- read.pnm('casablanca.pgm')"
   ]
  },
  {
   "cell_type": "code",
   "execution_count": 48,
   "id": "d953f0ff",
   "metadata": {},
   "outputs": [
    {
     "data": {
      "image/png": "[encoded data removed]",
      "text/plain": [
       "plot without title"
      ]
     },
     "metadata": {},
     "output_type": "display_data"
    }
   ],
   "source": [
    "plot(casablanca_pic)"
   ]
  },
  {
   "cell_type": "code",
   "execution_count": 49,
   "id": "9201cae3",
   "metadata": {},
   "outputs": [
    {
     "data": {
      "text/plain": [
       "Pixmap image\n",
       "  Type          : pixmapGrey \n",
       "  Size          : 360x460 \n",
       "  Resolution    : 1x1 \n",
       "  Bounding box  : 0 0 460 360 \n"
      ]
     },
     "metadata": {},
     "output_type": "display_data"
    }
   ],
   "source": [
    "casablanca_pic"
   ]
  },
  {
   "cell_type": "code",
   "execution_count": 50,
   "id": "defed3f0",
   "metadata": {},
   "outputs": [
    {
     "data": {
      "text/html": [
       "<ol class=list-inline>\n",
       "\t<li>360</li>\n",
       "\t<li>460</li>\n",
       "</ol>\n"
      ],
      "text/latex": [
       "\\begin{enumerate*}\n",
       "\\item 360\n",
       "\\item 460\n",
       "\\end{enumerate*}\n"
      ],
      "text/markdown": [
       "1. 360\n",
       "2. 460\n",
       "\n",
       "\n"
      ],
      "text/plain": [
       "[1] 360 460"
      ]
     },
     "metadata": {},
     "output_type": "display_data"
    }
   ],
   "source": [
    "dim(casablanca_pic@grey)"
   ]
  },
  {
   "cell_type": "code",
   "execution_count": 51,
   "id": "46e3df68",
   "metadata": {},
   "outputs": [
    {
     "data": {
      "text/html": [
       "0.443137254901961"
      ],
      "text/latex": [
       "0.443137254901961"
      ],
      "text/markdown": [
       "0.443137254901961"
      ],
      "text/plain": [
       "[1] 0.4431373"
      ]
     },
     "metadata": {},
     "output_type": "display_data"
    }
   ],
   "source": [
    "casablanca_pic@grey[360, 100]"
   ]
  },
  {
   "cell_type": "code",
   "execution_count": 52,
   "id": "5f0c878f",
   "metadata": {},
   "outputs": [
    {
     "data": {
      "text/html": [
       "0.988235294117647"
      ],
      "text/latex": [
       "0.988235294117647"
      ],
      "text/markdown": [
       "0.988235294117647"
      ],
      "text/plain": [
       "[1] 0.9882353"
      ]
     },
     "metadata": {},
     "output_type": "display_data"
    }
   ],
   "source": [
    "casablanca_pic@grey[180, 10]"
   ]
  },
  {
   "cell_type": "code",
   "execution_count": 53,
   "id": "d7b630b5",
   "metadata": {},
   "outputs": [],
   "source": [
    "casablanca_pic@grey[15:70, 220:265] <- 1"
   ]
  },
  {
   "cell_type": "code",
   "execution_count": 54,
   "id": "50682ece",
   "metadata": {},
   "outputs": [
    {
     "data": {
      "image/png": "[encoded data removed]",
      "text/plain": [
       "plot without title"
      ]
     },
     "metadata": {},
     "output_type": "display_data"
    }
   ],
   "source": [
    "plot(casablanca_pic)"
   ]
  },
  {
   "cell_type": "markdown",
   "id": "1190af86",
   "metadata": {},
   "source": [
    "• Use R’s locator() function to find the rows and columns corresponding to Rick’s face.\n",
    "\n",
    "• A call to the function allows the user to click on a point in a plot and then the function returns the coordinates of the click."
   ]
  },
  {
   "cell_type": "code",
   "execution_count": 57,
   "id": "339a6d21",
   "metadata": {},
   "outputs": [
    {
     "data": {
      "image/png": "[encoded data removed]",
      "text/plain": [
       "plot without title"
      ]
     },
     "metadata": {},
     "output_type": "display_data"
    }
   ],
   "source": [
    "x <- rnorm(100)\n",
    "y <- runif(100)\n",
    "plot(x, y)\n",
    "locator(1)"
   ]
  },
  {
   "cell_type": "markdown",
   "id": "fc97dd5f",
   "metadata": {},
   "source": [
    "### Check Understanding"
   ]
  },
  {
   "cell_type": "code",
   "execution_count": 58,
   "id": "61450d55",
   "metadata": {},
   "outputs": [
    {
     "data": {
      "text/html": [
       "<table>\n",
       "<thead><tr><th scope=col>First</th><th scope=col>Second</th><th scope=col>Third</th></tr></thead>\n",
       "<tbody>\n",
       "\t<tr><td>1</td><td>4</td><td>7</td></tr>\n",
       "\t<tr><td>2</td><td>5</td><td>8</td></tr>\n",
       "\t<tr><td>3</td><td>6</td><td>9</td></tr>\n",
       "</tbody>\n",
       "</table>\n"
      ],
      "text/latex": [
       "\\begin{tabular}{lll}\n",
       " First & Second & Third\\\\\n",
       "\\hline\n",
       "\t 1 & 4 & 7\\\\\n",
       "\t 2 & 5 & 8\\\\\n",
       "\t 3 & 6 & 9\\\\\n",
       "\\end{tabular}\n"
      ],
      "text/markdown": [
       "\n",
       "| First | Second | Third |\n",
       "|---|---|---|\n",
       "| 1 | 4 | 7 |\n",
       "| 2 | 5 | 8 |\n",
       "| 3 | 6 | 9 |\n",
       "\n"
      ],
      "text/plain": [
       "     First Second Third\n",
       "[1,] 1     4      7    \n",
       "[2,] 2     5      8    \n",
       "[3,] 3     6      9    "
      ]
     },
     "metadata": {},
     "output_type": "display_data"
    }
   ],
   "source": [
    "z <- matrix(1:9, ncol = 3, nrow = 3)\n",
    "colnames(z) <- c('First', 'Second', 'Third')\n",
    "z"
   ]
  },
  {
   "cell_type": "markdown",
   "id": "33514d45",
   "metadata": {},
   "source": [
    "1. z[2:3, \"Third\"]?\n",
    "\n",
    "2. c(z[,-(2:3)], \"abc\")?\n",
    "\n",
    "3. rbind(z[1,], 1:3)?"
   ]
  },
  {
   "cell_type": "code",
   "execution_count": 59,
   "id": "46d56a58",
   "metadata": {},
   "outputs": [
    {
     "data": {
      "text/html": [
       "<ol class=list-inline>\n",
       "\t<li>8</li>\n",
       "\t<li>9</li>\n",
       "</ol>\n"
      ],
      "text/latex": [
       "\\begin{enumerate*}\n",
       "\\item 8\n",
       "\\item 9\n",
       "\\end{enumerate*}\n"
      ],
      "text/markdown": [
       "1. 8\n",
       "2. 9\n",
       "\n",
       "\n"
      ],
      "text/plain": [
       "[1] 8 9"
      ]
     },
     "metadata": {},
     "output_type": "display_data"
    }
   ],
   "source": [
    "z[2:3, 'Third']"
   ]
  },
  {
   "cell_type": "code",
   "execution_count": 60,
   "id": "10f02125",
   "metadata": {},
   "outputs": [
    {
     "data": {
      "text/html": [
       "<ol class=list-inline>\n",
       "\t<li>'1'</li>\n",
       "\t<li>'2'</li>\n",
       "\t<li>'3'</li>\n",
       "\t<li>'abc'</li>\n",
       "</ol>\n"
      ],
      "text/latex": [
       "\\begin{enumerate*}\n",
       "\\item '1'\n",
       "\\item '2'\n",
       "\\item '3'\n",
       "\\item 'abc'\n",
       "\\end{enumerate*}\n"
      ],
      "text/markdown": [
       "1. '1'\n",
       "2. '2'\n",
       "3. '3'\n",
       "4. 'abc'\n",
       "\n",
       "\n"
      ],
      "text/plain": [
       "[1] \"1\"   \"2\"   \"3\"   \"abc\""
      ]
     },
     "metadata": {},
     "output_type": "display_data"
    }
   ],
   "source": [
    "c(z[,-(2:3)],'abc')"
   ]
  },
  {
   "cell_type": "code",
   "execution_count": 61,
   "id": "d2143319",
   "metadata": {},
   "outputs": [
    {
     "data": {
      "text/html": [
       "<table>\n",
       "<thead><tr><th scope=col>First</th><th scope=col>Second</th><th scope=col>Third</th></tr></thead>\n",
       "<tbody>\n",
       "\t<tr><td>1</td><td>4</td><td>7</td></tr>\n",
       "\t<tr><td>1</td><td>2</td><td>3</td></tr>\n",
       "</tbody>\n",
       "</table>\n"
      ],
      "text/latex": [
       "\\begin{tabular}{lll}\n",
       " First & Second & Third\\\\\n",
       "\\hline\n",
       "\t 1 & 4 & 7\\\\\n",
       "\t 1 & 2 & 3\\\\\n",
       "\\end{tabular}\n"
      ],
      "text/markdown": [
       "\n",
       "| First | Second | Third |\n",
       "|---|---|---|\n",
       "| 1 | 4 | 7 |\n",
       "| 1 | 2 | 3 |\n",
       "\n"
      ],
      "text/plain": [
       "     First Second Third\n",
       "[1,] 1     4      7    \n",
       "[2,] 1     2      3    "
      ]
     },
     "metadata": {},
     "output_type": "display_data"
    }
   ],
   "source": [
    "rbind(z[1,], 1:3)"
   ]
  },
  {
   "cell_type": "markdown",
   "id": "52f29380",
   "metadata": {},
   "source": [
    "### Example"
   ]
  },
  {
   "cell_type": "code",
   "execution_count": 62,
   "id": "361a7940",
   "metadata": {},
   "outputs": [],
   "source": [
    "x <- c(49.3,59.3,68.3,48.1,57.61,78.1,76.1)\n",
    "y <- c(1894,2050,2353,1838,1948,2528,2568)"
   ]
  },
  {
   "cell_type": "code",
   "execution_count": 63,
   "id": "a8f26bfe",
   "metadata": {},
   "outputs": [
    {
     "data": {
      "text/html": [
       "7"
      ],
      "text/latex": [
       "7"
      ],
      "text/markdown": [
       "7"
      ],
      "text/plain": [
       "[1] 7"
      ]
     },
     "metadata": {},
     "output_type": "display_data"
    }
   ],
   "source": [
    "n <- length(x)\n",
    "n"
   ]
  },
  {
   "cell_type": "code",
   "execution_count": 64,
   "id": "5ceb2e0f",
   "metadata": {},
   "outputs": [
    {
     "data": {
      "text/html": [
       "78.1"
      ],
      "text/latex": [
       "78.1"
      ],
      "text/markdown": [
       "78.1"
      ],
      "text/plain": [
       "[1] 78.1"
      ]
     },
     "metadata": {},
     "output_type": "display_data"
    }
   ],
   "source": [
    "max(x)"
   ]
  },
  {
   "cell_type": "code",
   "execution_count": 65,
   "id": "f4583023",
   "metadata": {},
   "outputs": [
    {
     "data": {
      "text/html": [
       "12.0943794502122"
      ],
      "text/latex": [
       "12.0943794502122"
      ],
      "text/markdown": [
       "12.0943794502122"
      ],
      "text/plain": [
       "[1] 12.09438"
      ]
     },
     "metadata": {},
     "output_type": "display_data"
    }
   ],
   "source": [
    "sd(x)"
   ]
  },
  {
   "cell_type": "code",
   "execution_count": 66,
   "id": "be86cb14",
   "metadata": {},
   "outputs": [
    {
     "name": "stdout",
     "output_type": "stream",
     "text": [
      "   Min. 1st Qu.  Median    Mean 3rd Qu.    Max. \n",
      "  48.10   53.45   59.30   62.40   72.20   78.10 \n",
      "   Min. 1st Qu.  Median    Mean 3rd Qu.    Max. \n",
      "   1838    1921    2050    2168    2440    2568 \n"
     ]
    }
   ],
   "source": [
    "print(summary(x))\n",
    "print(summary(y))"
   ]
  },
  {
   "cell_type": "markdown",
   "id": "0e228c7c",
   "metadata": {},
   "source": [
    "# Element-wise operations for vectors\n",
    "\n",
    "### Both vectors should share a same length."
   ]
  },
  {
   "cell_type": "markdown",
   "id": "772c245a",
   "metadata": {},
   "source": [
    "a + x Element-wise scalar addition\n",
    "\n",
    "a * x Element-wise scalar multiplication\n",
    "\n",
    "x + y Element-wise addition\n",
    "\n",
    "x * y Element-wise multiplication\n",
    "\n",
    "x ˆ a Element-wise power\n",
    "\n",
    "a ˆ x Element-wise exponentiation\n",
    "\n",
    "x ˆ y Element-wise exponentiation"
   ]
  },
  {
   "cell_type": "code",
   "execution_count": 68,
   "id": "1855f306",
   "metadata": {},
   "outputs": [
    {
     "data": {
      "text/html": [
       "<ol class=list-inline>\n",
       "\t<li>5</li>\n",
       "\t<li>7</li>\n",
       "\t<li>9</li>\n",
       "</ol>\n"
      ],
      "text/latex": [
       "\\begin{enumerate*}\n",
       "\\item 5\n",
       "\\item 7\n",
       "\\item 9\n",
       "\\end{enumerate*}\n"
      ],
      "text/markdown": [
       "1. 5\n",
       "2. 7\n",
       "3. 9\n",
       "\n",
       "\n"
      ],
      "text/plain": [
       "[1] 5 7 9"
      ]
     },
     "metadata": {},
     "output_type": "display_data"
    }
   ],
   "source": [
    "v <- c(1, 3, 5)\n",
    "u <- c(1, 3, 5)\n",
    "v + 4 # Recycling"
   ]
  },
  {
   "cell_type": "code",
   "execution_count": 69,
   "id": "5a5217dc",
   "metadata": {},
   "outputs": [
    {
     "name": "stderr",
     "output_type": "stream",
     "text": [
      "Warning message in v + c(1, 3):\n",
      "\"长的对象长度不是短的对象长度的整倍数\""
     ]
    },
    {
     "data": {
      "text/html": [
       "<ol class=list-inline>\n",
       "\t<li>2</li>\n",
       "\t<li>6</li>\n",
       "\t<li>6</li>\n",
       "</ol>\n"
      ],
      "text/latex": [
       "\\begin{enumerate*}\n",
       "\\item 2\n",
       "\\item 6\n",
       "\\item 6\n",
       "\\end{enumerate*}\n"
      ],
      "text/markdown": [
       "1. 2\n",
       "2. 6\n",
       "3. 6\n",
       "\n",
       "\n"
      ],
      "text/plain": [
       "[1] 2 6 6"
      ]
     },
     "metadata": {},
     "output_type": "display_data"
    }
   ],
   "source": [
    "v + c(1,3) # Recycling"
   ]
  },
  {
   "cell_type": "code",
   "execution_count": 70,
   "id": "1cdb275b",
   "metadata": {},
   "outputs": [
    {
     "data": {
      "text/html": [
       "<ol class=list-inline>\n",
       "\t<li>2</li>\n",
       "\t<li>6</li>\n",
       "\t<li>10</li>\n",
       "</ol>\n"
      ],
      "text/latex": [
       "\\begin{enumerate*}\n",
       "\\item 2\n",
       "\\item 6\n",
       "\\item 10\n",
       "\\end{enumerate*}\n"
      ],
      "text/markdown": [
       "1. 2\n",
       "2. 6\n",
       "3. 10\n",
       "\n",
       "\n"
      ],
      "text/plain": [
       "[1]  2  6 10"
      ]
     },
     "metadata": {},
     "output_type": "display_data"
    }
   ],
   "source": [
    "v + u"
   ]
  },
  {
   "cell_type": "code",
   "execution_count": 71,
   "id": "74128ae6",
   "metadata": {},
   "outputs": [
    {
     "data": {
      "text/html": [
       "<ol class=list-inline>\n",
       "\t<li>2</li>\n",
       "\t<li>6</li>\n",
       "\t<li>10</li>\n",
       "</ol>\n"
      ],
      "text/latex": [
       "\\begin{enumerate*}\n",
       "\\item 2\n",
       "\\item 6\n",
       "\\item 10\n",
       "\\end{enumerate*}\n"
      ],
      "text/markdown": [
       "1. 2\n",
       "2. 6\n",
       "3. 10\n",
       "\n",
       "\n"
      ],
      "text/plain": [
       "[1]  2  6 10"
      ]
     },
     "metadata": {},
     "output_type": "display_data"
    }
   ],
   "source": [
    "# Operators are functions in R\n",
    "\n",
    "'+'(v, u)"
   ]
  },
  {
   "cell_type": "code",
   "execution_count": 72,
   "id": "233cce75",
   "metadata": {},
   "outputs": [
    {
     "data": {
      "text/html": [
       "<ol class=list-inline>\n",
       "\t<li>1</li>\n",
       "\t<li>9</li>\n",
       "\t<li>25</li>\n",
       "</ol>\n"
      ],
      "text/latex": [
       "\\begin{enumerate*}\n",
       "\\item 1\n",
       "\\item 9\n",
       "\\item 25\n",
       "\\end{enumerate*}\n"
      ],
      "text/markdown": [
       "1. 1\n",
       "2. 9\n",
       "3. 25\n",
       "\n",
       "\n"
      ],
      "text/plain": [
       "[1]  1  9 25"
      ]
     },
     "metadata": {},
     "output_type": "display_data"
    }
   ],
   "source": [
    "'*'(v, u)"
   ]
  },
  {
   "cell_type": "markdown",
   "id": "a3ebbdec",
   "metadata": {},
   "source": [
    "### Find the line of best fit."
   ]
  },
  {
   "cell_type": "code",
   "execution_count": 73,
   "id": "94eda8df",
   "metadata": {},
   "outputs": [],
   "source": [
    "x <- c(49.3,59.3,68.3,48.1,57.61,78.1,76.1)\n",
    "y <- c(1894,2050,2353,1838,1948,2528,2568)"
   ]
  },
  {
   "cell_type": "code",
   "execution_count": 74,
   "id": "f9e8484c",
   "metadata": {},
   "outputs": [
    {
     "data": {
      "image/png": "[encoded data removed]",
      "text/plain": [
       "plot without title"
      ]
     },
     "metadata": {},
     "output_type": "display_data"
    }
   ],
   "source": [
    "plot(x, y, xlab = 'Body mass', ylab = 'Energy Expenditure')"
   ]
  },
  {
   "cell_type": "code",
   "execution_count": 80,
   "id": "2d8617bc",
   "metadata": {},
   "outputs": [
    {
     "data": {
      "image/png": "[encoded data removed]",
      "text/plain": [
       "Plot with title \"Plot Title\""
      ]
     },
     "metadata": {},
     "output_type": "display_data"
    }
   ],
   "source": [
    "my_lm <- lm(y~x)\n",
    "plot(x, y, main = 'Plot Title', xlab = 'Body Mass', \n",
    "     ylab = 'Energy Expenditure', col = 2, pch = '*', cex = 2)\n",
    "abline(my_lm, col = 'green')"
   ]
  },
  {
   "cell_type": "markdown",
   "id": "581e6891",
   "metadata": {},
   "source": [
    "# Functions for numeric matrices\n",
    "\n",
    "### Useful R Functions\n",
    "\n",
    "    A %*% B    Matrix multiplication for compatible matrices A, B.\n",
    "    dim(A)    Dimension of matrix A.\n",
    "    t(A)      Transpose of matrix A.\n",
    "    diag(x)    Returns a diagonal matrix with elements x along the diagonal.\n",
    "    diag(A)    Returns a vector of the diagonal elements of A.\n",
    "    solve(A,b)  Returns x in the equation b = Ax.\n",
    "    solve(A)   Inverse of A where A is a square matrix.\n",
    "    cbind(A,B)  Combine matrices horizontally for compatible matrices A, B.\n",
    "    rbind(A,B)  Combine matrices vertically for compatible matrices A, B."
   ]
  },
  {
   "cell_type": "markdown",
   "id": "5dd08d10",
   "metadata": {},
   "source": [
    "### Solve the linear equations system\n",
    "\n",
    "3x − 2y + z = −1\n",
    "\n",
    "x + 1/2*y -12z = 2\n",
    "\n",
    "x + y + 3z = 3"
   ]
  },
  {
   "cell_type": "code",
   "execution_count": 82,
   "id": "62e0bfb7",
   "metadata": {},
   "outputs": [
    {
     "data": {
      "text/html": [
       "<ol class=list-inline>\n",
       "\t<li>1</li>\n",
       "\t<li>2</li>\n",
       "\t<li>0</li>\n",
       "</ol>\n"
      ],
      "text/latex": [
       "\\begin{enumerate*}\n",
       "\\item 1\n",
       "\\item 2\n",
       "\\item 0\n",
       "\\end{enumerate*}\n"
      ],
      "text/markdown": [
       "1. 1\n",
       "2. 2\n",
       "3. 0\n",
       "\n",
       "\n"
      ],
      "text/plain": [
       "[1] 1 2 0"
      ]
     },
     "metadata": {},
     "output_type": "display_data"
    }
   ],
   "source": [
    "# Define matrix A\n",
    "A <- matrix(c(3, 1, 1, -2, 1/2, 1, 1, -12, 3), nrow = 3)\n",
    "\n",
    "# Define vector b\n",
    "b <- c(-1, 2, 3)\n",
    "\n",
    "# Use the solve function\n",
    "solve(A, b)"
   ]
  },
  {
   "cell_type": "code",
   "execution_count": 83,
   "id": "25303b8b",
   "metadata": {},
   "outputs": [
    {
     "data": {
      "text/html": [
       "<table>\n",
       "<tbody>\n",
       "\t<tr><td>-1</td></tr>\n",
       "\t<tr><td> 2</td></tr>\n",
       "\t<tr><td> 3</td></tr>\n",
       "</tbody>\n",
       "</table>\n"
      ],
      "text/latex": [
       "\\begin{tabular}{l}\n",
       "\t -1\\\\\n",
       "\t  2\\\\\n",
       "\t  3\\\\\n",
       "\\end{tabular}\n"
      ],
      "text/markdown": [
       "\n",
       "| -1 |\n",
       "|  2 |\n",
       "|  3 |\n",
       "\n"
      ],
      "text/plain": [
       "     [,1]\n",
       "[1,] -1  \n",
       "[2,]  2  \n",
       "[3,]  3  "
      ]
     },
     "metadata": {},
     "output_type": "display_data"
    }
   ],
   "source": [
    "# Define solution vector x\n",
    "x <- c(1, 2, 0)\n",
    "\n",
    "# Then check with matrix multiplication\n",
    "A %*% x"
   ]
  },
  {
   "cell_type": "markdown",
   "id": "dc647c0a",
   "metadata": {},
   "source": [
    "# Element-wise operations for matrices\n",
    "### Element-wise Operators\n",
    "    a + A Element-wise scalar addition\n",
    "    a * A Element-wise scalar multiplication\n",
    "    A + B Element-wise addition\n",
    "    A * B Element-wise multiplication\n",
    "    A ˆ a Element-wise power\n",
    "    a ˆ A Element-wise exponentiation\n",
    "    A ˆ B Element-wise exponentiation"
   ]
  },
  {
   "cell_type": "markdown",
   "id": "2f828c85",
   "metadata": {},
   "source": [
    "# Base R filtering"
   ]
  },
  {
   "cell_type": "code",
   "execution_count": 84,
   "id": "7a36e351",
   "metadata": {},
   "outputs": [
    {
     "data": {
      "text/html": [
       "<ol class=list-inline>\n",
       "\t<li>TRUE</li>\n",
       "\t<li>TRUE</li>\n",
       "\t<li>FALSE</li>\n",
       "</ol>\n"
      ],
      "text/latex": [
       "\\begin{enumerate*}\n",
       "\\item TRUE\n",
       "\\item TRUE\n",
       "\\item FALSE\n",
       "\\end{enumerate*}\n"
      ],
      "text/markdown": [
       "1. TRUE\n",
       "2. TRUE\n",
       "3. FALSE\n",
       "\n",
       "\n"
      ],
      "text/plain": [
       "[1]  TRUE  TRUE FALSE"
      ]
     },
     "metadata": {},
     "output_type": "display_data"
    }
   ],
   "source": [
    "# Compare element-wisely, return an array of Boolean values.\n",
    "c(0 ,1 ,4) < 3"
   ]
  },
  {
   "cell_type": "code",
   "execution_count": 85,
   "id": "2ef8fae1",
   "metadata": {},
   "outputs": [
    {
     "data": {
      "text/html": [
       "<ol class=list-inline>\n",
       "\t<li>1</li>\n",
       "\t<li>2</li>\n",
       "</ol>\n"
      ],
      "text/latex": [
       "\\begin{enumerate*}\n",
       "\\item 1\n",
       "\\item 2\n",
       "\\end{enumerate*}\n"
      ],
      "text/markdown": [
       "1. 1\n",
       "2. 2\n",
       "\n",
       "\n"
      ],
      "text/plain": [
       "[1] 1 2"
      ]
     },
     "metadata": {},
     "output_type": "display_data"
    }
   ],
   "source": [
    "# Return the indices where the Boolean values equal to TRUE.\n",
    "which(c(0 , 1, 4) < 3)"
   ]
  },
  {
   "cell_type": "code",
   "execution_count": 88,
   "id": "89332b4c",
   "metadata": {},
   "outputs": [
    {
     "data": {
      "text/html": [
       "<ol class=list-inline>\n",
       "\t<li>1</li>\n",
       "\t<li>2</li>\n",
       "</ol>\n"
      ],
      "text/latex": [
       "\\begin{enumerate*}\n",
       "\\item 1\n",
       "\\item 2\n",
       "\\end{enumerate*}\n"
      ],
      "text/markdown": [
       "1. 1\n",
       "2. 2\n",
       "\n",
       "\n"
      ],
      "text/plain": [
       "[1] 1 2"
      ]
     },
     "metadata": {},
     "output_type": "display_data"
    }
   ],
   "source": [
    "which(c(TRUE, TRUE, FALSE))"
   ]
  },
  {
   "cell_type": "code",
   "execution_count": 86,
   "id": "290a62be",
   "metadata": {},
   "outputs": [
    {
     "data": {
      "text/html": [
       "FALSE"
      ],
      "text/latex": [
       "FALSE"
      ],
      "text/markdown": [
       "FALSE"
      ],
      "text/plain": [
       "[1] FALSE"
      ]
     },
     "metadata": {},
     "output_type": "display_data"
    }
   ],
   "source": [
    "(1 > 3) & (4*5 == 20)"
   ]
  },
  {
   "cell_type": "code",
   "execution_count": 87,
   "id": "7daa9e29",
   "metadata": {},
   "outputs": [
    {
     "data": {
      "text/html": [
       "TRUE"
      ],
      "text/latex": [
       "TRUE"
      ],
      "text/markdown": [
       "TRUE"
      ],
      "text/plain": [
       "[1] TRUE"
      ]
     },
     "metadata": {},
     "output_type": "display_data"
    }
   ],
   "source": [
    "(1 > 3) | (4*5 == 20)"
   ]
  },
  {
   "cell_type": "code",
   "execution_count": 89,
   "id": "fc313dc4",
   "metadata": {},
   "outputs": [
    {
     "data": {
      "text/html": [
       "<ol class=list-inline>\n",
       "\t<li>FALSE</li>\n",
       "\t<li>TRUE</li>\n",
       "\t<li>TRUE</li>\n",
       "</ol>\n"
      ],
      "text/latex": [
       "\\begin{enumerate*}\n",
       "\\item FALSE\n",
       "\\item TRUE\n",
       "\\item TRUE\n",
       "\\end{enumerate*}\n"
      ],
      "text/markdown": [
       "1. FALSE\n",
       "2. TRUE\n",
       "3. TRUE\n",
       "\n",
       "\n"
      ],
      "text/plain": [
       "[1] FALSE  TRUE  TRUE"
      ]
     },
     "metadata": {},
     "output_type": "display_data"
    }
   ],
   "source": [
    "# Compare two arrays element-wisely and return an array of Boolean values.\n",
    "c(0,1,4) >= c(1,1,3)"
   ]
  },
  {
   "cell_type": "code",
   "execution_count": 90,
   "id": "677199b3",
   "metadata": {},
   "outputs": [
    {
     "data": {
      "text/html": [
       "<ol class=list-inline>\n",
       "\t<li>FALSE</li>\n",
       "\t<li>TRUE</li>\n",
       "</ol>\n"
      ],
      "text/latex": [
       "\\begin{enumerate*}\n",
       "\\item FALSE\n",
       "\\item TRUE\n",
       "\\end{enumerate*}\n"
      ],
      "text/markdown": [
       "1. FALSE\n",
       "2. TRUE\n",
       "\n",
       "\n"
      ],
      "text/plain": [
       "[1] FALSE  TRUE"
      ]
     },
     "metadata": {},
     "output_type": "display_data"
    }
   ],
   "source": [
    "c(\"Cat\",\"Dog\") == \"Dog\""
   ]
  },
  {
   "cell_type": "markdown",
   "id": "1edeb1b3",
   "metadata": {},
   "source": [
    "### Sometimes we would like to extract elements form a vector or matrix that satisfy certain criteria."
   ]
  },
  {
   "cell_type": "code",
   "execution_count": 91,
   "id": "701a77f4",
   "metadata": {},
   "outputs": [
    {
     "data": {
      "text/html": [
       "<ol class=list-inline>\n",
       "\t<li>20</li>\n",
       "\t<li>9</li>\n",
       "</ol>\n"
      ],
      "text/latex": [
       "\\begin{enumerate*}\n",
       "\\item 20\n",
       "\\item 9\n",
       "\\end{enumerate*}\n"
      ],
      "text/markdown": [
       "1. 20\n",
       "2. 9\n",
       "\n",
       "\n"
      ],
      "text/plain": [
       "[1] 20  9"
      ]
     },
     "metadata": {},
     "output_type": "display_data"
    }
   ],
   "source": [
    "w <- c(-3, 20, 9, 2)\n",
    "w[w > 3]"
   ]
  },
  {
   "cell_type": "code",
   "execution_count": 92,
   "id": "c8a3bbba",
   "metadata": {},
   "outputs": [
    {
     "data": {
      "text/html": [
       "<ol class=list-inline>\n",
       "\t<li>-3</li>\n",
       "\t<li>2</li>\n",
       "</ol>\n"
      ],
      "text/latex": [
       "\\begin{enumerate*}\n",
       "\\item -3\n",
       "\\item 2\n",
       "\\end{enumerate*}\n"
      ],
      "text/markdown": [
       "1. -3\n",
       "2. 2\n",
       "\n",
       "\n"
      ],
      "text/plain": [
       "[1] -3  2"
      ]
     },
     "metadata": {},
     "output_type": "display_data"
    }
   ],
   "source": [
    "w <- c(-3, 20, 9, 2)\n",
    "w[w*w >= 3 & w*w <= 10]"
   ]
  },
  {
   "cell_type": "code",
   "execution_count": 93,
   "id": "6d6e60ab",
   "metadata": {},
   "outputs": [
    {
     "data": {
      "text/html": [
       "<ol class=list-inline>\n",
       "\t<li>20</li>\n",
       "\t<li>2</li>\n",
       "</ol>\n"
      ],
      "text/latex": [
       "\\begin{enumerate*}\n",
       "\\item 20\n",
       "\\item 2\n",
       "\\end{enumerate*}\n"
      ],
      "text/markdown": [
       "1. 20\n",
       "2. 2\n",
       "\n",
       "\n"
      ],
      "text/plain": [
       "[1] 20  2"
      ]
     },
     "metadata": {},
     "output_type": "display_data"
    }
   ],
   "source": [
    "w <- c(-1, 20, 9, 2)\n",
    "v <- c(0, 17, 10, 1)\n",
    "w[w > v]"
   ]
  },
  {
   "cell_type": "markdown",
   "id": "3cfeb3b7",
   "metadata": {},
   "source": [
    "## Filtering Elements of a Matrix"
   ]
  },
  {
   "cell_type": "code",
   "execution_count": 95,
   "id": "7391cf3b",
   "metadata": {},
   "outputs": [
    {
     "data": {
      "text/html": [
       "<table>\n",
       "<tbody>\n",
       "\t<tr><td>4</td><td>4</td><td>6</td></tr>\n",
       "\t<tr><td>4</td><td>4</td><td>7</td></tr>\n",
       "\t<tr><td>4</td><td>5</td><td>8</td></tr>\n",
       "</tbody>\n",
       "</table>\n"
      ],
      "text/latex": [
       "\\begin{tabular}{lll}\n",
       "\t 4 & 4 & 6\\\\\n",
       "\t 4 & 4 & 7\\\\\n",
       "\t 4 & 5 & 8\\\\\n",
       "\\end{tabular}\n"
      ],
      "text/markdown": [
       "\n",
       "| 4 | 4 | 6 |\n",
       "| 4 | 4 | 7 |\n",
       "| 4 | 5 | 8 |\n",
       "\n"
      ],
      "text/plain": [
       "     [,1] [,2] [,3]\n",
       "[1,] 4    4    6   \n",
       "[2,] 4    4    7   \n",
       "[3,] 4    5    8   "
      ]
     },
     "metadata": {},
     "output_type": "display_data"
    }
   ],
   "source": [
    "M <- matrix(c(rep(4, 5), 5:8), ncol=3, nrow=3)\n",
    "M"
   ]
  },
  {
   "cell_type": "code",
   "execution_count": 97,
   "id": "a032da61",
   "metadata": {},
   "outputs": [
    {
     "data": {
      "text/html": [
       "<table>\n",
       "<tbody>\n",
       "\t<tr><td>FALSE</td><td>FALSE</td><td>TRUE </td></tr>\n",
       "\t<tr><td>FALSE</td><td>FALSE</td><td>TRUE </td></tr>\n",
       "\t<tr><td>FALSE</td><td>FALSE</td><td>TRUE </td></tr>\n",
       "</tbody>\n",
       "</table>\n"
      ],
      "text/latex": [
       "\\begin{tabular}{lll}\n",
       "\t FALSE & FALSE & TRUE \\\\\n",
       "\t FALSE & FALSE & TRUE \\\\\n",
       "\t FALSE & FALSE & TRUE \\\\\n",
       "\\end{tabular}\n"
      ],
      "text/markdown": [
       "\n",
       "| FALSE | FALSE | TRUE  |\n",
       "| FALSE | FALSE | TRUE  |\n",
       "| FALSE | FALSE | TRUE  |\n",
       "\n"
      ],
      "text/plain": [
       "     [,1]  [,2]  [,3]\n",
       "[1,] FALSE FALSE TRUE\n",
       "[2,] FALSE FALSE TRUE\n",
       "[3,] FALSE FALSE TRUE"
      ]
     },
     "metadata": {},
     "output_type": "display_data"
    }
   ],
   "source": [
    "# Do element-wise comparision between a matrix and a constant,\n",
    "# which returns a matrix with Boolean values\n",
    "M > 5"
   ]
  },
  {
   "cell_type": "code",
   "execution_count": 98,
   "id": "3b7f9c4a",
   "metadata": {},
   "outputs": [
    {
     "data": {
      "text/html": [
       "<ol class=list-inline>\n",
       "\t<li>TRUE</li>\n",
       "\t<li>TRUE</li>\n",
       "\t<li>FALSE</li>\n",
       "</ol>\n"
      ],
      "text/latex": [
       "\\begin{enumerate*}\n",
       "\\item TRUE\n",
       "\\item TRUE\n",
       "\\item FALSE\n",
       "\\end{enumerate*}\n"
      ],
      "text/markdown": [
       "1. TRUE\n",
       "2. TRUE\n",
       "3. FALSE\n",
       "\n",
       "\n"
      ],
      "text/plain": [
       "[1]  TRUE  TRUE FALSE"
      ]
     },
     "metadata": {},
     "output_type": "display_data"
    }
   ],
   "source": [
    "M[,3] < 8"
   ]
  },
  {
   "cell_type": "code",
   "execution_count": 99,
   "id": "4d4cce93",
   "metadata": {},
   "outputs": [
    {
     "data": {
      "text/html": [
       "<table>\n",
       "<tbody>\n",
       "\t<tr><td>4</td><td>4</td><td>6</td></tr>\n",
       "\t<tr><td>4</td><td>4</td><td>7</td></tr>\n",
       "</tbody>\n",
       "</table>\n"
      ],
      "text/latex": [
       "\\begin{tabular}{lll}\n",
       "\t 4 & 4 & 6\\\\\n",
       "\t 4 & 4 & 7\\\\\n",
       "\\end{tabular}\n"
      ],
      "text/markdown": [
       "\n",
       "| 4 | 4 | 6 |\n",
       "| 4 | 4 | 7 |\n",
       "\n"
      ],
      "text/plain": [
       "     [,1] [,2] [,3]\n",
       "[1,] 4    4    6   \n",
       "[2,] 4    4    7   "
      ]
     },
     "metadata": {},
     "output_type": "display_data"
    }
   ],
   "source": [
    "M[M[,3] < 8, ]"
   ]
  },
  {
   "cell_type": "code",
   "execution_count": 101,
   "id": "45a97275",
   "metadata": {},
   "outputs": [
    {
     "data": {
      "text/html": [
       "<table>\n",
       "<thead><tr><th scope=col>First</th><th scope=col>Second</th><th scope=col>Third</th></tr></thead>\n",
       "<tbody>\n",
       "\t<tr><td>1 </td><td>1 </td><td> 9</td></tr>\n",
       "\t<tr><td>2 </td><td>0 </td><td>16</td></tr>\n",
       "\t<tr><td>3 </td><td>1 </td><td>25</td></tr>\n",
       "</tbody>\n",
       "</table>\n"
      ],
      "text/latex": [
       "\\begin{tabular}{lll}\n",
       " First & Second & Third\\\\\n",
       "\\hline\n",
       "\t 1  & 1  &  9\\\\\n",
       "\t 2  & 0  & 16\\\\\n",
       "\t 3  & 1  & 25\\\\\n",
       "\\end{tabular}\n"
      ],
      "text/markdown": [
       "\n",
       "| First | Second | Third |\n",
       "|---|---|---|\n",
       "| 1  | 1  |  9 |\n",
       "| 2  | 0  | 16 |\n",
       "| 3  | 1  | 25 |\n",
       "\n"
      ],
      "text/plain": [
       "     First Second Third\n",
       "[1,] 1     1       9   \n",
       "[2,] 2     0      16   \n",
       "[3,] 3     1      25   "
      ]
     },
     "metadata": {},
     "output_type": "display_data"
    }
   ],
   "source": [
    "z <- matrix(c(1, 2, 3, 1, 0, 1, 9, 16, 25),ncol = 3, nrow = 3)\n",
    "colnames(z) <- c('First', 'Second', 'Third')\n",
    "z"
   ]
  },
  {
   "cell_type": "code",
   "execution_count": 102,
   "id": "84518aa2",
   "metadata": {},
   "outputs": [
    {
     "data": {
      "text/html": [
       "<table>\n",
       "<thead><tr><th scope=col>First</th><th scope=col>Second</th><th scope=col>Third</th></tr></thead>\n",
       "<tbody>\n",
       "\t<tr><td>1</td><td>1</td><td>9</td></tr>\n",
       "\t<tr><td>1</td><td>1</td><td>9</td></tr>\n",
       "</tbody>\n",
       "</table>\n"
      ],
      "text/latex": [
       "\\begin{tabular}{lll}\n",
       " First & Second & Third\\\\\n",
       "\\hline\n",
       "\t 1 & 1 & 9\\\\\n",
       "\t 1 & 1 & 9\\\\\n",
       "\\end{tabular}\n"
      ],
      "text/markdown": [
       "\n",
       "| First | Second | Third |\n",
       "|---|---|---|\n",
       "| 1 | 1 | 9 |\n",
       "| 1 | 1 | 9 |\n",
       "\n"
      ],
      "text/plain": [
       "     First Second Third\n",
       "[1,] 1     1      9    \n",
       "[2,] 1     1      9    "
      ]
     },
     "metadata": {},
     "output_type": "display_data"
    }
   ],
   "source": [
    "z[z[, 'Second'],]"
   ]
  },
  {
   "cell_type": "code",
   "execution_count": 103,
   "id": "dee9cb11",
   "metadata": {},
   "outputs": [
    {
     "data": {
      "text/html": [
       "<ol class=list-inline>\n",
       "\t<li>FALSE</li>\n",
       "\t<li>TRUE</li>\n",
       "\t<li>TRUE</li>\n",
       "</ol>\n"
      ],
      "text/latex": [
       "\\begin{enumerate*}\n",
       "\\item FALSE\n",
       "\\item TRUE\n",
       "\\item TRUE\n",
       "\\end{enumerate*}\n"
      ],
      "text/markdown": [
       "1. FALSE\n",
       "2. TRUE\n",
       "3. TRUE\n",
       "\n",
       "\n"
      ],
      "text/plain": [
       "[1] FALSE  TRUE  TRUE"
      ]
     },
     "metadata": {},
     "output_type": "display_data"
    }
   ],
   "source": [
    "z[, 1] != 1"
   ]
  },
  {
   "cell_type": "code",
   "execution_count": 104,
   "id": "fd0571f4",
   "metadata": {},
   "outputs": [
    {
     "data": {
      "text/html": [
       "<ol class=list-inline>\n",
       "\t<li>16</li>\n",
       "\t<li>25</li>\n",
       "</ol>\n"
      ],
      "text/latex": [
       "\\begin{enumerate*}\n",
       "\\item 16\n",
       "\\item 25\n",
       "\\end{enumerate*}\n"
      ],
      "text/markdown": [
       "1. 16\n",
       "2. 25\n",
       "\n",
       "\n"
      ],
      "text/plain": [
       "[1] 16 25"
      ]
     },
     "metadata": {},
     "output_type": "display_data"
    }
   ],
   "source": [
    "z[(z[, 1] != 1), 3]"
   ]
  },
  {
   "cell_type": "code",
   "execution_count": 106,
   "id": "0ee7825a",
   "metadata": {},
   "outputs": [
    {
     "data": {
      "text/html": [
       "4"
      ],
      "text/latex": [
       "4"
      ],
      "text/markdown": [
       "4"
      ],
      "text/plain": [
       "[1] 4"
      ]
     },
     "metadata": {},
     "output_type": "display_data"
    }
   ],
   "source": [
    "# NA here actually represents a placeholder.\n",
    "length(c(-1, 0, NA, 5))"
   ]
  },
  {
   "cell_type": "code",
   "execution_count": 107,
   "id": "5ba66851",
   "metadata": {},
   "outputs": [
    {
     "data": {
      "text/html": [
       "3"
      ],
      "text/latex": [
       "3"
      ],
      "text/markdown": [
       "3"
      ],
      "text/plain": [
       "[1] 3"
      ]
     },
     "metadata": {},
     "output_type": "display_data"
    }
   ],
   "source": [
    "length(c(-1, 0, NULL, 5))"
   ]
  },
  {
   "cell_type": "code",
   "execution_count": 108,
   "id": "ba56a596",
   "metadata": {},
   "outputs": [
    {
     "data": {
      "text/html": [
       "&lt;NA&gt;"
      ],
      "text/latex": [
       "<NA>"
      ],
      "text/markdown": [
       "&lt;NA&gt;"
      ],
      "text/plain": [
       "[1] NA"
      ]
     },
     "metadata": {},
     "output_type": "display_data"
    }
   ],
   "source": [
    "# Use na.rm = TRUE to remove NA values.\n",
    "t <- c(-1, 0, NA, 5)\n",
    "mean(t)"
   ]
  },
  {
   "cell_type": "code",
   "execution_count": 109,
   "id": "5d7bdb4f",
   "metadata": {},
   "outputs": [
    {
     "data": {
      "text/html": [
       "1.33333333333333"
      ],
      "text/latex": [
       "1.33333333333333"
      ],
      "text/markdown": [
       "1.33333333333333"
      ],
      "text/plain": [
       "[1] 1.333333"
      ]
     },
     "metadata": {},
     "output_type": "display_data"
    }
   ],
   "source": [
    "mean(t, na.rm = TRUE)"
   ]
  },
  {
   "cell_type": "code",
   "execution_count": 110,
   "id": "be6b2e1e",
   "metadata": {},
   "outputs": [
    {
     "data": {
      "text/html": [
       "1.33333333333333"
      ],
      "text/latex": [
       "1.33333333333333"
      ],
      "text/markdown": [
       "1.33333333333333"
      ],
      "text/plain": [
       "[1] 1.333333"
      ]
     },
     "metadata": {},
     "output_type": "display_data"
    }
   ],
   "source": [
    "# NA values are missing, but NULL values don't exist\n",
    "mean(c(-1, 0, NULL, 5))"
   ]
  },
  {
   "cell_type": "markdown",
   "id": "af58239b",
   "metadata": {},
   "source": [
    "NULL can be used is to build a vector in the following way:"
   ]
  },
  {
   "cell_type": "code",
   "execution_count": 111,
   "id": "d0641a83",
   "metadata": {},
   "outputs": [],
   "source": [
    "# Define an empty vector\n",
    "x <- NULL"
   ]
  },
  {
   "cell_type": "code",
   "execution_count": 113,
   "id": "e4eef777",
   "metadata": {},
   "outputs": [
    {
     "data": {
      "text/html": [
       "<ol class=list-inline>\n",
       "\t<li>'Blue'</li>\n",
       "\t<li>'Green'</li>\n",
       "\t<li>'Red'</li>\n",
       "</ol>\n"
      ],
      "text/latex": [
       "\\begin{enumerate*}\n",
       "\\item 'Blue'\n",
       "\\item 'Green'\n",
       "\\item 'Red'\n",
       "\\end{enumerate*}\n"
      ],
      "text/markdown": [
       "1. 'Blue'\n",
       "2. 'Green'\n",
       "3. 'Red'\n",
       "\n",
       "\n"
      ],
      "text/plain": [
       "[1] \"Blue\"  \"Green\" \"Red\"  "
      ]
     },
     "metadata": {},
     "output_type": "display_data"
    }
   ],
   "source": [
    "# Fill in the vector\n",
    "# 这就很像之前通过x <- c()创建空array，再以索引形式填充的构造方式\n",
    "x[1] <- 'Blue'\n",
    "x[2] <- 'Green'\n",
    "x[3] <- 'Red'\n",
    "x"
   ]
  },
  {
   "cell_type": "markdown",
   "id": "527f48c0",
   "metadata": {},
   "source": [
    "# Base R list\n",
    "\n",
    "### A list structure combines objects of different modes."
   ]
  },
  {
   "cell_type": "code",
   "execution_count": null,
   "id": "a99d58ed",
   "metadata": {},
   "outputs": [],
   "source": []
  }
 ],
 "metadata": {
  "kernelspec": {
   "display_name": "R",
   "language": "R",
   "name": "ir"
  },
  "language_info": {
   "codemirror_mode": "r",
   "file_extension": ".r",
   "mimetype": "text/x-r-source",
   "name": "R",
   "pygments_lexer": "r",
   "version": "3.6.1"
  }
 },
 "nbformat": 4,
 "nbformat_minor": 5
}
