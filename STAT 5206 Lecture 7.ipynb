{
 "cells": [
  {
   "cell_type": "markdown",
   "id": "142f221c",
   "metadata": {},
   "source": [
    "# Functions\n",
    "\n",
    "Why Functions?\n",
    "\n",
    "• Data structures tie related values into one object.\n",
    "\n",
    "• Functions tie related commands into one object.\n",
    "\n",
    "• Both cases: easier to understand, work with, and to build into larger structures."
   ]
  },
  {
   "cell_type": "code",
   "execution_count": 1,
   "id": "0d7d7f7b",
   "metadata": {},
   "outputs": [],
   "source": [
    "# A Function to Check for Significance at α = 0.05\n",
    "# Input p should be a single p-value in [0, 1].\n",
    "\n",
    "significant <- function(p){\n",
    "    ifelse(p < 0.05, return(\"significant\"), return(\"not significant\"))\n",
    "}"
   ]
  },
  {
   "cell_type": "code",
   "execution_count": 2,
   "id": "a1f6fd7e",
   "metadata": {},
   "outputs": [
    {
     "data": {
      "text/html": [
       "<ol class=list-inline>\n",
       "\t<li>0.25</li>\n",
       "\t<li>0.81</li>\n",
       "\t<li>5</li>\n",
       "\t<li>7</li>\n",
       "</ol>\n"
      ],
      "text/latex": [
       "\\begin{enumerate*}\n",
       "\\item 0.25\n",
       "\\item 0.81\n",
       "\\item 5\n",
       "\\item 7\n",
       "\\end{enumerate*}\n"
      ],
      "text/markdown": [
       "1. 0.25\n",
       "2. 0.81\n",
       "3. 5\n",
       "4. 7\n",
       "\n",
       "\n"
      ],
      "text/plain": [
       "[1] 0.25 0.81 5.00 7.00"
      ]
     },
     "metadata": {},
     "output_type": "display_data"
    }
   ],
   "source": [
    "# A \"Robust\" Loss Function (for Outlier-Resistant Regression)\n",
    "\n",
    "# 输入: 数字构成的vector x。\n",
    "# 输出: 根据x中个元素的值所决定的一个loss vector。以x^2与1作为标准，小于等于1则返回x^2,\n",
    "# 比1大则返回2|x|-1。\n",
    "\n",
    "res_loss <- function(x) {\n",
    "    loss_vec <- ifelse(x^2 > 1, 2*abs(x) - 1, x^2)\n",
    "    return(loss_vec)\n",
    "}\n",
    "\n",
    "vec <- c(-0.5, 0.9, -3, 4)\n",
    "res_loss(vec)"
   ]
  },
  {
   "cell_type": "markdown",
   "id": "29c64599",
   "metadata": {},
   "source": [
    "## Task\n",
    "Write a function called FiveTimesSum that takes as input a vector of numerical values and returns 5 times the sum of those values. Test it on the vector 1:3. Your output should be 30."
   ]
  },
  {
   "cell_type": "code",
   "execution_count": 3,
   "id": "09c868b3",
   "metadata": {},
   "outputs": [
    {
     "data": {
      "text/html": [
       "30"
      ],
      "text/latex": [
       "30"
      ],
      "text/markdown": [
       "30"
      ],
      "text/plain": [
       "[1] 30"
      ]
     },
     "metadata": {},
     "output_type": "display_data"
    }
   ],
   "source": [
    "FiveTimesSum <- function(vec){\n",
    "    return(5*sum(vec))\n",
    "}\n",
    "\n",
    "FiveTimesSum(1:3)"
   ]
  },
  {
   "cell_type": "markdown",
   "id": "cedbb361",
   "metadata": {},
   "source": [
    "## Loss function:= f(u) = $\\mathbf{u}^{\\mathbf{2}}$\n",
    "Least squares, makes $Q(b_{0}, b_{1}) = \\sum\\limits_{i=1}^{n}(y_{i}-(b_{0}+b_{1}x_{i}))^{2}$\n"
   ]
  },
  {
   "cell_type": "code",
   "execution_count": 4,
   "id": "85211aa6",
   "metadata": {},
   "outputs": [],
   "source": [
    "Loss <- function(x, y){\n",
    "    x_mean <- mean(x)\n",
    "    y_mean <- mean(y)\n",
    "    b1 <- sum((x - x_mean)*(y - y_mean)) / sum((x - x_mean)^2)\n",
    "    b0 <- y_mean - b1*x_mean\n",
    "    Q <- sum((y - (b0 + b1*x))^2)\n",
    "    return(Q)\n",
    "}\n"
   ]
  },
  {
   "cell_type": "markdown",
   "id": "83875e72",
   "metadata": {},
   "source": [
    "# Named and Default Arguments"
   ]
  },
  {
   "cell_type": "code",
   "execution_count": 5,
   "id": "e4ffab3c",
   "metadata": {},
   "outputs": [],
   "source": [
    "# 此函数有两个输入值，其中c已经设置了默认值1。\n",
    "res_loss2 <- function(x, c = 1){\n",
    "    loss_vec <- ifelse(x^2 > c, 2*sqrt(c)*abs(x) - c, x^2)\n",
    "    return(loss_vec)\n",
    "}"
   ]
  },
  {
   "cell_type": "code",
   "execution_count": 6,
   "id": "ac67fb05",
   "metadata": {
    "scrolled": true
   },
   "outputs": [
    {
     "data": {
      "text/html": [
       "TRUE"
      ],
      "text/latex": [
       "TRUE"
      ],
      "text/markdown": [
       "TRUE"
      ],
      "text/plain": [
       "[1] TRUE"
      ]
     },
     "metadata": {},
     "output_type": "display_data"
    },
    {
     "data": {
      "text/html": [
       "FALSE"
      ],
      "text/latex": [
       "FALSE"
      ],
      "text/markdown": [
       "FALSE"
      ],
      "text/plain": [
       "[1] FALSE"
      ]
     },
     "metadata": {},
     "output_type": "display_data"
    }
   ],
   "source": [
    "# 用identical()函数检验，identical()函数是检验两个input是否相等的安全方法，返回布尔值。\n",
    "identical(res_loss(vec), res_loss2(vec, c=1))\n",
    "identical(res_loss(vec), res_loss2(vec, c=2))"
   ]
  },
  {
   "cell_type": "code",
   "execution_count": 7,
   "id": "47e26e11",
   "metadata": {
    "scrolled": false
   },
   "outputs": [
    {
     "data": {
      "text/html": [
       "<ol class=list-inline>\n",
       "\t<li>0.25</li>\n",
       "\t<li>0.81</li>\n",
       "\t<li>5</li>\n",
       "\t<li>12.8885438199983</li>\n",
       "</ol>\n"
      ],
      "text/latex": [
       "\\begin{enumerate*}\n",
       "\\item 0.25\n",
       "\\item 0.81\n",
       "\\item 5\n",
       "\\item 12.8885438199983\n",
       "\\end{enumerate*}\n"
      ],
      "text/markdown": [
       "1. 0.25\n",
       "2. 0.81\n",
       "3. 5\n",
       "4. 12.8885438199983\n",
       "\n",
       "\n"
      ],
      "text/plain": [
       "[1]  0.25000  0.81000  5.00000 12.88854"
      ]
     },
     "metadata": {},
     "output_type": "display_data"
    },
    {
     "data": {
      "text/html": [
       "12.8885438199983"
      ],
      "text/latex": [
       "12.8885438199983"
      ],
      "text/markdown": [
       "12.8885438199983"
      ],
      "text/plain": [
       "[1] 12.88854"
      ]
     },
     "metadata": {},
     "output_type": "display_data"
    },
    {
     "name": "stderr",
     "output_type": "stream",
     "text": [
      "Warning message in sqrt(c):\n",
      "\"产生了NaNs\""
     ]
    },
    {
     "data": {
      "text/html": [
       "<ol class=list-inline>\n",
       "\t<li>NaN</li>\n",
       "\t<li>NaN</li>\n",
       "\t<li>NaN</li>\n",
       "\t<li>NaN</li>\n",
       "</ol>\n"
      ],
      "text/latex": [
       "\\begin{enumerate*}\n",
       "\\item NaN\n",
       "\\item NaN\n",
       "\\item NaN\n",
       "\\item NaN\n",
       "\\end{enumerate*}\n"
      ],
      "text/markdown": [
       "1. NaN\n",
       "2. NaN\n",
       "3. NaN\n",
       "4. NaN\n",
       "\n",
       "\n"
      ],
      "text/plain": [
       "[1] NaN NaN NaN NaN"
      ]
     },
     "metadata": {},
     "output_type": "display_data"
    }
   ],
   "source": [
    "# 两个input皆为vector时，则会根据对应的位置分别计算。\n",
    "vec <- c(-0.5, 0.9, -3, 4)\n",
    "res_loss2(x = vec, c = c(1,1,1,5))\n",
    "res_loss2(x = 4, c = 5)\n",
    "\n",
    "# 但若一个input是vector，另一个是常数的话，则会产生错误。\n",
    "res_loss2(vec, c = -1)"
   ]
  },
  {
   "cell_type": "code",
   "execution_count": 8,
   "id": "393b2fb1",
   "metadata": {},
   "outputs": [],
   "source": [
    "# 因此，为了防止输入一个单一vector，作以下修正:\n",
    "\n",
    "res_loss2 <- function(x, c = 1) {\n",
    "    # Scale should be a single positive number\n",
    "    stopifnot(length(c) == 1, c > 0)\n",
    "    \n",
    "    loss_vec <- ifelse(x^2 > c, 2*sqrt(c)*abs(x) - c, x^2)\n",
    "    return(loss_vec)\n",
    "}"
   ]
  },
  {
   "cell_type": "markdown",
   "id": "bcb9da78",
   "metadata": {},
   "source": [
    "stopifnot(..., exprs, local = TRUE)函数，当...或exprs中某一项不满足时报错。参数local默认为TRUE，仅当exprs存在时起作用，即local = FALSE时，会考虑外界（例如函数外）的变量是否满足。"
   ]
  },
  {
   "cell_type": "markdown",
   "id": "fe21e036",
   "metadata": {},
   "source": [
    "## Task\n",
    "Write a function called KTimesSum that takes as input a vector of numerical values and a scalar value K (with a default value of 5). The function should return the sum of those values multiplied times the value K. Test it with the following: KTimesSum(1:3) and KTimesSum(1:3, K = 10)."
   ]
  },
  {
   "cell_type": "code",
   "execution_count": 9,
   "id": "599ebbe9",
   "metadata": {},
   "outputs": [
    {
     "data": {
      "text/html": [
       "30"
      ],
      "text/latex": [
       "30"
      ],
      "text/markdown": [
       "30"
      ],
      "text/plain": [
       "[1] 30"
      ]
     },
     "metadata": {},
     "output_type": "display_data"
    },
    {
     "data": {
      "text/html": [
       "60"
      ],
      "text/latex": [
       "60"
      ],
      "text/markdown": [
       "60"
      ],
      "text/plain": [
       "[1] 60"
      ]
     },
     "metadata": {},
     "output_type": "display_data"
    }
   ],
   "source": [
    "KTimesSum <- function(vec, K = 5){\n",
    "    return(K*sum(vec))\n",
    "}\n",
    "KTimesSum(1:3)\n",
    "KTimesSum(1:3, K = 10)"
   ]
  },
  {
   "cell_type": "markdown",
   "id": "60565533",
   "metadata": {},
   "source": [
    "## Use Your Functions in Other Functions"
   ]
  },
  {
   "cell_type": "code",
   "execution_count": 10,
   "id": "d317fd0c",
   "metadata": {},
   "outputs": [
    {
     "data": {
      "image/png": "[encoded data removed]",
      "text/plain": [
       "plot without title"
      ]
     },
     "metadata": {},
     "output_type": "display_data"
    }
   ],
   "source": [
    "curve(res_loss2, from = -2, to = 2)"
   ]
  },
  {
   "cell_type": "markdown",
   "id": "d27b742b",
   "metadata": {},
   "source": [
    "# The R Environment\n",
    "• The global environment (or the workspace) in R consists of the collection of your named objects.\n",
    "\n",
    "• When you start an R session, a new environment is initialized (unless you load a saved environment).\n",
    "\n",
    "• When a function is called, a new local environment is created within the body of the function.\n",
    "\n",
    "## Clearing the Global Environment\n",
    "Note the code rm(list=ls()) clears the R global environment.\n",
    "\n",
    "## The Function Environment\n",
    "• Each function has its own (internal) environment.\n",
    "\n",
    "• Names in the function environment override names from the global environment.\n",
    "\n",
    "• Assignments in the internal environment don’t change the global environment.\n",
    "\n",
    "• Functions search for named variables (undefined in the function itself) in the environment in which the function was created (in our case, the global environment)."
   ]
  },
  {
   "cell_type": "code",
   "execution_count": 11,
   "id": "3a67ff0e",
   "metadata": {},
   "outputs": [
    {
     "data": {
      "text/html": [
       "8"
      ],
      "text/latex": [
       "8"
      ],
      "text/markdown": [
       "8"
      ],
      "text/plain": [
       "[1] 8"
      ]
     },
     "metadata": {},
     "output_type": "display_data"
    },
    {
     "data": {
      "text/html": [
       "7"
      ],
      "text/latex": [
       "7"
      ],
      "text/markdown": [
       "7"
      ],
      "text/plain": [
       "[1] 7"
      ]
     },
     "metadata": {},
     "output_type": "display_data"
    },
    {
     "data": {
      "text/html": [
       "<ol class=list-inline>\n",
       "\t<li>'dog'</li>\n",
       "\t<li>'cat'</li>\n",
       "</ol>\n"
      ],
      "text/latex": [
       "\\begin{enumerate*}\n",
       "\\item 'dog'\n",
       "\\item 'cat'\n",
       "\\end{enumerate*}\n"
      ],
      "text/markdown": [
       "1. 'dog'\n",
       "2. 'cat'\n",
       "\n",
       "\n"
      ],
      "text/plain": [
       "[1] \"dog\" \"cat\""
      ]
     },
     "metadata": {},
     "output_type": "display_data"
    }
   ],
   "source": [
    "x <- 7\n",
    "y <- c(\"dog\", \"cat\")\n",
    "\n",
    "addition <- function(y){\n",
    "    x <- x + y\n",
    "    return(x)\n",
    "}\n",
    "\n",
    "addition(1)\n",
    "x\n",
    "y"
   ]
  },
  {
   "cell_type": "code",
   "execution_count": 12,
   "id": "ca3f868e",
   "metadata": {
    "scrolled": true
   },
   "outputs": [
    {
     "name": "stdout",
     "output_type": "stream",
     "text": [
      "[1] 3.141593\n"
     ]
    },
    {
     "data": {
      "text/html": [
       "<ol class=list-inline>\n",
       "\t<li>3.14159265358979</li>\n",
       "\t<li>12.5663706143592</li>\n",
       "\t<li>28.2743338823081</li>\n",
       "</ol>\n"
      ],
      "text/latex": [
       "\\begin{enumerate*}\n",
       "\\item 3.14159265358979\n",
       "\\item 12.5663706143592\n",
       "\\item 28.2743338823081\n",
       "\\end{enumerate*}\n"
      ],
      "text/markdown": [
       "1. 3.14159265358979\n",
       "2. 12.5663706143592\n",
       "3. 28.2743338823081\n",
       "\n",
       "\n"
      ],
      "text/plain": [
       "[1]  3.141593 12.566371 28.274334"
      ]
     },
     "metadata": {},
     "output_type": "display_data"
    }
   ],
   "source": [
    "circle.area <- function(r){\n",
    "    print(pi)\n",
    "    return(pi*r^2)\n",
    "}\n",
    "circle.area(1:3)"
   ]
  },
  {
   "cell_type": "code",
   "execution_count": 13,
   "id": "4e2c36af",
   "metadata": {},
   "outputs": [
    {
     "name": "stdout",
     "output_type": "stream",
     "text": [
      "[1] 3\n"
     ]
    },
    {
     "data": {
      "text/html": [
       "<ol class=list-inline>\n",
       "\t<li>3</li>\n",
       "\t<li>12</li>\n",
       "\t<li>27</li>\n",
       "</ol>\n"
      ],
      "text/latex": [
       "\\begin{enumerate*}\n",
       "\\item 3\n",
       "\\item 12\n",
       "\\item 27\n",
       "\\end{enumerate*}\n"
      ],
      "text/markdown": [
       "1. 3\n",
       "2. 12\n",
       "3. 27\n",
       "\n",
       "\n"
      ],
      "text/plain": [
       "[1]  3 12 27"
      ]
     },
     "metadata": {},
     "output_type": "display_data"
    }
   ],
   "source": [
    "circle.area <- function(r){\n",
    "    print(pi)\n",
    "    return(pi*r^2)\n",
    "}\n",
    "true.pi <- pi # Save the real value\n",
    "pi <- 3 # Assign a new value\n",
    "\n",
    "circle.area(1:3)"
   ]
  },
  {
   "cell_type": "code",
   "execution_count": 14,
   "id": "2f93e0e5",
   "metadata": {},
   "outputs": [
    {
     "name": "stdout",
     "output_type": "stream",
     "text": [
      "[1] 3.141593\n"
     ]
    },
    {
     "data": {
      "text/html": [
       "<ol class=list-inline>\n",
       "\t<li>3.14159265358979</li>\n",
       "\t<li>12.5663706143592</li>\n",
       "\t<li>28.2743338823081</li>\n",
       "</ol>\n"
      ],
      "text/latex": [
       "\\begin{enumerate*}\n",
       "\\item 3.14159265358979\n",
       "\\item 12.5663706143592\n",
       "\\item 28.2743338823081\n",
       "\\end{enumerate*}\n"
      ],
      "text/markdown": [
       "1. 3.14159265358979\n",
       "2. 12.5663706143592\n",
       "3. 28.2743338823081\n",
       "\n",
       "\n"
      ],
      "text/plain": [
       "[1]  3.141593 12.566371 28.274334"
      ]
     },
     "metadata": {},
     "output_type": "display_data"
    }
   ],
   "source": [
    "pi <- true.pi # Restore the real value\n",
    "circle.area(1:3)"
   ]
  },
  {
   "cell_type": "markdown",
   "id": "b3a3a1c3",
   "metadata": {},
   "source": [
    "## Use Your Function Interfaces\n",
    "The function interfaces are the places where the function interacts with the global environment: at the inputs and the outputs.\n",
    "\n",
    "• Interact with the rest of the system only at the interfaces:\n",
    "\n",
    "        • Arguments should give your function all the information it needs\n",
    "        • Reduces the risk of bugs\n",
    "        • Exception would be universal constants like pi.\n",
    "        \n",
    "• Output should be only through return().\n"
   ]
  },
  {
   "cell_type": "markdown",
   "id": "c06d0c24",
   "metadata": {},
   "source": [
    "# Extended Example: Fitting a Model\n",
    "\n",
    "We study the following idea: bigger cities tend to produce more economically per capita.\n",
    "\n",
    "## Geoffrey West et al.\n",
    "A proposed statistical model for this relationship:\n",
    "\n",
    "$$\n",
    "Y = \\beta_{0}X^{\\beta_{1}}+\\epsilon\n",
    "$$\n",
    "\n",
    "where:\n",
    "\n",
    "• Y: per-capita \"gross metropolitan product\" of a city\n",
    "\n",
    "• X: is the population of the city\n",
    "\n",
    "• $\\beta_{0}, \\beta_{1}$: parameters\n",
    "\n",
    "• $\\epsilon$: noise"
   ]
  },
  {
   "cell_type": "code",
   "execution_count": 15,
   "id": "fc62f90e",
   "metadata": {},
   "outputs": [
    {
     "data": {
      "text/html": [
       "<table>\n",
       "<thead><tr><th scope=col>city</th><th scope=col>gmp</th><th scope=col>pcgmp</th></tr></thead>\n",
       "<tbody>\n",
       "\t<tr><td>Abilene, TX                </td><td>3.8870e+09                 </td><td>24490                      </td></tr>\n",
       "\t<tr><td>Akron, OH                  </td><td>2.2998e+10                 </td><td>32889                      </td></tr>\n",
       "\t<tr><td>Albany, GA                 </td><td>3.9550e+09                 </td><td>24269                      </td></tr>\n",
       "\t<tr><td>Albany-Schenectady-Troy, NY</td><td>3.1321e+10                 </td><td>36836                      </td></tr>\n",
       "\t<tr><td>Albuquerque, NM            </td><td>3.0727e+10                 </td><td>37657                      </td></tr>\n",
       "\t<tr><td>Alexandria, LA             </td><td>3.8790e+09                 </td><td>25494                      </td></tr>\n",
       "</tbody>\n",
       "</table>\n"
      ],
      "text/latex": [
       "\\begin{tabular}{r|lll}\n",
       " city & gmp & pcgmp\\\\\n",
       "\\hline\n",
       "\t Abilene, TX                 & 3.8870e+09                  & 24490                      \\\\\n",
       "\t Akron, OH                   & 2.2998e+10                  & 32889                      \\\\\n",
       "\t Albany, GA                  & 3.9550e+09                  & 24269                      \\\\\n",
       "\t Albany-Schenectady-Troy, NY & 3.1321e+10                  & 36836                      \\\\\n",
       "\t Albuquerque, NM             & 3.0727e+10                  & 37657                      \\\\\n",
       "\t Alexandria, LA              & 3.8790e+09                  & 25494                      \\\\\n",
       "\\end{tabular}\n"
      ],
      "text/markdown": [
       "\n",
       "| city | gmp | pcgmp |\n",
       "|---|---|---|\n",
       "| Abilene, TX                 | 3.8870e+09                  | 24490                       |\n",
       "| Akron, OH                   | 2.2998e+10                  | 32889                       |\n",
       "| Albany, GA                  | 3.9550e+09                  | 24269                       |\n",
       "| Albany-Schenectady-Troy, NY | 3.1321e+10                  | 36836                       |\n",
       "| Albuquerque, NM             | 3.0727e+10                  | 37657                       |\n",
       "| Alexandria, LA              | 3.8790e+09                  | 25494                       |\n",
       "\n"
      ],
      "text/plain": [
       "  city                        gmp        pcgmp\n",
       "1 Abilene, TX                 3.8870e+09 24490\n",
       "2 Akron, OH                   2.2998e+10 32889\n",
       "3 Albany, GA                  3.9550e+09 24269\n",
       "4 Albany-Schenectady-Troy, NY 3.1321e+10 36836\n",
       "5 Albuquerque, NM             3.0727e+10 37657\n",
       "6 Alexandria, LA              3.8790e+09 25494"
      ]
     },
     "metadata": {},
     "output_type": "display_data"
    }
   ],
   "source": [
    "gmp <- read.table(\"gmp.txt\", as.is = TRUE, header = TRUE)\n",
    "head(gmp)"
   ]
  },
  {
   "cell_type": "markdown",
   "id": "ff874840",
   "metadata": {},
   "source": [
    "### Variables\n",
    "• city\n",
    "\n",
    "• gmp: gross metropolitan product (money the city makes)\n",
    "\n",
    "• pcgmp: per-capita gross metropolitan product (money the city makes divided by the number of people in the city)\n",
    "\n",
    "gmp衡量了城市生产产品的总价值，pcgmp衡量了城市人均生产产品的价值，因此我们可以得到各城市的总人口"
   ]
  },
  {
   "cell_type": "code",
   "execution_count": 16,
   "id": "116eaea9",
   "metadata": {},
   "outputs": [
    {
     "data": {
      "text/html": [
       "<table>\n",
       "<thead><tr><th scope=col>city</th><th scope=col>gmp</th><th scope=col>pcgmp</th><th scope=col>pop</th></tr></thead>\n",
       "<tbody>\n",
       "\t<tr><td>Abilene, TX                </td><td>3.8870e+09                 </td><td>24490                      </td><td>158717.8                   </td></tr>\n",
       "\t<tr><td>Akron, OH                  </td><td>2.2998e+10                 </td><td>32889                      </td><td>699261.2                   </td></tr>\n",
       "\t<tr><td>Albany, GA                 </td><td>3.9550e+09                 </td><td>24269                      </td><td>162965.1                   </td></tr>\n",
       "\t<tr><td>Albany-Schenectady-Troy, NY</td><td>3.1321e+10                 </td><td>36836                      </td><td>850282.3                   </td></tr>\n",
       "\t<tr><td>Albuquerque, NM            </td><td>3.0727e+10                 </td><td>37657                      </td><td>815970.5                   </td></tr>\n",
       "\t<tr><td>Alexandria, LA             </td><td>3.8790e+09                 </td><td>25494                      </td><td>152153.4                   </td></tr>\n",
       "</tbody>\n",
       "</table>\n"
      ],
      "text/latex": [
       "\\begin{tabular}{r|llll}\n",
       " city & gmp & pcgmp & pop\\\\\n",
       "\\hline\n",
       "\t Abilene, TX                 & 3.8870e+09                  & 24490                       & 158717.8                   \\\\\n",
       "\t Akron, OH                   & 2.2998e+10                  & 32889                       & 699261.2                   \\\\\n",
       "\t Albany, GA                  & 3.9550e+09                  & 24269                       & 162965.1                   \\\\\n",
       "\t Albany-Schenectady-Troy, NY & 3.1321e+10                  & 36836                       & 850282.3                   \\\\\n",
       "\t Albuquerque, NM             & 3.0727e+10                  & 37657                       & 815970.5                   \\\\\n",
       "\t Alexandria, LA              & 3.8790e+09                  & 25494                       & 152153.4                   \\\\\n",
       "\\end{tabular}\n"
      ],
      "text/markdown": [
       "\n",
       "| city | gmp | pcgmp | pop |\n",
       "|---|---|---|---|\n",
       "| Abilene, TX                 | 3.8870e+09                  | 24490                       | 158717.8                    |\n",
       "| Akron, OH                   | 2.2998e+10                  | 32889                       | 699261.2                    |\n",
       "| Albany, GA                  | 3.9550e+09                  | 24269                       | 162965.1                    |\n",
       "| Albany-Schenectady-Troy, NY | 3.1321e+10                  | 36836                       | 850282.3                    |\n",
       "| Albuquerque, NM             | 3.0727e+10                  | 37657                       | 815970.5                    |\n",
       "| Alexandria, LA              | 3.8790e+09                  | 25494                       | 152153.4                    |\n",
       "\n"
      ],
      "text/plain": [
       "  city                        gmp        pcgmp pop     \n",
       "1 Abilene, TX                 3.8870e+09 24490 158717.8\n",
       "2 Akron, OH                   2.2998e+10 32889 699261.2\n",
       "3 Albany, GA                  3.9550e+09 24269 162965.1\n",
       "4 Albany-Schenectady-Troy, NY 3.1321e+10 36836 850282.3\n",
       "5 Albuquerque, NM             3.0727e+10 37657 815970.5\n",
       "6 Alexandria, LA              3.8790e+09 25494 152153.4"
      ]
     },
     "metadata": {},
     "output_type": "display_data"
    }
   ],
   "source": [
    "gmp$pop <- gmp$gmp / gmp$pcgmp\n",
    "head(gmp)"
   ]
  },
  {
   "cell_type": "code",
   "execution_count": 17,
   "id": "5de26632",
   "metadata": {},
   "outputs": [
    {
     "data": {
      "image/png": "[encoded data removed]",
      "text/plain": [
       "Plot with title \"US Metroplitan Areas, 1996\""
      ]
     },
     "metadata": {},
     "output_type": "display_data"
    }
   ],
   "source": [
    "# Plotting Per-Capita GMP vs. Population\n",
    "\n",
    "# log参数，控制是否对横轴或者纵轴取对数，log = \"x\"表示对x轴取对数，log = \"y\"表示对y轴\n",
    "# 取对数，log = \"xy\" 表示对x轴y轴同时取对数。\n",
    "plot(gmp$pop, gmp$pcgmp, log = \"x\", xlab = \"Population\",\n",
    "     ylab = \"Per-capita Economic Output\", main = \"US Metroplitan Areas, 1996\")\n",
    "\n",
    "# beta_0 = 6611; beta_1 = 1/8\n",
    "# add参数，控制是否在原图上添加曲线，默认为FALSE\n",
    "curve(6611*x^{1/8}, add = TRUE, col = \"blue\")"
   ]
  },
  {
   "cell_type": "markdown",
   "id": "ac6a05c4",
   "metadata": {},
   "source": [
    "## Fitting the Function\n",
    "Want to fit the model:\n",
    "$$\n",
    "Y = 6611X^{\\beta_{1}}+\\epsilon\n",
    "$$\n",
    "\n",
    "We are assuming $\\beta_{0}$= 6611 and trying to estimate $\\beta_{1}$ using the data.\n",
    "\n",
    "By least square estimation process, I conclude the general solution to $\\hat{\\beta_{0}}, \\hat{\\beta_{1}}$:\n",
    "\n",
    "$$\n",
    "\\begin{align}\n",
    "\\frac{\\partial{f(\\beta_{0}, \\beta_{1})}}{\\partial{\\beta_{1}}} = 0 \\Rightarrow \\sum\\limits^{n}_{i=1}x_{i}^{\\beta_{1}}y_{i}\\ln{x_{i}} &= \\beta_{0}\\sum\\limits^{n}_{i=1}x_{i}^{2\\beta_{1}}\\ln{x_{i}}\\\\\n",
    "\\frac{\\partial{f(\\beta_{0}, \\beta_{1})}}{\\partial{\\beta_{0}}} = 0 \\Rightarrow \\sum\\limits^{n}_{i=1}x_{i}^{\\beta_{1}}y_{i} &= \\beta_{0}\\sum\\limits^{n}_{i=1}x_{i}^{2\\beta_{1}}\n",
    "\\end{align}\n",
    "$$\n",
    "\n",
    "Hence, we have:\n",
    "$$\n",
    "\\nabla{f(\\beta_{0}, \\beta_{1})} = \\left(\\sum\\limits^{n}_{i=1}x_{i}^{\\beta_{1}}y_{i} - \\beta_{0}\\sum\\limits^{n}_{i=1}x_{i}^{2\\beta_{1}}, \\sum\\limits^{n}_{i=1}x_{i}^{\\beta_{1}}y_{i}\\ln{x_{i}} - \\beta_{0}\\sum\\limits^{n}_{i=1}x_{i}^{2\\beta_{1}}\\ln{x_{i}}\\right)\n",
    "$$\n",
    "\n",
    "In this case, we assume $\\beta_{0} = 6611$, however, this equation system cannot be solved directly.\n",
    "\n",
    "## Strategy\n",
    "\n",
    "$$\n",
    "\\mathop{min}\\limits_{\\beta}\\sum\\limits^{n}_{i=1}(y_{i}-6611x_{i}^{\\beta})^2\n",
    "$$\n",
    "\n",
    "### Note this is the training mean square error (times n)."
   ]
  },
  {
   "cell_type": "markdown",
   "id": "7c57aa1b",
   "metadata": {},
   "source": [
    "# Optimizing a Function (Numerical Methods for Optimization)\n",
    "\n",
    "## Gradient Descent Method (Steepest Descent Method)\n",
    "Methematically, if we want to move towards the minimum of a function, we need to get the direction with steepest descent, which is the opposite direction of gradient $\\nabla{f}$. This method can take us step by step to the minimum.\n",
    "\n",
    "Let $f: C \\subset \\mathbb{R}_{n} \\rightarrow \\mathbb{R}$ be a real function with continuous derivatives. Denote the gradient:\n",
    "$$\n",
    "\\nabla{f} = (\\frac{\\partial{f}}{\\partial{x_{1}}}, \\frac{\\partial{f}}{\\partial{x_{2}}},..., \\frac{\\partial{f}}{\\partial{x_{n}}})\n",
    "$$\n",
    "\n",
    "In order to approach minimum we have to move towards: $-\\nabla{f(\\mathop{x}\\limits^{\\rightarrow})}$, or simply:\n",
    "\n",
    "$$\n",
    "S_{0}(\\mathop{x}\\limits^{\\rightarrow}) = \\frac{-\\nabla{f}(\\mathop{x}\\limits^{\\rightarrow})}{\\Vert{\\nabla{f}(\\mathop{x}\\limits^{\\rightarrow})\\Vert}}\n",
    "$$\n",
    "\n",
    "where: \n",
    "$$\n",
    "\\Vert{\\nabla{f}(\\mathop{x}\\limits^{\\rightarrow})}\\Vert = \\sqrt{\\left(\\frac{\\partial{f}}{\\partial{x_{1}}}\\right)^{2}+ \\left(\\frac{\\partial{f}}{\\partial{x_{2}}}\\right)^{2}+...+ \\left(\\frac{\\partial{f}}{\\partial{x_{n}}}\\right)^{2}}\n",
    "$$\n",
    "\n",
    "So, let’s start from $\\mathop{x_{0}}\\limits^{\\rightarrow}$, for some $\\gamma > 0$, in the next iteration we update to $\\mathop{x_{1}}\\limits^{\\rightarrow} = \\mathop{x_{0}}\\limits^{\\rightarrow} + \\gamma{S(\\mathop{x_{0}}\\limits^{\\rightarrow})}$. This gives us a point which has moved towards $\\nabla{f}$, therefore it takes $f$ closer to the minimum,\n",
    "$$\n",
    "f(\\mathop{x_{0}}\\limits^{\\rightarrow}) > f(\\mathop{x_{0}}\\limits^{\\rightarrow})\n",
    "$$\n",
    "\n",
    "Let $\\mathop{x_{0}}\\limits^{\\rightarrow}$ be a point close to minimum, $\\mathop{x_{k}}\\limits^{\\rightarrow}$ can be constructed iteratively as\n",
    "follows.\n",
    "\n",
    "## Algorithm for Gradient Descent Method\n",
    "(1) Choose $x_{0} \\in C$. Choose $\\gamma > 0$. Choose a accuracy $\\delta > 0$.\n",
    "\n",
    "(2) Set \n",
    "\n",
    "$$\n",
    "S(\\mathop{x_{i}}\\limits^{\\rightarrow}) = \\frac{-\\nabla{f}(\\mathop{x_{i}}\\limits^{\\rightarrow})}{\\Vert{\\nabla{f}(\\mathop{x_{i}}\\limits^{\\rightarrow})\\Vert}} = \\frac{\\left(\\frac{\\partial{f}}{\\partial{x_{1}}}, \\frac{\\partial{f}}{\\partial{x_{2}}},..., \\frac{\\partial{f}}{\\partial{x_{n}}}\\right)}{\\sqrt{\\left(\\frac{\\partial{f}}{\\partial{x_{1}}}\\right)^{2}+ \\left(\\frac{\\partial{f}}{\\partial{x_{2}}}\\right)^{2}+...+ \\left(\\frac{\\partial{f}}{\\partial{x_{n}}}\\right)^{2}}}\n",
    "$$\n",
    "\n",
    "$$\n",
    "\\mathop{x_{i+1}}\\limits^{\\rightarrow} = \\mathop{x_{i}}\\limits^{\\rightarrow} + \\gamma{S(\\mathop{x_{i}}\\limits^{\\rightarrow})}\n",
    "$$\n",
    "\n",
    "(3) If $\\Vert{\\nabla{f}(\\mathop{x_{i}}\\limits^{\\rightarrow})\\Vert} < \\delta$ (accuracy), then terminate the algorithm, let the approximate solution be $\\mathop{x_{i+1}}\\limits^{\\rightarrow}$.\n",
    "\n",
    "$\\quad$If $\\Vert{\\nabla{f}(\\mathop{x_{i}}\\limits^{\\rightarrow})\\Vert} \\geq \\delta$, then go back to step (2)."
   ]
  },
  {
   "cell_type": "markdown",
   "id": "6fb01e10",
   "metadata": {},
   "source": [
    "Hence, we apply the Gradient Descent method to:\n",
    "\n",
    "$$\n",
    "\\mathop{min}\\limits_{\\beta}: f(\\beta) = \\sum\\limits^{n}_{i=1}(y_{i}-6611x_{i}^{\\beta})^2\n",
    "$$"
   ]
  },
  {
   "cell_type": "code",
   "execution_count": 18,
   "id": "c39d936c",
   "metadata": {
    "scrolled": true
   },
   "outputs": [
    {
     "data": {
      "text/html": [
       "-585054031317.868"
      ],
      "text/latex": [
       "-585054031317.868"
      ],
      "text/markdown": [
       "-585054031317.868"
      ],
      "text/plain": [
       "[1] -5.85054e+11"
      ]
     },
     "metadata": {},
     "output_type": "display_data"
    },
    {
     "data": {
      "text/html": [
       "<ol class=list-inline>\n",
       "\t<li>0.126294430454348</li>\n",
       "\t<li>22639723057.6904</li>\n",
       "</ol>\n"
      ],
      "text/latex": [
       "\\begin{enumerate*}\n",
       "\\item 0.126294430454348\n",
       "\\item 22639723057.6904\n",
       "\\end{enumerate*}\n"
      ],
      "text/markdown": [
       "1. 0.126294430454348\n",
       "2. 22639723057.6904\n",
       "\n",
       "\n"
      ],
      "text/plain": [
       "[1] 1.262944e-01 2.263972e+10"
      ]
     },
     "metadata": {},
     "output_type": "display_data"
    }
   ],
   "source": [
    "accuracy <- 1\n",
    "gamma <- 1e-15\n",
    "beta_i <- 0.1\n",
    "\n",
    "f_beta <- function(beta){\n",
    "    return(sum((gmp$pcgmp - 6611*gmp$pop^beta)^2))\n",
    "}\n",
    "\n",
    "gradient <- function(beta){\n",
    "    return(-13222*sum(log(gmp$pop)*(gmp$pcgmp - 6611*gmp$pop^beta)))\n",
    "}\n",
    "\n",
    "gradient(beta_i)\n",
    "\n",
    "while(abs(gradient(beta_i)) >= accuracy){\n",
    "    beta_i <- beta_i - gamma*gradient(beta_i)\n",
    "}\n",
    "\n",
    "c(beta_i, f_beta(beta_i))"
   ]
  },
  {
   "cell_type": "markdown",
   "id": "ed7bba8f",
   "metadata": {},
   "source": [
    "## Lecture Note: First Attempt"
   ]
  },
  {
   "cell_type": "code",
   "execution_count": 19,
   "id": "b8300aed",
   "metadata": {},
   "outputs": [
    {
     "data": {
      "text/html": [
       "<dl>\n",
       "\t<dt>$beta</dt>\n",
       "\t\t<dd>0.125816577928393</dd>\n",
       "\t<dt>$iteration</dt>\n",
       "\t\t<dd>100</dd>\n",
       "\t<dt>$converged</dt>\n",
       "\t\t<dd>FALSE</dd>\n",
       "</dl>\n"
      ],
      "text/latex": [
       "\\begin{description}\n",
       "\\item[\\$beta] 0.125816577928393\n",
       "\\item[\\$iteration] 100\n",
       "\\item[\\$converged] FALSE\n",
       "\\end{description}\n"
      ],
      "text/markdown": [
       "$beta\n",
       ":   0.125816577928393\n",
       "$iteration\n",
       ":   100\n",
       "$converged\n",
       ":   FALSE\n",
       "\n",
       "\n"
      ],
      "text/plain": [
       "$beta\n",
       "[1] 0.1258166\n",
       "\n",
       "$iteration\n",
       "[1] 100\n",
       "\n",
       "$converged\n",
       "[1] FALSE\n"
      ]
     },
     "metadata": {},
     "output_type": "display_data"
    }
   ],
   "source": [
    "# Parameters\n",
    "max.iter <- 100 # How long we run the alg.\n",
    "stop.deriv <- 1/100 # If derivative is small, stop\n",
    "derivative.step <- 1/1000 # This is h\n",
    "step.scale <- 1e-15 # This is c\n",
    "\n",
    "# Initializations\n",
    "iter <- 0 # Compare to max.iteration\n",
    "deriv <- Inf # Compare to stop.deriv\n",
    "beta <- 0.15\n",
    "\n",
    "max.iter <- 100 # How long we run the alg.\n",
    "stop.deriv <- 1/100 # If derivative is small, stop\n",
    "deriv.step <- 1/1000 # This is h\n",
    "step.scale <- 1e-15 # This is c\n",
    "iter <- 0 # Iteration counter\n",
    "deriv <- Inf\n",
    "beta <- 0.15\n",
    "\n",
    "\n",
    "while((iter < max.iter) & (deriv > stop.deriv)) {\n",
    "    iter <- iter + 1\n",
    "    sse.1 <- sum((gmp$pcgmp - 6611*gmp$pop^beta)^2)\n",
    "    sse.2 <- sum((gmp$pcgmp - 6611*gmp$pop^(beta + deriv.step))^2)\n",
    "    deriv <- (sse.2 - sse.1)/deriv.step\n",
    "    beta <- beta - step.scale*deriv\n",
    "    }\n",
    "\n",
    "list(beta = beta, iteration = iter, converged = (iter < max.iter))"
   ]
  },
  {
   "cell_type": "markdown",
   "id": "01129d58",
   "metadata": {},
   "source": [
    "### What’s Wrong With the Previous Attempt?\n",
    "• Not encapsulated: Re-run by copying and pasting. Note easy to fit into bigger project.\n",
    "\n",
    "• Inflexible: To edit initializations must copy, paste, re-run\n",
    "\n",
    "• Error-prone: If you change the dataset, not sure if it would still work...\n",
    "\n",
    "• Hard to fix: Should stop when absolute value of derivative is small."
   ]
  },
  {
   "cell_type": "markdown",
   "id": "44bb2f2e",
   "metadata": {},
   "source": [
    "## Lecture Note: First Fix"
   ]
  },
  {
   "cell_type": "code",
   "execution_count": 20,
   "id": "bea76dcf",
   "metadata": {},
   "outputs": [],
   "source": [
    "est.scaling.exponent <- function(beta) {\n",
    "    max.iter <- 100 # How long we run the alg.\n",
    "    stop.deriv <- 1/100 # If derivative is small, stop\n",
    "    deriv.step <- 1/1000 # This is h\n",
    "    step.scale <- 1e-15 # This is c\n",
    "    iter <- 0\n",
    "    deriv <- Inf\n",
    "    while((iter < max.iter) & (abs(deriv) > stop.deriv)) {\n",
    "        iter <- iter + 1\n",
    "        sse.1 <- sum((gmp$pcgmp - 6611*gmp$pop^beta)^2)\n",
    "        sse.2 <- sum((gmp$pcgmp\n",
    "        - 6611*gmp$pop^(beta + deriv.step))^2)\n",
    "        deriv <- (sse.2 - sse.1)/deriv.step\n",
    "        beta <- beta - step.scale*deriv\n",
    "    }\n",
    "    fit <- list(beta = beta, iteration = iter,\n",
    "    converged = (iter < max.iter))\n",
    "    return(fit)\n",
    "}"
   ]
  },
  {
   "cell_type": "markdown",
   "id": "c61cf18e",
   "metadata": {},
   "source": [
    "## Lecture Note: Second Fix\n",
    "Problem: Have to rerun if we want to change defined parameters.\n",
    "\n",
    "Solution: Let’s make them arguments (with default values) of the function."
   ]
  },
  {
   "cell_type": "code",
   "execution_count": 21,
   "id": "970b3f40",
   "metadata": {},
   "outputs": [],
   "source": [
    "est.scaling.exponent <- function(beta, beta_0 = 6611,\n",
    "        max.iter = 100, stop.deriv = .01, deriv.step = .001, step.scale = 1e-15) {\n",
    "    iter <- 0\n",
    "    deriv <- Inf\n",
    "    while((iter < max.iter) & (abs(deriv) > stop.deriv)) {\n",
    "        iter <- iter + 1\n",
    "        sse.1 <- sum((gmp$pcgmp - beta_0*gmp$pop^beta)^2)\n",
    "        sse.2 <- sum((gmp$pcgmp\n",
    "        - beta_0*gmp$pop^(beta + deriv.step))^2)\n",
    "        deriv <- (sse.2 - sse.1)/deriv.step\n",
    "        beta <- beta - step.scale*deriv\n",
    "    }\n",
    "    fit <- list(beta = beta, iteration = iter,\n",
    "    converged = (iter < max.iter))\n",
    "    return(fit)\n",
    "}"
   ]
  },
  {
   "cell_type": "markdown",
   "id": "bdd0d131",
   "metadata": {},
   "source": [
    "## Lecture Note: Third Fix\n",
    "Problem: Don’t need to write out the SSE calculations twice in the body of the function.\n",
    "\n",
    "Solution: Write a SSE() function."
   ]
  },
  {
   "cell_type": "code",
   "execution_count": 22,
   "id": "df762d9c",
   "metadata": {},
   "outputs": [],
   "source": [
    "est.scaling.exponent <- function(beta, beta_0 = 6611,\n",
    "        max.iter = 100, stop.deriv = .01, deriv.step = .001, step.scale =1e-15) {\n",
    "    iter <- 0\n",
    "    deriv <- Inf\n",
    "\n",
    "    sse <- function(b) {sum((gmp$pcgmp - beta_0*gmp$pop^b)^2)}\n",
    "\n",
    "    while((iter < max.iter) & (abs(deriv) > stop.deriv)) {\n",
    "        iter <- iter + 1\n",
    "        deriv <- (sse(beta + deriv.step) - sse(beta))/deriv.step\n",
    "        beta <- beta - step.scale*deriv\n",
    "    }\n",
    "    fit <- list(beta = beta, iteration = iter,\n",
    "    converged = (iter < max.iter))\n",
    "    return(fit)\n",
    "}"
   ]
  },
  {
   "cell_type": "markdown",
   "id": "8a8f4f17",
   "metadata": {},
   "source": [
    "## Fourth Fix\n",
    "Problem: Locked into using specific columns of gmp: if we want to use a different data set, have to rewrite the function.\n",
    "\n",
    "Solution: Make them arguments."
   ]
  },
  {
   "cell_type": "code",
   "execution_count": 23,
   "id": "040ec670",
   "metadata": {},
   "outputs": [],
   "source": [
    "est.scaling.exponent <- function(beta, beta_0 = 6611,response = gmp$pcgmp, \n",
    "                    predictor = gmp$pop, max.iter = 100, stop.deriv = .01, \n",
    "                    deriv.step = .001, step.scale =1e-15) {\n",
    "\n",
    "    iter <- 0\n",
    "    deriv <- Inf\n",
    "\n",
    "    sse <- function(b) {sum((response - beta_0*predictor^b)^2)}\n",
    "\n",
    "    while((iter < max.iter) & (abs(deriv) > stop.deriv)){\n",
    "        iter <- iter + 1\n",
    "        deriv <- (sse(beta + deriv.step) - sse(beta))/deriv.step\n",
    "        beta <- beta - step.scale*deriv\n",
    "    }\n",
    "    fit <- list(beta = beta, iteration = iter,\n",
    "    converged = (iter < max.iter))\n",
    "    return(fit)\n",
    "}"
   ]
  },
  {
   "cell_type": "code",
   "execution_count": 24,
   "id": "79870c6b",
   "metadata": {},
   "outputs": [],
   "source": [
    "est.scaling.exponent <- function(beta, beta_0 = 6611,response = gmp$pcgmp,\n",
    "                        predictor = gmp$pop, max.iter = 100, stop.deriv = .01,\n",
    "                        deriv.step = .001, step.scale =1e-15){\n",
    "    iter <- 0\n",
    "    deriv <- Inf\n",
    "\n",
    "    sse <- function(b) {sum((response - beta_0*predictor^b)^2)}\n",
    "\n",
    "    for (i in 1:max.iter) {\n",
    "        iter <- iter + 1\n",
    "        deriv <- (sse(beta + deriv.step) - sse(beta))/deriv.step\n",
    "        beta <- beta - step.scale*deriv\n",
    "        if (abs(deriv) < stop.deriv) {break()}\n",
    "    }\n",
    "    fit <- list(beta = beta, iteration = iter, converged = (iter < max.iter))\n",
    "    return(fit)\n",
    "}"
   ]
  },
  {
   "cell_type": "markdown",
   "id": "122b9382",
   "metadata": {},
   "source": [
    "# Exercise\n",
    "• Run the code with the default values to get an estimate of $\\beta$. Plot the curve with the data points to check out the fit.\n",
    "\n",
    "• Randomly remove one data point – how much does the estimate change?\n",
    "\n",
    "• Exercise: Run the code from different starting points – how much does the estimate change?"
   ]
  },
  {
   "cell_type": "code",
   "execution_count": 25,
   "id": "7c27ddcb",
   "metadata": {},
   "outputs": [],
   "source": [
    "# 略"
   ]
  },
  {
   "cell_type": "markdown",
   "id": "784b68c5",
   "metadata": {},
   "source": [
    "# Assessing Model Accuracy (Optional)\n",
    "\n",
    "Let’s recall the grocery store example from Lecture 2 on multiple linear regression. How do we know if the model we selected is a good fit?\n",
    "\n",
    "### Example\n",
    "A large national grocery retailer tracks productivity and costs of its facilities closely. Consider a data set obtained from a single distribution center for a one-year period. Each data point for each variable represents one week of activity. The variables included are number of cases shipped in thousands ($X_{1}$), the indirect costs of labor as a percentage of total costs ($X_{2}$), a qualitative predictor called holiday that is coded 1 if the week has a holiday and 0 otherwise ($X_{3}$), and total labor hours (Y)."
   ]
  },
  {
   "cell_type": "code",
   "execution_count": 26,
   "id": "f74b5ee6",
   "metadata": {},
   "outputs": [
    {
     "data": {
      "text/html": [
       "<table>\n",
       "<thead><tr><th scope=col>Y</th><th scope=col>X1</th><th scope=col>X2</th><th scope=col>X3</th></tr></thead>\n",
       "<tbody>\n",
       "\t<tr><td>4264   </td><td>305.657</td><td>7.17   </td><td>0      </td></tr>\n",
       "\t<tr><td>4496   </td><td>328.476</td><td>6.20   </td><td>0      </td></tr>\n",
       "\t<tr><td>4317   </td><td>317.164</td><td>4.61   </td><td>0      </td></tr>\n",
       "\t<tr><td>4292   </td><td>366.745</td><td>7.02   </td><td>0      </td></tr>\n",
       "\t<tr><td>4945   </td><td>265.518</td><td>8.61   </td><td>1      </td></tr>\n",
       "\t<tr><td>4325   </td><td>301.995</td><td>6.88   </td><td>0      </td></tr>\n",
       "</tbody>\n",
       "</table>\n"
      ],
      "text/latex": [
       "\\begin{tabular}{r|llll}\n",
       " Y & X1 & X2 & X3\\\\\n",
       "\\hline\n",
       "\t 4264    & 305.657 & 7.17    & 0      \\\\\n",
       "\t 4496    & 328.476 & 6.20    & 0      \\\\\n",
       "\t 4317    & 317.164 & 4.61    & 0      \\\\\n",
       "\t 4292    & 366.745 & 7.02    & 0      \\\\\n",
       "\t 4945    & 265.518 & 8.61    & 1      \\\\\n",
       "\t 4325    & 301.995 & 6.88    & 0      \\\\\n",
       "\\end{tabular}\n"
      ],
      "text/markdown": [
       "\n",
       "| Y | X1 | X2 | X3 |\n",
       "|---|---|---|---|\n",
       "| 4264    | 305.657 | 7.17    | 0       |\n",
       "| 4496    | 328.476 | 6.20    | 0       |\n",
       "| 4317    | 317.164 | 4.61    | 0       |\n",
       "| 4292    | 366.745 | 7.02    | 0       |\n",
       "| 4945    | 265.518 | 8.61    | 1       |\n",
       "| 4325    | 301.995 | 6.88    | 0       |\n",
       "\n"
      ],
      "text/plain": [
       "  Y    X1      X2   X3\n",
       "1 4264 305.657 7.17 0 \n",
       "2 4496 328.476 6.20 0 \n",
       "3 4317 317.164 4.61 0 \n",
       "4 4292 366.745 7.02 0 \n",
       "5 4945 265.518 8.61 1 \n",
       "6 4325 301.995 6.88 0 "
      ]
     },
     "metadata": {},
     "output_type": "display_data"
    },
    {
     "data": {
      "text/plain": [
       "\n",
       "Call:\n",
       "lm(formula = Y ~ X1 + X2 + X3, data = Grocery)\n",
       "\n",
       "Coefficients:\n",
       "(Intercept)           X1           X2           X3  \n",
       "  4149.8872       0.7871     -13.1660     623.5545  \n"
      ]
     },
     "metadata": {},
     "output_type": "display_data"
    }
   ],
   "source": [
    "Grocery <- read.table(\"Kutner_6_9.txt\", header=T)\n",
    "head(Grocery)\n",
    "lm0 <- lm(Y ~ X1 + X2 + X3, data = Grocery)\n",
    "lm0"
   ]
  },
  {
   "cell_type": "markdown",
   "id": "73cc9430",
   "metadata": {},
   "source": [
    "问题：\n",
    "\n",
    "• $X_{1}$的系数几乎为0，这是否依然可以作为模型的predictor？\n",
    "\n",
    "• 假设我们拥有了新的信息，例如weather data，它是否应该被包括在模型中？\n",
    "\n",
    "• 线性回归是否是最适合这组数据的预测模型？"
   ]
  },
  {
   "cell_type": "markdown",
   "id": "ef293019",
   "metadata": {},
   "source": [
    "## Quality of Fit\n",
    "To evaluate the performance of a method on a given data set, we need to measure how well its predictions match the observed data.\n",
    "\n",
    "• Linear regression uses Mean Squared Error (MSE):\n",
    "\n",
    "$$\n",
    "\\frac{1}{n-p}\\sum\\limits^{n}_{i=1}(Y_{i}-\\hat{\\beta}_{0}-\\hat{\\beta}_{1}X_{i1}-...-\\hat{\\beta}_{p}X_{ip})^2\n",
    "$$\n",
    "\n",
    "Called the $\\textbf{training MSE}$ since it's calculated on the training data.\n",
    "\n",
    "• But what we actually want to minimize is the test MSE:\n",
    "\n",
    "$$\n",
    "\\mathbb{E}\\left[(Y_{test}-\\hat{\\beta}_{0}-\\hat{\\beta}_{1}X_{test,1}-...-\\hat{\\beta}_{p}X_{test,p})^{2}\\right]\n",
    "$$\n",
    "\n",
    "Using $\\textbf{test}$ data that was not used to fit the model.\n",
    "\n",
    "We are interested in the accuracy of the predictions that we obtain when we apply our method to previously unseen test data."
   ]
  },
  {
   "cell_type": "markdown",
   "id": "2b316451",
   "metadata": {},
   "source": [
    "## The Test MSE\n",
    "\n",
    "How do we minimize the test MSE?\n",
    "\n",
    "• Sometimes have a test dataset (that wasn't used to train the model.)\n",
    "\n",
    "• What if no test data is available?\n",
    "    \n",
    "    • Idea: Use the model with the lowest training MSE.\n",
    "    • Unfortunately, no guarantee that the method with the lowest training MSE will\n",
    "    also have the lowest test MSE.\n",
    "    \n",
    "• This week we'll learn a strategy for estimating the test MSE when no test data is available: $\\textbf{Cross-validation}$."
   ]
  },
  {
   "cell_type": "markdown",
   "id": "f9cca846",
   "metadata": {},
   "source": [
    "# Classification\n",
    "• We studied linear regression for use when we want to predict a quantitative response variable.\n",
    "\n",
    "• The study of predicting categorical response variables is called classification.\n",
    "\n",
    "## Examples\n",
    "• 一个人的症状反映出他可能患上的三种疾病之一。\n",
    "\n",
    "• 一家银行必须根据用户的IP地址、交易历史等判断一笔线上交易是否是欺诈的。\n",
    "\n",
    "• 生物学家通过使用患病与未患病的人的DNA数据确定致病的DNA突变。\n",
    "\n",
    "## Many Methods of Classification:\n",
    "• Logistic Regression.\n",
    "\n",
    "• Linear Discriminant Analysis.\n",
    "\n",
    "• K Nearest Neighbors.\n",
    "\n",
    "• Trees and Random Forests.\n",
    "\n",
    "• Support Vector Machines\n",
    "\n",
    "## Set-up\n",
    "• Just as in regression, we have a set of training observations (data):\n",
    "$(X_{1}, Y_{1}),(X_{2}, Y_{2}), . . . ,(X_{n}, Y_{n})$, where $Y_{1}, Y_{2},..., Y_{n}$ are categorical.\n",
    "\n",
    "• Use the data to build the classifier.\n",
    "\n",
    "• We want our classifier to perform well not only on the training data, but also on test observations that were not used to build the classifier.\n",
    "\n",
    "## Assessing the Accuracy\n",
    "\n",
    "For linear regression we calculated to training mean squared error ($\\textbf{training MSE}$):\n",
    "\n",
    "$$\n",
    "\\frac{1}{n}\\sum\\limits^{n}_{i=1}(Y_{i}-\\hat{\\beta}_{0}-\\hat{\\beta}_{1}X_{i1}-...-\\hat{\\beta}_{p}X_{ip})^2\n",
    "$$\n",
    "\n",
    "*Here we just use $\\frac{1}{n}$ for simplicity.\n",
    "\n",
    "For Classification, we use the $\\textbf{error rate}$:\n",
    "\n",
    "$$\n",
    "\\frac{1}{n}\\sum\\limits^{n}_{i=1}\\mathbf{I}\\left[Y_{i}\\neq \\hat{Y}_{i}\\right]\n",
    "$$\n",
    "\n",
    "* $\\hat{Y}_{i}$is the predicted classification for the $i^{th}$ observation.\n",
    "* $\\mathbf{I}\\left[Y_{i}\\neq \\hat{Y}_{i}\\right]$ is an indicator variable that equals 1 if $Y_{i}\\neq \\hat{Y}_{i}$, and 0 if $Y_{i} = \\hat{Y}_{i}$.\n",
    "* If $\\mathbf{I}\\left[Y_{i}\\neq \\hat{Y}_{i}\\right] = 0$, then the $i^{th}$ observation was classified correctly.\n",
    "* The $\\textbf{error rate}$ computed the proportion of incorrect classifications.\n",
    "\n",
    "• Similarly to the regression case, the following is referred to as the $\\textbf{training}$ error rate:\n",
    "$$\n",
    "\\frac{1}{n}\\sum\\limits^{n}_{i=1}\\mathbf{I}\\left[Y_{i}\\neq \\hat{Y}_{i}\\right]\n",
    "$$\n",
    "\n",
    "•  The $\\textbf{test}$ error rate associated with a set of test observations $(X_{test}, Y_{test})$ is given by:\n",
    "\n",
    "$$\n",
    "\\mathbb{E}\\left[\\mathbf{I}\\left[Y_{test} \\neq \\hat{Y}_{test}\\right]\\right]\n",
    "$$\n",
    "\n",
    "• A good classifier is one for which the $\\textbf{test error rate is smallest}$."
   ]
  },
  {
   "cell_type": "markdown",
   "id": "bec3b1f3",
   "metadata": {},
   "source": [
    "## Bayes Classifier\n",
    "\n",
    "• The best classifier (in terms of test error) assigns each observation to the most likely class, given its predictor values.\n",
    "\n",
    "• Assign test observation with predictor vector $X_{test}$ to the class j for which:\n",
    "$$\n",
    "\\mathbb{P}\\left(Y=j | X = X_{test}\\right)\n",
    "$$\n",
    "is largest.\n",
    "\n",
    "• There is a conditional probability, recall the Bayes rule that:\n",
    "$$\n",
    "\\mathbb{P}\\left(A|B\\right) = \\frac{\\mathbb{P}\\left(A\\cap B\\right)}{\\mathbb{P}\\left(B\\right)}\n",
    "$$\n",
    "\n",
    "Consider a two-class case, which means that $Y_{test}$ is either in class A or class B, the Bayes classifier predicts:\n",
    "\n",
    "\n",
    "$$ \\left\\{\n",
    "\\begin{aligned}\n",
    "&\\mbox{Class A}\\qquad \\mbox{if }\\mathbb{P}\\left(Y=A|X=X_{test}\\right)\\\\\n",
    "&\\mbox{Class B}\\qquad \\mbox{otherwise}\n",
    "\\end{aligned}\n",
    "\\right.\n",
    "$$"
   ]
  },
  {
   "cell_type": "markdown",
   "id": "b6ed3eb5",
   "metadata": {},
   "source": [
    "## K Nearest Neighbors (KNN)\n",
    "\n",
    "In theory would like to always use the Bayes classifier. In practice, we do not know $\\mathbb{P}\\left(Y|X\\right)$.\n",
    "\n",
    "• Estimates $\\mathbb{P}\\left(Y|X\\right)$ and then classifies observations to the class with highest estimated probability.\n",
    "\n",
    "• Given a positive integer K and a test observation $X_{test}$:\n",
    "\n",
    "* Identify K points in training data closest to $X_{test}$. Label $\\mathcal{N}_{test}$.\n",
    "\n",
    "* Estimate conditional probability for class j as fraction of points in $\\mathcal{Ntest}$ whose response values equal j:\n",
    "\n",
    "$$\n",
    "\\mathbb{P}\\left(Y=j|X=X_{test}\\right) = \\frac{1}{K}\\sum\\limits_{i\\in \\mathcal{N}_{test}}\\mathbf{I}\\left(Y_{i}=j\\right)\n",
    "$$\n",
    "\n",
    "在training dataset中确定一个test observation $X_{test}$，根据$X_{test}$确定距离其最近的K个点，将K个点构成的点集成为$\\mathcal{N}_{test}$。给定test observation为$X_{test}$，分别计算$X_{test}$分别属于类别j的概率，这个概率等于刚刚求得的最近K个点狄拉克函数（是否属于类别j）的平均值，即：$\\frac{1}{K}\\sum\\limits_{i\\in \\mathcal{N}_{test}}\\mathbf{I}\\left(Y_{i}=j\\right)$。\n",
    "\n",
    "• Classify the test observation to class with the largest probability."
   ]
  },
  {
   "cell_type": "markdown",
   "id": "dc1ac902",
   "metadata": {},
   "source": [
    "## Example (Stock Market Movement)\n",
    "Variables\n",
    "\n",
    "* Year: The year that the observation was recorded.\n",
    "* LagX: Percentage return X days ago.\n",
    "* Volume: Volume of shares traded (number of daily shares traded in billions).\n",
    "* Today: Percentage return for today.\n",
    "* Direction: A factor with levels Down and Up indicating whether the market had a positive or negative return on a given day."
   ]
  },
  {
   "cell_type": "code",
   "execution_count": 27,
   "id": "9355e87c",
   "metadata": {},
   "outputs": [
    {
     "data": {
      "text/html": [
       "<table>\n",
       "<thead><tr><th scope=col>Year</th><th scope=col>Lag1</th><th scope=col>Lag2</th><th scope=col>Lag3</th><th scope=col>Lag4</th><th scope=col>Lag5</th><th scope=col>Volume</th><th scope=col>Today</th><th scope=col>Direction</th></tr></thead>\n",
       "<tbody>\n",
       "\t<tr><td>2001  </td><td>0.381 </td><td>-0.192</td><td>-2.624</td><td>-1.055</td><td> 5.010</td><td>1.1913</td><td> 0.959</td><td>Up    </td></tr>\n",
       "\t<tr><td>2001  </td><td>0.959 </td><td> 0.381</td><td>-0.192</td><td>-2.624</td><td>-1.055</td><td>1.2965</td><td> 1.032</td><td>Up    </td></tr>\n",
       "\t<tr><td>2001  </td><td>1.032 </td><td> 0.959</td><td> 0.381</td><td>-0.192</td><td>-2.624</td><td>1.4112</td><td>-0.623</td><td>Down  </td></tr>\n",
       "</tbody>\n",
       "</table>\n"
      ],
      "text/latex": [
       "\\begin{tabular}{r|lllllllll}\n",
       " Year & Lag1 & Lag2 & Lag3 & Lag4 & Lag5 & Volume & Today & Direction\\\\\n",
       "\\hline\n",
       "\t 2001   & 0.381  & -0.192 & -2.624 & -1.055 &  5.010 & 1.1913 &  0.959 & Up    \\\\\n",
       "\t 2001   & 0.959  &  0.381 & -0.192 & -2.624 & -1.055 & 1.2965 &  1.032 & Up    \\\\\n",
       "\t 2001   & 1.032  &  0.959 &  0.381 & -0.192 & -2.624 & 1.4112 & -0.623 & Down  \\\\\n",
       "\\end{tabular}\n"
      ],
      "text/markdown": [
       "\n",
       "| Year | Lag1 | Lag2 | Lag3 | Lag4 | Lag5 | Volume | Today | Direction |\n",
       "|---|---|---|---|---|---|---|---|---|\n",
       "| 2001   | 0.381  | -0.192 | -2.624 | -1.055 |  5.010 | 1.1913 |  0.959 | Up     |\n",
       "| 2001   | 0.959  |  0.381 | -0.192 | -2.624 | -1.055 | 1.2965 |  1.032 | Up     |\n",
       "| 2001   | 1.032  |  0.959 |  0.381 | -0.192 | -2.624 | 1.4112 | -0.623 | Down   |\n",
       "\n"
      ],
      "text/plain": [
       "  Year Lag1  Lag2   Lag3   Lag4   Lag5   Volume Today  Direction\n",
       "1 2001 0.381 -0.192 -2.624 -1.055  5.010 1.1913  0.959 Up       \n",
       "2 2001 0.959  0.381 -0.192 -2.624 -1.055 1.2965  1.032 Up       \n",
       "3 2001 1.032  0.959  0.381 -0.192 -2.624 1.4112 -0.623 Down     "
      ]
     },
     "metadata": {},
     "output_type": "display_data"
    }
   ],
   "source": [
    "library(\"ISLR\")\n",
    "head(Smarket, 3)"
   ]
  },
  {
   "cell_type": "code",
   "execution_count": 28,
   "id": "12ba2a03",
   "metadata": {},
   "outputs": [
    {
     "data": {
      "text/html": [
       "-0.0396913580246914"
      ],
      "text/latex": [
       "-0.0396913580246914"
      ],
      "text/markdown": [
       "-0.0396913580246914"
      ],
      "text/plain": [
       "[1] -0.03969136"
      ]
     },
     "metadata": {},
     "output_type": "display_data"
    },
    {
     "data": {
      "text/html": [
       "0.0506860465116279"
      ],
      "text/latex": [
       "0.0506860465116279"
      ],
      "text/markdown": [
       "0.0506860465116279"
      ],
      "text/plain": [
       "[1] 0.05068605"
      ]
     },
     "metadata": {},
     "output_type": "display_data"
    }
   ],
   "source": [
    "mean(Smarket$Lag1[Smarket$Direction == \"Up\"])\n",
    "mean(Smarket$Lag1[Smarket$Direction == \"Down\"])"
   ]
  },
  {
   "cell_type": "code",
   "execution_count": 29,
   "id": "eaca4f09",
   "metadata": {},
   "outputs": [
    {
     "data": {
      "image/png": "[encoded data removed]",
      "text/plain": [
       "Plot with title \"Today's Direction\""
      ]
     },
     "metadata": {},
     "output_type": "display_data"
    }
   ],
   "source": [
    "plot(Smarket$Lag1, Smarket$Lag2, col=Smarket$Direction, xlab = \"Lag1\", \n",
    "     ylab = \"Lag2\", main = \"Today's Direction\")"
   ]
  },
  {
   "cell_type": "markdown",
   "id": "3680fe92",
   "metadata": {},
   "source": [
    "### Procedure\n",
    "For a new point $\\left(\\mbox{Lag1}_{new}, \\mbox{Lag2}_{new}\\right)$:\n",
    "\n",
    "• Calculate the Euclidean distance between the new point and all data points. For a data point $\\left(\\mbox{L}_{1}, \\mbox{L}_{2}\\right)$:\n",
    "$$\n",
    "\\mbox{dist}^{2} = \\left(\\mbox{Lag1}_{new} − \\mbox{L}_{1}\\right)^{2} + \\left(\\mbox{Lag2}_{new} − \\mbox{L}_{2}\\right)^{2}\n",
    "$$\n",
    "\n",
    "• Create the set $\\mathcal{N}_{new}$ containing the K closest points.\n",
    "\n",
    "• Determine the number of ‘UPs’ and ‘DOWNs’ in $\\mathcal{N}_{new}$ and classify the new point."
   ]
  },
  {
   "cell_type": "code",
   "execution_count": 30,
   "id": "04d6f6ba",
   "metadata": {},
   "outputs": [
    {
     "data": {
      "text/html": [
       "'Down'"
      ],
      "text/latex": [
       "'Down'"
      ],
      "text/markdown": [
       "'Down'"
      ],
      "text/plain": [
       "[1] \"Down\""
      ]
     },
     "metadata": {},
     "output_type": "display_data"
    }
   ],
   "source": [
    "K <- 5\n",
    "Lag1.new <- 2\n",
    "Lag2.new <- 4.25\n",
    "# K = 5 and new point (2, 4.25).\n",
    "\n",
    "dists <- sqrt((Smarket$Lag1 - Lag1.new)^2 + (Smarket$Lag2 - Lag2.new)^2)\n",
    "neighbors <- order(dists)[1:K] # order()函数进行升序排序并返回序号\n",
    "neighb.dir <- Smarket$Direction[neighbors]\n",
    "choice <- names(which.max(table(neighb.dir)))\n",
    "choice"
   ]
  },
  {
   "cell_type": "markdown",
   "id": "833995c6",
   "metadata": {},
   "source": [
    "### Task\n",
    "Write a function called KNN.decision that returns the class decision for any new point $\\left(\\mbox{Lag1}_{new}, \\mbox{Lag2}_{new}\\right)$ and any choice of K (with K = 5) as default."
   ]
  },
  {
   "cell_type": "code",
   "execution_count": 31,
   "id": "19aa0d01",
   "metadata": {
    "scrolled": true
   },
   "outputs": [],
   "source": [
    "KNN.decision <- function(Lag1.new, Lag2.new, K = 5, Lag1 = Smarket$Lag1, \n",
    "                         Lag2 = Smarket$Lag2){\n",
    "    n <- length(Lag1)\n",
    "    stopifnot(length(Lag2) == n, length(Lag1.new) == 1, \n",
    "              length(Lag2.new) == 1, K <= n)\n",
    "    dists = (Lag1-Lag1.new)^2 + (Lag2-Lag2.new)^2\n",
    "    neighbors = order(dists)[1:K]\n",
    "    neighbors.dir = Smarket$Direction[neighbors]\n",
    "    return(names(which.max(table(neighbors.dir))))\n",
    "}"
   ]
  },
  {
   "cell_type": "markdown",
   "id": "f276f679",
   "metadata": {},
   "source": [
    "### Testing Our Model\n",
    "\n",
    "Let’s build our model using data from 2001 - 2004 and use the 2005 data as a test. Can we predict market direction better than a random guess?"
   ]
  },
  {
   "cell_type": "code",
   "execution_count": 32,
   "id": "c2afdb79",
   "metadata": {},
   "outputs": [
    {
     "data": {
      "text/html": [
       "0.515873015873016"
      ],
      "text/latex": [
       "0.515873015873016"
      ],
      "text/markdown": [
       "0.515873015873016"
      ],
      "text/plain": [
       "[1] 0.515873"
      ]
     },
     "metadata": {},
     "output_type": "display_data"
    }
   ],
   "source": [
    "train <- Smarket[Smarket$Year != 2005,]\n",
    "test <- Smarket[Smarket$Year == 2005,]\n",
    "\n",
    "predict <- rep(NULL, dim(test)[1])\n",
    "for(i in 1:dim(test)[1]){\n",
    "    predict[i] <- KNN.decision(Lag1.new = test$Lag1[i], Lag2.new = test$Lag2[i],\n",
    "                                K = 5, Lag1 = train$Lag1, Lag2 = train$Lag2)\n",
    "}\n",
    "\n",
    "test.error <- sum(test$Direction != predict)/length(predict)\n",
    "test.error"
   ]
  },
  {
   "cell_type": "code",
   "execution_count": 33,
   "id": "0e33c0f9",
   "metadata": {},
   "outputs": [
    {
     "data": {
      "text/html": [
       "0.535714285714286"
      ],
      "text/latex": [
       "0.535714285714286"
      ],
      "text/markdown": [
       "0.535714285714286"
      ],
      "text/plain": [
       "[1] 0.5357143"
      ]
     },
     "metadata": {},
     "output_type": "display_data"
    }
   ],
   "source": [
    "# Use different value of K and see if we can get better predictions than random guesses.\n",
    "\n",
    "train <- Smarket[Smarket$Year != 2005,]\n",
    "test <- Smarket[Smarket$Year == 2005,]\n",
    "\n",
    "predict <- rep(NULL, dim(test)[1])\n",
    "for(i in 1:dim(test)[1]){\n",
    "    predict[i] <- KNN.decision(Lag1.new = test$Lag1[i], Lag2.new = test$Lag2[i],\n",
    "                                K = 7, Lag1 = train$Lag1, Lag2 = train$Lag2)\n",
    "}\n",
    "\n",
    "test.error <- sum(test$Direction != predict)/length(predict)\n",
    "test.error"
   ]
  },
  {
   "cell_type": "markdown",
   "id": "970726a5",
   "metadata": {},
   "source": [
    "可以发现K的值会影响test.error，因此通过多个K值，可以画出K值-test.error关系图："
   ]
  },
  {
   "cell_type": "code",
   "execution_count": 34,
   "id": "eefe6d84",
   "metadata": {},
   "outputs": [],
   "source": [
    "iter <- function(start=1, end=100){\n",
    "    K <- start:end\n",
    "    test.error <- rep(NULL, length(K))\n",
    "    for(i in K){\n",
    "        predict.set <- rep(NULL, dim(test)[1])\n",
    "        for(j in 1:dim(test)[1]){\n",
    "            predict.set[j] <- KNN.decision(Lag1.new = test$Lag1[j], \n",
    "                        Lag2.new = test$Lag2[j],K = i, Lag1 = train$Lag1, \n",
    "                        Lag2 = train$Lag2)\n",
    "        }\n",
    "        test.error[i] <- sum(test$Direction != predict.set)/length(predict)\n",
    "    }\n",
    "    return(test.error)\n",
    "}"
   ]
  },
  {
   "cell_type": "code",
   "execution_count": 35,
   "id": "e132e496",
   "metadata": {},
   "outputs": [
    {
     "data": {
      "image/png": "[encoded data removed]",
      "text/plain": [
       "Plot with title \"Predicting Market Direction\""
      ]
     },
     "metadata": {},
     "output_type": "display_data"
    }
   ],
   "source": [
    "test.error.set1 <- iter(start = 1, end = 800)\n",
    "plot(1:800, test.error.set1, type = \"o\", xlab = \"value of K\", \n",
    "     ylab = \"test.error\", main = \"Predicting Market Direction\")\n",
    "lines(lowess(1:800, test.error.set1), col = \"red\")"
   ]
  },
  {
   "cell_type": "code",
   "execution_count": null,
   "id": "8ffb0f3d",
   "metadata": {},
   "outputs": [],
   "source": []
  }
 ],
 "metadata": {
  "kernelspec": {
   "display_name": "R",
   "language": "R",
   "name": "ir"
  },
  "language_info": {
   "codemirror_mode": "r",
   "file_extension": ".r",
   "mimetype": "text/x-r-source",
   "name": "R",
   "pygments_lexer": "r",
   "version": "4.1.2"
  },
  "toc": {
   "base_numbering": 1,
   "nav_menu": {},
   "number_sections": false,
   "sideBar": true,
   "skip_h1_title": false,
   "title_cell": "Table of Contents",
   "title_sidebar": "Contents",
   "toc_cell": false,
   "toc_position": {},
   "toc_section_display": true,
   "toc_window_display": false
  },
  "varInspector": {
   "cols": {
    "lenName": 16,
    "lenType": 16,
    "lenVar": 40
   },
   "kernels_config": {
    "python": {
     "delete_cmd_postfix": "",
     "delete_cmd_prefix": "del ",
     "library": "var_list.py",
     "varRefreshCmd": "print(var_dic_list())"
    },
    "r": {
     "delete_cmd_postfix": ") ",
     "delete_cmd_prefix": "rm(",
     "library": "var_list.r",
     "varRefreshCmd": "cat(var_dic_list()) "
    }
   },
   "types_to_exclude": [
    "module",
    "function",
    "builtin_function_or_method",
    "instance",
    "_Feature"
   ],
   "window_display": false
  }
 },
 "nbformat": 4,
 "nbformat_minor": 5
}
