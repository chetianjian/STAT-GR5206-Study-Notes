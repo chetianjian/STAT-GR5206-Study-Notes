{
 "cells": [
  {
   "cell_type": "markdown",
   "id": "274f1c7e",
   "metadata": {},
   "source": [
    "# Lecture 10 (Topics)\n",
    "• Random Number Generation. Random numbers in R and the linear congruential generator.\n",
    "\n",
    "• Simulation. \n",
    "\n",
    "• Simulating random variables using R base functions.\n",
    "\n",
    "• The sample() function to simulate discrete random variables.\n",
    "\n",
    "• Inverse transforms and the acceptance-rejection algorithm.\n",
    "\n",
    "• Monte Carlo Integration. How to use simulation to approximate integrals"
   ]
  },
  {
   "cell_type": "markdown",
   "id": "112b82f4",
   "metadata": {},
   "source": [
    "# Section 1: Random Number Generation\n",
    "\n",
    "R实际上不产生真随机数，而是生成伪随机数，它与真随机数无法被区别。\n",
    "\n",
    "随机数生成(Pseudorandom generators)： 产生一个确定性序列，我们不知道它是如何开始的，它与真实的随机序列是无法区分的。"
   ]
  },
  {
   "cell_type": "code",
   "execution_count": 1,
   "id": "fc35c095",
   "metadata": {},
   "outputs": [
    {
     "data": {
      "text/html": [
       "<ol class=list-inline>\n",
       "\t<li>0.896669501205906</li>\n",
       "\t<li>0.404507972998545</li>\n",
       "\t<li>0.774734755046666</li>\n",
       "\t<li>0.877396109746769</li>\n",
       "\t<li>0.631001065485179</li>\n",
       "\t<li>0.979827044531703</li>\n",
       "\t<li>0.732688561081886</li>\n",
       "\t<li>0.433536635478958</li>\n",
       "\t<li>0.499816977418959</li>\n",
       "\t<li>0.768104803981259</li>\n",
       "</ol>\n"
      ],
      "text/latex": [
       "\\begin{enumerate*}\n",
       "\\item 0.896669501205906\n",
       "\\item 0.404507972998545\n",
       "\\item 0.774734755046666\n",
       "\\item 0.877396109746769\n",
       "\\item 0.631001065485179\n",
       "\\item 0.979827044531703\n",
       "\\item 0.732688561081886\n",
       "\\item 0.433536635478958\n",
       "\\item 0.499816977418959\n",
       "\\item 0.768104803981259\n",
       "\\end{enumerate*}\n"
      ],
      "text/markdown": [
       "1. 0.896669501205906\n",
       "2. 0.404507972998545\n",
       "3. 0.774734755046666\n",
       "4. 0.877396109746769\n",
       "5. 0.631001065485179\n",
       "6. 0.979827044531703\n",
       "7. 0.732688561081886\n",
       "8. 0.433536635478958\n",
       "9. 0.499816977418959\n",
       "10. 0.768104803981259\n",
       "\n",
       "\n"
      ],
      "text/plain": [
       " [1] 0.8966695 0.4045080 0.7747348 0.8773961 0.6310011 0.9798270 0.7326886\n",
       " [8] 0.4335366 0.4998170 0.7681048"
      ]
     },
     "metadata": {},
     "output_type": "display_data"
    }
   ],
   "source": [
    "# 在R中有许多生成随机数的方法，下面我们生成10个来自均匀分布的随机数：\n",
    "runif(10)"
   ]
  },
  {
   "cell_type": "code",
   "execution_count": 5,
   "id": "dfcaf68a",
   "metadata": {},
   "outputs": [
    {
     "data": {
      "text/html": [
       "<ol class=list-inline>\n",
       "\t<li>0.507478203158826</li>\n",
       "\t<li>0.306768506066874</li>\n",
       "\t<li>0.426907666493207</li>\n",
       "\t<li>0.693102080840617</li>\n",
       "\t<li>0.0851359688676894</li>\n",
       "\t<li>0.225436616456136</li>\n",
       "\t<li>0.274530522990972</li>\n",
       "\t<li>0.272305066231638</li>\n",
       "\t<li>0.615829307818785</li>\n",
       "\t<li>0.429671525489539</li>\n",
       "</ol>\n"
      ],
      "text/latex": [
       "\\begin{enumerate*}\n",
       "\\item 0.507478203158826\n",
       "\\item 0.306768506066874\n",
       "\\item 0.426907666493207\n",
       "\\item 0.693102080840617\n",
       "\\item 0.0851359688676894\n",
       "\\item 0.225436616456136\n",
       "\\item 0.274530522990972\n",
       "\\item 0.272305066231638\n",
       "\\item 0.615829307818785\n",
       "\\item 0.429671525489539\n",
       "\\end{enumerate*}\n"
      ],
      "text/markdown": [
       "1. 0.507478203158826\n",
       "2. 0.306768506066874\n",
       "3. 0.426907666493207\n",
       "4. 0.693102080840617\n",
       "5. 0.0851359688676894\n",
       "6. 0.225436616456136\n",
       "7. 0.274530522990972\n",
       "8. 0.272305066231638\n",
       "9. 0.615829307818785\n",
       "10. 0.429671525489539\n",
       "\n",
       "\n"
      ],
      "text/plain": [
       " [1] 0.50747820 0.30676851 0.42690767 0.69310208 0.08513597 0.22543662\n",
       " [7] 0.27453052 0.27230507 0.61582931 0.42967153"
      ]
     },
     "metadata": {},
     "output_type": "display_data"
    },
    {
     "data": {
      "text/html": [
       "<ol class=list-inline>\n",
       "\t<li>0.507478203158826</li>\n",
       "\t<li>0.306768506066874</li>\n",
       "\t<li>0.426907666493207</li>\n",
       "\t<li>0.693102080840617</li>\n",
       "\t<li>0.0851359688676894</li>\n",
       "\t<li>0.225436616456136</li>\n",
       "\t<li>0.274530522990972</li>\n",
       "\t<li>0.272305066231638</li>\n",
       "\t<li>0.615829307818785</li>\n",
       "\t<li>0.429671525489539</li>\n",
       "</ol>\n"
      ],
      "text/latex": [
       "\\begin{enumerate*}\n",
       "\\item 0.507478203158826\n",
       "\\item 0.306768506066874\n",
       "\\item 0.426907666493207\n",
       "\\item 0.693102080840617\n",
       "\\item 0.0851359688676894\n",
       "\\item 0.225436616456136\n",
       "\\item 0.274530522990972\n",
       "\\item 0.272305066231638\n",
       "\\item 0.615829307818785\n",
       "\\item 0.429671525489539\n",
       "\\end{enumerate*}\n"
      ],
      "text/markdown": [
       "1. 0.507478203158826\n",
       "2. 0.306768506066874\n",
       "3. 0.426907666493207\n",
       "4. 0.693102080840617\n",
       "5. 0.0851359688676894\n",
       "6. 0.225436616456136\n",
       "7. 0.274530522990972\n",
       "8. 0.272305066231638\n",
       "9. 0.615829307818785\n",
       "10. 0.429671525489539\n",
       "\n",
       "\n"
      ],
      "text/plain": [
       " [1] 0.50747820 0.30676851 0.42690767 0.69310208 0.08513597 0.22543662\n",
       " [7] 0.27453052 0.27230507 0.61582931 0.42967153"
      ]
     },
     "metadata": {},
     "output_type": "display_data"
    }
   ],
   "source": [
    "# 为了生成相同的随机数，使用函数set.seed()\n",
    "set.seed(10)\n",
    "runif(10)\n",
    "\n",
    "set.seed(10)\n",
    "runif(10)"
   ]
  },
  {
   "cell_type": "markdown",
   "id": "faaafef7",
   "metadata": {},
   "source": [
    "# Linear Congruential Generator (LCG)\n",
    "# 线性同余发生器\n",
    "\n",
    "线性同余发生器是一个根据以下递归关系产生伪随机数序列的算法：\n",
    "$$\n",
    "X_{n} = (aX_{n-1}+c)\\;mod\\;m\n",
    "$$\n",
    "\n",
    "从[0,1]中模拟：\n",
    "* 第一个数字是从seed中生成的，然后用它来生成第二个数字，以此类推。\n",
    "\n",
    "* 取值总在0到m之间，每取m个值，序列便重启。\n",
    "\n",
    "* 用它除以m则会给到分布在0到1之间的随机数（但很难取到1）\n",
    "\n",
    "* LCG算法使得我们能够从单位区间内模拟伪随机数的生成。"
   ]
  },
  {
   "cell_type": "code",
   "execution_count": 9,
   "id": "dbdf4eb2",
   "metadata": {},
   "outputs": [
    {
     "data": {
      "text/html": [
       "<ol class=list-inline>\n",
       "\t<li>14</li>\n",
       "\t<li>2</li>\n",
       "\t<li>6</li>\n",
       "\t<li>10</li>\n",
       "\t<li>14</li>\n",
       "\t<li>2</li>\n",
       "\t<li>6</li>\n",
       "\t<li>10</li>\n",
       "\t<li>14</li>\n",
       "\t<li>2</li>\n",
       "\t<li>6</li>\n",
       "\t<li>10</li>\n",
       "\t<li>14</li>\n",
       "\t<li>2</li>\n",
       "\t<li>6</li>\n",
       "\t<li>10</li>\n",
       "\t<li>14</li>\n",
       "\t<li>2</li>\n",
       "\t<li>6</li>\n",
       "\t<li>10</li>\n",
       "</ol>\n"
      ],
      "text/latex": [
       "\\begin{enumerate*}\n",
       "\\item 14\n",
       "\\item 2\n",
       "\\item 6\n",
       "\\item 10\n",
       "\\item 14\n",
       "\\item 2\n",
       "\\item 6\n",
       "\\item 10\n",
       "\\item 14\n",
       "\\item 2\n",
       "\\item 6\n",
       "\\item 10\n",
       "\\item 14\n",
       "\\item 2\n",
       "\\item 6\n",
       "\\item 10\n",
       "\\item 14\n",
       "\\item 2\n",
       "\\item 6\n",
       "\\item 10\n",
       "\\end{enumerate*}\n"
      ],
      "text/markdown": [
       "1. 14\n",
       "2. 2\n",
       "3. 6\n",
       "4. 10\n",
       "5. 14\n",
       "6. 2\n",
       "7. 6\n",
       "8. 10\n",
       "9. 14\n",
       "10. 2\n",
       "11. 6\n",
       "12. 10\n",
       "13. 14\n",
       "14. 2\n",
       "15. 6\n",
       "16. 10\n",
       "17. 14\n",
       "18. 2\n",
       "19. 6\n",
       "20. 10\n",
       "\n",
       "\n"
      ],
      "text/plain": [
       " [1] 14  2  6 10 14  2  6 10 14  2  6 10 14  2  6 10 14  2  6 10"
      ]
     },
     "metadata": {},
     "output_type": "display_data"
    }
   ],
   "source": [
    "# 简单的代码例子\n",
    "seed <- 10\n",
    "new.random <- function(a = 5, c = 12, m = 16){\n",
    "    out <- (a*seed + c) %% m  # %% 是取余数的符号\n",
    "    seed <<- out # <<-x相当于Python中的global\n",
    "    return(out)\n",
    "}\n",
    "\n",
    "# 尝试：\n",
    "out.length <- 20\n",
    "variants <- rep(NA, out.length)\n",
    "for(i in 1:out.length){\n",
    "    variants[i] <- new.random()}\n",
    "variants\n",
    "\n",
    "# 线性同余发生器（LGC）将整数0,1,...,m洗牌并重新排列，但这个生成器只能给出4个整数的随机。"
   ]
  },
  {
   "cell_type": "code",
   "execution_count": 10,
   "id": "f4bfa029",
   "metadata": {},
   "outputs": [
    {
     "data": {
      "text/html": [
       "<ol class=list-inline>\n",
       "\t<li>5</li>\n",
       "\t<li>6</li>\n",
       "\t<li>9</li>\n",
       "\t<li>2</li>\n",
       "\t<li>13</li>\n",
       "\t<li>14</li>\n",
       "\t<li>1</li>\n",
       "\t<li>10</li>\n",
       "\t<li>5</li>\n",
       "\t<li>6</li>\n",
       "\t<li>9</li>\n",
       "\t<li>2</li>\n",
       "\t<li>13</li>\n",
       "\t<li>14</li>\n",
       "\t<li>1</li>\n",
       "\t<li>10</li>\n",
       "\t<li>5</li>\n",
       "\t<li>6</li>\n",
       "\t<li>9</li>\n",
       "\t<li>2</li>\n",
       "</ol>\n"
      ],
      "text/latex": [
       "\\begin{enumerate*}\n",
       "\\item 5\n",
       "\\item 6\n",
       "\\item 9\n",
       "\\item 2\n",
       "\\item 13\n",
       "\\item 14\n",
       "\\item 1\n",
       "\\item 10\n",
       "\\item 5\n",
       "\\item 6\n",
       "\\item 9\n",
       "\\item 2\n",
       "\\item 13\n",
       "\\item 14\n",
       "\\item 1\n",
       "\\item 10\n",
       "\\item 5\n",
       "\\item 6\n",
       "\\item 9\n",
       "\\item 2\n",
       "\\end{enumerate*}\n"
      ],
      "text/markdown": [
       "1. 5\n",
       "2. 6\n",
       "3. 9\n",
       "4. 2\n",
       "5. 13\n",
       "6. 14\n",
       "7. 1\n",
       "8. 10\n",
       "9. 5\n",
       "10. 6\n",
       "11. 9\n",
       "12. 2\n",
       "13. 13\n",
       "14. 14\n",
       "15. 1\n",
       "16. 10\n",
       "17. 5\n",
       "18. 6\n",
       "19. 9\n",
       "20. 2\n",
       "\n",
       "\n"
      ],
      "text/plain": [
       " [1]  5  6  9  2 13 14  1 10  5  6  9  2 13 14  1 10  5  6  9  2"
      ]
     },
     "metadata": {},
     "output_type": "display_data"
    }
   ],
   "source": [
    "# 使用不同的参数，通过令c和m互质（只有公约数1），使得效果变好。\n",
    "out.length <- 20\n",
    "variants <- rep(NA, out.length)\n",
    "for(i in 1:out.length){\n",
    "    variants[i] <- new.random(a = 131, c = 7, m = 16)\n",
    "}\n",
    "variants"
   ]
  },
  {
   "cell_type": "code",
   "execution_count": 15,
   "id": "ef9e9d5e",
   "metadata": {},
   "outputs": [
    {
     "data": {
      "text/html": [
       "<ol class=list-inline>\n",
       "\t<li>9</li>\n",
       "\t<li>0</li>\n",
       "\t<li>7</li>\n",
       "\t<li>14</li>\n",
       "\t<li>5</li>\n",
       "\t<li>12</li>\n",
       "\t<li>3</li>\n",
       "\t<li>10</li>\n",
       "\t<li>1</li>\n",
       "\t<li>8</li>\n",
       "\t<li>15</li>\n",
       "\t<li>6</li>\n",
       "\t<li>13</li>\n",
       "\t<li>4</li>\n",
       "\t<li>11</li>\n",
       "\t<li>2</li>\n",
       "\t<li>9</li>\n",
       "\t<li>0</li>\n",
       "\t<li>7</li>\n",
       "\t<li>14</li>\n",
       "</ol>\n"
      ],
      "text/latex": [
       "\\begin{enumerate*}\n",
       "\\item 9\n",
       "\\item 0\n",
       "\\item 7\n",
       "\\item 14\n",
       "\\item 5\n",
       "\\item 12\n",
       "\\item 3\n",
       "\\item 10\n",
       "\\item 1\n",
       "\\item 8\n",
       "\\item 15\n",
       "\\item 6\n",
       "\\item 13\n",
       "\\item 4\n",
       "\\item 11\n",
       "\\item 2\n",
       "\\item 9\n",
       "\\item 0\n",
       "\\item 7\n",
       "\\item 14\n",
       "\\end{enumerate*}\n"
      ],
      "text/markdown": [
       "1. 9\n",
       "2. 0\n",
       "3. 7\n",
       "4. 14\n",
       "5. 5\n",
       "6. 12\n",
       "7. 3\n",
       "8. 10\n",
       "9. 1\n",
       "10. 8\n",
       "11. 15\n",
       "12. 6\n",
       "13. 13\n",
       "14. 4\n",
       "15. 11\n",
       "16. 2\n",
       "17. 9\n",
       "18. 0\n",
       "19. 7\n",
       "20. 14\n",
       "\n",
       "\n"
      ],
      "text/plain": [
       " [1]  9  0  7 14  5 12  3 10  1  8 15  6 13  4 11  2  9  0  7 14"
      ]
     },
     "metadata": {},
     "output_type": "display_data"
    }
   ],
   "source": [
    "# 另一种尝试\n",
    "out.length <- 20\n",
    "variants <- rep(NA, out.length)\n",
    "for(i in 1:out.length){\n",
    "    variants[i] <- new.random(a = 129, c = 7, m = 16)\n",
    "}\n",
    "variants"
   ]
  },
  {
   "cell_type": "code",
   "execution_count": 13,
   "id": "d8bd3810",
   "metadata": {},
   "outputs": [
    {
     "data": {
      "text/html": [
       "<ol class=list-inline>\n",
       "\t<li>0.439227661350742</li>\n",
       "\t<li>0.44363104365766</li>\n",
       "\t<li>0.071633113315329</li>\n",
       "\t<li>0.77667143708095</li>\n",
       "\t<li>0.793303882004693</li>\n",
       "\t<li>0.246339474804699</li>\n",
       "\t<li>0.377156761242077</li>\n",
       "\t<li>0.637209665495902</li>\n",
       "\t<li>0.398720849538222</li>\n",
       "\t<li>0.0325625725090504</li>\n",
       "\t<li>0.103325050091371</li>\n",
       "\t<li>0.431572313886136</li>\n",
       "\t<li>0.773285570787266</li>\n",
       "\t<li>0.866494062356651</li>\n",
       "\t<li>0.595093424199149</li>\n",
       "\t<li>0.0198515453375876</li>\n",
       "\t<li>0.0266019275877625</li>\n",
       "\t<li>0.341624544933438</li>\n",
       "\t<li>0.664214202901348</li>\n",
       "\t<li>0.666436397936195</li>\n",
       "</ol>\n"
      ],
      "text/latex": [
       "\\begin{enumerate*}\n",
       "\\item 0.439227661350742\n",
       "\\item 0.44363104365766\n",
       "\\item 0.071633113315329\n",
       "\\item 0.77667143708095\n",
       "\\item 0.793303882004693\n",
       "\\item 0.246339474804699\n",
       "\\item 0.377156761242077\n",
       "\\item 0.637209665495902\n",
       "\\item 0.398720849538222\n",
       "\\item 0.0325625725090504\n",
       "\\item 0.103325050091371\n",
       "\\item 0.431572313886136\n",
       "\\item 0.773285570787266\n",
       "\\item 0.866494062356651\n",
       "\\item 0.595093424199149\n",
       "\\item 0.0198515453375876\n",
       "\\item 0.0266019275877625\n",
       "\\item 0.341624544933438\n",
       "\\item 0.664214202901348\n",
       "\\item 0.666436397936195\n",
       "\\end{enumerate*}\n"
      ],
      "text/markdown": [
       "1. 0.439227661350742\n",
       "2. 0.44363104365766\n",
       "3. 0.071633113315329\n",
       "4. 0.77667143708095\n",
       "5. 0.793303882004693\n",
       "6. 0.246339474804699\n",
       "7. 0.377156761242077\n",
       "8. 0.637209665495902\n",
       "9. 0.398720849538222\n",
       "10. 0.0325625725090504\n",
       "11. 0.103325050091371\n",
       "12. 0.431572313886136\n",
       "13. 0.773285570787266\n",
       "14. 0.866494062356651\n",
       "15. 0.595093424199149\n",
       "16. 0.0198515453375876\n",
       "17. 0.0266019275877625\n",
       "18. 0.341624544933438\n",
       "19. 0.664214202901348\n",
       "20. 0.666436397936195\n",
       "\n",
       "\n"
      ],
      "text/plain": [
       " [1] 0.43922766 0.44363104 0.07163311 0.77667144 0.79330388 0.24633947\n",
       " [7] 0.37715676 0.63720967 0.39872085 0.03256257 0.10332505 0.43157231\n",
       "[13] 0.77328557 0.86649406 0.59509342 0.01985155 0.02660193 0.34162454\n",
       "[19] 0.66421420 0.66643640"
      ]
     },
     "metadata": {},
     "output_type": "display_data"
    }
   ],
   "source": [
    "# 我们实际上用的：\n",
    "\n",
    "out.length <- 20\n",
    "variants <- rep(NA, out.length)\n",
    "for(i in 1:out.length){\n",
    "    variants[i] <- new.random(a=1664545, c=1013904223,m=2^32)\n",
    "}\n",
    "variants/2^(32)"
   ]
  },
  {
   "cell_type": "markdown",
   "id": "2ab49724",
   "metadata": {},
   "source": [
    "# Simulating Random Variables\n",
    "\n",
    "如果我们可以模拟在[0,1]上随机变量，那么我们实际上可以模拟任何随机变量。\n",
    "\n",
    "## 模拟\n",
    "\n",
    "一个随机模型可以给定某个具体随机变量Y的分布。它可能是复杂的、多元的，同时也具有许多独立项。我们关注Simulation是为了理解、检验、拟合模型。\n",
    "\n",
    "### 理解模型:\n",
    "• 模拟模型的结果，模拟模型的精确度。\n",
    "\n",
    "• 模拟一个假设检验过程在原假设和备择假设下是如果表现的。过去的经验是否符合新的理论？\n",
    "\n",
    "• 模拟样本分布和估计的变动幅度，假设模型是parametric，或者使用non-parametric的方法（例如bootstrap和permutation test）\n",
    "\n",
    "## 检验模型:\n",
    "• Cross-Validation.\n",
    "\n",
    "• 从一个随机模型中模拟的数据需要看起来像真实数据。\n",
    "\n",
    "## 拟合模型:\n",
    "• Markov Chain Monte Carlo Methods (MCMC)."
   ]
  },
  {
   "cell_type": "markdown",
   "id": "768fa84a",
   "metadata": {},
   "source": [
    "## Simulating from Probability Distributions\n",
    "### 我们如何从概率分布中模拟？\n",
    "\n",
    "• 常见的分布：使用内置的R函数(normal, gamma,\n",
    "Poisson, binomial, etc..).\n",
    "\n",
    "• 不常见的分布: 需要使用模拟。\n",
    "\n",
    "• 离散随机变量: 通常使用sample()\n",
    "\n",
    "• 连续随机变量：当CDF拥有反函数，可以使用Inverse Transform Method，或者acceptance-rejection method。\n",
    "\n",
    "\n",
    "对于常见的随机变量，R有许多内置函数可以用作模拟。这些函数使得我们可以画出pdf，计算概率，计算分位数，从分布中模拟随机数。\n",
    "\n",
    "\n",
    "### R Commands for Distributions\n",
    "\n",
    "• dfoo 是foo的pdf或pmf\n",
    "\n",
    "• pfoo 是foo的cdf\n",
    "\n",
    "• qfoo 是foo的分位数函数（也是cdf的反函数）\n",
    "\n",
    "• rfoo 从foo中生成随机数\n"
   ]
  },
  {
   "cell_type": "code",
   "execution_count": 20,
   "id": "586d2948",
   "metadata": {},
   "outputs": [
    {
     "data": {
      "text/html": [
       "0.398942280401433"
      ],
      "text/latex": [
       "0.398942280401433"
      ],
      "text/markdown": [
       "0.398942280401433"
      ],
      "text/plain": [
       "[1] 0.3989423"
      ]
     },
     "metadata": {},
     "output_type": "display_data"
    },
    {
     "data": {
      "text/html": [
       "0.398942280401433"
      ],
      "text/latex": [
       "0.398942280401433"
      ],
      "text/markdown": [
       "0.398942280401433"
      ],
      "text/plain": [
       "[1] 0.3989423"
      ]
     },
     "metadata": {},
     "output_type": "display_data"
    },
    {
     "data": {
      "image/png": "[encoded data removed]",
      "text/plain": [
       "Plot with title \"Standard Normal Density\""
      ]
     },
     "metadata": {},
     "output_type": "display_data"
    }
   ],
   "source": [
    "# 随便给几个例子：\n",
    "dnorm(0, mean = 0, sd = 1) # Z在0处的取值\n",
    "1/sqrt(2*pi)\n",
    "\n",
    "# Normal Density\n",
    "x <- seq(-5, 5, by = .001)\n",
    "plot(x, dnorm(x), main=\"Standard Normal Density\",pch=20)"
   ]
  },
  {
   "cell_type": "code",
   "execution_count": 21,
   "id": "6f3515d2",
   "metadata": {},
   "outputs": [
    {
     "data": {
      "text/html": [
       "0.5"
      ],
      "text/latex": [
       "0.5"
      ],
      "text/markdown": [
       "0.5"
      ],
      "text/plain": [
       "[1] 0.5"
      ]
     },
     "metadata": {},
     "output_type": "display_data"
    },
    {
     "data": {
      "text/html": [
       "0.950004209703559"
      ],
      "text/latex": [
       "0.950004209703559"
      ],
      "text/markdown": [
       "0.950004209703559"
      ],
      "text/plain": [
       "[1] 0.9500042"
      ]
     },
     "metadata": {},
     "output_type": "display_data"
    }
   ],
   "source": [
    "# Normal CDF\n",
    "\n",
    "pnorm(0) # P(Z < 0)\n",
    "pnorm(1.96) - pnorm(-1.96) # P(-1.96 < Z < 1.96)"
   ]
  },
  {
   "cell_type": "code",
   "execution_count": 22,
   "id": "be99e4a2",
   "metadata": {},
   "outputs": [
    {
     "data": {
      "text/html": [
       "0"
      ],
      "text/latex": [
       "0"
      ],
      "text/markdown": [
       "0"
      ],
      "text/plain": [
       "[1] 0"
      ]
     },
     "metadata": {},
     "output_type": "display_data"
    },
    {
     "data": {
      "text/html": [
       "1.95996398454005"
      ],
      "text/latex": [
       "1.95996398454005"
      ],
      "text/markdown": [
       "1.95996398454005"
      ],
      "text/plain": [
       "[1] 1.959964"
      ]
     },
     "metadata": {},
     "output_type": "display_data"
    }
   ],
   "source": [
    "# Normal Quantiles\n",
    "\n",
    "qnorm(.5) # P(Z < ?) = 0.5\n",
    "qnorm(.975) # P(Z < ?) = 0.975"
   ]
  },
  {
   "cell_type": "code",
   "execution_count": 24,
   "id": "a99b0522",
   "metadata": {},
   "outputs": [
    {
     "data": {
      "text/html": [
       "-2.18528683816953"
      ],
      "text/latex": [
       "-2.18528683816953"
      ],
      "text/markdown": [
       "-2.18528683816953"
      ],
      "text/plain": [
       "[1] -2.185287"
      ]
     },
     "metadata": {},
     "output_type": "display_data"
    },
    {
     "data": {
      "text/html": [
       "<ol class=list-inline>\n",
       "\t<li>99.3251340621249</li>\n",
       "\t<li>97.8809388080898</li>\n",
       "\t<li>98.7348019784691</li>\n",
       "\t<li>99.6263384448453</li>\n",
       "\t<li>99.3124445696121</li>\n",
       "\t<li>99.1278411732823</li>\n",
       "\t<li>99.8982389937752</li>\n",
       "\t<li>99.7462194698975</li>\n",
       "\t<li>98.1462595455209</li>\n",
       "\t<li>99.9220539339246</li>\n",
       "</ol>\n"
      ],
      "text/latex": [
       "\\begin{enumerate*}\n",
       "\\item 99.3251340621249\n",
       "\\item 97.8809388080898\n",
       "\\item 98.7348019784691\n",
       "\\item 99.6263384448453\n",
       "\\item 99.3124445696121\n",
       "\\item 99.1278411732823\n",
       "\\item 99.8982389937752\n",
       "\\item 99.7462194698975\n",
       "\\item 98.1462595455209\n",
       "\\item 99.9220539339246\n",
       "\\end{enumerate*}\n"
      ],
      "text/markdown": [
       "1. 99.3251340621249\n",
       "2. 97.8809388080898\n",
       "3. 98.7348019784691\n",
       "4. 99.6263384448453\n",
       "5. 99.3124445696121\n",
       "6. 99.1278411732823\n",
       "7. 99.8982389937752\n",
       "8. 99.7462194698975\n",
       "9. 98.1462595455209\n",
       "10. 99.9220539339246\n",
       "\n",
       "\n"
      ],
      "text/plain": [
       " [1] 99.32513 97.88094 98.73480 99.62634 99.31244 99.12784 99.89824 99.74622\n",
       " [9] 98.14626 99.92205"
      ]
     },
     "metadata": {},
     "output_type": "display_data"
    }
   ],
   "source": [
    "# Draw Standard Normal RVs\n",
    "rnorm(1)\n",
    "rnorm(10, mean = 100, sd = 1)"
   ]
  },
  {
   "cell_type": "markdown",
   "id": "fa10ac9d",
   "metadata": {},
   "source": [
    "## R Base Distributions Set 1"
   ]
  },
  {
   "cell_type": "markdown",
   "id": "e8f0b1e4",
   "metadata": {},
   "source": [
    "## R Base Distributions Set 2"
   ]
  },
  {
   "cell_type": "code",
   "execution_count": 26,
   "id": "f1369c46",
   "metadata": {},
   "outputs": [],
   "source": [
    "# 学生-t分布 举例\n",
    "# 画出学生t-分布在自由度为1, 2, 5, 30, 100下pdf, 使用不同类型的线区分自由度。\n",
    "# 使用红色的线画出标准正态分布的pdf。"
   ]
  },
  {
   "cell_type": "code",
   "execution_count": 31,
   "id": "3979c908",
   "metadata": {},
   "outputs": [
    {
     "data": {
      "image/png": "[encoded data removed]",
      "text/plain": [
       "Plot with title \"Student's t\""
      ]
     },
     "metadata": {},
     "output_type": "display_data"
    }
   ],
   "source": [
    "t <- seq(-10, 10, by = .01)\n",
    "df <- c(1, 2, 5, 30, 100)\n",
    "plot(t, dnorm(t), lty = 1, col = \"red\", ylab = \"f(t)\", main = \"Student's t\")\n",
    "for(i in 1:5){\n",
    "    lines(t, dt(t, df = df[i]), lty = i)\n",
    "}\n",
    "legend <- c(paste(\"df=\", df, sep = \"\"), \"N(0,1)\")\n",
    "legend(\"topright\", legend = legend, lty = c(1:5, 1), col = c(rep(1, 5), 2))"
   ]
  },
  {
   "cell_type": "markdown",
   "id": "722234ee",
   "metadata": {},
   "source": [
    "## Check Yourself\n",
    "伽马的概率密度函数：\n",
    "\n",
    "$$\n",
    "f(x|\\alpha, \\beta) = \\frac{\\beta^{\\alpha}}{\\Gamma(\\alpha)}x^{\\alpha-1}e^{-\\beta x},\\;\\qquad 0 < x < \\infty,\\; \\alpha > 0,\\; \\beta > 0\n",
    "$$\n",
    "其中$\\alpha$是shape parameter，$\\beta$是scale parameter\n",
    "\n",
    "对于$\\alpha = 2$和$\\beta = 1$计算：\n",
    "$$\n",
    "\\int\\limits^{\\infty}_{2}f(x|\\alpha, \\beta)\\;dx\n",
    "$$\n",
    "\n",
    "使用$\\alpha = 2,3,4,5,6$画出pdf"
   ]
  },
  {
   "cell_type": "code",
   "execution_count": 29,
   "id": "41a360d0",
   "metadata": {},
   "outputs": [
    {
     "data": {
      "text/html": [
       "0.406005849709838"
      ],
      "text/latex": [
       "0.406005849709838"
      ],
      "text/markdown": [
       "0.406005849709838"
      ],
      "text/plain": [
       "[1] 0.4060058"
      ]
     },
     "metadata": {},
     "output_type": "display_data"
    }
   ],
   "source": [
    "# 计算上述积分：\n",
    "1-pgamma(2, shape = 2, scale = 1)"
   ]
  },
  {
   "cell_type": "code",
   "execution_count": 37,
   "id": "c518282e",
   "metadata": {},
   "outputs": [
    {
     "data": {
      "image/png": "[encoded data removed]",
      "text/plain": [
       "plot without title"
      ]
     },
     "metadata": {},
     "output_type": "display_data"
    }
   ],
   "source": [
    "# 画图：\n",
    "xint <- seq(0,10, by=0.01)\n",
    "plot(xint, dgamma(xint, shape = 2, scale = 1), lty = 1, xlab=\"x\", ylab=\"density\")\n",
    "for(i in 3:6){\n",
    "    lines(xint, dgamma(xint, shape = i, scale = 1), col = i)\n",
    "}"
   ]
  },
  {
   "cell_type": "markdown",
   "id": "5efe205c",
   "metadata": {},
   "source": [
    "## Discrete random variables: Often can use sample()\n",
    "\n",
    "the sample() function to sample from\n",
    "\n",
    "1. The discrete uniform distribution.\n",
    "2. Uncommon discrete distributions (by specifying the probabilities)\n",
    "\n",
    "\n",
    "Template: sample(x, size, replace = FALSE, prob = NULL)"
   ]
  },
  {
   "cell_type": "code",
   "execution_count": 38,
   "id": "32b16752",
   "metadata": {},
   "outputs": [
    {
     "data": {
      "text/html": [
       "<ol class=list-inline>\n",
       "\t<li>2</li>\n",
       "\t<li>2</li>\n",
       "\t<li>3</li>\n",
       "\t<li>3</li>\n",
       "\t<li>3</li>\n",
       "\t<li>3</li>\n",
       "\t<li>3</li>\n",
       "\t<li>3</li>\n",
       "\t<li>3</li>\n",
       "\t<li>3</li>\n",
       "</ol>\n"
      ],
      "text/latex": [
       "\\begin{enumerate*}\n",
       "\\item 2\n",
       "\\item 2\n",
       "\\item 3\n",
       "\\item 3\n",
       "\\item 3\n",
       "\\item 3\n",
       "\\item 3\n",
       "\\item 3\n",
       "\\item 3\n",
       "\\item 3\n",
       "\\end{enumerate*}\n"
      ],
      "text/markdown": [
       "1. 2\n",
       "2. 2\n",
       "3. 3\n",
       "4. 3\n",
       "5. 3\n",
       "6. 3\n",
       "7. 3\n",
       "8. 3\n",
       "9. 3\n",
       "10. 3\n",
       "\n",
       "\n"
      ],
      "text/plain": [
       " [1] 2 2 3 3 3 3 3 3 3 3"
      ]
     },
     "metadata": {},
     "output_type": "display_data"
    }
   ],
   "source": [
    "# Example\n",
    "# 从以下离散分布生成随机变量：\n",
    "# When x = 1,2,3; f(x) = 0.1, 0.2, 0.7 respectively.\n",
    "n <- 1000\n",
    "p <- c(0.1, 0.2, 0.7)\n",
    "x <- sample(1:3, size = n, prob=p, replace = TRUE)\n",
    "head(x,10)"
   ]
  },
  {
   "cell_type": "code",
   "execution_count": 39,
   "id": "a85127c2",
   "metadata": {},
   "outputs": [
    {
     "data": {
      "text/html": [
       "<table>\n",
       "<thead><tr><th></th><th scope=col>1</th><th scope=col>2</th><th scope=col>3</th></tr></thead>\n",
       "<tbody>\n",
       "\t<tr><th scope=row>p</th><td>0.100</td><td>0.200</td><td>0.700</td></tr>\n",
       "\t<tr><th scope=row>p.hat</th><td>0.106</td><td>0.219</td><td>0.675</td></tr>\n",
       "</tbody>\n",
       "</table>\n"
      ],
      "text/latex": [
       "\\begin{tabular}{r|lll}\n",
       "  & 1 & 2 & 3\\\\\n",
       "\\hline\n",
       "\tp & 0.100 & 0.200 & 0.700\\\\\n",
       "\tp.hat & 0.106 & 0.219 & 0.675\\\\\n",
       "\\end{tabular}\n"
      ],
      "text/markdown": [
       "\n",
       "| <!--/--> | 1 | 2 | 3 |\n",
       "|---|---|---|---|\n",
       "| p | 0.100 | 0.200 | 0.700 |\n",
       "| p.hat | 0.106 | 0.219 | 0.675 |\n",
       "\n"
      ],
      "text/plain": [
       "      1     2     3    \n",
       "p     0.100 0.200 0.700\n",
       "p.hat 0.106 0.219 0.675"
      ]
     },
     "metadata": {},
     "output_type": "display_data"
    }
   ],
   "source": [
    "rbind(p, p.hat = table(x)/n)"
   ]
  },
  {
   "cell_type": "markdown",
   "id": "aa41f476",
   "metadata": {},
   "source": [
    "## Discrete random variables: Often can use sample()\n",
    "\n",
    "使用Inverse Transform Method (if CDF is invertible) OR Accpetance-Rejection Method"
   ]
  },
  {
   "cell_type": "markdown",
   "id": "6ce23d43",
   "metadata": {},
   "source": [
    "# Theorem Induction:"
   ]
  },
  {
   "cell_type": "code",
   "execution_count": 40,
   "id": "c36077c0",
   "metadata": {},
   "outputs": [],
   "source": [
    "?pbeta\n"
   ]
  },
  {
   "cell_type": "code",
   "execution_count": null,
   "id": "22a30731",
   "metadata": {},
   "outputs": [],
   "source": []
  }
 ],
 "metadata": {
  "kernelspec": {
   "display_name": "R",
   "language": "R",
   "name": "ir"
  },
  "language_info": {
   "codemirror_mode": "r",
   "file_extension": ".r",
   "mimetype": "text/x-r-source",
   "name": "R",
   "pygments_lexer": "r",
   "version": "3.6.1"
  }
 },
 "nbformat": 4,
 "nbformat_minor": 5
}
