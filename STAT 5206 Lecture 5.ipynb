{
 "cells": [
  {
   "cell_type": "markdown",
   "id": "d29d7625",
   "metadata": {},
   "source": [
    "# Linear Regression, Linear Algebra Review and Nonparametric Methods\n",
    "# (The Bootstrap & Permutation Tests)\n"
   ]
  },
  {
   "cell_type": "markdown",
   "id": "67b4ed2b",
   "metadata": {},
   "source": [
    "# Tasks: Plotting Data\n",
    "\n",
    "Use the built-in iris dataset:\n",
    "\n",
    "• Use the hist() function to plot a histogram of iris sepal width. Label the axes properly.\n",
    "\n",
    "• Create a scatterplot of iris sepal width vs. iris sepal length. Color the points by whether or not the species is versicolor.\n",
    "\n",
    "• Create side-by-side boxplots of iris petal length for each species."
   ]
  },
  {
   "cell_type": "code",
   "execution_count": 1,
   "id": "07c1185f",
   "metadata": {},
   "outputs": [
    {
     "data": {
      "image/png": "[encoded data removed]",
      "text/plain": [
       "Plot with title \"Histogram of iris$Sepal.Width\""
      ]
     },
     "metadata": {},
     "output_type": "display_data"
    }
   ],
   "source": [
    "# Use the hist() function to plot a histogram of iris sepal width. Label the \n",
    "# axes properly.\n",
    "\n",
    "hist(iris$Sepal.Width, xlab = 'Sepal Width')"
   ]
  },
  {
   "cell_type": "code",
   "execution_count": 2,
   "id": "43bdd2f7",
   "metadata": {},
   "outputs": [
    {
     "data": {
      "image/png": "[encoded data removed]",
      "text/plain": [
       "plot without title"
      ]
     },
     "metadata": {},
     "output_type": "display_data"
    }
   ],
   "source": [
    "# Create a scatterplot of iris sepal width vs. iris sepal length. Color the points\n",
    "# by whether or not the species is versicolor.\n",
    "\n",
    "iris$IsVersicolor <- ifelse(iris$Species == 'versicolor', 1, 0)\n",
    "iris$IsVersicolor <- factor(iris$IsVersicolor)\n",
    "plot(iris$Sepal.Length, iris$Sepal.Width, col = iris$IsVersicolor)"
   ]
  },
  {
   "cell_type": "code",
   "execution_count": 3,
   "id": "1ed435dd",
   "metadata": {},
   "outputs": [
    {
     "data": {
      "image/png": "[encoded data removed]",
      "text/plain": [
       "plot without title"
      ]
     },
     "metadata": {},
     "output_type": "display_data"
    }
   ],
   "source": [
    "# Create side-by-side boxplots of iris petal length for each species.\n",
    "boxplot(iris$Petal.Length~iris$Species)"
   ]
  },
  {
   "cell_type": "markdown",
   "id": "e0680ad6",
   "metadata": {},
   "source": [
    "# Multiple Linear Regression"
   ]
  },
  {
   "cell_type": "markdown",
   "id": "0777d3c0",
   "metadata": {},
   "source": [
    "## Example\n",
    "A large national grocery retailer tracks productivity and costs of its facilities closely. Consider a data set obtained from a single distribution center for a one-year period. Each data point for each variable represents one week of activity. The variables included are number of cases shipped in thousands (X1), the indirect costs of labor as a percentage of total costs (X2), a qualitative predictor called holiday that is coded 1 if the week has a holiday and 0 otherwise (X3), and total labor hours (Y).\n",
    "\n",
    "## What information would be useful to provide such a model?\n",
    "• Is there a relationship between holidays and total labor hours? What about number of cases shipped? Indirect costs?\n",
    "\n",
    "• How strong are these relationships?\n",
    "\n",
    "• Is the relationship linear?"
   ]
  },
  {
   "cell_type": "markdown",
   "id": "44dce468",
   "metadata": {},
   "source": [
    "# General Model\n",
    "\n",
    "$$\n",
    "Y = \\beta_{0} + \\beta_{1}X_{1} + \\beta_{2}X_{2} + ... + \\epsilon, \n",
    "$$\n",
    "\n",
    "$$\n",
    "where: \\epsilon \\sim N(0,\\sigma^{2})\n",
    "$$\n",
    "\n",
    "We can represent this in a matrix form as following:\n",
    "\n",
    "$$\n",
    "Y = X\\beta + \\epsilon\n",
    "$$\n",
    "\n",
    "$$\n",
    "where: Y = (Y_{1}, Y_{2}, Y_{3},...)^{T} \\in \\mathbb{R}^{n},\\qquad X = design matrix \\in \\mathbb{R}^{n\\times (p+1)}\\\\\n",
    "\\beta = (\\beta_{1}, \\beta_{2}, \\beta_{3},...)^{T} \\in \\mathbb{R}^{(p+1)}, \\qquad \\epsilon = (\\epsilon_{1}, \\epsilon_{2}, \\epsilon{3},...)^{T} \\in \\mathbb{R}^{n}\n",
    "$$"
   ]
  },
  {
   "cell_type": "markdown",
   "id": "9eec1cfe",
   "metadata": {},
   "source": [
    "## The design matrix X\n",
    "\n",
    "The structure of the design matrix X is as following:\n",
    "\n",
    "$$\n",
    "\\left[\\begin{matrix}\n",
    "    1&X_{11}&X_{12}&...&X_{1p}\\\\\n",
    "    1&X_{21}&X_{22}&...&X_{2p}\\\\\n",
    "    .&.&.&.&.\\\\\n",
    "    .&.&.&.&.\\\\\n",
    "    .&.&.&.&.\\\\\n",
    "    1&X_{n1}&X_{n2}&...&X_{np}\\end{matrix}\\right]\n",
    "$$\n",
    "\n",
    "Since:\n",
    "$$\n",
    "\\beta = (\\beta_{1}, \\beta_{2}, \\beta_{3},...)^{T},\n",
    "$$\n",
    "therefore we have:\n",
    "\n",
    "$$\n",
    "X\\beta = \n",
    "\\left[\\begin{matrix}\n",
    "    1&X_{11}&X_{12}&...&X_{1p}\\\\\n",
    "    1&X_{21}&X_{22}&...&X_{2p}\\\\\n",
    "    .&.&.&.&.\\\\\n",
    "    .&.&.&.&.\\\\\n",
    "    .&.&.&.&.\\\\\n",
    "    1&X_{n1}&X_{n2}&...&X_{np}\\end{matrix}\\right] \\cdot \\left[\\begin{matrix}\n",
    "    \\beta_{0}\\\\\n",
    "    \\beta_{1}\\\\\n",
    "    .\\\\\n",
    "    .\\\\\n",
    "    .\\\\\n",
    "    \\beta_{p}\\end{matrix}\\right] = \\left[\\begin{matrix}\n",
    "    \\beta_{0}+\\beta_{1}X_{11}+\\beta_{2}X_{12}+...+\\beta_{p}X_{1p}\\\\\n",
    "    \\beta_{0}+\\beta_{1}X_{21}+\\beta_{2}X_{22}+...+\\beta_{p}X_{2p}\\\\\n",
    "    .\\\\\n",
    "    .\\\\\n",
    "    .\\\\\n",
    "    \\beta_{0}+\\beta_{1}X_{n1}+\\beta_{2}X_{n2}+...+\\beta_{p}X_{np}\\end{matrix}\\right]\n",
    "$$"
   ]
  },
  {
   "cell_type": "markdown",
   "id": "116fca5f",
   "metadata": {},
   "source": [
    "Therefore, we have the total structure of the vector of response variables Y:\n",
    "\n",
    "$$\n",
    "Y = \\left[\\begin{matrix}\n",
    "    Y_{1}\\\\\n",
    "    Y_{2}\\\\\n",
    "    .\\\\\n",
    "    .\\\\\n",
    "    .\\\\\n",
    "    Y_{n}\\end{matrix}\\right] = \\left[\\begin{matrix}\n",
    "    \\beta_{0}+\\beta_{1}X_{11}+\\beta_{2}X_{12}+...+\\beta_{p}X_{1p}+\\epsilon_{1}\\\\\n",
    "    \\beta_{0}+\\beta_{1}X_{21}+\\beta_{2}X_{22}+...+\\beta_{p}X_{2p}+\\epsilon_{2}\\\\\n",
    "    .\\\\\n",
    "    .\\\\\n",
    "    .\\\\\n",
    "    \\beta_{0}+\\beta_{1}X_{n1}+\\beta_{2}X_{n2}+...+\\beta_{p}X_{np}+\\epsilon_{n}\\end{matrix}\\right]\n",
    "$$"
   ]
  },
  {
   "cell_type": "markdown",
   "id": "2442b908",
   "metadata": {},
   "source": [
    "# Parameter Estimation\n",
    "## Least Squares Estimate\n",
    "\n",
    "Define an objective function Q(b) as follows:\n",
    "$$\n",
    "\\begin{align}\n",
    "Q(b_{0},b_{1},...,b_{p}) &= \\sum\\limits_{i=1}^{n}(Y_{i}-(b_{0}+b_{1}X_{i1}+b_{2}X_{i2}+...+b_{p}X_{ip}))^{2}\\\\\n",
    "&=\\left\\|Y-Xb\\right\\|^{2}\n",
    "\\end{align}\n",
    "$$"
   ]
  },
  {
   "cell_type": "markdown",
   "id": "89c1d211",
   "metadata": {},
   "source": [
    "Our goal is minimize the objective function:\n",
    "$$\n",
    "min: Q(b_{0},b_{1},...,b_{p})\\\\\n",
    "$$\n",
    "with respect to:\n",
    "$$\n",
    "b = (b_{0},b_{1},...,b_{p})^{T} \\in \\mathbb{R}^{p+1}\n",
    "$$"
   ]
  },
  {
   "cell_type": "markdown",
   "id": "fbb5433a",
   "metadata": {},
   "source": [
    "## Theorem\n",
    "If the design matrix X is full column rank (列满秩，即矩阵秩=列数，列向量线性无关），then the global minimum of:\n",
    "$$\n",
    "Q(b)=\\left\\|Y-Xb\\right\\|^{2}\n",
    "$$\n",
    "with respect to: \n",
    "$$b = (b_{0},b_{1},...,b_{p})^{T} \\in \\mathbb{R}^{p+1}\n",
    "$$ is:\n",
    "\n",
    "$$\n",
    "\\hat{\\beta} = (X^{T}X)^{-1}X^{T}Y\n",
    "$$\n"
   ]
  },
  {
   "cell_type": "markdown",
   "id": "eaf5deef",
   "metadata": {},
   "source": [
    "## Proof\n",
    "\n",
    "$$\n",
    "\\begin{align}\n",
    "Q(b) = \\left\\|Y-Xb\\right\\|^{2} &= (Y-Xb)^{T}(Y-Xb)\\\\\n",
    "&= (Y^{T}-(Xb)^{T})(Y-Xb)\\\\\n",
    "&= Y^{T}Y-(Xb)^{T}Y-Y^{T}(Xb)+(Xb)^{T}Xb\\\\\n",
    "&= b^{T}X^{T}Xb-2Y^{T}Xb+Y^{T}Y\n",
    "\\end{align}\n",
    "$$\n",
    "\n",
    "Taking the first partial derivative (or gradient since b is actaully a vector) with respect to b, and then equating the derivative to 0, which gives:\n",
    "\n",
    "$$\n",
    "\\begin{align}\n",
    "\\frac{d}{db}(b^{T}X^{T}Xb-2b^{T}X^{T}Y+Y^{T}Y) &= 0\\\\\n",
    "\\mathbf{I}^{T}X^{T}Xb + b^{T}X^{T}X\\mathbf{I}-2Y^{T}X\\mathbf{I} &= 0\\\\\n",
    "2\\mathbf{I}^{T}X^{T}Xb - 2Y^{T}X\\mathbf{I} &= 0\\\\\n",
    "\\end{align}\n",
    "$$\n",
    "\n",
    "where $\\mathbf{I}$ is a column vector of 1 with size $(p+1) \\times 1$ (the same as vector b). \n",
    "\n",
    "Then we have:\n",
    "\n",
    "$$\n",
    "\\begin{align}\n",
    "\\mathbf{I}^{T}X^{T}Xb &= Y^{T}X\\mathbf{I}\\\\\n",
    "\\mathbf{I}^{T}X^{T}Xb &= \\mathbf{I}^{T}X^{T}Y\\\\\n",
    "X^{T}Xb & = X^{T}Y\\\\\n",
    "b = \\hat{\\beta} &= (X^{T}X)^{-1}X^{T}Y\\\\\n",
    "\\end{align}\n",
    "$$"
   ]
  },
  {
   "cell_type": "code",
   "execution_count": 4,
   "id": "3b958155",
   "metadata": {},
   "outputs": [
    {
     "data": {
      "text/html": [
       "<table>\n",
       "<thead><tr><th scope=col>Y</th><th scope=col>X1</th><th scope=col>X2</th><th scope=col>X3</th></tr></thead>\n",
       "<tbody>\n",
       "\t<tr><td>4264   </td><td>305.657</td><td>7.17   </td><td>0      </td></tr>\n",
       "\t<tr><td>4496   </td><td>328.476</td><td>6.20   </td><td>0      </td></tr>\n",
       "\t<tr><td>4317   </td><td>317.164</td><td>4.61   </td><td>0      </td></tr>\n",
       "\t<tr><td>4292   </td><td>366.745</td><td>7.02   </td><td>0      </td></tr>\n",
       "\t<tr><td>4945   </td><td>265.518</td><td>8.61   </td><td>1      </td></tr>\n",
       "\t<tr><td>4325   </td><td>301.995</td><td>6.88   </td><td>0      </td></tr>\n",
       "</tbody>\n",
       "</table>\n"
      ],
      "text/latex": [
       "\\begin{tabular}{r|llll}\n",
       " Y & X1 & X2 & X3\\\\\n",
       "\\hline\n",
       "\t 4264    & 305.657 & 7.17    & 0      \\\\\n",
       "\t 4496    & 328.476 & 6.20    & 0      \\\\\n",
       "\t 4317    & 317.164 & 4.61    & 0      \\\\\n",
       "\t 4292    & 366.745 & 7.02    & 0      \\\\\n",
       "\t 4945    & 265.518 & 8.61    & 1      \\\\\n",
       "\t 4325    & 301.995 & 6.88    & 0      \\\\\n",
       "\\end{tabular}\n"
      ],
      "text/markdown": [
       "\n",
       "| Y | X1 | X2 | X3 |\n",
       "|---|---|---|---|\n",
       "| 4264    | 305.657 | 7.17    | 0       |\n",
       "| 4496    | 328.476 | 6.20    | 0       |\n",
       "| 4317    | 317.164 | 4.61    | 0       |\n",
       "| 4292    | 366.745 | 7.02    | 0       |\n",
       "| 4945    | 265.518 | 8.61    | 1       |\n",
       "| 4325    | 301.995 | 6.88    | 0       |\n",
       "\n"
      ],
      "text/plain": [
       "  Y    X1      X2   X3\n",
       "1 4264 305.657 7.17 0 \n",
       "2 4496 328.476 6.20 0 \n",
       "3 4317 317.164 4.61 0 \n",
       "4 4292 366.745 7.02 0 \n",
       "5 4945 265.518 8.61 1 \n",
       "6 4325 301.995 6.88 0 "
      ]
     },
     "metadata": {},
     "output_type": "display_data"
    }
   ],
   "source": [
    "Grocery <- read.table(\"Kutner_6_9.txt\", header=T)\n",
    "head(Grocery)"
   ]
  },
  {
   "cell_type": "code",
   "execution_count": 5,
   "id": "2ecdcf5f",
   "metadata": {},
   "outputs": [
    {
     "data": {
      "text/html": [
       "<table>\n",
       "<tbody>\n",
       "\t<tr><td>1      </td><td>305.657</td><td>7.17   </td><td>0      </td></tr>\n",
       "\t<tr><td>1      </td><td>328.476</td><td>6.20   </td><td>0      </td></tr>\n",
       "\t<tr><td>1      </td><td>317.164</td><td>4.61   </td><td>0      </td></tr>\n",
       "\t<tr><td>1      </td><td>366.745</td><td>7.02   </td><td>0      </td></tr>\n",
       "\t<tr><td>1      </td><td>265.518</td><td>8.61   </td><td>1      </td></tr>\n",
       "\t<tr><td>1      </td><td>301.995</td><td>6.88   </td><td>0      </td></tr>\n",
       "</tbody>\n",
       "</table>\n"
      ],
      "text/latex": [
       "\\begin{tabular}{llll}\n",
       "\t 1       & 305.657 & 7.17    & 0      \\\\\n",
       "\t 1       & 328.476 & 6.20    & 0      \\\\\n",
       "\t 1       & 317.164 & 4.61    & 0      \\\\\n",
       "\t 1       & 366.745 & 7.02    & 0      \\\\\n",
       "\t 1       & 265.518 & 8.61    & 1      \\\\\n",
       "\t 1       & 301.995 & 6.88    & 0      \\\\\n",
       "\\end{tabular}\n"
      ],
      "text/markdown": [
       "\n",
       "| 1       | 305.657 | 7.17    | 0       |\n",
       "| 1       | 328.476 | 6.20    | 0       |\n",
       "| 1       | 317.164 | 4.61    | 0       |\n",
       "| 1       | 366.745 | 7.02    | 0       |\n",
       "| 1       | 265.518 | 8.61    | 1       |\n",
       "| 1       | 301.995 | 6.88    | 0       |\n",
       "\n"
      ],
      "text/plain": [
       "     [,1] [,2]    [,3] [,4]\n",
       "[1,] 1    305.657 7.17 0   \n",
       "[2,] 1    328.476 6.20 0   \n",
       "[3,] 1    317.164 4.61 0   \n",
       "[4,] 1    366.745 7.02 0   \n",
       "[5,] 1    265.518 8.61 1   \n",
       "[6,] 1    301.995 6.88 0   "
      ]
     },
     "metadata": {},
     "output_type": "display_data"
    }
   ],
   "source": [
    "# Construct design matrix X\n",
    "\n",
    "X <- cbind(rep(1,dim(Grocery)[1]), Grocery$X1, Grocery$X2, Grocery$X3)\n",
    "head(X)\n",
    "Y <- Grocery$Y"
   ]
  },
  {
   "cell_type": "markdown",
   "id": "6d1a246c",
   "metadata": {},
   "source": [
    "According to the theorem and equation I derived above:\n",
    "$$\n",
    "\\hat{\\beta} = (X^{T}X)^{-1}X^{T}Y\n",
    "$$"
   ]
  },
  {
   "cell_type": "code",
   "execution_count": 6,
   "id": "260cffec",
   "metadata": {},
   "outputs": [
    {
     "data": {
      "text/html": [
       "<table>\n",
       "<tbody>\n",
       "\t<tr><td>4149.89</td></tr>\n",
       "\t<tr><td>   0.79</td></tr>\n",
       "\t<tr><td> -13.17</td></tr>\n",
       "\t<tr><td> 623.55</td></tr>\n",
       "</tbody>\n",
       "</table>\n"
      ],
      "text/latex": [
       "\\begin{tabular}{l}\n",
       "\t 4149.89\\\\\n",
       "\t    0.79\\\\\n",
       "\t  -13.17\\\\\n",
       "\t  623.55\\\\\n",
       "\\end{tabular}\n"
      ],
      "text/markdown": [
       "\n",
       "| 4149.89 |\n",
       "|    0.79 |\n",
       "|  -13.17 |\n",
       "|  623.55 |\n",
       "\n"
      ],
      "text/plain": [
       "     [,1]   \n",
       "[1,] 4149.89\n",
       "[2,]    0.79\n",
       "[3,]  -13.17\n",
       "[4,]  623.55"
      ]
     },
     "metadata": {},
     "output_type": "display_data"
    }
   ],
   "source": [
    "hat_beta <- solve(t(X)%*%X)%*%t(X)%*%Y\n",
    "hat_beta <- round(hat_beta, 2)\n",
    "hat_beta"
   ]
  },
  {
   "cell_type": "markdown",
   "id": "c09d0bf7",
   "metadata": {},
   "source": [
    "From the $\\hat{\\beta}$ output, we know the prediction function is:\n",
    "\n",
    "$$\n",
    "\\hat{Y} = 4149.89+0.79X1-13.17X2+623.55X3\n",
    "$$"
   ]
  },
  {
   "cell_type": "markdown",
   "id": "970e7c5b",
   "metadata": {},
   "source": [
    "## Linear model lm() can also be applied"
   ]
  },
  {
   "cell_type": "code",
   "execution_count": 7,
   "id": "1d1a497f",
   "metadata": {},
   "outputs": [
    {
     "data": {
      "text/plain": [
       "\n",
       "Call:\n",
       "lm(formula = Y ~ X1 + X2 + X3, data = Grocery)\n",
       "\n",
       "Residuals:\n",
       "    Min      1Q  Median      3Q     Max \n",
       "-264.05 -110.73  -22.52   79.29  295.75 \n",
       "\n",
       "Coefficients:\n",
       "             Estimate Std. Error t value Pr(>|t|)    \n",
       "(Intercept) 4149.8872   195.5654  21.220  < 2e-16 ***\n",
       "X1             0.7871     0.3646   2.159   0.0359 *  \n",
       "X2           -13.1660    23.0917  -0.570   0.5712    \n",
       "X3           623.5545    62.6409   9.954 2.94e-13 ***\n",
       "---\n",
       "Signif. codes:  0 '***' 0.001 '**' 0.01 '*' 0.05 '.' 0.1 ' ' 1\n",
       "\n",
       "Residual standard error: 143.3 on 48 degrees of freedom\n",
       "Multiple R-squared:  0.6883,\tAdjusted R-squared:  0.6689 \n",
       "F-statistic: 35.34 on 3 and 48 DF,  p-value: 3.316e-12\n"
      ]
     },
     "metadata": {},
     "output_type": "display_data"
    }
   ],
   "source": [
    "lm0 <- lm(Y ~ X1 + X2 + X3, data = Grocery)\n",
    "summary(lm0)"
   ]
  },
  {
   "cell_type": "code",
   "execution_count": 8,
   "id": "8c140929",
   "metadata": {},
   "outputs": [
    {
     "data": {
      "text/html": [
       "<dl class=dl-horizontal>\n",
       "\t<dt>1</dt>\n",
       "\t\t<dd>-32.0634826596769</dd>\n",
       "\t<dt>2</dt>\n",
       "\t\t<dd>169.205091495517</dd>\n",
       "\t<dt>3</dt>\n",
       "\t\t<dd>-21.8254257325143</dd>\n",
       "\t<dt>4</dt>\n",
       "\t\t<dd>-54.1195519039194</dd>\n",
       "\t<dt>5</dt>\n",
       "\t\t<dd>75.9337236784584</dd>\n",
       "</dl>\n"
      ],
      "text/latex": [
       "\\begin{description*}\n",
       "\\item[1] -32.0634826596769\n",
       "\\item[2] 169.205091495517\n",
       "\\item[3] -21.8254257325143\n",
       "\\item[4] -54.1195519039194\n",
       "\\item[5] 75.9337236784584\n",
       "\\end{description*}\n"
      ],
      "text/markdown": [
       "1\n",
       ":   -32.06348265967692\n",
       ":   169.2050914955173\n",
       ":   -21.82542573251434\n",
       ":   -54.11955190391945\n",
       ":   75.9337236784584\n",
       "\n"
      ],
      "text/plain": [
       "        1         2         3         4         5 \n",
       "-32.06348 169.20509 -21.82543 -54.11955  75.93372 "
      ]
     },
     "metadata": {},
     "output_type": "display_data"
    },
    {
     "data": {
      "text/html": [
       "<dl class=dl-horizontal>\n",
       "\t<dt>1</dt>\n",
       "\t\t<dd>4296.06348265968</dd>\n",
       "\t<dt>2</dt>\n",
       "\t\t<dd>4326.79490850448</dd>\n",
       "\t<dt>3</dt>\n",
       "\t\t<dd>4338.82542573251</dd>\n",
       "\t<dt>4</dt>\n",
       "\t\t<dd>4346.11955190392</dd>\n",
       "\t<dt>5</dt>\n",
       "\t\t<dd>4869.06627632154</dd>\n",
       "</dl>\n"
      ],
      "text/latex": [
       "\\begin{description*}\n",
       "\\item[1] 4296.06348265968\n",
       "\\item[2] 4326.79490850448\n",
       "\\item[3] 4338.82542573251\n",
       "\\item[4] 4346.11955190392\n",
       "\\item[5] 4869.06627632154\n",
       "\\end{description*}\n"
      ],
      "text/markdown": [
       "1\n",
       ":   4296.063482659682\n",
       ":   4326.794908504483\n",
       ":   4338.825425732514\n",
       ":   4346.119551903925\n",
       ":   4869.06627632154\n",
       "\n"
      ],
      "text/plain": [
       "       1        2        3        4        5 \n",
       "4296.063 4326.795 4338.825 4346.120 4869.066 "
      ]
     },
     "metadata": {},
     "output_type": "display_data"
    }
   ],
   "source": [
    "# Compute residuals with residuals()\n",
    "resi <- residuals(lm0)[1:5]\n",
    "head(resi)\n",
    "\n",
    "# Compute fitted values with fitted()\n",
    "fitted_values <- fitted(lm0)[1:5]\n",
    "head(fitted_values)"
   ]
  },
  {
   "cell_type": "code",
   "execution_count": 9,
   "id": "24f7be1c",
   "metadata": {},
   "outputs": [
    {
     "data": {
      "text/html": [
       "<table>\n",
       "<thead><tr><th scope=col>Sex</th><th scope=col>Bwt</th><th scope=col>Hwt</th></tr></thead>\n",
       "<tbody>\n",
       "\t<tr><td>F  </td><td>2.0</td><td>7.0</td></tr>\n",
       "\t<tr><td>F  </td><td>2.0</td><td>7.4</td></tr>\n",
       "\t<tr><td>F  </td><td>2.0</td><td>9.5</td></tr>\n",
       "\t<tr><td>F  </td><td>2.1</td><td>7.2</td></tr>\n",
       "\t<tr><td>F  </td><td>2.1</td><td>7.3</td></tr>\n",
       "\t<tr><td>F  </td><td>2.1</td><td>7.6</td></tr>\n",
       "</tbody>\n",
       "</table>\n"
      ],
      "text/latex": [
       "\\begin{tabular}{r|lll}\n",
       " Sex & Bwt & Hwt\\\\\n",
       "\\hline\n",
       "\t F   & 2.0 & 7.0\\\\\n",
       "\t F   & 2.0 & 7.4\\\\\n",
       "\t F   & 2.0 & 9.5\\\\\n",
       "\t F   & 2.1 & 7.2\\\\\n",
       "\t F   & 2.1 & 7.3\\\\\n",
       "\t F   & 2.1 & 7.6\\\\\n",
       "\\end{tabular}\n"
      ],
      "text/markdown": [
       "\n",
       "| Sex | Bwt | Hwt |\n",
       "|---|---|---|\n",
       "| F   | 2.0 | 7.0 |\n",
       "| F   | 2.0 | 7.4 |\n",
       "| F   | 2.0 | 9.5 |\n",
       "| F   | 2.1 | 7.2 |\n",
       "| F   | 2.1 | 7.3 |\n",
       "| F   | 2.1 | 7.6 |\n",
       "\n"
      ],
      "text/plain": [
       "  Sex Bwt Hwt\n",
       "1 F   2.0 7.0\n",
       "2 F   2.0 7.4\n",
       "3 F   2.0 9.5\n",
       "4 F   2.1 7.2\n",
       "5 F   2.1 7.3\n",
       "6 F   2.1 7.6"
      ]
     },
     "metadata": {},
     "output_type": "display_data"
    }
   ],
   "source": [
    "library('MASS')\n",
    "head(cats)"
   ]
  },
  {
   "cell_type": "code",
   "execution_count": 10,
   "id": "4514da7d",
   "metadata": {
    "scrolled": true
   },
   "outputs": [
    {
     "data": {
      "text/plain": [
       "\n",
       "\tWelch Two Sample t-test\n",
       "\n",
       "data:  Fcats$Hwt and Mcats$Hwt\n",
       "t = -6.5179, df = 140.61, p-value = 1.186e-09\n",
       "alternative hypothesis: true difference in means is not equal to 0\n",
       "95 percent confidence interval:\n",
       " -2.763753 -1.477352\n",
       "sample estimates:\n",
       "mean of x mean of y \n",
       " 9.202128 11.322680 \n"
      ]
     },
     "metadata": {},
     "output_type": "display_data"
    }
   ],
   "source": [
    "Fcats <- cats[cats$Sex == 'F',]\n",
    "Mcats <- cats[cats$Sex == 'M',]\n",
    "t.test(Fcats$Hwt, Mcats$Hwt)"
   ]
  },
  {
   "cell_type": "code",
   "execution_count": 11,
   "id": "da76046d",
   "metadata": {},
   "outputs": [
    {
     "data": {
      "text/html": [
       "-2.12055275279667"
      ],
      "text/latex": [
       "-2.12055275279667"
      ],
      "text/markdown": [
       "-2.12055275279667"
      ],
      "text/plain": [
       "[1] -2.120553"
      ]
     },
     "metadata": {},
     "output_type": "display_data"
    },
    {
     "data": {
      "text/html": [
       "47"
      ],
      "text/latex": [
       "47"
      ],
      "text/markdown": [
       "47"
      ],
      "text/plain": [
       "[1] 47"
      ]
     },
     "metadata": {},
     "output_type": "display_data"
    },
    {
     "data": {
      "text/html": [
       "97"
      ],
      "text/latex": [
       "97"
      ],
      "text/markdown": [
       "97"
      ],
      "text/plain": [
       "[1] 97"
      ]
     },
     "metadata": {},
     "output_type": "display_data"
    }
   ],
   "source": [
    "D <- mean(Fcats$Hwt) - mean(Mcats$Hwt)\n",
    "Fnum <- dim(Fcats)[1]\n",
    "Mnum <- dim(Mcats)[1]\n",
    "D\n",
    "Fnum\n",
    "Mnum"
   ]
  },
  {
   "cell_type": "code",
   "execution_count": 12,
   "id": "6e5128e4",
   "metadata": {
    "scrolled": true
   },
   "outputs": [
    {
     "data": {
      "text/html": [
       "0"
      ],
      "text/latex": [
       "0"
      ],
      "text/markdown": [
       "0"
      ],
      "text/plain": [
       "[1] 0"
      ]
     },
     "metadata": {},
     "output_type": "display_data"
    },
    {
     "data": {
      "text/html": [
       "0"
      ],
      "text/latex": [
       "0"
      ],
      "text/markdown": [
       "0"
      ],
      "text/plain": [
       "[1] 0"
      ]
     },
     "metadata": {},
     "output_type": "display_data"
    }
   ],
   "source": [
    "D_abs <- abs(D)\n",
    "Dirac_count <- 0\n",
    "P <- 100000\n",
    "\n",
    "for(i in 1:100000){\n",
    "    resample_vec <- sample(1:(Fnum+Mnum), Fnum, replace = FALSE)\n",
    "    resample_Fcats <- cats$Hwt[resample_vec]\n",
    "    resample_Mcats <- cats$Hwt[-resample_vec]\n",
    "    resample_D_abs <- abs(mean(resample_Fcats) - mean(resample_Mcats))\n",
    "    \n",
    "    if(resample_D_abs>=D_abs){\n",
    "        Dirac_count = Dirac_count+1\n",
    "    }\n",
    "}\n",
    "Dirac_count\n",
    "p_value <- Dirac_count / P\n",
    "p_value"
   ]
  },
  {
   "cell_type": "code",
   "execution_count": null,
   "id": "575073ca",
   "metadata": {},
   "outputs": [],
   "source": []
  }
 ],
 "metadata": {
  "kernelspec": {
   "display_name": "R",
   "language": "R",
   "name": "ir"
  },
  "toc": {
   "base_numbering": 1,
   "nav_menu": {},
   "number_sections": false,
   "sideBar": true,
   "skip_h1_title": true,
   "title_cell": "Table of Contents",
   "title_sidebar": "Contents",
   "toc_cell": false,
   "toc_position": {},
   "toc_section_display": true,
   "toc_window_display": false
  },
  "varInspector": {
   "cols": {
    "lenName": 16,
    "lenType": 16,
    "lenVar": 40
   },
   "kernels_config": {
    "python": {
     "delete_cmd_postfix": "",
     "delete_cmd_prefix": "del ",
     "library": "var_list.py",
     "varRefreshCmd": "print(var_dic_list())"
    },
    "r": {
     "delete_cmd_postfix": ") ",
     "delete_cmd_prefix": "rm(",
     "library": "var_list.r",
     "varRefreshCmd": "cat(var_dic_list()) "
    }
   },
   "types_to_exclude": [
    "module",
    "function",
    "builtin_function_or_method",
    "instance",
    "_Feature"
   ],
   "window_display": false
  }
 },
 "nbformat": 4,
 "nbformat_minor": 5
}
