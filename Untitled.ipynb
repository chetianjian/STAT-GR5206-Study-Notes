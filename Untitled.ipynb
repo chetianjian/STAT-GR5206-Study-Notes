{
 "cells": [
  {
   "cell_type": "code",
   "execution_count": 26,
   "id": "f07209d1",
   "metadata": {
    "scrolled": true
   },
   "outputs": [
    {
     "data": {
      "text/html": [
       "<ol class=list-inline>\n",
       "\t<li>'forcats'</li>\n",
       "\t<li>'stringr'</li>\n",
       "\t<li>'readr'</li>\n",
       "\t<li>'tidyr'</li>\n",
       "\t<li>'tibble'</li>\n",
       "\t<li>'ggplot2'</li>\n",
       "\t<li>'tidyverse'</li>\n",
       "\t<li>'purrr'</li>\n",
       "\t<li>'dplyr'</li>\n",
       "\t<li>'stats'</li>\n",
       "\t<li>'graphics'</li>\n",
       "\t<li>'grDevices'</li>\n",
       "\t<li>'utils'</li>\n",
       "\t<li>'datasets'</li>\n",
       "\t<li>'methods'</li>\n",
       "\t<li>'base'</li>\n",
       "</ol>\n"
      ],
      "text/latex": [
       "\\begin{enumerate*}\n",
       "\\item 'forcats'\n",
       "\\item 'stringr'\n",
       "\\item 'readr'\n",
       "\\item 'tidyr'\n",
       "\\item 'tibble'\n",
       "\\item 'ggplot2'\n",
       "\\item 'tidyverse'\n",
       "\\item 'purrr'\n",
       "\\item 'dplyr'\n",
       "\\item 'stats'\n",
       "\\item 'graphics'\n",
       "\\item 'grDevices'\n",
       "\\item 'utils'\n",
       "\\item 'datasets'\n",
       "\\item 'methods'\n",
       "\\item 'base'\n",
       "\\end{enumerate*}\n"
      ],
      "text/markdown": [
       "1. 'forcats'\n",
       "2. 'stringr'\n",
       "3. 'readr'\n",
       "4. 'tidyr'\n",
       "5. 'tibble'\n",
       "6. 'ggplot2'\n",
       "7. 'tidyverse'\n",
       "8. 'purrr'\n",
       "9. 'dplyr'\n",
       "10. 'stats'\n",
       "11. 'graphics'\n",
       "12. 'grDevices'\n",
       "13. 'utils'\n",
       "14. 'datasets'\n",
       "15. 'methods'\n",
       "16. 'base'\n",
       "\n",
       "\n"
      ],
      "text/plain": [
       " [1] \"forcats\"   \"stringr\"   \"readr\"     \"tidyr\"     \"tibble\"    \"ggplot2\"  \n",
       " [7] \"tidyverse\" \"purrr\"     \"dplyr\"     \"stats\"     \"graphics\"  \"grDevices\"\n",
       "[13] \"utils\"     \"datasets\"  \"methods\"   \"base\"     "
      ]
     },
     "metadata": {},
     "output_type": "display_data"
    },
    {
     "data": {
      "text/html": [
       "<ol class=list-inline>\n",
       "\t<li>'forcats'</li>\n",
       "\t<li>'stringr'</li>\n",
       "\t<li>'readr'</li>\n",
       "\t<li>'tidyr'</li>\n",
       "\t<li>'tibble'</li>\n",
       "\t<li>'ggplot2'</li>\n",
       "\t<li>'tidyverse'</li>\n",
       "\t<li>'purrr'</li>\n",
       "\t<li>'dplyr'</li>\n",
       "\t<li>'stats'</li>\n",
       "\t<li>'graphics'</li>\n",
       "\t<li>'grDevices'</li>\n",
       "\t<li>'utils'</li>\n",
       "\t<li>'datasets'</li>\n",
       "\t<li>'methods'</li>\n",
       "\t<li>'base'</li>\n",
       "</ol>\n"
      ],
      "text/latex": [
       "\\begin{enumerate*}\n",
       "\\item 'forcats'\n",
       "\\item 'stringr'\n",
       "\\item 'readr'\n",
       "\\item 'tidyr'\n",
       "\\item 'tibble'\n",
       "\\item 'ggplot2'\n",
       "\\item 'tidyverse'\n",
       "\\item 'purrr'\n",
       "\\item 'dplyr'\n",
       "\\item 'stats'\n",
       "\\item 'graphics'\n",
       "\\item 'grDevices'\n",
       "\\item 'utils'\n",
       "\\item 'datasets'\n",
       "\\item 'methods'\n",
       "\\item 'base'\n",
       "\\end{enumerate*}\n"
      ],
      "text/markdown": [
       "1. 'forcats'\n",
       "2. 'stringr'\n",
       "3. 'readr'\n",
       "4. 'tidyr'\n",
       "5. 'tibble'\n",
       "6. 'ggplot2'\n",
       "7. 'tidyverse'\n",
       "8. 'purrr'\n",
       "9. 'dplyr'\n",
       "10. 'stats'\n",
       "11. 'graphics'\n",
       "12. 'grDevices'\n",
       "13. 'utils'\n",
       "14. 'datasets'\n",
       "15. 'methods'\n",
       "16. 'base'\n",
       "\n",
       "\n"
      ],
      "text/plain": [
       " [1] \"forcats\"   \"stringr\"   \"readr\"     \"tidyr\"     \"tibble\"    \"ggplot2\"  \n",
       " [7] \"tidyverse\" \"purrr\"     \"dplyr\"     \"stats\"     \"graphics\"  \"grDevices\"\n",
       "[13] \"utils\"     \"datasets\"  \"methods\"   \"base\"     "
      ]
     },
     "metadata": {},
     "output_type": "display_data"
    }
   ],
   "source": [
    "library(\"tidyverse\") %>% suppressMessages()\n",
    "suppressMessages(library(\"dplyr\"))\n",
    "library(\"purrr\") %>% suppressMessages()\n"
   ]
  },
  {
   "cell_type": "code",
   "execution_count": 44,
   "id": "591a1497",
   "metadata": {},
   "outputs": [
    {
     "data": {
      "text/html": [
       "<dl class=dl-horizontal>\n",
       "\t<dt>(Intercept)</dt>\n",
       "\t\t<dd>1.08355803285051</dd>\n",
       "\t<dt>iris$Petal.Width</dt>\n",
       "\t\t<dd>2.22994049512186</dd>\n",
       "</dl>\n"
      ],
      "text/latex": [
       "\\begin{description*}\n",
       "\\item[(Intercept)] 1.08355803285051\n",
       "\\item[iris\\textbackslash{}\\$Petal.Width] 2.22994049512186\n",
       "\\end{description*}\n"
      ],
      "text/markdown": [
       "(Intercept)\n",
       ":   1.08355803285051iris$Petal.Width\n",
       ":   2.22994049512186\n",
       "\n"
      ],
      "text/plain": [
       "     (Intercept) iris$Petal.Width \n",
       "        1.083558         2.229940 "
      ]
     },
     "metadata": {},
     "output_type": "display_data"
    }
   ],
   "source": [
    "lengthcoef(lm(iris$Petal.Length~iris$Petal.Width))"
   ]
  },
  {
   "cell_type": "code",
   "execution_count": 47,
   "id": "e4b0f216",
   "metadata": {},
   "outputs": [
    {
     "ename": "ERROR",
     "evalue": "Error in rgb(0.7): 缺少参数\"green\",也没有缺省值\n",
     "output_type": "error",
     "traceback": [
      "Error in rgb(0.7): 缺少参数\"green\",也没有缺省值\nTraceback:\n",
      "1. plot(b ~ a, type = \"b\", bty = \"l\", xlab = \"value of a\", ylab = \"value of b\", \n .     col = rgb(0.7), lwd = 3, pch = 17, ylim = c(1, 5))",
      "2. plot.formula(b ~ a, type = \"b\", bty = \"l\", xlab = \"value of a\", \n .     ylab = \"value of b\", col = rgb(0.7), lwd = 3, pch = 17, ylim = c(1, \n .         5))",
      "3. lapply(m$..., eval, md, eframe)",
      "4. FUN(X[[i]], ...)",
      "5. FUN(X[[i]], ...)",
      "6. rgb(0.7)"
     ]
    }
   ],
   "source": []
  },
  {
   "cell_type": "code",
   "execution_count": 54,
   "id": "75ca4a76",
   "metadata": {
    "scrolled": true
   },
   "outputs": [
    {
     "data": {
      "text/html": [
       "<table>\n",
       "<thead><tr><th scope=col>Sepal.Length</th><th scope=col>Sepal.Width</th><th scope=col>Petal.Length</th><th scope=col>Petal.Width</th><th scope=col>Species</th></tr></thead>\n",
       "<tbody>\n",
       "\t<tr><td>5.1   </td><td>3.5   </td><td>1.4   </td><td>0.2   </td><td>setosa</td></tr>\n",
       "\t<tr><td>4.9   </td><td>3.0   </td><td>1.4   </td><td>0.2   </td><td>setosa</td></tr>\n",
       "\t<tr><td>4.7   </td><td>3.2   </td><td>1.3   </td><td>0.2   </td><td>setosa</td></tr>\n",
       "\t<tr><td>4.6   </td><td>3.1   </td><td>1.5   </td><td>0.2   </td><td>setosa</td></tr>\n",
       "\t<tr><td>5.0   </td><td>3.6   </td><td>1.4   </td><td>0.2   </td><td>setosa</td></tr>\n",
       "\t<tr><td>5.4   </td><td>3.9   </td><td>1.7   </td><td>0.4   </td><td>setosa</td></tr>\n",
       "</tbody>\n",
       "</table>\n"
      ],
      "text/latex": [
       "\\begin{tabular}{r|lllll}\n",
       " Sepal.Length & Sepal.Width & Petal.Length & Petal.Width & Species\\\\\n",
       "\\hline\n",
       "\t 5.1    & 3.5    & 1.4    & 0.2    & setosa\\\\\n",
       "\t 4.9    & 3.0    & 1.4    & 0.2    & setosa\\\\\n",
       "\t 4.7    & 3.2    & 1.3    & 0.2    & setosa\\\\\n",
       "\t 4.6    & 3.1    & 1.5    & 0.2    & setosa\\\\\n",
       "\t 5.0    & 3.6    & 1.4    & 0.2    & setosa\\\\\n",
       "\t 5.4    & 3.9    & 1.7    & 0.4    & setosa\\\\\n",
       "\\end{tabular}\n"
      ],
      "text/markdown": [
       "\n",
       "| Sepal.Length | Sepal.Width | Petal.Length | Petal.Width | Species |\n",
       "|---|---|---|---|---|\n",
       "| 5.1    | 3.5    | 1.4    | 0.2    | setosa |\n",
       "| 4.9    | 3.0    | 1.4    | 0.2    | setosa |\n",
       "| 4.7    | 3.2    | 1.3    | 0.2    | setosa |\n",
       "| 4.6    | 3.1    | 1.5    | 0.2    | setosa |\n",
       "| 5.0    | 3.6    | 1.4    | 0.2    | setosa |\n",
       "| 5.4    | 3.9    | 1.7    | 0.4    | setosa |\n",
       "\n"
      ],
      "text/plain": [
       "  Sepal.Length Sepal.Width Petal.Length Petal.Width Species\n",
       "1 5.1          3.5         1.4          0.2         setosa \n",
       "2 4.9          3.0         1.4          0.2         setosa \n",
       "3 4.7          3.2         1.3          0.2         setosa \n",
       "4 4.6          3.1         1.5          0.2         setosa \n",
       "5 5.0          3.6         1.4          0.2         setosa \n",
       "6 5.4          3.9         1.7          0.4         setosa "
      ]
     },
     "metadata": {},
     "output_type": "display_data"
    }
   ],
   "source": [
    "iris %>% head()\n",
    "\n",
    "lm1 <- lm(Petal.Length ~ Petal.Width, data = iris)\n",
    "kkk <- coef(summary(lm1))"
   ]
  },
  {
   "cell_type": "code",
   "execution_count": 56,
   "id": "4e37f38e",
   "metadata": {},
   "outputs": [
    {
     "data": {
      "text/html": [
       "<table>\n",
       "<thead><tr><th></th><th scope=col>Estimate</th><th scope=col>Std. Error</th><th scope=col>t value</th><th scope=col>Pr(&gt;|t|)</th></tr></thead>\n",
       "<tbody>\n",
       "\t<tr><th scope=row>(Intercept)</th><td>1.083558    </td><td>0.07296696  </td><td>14.84998    </td><td>4.043318e-31</td></tr>\n",
       "\t<tr><th scope=row>Petal.Width</th><td>2.229940    </td><td>0.05139623  </td><td>43.38724    </td><td>4.675004e-86</td></tr>\n",
       "</tbody>\n",
       "</table>\n"
      ],
      "text/latex": [
       "\\begin{tabular}{r|llll}\n",
       "  & Estimate & Std. Error & t value & Pr(>\\textbar{}t\\textbar{})\\\\\n",
       "\\hline\n",
       "\t(Intercept) & 1.083558     & 0.07296696   & 14.84998     & 4.043318e-31\\\\\n",
       "\tPetal.Width & 2.229940     & 0.05139623   & 43.38724     & 4.675004e-86\\\\\n",
       "\\end{tabular}\n"
      ],
      "text/markdown": [
       "\n",
       "| <!--/--> | Estimate | Std. Error | t value | Pr(>|t|) |\n",
       "|---|---|---|---|---|\n",
       "| (Intercept) | 1.083558     | 0.07296696   | 14.84998     | 4.043318e-31 |\n",
       "| Petal.Width | 2.229940     | 0.05139623   | 43.38724     | 4.675004e-86 |\n",
       "\n"
      ],
      "text/plain": [
       "            Estimate Std. Error t value  Pr(>|t|)    \n",
       "(Intercept) 1.083558 0.07296696 14.84998 4.043318e-31\n",
       "Petal.Width 2.229940 0.05139623 43.38724 4.675004e-86"
      ]
     },
     "metadata": {},
     "output_type": "display_data"
    }
   ],
   "source": [
    "kkk"
   ]
  },
  {
   "cell_type": "code",
   "execution_count": 58,
   "id": "8125ed30",
   "metadata": {},
   "outputs": [
    {
     "data": {
      "text/html": [
       "<table>\n",
       "<thead><tr><th></th><th scope=col>Estimate</th><th scope=col>t value</th><th scope=col>Pr(&gt;|t|)</th></tr></thead>\n",
       "<tbody>\n",
       "\t<tr><th scope=row>(Intercept)</th><td>1.083558    </td><td>14.84998    </td><td>4.043318e-31</td></tr>\n",
       "\t<tr><th scope=row>Petal.Width</th><td>2.229940    </td><td>43.38724    </td><td>4.675004e-86</td></tr>\n",
       "</tbody>\n",
       "</table>\n"
      ],
      "text/latex": [
       "\\begin{tabular}{r|lll}\n",
       "  & Estimate & t value & Pr(>\\textbar{}t\\textbar{})\\\\\n",
       "\\hline\n",
       "\t(Intercept) & 1.083558     & 14.84998     & 4.043318e-31\\\\\n",
       "\tPetal.Width & 2.229940     & 43.38724     & 4.675004e-86\\\\\n",
       "\\end{tabular}\n"
      ],
      "text/markdown": [
       "\n",
       "| <!--/--> | Estimate | t value | Pr(>|t|) |\n",
       "|---|---|---|---|\n",
       "| (Intercept) | 1.083558     | 14.84998     | 4.043318e-31 |\n",
       "| Petal.Width | 2.229940     | 43.38724     | 4.675004e-86 |\n",
       "\n"
      ],
      "text/plain": [
       "            Estimate t value  Pr(>|t|)    \n",
       "(Intercept) 1.083558 14.84998 4.043318e-31\n",
       "Petal.Width 2.229940 43.38724 4.675004e-86"
      ]
     },
     "metadata": {},
     "output_type": "display_data"
    }
   ],
   "source": [
    "kkk %>% as.data.frame() %>% select(., \"Estimate\", \"t value\", \"Pr(>|t|)\")"
   ]
  },
  {
   "cell_type": "code",
   "execution_count": 59,
   "id": "569f1b81",
   "metadata": {},
   "outputs": [],
   "source": [
    "?as.data.frame"
   ]
  },
  {
   "cell_type": "code",
   "execution_count": null,
   "id": "8c50c396",
   "metadata": {},
   "outputs": [],
   "source": []
  }
 ],
 "metadata": {
  "kernelspec": {
   "display_name": "R",
   "language": "R",
   "name": "ir"
  },
  "language_info": {
   "codemirror_mode": "r",
   "file_extension": ".r",
   "mimetype": "text/x-r-source",
   "name": "R",
   "pygments_lexer": "r",
   "version": "3.6.1"
  }
 },
 "nbformat": 4,
 "nbformat_minor": 5
}
