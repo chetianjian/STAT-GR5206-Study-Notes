{
 "cells": [
  {
   "cell_type": "markdown",
   "id": "a8d515bd",
   "metadata": {},
   "source": [
    "# Character Strings, Regular Expressions, and Web Scraping"
   ]
  },
  {
   "cell_type": "markdown",
   "id": "3ac9cc59",
   "metadata": {},
   "source": [
    "# Textual Data\n",
    "## Definition\n",
    "• A character is a symbol in a written language - anything you can enter on a keyboard.\n",
    "\n",
    "Examples: ‘Q’, ‘*’, ‘+’, ‘d’, ‘x’, ‘ ’, ‘{’ etc.\n",
    "\n",
    "• A string is a sequence of characters.\n",
    "\n",
    "Examples: ‘Columbia University’, ‘cat, squirrel, hedgehog’, etc."
   ]
  },
  {
   "cell_type": "code",
   "execution_count": 1,
   "id": "6940dff8",
   "metadata": {},
   "outputs": [
    {
     "data": {
      "text/html": [
       "'character'"
      ],
      "text/latex": [
       "'character'"
      ],
      "text/markdown": [
       "'character'"
      ],
      "text/plain": [
       "[1] \"character\""
      ]
     },
     "metadata": {},
     "output_type": "display_data"
    }
   ],
   "source": [
    "mode('d')"
   ]
  },
  {
   "cell_type": "code",
   "execution_count": 2,
   "id": "d44da825",
   "metadata": {},
   "outputs": [
    {
     "data": {
      "text/html": [
       "'character'"
      ],
      "text/latex": [
       "'character'"
      ],
      "text/markdown": [
       "'character'"
      ],
      "text/plain": [
       "[1] \"character\""
      ]
     },
     "metadata": {},
     "output_type": "display_data"
    }
   ],
   "source": [
    "mode('cat, squirrel')"
   ]
  },
  {
   "cell_type": "markdown",
   "id": "828c351f",
   "metadata": {},
   "source": [
    "## Whitespace\n",
    "As noted above, whitespace ‘ ’ is considered a character and multiple spaces ‘ ’ a string"
   ]
  },
  {
   "cell_type": "code",
   "execution_count": 3,
   "id": "0383517a",
   "metadata": {},
   "outputs": [
    {
     "data": {
      "text/html": [
       "'character'"
      ],
      "text/latex": [
       "'character'"
      ],
      "text/markdown": [
       "'character'"
      ],
      "text/plain": [
       "[1] \"character\""
      ]
     },
     "metadata": {},
     "output_type": "display_data"
    }
   ],
   "source": [
    "mode(\" \")"
   ]
  },
  {
   "cell_type": "code",
   "execution_count": 4,
   "id": "4f8f406c",
   "metadata": {},
   "outputs": [
    {
     "data": {
      "text/html": [
       "1"
      ],
      "text/latex": [
       "1"
      ],
      "text/markdown": [
       "1"
      ],
      "text/plain": [
       "[1] 1"
      ]
     },
     "metadata": {},
     "output_type": "display_data"
    },
    {
     "data": {
      "text/html": [
       "2"
      ],
      "text/latex": [
       "2"
      ],
      "text/markdown": [
       "2"
      ],
      "text/plain": [
       "[1] 2"
      ]
     },
     "metadata": {},
     "output_type": "display_data"
    },
    {
     "data": {
      "text/html": [
       "0"
      ],
      "text/latex": [
       "0"
      ],
      "text/markdown": [
       "0"
      ],
      "text/plain": [
       "[1] 0"
      ]
     },
     "metadata": {},
     "output_type": "display_data"
    }
   ],
   "source": [
    "nchar(\" \"); nchar(\"  \"); nchar(\"\")"
   ]
  },
  {
   "cell_type": "markdown",
   "id": "b5c4b9fd",
   "metadata": {},
   "source": [
    "## Special Characters\n",
    "• Quotes within a string: \\\\\"\n",
    "\n",
    "• Tab: \\\\t\n",
    "\n",
    "• New Line: \\\\n"
   ]
  },
  {
   "cell_type": "markdown",
   "id": "899ed476",
   "metadata": {},
   "source": [
    "## If strings are elements of an object,\n",
    "• length()返回一个object中字符串的数量，并非字符串中character的数量\n",
    "\n",
    "• nchar()返回字符串中character的数量\n",
    "\n",
    "• nchar() is vectorized, like most R function"
   ]
  },
  {
   "cell_type": "code",
   "execution_count": 5,
   "id": "a10d8d39",
   "metadata": {},
   "outputs": [
    {
     "data": {
      "text/html": [
       "1"
      ],
      "text/latex": [
       "1"
      ],
      "text/markdown": [
       "1"
      ],
      "text/plain": [
       "[1] 1"
      ]
     },
     "metadata": {},
     "output_type": "display_data"
    },
    {
     "data": {
      "text/html": [
       "3"
      ],
      "text/latex": [
       "3"
      ],
      "text/markdown": [
       "3"
      ],
      "text/plain": [
       "[1] 3"
      ]
     },
     "metadata": {},
     "output_type": "display_data"
    },
    {
     "data": {
      "text/html": [
       "23"
      ],
      "text/latex": [
       "23"
      ],
      "text/markdown": [
       "23"
      ],
      "text/plain": [
       "[1] 23"
      ]
     },
     "metadata": {},
     "output_type": "display_data"
    },
    {
     "data": {
      "text/html": [
       "<ol class=list-inline>\n",
       "\t<li>3</li>\n",
       "\t<li>8</li>\n",
       "\t<li>8</li>\n",
       "</ol>\n"
      ],
      "text/latex": [
       "\\begin{enumerate*}\n",
       "\\item 3\n",
       "\\item 8\n",
       "\\item 8\n",
       "\\end{enumerate*}\n"
      ],
      "text/markdown": [
       "1. 3\n",
       "2. 8\n",
       "3. 8\n",
       "\n",
       "\n"
      ],
      "text/plain": [
       "[1] 3 8 8"
      ]
     },
     "metadata": {},
     "output_type": "display_data"
    }
   ],
   "source": [
    "# 一共一个长字符串\n",
    "length(\"cat, squirrel, hedgehog\")\n",
    "\n",
    "# 三个字符串储存于一个数组中，所以长度为3\n",
    "length(c(\"cat\", \"squirrel\", \"hedgehog\"))\n",
    "\n",
    "# 长字符串中一共23个字符，包括标点与空格\n",
    "nchar(\"cat, squirrel, hedgehog\") # Not 25\n",
    "\n",
    "# 一个数组中包含三个字符串，由于nchar() is vectorized， 因此分别返回各自的字符数\n",
    "nchar(c(\"cat\", \"squirrel\", \"hedgehog\"))"
   ]
  },
  {
   "cell_type": "markdown",
   "id": "f4236171",
   "metadata": {},
   "source": [
    "## Printing Strings\n",
    "\n",
    "• 可以使用print()，但经常使用cat()直接print character strings，因为cat()强制将输入的部分内容转换为字符串，所以在可能报错的时候实用。"
   ]
  },
  {
   "cell_type": "code",
   "execution_count": 6,
   "id": "ee9e68e6",
   "metadata": {},
   "outputs": [
    {
     "name": "stdout",
     "output_type": "stream",
     "text": [
      "cat, squirrelI have 6 cats and 7 hedgehogs as pets."
     ]
    }
   ],
   "source": [
    "cat(\"cat, squirrel\")\n",
    "\n",
    "x <- 6\n",
    "y <- 7\n",
    "cat(\"I have\", x, \"cats and\", y, \"hedgehogs as pets.\")"
   ]
  },
  {
   "cell_type": "code",
   "execution_count": 7,
   "id": "beedd027",
   "metadata": {
    "scrolled": true
   },
   "outputs": [
    {
     "name": "stdout",
     "output_type": "stream",
     "text": [
      "[1] \"cat, \\n squirrel\"\n"
     ]
    },
    {
     "data": {
      "text/html": [
       "0"
      ],
      "text/latex": [
       "0"
      ],
      "text/markdown": [
       "0"
      ],
      "text/plain": [
       "[1] 0"
      ]
     },
     "metadata": {},
     "output_type": "display_data"
    },
    {
     "name": "stdout",
     "output_type": "stream",
     "text": [
      "cat, \n",
      "squirrel"
     ]
    },
    {
     "data": {
      "text/html": [
       "0"
      ],
      "text/latex": [
       "0"
      ],
      "text/markdown": [
       "0"
      ],
      "text/plain": [
       "[1] 0"
      ]
     },
     "metadata": {},
     "output_type": "display_data"
    },
    {
     "name": "stdout",
     "output_type": "stream",
     "text": [
      "cat, \n",
      " squirrel"
     ]
    }
   ],
   "source": [
    "print(\"cat, \\n squirrel\")\n",
    "0\n",
    "cat(\"cat, \\nsquirrel\")\n",
    "0\n",
    "cat(\"cat, \\n squirrel\")"
   ]
  },
  {
   "cell_type": "code",
   "execution_count": 8,
   "id": "8adc1a34",
   "metadata": {
    "scrolled": true
   },
   "outputs": [
    {
     "name": "stdout",
     "output_type": "stream",
     "text": [
      "[1] \"In R, an \\\"array\\\" is a multi-dimension matrix.\"\n"
     ]
    },
    {
     "data": {
      "text/html": [
       "0"
      ],
      "text/latex": [
       "0"
      ],
      "text/markdown": [
       "0"
      ],
      "text/plain": [
       "[1] 0"
      ]
     },
     "metadata": {},
     "output_type": "display_data"
    },
    {
     "name": "stdout",
     "output_type": "stream",
     "text": [
      "A group of hedgehogs is called an \"array\"."
     ]
    }
   ],
   "source": [
    "print(\"In R, an \\\"array\\\" is a multi-dimension matrix.\")\n",
    "0\n",
    "cat(\"A group of hedgehogs is called an \\\"array\\\".\")"
   ]
  },
  {
   "cell_type": "markdown",
   "id": "2707ee78",
   "metadata": {},
   "source": [
    "## Task\n",
    "\n",
    "Use print() and cat() to print the following in R: \"Columbia\\tUniversity\""
   ]
  },
  {
   "cell_type": "code",
   "execution_count": 9,
   "id": "83e53861",
   "metadata": {
    "scrolled": true
   },
   "outputs": [
    {
     "name": "stdout",
     "output_type": "stream",
     "text": [
      "[1] \"Columbia\\tUniversity\"\n",
      "Columbia\tUniversity"
     ]
    }
   ],
   "source": [
    "print(\"Columbia\\tUniversity\")\n",
    "cat(\"Columbia\\tUniversity\")"
   ]
  },
  {
   "cell_type": "markdown",
   "id": "c8e62110",
   "metadata": {},
   "source": [
    "## Substrings\n",
    "• 一个子字符串(substring)是从一个更大的字符串中提取的小字符串，但它本身也是一个字符串。\n",
    "\n",
    "• 注意，我们不能使用通常的切片方法（例如[[]]或[]）进行这种提取，因为 字符串并不是vector或list。\n",
    "\n",
    "• substr()函数可以提取或者改变字符串中的某一部分。\n",
    "\n",
    "• substr(string, start = , stop = )返回给定字符串中从start至stop位置的substring。"
   ]
  },
  {
   "cell_type": "code",
   "execution_count": 10,
   "id": "dcb8cb4c",
   "metadata": {},
   "outputs": [
    {
     "data": {
      "text/html": [
       "'as Bo'"
      ],
      "text/latex": [
       "'as Bo'"
      ],
      "text/markdown": [
       "'as Bo'"
      ],
      "text/plain": [
       "[1] \"as Bo\""
      ]
     },
     "metadata": {},
     "output_type": "display_data"
    }
   ],
   "source": [
    "# 提取从位置8到位置12的子字符串\n",
    "phrase <- \"Christmas Bonus\"\n",
    "substr(phrase, start = 8, stop = 12)"
   ]
  },
  {
   "cell_type": "code",
   "execution_count": 11,
   "id": "492c3c88",
   "metadata": {},
   "outputs": [
    {
     "data": {
      "text/html": [
       "'Christmas Bogus'"
      ],
      "text/latex": [
       "'Christmas Bogus'"
      ],
      "text/markdown": [
       "'Christmas Bogus'"
      ],
      "text/plain": [
       "[1] \"Christmas Bogus\""
      ]
     },
     "metadata": {},
     "output_type": "display_data"
    }
   ],
   "source": [
    "# 将字符串中位于位置13的字符替换为\"g\"\n",
    "substr(phrase, start = 13, stop = 13) <- \"g\"\n",
    "phrase"
   ]
  },
  {
   "cell_type": "code",
   "execution_count": 12,
   "id": "6fdd4528",
   "metadata": {
    "scrolled": true
   },
   "outputs": [
    {
     "data": {
      "text/html": [
       "<ol class=list-inline>\n",
       "\t<li>'ca'</li>\n",
       "\t<li>'sq'</li>\n",
       "\t<li>'he'</li>\n",
       "</ol>\n"
      ],
      "text/latex": [
       "\\begin{enumerate*}\n",
       "\\item 'ca'\n",
       "\\item 'sq'\n",
       "\\item 'he'\n",
       "\\end{enumerate*}\n"
      ],
      "text/markdown": [
       "1. 'ca'\n",
       "2. 'sq'\n",
       "3. 'he'\n",
       "\n",
       "\n"
      ],
      "text/plain": [
       "[1] \"ca\" \"sq\" \"he\""
      ]
     },
     "metadata": {},
     "output_type": "display_data"
    },
    {
     "data": {
      "text/html": [
       "<ol class=list-inline>\n",
       "\t<li>'at'</li>\n",
       "\t<li>'el'</li>\n",
       "\t<li>'og'</li>\n",
       "</ol>\n"
      ],
      "text/latex": [
       "\\begin{enumerate*}\n",
       "\\item 'at'\n",
       "\\item 'el'\n",
       "\\item 'og'\n",
       "\\end{enumerate*}\n"
      ],
      "text/markdown": [
       "1. 'at'\n",
       "2. 'el'\n",
       "3. 'og'\n",
       "\n",
       "\n"
      ],
      "text/plain": [
       "[1] \"at\" \"el\" \"og\""
      ]
     },
     "metadata": {},
     "output_type": "display_data"
    },
    {
     "data": {
      "text/html": [
       "<ol class=list-inline>\n",
       "\t<li>''</li>\n",
       "\t<li>'i'</li>\n",
       "\t<li>'g'</li>\n",
       "</ol>\n"
      ],
      "text/latex": [
       "\\begin{enumerate*}\n",
       "\\item ''\n",
       "\\item 'i'\n",
       "\\item 'g'\n",
       "\\end{enumerate*}\n"
      ],
      "text/markdown": [
       "1. ''\n",
       "2. 'i'\n",
       "3. 'g'\n",
       "\n",
       "\n"
      ],
      "text/plain": [
       "[1] \"\"  \"i\" \"g\""
      ]
     },
     "metadata": {},
     "output_type": "display_data"
    }
   ],
   "source": [
    "# substr()支持向量操作(vector operation)\n",
    "fav_animals <- c(\"cat\", \"squirrel\", \"hedgehog\")\n",
    "\n",
    "# 对于数组中每个元素，分别提取从位置1到位置2的子字符串\n",
    "substr(fav_animals, start = 1, stop = 2)\n",
    "\n",
    "# 对于数组中每个元素，分别提取倒数两个字符\n",
    "substr(fav_animals, nchar(fav_animals)-1, nchar(fav_animals))\n",
    "\n",
    "# 对于数组中每个元素，分别提取位于位置4的字符\n",
    "substr(fav_animals, start = 4, stop = 4)"
   ]
  },
  {
   "cell_type": "markdown",
   "id": "d923d223",
   "metadata": {},
   "source": [
    "## Dividing Strings into Vectors\n",
    "\n",
    "strsplit(string, split)函数将输入的字符串，按输入split的pattern进行分割，并储存在list中。"
   ]
  },
  {
   "cell_type": "code",
   "execution_count": 13,
   "id": "1f51c36c",
   "metadata": {},
   "outputs": [
    {
     "data": {
      "text/html": [
       "<ol>\n",
       "\t<li><ol class=list-inline>\n",
       "\t<li>'Lecture'</li>\n",
       "\t<li>' Lab'</li>\n",
       "\t<li>' Homework'</li>\n",
       "</ol>\n",
       "</li>\n",
       "</ol>\n"
      ],
      "text/latex": [
       "\\begin{enumerate}\n",
       "\\item \\begin{enumerate*}\n",
       "\\item 'Lecture'\n",
       "\\item ' Lab'\n",
       "\\item ' Homework'\n",
       "\\end{enumerate*}\n",
       "\n",
       "\\end{enumerate}\n"
      ],
      "text/markdown": [
       "1. 1. 'Lecture'\n",
       "2. ' Lab'\n",
       "3. ' Homework'\n",
       "\n",
       "\n",
       "\n",
       "\n",
       "\n"
      ],
      "text/plain": [
       "[[1]]\n",
       "[1] \"Lecture\"   \" Lab\"      \" Homework\"\n"
      ]
     },
     "metadata": {},
     "output_type": "display_data"
    },
    {
     "data": {
      "text/html": [
       "<ol>\n",
       "\t<li><ol class=list-inline>\n",
       "\t<li>'Lecture'</li>\n",
       "\t<li>'Lab'</li>\n",
       "\t<li>'Homework'</li>\n",
       "</ol>\n",
       "</li>\n",
       "</ol>\n"
      ],
      "text/latex": [
       "\\begin{enumerate}\n",
       "\\item \\begin{enumerate*}\n",
       "\\item 'Lecture'\n",
       "\\item 'Lab'\n",
       "\\item 'Homework'\n",
       "\\end{enumerate*}\n",
       "\n",
       "\\end{enumerate}\n"
      ],
      "text/markdown": [
       "1. 1. 'Lecture'\n",
       "2. 'Lab'\n",
       "3. 'Homework'\n",
       "\n",
       "\n",
       "\n",
       "\n",
       "\n"
      ],
      "text/plain": [
       "[[1]]\n",
       "[1] \"Lecture\"  \"Lab\"      \"Homework\"\n"
      ]
     },
     "metadata": {},
     "output_type": "display_data"
    }
   ],
   "source": [
    "todo <- \"Lecture, Lab, Homework\"\n",
    "strsplit(todo, split = \",\")\n",
    "\n",
    "# 去除空格\n",
    "strsplit(todo, split = \", \")"
   ]
  },
  {
   "cell_type": "code",
   "execution_count": 14,
   "id": "1462d55c",
   "metadata": {},
   "outputs": [
    {
     "data": {
      "text/html": [
       "<ol>\n",
       "\t<li><ol class=list-inline>\n",
       "\t<li>'Lecture'</li>\n",
       "\t<li>' Lab'</li>\n",
       "\t<li>' Homework'</li>\n",
       "</ol>\n",
       "</li>\n",
       "\t<li><ol class=list-inline>\n",
       "\t<li>'Midterm'</li>\n",
       "\t<li>' Final'</li>\n",
       "</ol>\n",
       "</li>\n",
       "</ol>\n"
      ],
      "text/latex": [
       "\\begin{enumerate}\n",
       "\\item \\begin{enumerate*}\n",
       "\\item 'Lecture'\n",
       "\\item ' Lab'\n",
       "\\item ' Homework'\n",
       "\\end{enumerate*}\n",
       "\n",
       "\\item \\begin{enumerate*}\n",
       "\\item 'Midterm'\n",
       "\\item ' Final'\n",
       "\\end{enumerate*}\n",
       "\n",
       "\\end{enumerate}\n"
      ],
      "text/markdown": [
       "1. 1. 'Lecture'\n",
       "2. ' Lab'\n",
       "3. ' Homework'\n",
       "\n",
       "\n",
       "\n",
       "2. 1. 'Midterm'\n",
       "2. ' Final'\n",
       "\n",
       "\n",
       "\n",
       "\n",
       "\n"
      ],
      "text/plain": [
       "[[1]]\n",
       "[1] \"Lecture\"   \" Lab\"      \" Homework\"\n",
       "\n",
       "[[2]]\n",
       "[1] \"Midterm\" \" Final\" \n"
      ]
     },
     "metadata": {},
     "output_type": "display_data"
    },
    {
     "data": {
      "text/html": [
       "'list'"
      ],
      "text/latex": [
       "'list'"
      ],
      "text/markdown": [
       "'list'"
      ],
      "text/plain": [
       "[1] \"list\""
      ]
     },
     "metadata": {},
     "output_type": "display_data"
    }
   ],
   "source": [
    "# 对于输入的一个vector，pattern将循环作用于其每一个元素。\n",
    "todo <- \"Lecture, Lab, Homework\"\n",
    "strsplit(c(todo, \"Midterm, Final\"), split = \",\")\n",
    "\n",
    "# 可以发现返回的是一个list\n",
    "mode(strsplit(c(todo, \"Midterm, Final\"), split = \",\"))"
   ]
  },
  {
   "cell_type": "markdown",
   "id": "dc346008",
   "metadata": {},
   "source": [
    "## Tasks\n",
    "• Make a vector of three elements which are \"Columbia\", \"slumber party\", and\"sugarplum\". Make a call to substr() that returns the \"lum\" from each element of the vector. The output should be \"lum\" \"lum\" \"lum\"\n",
    "\n",
    "• Use strsplit() on the vector you created splitting on \"lum\". Output should be a list of length three"
   ]
  },
  {
   "cell_type": "code",
   "execution_count": 15,
   "id": "8bc9ff04",
   "metadata": {},
   "outputs": [
    {
     "data": {
      "text/html": [
       "<ol class=list-inline>\n",
       "\t<li>'lum'</li>\n",
       "\t<li>'lum'</li>\n",
       "\t<li>'lum'</li>\n",
       "</ol>\n"
      ],
      "text/latex": [
       "\\begin{enumerate*}\n",
       "\\item 'lum'\n",
       "\\item 'lum'\n",
       "\\item 'lum'\n",
       "\\end{enumerate*}\n"
      ],
      "text/markdown": [
       "1. 'lum'\n",
       "2. 'lum'\n",
       "3. 'lum'\n",
       "\n",
       "\n"
      ],
      "text/plain": [
       "[1] \"lum\" \"lum\" \"lum\""
      ]
     },
     "metadata": {},
     "output_type": "display_data"
    }
   ],
   "source": [
    "task1 <- c(\"Columbia\", \"slumber party\", \"sugarplum\")\n",
    "substr(task1, start = c(3, 2, 7), stop = c(5, 4, 9))"
   ]
  },
  {
   "cell_type": "code",
   "execution_count": 16,
   "id": "b4d845e0",
   "metadata": {
    "scrolled": true
   },
   "outputs": [
    {
     "data": {
      "text/html": [
       "<ol>\n",
       "\t<li><ol class=list-inline>\n",
       "\t<li>'Co'</li>\n",
       "\t<li>'bia'</li>\n",
       "</ol>\n",
       "</li>\n",
       "\t<li><ol class=list-inline>\n",
       "\t<li>'s'</li>\n",
       "\t<li>'ber party'</li>\n",
       "</ol>\n",
       "</li>\n",
       "\t<li>'sugarp'</li>\n",
       "</ol>\n"
      ],
      "text/latex": [
       "\\begin{enumerate}\n",
       "\\item \\begin{enumerate*}\n",
       "\\item 'Co'\n",
       "\\item 'bia'\n",
       "\\end{enumerate*}\n",
       "\n",
       "\\item \\begin{enumerate*}\n",
       "\\item 's'\n",
       "\\item 'ber party'\n",
       "\\end{enumerate*}\n",
       "\n",
       "\\item 'sugarp'\n",
       "\\end{enumerate}\n"
      ],
      "text/markdown": [
       "1. 1. 'Co'\n",
       "2. 'bia'\n",
       "\n",
       "\n",
       "\n",
       "2. 1. 's'\n",
       "2. 'ber party'\n",
       "\n",
       "\n",
       "\n",
       "3. 'sugarp'\n",
       "\n",
       "\n"
      ],
      "text/plain": [
       "[[1]]\n",
       "[1] \"Co\"  \"bia\"\n",
       "\n",
       "[[2]]\n",
       "[1] \"s\"         \"ber party\"\n",
       "\n",
       "[[3]]\n",
       "[1] \"sugarp\"\n"
      ]
     },
     "metadata": {},
     "output_type": "display_data"
    }
   ],
   "source": [
    "strsplit(task1, split = \"lum\")"
   ]
  },
  {
   "cell_type": "markdown",
   "id": "0e68e730",
   "metadata": {},
   "source": [
    "## Building Strings from Multiple Parts\n",
    "\n",
    "paste()函数将许多字符串连接为一个长字符串。\n",
    "\n",
    "### 注意！如果目的是想将输入的字符串直接连接，则字符串应该分别输入，而不应该以vector的形式输入！例如paste(c('a', 'b', 'c'))和paste('a', 'b', 'c')是不同的！"
   ]
  },
  {
   "cell_type": "code",
   "execution_count": 17,
   "id": "785d76c5",
   "metadata": {},
   "outputs": [
    {
     "data": {
      "text/html": [
       "'cat squirrel hedgehog'"
      ],
      "text/latex": [
       "'cat squirrel hedgehog'"
      ],
      "text/markdown": [
       "'cat squirrel hedgehog'"
      ],
      "text/plain": [
       "[1] \"cat squirrel hedgehog\""
      ]
     },
     "metadata": {},
     "output_type": "display_data"
    },
    {
     "data": {
      "text/html": [
       "'catsquirrelhedgehog'"
      ],
      "text/latex": [
       "'catsquirrelhedgehog'"
      ],
      "text/markdown": [
       "'catsquirrelhedgehog'"
      ],
      "text/plain": [
       "[1] \"catsquirrelhedgehog\""
      ]
     },
     "metadata": {},
     "output_type": "display_data"
    },
    {
     "data": {
      "text/html": [
       "'cat, squirrel, hedgehog'"
      ],
      "text/latex": [
       "'cat, squirrel, hedgehog'"
      ],
      "text/markdown": [
       "'cat, squirrel, hedgehog'"
      ],
      "text/plain": [
       "[1] \"cat, squirrel, hedgehog\""
      ]
     },
     "metadata": {},
     "output_type": "display_data"
    },
    {
     "data": {
      "text/html": [
       "<ol class=list-inline>\n",
       "\t<li>'cat 1'</li>\n",
       "\t<li>'squirrel 2'</li>\n",
       "\t<li>'hedgehog 3'</li>\n",
       "</ol>\n"
      ],
      "text/latex": [
       "\\begin{enumerate*}\n",
       "\\item 'cat 1'\n",
       "\\item 'squirrel 2'\n",
       "\\item 'hedgehog 3'\n",
       "\\end{enumerate*}\n"
      ],
      "text/markdown": [
       "1. 'cat 1'\n",
       "2. 'squirrel 2'\n",
       "3. 'hedgehog 3'\n",
       "\n",
       "\n"
      ],
      "text/plain": [
       "[1] \"cat 1\"      \"squirrel 2\" \"hedgehog 3\""
      ]
     },
     "metadata": {},
     "output_type": "display_data"
    },
    {
     "data": {
      "text/html": [
       "<ol class=list-inline>\n",
       "\t<li>'cat 1'</li>\n",
       "\t<li>'squirrel 2'</li>\n",
       "\t<li>'hedgehog 1'</li>\n",
       "</ol>\n"
      ],
      "text/latex": [
       "\\begin{enumerate*}\n",
       "\\item 'cat 1'\n",
       "\\item 'squirrel 2'\n",
       "\\item 'hedgehog 1'\n",
       "\\end{enumerate*}\n"
      ],
      "text/markdown": [
       "1. 'cat 1'\n",
       "2. 'squirrel 2'\n",
       "3. 'hedgehog 1'\n",
       "\n",
       "\n"
      ],
      "text/plain": [
       "[1] \"cat 1\"      \"squirrel 2\" \"hedgehog 1\""
      ]
     },
     "metadata": {},
     "output_type": "display_data"
    }
   ],
   "source": [
    "# 将三个字符串以默认空格的方式连接\n",
    "paste(\"cat\", \"squirrel\", \"hedgehog\")\n",
    "\n",
    "# 将三个字符串直接连qw接\n",
    "paste(\"cat\", \"squirrel\", \"hedgehog\", sep = \"\")\n",
    "\n",
    "# 将三个字符串以“逗号加一个空格”的方式连接\n",
    "paste(\"cat\", \"squirrel\", \"hedgehog\", sep = \", \")\n",
    "\n",
    "# 将三个字符串与1：3中匹配的各项以默认空格的方式分别连接\n",
    "paste(c(\"cat\", \"squirrel\", \"hedgehog\"), 1:3)\n",
    "\n",
    "# 将三个字符串与1：2中匹配的各项以默认空格的方式分别连接\n",
    "# 注意到此处1：2仅有两个元素，故第三个字符串重新再与1以空格连接\n",
    "paste(c(\"cat\", \"squirrel\", \"hedgehog\"), 1:2)"
   ]
  },
  {
   "cell_type": "code",
   "execution_count": 18,
   "id": "19258ce7",
   "metadata": {
    "scrolled": true
   },
   "outputs": [
    {
     "data": {
      "text/html": [
       "<ol class=list-inline>\n",
       "\t<li>'cat ( 1 )'</li>\n",
       "\t<li>'squirrel ( 2 )'</li>\n",
       "\t<li>'hedgehog ( 3 )'</li>\n",
       "</ol>\n"
      ],
      "text/latex": [
       "\\begin{enumerate*}\n",
       "\\item 'cat ( 1 )'\n",
       "\\item 'squirrel ( 2 )'\n",
       "\\item 'hedgehog ( 3 )'\n",
       "\\end{enumerate*}\n"
      ],
      "text/markdown": [
       "1. 'cat ( 1 )'\n",
       "2. 'squirrel ( 2 )'\n",
       "3. 'hedgehog ( 3 )'\n",
       "\n",
       "\n"
      ],
      "text/plain": [
       "[1] \"cat ( 1 )\"      \"squirrel ( 2 )\" \"hedgehog ( 3 )\""
      ]
     },
     "metadata": {},
     "output_type": "display_data"
    },
    {
     "data": {
      "text/html": [
       "<ol class=list-inline>\n",
       "\t<li>'cat(1)'</li>\n",
       "\t<li>'squirrel(2)'</li>\n",
       "\t<li>'hedgehog(3)'</li>\n",
       "</ol>\n"
      ],
      "text/latex": [
       "\\begin{enumerate*}\n",
       "\\item 'cat(1)'\n",
       "\\item 'squirrel(2)'\n",
       "\\item 'hedgehog(3)'\n",
       "\\end{enumerate*}\n"
      ],
      "text/markdown": [
       "1. 'cat(1)'\n",
       "2. 'squirrel(2)'\n",
       "3. 'hedgehog(3)'\n",
       "\n",
       "\n"
      ],
      "text/plain": [
       "[1] \"cat(1)\"      \"squirrel(2)\" \"hedgehog(3)\""
      ]
     },
     "metadata": {},
     "output_type": "display_data"
    },
    {
     "data": {
      "text/html": [
       "<ol class=list-inline>\n",
       "\t<li>'cat (1)'</li>\n",
       "\t<li>'squirrel (2)'</li>\n",
       "\t<li>'hedgehog (3)'</li>\n",
       "</ol>\n"
      ],
      "text/latex": [
       "\\begin{enumerate*}\n",
       "\\item 'cat (1)'\n",
       "\\item 'squirrel (2)'\n",
       "\\item 'hedgehog (3)'\n",
       "\\end{enumerate*}\n"
      ],
      "text/markdown": [
       "1. 'cat (1)'\n",
       "2. 'squirrel (2)'\n",
       "3. 'hedgehog (3)'\n",
       "\n",
       "\n"
      ],
      "text/plain": [
       "[1] \"cat (1)\"      \"squirrel (2)\" \"hedgehog (3)\""
      ]
     },
     "metadata": {},
     "output_type": "display_data"
    }
   ],
   "source": [
    "# 此处，\"(\"和\")\"分别代表(和)的字符，所以后半部分实际上是(, 1:3, )，可以视作：\n",
    "# (, 1, ) 和 (, 2, ) 和 (, 3, )\n",
    "# 因此，这是将三个字符串分别与(, 1, ) 和 (, 2, ) 和 (, 3, )以默认空格的方式连接\n",
    "paste(c(\"cat\", \"squirrel\", \"hedgehog\"), \"(\", 1:3, \")\")\n",
    "\n",
    "# 这里去除了默认的空格连接方式。注意！由此可知，上一句代码返回的结果中，( 1 )中的空格\n",
    "# 并非是代码中的空格所带来，而是默认方式所带来。代码中的空格只是为了美观。\n",
    "paste(c(\"cat\", \"squirrel\", \"hedgehog\"), \"(\", 1:3, \")\", sep = \"\")\n",
    "\n",
    "# 注意到，这里比比上一句代码在(之前多了一个空格，这个空格起作用的原因是它在字符串中，\n",
    "# 而并非是美观的空格。因此我们去除了默认的空格连接方式，人为地使字母与括号以空格分开。\n",
    "paste(c(\"cat\", \"squirrel\", \"hedgehog\"), \" (\", 1:3, \")\", sep = \"\")"
   ]
  },
  {
   "cell_type": "markdown",
   "id": "9419edcb",
   "metadata": {},
   "source": [
    "# Exercise\n",
    "What happens when you pass a vector to the sep argument?"
   ]
  },
  {
   "cell_type": "code",
   "execution_count": 19,
   "id": "6988741c",
   "metadata": {
    "scrolled": false
   },
   "outputs": [
    {
     "data": {
      "text/html": [
       "<ol class=list-inline>\n",
       "\t<li><span style=white-space:pre-wrap>'cat  ( 1 )'</span></li>\n",
       "\t<li><span style=white-space:pre-wrap>'squirrel  ( 2 )'</span></li>\n",
       "\t<li><span style=white-space:pre-wrap>'hedgehog  ( 3 )'</span></li>\n",
       "</ol>\n"
      ],
      "text/latex": [
       "\\begin{enumerate*}\n",
       "\\item 'cat  ( 1 )'\n",
       "\\item 'squirrel  ( 2 )'\n",
       "\\item 'hedgehog  ( 3 )'\n",
       "\\end{enumerate*}\n"
      ],
      "text/markdown": [
       "1. <span style=white-space:pre-wrap>'cat  ( 1 )'</span>\n",
       "2. <span style=white-space:pre-wrap>'squirrel  ( 2 )'</span>\n",
       "3. <span style=white-space:pre-wrap>'hedgehog  ( 3 )'</span>\n",
       "\n",
       "\n"
      ],
      "text/plain": [
       "[1] \"cat  ( 1 )\"      \"squirrel  ( 2 )\" \"hedgehog  ( 3 )\""
      ]
     },
     "metadata": {},
     "output_type": "display_data"
    }
   ],
   "source": [
    "paste(c(\"cat\", \"squirrel\", \"hedgehog\"), \" (\", 1:3, \")\", sep = c(\" \",\"\",\"%\"))\n",
    "\n",
    "# 这里发现，如果向sep中pass一个vector，只会以vector的第一项进行连接"
   ]
  },
  {
   "cell_type": "markdown",
   "id": "f309f41d",
   "metadata": {},
   "source": [
    "## Condensing Multiple Strings\n",
    "\n",
    "paste()函数也可以使用collapse参数将多个字符串进行重新压缩连接，即，可以先加入vector并以sep的方式进行分别连接，然后再把多个字符串以新的方式连接成一个长字符串。"
   ]
  },
  {
   "cell_type": "code",
   "execution_count": 20,
   "id": "39114e48",
   "metadata": {},
   "outputs": [
    {
     "data": {
      "text/html": [
       "<ol class=list-inline>\n",
       "\t<li>'cat (1)'</li>\n",
       "\t<li>'squirrel (2)'</li>\n",
       "\t<li>'hedgehog (3)'</li>\n",
       "</ol>\n"
      ],
      "text/latex": [
       "\\begin{enumerate*}\n",
       "\\item 'cat (1)'\n",
       "\\item 'squirrel (2)'\n",
       "\\item 'hedgehog (3)'\n",
       "\\end{enumerate*}\n"
      ],
      "text/markdown": [
       "1. 'cat (1)'\n",
       "2. 'squirrel (2)'\n",
       "3. 'hedgehog (3)'\n",
       "\n",
       "\n"
      ],
      "text/plain": [
       "[1] \"cat (1)\"      \"squirrel (2)\" \"hedgehog (3)\""
      ]
     },
     "metadata": {},
     "output_type": "display_data"
    },
    {
     "data": {
      "text/html": [
       "'cat (1); squirrel (2); hedgehog (3)'"
      ],
      "text/latex": [
       "'cat (1); squirrel (2); hedgehog (3)'"
      ],
      "text/markdown": [
       "'cat (1); squirrel (2); hedgehog (3)'"
      ],
      "text/plain": [
       "[1] \"cat (1); squirrel (2); hedgehog (3)\""
      ]
     },
     "metadata": {},
     "output_type": "display_data"
    },
    {
     "data": {
      "text/html": [
       "'a%b%c'"
      ],
      "text/latex": [
       "'a\\%b\\%c'"
      ],
      "text/markdown": [
       "'a%b%c'"
      ],
      "text/plain": [
       "[1] \"a%b%c\""
      ]
     },
     "metadata": {},
     "output_type": "display_data"
    }
   ],
   "source": [
    "paste(c(\"cat\", \"squirrel\", \"hedgehog\"), \" (\", 1:3, \")\", sep = \"\")\n",
    "\n",
    "paste(c(\"cat\", \"squirrel\", \"hedgehog\"), \" (\", 1:3, \")\", sep = \"\", collapse = \"; \")\n",
    "\n",
    "paste(c(\"a\", \"b\", \"c\"), collapse = \"%\")"
   ]
  },
  {
   "cell_type": "markdown",
   "id": "47d840c6",
   "metadata": {},
   "source": [
    "## Task\n",
    "\n",
    "Use paste() with its first input being c(\"Columbia\", \"slumberparty\", \"sugarplum\") along with the sep and collapse arguments to create the following string:\n",
    "\n",
    "\"Columbia [3-5]; slumberparty [2-4]; sugarplum [7-9]\"."
   ]
  },
  {
   "cell_type": "code",
   "execution_count": 21,
   "id": "97122390",
   "metadata": {},
   "outputs": [
    {
     "data": {
      "text/html": [
       "'Columbia [3-5]; slumberparty [2-4]; sugarplum [7-9]'"
      ],
      "text/latex": [
       "'Columbia {[}3-5{]}; slumberparty {[}2-4{]}; sugarplum {[}7-9{]}'"
      ],
      "text/markdown": [
       "'Columbia [3-5]; slumberparty [2-4]; sugarplum [7-9]'"
      ],
      "text/plain": [
       "[1] \"Columbia [3-5]; slumberparty [2-4]; sugarplum [7-9]\""
      ]
     },
     "metadata": {},
     "output_type": "display_data"
    },
    {
     "data": {
      "text/html": [
       "'Columbia [3-5]; slumberparty [2-4]; sugarplum [7-9]'"
      ],
      "text/latex": [
       "'Columbia {[}3-5{]}; slumberparty {[}2-4{]}; sugarplum {[}7-9{]}'"
      ],
      "text/markdown": [
       "'Columbia [3-5]; slumberparty [2-4]; sugarplum [7-9]'"
      ],
      "text/plain": [
       "[1] \"Columbia [3-5]; slumberparty [2-4]; sugarplum [7-9]\""
      ]
     },
     "metadata": {},
     "output_type": "display_data"
    }
   ],
   "source": [
    "paste(c(\"Columbia\", \"slumberparty\", \"sugarplum\"), \n",
    "      c(\"[3-5]\", \"[2-4]\", \"[7-9]\"), collapse = \"; \")\n",
    "\n",
    "# 或者等价地\n",
    "paste(c(\"Columbia\", \"slumberparty\", \"sugarplum\"), \n",
    "     \" [\",c(3,2,7),\"-\",c(5,4,9),\"]\", sep = \"\", collapse = \"; \")"
   ]
  },
  {
   "cell_type": "markdown",
   "id": "3ee0ecb6",
   "metadata": {},
   "source": [
    "## Searching Strings"
   ]
  },
  {
   "cell_type": "code",
   "execution_count": 22,
   "id": "00b33f0f",
   "metadata": {},
   "outputs": [
    {
     "data": {
      "text/html": [
       "43"
      ],
      "text/latex": [
       "43"
      ],
      "text/markdown": [
       "43"
      ],
      "text/plain": [
       "[1] 43"
      ]
     },
     "metadata": {},
     "output_type": "display_data"
    }
   ],
   "source": [
    "HC <- readLines(\"HonorCode2.txt\", warn = FALSE)\n",
    "length(HC)"
   ]
  },
  {
   "cell_type": "code",
   "execution_count": 23,
   "id": "15f77d5b",
   "metadata": {},
   "outputs": [
    {
     "data": {
      "text/html": [
       "<ol class=list-inline>\n",
       "\t<li>'Students should be aware that academic dishonesty (for example, plagiarism, cheating on an'</li>\n",
       "\t<li>'examination, or dishonesty in dealing with a faculty member or other University official) or'</li>\n",
       "\t<li>'the threat of violence or harassment are particularly serious offenses and will be dealt'</li>\n",
       "\t<li>'with severely under Dean\\'s Discipline.'</li>\n",
       "\t<li>''</li>\n",
       "</ol>\n"
      ],
      "text/latex": [
       "\\begin{enumerate*}\n",
       "\\item 'Students should be aware that academic dishonesty (for example, plagiarism, cheating on an'\n",
       "\\item 'examination, or dishonesty in dealing with a faculty member or other University official) or'\n",
       "\\item 'the threat of violence or harassment are particularly serious offenses and will be dealt'\n",
       "\\item 'with severely under Dean\\textbackslash{}'s Discipline.'\n",
       "\\item ''\n",
       "\\end{enumerate*}\n"
      ],
      "text/markdown": [
       "1. 'Students should be aware that academic dishonesty (for example, plagiarism, cheating on an'\n",
       "2. 'examination, or dishonesty in dealing with a faculty member or other University official) or'\n",
       "3. 'the threat of violence or harassment are particularly serious offenses and will be dealt'\n",
       "4. 'with severely under Dean\\'s Discipline.'\n",
       "5. ''\n",
       "\n",
       "\n"
      ],
      "text/plain": [
       "[1] \"Students should be aware that academic dishonesty (for example, plagiarism, cheating on an\"  \n",
       "[2] \"examination, or dishonesty in dealing with a faculty member or other University official) or\"\n",
       "[3] \"the threat of violence or harassment are particularly serious offenses and will be dealt\"    \n",
       "[4] \"with severely under Dean's Discipline.\"                                                      \n",
       "[5] \"\"                                                                                            "
      ]
     },
     "metadata": {},
     "output_type": "display_data"
    },
    {
     "name": "stdout",
     "output_type": "stream",
     "text": [
      "[1] \"Students should be aware that academic dishonesty (for example, plagiarism, cheating on an\"  \n",
      "[2] \"examination, or dishonesty in dealing with a faculty member or other University official) or\"\n",
      "[3] \"the threat of violence or harassment are particularly serious offenses and will be dealt\"    \n",
      "[4] \"with severely under Dean's Discipline.\"                                                      \n",
      "[5] \"\"                                                                                            \n"
     ]
    }
   ],
   "source": [
    "head(HC, 5)\n",
    "\n",
    "print(head(HC, 5)) # 可以发现HC实际上是一个list"
   ]
  },
  {
   "cell_type": "markdown",
   "id": "572f1cd4",
   "metadata": {},
   "source": [
    "HC是一个vector，其中每一项分别为HonorCode2.txt中每一行的文字。\n",
    "\n",
    "grep(pattern, x)函数在由字符串组成的vector x中，搜索由pattern给定的子字符串。\n",
    "grepl(pattern, HC)函数在由字符串组成的vector x中，搜索由pattern给定的子字符串，若搜索成功返回TRUE，失败则返回FALSE，并总体以vector的形式返回."
   ]
  },
  {
   "cell_type": "code",
   "execution_count": 24,
   "id": "bb71098e",
   "metadata": {
    "scrolled": true
   },
   "outputs": [
    {
     "data": {
      "text/html": [
       "<ol class=list-inline>\n",
       "\t<li>6</li>\n",
       "\t<li>15</li>\n",
       "\t<li>23</li>\n",
       "\t<li>30</li>\n",
       "</ol>\n"
      ],
      "text/latex": [
       "\\begin{enumerate*}\n",
       "\\item 6\n",
       "\\item 15\n",
       "\\item 23\n",
       "\\item 30\n",
       "\\end{enumerate*}\n"
      ],
      "text/markdown": [
       "1. 6\n",
       "2. 15\n",
       "3. 23\n",
       "4. 30\n",
       "\n",
       "\n"
      ],
      "text/plain": [
       "[1]  6 15 23 30"
      ]
     },
     "metadata": {},
     "output_type": "display_data"
    },
    {
     "data": {
      "text/html": [
       "<ol class=list-inline>\n",
       "\t<li>1</li>\n",
       "\t<li>19</li>\n",
       "\t<li>33</li>\n",
       "</ol>\n"
      ],
      "text/latex": [
       "\\begin{enumerate*}\n",
       "\\item 1\n",
       "\\item 19\n",
       "\\item 33\n",
       "\\end{enumerate*}\n"
      ],
      "text/markdown": [
       "1. 1\n",
       "2. 19\n",
       "3. 33\n",
       "\n",
       "\n"
      ],
      "text/plain": [
       "[1]  1 19 33"
      ]
     },
     "metadata": {},
     "output_type": "display_data"
    },
    {
     "data": {
      "text/html": [
       "TRUE"
      ],
      "text/latex": [
       "TRUE"
      ],
      "text/markdown": [
       "TRUE"
      ],
      "text/plain": [
       "[1] TRUE"
      ]
     },
     "metadata": {},
     "output_type": "display_data"
    },
    {
     "data": {
      "text/html": [
       "<ol class=list-inline>\n",
       "\t<li>FALSE</li>\n",
       "\t<li>FALSE</li>\n",
       "\t<li>FALSE</li>\n",
       "\t<li>FALSE</li>\n",
       "\t<li>FALSE</li>\n",
       "\t<li>TRUE</li>\n",
       "\t<li>FALSE</li>\n",
       "\t<li>FALSE</li>\n",
       "\t<li>FALSE</li>\n",
       "\t<li>FALSE</li>\n",
       "\t<li>FALSE</li>\n",
       "\t<li>FALSE</li>\n",
       "\t<li>FALSE</li>\n",
       "\t<li>FALSE</li>\n",
       "\t<li>TRUE</li>\n",
       "\t<li>FALSE</li>\n",
       "\t<li>FALSE</li>\n",
       "\t<li>FALSE</li>\n",
       "\t<li>FALSE</li>\n",
       "\t<li>FALSE</li>\n",
       "\t<li>FALSE</li>\n",
       "\t<li>FALSE</li>\n",
       "\t<li>TRUE</li>\n",
       "\t<li>FALSE</li>\n",
       "\t<li>FALSE</li>\n",
       "\t<li>FALSE</li>\n",
       "\t<li>FALSE</li>\n",
       "\t<li>FALSE</li>\n",
       "\t<li>FALSE</li>\n",
       "\t<li>TRUE</li>\n",
       "\t<li>FALSE</li>\n",
       "\t<li>FALSE</li>\n",
       "\t<li>FALSE</li>\n",
       "\t<li>FALSE</li>\n",
       "\t<li>FALSE</li>\n",
       "\t<li>FALSE</li>\n",
       "\t<li>FALSE</li>\n",
       "\t<li>FALSE</li>\n",
       "\t<li>FALSE</li>\n",
       "\t<li>FALSE</li>\n",
       "\t<li>FALSE</li>\n",
       "\t<li>FALSE</li>\n",
       "\t<li>FALSE</li>\n",
       "</ol>\n"
      ],
      "text/latex": [
       "\\begin{enumerate*}\n",
       "\\item FALSE\n",
       "\\item FALSE\n",
       "\\item FALSE\n",
       "\\item FALSE\n",
       "\\item FALSE\n",
       "\\item TRUE\n",
       "\\item FALSE\n",
       "\\item FALSE\n",
       "\\item FALSE\n",
       "\\item FALSE\n",
       "\\item FALSE\n",
       "\\item FALSE\n",
       "\\item FALSE\n",
       "\\item FALSE\n",
       "\\item TRUE\n",
       "\\item FALSE\n",
       "\\item FALSE\n",
       "\\item FALSE\n",
       "\\item FALSE\n",
       "\\item FALSE\n",
       "\\item FALSE\n",
       "\\item FALSE\n",
       "\\item TRUE\n",
       "\\item FALSE\n",
       "\\item FALSE\n",
       "\\item FALSE\n",
       "\\item FALSE\n",
       "\\item FALSE\n",
       "\\item FALSE\n",
       "\\item TRUE\n",
       "\\item FALSE\n",
       "\\item FALSE\n",
       "\\item FALSE\n",
       "\\item FALSE\n",
       "\\item FALSE\n",
       "\\item FALSE\n",
       "\\item FALSE\n",
       "\\item FALSE\n",
       "\\item FALSE\n",
       "\\item FALSE\n",
       "\\item FALSE\n",
       "\\item FALSE\n",
       "\\item FALSE\n",
       "\\end{enumerate*}\n"
      ],
      "text/markdown": [
       "1. FALSE\n",
       "2. FALSE\n",
       "3. FALSE\n",
       "4. FALSE\n",
       "5. FALSE\n",
       "6. TRUE\n",
       "7. FALSE\n",
       "8. FALSE\n",
       "9. FALSE\n",
       "10. FALSE\n",
       "11. FALSE\n",
       "12. FALSE\n",
       "13. FALSE\n",
       "14. FALSE\n",
       "15. TRUE\n",
       "16. FALSE\n",
       "17. FALSE\n",
       "18. FALSE\n",
       "19. FALSE\n",
       "20. FALSE\n",
       "21. FALSE\n",
       "22. FALSE\n",
       "23. TRUE\n",
       "24. FALSE\n",
       "25. FALSE\n",
       "26. FALSE\n",
       "27. FALSE\n",
       "28. FALSE\n",
       "29. FALSE\n",
       "30. TRUE\n",
       "31. FALSE\n",
       "32. FALSE\n",
       "33. FALSE\n",
       "34. FALSE\n",
       "35. FALSE\n",
       "36. FALSE\n",
       "37. FALSE\n",
       "38. FALSE\n",
       "39. FALSE\n",
       "40. FALSE\n",
       "41. FALSE\n",
       "42. FALSE\n",
       "43. FALSE\n",
       "\n",
       "\n"
      ],
      "text/plain": [
       " [1] FALSE FALSE FALSE FALSE FALSE  TRUE FALSE FALSE FALSE FALSE FALSE FALSE\n",
       "[13] FALSE FALSE  TRUE FALSE FALSE FALSE FALSE FALSE FALSE FALSE  TRUE FALSE\n",
       "[25] FALSE FALSE FALSE FALSE FALSE  TRUE FALSE FALSE FALSE FALSE FALSE FALSE\n",
       "[37] FALSE FALSE FALSE FALSE FALSE FALSE FALSE"
      ]
     },
     "metadata": {},
     "output_type": "display_data"
    }
   ],
   "source": [
    "# 在vector HC中搜索\"students\"，并返回其所在vector HC中的位置（行数）\n",
    "grep(\"students\", HC) \n",
    "\n",
    "grep(\"Students\", HC)\n",
    "\n",
    "is.vector(grepl(\"students\", HC))\n",
    "grepl(\"students\", HC)"
   ]
  },
  {
   "cell_type": "code",
   "execution_count": 25,
   "id": "a6da7c7a",
   "metadata": {},
   "outputs": [
    {
     "data": {
      "text/html": [
       "<ol class=list-inline>\n",
       "\t<li>6</li>\n",
       "\t<li>12</li>\n",
       "\t<li>15</li>\n",
       "\t<li>23</li>\n",
       "\t<li>30</li>\n",
       "</ol>\n"
      ],
      "text/latex": [
       "\\begin{enumerate*}\n",
       "\\item 6\n",
       "\\item 12\n",
       "\\item 15\n",
       "\\item 23\n",
       "\\item 30\n",
       "\\end{enumerate*}\n"
      ],
      "text/markdown": [
       "1. 6\n",
       "2. 12\n",
       "3. 15\n",
       "4. 23\n",
       "5. 30\n",
       "\n",
       "\n"
      ],
      "text/plain": [
       "[1]  6 12 15 23 30"
      ]
     },
     "metadata": {},
     "output_type": "display_data"
    },
    {
     "data": {
      "text/html": [
       "<ol class=list-inline>\n",
       "\t<li>'Graduate students are expected to exhibit the high level of personal and academic integrity'</li>\n",
       "\t<li>'In practical terms, students must not cheat on examinations, and deliberate plagiarism is of'</li>\n",
       "\t<li>'Graduate students are responsible for proper citation and paraphrasing, and must also take'</li>\n",
       "\t<li>'All incoming doctoral and master\\'s students in the Arts and Sciences at Columbia are'</li>\n",
       "</ol>\n"
      ],
      "text/latex": [
       "\\begin{enumerate*}\n",
       "\\item 'Graduate students are expected to exhibit the high level of personal and academic integrity'\n",
       "\\item 'In practical terms, students must not cheat on examinations, and deliberate plagiarism is of'\n",
       "\\item 'Graduate students are responsible for proper citation and paraphrasing, and must also take'\n",
       "\\item 'All incoming doctoral and master\\textbackslash{}'s students in the Arts and Sciences at Columbia are'\n",
       "\\end{enumerate*}\n"
      ],
      "text/markdown": [
       "1. 'Graduate students are expected to exhibit the high level of personal and academic integrity'\n",
       "2. 'In practical terms, students must not cheat on examinations, and deliberate plagiarism is of'\n",
       "3. 'Graduate students are responsible for proper citation and paraphrasing, and must also take'\n",
       "4. 'All incoming doctoral and master\\'s students in the Arts and Sciences at Columbia are'\n",
       "\n",
       "\n"
      ],
      "text/plain": [
       "[1] \"Graduate students are expected to exhibit the high level of personal and academic integrity\" \n",
       "[2] \"In practical terms, students must not cheat on examinations, and deliberate plagiarism is of\"\n",
       "[3] \"Graduate students are responsible for proper citation and paraphrasing, and must also take\"  \n",
       "[4] \"All incoming doctoral and master's students in the Arts and Sciences at Columbia are\"        "
      ]
     },
     "metadata": {},
     "output_type": "display_data"
    }
   ],
   "source": [
    "grep(\"student\", HC)\n",
    "\n",
    "HC[grep(\"students\", HC)]"
   ]
  },
  {
   "cell_type": "markdown",
   "id": "ab5526b4",
   "metadata": {},
   "source": [
    "## Task:\n",
    "Using functions we’ve learned today, let’s make HC a vector with each element a word of the Honor Code (instead of a line of text). Of course, could do this with scan()"
   ]
  },
  {
   "cell_type": "code",
   "execution_count": 26,
   "id": "376e8356",
   "metadata": {
    "scrolled": true
   },
   "outputs": [
    {
     "data": {
      "text/html": [
       "<ol class=list-inline>\n",
       "\t<li>'Students'</li>\n",
       "\t<li>'should'</li>\n",
       "\t<li>'be'</li>\n",
       "\t<li>'aware'</li>\n",
       "\t<li>'that'</li>\n",
       "</ol>\n"
      ],
      "text/latex": [
       "\\begin{enumerate*}\n",
       "\\item 'Students'\n",
       "\\item 'should'\n",
       "\\item 'be'\n",
       "\\item 'aware'\n",
       "\\item 'that'\n",
       "\\end{enumerate*}\n"
      ],
      "text/markdown": [
       "1. 'Students'\n",
       "2. 'should'\n",
       "3. 'be'\n",
       "4. 'aware'\n",
       "5. 'that'\n",
       "\n",
       "\n"
      ],
      "text/plain": [
       "[1] \"Students\" \"should\"   \"be\"       \"aware\"    \"that\"    "
      ]
     },
     "metadata": {},
     "output_type": "display_data"
    },
    {
     "data": {
      "text/html": [
       "442"
      ],
      "text/latex": [
       "442"
      ],
      "text/markdown": [
       "442"
      ],
      "text/plain": [
       "[1] 442"
      ]
     },
     "metadata": {},
     "output_type": "display_data"
    }
   ],
   "source": [
    "# 我的方法一：\n",
    "my_HC <- c()\n",
    "for(row in HC){\n",
    "    new_row <- strsplit(row, split = c(\" \"))\n",
    "    for(char in new_row){\n",
    "        my_HC <- append(my_HC, char)\n",
    "    }\n",
    "}\n",
    "\n",
    "head(my_HC, 5)\n",
    "length(my_HC)"
   ]
  },
  {
   "cell_type": "code",
   "execution_count": 27,
   "id": "7edb0ac6",
   "metadata": {
    "scrolled": true
   },
   "outputs": [
    {
     "data": {
      "text/html": [
       "<ol class=list-inline>\n",
       "\t<li>'Students'</li>\n",
       "\t<li>'should'</li>\n",
       "\t<li>'be'</li>\n",
       "\t<li>'aware'</li>\n",
       "\t<li>'that'</li>\n",
       "</ol>\n"
      ],
      "text/latex": [
       "\\begin{enumerate*}\n",
       "\\item 'Students'\n",
       "\\item 'should'\n",
       "\\item 'be'\n",
       "\\item 'aware'\n",
       "\\item 'that'\n",
       "\\end{enumerate*}\n"
      ],
      "text/markdown": [
       "1. 'Students'\n",
       "2. 'should'\n",
       "3. 'be'\n",
       "4. 'aware'\n",
       "5. 'that'\n",
       "\n",
       "\n"
      ],
      "text/plain": [
       "[1] \"Students\" \"should\"   \"be\"       \"aware\"    \"that\"    "
      ]
     },
     "metadata": {},
     "output_type": "display_data"
    },
    {
     "data": {
      "text/html": [
       "450"
      ],
      "text/latex": [
       "450"
      ],
      "text/markdown": [
       "450"
      ],
      "text/plain": [
       "[1] 450"
      ]
     },
     "metadata": {},
     "output_type": "display_data"
    }
   ],
   "source": [
    "# 老师的方法：\n",
    "\n",
    "new_HC1 <- paste(HC, collapse = \" \")\n",
    "HC.words <- strsplit(new_HC1, split = \" \")[[1]]\n",
    "\n",
    "head(HC.words, 5)\n",
    "length(HC.words)"
   ]
  },
  {
   "cell_type": "code",
   "execution_count": 28,
   "id": "e89931d8",
   "metadata": {
    "scrolled": true
   },
   "outputs": [
    {
     "data": {
      "text/html": [
       "'Graduate'"
      ],
      "text/latex": [
       "'Graduate'"
      ],
      "text/markdown": [
       "'Graduate'"
      ],
      "text/plain": [
       "[1] \"Graduate\""
      ]
     },
     "metadata": {},
     "output_type": "display_data"
    },
    {
     "data": {
      "text/html": [
       "''"
      ],
      "text/latex": [
       "''"
      ],
      "text/markdown": [
       "''"
      ],
      "text/plain": [
       "[1] \"\""
      ]
     },
     "metadata": {},
     "output_type": "display_data"
    },
    {
     "data": {
      "text/html": [
       "'Graduate'"
      ],
      "text/latex": [
       "'Graduate'"
      ],
      "text/markdown": [
       "'Graduate'"
      ],
      "text/plain": [
       "[1] \"Graduate\""
      ]
     },
     "metadata": {},
     "output_type": "display_data"
    }
   ],
   "source": [
    "# 两方法求出的length不一样的原因在于，老师的方法把\"也算作了字符，作以下检验：\n",
    "my_HC[47]\n",
    "\n",
    "HC.words[47]\n",
    "HC.words[48]"
   ]
  },
  {
   "cell_type": "markdown",
   "id": "c0feeaea",
   "metadata": {},
   "source": [
    "### 可以用table()函数统计单词数目"
   ]
  },
  {
   "cell_type": "code",
   "execution_count": 29,
   "id": "b647f751",
   "metadata": {},
   "outputs": [
    {
     "data": {
      "text/plain": [
       "HC.words\n",
       " and   of   or  the   to   in      from    a   is \n",
       "  23   17   16   13   11   10    8    6    5    5 "
      ]
     },
     "metadata": {},
     "output_type": "display_data"
    }
   ],
   "source": [
    "word_count <- table(HC.words)\n",
    "word_count <- sort(word_count, decreasing = TRUE)\n",
    "head(word_count, 10)"
   ]
  },
  {
   "cell_type": "markdown",
   "id": "7d847c22",
   "metadata": {},
   "source": [
    "在这里，我们又一次发现了问题所在，例如第七多的字符串是null string。并且标点符号与大小写（例如\"Students\"和\"students\"）使得我们计数混乱。"
   ]
  },
  {
   "cell_type": "code",
   "execution_count": 30,
   "id": "bc7aab35",
   "metadata": {
    "scrolled": true
   },
   "outputs": [
    {
     "data": {
      "text/plain": [
       "HC.words\n",
       "violence    vital    which    words     work   works.    world    write \n",
       "       1        1        1        1        1        1        1        1 \n",
       " Writing     your \n",
       "       1        1 "
      ]
     },
     "metadata": {},
     "output_type": "display_data"
    }
   ],
   "source": [
    "# Undesired things:\n",
    "tail(word_count, 10)"
   ]
  },
  {
   "cell_type": "markdown",
   "id": "dfa61c58",
   "metadata": {},
   "source": [
    "## Task\n",
    "Use grep() to search over names(word_count) to find the number of words in the word count vector that have semi-colons in them. Hint:\";\" should be one of your arguments to grep. Using your result print the words that grep() finds."
   ]
  },
  {
   "cell_type": "code",
   "execution_count": 31,
   "id": "c0489cfe",
   "metadata": {
    "scrolled": true
   },
   "outputs": [
    {
     "data": {
      "text/html": [
       "5"
      ],
      "text/latex": [
       "5"
      ],
      "text/markdown": [
       "5"
      ],
      "text/plain": [
       "[1] 5"
      ]
     },
     "metadata": {},
     "output_type": "display_data"
    },
    {
     "data": {
      "text/plain": [
       "HC.words\n",
       "  citations;     online); others'work;       paper;    scholars; \n",
       "           1            1            1            1            1 "
      ]
     },
     "metadata": {},
     "output_type": "display_data"
    }
   ],
   "source": [
    "sum(grepl(pattern = \";\", names(word_count)))\n",
    "word_count[grep(pattern = \";\", names(word_count))]"
   ]
  },
  {
   "cell_type": "markdown",
   "id": "4537dbf4",
   "metadata": {},
   "source": [
    "## Summary\n",
    "• nchar(): Finds the length of a string.\n",
    "\n",
    "• substr(): Extracts substrings and substitutes.\n",
    "\n",
    "• strsplit(): Turns strings into vectors.\n",
    "\n",
    "• paste(): Turns vectors into a string.\n",
    "\n",
    "• grep(): Searches for patterns in a string and returns a vector of indices.\n",
    "\n",
    "• grepl(): Searches for patterns in a string and returns a vector of logicals."
   ]
  },
  {
   "cell_type": "markdown",
   "id": "a91a87cf",
   "metadata": {},
   "source": [
    "# Regular Expressions\n",
    "We want to search for text patterns instead of text constants. We can do this with regular expressions."
   ]
  },
  {
   "cell_type": "markdown",
   "id": "94828684",
   "metadata": {},
   "source": [
    "## Why do we need Regular Expressions"
   ]
  },
  {
   "cell_type": "code",
   "execution_count": 32,
   "id": "e3f56d1a",
   "metadata": {},
   "outputs": [
    {
     "data": {
      "text/html": [
       "<ol>\n",
       "\t<li><ol class=list-inline>\n",
       "\t<li>'cat'</li>\n",
       "\t<li>'squirrel'</li>\n",
       "\t<li>' hedgehog'</li>\n",
       "\t<li>' octopus'</li>\n",
       "</ol>\n",
       "</li>\n",
       "</ol>\n"
      ],
      "text/latex": [
       "\\begin{enumerate}\n",
       "\\item \\begin{enumerate*}\n",
       "\\item 'cat'\n",
       "\\item 'squirrel'\n",
       "\\item ' hedgehog'\n",
       "\\item ' octopus'\n",
       "\\end{enumerate*}\n",
       "\n",
       "\\end{enumerate}\n"
      ],
      "text/markdown": [
       "1. 1. 'cat'\n",
       "2. 'squirrel'\n",
       "3. ' hedgehog'\n",
       "4. ' octopus'\n",
       "\n",
       "\n",
       "\n",
       "\n",
       "\n"
      ],
      "text/plain": [
       "[[1]]\n",
       "[1] \"cat\"       \"squirrel\"  \" hedgehog\" \" octopus\" \n"
      ]
     },
     "metadata": {},
     "output_type": "display_data"
    }
   ],
   "source": [
    "fav_animals <- \"cat,squirrel, hedgehog, octopus\"\n",
    "strsplit(fav_animals, split = \",\")"
   ]
  },
  {
   "cell_type": "code",
   "execution_count": 33,
   "id": "f30a23fa",
   "metadata": {},
   "outputs": [
    {
     "data": {
      "text/html": [
       "<ol>\n",
       "\t<li><ol class=list-inline>\n",
       "\t<li>'cat'</li>\n",
       "\t<li>'squirrel'</li>\n",
       "\t<li>' hedgehog'</li>\n",
       "\t<li><span style=white-space:pre-wrap>'    octopus'</span></li>\n",
       "</ol>\n",
       "</li>\n",
       "</ol>\n"
      ],
      "text/latex": [
       "\\begin{enumerate}\n",
       "\\item \\begin{enumerate*}\n",
       "\\item 'cat'\n",
       "\\item 'squirrel'\n",
       "\\item ' hedgehog'\n",
       "\\item '    octopus'\n",
       "\\end{enumerate*}\n",
       "\n",
       "\\end{enumerate}\n"
      ],
      "text/markdown": [
       "1. 1. 'cat'\n",
       "2. 'squirrel'\n",
       "3. ' hedgehog'\n",
       "4. <span style=white-space:pre-wrap>'    octopus'</span>\n",
       "\n",
       "\n",
       "\n",
       "\n",
       "\n"
      ],
      "text/plain": [
       "[[1]]\n",
       "[1] \"cat\"         \"squirrel\"    \" hedgehog\"   \"    octopus\"\n"
      ]
     },
     "metadata": {},
     "output_type": "display_data"
    }
   ],
   "source": [
    "fav_animals <- \"cat,squirrel, hedgehog,    octopus\"\n",
    "strsplit(fav_animals, split = \",\")"
   ]
  },
  {
   "cell_type": "code",
   "execution_count": 34,
   "id": "9c037b6f",
   "metadata": {},
   "outputs": [
    {
     "data": {
      "text/html": [
       "<ol>\n",
       "\t<li><ol class=list-inline>\n",
       "\t<li>'cat,squirrel,'</li>\n",
       "\t<li>'hedgehog,'</li>\n",
       "\t<li>''</li>\n",
       "\t<li>''</li>\n",
       "\t<li>''</li>\n",
       "\t<li>'octopus'</li>\n",
       "</ol>\n",
       "</li>\n",
       "</ol>\n"
      ],
      "text/latex": [
       "\\begin{enumerate}\n",
       "\\item \\begin{enumerate*}\n",
       "\\item 'cat,squirrel,'\n",
       "\\item 'hedgehog,'\n",
       "\\item ''\n",
       "\\item ''\n",
       "\\item ''\n",
       "\\item 'octopus'\n",
       "\\end{enumerate*}\n",
       "\n",
       "\\end{enumerate}\n"
      ],
      "text/markdown": [
       "1. 1. 'cat,squirrel,'\n",
       "2. 'hedgehog,'\n",
       "3. ''\n",
       "4. ''\n",
       "5. ''\n",
       "6. 'octopus'\n",
       "\n",
       "\n",
       "\n",
       "\n",
       "\n"
      ],
      "text/plain": [
       "[[1]]\n",
       "[1] \"cat,squirrel,\" \"hedgehog,\"     \"\"              \"\"             \n",
       "[5] \"\"              \"octopus\"      \n"
      ]
     },
     "metadata": {},
     "output_type": "display_data"
    }
   ],
   "source": [
    "strsplit(fav_animals, split = \" \")"
   ]
  },
  {
   "cell_type": "code",
   "execution_count": 35,
   "id": "2370f835",
   "metadata": {},
   "outputs": [
    {
     "data": {
      "text/html": [
       "<ol>\n",
       "\t<li><ol class=list-inline>\n",
       "\t<li>'cat,squirrel, hedgehog'</li>\n",
       "\t<li>'octopus'</li>\n",
       "</ol>\n",
       "</li>\n",
       "</ol>\n"
      ],
      "text/latex": [
       "\\begin{enumerate}\n",
       "\\item \\begin{enumerate*}\n",
       "\\item 'cat,squirrel, hedgehog'\n",
       "\\item 'octopus'\n",
       "\\end{enumerate*}\n",
       "\n",
       "\\end{enumerate}\n"
      ],
      "text/markdown": [
       "1. 1. 'cat,squirrel, hedgehog'\n",
       "2. 'octopus'\n",
       "\n",
       "\n",
       "\n",
       "\n",
       "\n"
      ],
      "text/plain": [
       "[[1]]\n",
       "[1] \"cat,squirrel, hedgehog\" \"octopus\"               \n"
      ]
     },
     "metadata": {},
     "output_type": "display_data"
    }
   ],
   "source": [
    "fav_animals <- \"cat,squirrel, hedgehog,    octopus\"\n",
    "strsplit(fav_animals, split = \",    \")"
   ]
  },
  {
   "cell_type": "markdown",
   "id": "376ed8d2",
   "metadata": {},
   "source": [
    "## Regular Expressions\n",
    "\n",
    "• Regular expressions are a method of expressing patterns in character strings.\n",
    "\n",
    "• Used to match sets of strings or patterns of strings in R.\n",
    "\n",
    "• Can express ideas like match \"this and then that\", \"either this or that\",\"this repeated some number of times\".\n",
    "\n",
    "• Regular expressions are rules expressed in a grammar with special symbols."
   ]
  },
  {
   "cell_type": "markdown",
   "id": "e2b9d434",
   "metadata": {},
   "source": [
    "## Rules for Regular Expressions\n",
    "\n",
    "1. Every string is a regular expression.\n",
    "\n",
    "        • \"cat\" matches \"categorize\" and \"dogs and cats\".\n",
    "        • \"cat\" does not match \"Dog is man's best friend\" and \"work doggedly\".\n",
    "\n",
    "2. Can represent OR with a vertical bar |.\n",
    "\n",
    "        • \"cat|dog|Dog\" matches all of the above.\n",
    "\n",
    "3. Precede special characters like | with a backslash \\ to match exactly.\n",
    "\n",
    "        • \"A\\|b\" matches \"P(A|b)\".\n",
    "        • \"A|b\" matches twice in \"Alabama\" and twice in \"blueberry\".\n",
    "        \n",
    "4. Indicate sets of characters with brackets [].\n",
    "\n",
    "        • \"[a-z]\" matches any lower case letters.\n",
    "        • \"[:punct:]\" matches all punctuation marks.\n",
    "        \n",
    "5. The caret ˆ negates a character range when in the leading position.\n",
    "\n",
    "        • \"[ˆaeiou]\" matches any characters except lower-case vowels.\n",
    "        \n",
    "6. The period . stands for any character and doesn’t need brackets.\n",
    "\n",
    "        • \"c..s\" matches \"cats\", \"class\", \"c88s\", \"c  s\", etc  \n",
    "        \n",
    "7. The dollar sign $ means that a pattern only matches at the end of a line.\n",
    "\n",
    "        • \"[a-z,]$\" matches strings ending in lower-case letters or a comma.\n",
    "        \n",
    "2. The caret ˆ outside of brackets means that a pattern only matches at the beginning of a line.\n",
    "        • \"ˆ[ˆA-Z]\" matches strings not beginning with capital letters."
   ]
  },
  {
   "cell_type": "code",
   "execution_count": 36,
   "id": "f5202871",
   "metadata": {},
   "outputs": [
    {
     "data": {
      "text/html": [
       "<ol class=list-inline>\n",
       "\t<li>1</li>\n",
       "\t<li>2</li>\n",
       "</ol>\n"
      ],
      "text/latex": [
       "\\begin{enumerate*}\n",
       "\\item 1\n",
       "\\item 2\n",
       "\\end{enumerate*}\n"
      ],
      "text/markdown": [
       "1. 1\n",
       "2. 2\n",
       "\n",
       "\n"
      ],
      "text/plain": [
       "[1] 1 2"
      ]
     },
     "metadata": {},
     "output_type": "display_data"
    },
    {
     "data": {
      "text/html": [
       "<ol class=list-inline>\n",
       "\t<li>1</li>\n",
       "\t<li>2</li>\n",
       "</ol>\n"
      ],
      "text/latex": [
       "\\begin{enumerate*}\n",
       "\\item 1\n",
       "\\item 2\n",
       "\\end{enumerate*}\n"
      ],
      "text/markdown": [
       "1. 1\n",
       "2. 2\n",
       "\n",
       "\n"
      ],
      "text/plain": [
       "[1] 1 2"
      ]
     },
     "metadata": {},
     "output_type": "display_data"
    }
   ],
   "source": [
    "# \"match\" means in R:\n",
    "grep(\"cat|dog\", c(\"categorize\", \"work doggedly\"))\n",
    "\n",
    "grep(\"A|b\", c(\"Alabama\", \"blueberry\", \"work doggedly\"))"
   ]
  },
  {
   "cell_type": "markdown",
   "id": "2fd8a26b",
   "metadata": {},
   "source": [
    "## Quantifiers can be used to tell “how often” an expression occurs.\n",
    "\n",
    "• Quantifiers apply to the last character before they appear.\n",
    "\n",
    "• Any valid expression can be enclosed in parentheses for grouping.\n",
    "\n",
    "|Quantifier Description | (Match if the expression is ...)|\n",
    "|---|---|\n",
    "|+ | Repeated one or more times.|\n",
    "|* | Repeated zero or more times.|\n",
    "|? | Repeated zero or one times.|\n",
    "|{n} | Repeated exactly n times.|\n",
    "|{n, } | Repeated n or more times.|\n",
    "|{n, m} | Repeated between n and m times.|"
   ]
  },
  {
   "cell_type": "markdown",
   "id": "b5a7729e",
   "metadata": {},
   "source": [
    "## Examples\n",
    "\n",
    "• \"[0-9][0-9][a-zA-Z]+\" matches strings with two digits followed by one or more letters.\n",
    "\n",
    "• \"(abc){3}\" matches three consecutive occurrences of \"abc\".\n",
    "\n",
    "• \"abc{3}\" matches \"abccc\".\n",
    "\n",
    "• \"M[rs][rs]?\\.?\" matches \"Mr\", \"Ms\", \"Mrs\", \"Mr.\", \"Ms.\", \"Mrs.\".\n",
    "\n",
    "• The above also matches \"Mrr\", \"Msr\", \"Mss\", \"Mrr.\", \"Msr.\", \"Mss.\" (and nothing else)."
   ]
  },
  {
   "cell_type": "markdown",
   "id": "2e2fce86",
   "metadata": {},
   "source": [
    "## Regular Expressions in R\n",
    "\n",
    "• Many R functions we’ve already seen take regular expressions as their arguments.\n",
    "\n",
    "• strsplit() can use a regular expression to divide a string into a vector.\n",
    "\n",
    "• grep() can search for patterns represented by regular expressions in a string."
   ]
  },
  {
   "cell_type": "code",
   "execution_count": 37,
   "id": "c01e0ab6",
   "metadata": {},
   "outputs": [
    {
     "data": {
      "text/plain": [
       "HC.words\n",
       " and   of   or  the   to   in      from    a   is \n",
       "  23   17   16   13   11   10    8    6    5    5 "
      ]
     },
     "metadata": {},
     "output_type": "display_data"
    },
    {
     "data": {
      "text/plain": [
       "HC.words\n",
       "violence    vital    which    words     work   works.    world    write \n",
       "       1        1        1        1        1        1        1        1 \n",
       " Writing     your \n",
       "       1        1 "
      ]
     },
     "metadata": {},
     "output_type": "display_data"
    }
   ],
   "source": [
    "# Without regular expressions we get weird results when we try to count words:\n",
    "head(word_count, 10)\n",
    "\n",
    "tail(word_count, 10)"
   ]
  },
  {
   "cell_type": "code",
   "execution_count": 38,
   "id": "cc7c5292",
   "metadata": {},
   "outputs": [
    {
     "data": {
      "text/html": [
       "43"
      ],
      "text/latex": [
       "43"
      ],
      "text/markdown": [
       "43"
      ],
      "text/plain": [
       "[1] 43"
      ]
     },
     "metadata": {},
     "output_type": "display_data"
    },
    {
     "data": {
      "text/html": [
       "<ol class=list-inline>\n",
       "\t<li>'Students should be aware that academic dishonesty (for example, plagiarism, cheating on an'</li>\n",
       "\t<li>'examination, or dishonesty in dealing with a faculty member or other University official) or'</li>\n",
       "\t<li>'the threat of violence or harassment are particularly serious offenses and will be dealt'</li>\n",
       "\t<li>'with severely under Dean\\'s Discipline.'</li>\n",
       "\t<li>''</li>\n",
       "</ol>\n"
      ],
      "text/latex": [
       "\\begin{enumerate*}\n",
       "\\item 'Students should be aware that academic dishonesty (for example, plagiarism, cheating on an'\n",
       "\\item 'examination, or dishonesty in dealing with a faculty member or other University official) or'\n",
       "\\item 'the threat of violence or harassment are particularly serious offenses and will be dealt'\n",
       "\\item 'with severely under Dean\\textbackslash{}'s Discipline.'\n",
       "\\item ''\n",
       "\\end{enumerate*}\n"
      ],
      "text/markdown": [
       "1. 'Students should be aware that academic dishonesty (for example, plagiarism, cheating on an'\n",
       "2. 'examination, or dishonesty in dealing with a faculty member or other University official) or'\n",
       "3. 'the threat of violence or harassment are particularly serious offenses and will be dealt'\n",
       "4. 'with severely under Dean\\'s Discipline.'\n",
       "5. ''\n",
       "\n",
       "\n"
      ],
      "text/plain": [
       "[1] \"Students should be aware that academic dishonesty (for example, plagiarism, cheating on an\"  \n",
       "[2] \"examination, or dishonesty in dealing with a faculty member or other University official) or\"\n",
       "[3] \"the threat of violence or harassment are particularly serious offenses and will be dealt\"    \n",
       "[4] \"with severely under Dean's Discipline.\"                                                      \n",
       "[5] \"\"                                                                                            "
      ]
     },
     "metadata": {},
     "output_type": "display_data"
    }
   ],
   "source": [
    "HC <- readLines(\"HonorCode2.txt\", warn = FALSE)\n",
    "\n",
    "length(HC)\n",
    "head(HC, 5)"
   ]
  },
  {
   "cell_type": "code",
   "execution_count": 39,
   "id": "045a07a1",
   "metadata": {},
   "outputs": [
    {
     "data": {
      "text/html": [
       "<ol class=list-inline>\n",
       "\t<li>'Students'</li>\n",
       "\t<li>'should'</li>\n",
       "\t<li>'be'</li>\n",
       "\t<li>'aware'</li>\n",
       "\t<li>'that'</li>\n",
       "\t<li>'academic'</li>\n",
       "\t<li>'dishonesty'</li>\n",
       "\t<li>'for'</li>\n",
       "\t<li>'example'</li>\n",
       "\t<li>'plagiarism'</li>\n",
       "\t<li>'cheating'</li>\n",
       "\t<li>'on'</li>\n",
       "\t<li>'an'</li>\n",
       "\t<li>'examination'</li>\n",
       "\t<li>'or'</li>\n",
       "\t<li>'dishonesty'</li>\n",
       "\t<li>'in'</li>\n",
       "\t<li>'dealing'</li>\n",
       "\t<li>'with'</li>\n",
       "\t<li>'a'</li>\n",
       "\t<li>'faculty'</li>\n",
       "\t<li>'member'</li>\n",
       "\t<li>'or'</li>\n",
       "\t<li>'other'</li>\n",
       "\t<li>'University'</li>\n",
       "\t<li>'official'</li>\n",
       "\t<li>'or'</li>\n",
       "\t<li>'the'</li>\n",
       "\t<li>'threat'</li>\n",
       "\t<li>'of'</li>\n",
       "</ol>\n"
      ],
      "text/latex": [
       "\\begin{enumerate*}\n",
       "\\item 'Students'\n",
       "\\item 'should'\n",
       "\\item 'be'\n",
       "\\item 'aware'\n",
       "\\item 'that'\n",
       "\\item 'academic'\n",
       "\\item 'dishonesty'\n",
       "\\item 'for'\n",
       "\\item 'example'\n",
       "\\item 'plagiarism'\n",
       "\\item 'cheating'\n",
       "\\item 'on'\n",
       "\\item 'an'\n",
       "\\item 'examination'\n",
       "\\item 'or'\n",
       "\\item 'dishonesty'\n",
       "\\item 'in'\n",
       "\\item 'dealing'\n",
       "\\item 'with'\n",
       "\\item 'a'\n",
       "\\item 'faculty'\n",
       "\\item 'member'\n",
       "\\item 'or'\n",
       "\\item 'other'\n",
       "\\item 'University'\n",
       "\\item 'official'\n",
       "\\item 'or'\n",
       "\\item 'the'\n",
       "\\item 'threat'\n",
       "\\item 'of'\n",
       "\\end{enumerate*}\n"
      ],
      "text/markdown": [
       "1. 'Students'\n",
       "2. 'should'\n",
       "3. 'be'\n",
       "4. 'aware'\n",
       "5. 'that'\n",
       "6. 'academic'\n",
       "7. 'dishonesty'\n",
       "8. 'for'\n",
       "9. 'example'\n",
       "10. 'plagiarism'\n",
       "11. 'cheating'\n",
       "12. 'on'\n",
       "13. 'an'\n",
       "14. 'examination'\n",
       "15. 'or'\n",
       "16. 'dishonesty'\n",
       "17. 'in'\n",
       "18. 'dealing'\n",
       "19. 'with'\n",
       "20. 'a'\n",
       "21. 'faculty'\n",
       "22. 'member'\n",
       "23. 'or'\n",
       "24. 'other'\n",
       "25. 'University'\n",
       "26. 'official'\n",
       "27. 'or'\n",
       "28. 'the'\n",
       "29. 'threat'\n",
       "30. 'of'\n",
       "\n",
       "\n"
      ],
      "text/plain": [
       " [1] \"Students\"    \"should\"      \"be\"          \"aware\"       \"that\"       \n",
       " [6] \"academic\"    \"dishonesty\"  \"for\"         \"example\"     \"plagiarism\" \n",
       "[11] \"cheating\"    \"on\"          \"an\"          \"examination\" \"or\"         \n",
       "[16] \"dishonesty\"  \"in\"          \"dealing\"     \"with\"        \"a\"          \n",
       "[21] \"faculty\"     \"member\"      \"or\"          \"other\"       \"University\" \n",
       "[26] \"official\"    \"or\"          \"the\"         \"threat\"      \"of\"         "
      ]
     },
     "metadata": {},
     "output_type": "display_data"
    }
   ],
   "source": [
    "# One long string\n",
    "HC <- paste(HC, collapse = \" \")\n",
    "\n",
    "# [[:punct:]] 在r中为代表任意符号的正则表达式，[[:space:]]代表空格\n",
    "HC.words <- strsplit(HC, split = \"(\\\\s|[[:punct:]])+\")[[1]]\n",
    "head(HC.words, 30)"
   ]
  },
  {
   "cell_type": "markdown",
   "id": "a9b35995",
   "metadata": {},
   "source": [
    "## Exercise\n",
    "In the previous we have the following problem: university’s splits to university and s\n",
    "\n",
    "Check that split = \"\\\\s+|([[:punct:]]+[[:space:]]+)\" gives us what we want: either any number of white spaces or at least one punctuation mark followed by at least one space."
   ]
  },
  {
   "cell_type": "code",
   "execution_count": 40,
   "id": "356d3a92",
   "metadata": {},
   "outputs": [
    {
     "data": {
      "text/html": [
       "'Students should be aware that academic dishonesty (for example, plagiarism, cheating on an examination'"
      ],
      "text/latex": [
       "'Students should be aware that academic dishonesty (for example, plagiarism, cheating on an examination'"
      ],
      "text/markdown": [
       "'Students should be aware that academic dishonesty (for example, plagiarism, cheating on an examination'"
      ],
      "text/plain": [
       "[1] \"Students should be aware that academic dishonesty (for example, plagiarism, cheating on an examination\""
      ]
     },
     "metadata": {},
     "output_type": "display_data"
    },
    {
     "data": {
      "text/html": [
       "<ol class=list-inline>\n",
       "\t<li>'Students'</li>\n",
       "\t<li>'should'</li>\n",
       "\t<li>'be'</li>\n",
       "\t<li>'aware'</li>\n",
       "\t<li>'that'</li>\n",
       "\t<li>'academic'</li>\n",
       "\t<li>'dishonesty'</li>\n",
       "\t<li>'(for'</li>\n",
       "\t<li>'example'</li>\n",
       "\t<li>'plagiarism'</li>\n",
       "\t<li>'cheating'</li>\n",
       "\t<li>'on'</li>\n",
       "\t<li>'an'</li>\n",
       "\t<li>'examination'</li>\n",
       "\t<li>'or'</li>\n",
       "\t<li>'dishonesty'</li>\n",
       "\t<li>'in'</li>\n",
       "\t<li>'dealing'</li>\n",
       "\t<li>'with'</li>\n",
       "\t<li>'a'</li>\n",
       "\t<li>'faculty'</li>\n",
       "\t<li>'member'</li>\n",
       "\t<li>'or'</li>\n",
       "\t<li>'other'</li>\n",
       "\t<li>'University'</li>\n",
       "\t<li>'official'</li>\n",
       "\t<li>'or'</li>\n",
       "\t<li>'the'</li>\n",
       "\t<li>'threat'</li>\n",
       "\t<li>'of'</li>\n",
       "</ol>\n"
      ],
      "text/latex": [
       "\\begin{enumerate*}\n",
       "\\item 'Students'\n",
       "\\item 'should'\n",
       "\\item 'be'\n",
       "\\item 'aware'\n",
       "\\item 'that'\n",
       "\\item 'academic'\n",
       "\\item 'dishonesty'\n",
       "\\item '(for'\n",
       "\\item 'example'\n",
       "\\item 'plagiarism'\n",
       "\\item 'cheating'\n",
       "\\item 'on'\n",
       "\\item 'an'\n",
       "\\item 'examination'\n",
       "\\item 'or'\n",
       "\\item 'dishonesty'\n",
       "\\item 'in'\n",
       "\\item 'dealing'\n",
       "\\item 'with'\n",
       "\\item 'a'\n",
       "\\item 'faculty'\n",
       "\\item 'member'\n",
       "\\item 'or'\n",
       "\\item 'other'\n",
       "\\item 'University'\n",
       "\\item 'official'\n",
       "\\item 'or'\n",
       "\\item 'the'\n",
       "\\item 'threat'\n",
       "\\item 'of'\n",
       "\\end{enumerate*}\n"
      ],
      "text/markdown": [
       "1. 'Students'\n",
       "2. 'should'\n",
       "3. 'be'\n",
       "4. 'aware'\n",
       "5. 'that'\n",
       "6. 'academic'\n",
       "7. 'dishonesty'\n",
       "8. '(for'\n",
       "9. 'example'\n",
       "10. 'plagiarism'\n",
       "11. 'cheating'\n",
       "12. 'on'\n",
       "13. 'an'\n",
       "14. 'examination'\n",
       "15. 'or'\n",
       "16. 'dishonesty'\n",
       "17. 'in'\n",
       "18. 'dealing'\n",
       "19. 'with'\n",
       "20. 'a'\n",
       "21. 'faculty'\n",
       "22. 'member'\n",
       "23. 'or'\n",
       "24. 'other'\n",
       "25. 'University'\n",
       "26. 'official'\n",
       "27. 'or'\n",
       "28. 'the'\n",
       "29. 'threat'\n",
       "30. 'of'\n",
       "\n",
       "\n"
      ],
      "text/plain": [
       " [1] \"Students\"    \"should\"      \"be\"          \"aware\"       \"that\"       \n",
       " [6] \"academic\"    \"dishonesty\"  \"(for\"        \"example\"     \"plagiarism\" \n",
       "[11] \"cheating\"    \"on\"          \"an\"          \"examination\" \"or\"         \n",
       "[16] \"dishonesty\"  \"in\"          \"dealing\"     \"with\"        \"a\"          \n",
       "[21] \"faculty\"     \"member\"      \"or\"          \"other\"       \"University\" \n",
       "[26] \"official\"    \"or\"          \"the\"         \"threat\"      \"of\"         "
      ]
     },
     "metadata": {},
     "output_type": "display_data"
    }
   ],
   "source": [
    "# 发现有一项前面有(，因为代码的规则是：标点一次或多次 + 空格一次或多次，虽然匹配了\n",
    "# 标点，但没有匹配空格，因此与regex代码不匹配，(则被无视\n",
    "substr(HC, start = 1, stop = 102)\n",
    "\n",
    "HC.words <- strsplit(HC, split = \"\\\\s+|([[:punct:]]+[[:space:]]+)\")[[1]]\n",
    "head(HC.words, 30)"
   ]
  },
  {
   "cell_type": "code",
   "execution_count": 41,
   "id": "7c791673",
   "metadata": {},
   "outputs": [
    {
     "data": {
      "text/html": [
       "<ol class=list-inline>\n",
       "\t<li>'Students'</li>\n",
       "\t<li>'should'</li>\n",
       "\t<li>'be'</li>\n",
       "\t<li>'aware'</li>\n",
       "\t<li>'that'</li>\n",
       "\t<li>'academic'</li>\n",
       "\t<li>'dishonesty'</li>\n",
       "\t<li>''</li>\n",
       "\t<li>'for'</li>\n",
       "\t<li>'example'</li>\n",
       "\t<li>'plagiarism'</li>\n",
       "\t<li>'cheating'</li>\n",
       "\t<li>'on'</li>\n",
       "\t<li>'an'</li>\n",
       "\t<li>'examination'</li>\n",
       "\t<li>'or'</li>\n",
       "\t<li>'dishonesty'</li>\n",
       "\t<li>'in'</li>\n",
       "\t<li>'dealing'</li>\n",
       "\t<li>'with'</li>\n",
       "\t<li>'a'</li>\n",
       "\t<li>'faculty'</li>\n",
       "\t<li>'member'</li>\n",
       "\t<li>'or'</li>\n",
       "\t<li>'other'</li>\n",
       "\t<li>'University'</li>\n",
       "\t<li>'official'</li>\n",
       "\t<li>'or'</li>\n",
       "\t<li>'the'</li>\n",
       "\t<li>'threat'</li>\n",
       "</ol>\n"
      ],
      "text/latex": [
       "\\begin{enumerate*}\n",
       "\\item 'Students'\n",
       "\\item 'should'\n",
       "\\item 'be'\n",
       "\\item 'aware'\n",
       "\\item 'that'\n",
       "\\item 'academic'\n",
       "\\item 'dishonesty'\n",
       "\\item ''\n",
       "\\item 'for'\n",
       "\\item 'example'\n",
       "\\item 'plagiarism'\n",
       "\\item 'cheating'\n",
       "\\item 'on'\n",
       "\\item 'an'\n",
       "\\item 'examination'\n",
       "\\item 'or'\n",
       "\\item 'dishonesty'\n",
       "\\item 'in'\n",
       "\\item 'dealing'\n",
       "\\item 'with'\n",
       "\\item 'a'\n",
       "\\item 'faculty'\n",
       "\\item 'member'\n",
       "\\item 'or'\n",
       "\\item 'other'\n",
       "\\item 'University'\n",
       "\\item 'official'\n",
       "\\item 'or'\n",
       "\\item 'the'\n",
       "\\item 'threat'\n",
       "\\end{enumerate*}\n"
      ],
      "text/markdown": [
       "1. 'Students'\n",
       "2. 'should'\n",
       "3. 'be'\n",
       "4. 'aware'\n",
       "5. 'that'\n",
       "6. 'academic'\n",
       "7. 'dishonesty'\n",
       "8. ''\n",
       "9. 'for'\n",
       "10. 'example'\n",
       "11. 'plagiarism'\n",
       "12. 'cheating'\n",
       "13. 'on'\n",
       "14. 'an'\n",
       "15. 'examination'\n",
       "16. 'or'\n",
       "17. 'dishonesty'\n",
       "18. 'in'\n",
       "19. 'dealing'\n",
       "20. 'with'\n",
       "21. 'a'\n",
       "22. 'faculty'\n",
       "23. 'member'\n",
       "24. 'or'\n",
       "25. 'other'\n",
       "26. 'University'\n",
       "27. 'official'\n",
       "28. 'or'\n",
       "29. 'the'\n",
       "30. 'threat'\n",
       "\n",
       "\n"
      ],
      "text/plain": [
       " [1] \"Students\"    \"should\"      \"be\"          \"aware\"       \"that\"       \n",
       " [6] \"academic\"    \"dishonesty\"  \"\"            \"for\"         \"example\"    \n",
       "[11] \"plagiarism\"  \"cheating\"    \"on\"          \"an\"          \"examination\"\n",
       "[16] \"or\"          \"dishonesty\"  \"in\"          \"dealing\"     \"with\"       \n",
       "[21] \"a\"           \"faculty\"     \"member\"      \"or\"          \"other\"      \n",
       "[26] \"University\"  \"official\"    \"or\"          \"the\"         \"threat\"     "
      ]
     },
     "metadata": {},
     "output_type": "display_data"
    }
   ],
   "source": [
    "# 如果稍作修改，把“空格一次或多次”换成“空格零次或多次”呢？\n",
    "# 会发现还是不对，结果中会出现一项\"\"，代表空值，为什么会这样？\n",
    "# 出错处对应的这句话是：dishonesty (for example, plagiarism\n",
    "# 虽然看似这样改动能解决问题，但是，regex在dishonesty后面的空格后断开，剩下：\n",
    "# (for example, plagiarism。regex紧接着匹配到(，在(处又断开，但(前面已经没有字符了，\n",
    "# 所以在前面会出现\"\"这个空值。\n",
    "\n",
    "HC.words <- strsplit(HC, split = \"\\\\s+|([[:punct:]]+[[:space:]]*)\")[[1]]\n",
    "head(HC.words, 30)"
   ]
  },
  {
   "cell_type": "code",
   "execution_count": 42,
   "id": "16b75b98",
   "metadata": {},
   "outputs": [
    {
     "data": {
      "text/html": [
       "<ol>\n",
       "\t<li><ol class=list-inline>\n",
       "\t<li>''</li>\n",
       "\t<li>'bcde'</li>\n",
       "</ol>\n",
       "</li>\n",
       "</ol>\n"
      ],
      "text/latex": [
       "\\begin{enumerate}\n",
       "\\item \\begin{enumerate*}\n",
       "\\item ''\n",
       "\\item 'bcde'\n",
       "\\end{enumerate*}\n",
       "\n",
       "\\end{enumerate}\n"
      ],
      "text/markdown": [
       "1. 1. ''\n",
       "2. 'bcde'\n",
       "\n",
       "\n",
       "\n",
       "\n",
       "\n"
      ],
      "text/plain": [
       "[[1]]\n",
       "[1] \"\"     \"bcde\"\n"
      ]
     },
     "metadata": {},
     "output_type": "display_data"
    }
   ],
   "source": [
    "# 例如以下regex，也会出现空值，因为断开处是a，而a为首项\n",
    "strsplit(\"abcde\", split = '[a]')"
   ]
  },
  {
   "cell_type": "code",
   "execution_count": 43,
   "id": "1e3d1f17",
   "metadata": {},
   "outputs": [
    {
     "data": {
      "text/html": [
       "'Students should be aware that academic dishonesty (for example, plagiarism, cheating on an examination'"
      ],
      "text/latex": [
       "'Students should be aware that academic dishonesty (for example, plagiarism, cheating on an examination'"
      ],
      "text/markdown": [
       "'Students should be aware that academic dishonesty (for example, plagiarism, cheating on an examination'"
      ],
      "text/plain": [
       "[1] \"Students should be aware that academic dishonesty (for example, plagiarism, cheating on an examination\""
      ]
     },
     "metadata": {},
     "output_type": "display_data"
    },
    {
     "data": {
      "text/html": [
       "<ol class=list-inline>\n",
       "\t<li>'Students'</li>\n",
       "\t<li>'should'</li>\n",
       "\t<li>'be'</li>\n",
       "\t<li>'aware'</li>\n",
       "\t<li>'that'</li>\n",
       "\t<li>'academic'</li>\n",
       "\t<li>'dishonesty'</li>\n",
       "\t<li>'for'</li>\n",
       "\t<li>'example'</li>\n",
       "\t<li>'plagiarism'</li>\n",
       "\t<li>'cheating'</li>\n",
       "\t<li>'on'</li>\n",
       "\t<li>'an'</li>\n",
       "\t<li>'examination'</li>\n",
       "\t<li>'or'</li>\n",
       "\t<li>'dishonesty'</li>\n",
       "\t<li>'in'</li>\n",
       "\t<li>'dealing'</li>\n",
       "\t<li>'with'</li>\n",
       "\t<li>'a'</li>\n",
       "\t<li>'faculty'</li>\n",
       "\t<li>'member'</li>\n",
       "\t<li>'or'</li>\n",
       "\t<li>'other'</li>\n",
       "\t<li>'University'</li>\n",
       "\t<li>'official'</li>\n",
       "\t<li>'or'</li>\n",
       "\t<li>'the'</li>\n",
       "\t<li>'threat'</li>\n",
       "\t<li>'of'</li>\n",
       "</ol>\n"
      ],
      "text/latex": [
       "\\begin{enumerate*}\n",
       "\\item 'Students'\n",
       "\\item 'should'\n",
       "\\item 'be'\n",
       "\\item 'aware'\n",
       "\\item 'that'\n",
       "\\item 'academic'\n",
       "\\item 'dishonesty'\n",
       "\\item 'for'\n",
       "\\item 'example'\n",
       "\\item 'plagiarism'\n",
       "\\item 'cheating'\n",
       "\\item 'on'\n",
       "\\item 'an'\n",
       "\\item 'examination'\n",
       "\\item 'or'\n",
       "\\item 'dishonesty'\n",
       "\\item 'in'\n",
       "\\item 'dealing'\n",
       "\\item 'with'\n",
       "\\item 'a'\n",
       "\\item 'faculty'\n",
       "\\item 'member'\n",
       "\\item 'or'\n",
       "\\item 'other'\n",
       "\\item 'University'\n",
       "\\item 'official'\n",
       "\\item 'or'\n",
       "\\item 'the'\n",
       "\\item 'threat'\n",
       "\\item 'of'\n",
       "\\end{enumerate*}\n"
      ],
      "text/markdown": [
       "1. 'Students'\n",
       "2. 'should'\n",
       "3. 'be'\n",
       "4. 'aware'\n",
       "5. 'that'\n",
       "6. 'academic'\n",
       "7. 'dishonesty'\n",
       "8. 'for'\n",
       "9. 'example'\n",
       "10. 'plagiarism'\n",
       "11. 'cheating'\n",
       "12. 'on'\n",
       "13. 'an'\n",
       "14. 'examination'\n",
       "15. 'or'\n",
       "16. 'dishonesty'\n",
       "17. 'in'\n",
       "18. 'dealing'\n",
       "19. 'with'\n",
       "20. 'a'\n",
       "21. 'faculty'\n",
       "22. 'member'\n",
       "23. 'or'\n",
       "24. 'other'\n",
       "25. 'University'\n",
       "26. 'official'\n",
       "27. 'or'\n",
       "28. 'the'\n",
       "29. 'threat'\n",
       "30. 'of'\n",
       "\n",
       "\n"
      ],
      "text/plain": [
       " [1] \"Students\"    \"should\"      \"be\"          \"aware\"       \"that\"       \n",
       " [6] \"academic\"    \"dishonesty\"  \"for\"         \"example\"     \"plagiarism\" \n",
       "[11] \"cheating\"    \"on\"          \"an\"          \"examination\" \"or\"         \n",
       "[16] \"dishonesty\"  \"in\"          \"dealing\"     \"with\"        \"a\"          \n",
       "[21] \"faculty\"     \"member\"      \"or\"          \"other\"       \"University\" \n",
       "[26] \"official\"    \"or\"          \"the\"         \"threat\"      \"of\"         "
      ]
     },
     "metadata": {},
     "output_type": "display_data"
    }
   ],
   "source": [
    "# 解决办法\n",
    "substr(HC, start = 1, stop = 102)\n",
    "\n",
    "HC.words <- strsplit(HC, split = \"\\\\s+[[:punct:]]*|([[:punct:]]+[[:space:]]*)\")[[1]]\n",
    "head(HC.words, 30)"
   ]
  },
  {
   "cell_type": "code",
   "execution_count": 44,
   "id": "27cb5ea4",
   "metadata": {},
   "outputs": [
    {
     "data": {
      "text/html": [
       "<ol class=list-inline>\n",
       "\t<li>'&lt;HTML&gt;&lt;HEAD&gt;&lt;TITLE&gt;NCEDC_Search_Results&lt;/TITLE&gt;&lt;/HEAD&gt;&lt;BODY&gt;Your search parameters are:&lt;ul&gt;'</li>\n",
       "\t<li>'&lt;li&gt;catalog=ANSS'</li>\n",
       "\t<li>'&lt;li&gt;start_time=2002/01/01,00:00:00'</li>\n",
       "\t<li>'&lt;li&gt;end_time=2016/01/01,00:00:00'</li>\n",
       "\t<li>'&lt;li&gt;minimum_magnitude=6.0'</li>\n",
       "\t<li>'&lt;li&gt;maximum_magnitude=10'</li>\n",
       "</ol>\n"
      ],
      "text/latex": [
       "\\begin{enumerate*}\n",
       "\\item '<HTML><HEAD><TITLE>NCEDC\\_Search\\_Results</TITLE></HEAD><BODY>Your search parameters are:<ul>'\n",
       "\\item '<li>catalog=ANSS'\n",
       "\\item '<li>start\\_time=2002/01/01,00:00:00'\n",
       "\\item '<li>end\\_time=2016/01/01,00:00:00'\n",
       "\\item '<li>minimum\\_magnitude=6.0'\n",
       "\\item '<li>maximum\\_magnitude=10'\n",
       "\\end{enumerate*}\n"
      ],
      "text/markdown": [
       "1. '&lt;HTML&gt;&lt;HEAD&gt;&lt;TITLE&gt;NCEDC_Search_Results&lt;/TITLE&gt;&lt;/HEAD&gt;&lt;BODY&gt;Your search parameters are:&lt;ul&gt;'\n",
       "2. '&lt;li&gt;catalog=ANSS'\n",
       "3. '&lt;li&gt;start_time=2002/01/01,00:00:00'\n",
       "4. '&lt;li&gt;end_time=2016/01/01,00:00:00'\n",
       "5. '&lt;li&gt;minimum_magnitude=6.0'\n",
       "6. '&lt;li&gt;maximum_magnitude=10'\n",
       "\n",
       "\n"
      ],
      "text/plain": [
       "[1] \"<HTML><HEAD><TITLE>NCEDC_Search_Results</TITLE></HEAD><BODY>Your search parameters are:<ul>\"\n",
       "[2] \"<li>catalog=ANSS\"                                                                           \n",
       "[3] \"<li>start_time=2002/01/01,00:00:00\"                                                         \n",
       "[4] \"<li>end_time=2016/01/01,00:00:00\"                                                           \n",
       "[5] \"<li>minimum_magnitude=6.0\"                                                                  \n",
       "[6] \"<li>maximum_magnitude=10\"                                                                   "
      ]
     },
     "metadata": {},
     "output_type": "display_data"
    },
    {
     "data": {
      "text/html": [
       "<ol class=list-inline>\n",
       "\t<li><span style=white-space:pre-wrap>'2015/12/19 02:10:53.36 -18.3819  169.3857  10.00  6.00   Mw       22    3 0.87  us  201512192005'</span></li>\n",
       "\t<li><span style=white-space:pre-wrap>'2015/12/20 18:47:35.53   3.6384  117.6310   6.93  6.10   Mw       70    2 0.81  us  201512202043'</span></li>\n",
       "\t<li><span style=white-space:pre-wrap>'2015/12/24 19:44:03.13 -55.7550 -123.1158  12.28  6.20   Mw       36   28 1.24  us  201512242033'</span></li>\n",
       "\t<li><span style=white-space:pre-wrap>'2015/12/25 19:14:47.17  36.4872   71.1308 206.00  6.30   Mw       17    1 0.94  us  201512252045'</span></li>\n",
       "\t<li>'&lt;/PRE&gt;'</li>\n",
       "\t<li>'&lt;/BODY&gt;&lt;/HTML&gt;'</li>\n",
       "</ol>\n"
      ],
      "text/latex": [
       "\\begin{enumerate*}\n",
       "\\item '2015/12/19 02:10:53.36 -18.3819  169.3857  10.00  6.00   Mw       22    3 0.87  us  201512192005'\n",
       "\\item '2015/12/20 18:47:35.53   3.6384  117.6310   6.93  6.10   Mw       70    2 0.81  us  201512202043'\n",
       "\\item '2015/12/24 19:44:03.13 -55.7550 -123.1158  12.28  6.20   Mw       36   28 1.24  us  201512242033'\n",
       "\\item '2015/12/25 19:14:47.17  36.4872   71.1308 206.00  6.30   Mw       17    1 0.94  us  201512252045'\n",
       "\\item '</PRE>'\n",
       "\\item '</BODY></HTML>'\n",
       "\\end{enumerate*}\n"
      ],
      "text/markdown": [
       "1. <span style=white-space:pre-wrap>'2015/12/19 02:10:53.36 -18.3819  169.3857  10.00  6.00   Mw       22    3 0.87  us  201512192005'</span>\n",
       "2. <span style=white-space:pre-wrap>'2015/12/20 18:47:35.53   3.6384  117.6310   6.93  6.10   Mw       70    2 0.81  us  201512202043'</span>\n",
       "3. <span style=white-space:pre-wrap>'2015/12/24 19:44:03.13 -55.7550 -123.1158  12.28  6.20   Mw       36   28 1.24  us  201512242033'</span>\n",
       "4. <span style=white-space:pre-wrap>'2015/12/25 19:14:47.17  36.4872   71.1308 206.00  6.30   Mw       17    1 0.94  us  201512252045'</span>\n",
       "5. '&lt;/PRE&gt;'\n",
       "6. '&lt;/BODY&gt;&lt;/HTML&gt;'\n",
       "\n",
       "\n"
      ],
      "text/plain": [
       "[1] \"2015/12/19 02:10:53.36 -18.3819  169.3857  10.00  6.00   Mw       22    3 0.87  us  201512192005\"\n",
       "[2] \"2015/12/20 18:47:35.53   3.6384  117.6310   6.93  6.10   Mw       70    2 0.81  us  201512202043\"\n",
       "[3] \"2015/12/24 19:44:03.13 -55.7550 -123.1158  12.28  6.20   Mw       36   28 1.24  us  201512242033\"\n",
       "[4] \"2015/12/25 19:14:47.17  36.4872   71.1308 206.00  6.30   Mw       17    1 0.94  us  201512252045\"\n",
       "[5] \"</PRE>\"                                                                                          \n",
       "[6] \"</BODY></HTML>\"                                                                                  "
      ]
     },
     "metadata": {},
     "output_type": "display_data"
    },
    {
     "data": {
      "text/html": [
       "<ol class=list-inline>\n",
       "\t<li>'&lt;/ul&gt;'</li>\n",
       "\t<li>'&lt;PRE&gt;'</li>\n",
       "\t<li><span style=white-space:pre-wrap>'Date       Time             Lat       Lon  Depth   Mag Magt  Nst Gap  Clo  RMS  SRC   Event ID'</span></li>\n",
       "\t<li>'----------------------------------------------------------------------------------------------'</li>\n",
       "\t<li><span style=white-space:pre-wrap>'2002/01/01 10:39:06.82 -55.2140 -129.0000  10.00  6.00   Mw   78          1.07  NEI 200201014017'</span></li>\n",
       "\t<li><span style=white-space:pre-wrap>'2002/01/01 11:29:22.73   6.3030  125.6500 138.10  6.30   Mw  236          0.90  NEI 200201014018'</span></li>\n",
       "\t<li><span style=white-space:pre-wrap>'2002/01/02 14:50:33.49 -17.9830  178.7440 665.80  6.20   Mw  215          1.08  NEI 200201024034'</span></li>\n",
       "\t<li><span style=white-space:pre-wrap>'2002/01/02 17:22:48.76 -17.6000  167.8560  21.00  7.20   Mw  427          0.90  NEI 200201024041'</span></li>\n",
       "</ol>\n"
      ],
      "text/latex": [
       "\\begin{enumerate*}\n",
       "\\item '</ul>'\n",
       "\\item '<PRE>'\n",
       "\\item 'Date       Time             Lat       Lon  Depth   Mag Magt  Nst Gap  Clo  RMS  SRC   Event ID'\n",
       "\\item '----------------------------------------------------------------------------------------------'\n",
       "\\item '2002/01/01 10:39:06.82 -55.2140 -129.0000  10.00  6.00   Mw   78          1.07  NEI 200201014017'\n",
       "\\item '2002/01/01 11:29:22.73   6.3030  125.6500 138.10  6.30   Mw  236          0.90  NEI 200201014018'\n",
       "\\item '2002/01/02 14:50:33.49 -17.9830  178.7440 665.80  6.20   Mw  215          1.08  NEI 200201024034'\n",
       "\\item '2002/01/02 17:22:48.76 -17.6000  167.8560  21.00  7.20   Mw  427          0.90  NEI 200201024041'\n",
       "\\end{enumerate*}\n"
      ],
      "text/markdown": [
       "1. '&lt;/ul&gt;'\n",
       "2. '&lt;PRE&gt;'\n",
       "3. <span style=white-space:pre-wrap>'Date       Time             Lat       Lon  Depth   Mag Magt  Nst Gap  Clo  RMS  SRC   Event ID'</span>\n",
       "4. '----------------------------------------------------------------------------------------------'\n",
       "5. <span style=white-space:pre-wrap>'2002/01/01 10:39:06.82 -55.2140 -129.0000  10.00  6.00   Mw   78          1.07  NEI 200201014017'</span>\n",
       "6. <span style=white-space:pre-wrap>'2002/01/01 11:29:22.73   6.3030  125.6500 138.10  6.30   Mw  236          0.90  NEI 200201014018'</span>\n",
       "7. <span style=white-space:pre-wrap>'2002/01/02 14:50:33.49 -17.9830  178.7440 665.80  6.20   Mw  215          1.08  NEI 200201024034'</span>\n",
       "8. <span style=white-space:pre-wrap>'2002/01/02 17:22:48.76 -17.6000  167.8560  21.00  7.20   Mw  427          0.90  NEI 200201024041'</span>\n",
       "\n",
       "\n"
      ],
      "text/plain": [
       "[1] \"</ul>\"                                                                                           \n",
       "[2] \"<PRE>\"                                                                                           \n",
       "[3] \"Date       Time             Lat       Lon  Depth   Mag Magt  Nst Gap  Clo  RMS  SRC   Event ID\"  \n",
       "[4] \"----------------------------------------------------------------------------------------------\"  \n",
       "[5] \"2002/01/01 10:39:06.82 -55.2140 -129.0000  10.00  6.00   Mw   78          1.07  NEI 200201014017\"\n",
       "[6] \"2002/01/01 11:29:22.73   6.3030  125.6500 138.10  6.30   Mw  236          0.90  NEI 200201014018\"\n",
       "[7] \"2002/01/02 14:50:33.49 -17.9830  178.7440 665.80  6.20   Mw  215          1.08  NEI 200201024034\"\n",
       "[8] \"2002/01/02 17:22:48.76 -17.6000  167.8560  21.00  7.20   Mw  427          0.90  NEI 200201024041\""
      ]
     },
     "metadata": {},
     "output_type": "display_data"
    }
   ],
   "source": [
    "quakes <- readLines(\"NCEDC_Search_Results.html\", warn = FALSE)\n",
    "head(quakes)\n",
    "\n",
    "tail(quakes)\n",
    "\n",
    "quakes[8:15]"
   ]
  },
  {
   "cell_type": "markdown",
   "id": "f4caac68",
   "metadata": {},
   "source": [
    "## Tasks\n",
    "• Get rid of the first few lines of HTML formatting code and search parameters.\n",
    "\n",
    "• Actual data begins on line 12. Headers on line 11.\n",
    "\n",
    "• Strategy: all data lines begin with a date in format YYYY/MM/DD."
   ]
  },
  {
   "cell_type": "code",
   "execution_count": 45,
   "id": "2b6179ac",
   "metadata": {
    "scrolled": true
   },
   "outputs": [
    {
     "data": {
      "text/html": [
       "<ol class=list-inline>\n",
       "\t<li><span style=white-space:pre-wrap>'2002/01/01 10:39:06.82 -55.2140 -129.0000  10.00  6.00   Mw   78          1.07  NEI 200201014017'</span></li>\n",
       "\t<li><span style=white-space:pre-wrap>'2002/01/01 11:29:22.73   6.3030  125.6500 138.10  6.30   Mw  236          0.90  NEI 200201014018'</span></li>\n",
       "\t<li><span style=white-space:pre-wrap>'2002/01/02 14:50:33.49 -17.9830  178.7440 665.80  6.20   Mw  215          1.08  NEI 200201024034'</span></li>\n",
       "\t<li><span style=white-space:pre-wrap>'2002/01/02 17:22:48.76 -17.6000  167.8560  21.00  7.20   Mw  427          0.90  NEI 200201024041'</span></li>\n",
       "\t<li><span style=white-space:pre-wrap>'2002/01/03 07:05:27.67  36.0880   70.6870 129.30  6.20   Mw  431          0.87  NEI 200201034024'</span></li>\n",
       "\t<li><span style=white-space:pre-wrap>'2002/01/03 10:17:36.30 -17.6640  168.0040  10.00  6.60   Mw  386          1.14  NEI 200201034040'</span></li>\n",
       "</ol>\n"
      ],
      "text/latex": [
       "\\begin{enumerate*}\n",
       "\\item '2002/01/01 10:39:06.82 -55.2140 -129.0000  10.00  6.00   Mw   78          1.07  NEI 200201014017'\n",
       "\\item '2002/01/01 11:29:22.73   6.3030  125.6500 138.10  6.30   Mw  236          0.90  NEI 200201014018'\n",
       "\\item '2002/01/02 14:50:33.49 -17.9830  178.7440 665.80  6.20   Mw  215          1.08  NEI 200201024034'\n",
       "\\item '2002/01/02 17:22:48.76 -17.6000  167.8560  21.00  7.20   Mw  427          0.90  NEI 200201024041'\n",
       "\\item '2002/01/03 07:05:27.67  36.0880   70.6870 129.30  6.20   Mw  431          0.87  NEI 200201034024'\n",
       "\\item '2002/01/03 10:17:36.30 -17.6640  168.0040  10.00  6.60   Mw  386          1.14  NEI 200201034040'\n",
       "\\end{enumerate*}\n"
      ],
      "text/markdown": [
       "1. <span style=white-space:pre-wrap>'2002/01/01 10:39:06.82 -55.2140 -129.0000  10.00  6.00   Mw   78          1.07  NEI 200201014017'</span>\n",
       "2. <span style=white-space:pre-wrap>'2002/01/01 11:29:22.73   6.3030  125.6500 138.10  6.30   Mw  236          0.90  NEI 200201014018'</span>\n",
       "3. <span style=white-space:pre-wrap>'2002/01/02 14:50:33.49 -17.9830  178.7440 665.80  6.20   Mw  215          1.08  NEI 200201024034'</span>\n",
       "4. <span style=white-space:pre-wrap>'2002/01/02 17:22:48.76 -17.6000  167.8560  21.00  7.20   Mw  427          0.90  NEI 200201024041'</span>\n",
       "5. <span style=white-space:pre-wrap>'2002/01/03 07:05:27.67  36.0880   70.6870 129.30  6.20   Mw  431          0.87  NEI 200201034024'</span>\n",
       "6. <span style=white-space:pre-wrap>'2002/01/03 10:17:36.30 -17.6640  168.0040  10.00  6.60   Mw  386          1.14  NEI 200201034040'</span>\n",
       "\n",
       "\n"
      ],
      "text/plain": [
       "[1] \"2002/01/01 10:39:06.82 -55.2140 -129.0000  10.00  6.00   Mw   78          1.07  NEI 200201014017\"\n",
       "[2] \"2002/01/01 11:29:22.73   6.3030  125.6500 138.10  6.30   Mw  236          0.90  NEI 200201014018\"\n",
       "[3] \"2002/01/02 14:50:33.49 -17.9830  178.7440 665.80  6.20   Mw  215          1.08  NEI 200201024034\"\n",
       "[4] \"2002/01/02 17:22:48.76 -17.6000  167.8560  21.00  7.20   Mw  427          0.90  NEI 200201024041\"\n",
       "[5] \"2002/01/03 07:05:27.67  36.0880   70.6870 129.30  6.20   Mw  431          0.87  NEI 200201034024\"\n",
       "[6] \"2002/01/03 10:17:36.30 -17.6640  168.0040  10.00  6.60   Mw  386          1.14  NEI 200201034040\""
      ]
     },
     "metadata": {},
     "output_type": "display_data"
    },
    {
     "data": {
      "text/html": [
       "<ol class=list-inline>\n",
       "\t<li><span style=white-space:pre-wrap>'2015/12/09 12:58:01.78 -16.7374  175.2475  10.00  6.10   Mw       65    3 0.80  us  201512092066'</span></li>\n",
       "\t<li><span style=white-space:pre-wrap>'2015/12/17 19:49:53.15  15.8044  -93.6269  85.95  6.60   Mw       35    0 1.37  us  201512172041'</span></li>\n",
       "\t<li><span style=white-space:pre-wrap>'2015/12/19 02:10:53.36 -18.3819  169.3857  10.00  6.00   Mw       22    3 0.87  us  201512192005'</span></li>\n",
       "\t<li><span style=white-space:pre-wrap>'2015/12/20 18:47:35.53   3.6384  117.6310   6.93  6.10   Mw       70    2 0.81  us  201512202043'</span></li>\n",
       "\t<li><span style=white-space:pre-wrap>'2015/12/24 19:44:03.13 -55.7550 -123.1158  12.28  6.20   Mw       36   28 1.24  us  201512242033'</span></li>\n",
       "\t<li><span style=white-space:pre-wrap>'2015/12/25 19:14:47.17  36.4872   71.1308 206.00  6.30   Mw       17    1 0.94  us  201512252045'</span></li>\n",
       "</ol>\n"
      ],
      "text/latex": [
       "\\begin{enumerate*}\n",
       "\\item '2015/12/09 12:58:01.78 -16.7374  175.2475  10.00  6.10   Mw       65    3 0.80  us  201512092066'\n",
       "\\item '2015/12/17 19:49:53.15  15.8044  -93.6269  85.95  6.60   Mw       35    0 1.37  us  201512172041'\n",
       "\\item '2015/12/19 02:10:53.36 -18.3819  169.3857  10.00  6.00   Mw       22    3 0.87  us  201512192005'\n",
       "\\item '2015/12/20 18:47:35.53   3.6384  117.6310   6.93  6.10   Mw       70    2 0.81  us  201512202043'\n",
       "\\item '2015/12/24 19:44:03.13 -55.7550 -123.1158  12.28  6.20   Mw       36   28 1.24  us  201512242033'\n",
       "\\item '2015/12/25 19:14:47.17  36.4872   71.1308 206.00  6.30   Mw       17    1 0.94  us  201512252045'\n",
       "\\end{enumerate*}\n"
      ],
      "text/markdown": [
       "1. <span style=white-space:pre-wrap>'2015/12/09 12:58:01.78 -16.7374  175.2475  10.00  6.10   Mw       65    3 0.80  us  201512092066'</span>\n",
       "2. <span style=white-space:pre-wrap>'2015/12/17 19:49:53.15  15.8044  -93.6269  85.95  6.60   Mw       35    0 1.37  us  201512172041'</span>\n",
       "3. <span style=white-space:pre-wrap>'2015/12/19 02:10:53.36 -18.3819  169.3857  10.00  6.00   Mw       22    3 0.87  us  201512192005'</span>\n",
       "4. <span style=white-space:pre-wrap>'2015/12/20 18:47:35.53   3.6384  117.6310   6.93  6.10   Mw       70    2 0.81  us  201512202043'</span>\n",
       "5. <span style=white-space:pre-wrap>'2015/12/24 19:44:03.13 -55.7550 -123.1158  12.28  6.20   Mw       36   28 1.24  us  201512242033'</span>\n",
       "6. <span style=white-space:pre-wrap>'2015/12/25 19:14:47.17  36.4872   71.1308 206.00  6.30   Mw       17    1 0.94  us  201512252045'</span>\n",
       "\n",
       "\n"
      ],
      "text/plain": [
       "[1] \"2015/12/09 12:58:01.78 -16.7374  175.2475  10.00  6.10   Mw       65    3 0.80  us  201512092066\"\n",
       "[2] \"2015/12/17 19:49:53.15  15.8044  -93.6269  85.95  6.60   Mw       35    0 1.37  us  201512172041\"\n",
       "[3] \"2015/12/19 02:10:53.36 -18.3819  169.3857  10.00  6.00   Mw       22    3 0.87  us  201512192005\"\n",
       "[4] \"2015/12/20 18:47:35.53   3.6384  117.6310   6.93  6.10   Mw       70    2 0.81  us  201512202043\"\n",
       "[5] \"2015/12/24 19:44:03.13 -55.7550 -123.1158  12.28  6.20   Mw       36   28 1.24  us  201512242033\"\n",
       "[6] \"2015/12/25 19:14:47.17  36.4872   71.1308 206.00  6.30   Mw       17    1 0.94  us  201512252045\""
      ]
     },
     "metadata": {},
     "output_type": "display_data"
    }
   ],
   "source": [
    "new_quakes <- quakes[grep(pattern = \"^\\\\d{4}/\\\\d{2}/\\\\d{2}\", quakes)]\n",
    "head(new_quakes)\n",
    "tail(new_quakes)"
   ]
  },
  {
   "cell_type": "code",
   "execution_count": 46,
   "id": "eb1687ec",
   "metadata": {},
   "outputs": [
    {
     "data": {
      "text/html": [
       "<ol class=list-inline>\n",
       "\t<li>'&lt;HTML&gt;&lt;HEAD&gt;&lt;TITLE&gt;NCEDC_Search_Results&lt;/TITLE&gt;&lt;/HEAD&gt;&lt;BODY&gt;Your search parameters are:&lt;ul&gt;'</li>\n",
       "\t<li>'&lt;li&gt;catalog=ANSS'</li>\n",
       "\t<li>'&lt;li&gt;start_time=2002/01/01,00:00:00'</li>\n",
       "\t<li>'&lt;li&gt;end_time=2016/01/01,00:00:00'</li>\n",
       "\t<li>'&lt;li&gt;minimum_magnitude=6.0'</li>\n",
       "\t<li>'&lt;li&gt;maximum_magnitude=10'</li>\n",
       "\t<li>'&lt;li&gt;event_type=E'</li>\n",
       "\t<li>'&lt;/ul&gt;'</li>\n",
       "\t<li>'&lt;PRE&gt;'</li>\n",
       "\t<li><span style=white-space:pre-wrap>'Date       Time             Lat       Lon  Depth   Mag Magt  Nst Gap  Clo  RMS  SRC   Event ID'</span></li>\n",
       "\t<li>'----------------------------------------------------------------------------------------------'</li>\n",
       "\t<li>'&lt;/PRE&gt;'</li>\n",
       "\t<li>'&lt;/BODY&gt;&lt;/HTML&gt;'</li>\n",
       "</ol>\n"
      ],
      "text/latex": [
       "\\begin{enumerate*}\n",
       "\\item '<HTML><HEAD><TITLE>NCEDC\\_Search\\_Results</TITLE></HEAD><BODY>Your search parameters are:<ul>'\n",
       "\\item '<li>catalog=ANSS'\n",
       "\\item '<li>start\\_time=2002/01/01,00:00:00'\n",
       "\\item '<li>end\\_time=2016/01/01,00:00:00'\n",
       "\\item '<li>minimum\\_magnitude=6.0'\n",
       "\\item '<li>maximum\\_magnitude=10'\n",
       "\\item '<li>event\\_type=E'\n",
       "\\item '</ul>'\n",
       "\\item '<PRE>'\n",
       "\\item 'Date       Time             Lat       Lon  Depth   Mag Magt  Nst Gap  Clo  RMS  SRC   Event ID'\n",
       "\\item '----------------------------------------------------------------------------------------------'\n",
       "\\item '</PRE>'\n",
       "\\item '</BODY></HTML>'\n",
       "\\end{enumerate*}\n"
      ],
      "text/markdown": [
       "1. '&lt;HTML&gt;&lt;HEAD&gt;&lt;TITLE&gt;NCEDC_Search_Results&lt;/TITLE&gt;&lt;/HEAD&gt;&lt;BODY&gt;Your search parameters are:&lt;ul&gt;'\n",
       "2. '&lt;li&gt;catalog=ANSS'\n",
       "3. '&lt;li&gt;start_time=2002/01/01,00:00:00'\n",
       "4. '&lt;li&gt;end_time=2016/01/01,00:00:00'\n",
       "5. '&lt;li&gt;minimum_magnitude=6.0'\n",
       "6. '&lt;li&gt;maximum_magnitude=10'\n",
       "7. '&lt;li&gt;event_type=E'\n",
       "8. '&lt;/ul&gt;'\n",
       "9. '&lt;PRE&gt;'\n",
       "10. <span style=white-space:pre-wrap>'Date       Time             Lat       Lon  Depth   Mag Magt  Nst Gap  Clo  RMS  SRC   Event ID'</span>\n",
       "11. '----------------------------------------------------------------------------------------------'\n",
       "12. '&lt;/PRE&gt;'\n",
       "13. '&lt;/BODY&gt;&lt;/HTML&gt;'\n",
       "\n",
       "\n"
      ],
      "text/plain": [
       " [1] \"<HTML><HEAD><TITLE>NCEDC_Search_Results</TITLE></HEAD><BODY>Your search parameters are:<ul>\"   \n",
       " [2] \"<li>catalog=ANSS\"                                                                              \n",
       " [3] \"<li>start_time=2002/01/01,00:00:00\"                                                            \n",
       " [4] \"<li>end_time=2016/01/01,00:00:00\"                                                              \n",
       " [5] \"<li>minimum_magnitude=6.0\"                                                                     \n",
       " [6] \"<li>maximum_magnitude=10\"                                                                      \n",
       " [7] \"<li>event_type=E\"                                                                              \n",
       " [8] \"</ul>\"                                                                                         \n",
       " [9] \"<PRE>\"                                                                                         \n",
       "[10] \"Date       Time             Lat       Lon  Depth   Mag Magt  Nst Gap  Clo  RMS  SRC   Event ID\"\n",
       "[11] \"----------------------------------------------------------------------------------------------\"\n",
       "[12] \"</PRE>\"                                                                                        \n",
       "[13] \"</BODY></HTML>\"                                                                                "
      ]
     },
     "metadata": {},
     "output_type": "display_data"
    }
   ],
   "source": [
    "# What are we leaving behind?\n",
    "grep(quakes, pattern = \"^\\\\d{4}/\\\\d{2}/\\\\d{2}\", invert = TRUE, value = TRUE)"
   ]
  },
  {
   "cell_type": "markdown",
   "id": "b72e3f52",
   "metadata": {},
   "source": [
    "## Task\n",
    "• We just extracted the lines we need by noting that they all begin with a date. The lines we need also seem to all end in an event i.d. which is a 12 digit code. Use this idea with grep() to extract the lines of actual data.\n",
    "\n",
    "• This won’t work – we leave behind some data lines. What happened?\n",
    "\n",
    "• How else could we search for the data using regular expressions?"
   ]
  },
  {
   "cell_type": "code",
   "execution_count": 47,
   "id": "11cc048a",
   "metadata": {
    "scrolled": false
   },
   "outputs": [
    {
     "data": {
      "text/html": [
       "2269"
      ],
      "text/latex": [
       "2269"
      ],
      "text/markdown": [
       "2269"
      ],
      "text/plain": [
       "[1] 2269"
      ]
     },
     "metadata": {},
     "output_type": "display_data"
    },
    {
     "data": {
      "text/html": [
       "2254"
      ],
      "text/latex": [
       "2254"
      ],
      "text/markdown": [
       "2254"
      ],
      "text/plain": [
       "[1] 2254"
      ]
     },
     "metadata": {},
     "output_type": "display_data"
    },
    {
     "data": {
      "text/html": [
       "<span style=white-space:pre-wrap>'2002/10/23 11:27:19.43  63.5144 -147.9116   4.20  6.36   ML  114          0.87  AK              '</span>"
      ],
      "text/latex": [
       "'2002/10/23 11:27:19.43  63.5144 -147.9116   4.20  6.36   ML  114          0.87  AK              '"
      ],
      "text/markdown": [
       "<span style=white-space:pre-wrap>'2002/10/23 11:27:19.43  63.5144 -147.9116   4.20  6.36   ML  114          0.87  AK              '</span>"
      ],
      "text/plain": [
       "[1] \"2002/10/23 11:27:19.43  63.5144 -147.9116   4.20  6.36   ML  114          0.87  AK              \""
      ]
     },
     "metadata": {},
     "output_type": "display_data"
    },
    {
     "data": {
      "text/html": [
       "<span style=white-space:pre-wrap>'2002/10/24 06:08:37.98  -1.8840   29.0040  11.00  6.20   Mw  345          1.05  NEI 200210244059'</span>"
      ],
      "text/latex": [
       "'2002/10/24 06:08:37.98  -1.8840   29.0040  11.00  6.20   Mw  345          1.05  NEI 200210244059'"
      ],
      "text/markdown": [
       "<span style=white-space:pre-wrap>'2002/10/24 06:08:37.98  -1.8840   29.0040  11.00  6.20   Mw  345          1.05  NEI 200210244059'</span>"
      ],
      "text/plain": [
       "[1] \"2002/10/24 06:08:37.98  -1.8840   29.0040  11.00  6.20   Mw  345          1.05  NEI 200210244059\""
      ]
     },
     "metadata": {},
     "output_type": "display_data"
    }
   ],
   "source": [
    "# 这种方法会丢失几项\n",
    "new_quakes1 <- grep(pattern = \"\\\\d{12}$\", quakes, value = TRUE)\n",
    "\n",
    "length(new_quakes)\n",
    "length(new_quakes1)\n",
    "\n",
    "# 用which()函数可以锁定第一个不匹配出现在第116项，发现new_quakes的第116项出现了缺失值\n",
    "new_quakes[116]\n",
    "new_quakes1[116]"
   ]
  },
  {
   "cell_type": "markdown",
   "id": "35e92e56",
   "metadata": {},
   "source": [
    "## More Commands in the grep() Family\n",
    "All return information about where regular expressions are matched in a string.\n",
    "\n",
    "| functions | results |\n",
    "| :--- | :--- |\n",
    "| grepl() | returns a logical indicating a match. |\n",
    "| regexpr() | returns the location of the first match with attributes like the length of the match. |\n",
    "| gregexpr() | works similarly to regexpr(), but returns all matching locations. ‘g’ for global. |\n",
    "| regmatches() | takes strings and the output of regexpr() or gregexpr() and returns the actual matching strings. |"
   ]
  },
  {
   "cell_type": "markdown",
   "id": "d5b086c8",
   "metadata": {},
   "source": [
    "## Examples"
   ]
  },
  {
   "cell_type": "code",
   "execution_count": 48,
   "id": "013a9bce",
   "metadata": {},
   "outputs": [
    {
     "data": {
      "text/html": [
       "TRUE"
      ],
      "text/latex": [
       "TRUE"
      ],
      "text/markdown": [
       "TRUE"
      ],
      "text/plain": [
       "[1] TRUE"
      ]
     },
     "metadata": {},
     "output_type": "display_data"
    },
    {
     "data": {
      "text/html": [
       "3"
      ],
      "text/latex": [
       "3"
      ],
      "text/markdown": [
       "3"
      ],
      "text/plain": [
       "[1] 3\n",
       "attr(,\"match.length\")\n",
       "[1] 2\n",
       "attr(,\"index.type\")\n",
       "[1] \"chars\"\n",
       "attr(,\"useBytes\")\n",
       "[1] TRUE"
      ]
     },
     "metadata": {},
     "output_type": "display_data"
    },
    {
     "name": "stdout",
     "output_type": "stream",
     "text": [
      "[1] 3\n",
      "attr(,\"match.length\")\n",
      "[1] 2\n",
      "attr(,\"index.type\")\n",
      "[1] \"chars\"\n",
      "attr(,\"useBytes\")\n",
      "[1] TRUE\n"
     ]
    },
    {
     "data": {
      "text/html": [
       "<ol>\n",
       "\t<li><ol class=list-inline>\n",
       "\t<li>3</li>\n",
       "\t<li>5</li>\n",
       "</ol>\n",
       "</li>\n",
       "</ol>\n"
      ],
      "text/latex": [
       "\\begin{enumerate}\n",
       "\\item \\begin{enumerate*}\n",
       "\\item 3\n",
       "\\item 5\n",
       "\\end{enumerate*}\n",
       "\n",
       "\\end{enumerate}\n"
      ],
      "text/markdown": [
       "1. 1. 3\n",
       "2. 5\n",
       "\n",
       "\n",
       "\n",
       "\n",
       "\n"
      ],
      "text/plain": [
       "[[1]]\n",
       "[1] 3 5\n",
       "attr(,\"match.length\")\n",
       "[1] 2 2\n",
       "attr(,\"index.type\")\n",
       "[1] \"chars\"\n",
       "attr(,\"useBytes\")\n",
       "[1] TRUE\n"
      ]
     },
     "metadata": {},
     "output_type": "display_data"
    },
    {
     "data": {
      "text/html": [
       "TRUE"
      ],
      "text/latex": [
       "TRUE"
      ],
      "text/markdown": [
       "TRUE"
      ],
      "text/plain": [
       "[1] TRUE"
      ]
     },
     "metadata": {},
     "output_type": "display_data"
    },
    {
     "data": {
      "text/html": [
       "<ol>\n",
       "\t<li><ol class=list-inline>\n",
       "\t<li>'ab'</li>\n",
       "\t<li>'am'</li>\n",
       "</ol>\n",
       "</li>\n",
       "</ol>\n"
      ],
      "text/latex": [
       "\\begin{enumerate}\n",
       "\\item \\begin{enumerate*}\n",
       "\\item 'ab'\n",
       "\\item 'am'\n",
       "\\end{enumerate*}\n",
       "\n",
       "\\end{enumerate}\n"
      ],
      "text/markdown": [
       "1. 1. 'ab'\n",
       "2. 'am'\n",
       "\n",
       "\n",
       "\n",
       "\n",
       "\n"
      ],
      "text/plain": [
       "[[1]]\n",
       "[1] \"ab\" \"am\"\n"
      ]
     },
     "metadata": {},
     "output_type": "display_data"
    }
   ],
   "source": [
    "# Is there a match?\n",
    "grepl(\"a[a-z]\", \"Alabama\")\n",
    "\n",
    "# Information about the first match.\n",
    "regexpr(\"a[a-z]\", \"Alabama\")\n",
    "print(regexpr(\"a[a-z]\", \"Alabama\")) # 可以发现regexpr返回的结果比较特殊，但不是list\n",
    "\n",
    "# Information on all matches.\n",
    "gregexpr(\"a[a-z]\", \"Alabama\")\n",
    "is.list(gregexpr(\"a[a-z]\", \"Alabama\")) # 这里发现，gregexpr()返回的结构是list\n",
    "\n",
    "# What are the matches?\n",
    "regmatches(\"Alabama\", gregexpr(\"a[a-z]\", \"Alabama\"))"
   ]
  },
  {
   "cell_type": "code",
   "execution_count": 54,
   "id": "53a0e350",
   "metadata": {
    "scrolled": false
   },
   "outputs": [
    {
     "data": {
      "text/html": [
       "<table>\n",
       "<thead><tr><th scope=col>Latitude</th><th scope=col>Longitude</th></tr></thead>\n",
       "<tbody>\n",
       "\t<tr><td>-55.2140 </td><td>-129.0000</td></tr>\n",
       "\t<tr><td>6.3030   </td><td>125.6500 </td></tr>\n",
       "\t<tr><td>-17.9830 </td><td>178.7440 </td></tr>\n",
       "\t<tr><td>-17.6000 </td><td>167.8560 </td></tr>\n",
       "\t<tr><td>36.0880  </td><td>70.6870  </td></tr>\n",
       "\t<tr><td>-17.6640 </td><td>168.0040 </td></tr>\n",
       "</tbody>\n",
       "</table>\n"
      ],
      "text/latex": [
       "\\begin{tabular}{ll}\n",
       " Latitude & Longitude\\\\\n",
       "\\hline\n",
       "\t -55.2140  & -129.0000\\\\\n",
       "\t 6.3030    & 125.6500 \\\\\n",
       "\t -17.9830  & 178.7440 \\\\\n",
       "\t -17.6000  & 167.8560 \\\\\n",
       "\t 36.0880   & 70.6870  \\\\\n",
       "\t -17.6640  & 168.0040 \\\\\n",
       "\\end{tabular}\n"
      ],
      "text/markdown": [
       "\n",
       "| Latitude | Longitude |\n",
       "|---|---|\n",
       "| -55.2140  | -129.0000 |\n",
       "| 6.3030    | 125.6500  |\n",
       "| -17.9830  | 178.7440  |\n",
       "| -17.6000  | 167.8560  |\n",
       "| 36.0880   | 70.6870   |\n",
       "| -17.6640  | 168.0040  |\n",
       "\n"
      ],
      "text/plain": [
       "     Latitude Longitude\n",
       "[1,] -55.2140 -129.0000\n",
       "[2,] 6.3030   125.6500 \n",
       "[3,] -17.9830 178.7440 \n",
       "[4,] -17.6000 167.8560 \n",
       "[5,] 36.0880  70.6870  \n",
       "[6,] -17.6640 168.0040 "
      ]
     },
     "metadata": {},
     "output_type": "display_data"
    }
   ],
   "source": [
    "# Let’s Extract the (longitude, latitude) Pairs\n",
    "# 我的代码：\n",
    "\n",
    "new_quakes2 <- c()\n",
    "for(row in quakes){\n",
    "    row_data <- regmatches(row, gregexpr(\"(-?\\\\d+\\\\.\\\\d{4})\", row))\n",
    "    new_quakes2 <- append(new_quakes2, row_data[[1]][1])\n",
    "    new_quakes2 <- append(new_quakes2, row_data[[1]][2])\n",
    "}\n",
    "\n",
    "location_matrix <- matrix(na.omit(new_quakes2), ncol = 2, byrow = TRUE)\n",
    "\n",
    "colnames(location_matrix) <- c(\"Latitude\", \"Longitude\")\n",
    "head(location_matrix)"
   ]
  },
  {
   "cell_type": "code",
   "execution_count": 60,
   "id": "4bdc8918",
   "metadata": {
    "scrolled": true
   },
   "outputs": [
    {
     "data": {
      "text/html": [
       "<ol>\n",
       "\t<li>24</li>\n",
       "\t<li>26</li>\n",
       "\t<li>24</li>\n",
       "\t<li>24</li>\n",
       "\t<li>25</li>\n",
       "\t<li>24</li>\n",
       "</ol>\n"
      ],
      "text/latex": [
       "\\begin{enumerate}\n",
       "\\item 24\n",
       "\\item 26\n",
       "\\item 24\n",
       "\\item 24\n",
       "\\item 25\n",
       "\\item 24\n",
       "\\end{enumerate}\n"
      ],
      "text/markdown": [
       "1. 24\n",
       "2. 26\n",
       "3. 24\n",
       "4. 24\n",
       "5. 25\n",
       "6. 24\n",
       "\n",
       "\n"
      ],
      "text/plain": [
       "[[1]]\n",
       "[1] 24\n",
       "attr(,\"match.length\")\n",
       "[1] 18\n",
       "attr(,\"index.type\")\n",
       "[1] \"chars\"\n",
       "attr(,\"useBytes\")\n",
       "[1] TRUE\n",
       "\n",
       "[[2]]\n",
       "[1] 26\n",
       "attr(,\"match.length\")\n",
       "[1] 16\n",
       "attr(,\"index.type\")\n",
       "[1] \"chars\"\n",
       "attr(,\"useBytes\")\n",
       "[1] TRUE\n",
       "\n",
       "[[3]]\n",
       "[1] 24\n",
       "attr(,\"match.length\")\n",
       "[1] 18\n",
       "attr(,\"index.type\")\n",
       "[1] \"chars\"\n",
       "attr(,\"useBytes\")\n",
       "[1] TRUE\n",
       "\n",
       "[[4]]\n",
       "[1] 24\n",
       "attr(,\"match.length\")\n",
       "[1] 18\n",
       "attr(,\"index.type\")\n",
       "[1] \"chars\"\n",
       "attr(,\"useBytes\")\n",
       "[1] TRUE\n",
       "\n",
       "[[5]]\n",
       "[1] 25\n",
       "attr(,\"match.length\")\n",
       "[1] 17\n",
       "attr(,\"index.type\")\n",
       "[1] \"chars\"\n",
       "attr(,\"useBytes\")\n",
       "[1] TRUE\n",
       "\n",
       "[[6]]\n",
       "[1] 24\n",
       "attr(,\"match.length\")\n",
       "[1] 18\n",
       "attr(,\"index.type\")\n",
       "[1] \"chars\"\n",
       "attr(,\"useBytes\")\n",
       "[1] TRUE\n"
      ]
     },
     "metadata": {},
     "output_type": "display_data"
    },
    {
     "data": {
      "text/html": [
       "<table>\n",
       "<thead><tr><th scope=col>Latitude</th><th scope=col>Longitude</th></tr></thead>\n",
       "<tbody>\n",
       "\t<tr><td>-55.2140 </td><td>-129.0000</td></tr>\n",
       "\t<tr><td>6.3030   </td><td>125.6500 </td></tr>\n",
       "\t<tr><td>-17.9830 </td><td>178.7440 </td></tr>\n",
       "\t<tr><td>-17.6000 </td><td>167.8560 </td></tr>\n",
       "\t<tr><td>36.0880  </td><td>70.6870  </td></tr>\n",
       "\t<tr><td>-17.6640 </td><td>168.0040 </td></tr>\n",
       "</tbody>\n",
       "</table>\n"
      ],
      "text/latex": [
       "\\begin{tabular}{ll}\n",
       " Latitude & Longitude\\\\\n",
       "\\hline\n",
       "\t -55.2140  & -129.0000\\\\\n",
       "\t 6.3030    & 125.6500 \\\\\n",
       "\t -17.9830  & 178.7440 \\\\\n",
       "\t -17.6000  & 167.8560 \\\\\n",
       "\t 36.0880   & 70.6870  \\\\\n",
       "\t -17.6640  & 168.0040 \\\\\n",
       "\\end{tabular}\n"
      ],
      "text/markdown": [
       "\n",
       "| Latitude | Longitude |\n",
       "|---|---|\n",
       "| -55.2140  | -129.0000 |\n",
       "| 6.3030    | 125.6500  |\n",
       "| -17.9830  | 178.7440  |\n",
       "| -17.6000  | 167.8560  |\n",
       "| 36.0880   | 70.6870   |\n",
       "| -17.6640  | 168.0040  |\n",
       "\n"
      ],
      "text/plain": [
       "     Latitude Longitude\n",
       "[1,] -55.2140 -129.0000\n",
       "[2,] 6.3030   125.6500 \n",
       "[3,] -17.9830 178.7440 \n",
       "[4,] -17.6000 167.8560 \n",
       "[5,] 36.0880  70.6870  \n",
       "[6,] -17.6640 168.0040 "
      ]
     },
     "metadata": {},
     "output_type": "display_data"
    }
   ],
   "source": [
    "# 用sapply()也能实现\n",
    "\n",
    "full_exp <- \"-?\\\\d+\\\\.\\\\d{4}\\\\s+-?\\\\d+\\\\.\\\\d{4}\"\n",
    "\n",
    "right_place <- grepl(pattern = full_exp, quakes)\n",
    "\n",
    "matches <- regmatches(quakes[right_place], gregexpr(full_exp, quakes[right_place]))\n",
    "\n",
    "location_vec <- sapply(matches, strsplit, split = \"\\\\s+\")\n",
    "location_vec <- unlist(location_vec)\n",
    "\n",
    "location_matrix1 <- matrix(location_vec, ncol = 2, byrow = TRUE)\n",
    "colnames(location_matrix1) <- c(\"Latitude\", \"Longitude\")\n",
    "\n",
    "head(location_matrix1)"
   ]
  },
  {
   "cell_type": "code",
   "execution_count": 51,
   "id": "35d0cf10",
   "metadata": {
    "scrolled": true
   },
   "outputs": [
    {
     "data": {
      "image/png": "[encoded data removed]",
      "text/plain": [
       "plot without title"
      ]
     },
     "metadata": {},
     "output_type": "display_data"
    }
   ],
   "source": [
    "library(maps)\n",
    "\n",
    "map(\"world\")\n",
    "points(location_matrix[,\"Longitude\"], location_matrix[,\"Latitude\"], \n",
    "       pch = 19, col = \"red\", cex = .5)"
   ]
  },
  {
   "cell_type": "markdown",
   "id": "41a06ef7",
   "metadata": {},
   "source": [
    "# What is Web Scraping?\n",
    "\n",
    "• We’ve learned about getting data in and out of R when it's structured: read.table(), read.csv(), etc.\n",
    "\n",
    "• Often, like the last example, it's not as structured.\n",
    "\n",
    "• Could have metadata.\n",
    "\n",
    "• Non-tabular arrangement.\n",
    "\n",
    "• In general this is true of data on the web.\n",
    "\n",
    "• Webpages are generally designed for humans to read.\n",
    "\n",
    "• Use a computer to extract the information we actually want.\n",
    "\n",
    "• Iterate the process.\n",
    "\n",
    "## Strategy\n",
    "• Read in line-by-line and split into a nicer format (generally requires a lot of regular expressions).\n",
    "\n",
    "• Take in unstructured pages, return rigidly-formatted data.\n",
    "\n",
    "## How do we use the computer extract the information we want?\n",
    "• Information is somewhere in the page source, usually in the HTML code.\n",
    "\n",
    "• Often some sort of marker or pointer surrounding the data (again, usually HTML).\n",
    "\n",
    "• Pick apart the HTML to leave the data using regular expressions.\n",
    "\n",
    "## How do we pick apart HTML code with regular expressions?\n",
    "• What exactly do we want from the page?\n",
    "\n",
    "• How is the page organized? Where is the information we want located?\n",
    "\n",
    "• How does it show up on the webpage?\n",
    "\n",
    "• How is that represented in the HTML?\n",
    "\n",
    "• Write a function to automate the information extraction.\n",
    "\n",
    "• Now iterate over relevant pages.\n"
   ]
  },
  {
   "cell_type": "code",
   "execution_count": null,
   "id": "416316ab",
   "metadata": {},
   "outputs": [],
   "source": []
  }
 ],
 "metadata": {
  "kernelspec": {
   "display_name": "R",
   "language": "R",
   "name": "ir"
  },
  "language_info": {
   "codemirror_mode": "r",
   "file_extension": ".r",
   "mimetype": "text/x-r-source",
   "name": "R",
   "pygments_lexer": "r",
   "version": "3.6.1"
  }
 },
 "nbformat": 4,
 "nbformat_minor": 5
}
