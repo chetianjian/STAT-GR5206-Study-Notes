{
 "cells": [
  {
   "cell_type": "code",
   "execution_count": 1,
   "id": "317a102c",
   "metadata": {},
   "outputs": [],
   "source": [
    "x <- c(1,2,4,23,5,2,4,2)"
   ]
  },
  {
   "cell_type": "code",
   "execution_count": 2,
   "id": "b996aa38",
   "metadata": {},
   "outputs": [
    {
     "data": {
      "text/html": [
       "<ol class=list-inline>\n",
       "\t<li>1</li>\n",
       "\t<li>2</li>\n",
       "\t<li>4</li>\n",
       "\t<li>23</li>\n",
       "\t<li>5</li>\n",
       "\t<li>2</li>\n",
       "\t<li>4</li>\n",
       "\t<li>2</li>\n",
       "</ol>\n"
      ],
      "text/latex": [
       "\\begin{enumerate*}\n",
       "\\item 1\n",
       "\\item 2\n",
       "\\item 4\n",
       "\\item 23\n",
       "\\item 5\n",
       "\\item 2\n",
       "\\item 4\n",
       "\\item 2\n",
       "\\end{enumerate*}\n"
      ],
      "text/markdown": [
       "1. 1\n",
       "2. 2\n",
       "3. 4\n",
       "4. 23\n",
       "5. 5\n",
       "6. 2\n",
       "7. 4\n",
       "8. 2\n",
       "\n",
       "\n"
      ],
      "text/plain": [
       "[1]  1  2  4 23  5  2  4  2"
      ]
     },
     "metadata": {},
     "output_type": "display_data"
    }
   ],
   "source": [
    "x"
   ]
  },
  {
   "cell_type": "code",
   "execution_count": 3,
   "id": "f59f5098",
   "metadata": {},
   "outputs": [],
   "source": [
    "x<- sort(x)"
   ]
  },
  {
   "cell_type": "code",
   "execution_count": 4,
   "id": "27c74e40",
   "metadata": {},
   "outputs": [
    {
     "data": {
      "text/html": [
       "<ol class=list-inline>\n",
       "\t<li>1</li>\n",
       "\t<li>2</li>\n",
       "\t<li>2</li>\n",
       "\t<li>2</li>\n",
       "\t<li>4</li>\n",
       "\t<li>4</li>\n",
       "\t<li>5</li>\n",
       "\t<li>23</li>\n",
       "</ol>\n"
      ],
      "text/latex": [
       "\\begin{enumerate*}\n",
       "\\item 1\n",
       "\\item 2\n",
       "\\item 2\n",
       "\\item 2\n",
       "\\item 4\n",
       "\\item 4\n",
       "\\item 5\n",
       "\\item 23\n",
       "\\end{enumerate*}\n"
      ],
      "text/markdown": [
       "1. 1\n",
       "2. 2\n",
       "3. 2\n",
       "4. 2\n",
       "5. 4\n",
       "6. 4\n",
       "7. 5\n",
       "8. 23\n",
       "\n",
       "\n"
      ],
      "text/plain": [
       "[1]  1  2  2  2  4  4  5 23"
      ]
     },
     "metadata": {},
     "output_type": "display_data"
    }
   ],
   "source": [
    "x"
   ]
  },
  {
   "cell_type": "code",
   "execution_count": 5,
   "id": "8e4a20a5",
   "metadata": {},
   "outputs": [
    {
     "data": {
      "text/html": [
       "<ol class=list-inline>\n",
       "\t<li>2</li>\n",
       "\t<li>2</li>\n",
       "\t<li>2</li>\n",
       "\t<li>4</li>\n",
       "\t<li>4</li>\n",
       "\t<li>5</li>\n",
       "\t<li>23</li>\n",
       "</ol>\n"
      ],
      "text/latex": [
       "\\begin{enumerate*}\n",
       "\\item 2\n",
       "\\item 2\n",
       "\\item 2\n",
       "\\item 4\n",
       "\\item 4\n",
       "\\item 5\n",
       "\\item 23\n",
       "\\end{enumerate*}\n"
      ],
      "text/markdown": [
       "1. 2\n",
       "2. 2\n",
       "3. 2\n",
       "4. 4\n",
       "5. 4\n",
       "6. 5\n",
       "7. 23\n",
       "\n",
       "\n"
      ],
      "text/plain": [
       "[1]  2  2  2  4  4  5 23"
      ]
     },
     "metadata": {},
     "output_type": "display_data"
    }
   ],
   "source": [
    "x[-1]"
   ]
  },
  {
   "cell_type": "code",
   "execution_count": 7,
   "id": "95883847",
   "metadata": {},
   "outputs": [
    {
     "data": {
      "text/html": [
       "23"
      ],
      "text/latex": [
       "23"
      ],
      "text/markdown": [
       "23"
      ],
      "text/plain": [
       "[1] 23"
      ]
     },
     "metadata": {},
     "output_type": "display_data"
    }
   ],
   "source": [
    "x[length(x)]"
   ]
  },
  {
   "cell_type": "code",
   "execution_count": 25,
   "id": "4d1a79d3",
   "metadata": {},
   "outputs": [
    {
     "data": {
      "text/html": [
       "<ol class=list-inline>\n",
       "\t<li>2</li>\n",
       "\t<li>4</li>\n",
       "\t<li>23</li>\n",
       "\t<li>5</li>\n",
       "\t<li>2</li>\n",
       "\t<li>4</li>\n",
       "\t<li>2</li>\n",
       "\t<li>&lt;NA&gt;</li>\n",
       "</ol>\n"
      ],
      "text/latex": [
       "\\begin{enumerate*}\n",
       "\\item 2\n",
       "\\item 4\n",
       "\\item 23\n",
       "\\item 5\n",
       "\\item 2\n",
       "\\item 4\n",
       "\\item 2\n",
       "\\item <NA>\n",
       "\\end{enumerate*}\n"
      ],
      "text/markdown": [
       "1. 2\n",
       "2. 4\n",
       "3. 23\n",
       "4. 5\n",
       "5. 2\n",
       "6. 4\n",
       "7. 2\n",
       "8. &lt;NA&gt;\n",
       "\n",
       "\n"
      ],
      "text/plain": [
       "[1]  2  4 23  5  2  4  2 NA"
      ]
     },
     "metadata": {},
     "output_type": "display_data"
    }
   ],
   "source": [
    "x\n",
    "\n"
   ]
  },
  {
   "cell_type": "code",
   "execution_count": 13,
   "id": "8b31236b",
   "metadata": {},
   "outputs": [],
   "source": []
  },
  {
   "cell_type": "code",
   "execution_count": 15,
   "id": "a230e9cd",
   "metadata": {},
   "outputs": [],
   "source": []
  },
  {
   "cell_type": "code",
   "execution_count": 16,
   "id": "7f20720d",
   "metadata": {},
   "outputs": [
    {
     "data": {
      "text/html": [
       "<ol class=list-inline>\n",
       "\t<li>1</li>\n",
       "\t<li>2</li>\n",
       "\t<li>4</li>\n",
       "\t<li>23</li>\n",
       "\t<li>5</li>\n",
       "\t<li>2</li>\n",
       "\t<li>4</li>\n",
       "\t<li>2</li>\n",
       "</ol>\n"
      ],
      "text/latex": [
       "\\begin{enumerate*}\n",
       "\\item 1\n",
       "\\item 2\n",
       "\\item 4\n",
       "\\item 23\n",
       "\\item 5\n",
       "\\item 2\n",
       "\\item 4\n",
       "\\item 2\n",
       "\\end{enumerate*}\n"
      ],
      "text/markdown": [
       "1. 1\n",
       "2. 2\n",
       "3. 4\n",
       "4. 23\n",
       "5. 5\n",
       "6. 2\n",
       "7. 4\n",
       "8. 2\n",
       "\n",
       "\n"
      ],
      "text/plain": [
       "[1]  1  2  4 23  5  2  4  2"
      ]
     },
     "metadata": {},
     "output_type": "display_data"
    }
   ],
   "source": [
    "x"
   ]
  },
  {
   "cell_type": "code",
   "execution_count": 19,
   "id": "4d0fc1d3",
   "metadata": {},
   "outputs": [
    {
     "data": {
      "text/html": [
       "<ol class=list-inline>\n",
       "\t<li>1</li>\n",
       "\t<li>1</li>\n",
       "\t<li>4.75</li>\n",
       "\t<li>-0.782608695652174</li>\n",
       "\t<li>-0.6</li>\n",
       "\t<li>1</li>\n",
       "\t<li>-0.5</li>\n",
       "\t<li>&lt;NA&gt;</li>\n",
       "</ol>\n"
      ],
      "text/latex": [
       "\\begin{enumerate*}\n",
       "\\item 1\n",
       "\\item 1\n",
       "\\item 4.75\n",
       "\\item -0.782608695652174\n",
       "\\item -0.6\n",
       "\\item 1\n",
       "\\item -0.5\n",
       "\\item <NA>\n",
       "\\end{enumerate*}\n"
      ],
      "text/markdown": [
       "1. 1\n",
       "2. 1\n",
       "3. 4.75\n",
       "4. -0.782608695652174\n",
       "5. -0.6\n",
       "6. 1\n",
       "7. -0.5\n",
       "8. &lt;NA&gt;\n",
       "\n",
       "\n"
      ],
      "text/plain": [
       "[1]  1.0000000  1.0000000  4.7500000 -0.7826087 -0.6000000  1.0000000 -0.5000000\n",
       "[8]         NA"
      ]
     },
     "metadata": {},
     "output_type": "display_data"
    }
   ],
   "source": [
    "x <- c(1,2,4,23,5,2,4,2)\n",
    "a <- x\n",
    "x <- x[c(-1)]\n",
    "x <- append(x, NA)\n",
    "(x - a)/a"
   ]
  },
  {
   "cell_type": "code",
   "execution_count": 20,
   "id": "7875bf9f",
   "metadata": {},
   "outputs": [
    {
     "data": {
      "text/html": [
       "<ol class=list-inline>\n",
       "\t<li>2</li>\n",
       "\t<li>4</li>\n",
       "\t<li>23</li>\n",
       "\t<li>5</li>\n",
       "\t<li>2</li>\n",
       "\t<li>4</li>\n",
       "\t<li>2</li>\n",
       "\t<li>&lt;NA&gt;</li>\n",
       "</ol>\n"
      ],
      "text/latex": [
       "\\begin{enumerate*}\n",
       "\\item 2\n",
       "\\item 4\n",
       "\\item 23\n",
       "\\item 5\n",
       "\\item 2\n",
       "\\item 4\n",
       "\\item 2\n",
       "\\item <NA>\n",
       "\\end{enumerate*}\n"
      ],
      "text/markdown": [
       "1. 2\n",
       "2. 4\n",
       "3. 23\n",
       "4. 5\n",
       "5. 2\n",
       "6. 4\n",
       "7. 2\n",
       "8. &lt;NA&gt;\n",
       "\n",
       "\n"
      ],
      "text/plain": [
       "[1]  2  4 23  5  2  4  2 NA"
      ]
     },
     "metadata": {},
     "output_type": "display_data"
    }
   ],
   "source": [
    "x"
   ]
  },
  {
   "cell_type": "code",
   "execution_count": 29,
   "id": "369fb01a",
   "metadata": {},
   "outputs": [
    {
     "data": {
      "text/html": [
       "<ol class=list-inline>\n",
       "\t<li>2</li>\n",
       "\t<li>4</li>\n",
       "\t<li>23</li>\n",
       "\t<li>5</li>\n",
       "\t<li>2</li>\n",
       "\t<li>4</li>\n",
       "\t<li>2</li>\n",
       "\t<li>&lt;NA&gt;</li>\n",
       "</ol>\n"
      ],
      "text/latex": [
       "\\begin{enumerate*}\n",
       "\\item 2\n",
       "\\item 4\n",
       "\\item 23\n",
       "\\item 5\n",
       "\\item 2\n",
       "\\item 4\n",
       "\\item 2\n",
       "\\item <NA>\n",
       "\\end{enumerate*}\n"
      ],
      "text/markdown": [
       "1. 2\n",
       "2. 4\n",
       "3. 23\n",
       "4. 5\n",
       "5. 2\n",
       "6. 4\n",
       "7. 2\n",
       "8. &lt;NA&gt;\n",
       "\n",
       "\n"
      ],
      "text/plain": [
       "[1]  2  4 23  5  2  4  2 NA"
      ]
     },
     "metadata": {},
     "output_type": "display_data"
    }
   ],
   "source": [
    "x"
   ]
  },
  {
   "cell_type": "code",
   "execution_count": 30,
   "id": "3ccc2cd1",
   "metadata": {},
   "outputs": [],
   "source": [
    "a <- x[-1]"
   ]
  },
  {
   "cell_type": "code",
   "execution_count": 32,
   "id": "49eac3de",
   "metadata": {},
   "outputs": [
    {
     "data": {
      "image/png": "[encoded data removed]",
      "text/plain": [
       "plot without title"
      ]
     },
     "metadata": {},
     "output_type": "display_data"
    }
   ],
   "source": [
    "my_AR1 <- function(n, phi, sigma, e1){\n",
    "  e1=0\n",
    "  out <- rep(NA,n)\n",
    "  out[1] <- 0\n",
    "  for(i in 2: n ){\n",
    "    e1 <- phi*e1+rnorm(1,0,sigma)\n",
    "    out[i] <- e1\n",
    "  }\n",
    " return(out) \n",
    "}\n",
    "set.seed(2)\n",
    "AR1_sim <- my_AR1(n=150,phi=.9,sigma=2,e1=0)\n",
    "ploy.x <- seq(1:150)\n",
    "plot(ploy.x,AR1_sim)"
   ]
  },
  {
   "cell_type": "code",
   "execution_count": 39,
   "id": "93b3d43d",
   "metadata": {},
   "outputs": [
    {
     "data": {
      "text/html": [
       "<ol class=list-inline>\n",
       "\t<li>4.90894558791778</li>\n",
       "\t<li>0.846951267253274</li>\n",
       "</ol>\n"
      ],
      "text/latex": [
       "\\begin{enumerate*}\n",
       "\\item 4.90894558791778\n",
       "\\item 0.846951267253274\n",
       "\\end{enumerate*}\n"
      ],
      "text/markdown": [
       "1. 4.90894558791778\n",
       "2. 0.846951267253274\n",
       "\n",
       "\n"
      ],
      "text/plain": [
       "[1] 4.9089456 0.8469513"
      ]
     },
     "metadata": {},
     "output_type": "display_data"
    },
    {
     "data": {
      "text/html": [
       "2.21561404308552"
      ],
      "text/latex": [
       "2.21561404308552"
      ],
      "text/markdown": [
       "2.21561404308552"
      ],
      "text/plain": [
       "[1] 2.215614"
      ]
     },
     "metadata": {},
     "output_type": "display_data"
    },
    {
     "data": {
      "text/html": [
       "0.846951267253274"
      ],
      "text/latex": [
       "0.846951267253274"
      ],
      "text/markdown": [
       "0.846951267253274"
      ],
      "text/plain": [
       "[1] 0.8469513"
      ]
     },
     "metadata": {},
     "output_type": "display_data"
    },
    {
     "data": {
      "text/html": [
       "17.3573380544175"
      ],
      "text/latex": [
       "17.3573380544175"
      ],
      "text/markdown": [
       "17.3573380544175"
      ],
      "text/plain": [
       "[1] 17.35734"
      ]
     },
     "metadata": {},
     "output_type": "display_data"
    },
    {
     "data": {
      "text/html": [
       "17.3661298424339"
      ],
      "text/latex": [
       "17.3661298424339"
      ],
      "text/markdown": [
       "17.3661298424339"
      ],
      "text/plain": [
       "[1] 17.36613"
      ]
     },
     "metadata": {},
     "output_type": "display_data"
    }
   ],
   "source": [
    "\n",
    "suppressWarnings(nlm(neg.ll.AR1,c(5,.9),AR1_sim)$estimate)\n",
    "\n",
    "suppressWarnings(sigma_mle <- sqrt(nlm(neg.ll.AR1,c(5,.9),AR1_sim)$estimate[1]))\n",
    "\n",
    "\n",
    "suppressWarnings(phi_mle<-nlm(neg.ll.AR1,c(5,.9),AR1_sim)$estimate[2])\n",
    "\n",
    "sigma_mle\n",
    "phi_mle\n",
    "# The MLE values of sigma_mle and phi_mle are similar to the real ones which means they have good estimation\n",
    "var(AR1_sim)\n",
    "sigma_mle^2/(1-phi_mle^2)\n",
    "# sample variance of AR1_sim  are very approaching to the quantity"
   ]
  },
  {
   "cell_type": "code",
   "execution_count": 41,
   "id": "8df3497d",
   "metadata": {},
   "outputs": [
    {
     "data": {
      "text/html": [
       "17.3573380544175"
      ],
      "text/latex": [
       "17.3573380544175"
      ],
      "text/markdown": [
       "17.3573380544175"
      ],
      "text/plain": [
       "[1] 17.35734"
      ]
     },
     "metadata": {},
     "output_type": "display_data"
    }
   ],
   "source": [
    "\n",
    "e <- mean(AR1_sim)\n",
    "sum((AR1_sim-e)%*%(AR1_sim-e))/(length(AR1_sim)-1)"
   ]
  },
  {
   "cell_type": "code",
   "execution_count": 42,
   "id": "69db62dc",
   "metadata": {},
   "outputs": [
    {
     "ename": "ERROR",
     "evalue": "Error in dnorm(ts_data[[1]], 0, sqrt(sigma_square/(1 - phi^2)), log = TRUE): 找不到对象'res'\n",
     "output_type": "error",
     "traceback": [
      "Error in dnorm(ts_data[[1]], 0, sqrt(sigma_square/(1 - phi^2)), log = TRUE): 找不到对象'res'\nTraceback:\n",
      "1. nlm(neg.ll.AR1, c(5, 0.9), res)",
      "2. (function (x) \n . f(x, ...))(c(5, 0.9))",
      "3. f(x, ...)",
      "4. dnorm(ts_data[[1]], 0, sqrt(sigma_square/(1 - phi^2)), log = TRUE)   # at line 6 of file <text>"
     ]
    }
   ],
   "source": [
    "nlm(neg.ll.AR1,c(5,.9),res)$estimate"
   ]
  },
  {
   "cell_type": "code",
   "execution_count": null,
   "id": "8d5eec0c",
   "metadata": {},
   "outputs": [],
   "source": []
  }
 ],
 "metadata": {
  "kernelspec": {
   "display_name": "R",
   "language": "R",
   "name": "ir"
  },
  "language_info": {
   "codemirror_mode": "r",
   "file_extension": ".r",
   "mimetype": "text/x-r-source",
   "name": "R",
   "pygments_lexer": "r",
   "version": "3.6.1"
  }
 },
 "nbformat": 4,
 "nbformat_minor": 5
}
